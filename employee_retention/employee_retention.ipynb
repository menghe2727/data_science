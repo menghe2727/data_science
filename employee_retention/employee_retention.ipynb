{
 "cells": [
  {
   "cell_type": "markdown",
   "metadata": {
    "collapsed": true,
    "pycharm": {
     "name": "#%% md\n"
    }
   },
   "source": [
    "# Goal\n",
    "\n",
    "Employee turn-over is a very costly problem for companies. The cost of replacing an employee\n",
    "if often larger than 100K USD, taking into account the time spent to interview and find a\n",
    "replacement, placement fees, sign-on bonuses and the loss of productivity for several months.\n",
    "\n",
    "It is only natural then that data science has started being applied to this area. Understanding\n",
    "why and when employees are most likely to leave can lead to actions to improve employee\n",
    "retention as well as planning new hiring in advance. This application of DS is sometimes called\n",
    "people analytics or people data science (if you see a job title: people data scientist, this is your\n",
    "job).\n",
    "\n",
    "In this challenge, you have a data set with info about the employees and have to predict when\n",
    "employees are going to quit by understanding the main drivers of employee churn.\n",
    "\n",
    "# Challenge Description\n",
    "\n",
    "We got employee data from a few companies. We have data about all employees who joined\n",
    "from 2011/01/24 to 2015/12/13. For each employee, we also know if they are still at the\n",
    "company as of 2015/12/13 or they have quit. Beside that, we have general info about the\n",
    "employee, such as avg salary during her tenure, dept, and yrs of experience.\n",
    "\n",
    "As said above, the goal is to predict employee retention and understand its main drivers.\n",
    "Specifically, you should:\n",
    "\n",
    "* Assume, for each company, that the headcount starts from zero on 2011/01/23. Estimate\n",
    "employee headcount, for each company, on each day, from 2011/01/24 to 2015/12/13.\n",
    "That is, if by 2012/03/02 2000 people have joined company 1 and 1000 of them have\n",
    "already quit, then company headcount on 2012/03/02 for company 1 would be 1000.\n",
    "You should create a table with 3 columns: day, employee_headcount, company_id.\n",
    "\n",
    "* What are the main factors that drive employee churn? Do they make sense? Explain your\n",
    "findings.\n",
    "\n",
    "* If you could add to this data set just one variable that could help explain employee churn,\n",
    "what would that be?\n",
    "\n",
    "# Data\n",
    "\n",
    "## Columns:\n",
    "\n",
    "* employee_id : id of the employee. Unique by employee per company\n",
    "* company_id : company id.\n",
    "* dept : employee dept\n",
    "* seniority : number of yrs of work experience when hired\n",
    "* salary: avg yearly salary of the employee during her tenure within the company\n",
    "* join_date: when the employee joined the company, it can only be between 2011/01/24\n",
    "and 2015/12/13\n",
    "* quit_date: when the employee left her job (if she is still employed as of 2015/12/13, this\n",
    "field is NA)\n"
   ]
  },
  {
   "cell_type": "code",
   "execution_count": 213,
   "outputs": [],
   "source": [
    "import pandas as pd\n",
    "import numpy as np\n",
    "from natsort import index_natsorted\n",
    "data = pd.read_csv('employee_retention.csv')\n",
    "data_origin = data"
   ],
   "metadata": {
    "collapsed": false,
    "pycharm": {
     "name": "#%%\n"
    }
   }
  },
  {
   "cell_type": "code",
   "execution_count": 214,
   "outputs": [
    {
     "name": "stdout",
     "output_type": "stream",
     "text": [
      "<class 'pandas.core.frame.DataFrame'>\n",
      "RangeIndex: 24702 entries, 0 to 24701\n",
      "Data columns (total 7 columns):\n",
      " #   Column       Non-Null Count  Dtype  \n",
      "---  ------       --------------  -----  \n",
      " 0   employee_id  24702 non-null  float64\n",
      " 1   company_id   24702 non-null  int64  \n",
      " 2   dept         24702 non-null  object \n",
      " 3   seniority    24702 non-null  int64  \n",
      " 4   salary       24702 non-null  float64\n",
      " 5   join_date    24702 non-null  object \n",
      " 6   quit_date    13510 non-null  object \n",
      "dtypes: float64(2), int64(2), object(3)\n",
      "memory usage: 1.3+ MB\n"
     ]
    }
   ],
   "source": [
    "# look at information of data, we can only quit date have null data\n",
    "data.info()"
   ],
   "metadata": {
    "collapsed": false,
    "pycharm": {
     "name": "#%%\n"
    }
   }
  },
  {
   "cell_type": "code",
   "execution_count": 215,
   "outputs": [
    {
     "data": {
      "text/plain": "         employee_id    company_id     seniority         salary\ncount   24702.000000  24702.000000  24702.000000   24702.000000\nmean   501604.403530      3.426969     14.127803  138183.345478\nstd    288909.026101      2.700011      8.089520   76058.184573\nmin        36.000000      1.000000      1.000000   17000.000000\n25%    250133.750000      1.000000      7.000000   79000.000000\n50%    500793.000000      2.000000     14.000000  123000.000000\n75%    753137.250000      5.000000     21.000000  187000.000000\nmax    999969.000000     12.000000     99.000000  408000.000000",
      "text/html": "<div>\n<style scoped>\n    .dataframe tbody tr th:only-of-type {\n        vertical-align: middle;\n    }\n\n    .dataframe tbody tr th {\n        vertical-align: top;\n    }\n\n    .dataframe thead th {\n        text-align: right;\n    }\n</style>\n<table border=\"1\" class=\"dataframe\">\n  <thead>\n    <tr style=\"text-align: right;\">\n      <th></th>\n      <th>employee_id</th>\n      <th>company_id</th>\n      <th>seniority</th>\n      <th>salary</th>\n    </tr>\n  </thead>\n  <tbody>\n    <tr>\n      <th>count</th>\n      <td>24702.000000</td>\n      <td>24702.000000</td>\n      <td>24702.000000</td>\n      <td>24702.000000</td>\n    </tr>\n    <tr>\n      <th>mean</th>\n      <td>501604.403530</td>\n      <td>3.426969</td>\n      <td>14.127803</td>\n      <td>138183.345478</td>\n    </tr>\n    <tr>\n      <th>std</th>\n      <td>288909.026101</td>\n      <td>2.700011</td>\n      <td>8.089520</td>\n      <td>76058.184573</td>\n    </tr>\n    <tr>\n      <th>min</th>\n      <td>36.000000</td>\n      <td>1.000000</td>\n      <td>1.000000</td>\n      <td>17000.000000</td>\n    </tr>\n    <tr>\n      <th>25%</th>\n      <td>250133.750000</td>\n      <td>1.000000</td>\n      <td>7.000000</td>\n      <td>79000.000000</td>\n    </tr>\n    <tr>\n      <th>50%</th>\n      <td>500793.000000</td>\n      <td>2.000000</td>\n      <td>14.000000</td>\n      <td>123000.000000</td>\n    </tr>\n    <tr>\n      <th>75%</th>\n      <td>753137.250000</td>\n      <td>5.000000</td>\n      <td>21.000000</td>\n      <td>187000.000000</td>\n    </tr>\n    <tr>\n      <th>max</th>\n      <td>999969.000000</td>\n      <td>12.000000</td>\n      <td>99.000000</td>\n      <td>408000.000000</td>\n    </tr>\n  </tbody>\n</table>\n</div>"
     },
     "execution_count": 215,
     "metadata": {},
     "output_type": "execute_result"
    }
   ],
   "source": [
    "data.describe()"
   ],
   "metadata": {
    "collapsed": false,
    "pycharm": {
     "name": "#%%\n"
    }
   }
  },
  {
   "cell_type": "code",
   "execution_count": 216,
   "outputs": [
    {
     "data": {
      "text/plain": "   employee_id  company_id              dept  seniority    salary   join_date  \\\n0      13021.0           7  customer_service         28   89000.0  2014-03-24   \n1     825355.0           7         marketing         20  183000.0  2013-04-29   \n2     927315.0           4         marketing         14  101000.0  2014-10-13   \n3     662910.0           7  customer_service         20  115000.0  2012-05-14   \n4     256971.0           2      data_science         23  276000.0  2011-10-17   \n\n    quit_date  \n0  2015-10-30  \n1  2014-04-04  \n2         NaN  \n3  2013-06-07  \n4  2014-08-22  ",
      "text/html": "<div>\n<style scoped>\n    .dataframe tbody tr th:only-of-type {\n        vertical-align: middle;\n    }\n\n    .dataframe tbody tr th {\n        vertical-align: top;\n    }\n\n    .dataframe thead th {\n        text-align: right;\n    }\n</style>\n<table border=\"1\" class=\"dataframe\">\n  <thead>\n    <tr style=\"text-align: right;\">\n      <th></th>\n      <th>employee_id</th>\n      <th>company_id</th>\n      <th>dept</th>\n      <th>seniority</th>\n      <th>salary</th>\n      <th>join_date</th>\n      <th>quit_date</th>\n    </tr>\n  </thead>\n  <tbody>\n    <tr>\n      <th>0</th>\n      <td>13021.0</td>\n      <td>7</td>\n      <td>customer_service</td>\n      <td>28</td>\n      <td>89000.0</td>\n      <td>2014-03-24</td>\n      <td>2015-10-30</td>\n    </tr>\n    <tr>\n      <th>1</th>\n      <td>825355.0</td>\n      <td>7</td>\n      <td>marketing</td>\n      <td>20</td>\n      <td>183000.0</td>\n      <td>2013-04-29</td>\n      <td>2014-04-04</td>\n    </tr>\n    <tr>\n      <th>2</th>\n      <td>927315.0</td>\n      <td>4</td>\n      <td>marketing</td>\n      <td>14</td>\n      <td>101000.0</td>\n      <td>2014-10-13</td>\n      <td>NaN</td>\n    </tr>\n    <tr>\n      <th>3</th>\n      <td>662910.0</td>\n      <td>7</td>\n      <td>customer_service</td>\n      <td>20</td>\n      <td>115000.0</td>\n      <td>2012-05-14</td>\n      <td>2013-06-07</td>\n    </tr>\n    <tr>\n      <th>4</th>\n      <td>256971.0</td>\n      <td>2</td>\n      <td>data_science</td>\n      <td>23</td>\n      <td>276000.0</td>\n      <td>2011-10-17</td>\n      <td>2014-08-22</td>\n    </tr>\n  </tbody>\n</table>\n</div>"
     },
     "execution_count": 216,
     "metadata": {},
     "output_type": "execute_result"
    }
   ],
   "source": [
    "data.head()\n"
   ],
   "metadata": {
    "collapsed": false,
    "pycharm": {
     "name": "#%%\n"
    }
   }
  },
  {
   "cell_type": "code",
   "execution_count": 217,
   "outputs": [],
   "source": [
    "data['join_date'] = pd.to_datetime(data.iloc[:, 5])\n",
    "data['quit_date'] = pd.to_datetime(data.iloc[:, 6])"
   ],
   "metadata": {
    "collapsed": false,
    "pycharm": {
     "name": "#%%\n"
    }
   }
  },
  {
   "cell_type": "code",
   "execution_count": 218,
   "outputs": [],
   "source": [
    "data['duration'] = data.iloc[:, 6]- data.iloc[:, 5]"
   ],
   "metadata": {
    "collapsed": false,
    "pycharm": {
     "name": "#%%\n"
    }
   }
  },
  {
   "cell_type": "code",
   "execution_count": 219,
   "outputs": [
    {
     "data": {
      "text/plain": "   employee_id  company_id              dept  seniority    salary  join_date  \\\n0      13021.0           7  customer_service         28   89000.0 2014-03-24   \n1     825355.0           7         marketing         20  183000.0 2013-04-29   \n2     927315.0           4         marketing         14  101000.0 2014-10-13   \n3     662910.0           7  customer_service         20  115000.0 2012-05-14   \n4     256971.0           2      data_science         23  276000.0 2011-10-17   \n\n   quit_date  duration  \n0 2015-10-30  585 days  \n1 2014-04-04  340 days  \n2        NaT       NaT  \n3 2013-06-07  389 days  \n4 2014-08-22 1040 days  ",
      "text/html": "<div>\n<style scoped>\n    .dataframe tbody tr th:only-of-type {\n        vertical-align: middle;\n    }\n\n    .dataframe tbody tr th {\n        vertical-align: top;\n    }\n\n    .dataframe thead th {\n        text-align: right;\n    }\n</style>\n<table border=\"1\" class=\"dataframe\">\n  <thead>\n    <tr style=\"text-align: right;\">\n      <th></th>\n      <th>employee_id</th>\n      <th>company_id</th>\n      <th>dept</th>\n      <th>seniority</th>\n      <th>salary</th>\n      <th>join_date</th>\n      <th>quit_date</th>\n      <th>duration</th>\n    </tr>\n  </thead>\n  <tbody>\n    <tr>\n      <th>0</th>\n      <td>13021.0</td>\n      <td>7</td>\n      <td>customer_service</td>\n      <td>28</td>\n      <td>89000.0</td>\n      <td>2014-03-24</td>\n      <td>2015-10-30</td>\n      <td>585 days</td>\n    </tr>\n    <tr>\n      <th>1</th>\n      <td>825355.0</td>\n      <td>7</td>\n      <td>marketing</td>\n      <td>20</td>\n      <td>183000.0</td>\n      <td>2013-04-29</td>\n      <td>2014-04-04</td>\n      <td>340 days</td>\n    </tr>\n    <tr>\n      <th>2</th>\n      <td>927315.0</td>\n      <td>4</td>\n      <td>marketing</td>\n      <td>14</td>\n      <td>101000.0</td>\n      <td>2014-10-13</td>\n      <td>NaT</td>\n      <td>NaT</td>\n    </tr>\n    <tr>\n      <th>3</th>\n      <td>662910.0</td>\n      <td>7</td>\n      <td>customer_service</td>\n      <td>20</td>\n      <td>115000.0</td>\n      <td>2012-05-14</td>\n      <td>2013-06-07</td>\n      <td>389 days</td>\n    </tr>\n    <tr>\n      <th>4</th>\n      <td>256971.0</td>\n      <td>2</td>\n      <td>data_science</td>\n      <td>23</td>\n      <td>276000.0</td>\n      <td>2011-10-17</td>\n      <td>2014-08-22</td>\n      <td>1040 days</td>\n    </tr>\n  </tbody>\n</table>\n</div>"
     },
     "execution_count": 219,
     "metadata": {},
     "output_type": "execute_result"
    }
   ],
   "source": [
    "data.head()"
   ],
   "metadata": {
    "collapsed": false,
    "pycharm": {
     "name": "#%%\n"
    }
   }
  },
  {
   "cell_type": "code",
   "execution_count": 220,
   "outputs": [
    {
     "name": "stdout",
     "output_type": "stream",
     "text": [
      "the number of unique employee id 24702\n",
      "the number of all employee id 24702\n"
     ]
    }
   ],
   "source": [
    "print(\"the number of unique employee id\", len(data['employee_id'].unique()))\n",
    "print('the number of all employee id', len(data['employee_id']))\n"
   ],
   "metadata": {
    "collapsed": false,
    "pycharm": {
     "name": "#%%\n"
    }
   }
  },
  {
   "cell_type": "code",
   "execution_count": 250,
   "outputs": [
    {
     "name": "stderr",
     "output_type": "stream",
     "text": [
      "D:\\temp\\ipykernel_57184\\253108154.py:8: FutureWarning: In a future version of pandas all arguments of DataFrame.drop except for the argument 'labels' will be keyword-only.\n",
      "  head_count = head_count.merge(company,on = 'key').drop('key', 1)\n"
     ]
    }
   ],
   "source": [
    "# create new table for head_count\n",
    "head_count = pd.DataFrame()\n",
    "company = pd.DataFrame()\n",
    "head_count['day'] = pd.date_range(pd.to_datetime('2011/01/23'), pd.to_datetime('2015/12/13'))\n",
    "head_count['key'] = 1\n",
    "company['company'] = data['company_id'].unique()\n",
    "company['key'] = 1\n",
    "head_count = head_count.merge(company,on = 'key').drop('key', 1)"
   ],
   "metadata": {
    "collapsed": false,
    "pycharm": {
     "name": "#%%\n"
    }
   }
  },
  {
   "cell_type": "code",
   "execution_count": 251,
   "outputs": [
    {
     "data": {
      "text/plain": "             day  company\n0     2011-01-23        6\n1     2011-01-23       10\n2     2011-01-23        1\n3     2011-01-23        4\n4     2011-01-23        2\n...          ...      ...\n21427 2015-12-13        7\n21428 2015-12-13        3\n21429 2015-12-13        9\n21430 2015-12-13       12\n21431 2015-12-13       11\n\n[21432 rows x 2 columns]",
      "text/html": "<div>\n<style scoped>\n    .dataframe tbody tr th:only-of-type {\n        vertical-align: middle;\n    }\n\n    .dataframe tbody tr th {\n        vertical-align: top;\n    }\n\n    .dataframe thead th {\n        text-align: right;\n    }\n</style>\n<table border=\"1\" class=\"dataframe\">\n  <thead>\n    <tr style=\"text-align: right;\">\n      <th></th>\n      <th>day</th>\n      <th>company</th>\n    </tr>\n  </thead>\n  <tbody>\n    <tr>\n      <th>0</th>\n      <td>2011-01-23</td>\n      <td>6</td>\n    </tr>\n    <tr>\n      <th>1</th>\n      <td>2011-01-23</td>\n      <td>10</td>\n    </tr>\n    <tr>\n      <th>2</th>\n      <td>2011-01-23</td>\n      <td>1</td>\n    </tr>\n    <tr>\n      <th>3</th>\n      <td>2011-01-23</td>\n      <td>4</td>\n    </tr>\n    <tr>\n      <th>4</th>\n      <td>2011-01-23</td>\n      <td>2</td>\n    </tr>\n    <tr>\n      <th>...</th>\n      <td>...</td>\n      <td>...</td>\n    </tr>\n    <tr>\n      <th>21427</th>\n      <td>2015-12-13</td>\n      <td>7</td>\n    </tr>\n    <tr>\n      <th>21428</th>\n      <td>2015-12-13</td>\n      <td>3</td>\n    </tr>\n    <tr>\n      <th>21429</th>\n      <td>2015-12-13</td>\n      <td>9</td>\n    </tr>\n    <tr>\n      <th>21430</th>\n      <td>2015-12-13</td>\n      <td>12</td>\n    </tr>\n    <tr>\n      <th>21431</th>\n      <td>2015-12-13</td>\n      <td>11</td>\n    </tr>\n  </tbody>\n</table>\n<p>21432 rows × 2 columns</p>\n</div>"
     },
     "execution_count": 251,
     "metadata": {},
     "output_type": "execute_result"
    }
   ],
   "source": [
    "head_count"
   ],
   "metadata": {
    "collapsed": false,
    "pycharm": {
     "name": "#%%\n"
    }
   }
  },
  {
   "cell_type": "code",
   "execution_count": 222,
   "outputs": [],
   "source": [
    "#calculate how many employee was join in each company\n",
    "data.set_index('join_date')\n",
    "data.sort_values(by = 'join_date', key=lambda x: np.argsort(index_natsorted(data[\"join_date\"])),inplace = True)\n",
    "data['cumcount_join'] = data.groupby('company_id').cumcount()"
   ],
   "metadata": {
    "collapsed": false,
    "pycharm": {
     "name": "#%%\n"
    }
   }
  },
  {
   "cell_type": "code",
   "execution_count": 223,
   "outputs": [],
   "source": [
    "#calculate how many employee was join in each company\n",
    "data.sort_values(by = 'quit_date', inplace = True)\n",
    "data.reset_index(inplace= True)\n",
    "data['cumcount_quit'] = data.groupby('company_id').cumcount()"
   ],
   "metadata": {
    "collapsed": false,
    "pycharm": {
     "name": "#%%\n"
    }
   }
  },
  {
   "cell_type": "code",
   "execution_count": 224,
   "outputs": [],
   "source": [
    "join_count = data.groupby(['company_id', 'join_date'], as_index= False).max()\n",
    "join_count = join_count.iloc[:,[0,1,9]]"
   ],
   "metadata": {
    "collapsed": false,
    "pycharm": {
     "name": "#%%\n"
    }
   }
  },
  {
   "cell_type": "code",
   "execution_count": 248,
   "outputs": [
    {
     "data": {
      "text/plain": "      company_id  join_date  cumcount_join\n0              1 2011-01-24             24\n1              1 2011-01-25             26\n2              1 2011-01-26             28\n3              1 2011-01-31             58\n4              1 2011-02-01             65\n...          ...        ...            ...\n5125          12 2014-05-19             19\n5126          12 2014-10-13             20\n5127          12 2015-03-23             21\n5128          12 2015-07-06             22\n5129          12 2015-07-27             23\n\n[5130 rows x 3 columns]",
      "text/html": "<div>\n<style scoped>\n    .dataframe tbody tr th:only-of-type {\n        vertical-align: middle;\n    }\n\n    .dataframe tbody tr th {\n        vertical-align: top;\n    }\n\n    .dataframe thead th {\n        text-align: right;\n    }\n</style>\n<table border=\"1\" class=\"dataframe\">\n  <thead>\n    <tr style=\"text-align: right;\">\n      <th></th>\n      <th>company_id</th>\n      <th>join_date</th>\n      <th>cumcount_join</th>\n    </tr>\n  </thead>\n  <tbody>\n    <tr>\n      <th>0</th>\n      <td>1</td>\n      <td>2011-01-24</td>\n      <td>24</td>\n    </tr>\n    <tr>\n      <th>1</th>\n      <td>1</td>\n      <td>2011-01-25</td>\n      <td>26</td>\n    </tr>\n    <tr>\n      <th>2</th>\n      <td>1</td>\n      <td>2011-01-26</td>\n      <td>28</td>\n    </tr>\n    <tr>\n      <th>3</th>\n      <td>1</td>\n      <td>2011-01-31</td>\n      <td>58</td>\n    </tr>\n    <tr>\n      <th>4</th>\n      <td>1</td>\n      <td>2011-02-01</td>\n      <td>65</td>\n    </tr>\n    <tr>\n      <th>...</th>\n      <td>...</td>\n      <td>...</td>\n      <td>...</td>\n    </tr>\n    <tr>\n      <th>5125</th>\n      <td>12</td>\n      <td>2014-05-19</td>\n      <td>19</td>\n    </tr>\n    <tr>\n      <th>5126</th>\n      <td>12</td>\n      <td>2014-10-13</td>\n      <td>20</td>\n    </tr>\n    <tr>\n      <th>5127</th>\n      <td>12</td>\n      <td>2015-03-23</td>\n      <td>21</td>\n    </tr>\n    <tr>\n      <th>5128</th>\n      <td>12</td>\n      <td>2015-07-06</td>\n      <td>22</td>\n    </tr>\n    <tr>\n      <th>5129</th>\n      <td>12</td>\n      <td>2015-07-27</td>\n      <td>23</td>\n    </tr>\n  </tbody>\n</table>\n<p>5130 rows × 3 columns</p>\n</div>"
     },
     "execution_count": 248,
     "metadata": {},
     "output_type": "execute_result"
    }
   ],
   "source": [
    "join_count"
   ],
   "metadata": {
    "collapsed": false,
    "pycharm": {
     "name": "#%%\n"
    }
   }
  },
  {
   "cell_type": "code",
   "execution_count": 225,
   "outputs": [],
   "source": [
    "quit_count = data.groupby(['company_id', 'quit_date'], as_index= False).max()\n"
   ],
   "metadata": {
    "collapsed": false,
    "pycharm": {
     "name": "#%%\n"
    }
   }
  },
  {
   "cell_type": "code",
   "execution_count": 255,
   "outputs": [],
   "source": [
    "head_count = head_count.merge(join_count, left_on=['day', 'company'], right_on = ['join_date', 'company_id'], how = 'left')"
   ],
   "metadata": {
    "collapsed": false,
    "pycharm": {
     "name": "#%%\n"
    }
   }
  },
  {
   "cell_type": "code",
   "execution_count": 254,
   "outputs": [
    {
     "data": {
      "text/plain": "            day  company  company_id  join_date  cumcount_join\n1    2011-01-24        1           1 2011-01-24             24\n9    2011-01-25        1           1 2011-01-25             26\n12   2011-01-26        1           1 2011-01-26             28\n18   2011-01-31        1           1 2011-01-31             58\n27   2011-02-01        1           1 2011-02-01             65\n...         ...      ...         ...        ...            ...\n5108 2015-12-03        1           1 2015-12-03           8460\n5113 2015-12-07        1           1 2015-12-07           8482\n5122 2015-12-08        1           1 2015-12-08           8483\n5125 2015-12-09        1           1 2015-12-09           8484\n5129 2015-12-10        1           1 2015-12-10           8485\n\n[844 rows x 5 columns]",
      "text/html": "<div>\n<style scoped>\n    .dataframe tbody tr th:only-of-type {\n        vertical-align: middle;\n    }\n\n    .dataframe tbody tr th {\n        vertical-align: top;\n    }\n\n    .dataframe thead th {\n        text-align: right;\n    }\n</style>\n<table border=\"1\" class=\"dataframe\">\n  <thead>\n    <tr style=\"text-align: right;\">\n      <th></th>\n      <th>day</th>\n      <th>company</th>\n      <th>company_id</th>\n      <th>join_date</th>\n      <th>cumcount_join</th>\n    </tr>\n  </thead>\n  <tbody>\n    <tr>\n      <th>1</th>\n      <td>2011-01-24</td>\n      <td>1</td>\n      <td>1</td>\n      <td>2011-01-24</td>\n      <td>24</td>\n    </tr>\n    <tr>\n      <th>9</th>\n      <td>2011-01-25</td>\n      <td>1</td>\n      <td>1</td>\n      <td>2011-01-25</td>\n      <td>26</td>\n    </tr>\n    <tr>\n      <th>12</th>\n      <td>2011-01-26</td>\n      <td>1</td>\n      <td>1</td>\n      <td>2011-01-26</td>\n      <td>28</td>\n    </tr>\n    <tr>\n      <th>18</th>\n      <td>2011-01-31</td>\n      <td>1</td>\n      <td>1</td>\n      <td>2011-01-31</td>\n      <td>58</td>\n    </tr>\n    <tr>\n      <th>27</th>\n      <td>2011-02-01</td>\n      <td>1</td>\n      <td>1</td>\n      <td>2011-02-01</td>\n      <td>65</td>\n    </tr>\n    <tr>\n      <th>...</th>\n      <td>...</td>\n      <td>...</td>\n      <td>...</td>\n      <td>...</td>\n      <td>...</td>\n    </tr>\n    <tr>\n      <th>5108</th>\n      <td>2015-12-03</td>\n      <td>1</td>\n      <td>1</td>\n      <td>2015-12-03</td>\n      <td>8460</td>\n    </tr>\n    <tr>\n      <th>5113</th>\n      <td>2015-12-07</td>\n      <td>1</td>\n      <td>1</td>\n      <td>2015-12-07</td>\n      <td>8482</td>\n    </tr>\n    <tr>\n      <th>5122</th>\n      <td>2015-12-08</td>\n      <td>1</td>\n      <td>1</td>\n      <td>2015-12-08</td>\n      <td>8483</td>\n    </tr>\n    <tr>\n      <th>5125</th>\n      <td>2015-12-09</td>\n      <td>1</td>\n      <td>1</td>\n      <td>2015-12-09</td>\n      <td>8484</td>\n    </tr>\n    <tr>\n      <th>5129</th>\n      <td>2015-12-10</td>\n      <td>1</td>\n      <td>1</td>\n      <td>2015-12-10</td>\n      <td>8485</td>\n    </tr>\n  </tbody>\n</table>\n<p>844 rows × 5 columns</p>\n</div>"
     },
     "execution_count": 254,
     "metadata": {},
     "output_type": "execute_result"
    }
   ],
   "source": [
    "head_count[head_count['company']==1]"
   ],
   "metadata": {
    "collapsed": false,
    "pycharm": {
     "name": "#%%\n"
    }
   }
  }
 ],
 "metadata": {
  "kernelspec": {
   "display_name": "Python 3",
   "language": "python",
   "name": "python3"
  },
  "language_info": {
   "codemirror_mode": {
    "name": "ipython",
    "version": 2
   },
   "file_extension": ".py",
   "mimetype": "text/x-python",
   "name": "python",
   "nbconvert_exporter": "python",
   "pygments_lexer": "ipython2",
   "version": "2.7.6"
  }
 },
 "nbformat": 4,
 "nbformat_minor": 0
}