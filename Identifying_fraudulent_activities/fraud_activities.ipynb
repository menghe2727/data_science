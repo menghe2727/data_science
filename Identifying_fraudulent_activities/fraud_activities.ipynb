{
 "cells": [
  {
   "cell_type": "markdown",
   "metadata": {
    "collapsed": true,
    "pycharm": {
     "name": "#%% md\n"
    }
   },
   "source": [
    "# Goal\n",
    "\n",
    "E-commerce websites often transact huge amounts of money. And whenever a huge amount of\n",
    "money is moved, there is a high risk of users performing fraudulent activities, e.g. using stolen\n",
    "credit cards, doing money laundry, etc.\n",
    "\n",
    "Machine Learning really excels at identifying fraudulent activities. Any website where you put\n",
    "your credit card information has a risk team in charge of avoiding frauds via machine learning.\n",
    "\n",
    "The goal of this challenge is to build a machine learning model that predicts the probability that\n",
    "the first transaction of a new user is fraudulent.\n",
    "\n",
    "\n",
    "# Challenge Description\n",
    "\n",
    "Company XYZ is an e-commerce site that sells hand-made clothes.\n",
    "\n",
    "You have to build a model that predicts whether a user has a high probability of using the site to\n",
    "perform some illegal activity or not. This is a super common task for data scientists.\n",
    "\n",
    "You only have information about the user first transaction on the site and based on that you\n",
    "have to make your classification (\"fraud/no fraud\").\n",
    "\n",
    "These are the tasks you are asked to do:\n",
    "\n",
    "* For each user, determine her country based on the numeric IP address.\n",
    "* Build a model to predict whether an activity is fraudulent or not. Explain how different\n",
    "assumptions about the cost of false positives vs false negatives would impact the model.\n",
    "* Your boss is a bit worried about using a model she doesn't understand for something as\n",
    "important as fraud detection. How would you explain her how the model is making the\n",
    "predictions? Not from a mathematical perspective (she couldn't care less about that), but\n",
    "from a user perspective. What kinds of users are more likely to be classified as at risk?\n",
    "What are their characteristics?\n",
    "* Let's say you now have this model which can be used live to predict in real time if an\n",
    "activity is fraudulent or not. From a product perspective, how would you use it? That is,\n",
    "what kind of different user experiences would you build based on the model output?\n",
    "\n",
    "# Data\n",
    "\n",
    "\"Fraud_Data\" - information about each user first transaction\n",
    "## columns:\n",
    "\n",
    "* user_id : Id of the user. Unique by user\n",
    "* signup_time : the time when the user created her account (GMT time)\n",
    "* purchase_time : the time when the user bought the item (GMT time)\n",
    "* purchase_value : the cost of the item purchased (USD)\n",
    "* device_id : the device id. You can assume that it is unique by device. I.e., \u0019 transaJtions\n",
    "with the same device ID means that the same physical device was used to bu`\n",
    "* source : user marketing channel: ads, SEO, Direct (i.e. came to the site by directly typing\n",
    "the site address on the browser).\n",
    "* browser : the browser used by the user.\n",
    "* sex : user sex: Male/Female\n",
    "* age : user age\n",
    "* ip_address : user numeric ip address\n",
    "* class : this is what we are trying to predict: whether the activity was fraudulent (1) or not\n",
    "(0).\n",
    "\n",
    "\n",
    "\"IpAddress_to_Country\" - mapping each numeric ip address to its country.\n",
    "For each country, it gives a range. If the numeric ip address falls within\n",
    "the range, then the ip address belongs to the corresponding country.\n",
    "\n",
    "## Columns:\n",
    "\n",
    "* lower_bound_ip_address : the lower bound of the numeric ip address for that country\n",
    "* upper_bound_ip_address : the upper bound of the numeric ip address for that country\n",
    "* country : the corresponding country. If a user has an ip address whose value is within\n",
    "the upper and lower bound, then she is based in this country."
   ]
  },
  {
   "cell_type": "code",
   "execution_count": 147,
   "outputs": [],
   "source": [
    "import pandas as pd\n",
    "import matplotlib.pyplot as plt\n",
    "from sklearn.model_selection import train_test_split\n",
    "from sklearn.ensemble import RandomForestClassifier\n",
    "fraud_data = pd.read_csv('Fraud_Data.csv')\n",
    "ip_address = pd.read_csv('IpAddress_to_Country.csv')"
   ],
   "metadata": {
    "collapsed": false,
    "pycharm": {
     "name": "#%%\n"
    }
   }
  },
  {
   "cell_type": "code",
   "execution_count": 148,
   "outputs": [
    {
     "name": "stdout",
     "output_type": "stream",
     "text": [
      "<class 'pandas.core.frame.DataFrame'>\n",
      "RangeIndex: 151112 entries, 0 to 151111\n",
      "Data columns (total 11 columns):\n",
      " #   Column          Non-Null Count   Dtype  \n",
      "---  ------          --------------   -----  \n",
      " 0   user_id         151112 non-null  int64  \n",
      " 1   signup_time     151112 non-null  object \n",
      " 2   purchase_time   151112 non-null  object \n",
      " 3   purchase_value  151112 non-null  int64  \n",
      " 4   device_id       151112 non-null  object \n",
      " 5   source          151112 non-null  object \n",
      " 6   browser         151112 non-null  object \n",
      " 7   sex             151112 non-null  object \n",
      " 8   age             151112 non-null  int64  \n",
      " 9   ip_address      151112 non-null  float64\n",
      " 10  class           151112 non-null  int64  \n",
      "dtypes: float64(1), int64(4), object(6)\n",
      "memory usage: 12.7+ MB\n"
     ]
    }
   ],
   "source": [
    "# look at the data\n",
    "# no null data for fraud data\n",
    "fraud_data.info()"
   ],
   "metadata": {
    "collapsed": false,
    "pycharm": {
     "name": "#%%\n"
    }
   }
  },
  {
   "cell_type": "code",
   "execution_count": 149,
   "outputs": [
    {
     "name": "stdout",
     "output_type": "stream",
     "text": [
      "<class 'pandas.core.frame.DataFrame'>\n",
      "RangeIndex: 138846 entries, 0 to 138845\n",
      "Data columns (total 3 columns):\n",
      " #   Column                  Non-Null Count   Dtype  \n",
      "---  ------                  --------------   -----  \n",
      " 0   lower_bound_ip_address  138846 non-null  float64\n",
      " 1   upper_bound_ip_address  138846 non-null  int64  \n",
      " 2   country                 138846 non-null  object \n",
      "dtypes: float64(1), int64(1), object(1)\n",
      "memory usage: 3.2+ MB\n"
     ]
    }
   ],
   "source": [
    "#no null data for ip_address data\n",
    "ip_address.info()"
   ],
   "metadata": {
    "collapsed": false,
    "pycharm": {
     "name": "#%%\n"
    }
   }
  },
  {
   "cell_type": "code",
   "execution_count": 150,
   "outputs": [
    {
     "data": {
      "text/plain": "             user_id  purchase_value            age    ip_address  \\\ncount  151112.000000   151112.000000  151112.000000  1.511120e+05   \nmean   200171.040970       36.935372      33.140704  2.152145e+09   \nstd    115369.285024       18.322762       8.617733  1.248497e+09   \nmin         2.000000        9.000000      18.000000  5.209350e+04   \n25%    100642.500000       22.000000      27.000000  1.085934e+09   \n50%    199958.000000       35.000000      33.000000  2.154770e+09   \n75%    300054.000000       49.000000      39.000000  3.243258e+09   \nmax    400000.000000      154.000000      76.000000  4.294850e+09   \n\n               class  \ncount  151112.000000  \nmean        0.093646  \nstd         0.291336  \nmin         0.000000  \n25%         0.000000  \n50%         0.000000  \n75%         0.000000  \nmax         1.000000  ",
      "text/html": "<div>\n<style scoped>\n    .dataframe tbody tr th:only-of-type {\n        vertical-align: middle;\n    }\n\n    .dataframe tbody tr th {\n        vertical-align: top;\n    }\n\n    .dataframe thead th {\n        text-align: right;\n    }\n</style>\n<table border=\"1\" class=\"dataframe\">\n  <thead>\n    <tr style=\"text-align: right;\">\n      <th></th>\n      <th>user_id</th>\n      <th>purchase_value</th>\n      <th>age</th>\n      <th>ip_address</th>\n      <th>class</th>\n    </tr>\n  </thead>\n  <tbody>\n    <tr>\n      <th>count</th>\n      <td>151112.000000</td>\n      <td>151112.000000</td>\n      <td>151112.000000</td>\n      <td>1.511120e+05</td>\n      <td>151112.000000</td>\n    </tr>\n    <tr>\n      <th>mean</th>\n      <td>200171.040970</td>\n      <td>36.935372</td>\n      <td>33.140704</td>\n      <td>2.152145e+09</td>\n      <td>0.093646</td>\n    </tr>\n    <tr>\n      <th>std</th>\n      <td>115369.285024</td>\n      <td>18.322762</td>\n      <td>8.617733</td>\n      <td>1.248497e+09</td>\n      <td>0.291336</td>\n    </tr>\n    <tr>\n      <th>min</th>\n      <td>2.000000</td>\n      <td>9.000000</td>\n      <td>18.000000</td>\n      <td>5.209350e+04</td>\n      <td>0.000000</td>\n    </tr>\n    <tr>\n      <th>25%</th>\n      <td>100642.500000</td>\n      <td>22.000000</td>\n      <td>27.000000</td>\n      <td>1.085934e+09</td>\n      <td>0.000000</td>\n    </tr>\n    <tr>\n      <th>50%</th>\n      <td>199958.000000</td>\n      <td>35.000000</td>\n      <td>33.000000</td>\n      <td>2.154770e+09</td>\n      <td>0.000000</td>\n    </tr>\n    <tr>\n      <th>75%</th>\n      <td>300054.000000</td>\n      <td>49.000000</td>\n      <td>39.000000</td>\n      <td>3.243258e+09</td>\n      <td>0.000000</td>\n    </tr>\n    <tr>\n      <th>max</th>\n      <td>400000.000000</td>\n      <td>154.000000</td>\n      <td>76.000000</td>\n      <td>4.294850e+09</td>\n      <td>1.000000</td>\n    </tr>\n  </tbody>\n</table>\n</div>"
     },
     "execution_count": 150,
     "metadata": {},
     "output_type": "execute_result"
    }
   ],
   "source": [
    "# the ip address for fraud data have 5*10^4, but the min ip address in country table is 10^7\n",
    "fraud_data.describe()"
   ],
   "metadata": {
    "collapsed": false,
    "pycharm": {
     "name": "#%%\n"
    }
   }
  },
  {
   "cell_type": "code",
   "execution_count": 151,
   "outputs": [
    {
     "data": {
      "text/plain": "       lower_bound_ip_address  upper_bound_ip_address\ncount            1.388460e+05            1.388460e+05\nmean             2.724532e+09            2.724557e+09\nstd              8.975215e+08            8.974979e+08\nmin              1.677722e+07            1.677747e+07\n25%              1.919930e+09            1.920008e+09\n50%              3.230887e+09            3.230888e+09\n75%              3.350465e+09            3.350466e+09\nmax              3.758096e+09            3.758096e+09",
      "text/html": "<div>\n<style scoped>\n    .dataframe tbody tr th:only-of-type {\n        vertical-align: middle;\n    }\n\n    .dataframe tbody tr th {\n        vertical-align: top;\n    }\n\n    .dataframe thead th {\n        text-align: right;\n    }\n</style>\n<table border=\"1\" class=\"dataframe\">\n  <thead>\n    <tr style=\"text-align: right;\">\n      <th></th>\n      <th>lower_bound_ip_address</th>\n      <th>upper_bound_ip_address</th>\n    </tr>\n  </thead>\n  <tbody>\n    <tr>\n      <th>count</th>\n      <td>1.388460e+05</td>\n      <td>1.388460e+05</td>\n    </tr>\n    <tr>\n      <th>mean</th>\n      <td>2.724532e+09</td>\n      <td>2.724557e+09</td>\n    </tr>\n    <tr>\n      <th>std</th>\n      <td>8.975215e+08</td>\n      <td>8.974979e+08</td>\n    </tr>\n    <tr>\n      <th>min</th>\n      <td>1.677722e+07</td>\n      <td>1.677747e+07</td>\n    </tr>\n    <tr>\n      <th>25%</th>\n      <td>1.919930e+09</td>\n      <td>1.920008e+09</td>\n    </tr>\n    <tr>\n      <th>50%</th>\n      <td>3.230887e+09</td>\n      <td>3.230888e+09</td>\n    </tr>\n    <tr>\n      <th>75%</th>\n      <td>3.350465e+09</td>\n      <td>3.350466e+09</td>\n    </tr>\n    <tr>\n      <th>max</th>\n      <td>3.758096e+09</td>\n      <td>3.758096e+09</td>\n    </tr>\n  </tbody>\n</table>\n</div>"
     },
     "execution_count": 151,
     "metadata": {},
     "output_type": "execute_result"
    }
   ],
   "source": [
    "ip_address.describe()\n"
   ],
   "metadata": {
    "collapsed": false,
    "pycharm": {
     "name": "#%%\n"
    }
   }
  },
  {
   "cell_type": "code",
   "execution_count": 152,
   "outputs": [
    {
     "data": {
      "text/plain": "16777216.0"
     },
     "execution_count": 152,
     "metadata": {},
     "output_type": "execute_result"
    }
   ],
   "source": [
    "ip_address['lower_bound_ip_address'].min()"
   ],
   "metadata": {
    "collapsed": false,
    "pycharm": {
     "name": "#%%\n"
    }
   }
  },
  {
   "cell_type": "code",
   "execution_count": 153,
   "outputs": [
    {
     "name": "stdout",
     "output_type": "stream",
     "text": [
      "# of ip_address not in ip_address table: user_id           634\n",
      "signup_time       634\n",
      "purchase_time     634\n",
      "purchase_value    634\n",
      "device_id         634\n",
      "source            634\n",
      "browser           634\n",
      "sex               634\n",
      "age               634\n",
      "ip_address        634\n",
      "class             634\n",
      "dtype: int64\n"
     ]
    }
   ],
   "source": [
    "print('# of ip_address not in ip_address table:', fraud_data[fraud_data['ip_address']<=16777216].count())\n"
   ],
   "metadata": {
    "collapsed": false,
    "pycharm": {
     "name": "#%%\n"
    }
   }
  },
  {
   "cell_type": "code",
   "execution_count": 154,
   "outputs": [
    {
     "data": {
      "text/plain": "235"
     },
     "execution_count": 154,
     "metadata": {},
     "output_type": "execute_result"
    }
   ],
   "source": [
    "# the number of distinct country, only 235 country in ip_address table, but the number of data in ip_address table is 138846\n",
    "unique_country = ip_address['country'].unique()\n",
    "unique_country.size"
   ],
   "metadata": {
    "collapsed": false,
    "pycharm": {
     "name": "#%%\n"
    }
   }
  },
  {
   "cell_type": "code",
   "execution_count": 155,
   "outputs": [
    {
     "data": {
      "text/plain": "                           lower_bound_ip_address  upper_bound_ip_address\ncountry                                                                  \nAfghanistan                                    46                      46\nAlbania                                        56                      56\nAlgeria                                        30                      30\nAmerican Samoa                                  1                       1\nAndorra                                         5                       5\n...                                           ...                     ...\nVirgin Islands (U.S.)                          14                      14\nWallis and Futuna Islands                       2                       2\nYemen                                          12                      12\nZambia                                         26                      26\nZimbabwe                                       34                      34\n\n[235 rows x 2 columns]",
      "text/html": "<div>\n<style scoped>\n    .dataframe tbody tr th:only-of-type {\n        vertical-align: middle;\n    }\n\n    .dataframe tbody tr th {\n        vertical-align: top;\n    }\n\n    .dataframe thead th {\n        text-align: right;\n    }\n</style>\n<table border=\"1\" class=\"dataframe\">\n  <thead>\n    <tr style=\"text-align: right;\">\n      <th></th>\n      <th>lower_bound_ip_address</th>\n      <th>upper_bound_ip_address</th>\n    </tr>\n    <tr>\n      <th>country</th>\n      <th></th>\n      <th></th>\n    </tr>\n  </thead>\n  <tbody>\n    <tr>\n      <th>Afghanistan</th>\n      <td>46</td>\n      <td>46</td>\n    </tr>\n    <tr>\n      <th>Albania</th>\n      <td>56</td>\n      <td>56</td>\n    </tr>\n    <tr>\n      <th>Algeria</th>\n      <td>30</td>\n      <td>30</td>\n    </tr>\n    <tr>\n      <th>American Samoa</th>\n      <td>1</td>\n      <td>1</td>\n    </tr>\n    <tr>\n      <th>Andorra</th>\n      <td>5</td>\n      <td>5</td>\n    </tr>\n    <tr>\n      <th>...</th>\n      <td>...</td>\n      <td>...</td>\n    </tr>\n    <tr>\n      <th>Virgin Islands (U.S.)</th>\n      <td>14</td>\n      <td>14</td>\n    </tr>\n    <tr>\n      <th>Wallis and Futuna Islands</th>\n      <td>2</td>\n      <td>2</td>\n    </tr>\n    <tr>\n      <th>Yemen</th>\n      <td>12</td>\n      <td>12</td>\n    </tr>\n    <tr>\n      <th>Zambia</th>\n      <td>26</td>\n      <td>26</td>\n    </tr>\n    <tr>\n      <th>Zimbabwe</th>\n      <td>34</td>\n      <td>34</td>\n    </tr>\n  </tbody>\n</table>\n<p>235 rows × 2 columns</p>\n</div>"
     },
     "execution_count": 155,
     "metadata": {},
     "output_type": "execute_result"
    }
   ],
   "source": [
    "ip_address.groupby('country').count()"
   ],
   "metadata": {
    "collapsed": false,
    "pycharm": {
     "name": "#%%\n"
    }
   }
  },
  {
   "cell_type": "code",
   "execution_count": 156,
   "outputs": [
    {
     "data": {
      "text/plain": "       lower_bound_ip_address  upper_bound_ip_address  country\n17184            1.432265e+09              1432272895  Andorra\n19219            1.538998e+09              1539006463  Andorra\n33427            1.836016e+09              1836023807  Andorra\n53970            3.104060e+09              3104061439  Andorra\n86442            3.265151e+09              3265159167  Andorra",
      "text/html": "<div>\n<style scoped>\n    .dataframe tbody tr th:only-of-type {\n        vertical-align: middle;\n    }\n\n    .dataframe tbody tr th {\n        vertical-align: top;\n    }\n\n    .dataframe thead th {\n        text-align: right;\n    }\n</style>\n<table border=\"1\" class=\"dataframe\">\n  <thead>\n    <tr style=\"text-align: right;\">\n      <th></th>\n      <th>lower_bound_ip_address</th>\n      <th>upper_bound_ip_address</th>\n      <th>country</th>\n    </tr>\n  </thead>\n  <tbody>\n    <tr>\n      <th>17184</th>\n      <td>1.432265e+09</td>\n      <td>1432272895</td>\n      <td>Andorra</td>\n    </tr>\n    <tr>\n      <th>19219</th>\n      <td>1.538998e+09</td>\n      <td>1539006463</td>\n      <td>Andorra</td>\n    </tr>\n    <tr>\n      <th>33427</th>\n      <td>1.836016e+09</td>\n      <td>1836023807</td>\n      <td>Andorra</td>\n    </tr>\n    <tr>\n      <th>53970</th>\n      <td>3.104060e+09</td>\n      <td>3104061439</td>\n      <td>Andorra</td>\n    </tr>\n    <tr>\n      <th>86442</th>\n      <td>3.265151e+09</td>\n      <td>3265159167</td>\n      <td>Andorra</td>\n    </tr>\n  </tbody>\n</table>\n</div>"
     },
     "execution_count": 156,
     "metadata": {},
     "output_type": "execute_result"
    }
   ],
   "source": [
    "# look at one country, the lower bound and upper bound are quite different with each other.\n",
    "ip_address[ip_address['country']=='Andorra']"
   ],
   "metadata": {
    "collapsed": false,
    "pycharm": {
     "name": "#%%\n"
    }
   }
  },
  {
   "cell_type": "code",
   "execution_count": 157,
   "outputs": [
    {
     "name": "stdout",
     "output_type": "stream",
     "text": [
      "the number of distinct lower bound of ip address: 138846\n",
      "the number of distinct ip address: 138846\n"
     ]
    }
   ],
   "source": [
    "unique_low_bound = ip_address['lower_bound_ip_address'].unique()\n",
    "print('the number of distinct lower bound of ip address:', unique_low_bound.size)\n",
    "print('the number of distinct ip address:', ip_address['country'].count())\n"
   ],
   "metadata": {
    "collapsed": false,
    "pycharm": {
     "name": "#%%\n"
    }
   }
  },
  {
   "cell_type": "code",
   "execution_count": 158,
   "outputs": [],
   "source": [
    "fraud_data.reset_index(inplace = True)"
   ],
   "metadata": {
    "collapsed": false,
    "pycharm": {
     "name": "#%%\n"
    }
   }
  },
  {
   "cell_type": "code",
   "execution_count": 159,
   "outputs": [],
   "source": [
    "#merge ip_address table to fraud table\n",
    "from pandasql import sqldf\n",
    "pysql = lambda q:sqldf(q, globals())\n",
    "join = '''\n",
    "select f.user_id, f.signup_time, f.purchase_time, f.purchase_value, f.device_id, f.source, f.browser, f.sex, f.age, f.ip_address,\n",
    "f.class, i.lower_bound_ip_address, i.upper_bound_ip_address, i.country\n",
    "from fraud_data f\n",
    "left join ip_address i on f.ip_address <=i.upper_bound_ip_address and f.ip_address >= i.lower_bound_ip_address\n",
    "'''\n",
    "fraud_join_data_1 = pysql(join)\n"
   ],
   "metadata": {
    "collapsed": false,
    "pycharm": {
     "name": "#%%\n"
    }
   }
  },
  {
   "cell_type": "code",
   "execution_count": 160,
   "outputs": [
    {
     "name": "stdout",
     "output_type": "stream",
     "text": [
      "<class 'pandas.core.frame.DataFrame'>\n",
      "RangeIndex: 151112 entries, 0 to 151111\n",
      "Data columns (total 14 columns):\n",
      " #   Column                  Non-Null Count   Dtype  \n",
      "---  ------                  --------------   -----  \n",
      " 0   user_id                 151112 non-null  int64  \n",
      " 1   signup_time             151112 non-null  object \n",
      " 2   purchase_time           151112 non-null  object \n",
      " 3   purchase_value          151112 non-null  int64  \n",
      " 4   device_id               151112 non-null  object \n",
      " 5   source                  151112 non-null  object \n",
      " 6   browser                 151112 non-null  object \n",
      " 7   sex                     151112 non-null  object \n",
      " 8   age                     151112 non-null  int64  \n",
      " 9   ip_address              151112 non-null  float64\n",
      " 10  class                   151112 non-null  int64  \n",
      " 11  lower_bound_ip_address  129146 non-null  float64\n",
      " 12  upper_bound_ip_address  129146 non-null  float64\n",
      " 13  country                 129146 non-null  object \n",
      "dtypes: float64(3), int64(4), object(7)\n",
      "memory usage: 16.1+ MB\n"
     ]
    }
   ],
   "source": [
    "# look at the merge data, the # of column is equal to the # of column in fraud data, the ip_address does not have overlap for each other\n",
    "# There are have some null data for country column\n",
    "fraud_join_data = fraud_join_data_1\n",
    "fraud_join_data.info()"
   ],
   "metadata": {
    "collapsed": false,
    "pycharm": {
     "name": "#%%\n"
    }
   }
  },
  {
   "cell_type": "code",
   "execution_count": 161,
   "outputs": [
    {
     "data": {
      "text/plain": "             user_id  purchase_value            age    ip_address  \\\ncount  151112.000000   151112.000000  151112.000000  1.511120e+05   \nmean   200171.040970       36.935372      33.140704  2.152145e+09   \nstd    115369.285024       18.322762       8.617733  1.248497e+09   \nmin         2.000000        9.000000      18.000000  5.209350e+04   \n25%    100642.500000       22.000000      27.000000  1.085934e+09   \n50%    199958.000000       35.000000      33.000000  2.154770e+09   \n75%    300054.000000       49.000000      39.000000  3.243258e+09   \nmax    400000.000000      154.000000      76.000000  4.294850e+09   \n\n               class  lower_bound_ip_address  upper_bound_ip_address  \ncount  151112.000000            1.291460e+05            1.291460e+05  \nmean        0.093646            1.890950e+09            1.894646e+09  \nstd         0.291336            1.086802e+09            1.083635e+09  \nmin         0.000000            1.677824e+07            1.677926e+07  \n25%         0.000000            9.395241e+08            9.563013e+08  \n50%         0.000000            1.899708e+09            1.899733e+09  \n75%         0.000000            2.832073e+09            2.832138e+09  \nmax         1.000000            3.758031e+09            3.758064e+09  ",
      "text/html": "<div>\n<style scoped>\n    .dataframe tbody tr th:only-of-type {\n        vertical-align: middle;\n    }\n\n    .dataframe tbody tr th {\n        vertical-align: top;\n    }\n\n    .dataframe thead th {\n        text-align: right;\n    }\n</style>\n<table border=\"1\" class=\"dataframe\">\n  <thead>\n    <tr style=\"text-align: right;\">\n      <th></th>\n      <th>user_id</th>\n      <th>purchase_value</th>\n      <th>age</th>\n      <th>ip_address</th>\n      <th>class</th>\n      <th>lower_bound_ip_address</th>\n      <th>upper_bound_ip_address</th>\n    </tr>\n  </thead>\n  <tbody>\n    <tr>\n      <th>count</th>\n      <td>151112.000000</td>\n      <td>151112.000000</td>\n      <td>151112.000000</td>\n      <td>1.511120e+05</td>\n      <td>151112.000000</td>\n      <td>1.291460e+05</td>\n      <td>1.291460e+05</td>\n    </tr>\n    <tr>\n      <th>mean</th>\n      <td>200171.040970</td>\n      <td>36.935372</td>\n      <td>33.140704</td>\n      <td>2.152145e+09</td>\n      <td>0.093646</td>\n      <td>1.890950e+09</td>\n      <td>1.894646e+09</td>\n    </tr>\n    <tr>\n      <th>std</th>\n      <td>115369.285024</td>\n      <td>18.322762</td>\n      <td>8.617733</td>\n      <td>1.248497e+09</td>\n      <td>0.291336</td>\n      <td>1.086802e+09</td>\n      <td>1.083635e+09</td>\n    </tr>\n    <tr>\n      <th>min</th>\n      <td>2.000000</td>\n      <td>9.000000</td>\n      <td>18.000000</td>\n      <td>5.209350e+04</td>\n      <td>0.000000</td>\n      <td>1.677824e+07</td>\n      <td>1.677926e+07</td>\n    </tr>\n    <tr>\n      <th>25%</th>\n      <td>100642.500000</td>\n      <td>22.000000</td>\n      <td>27.000000</td>\n      <td>1.085934e+09</td>\n      <td>0.000000</td>\n      <td>9.395241e+08</td>\n      <td>9.563013e+08</td>\n    </tr>\n    <tr>\n      <th>50%</th>\n      <td>199958.000000</td>\n      <td>35.000000</td>\n      <td>33.000000</td>\n      <td>2.154770e+09</td>\n      <td>0.000000</td>\n      <td>1.899708e+09</td>\n      <td>1.899733e+09</td>\n    </tr>\n    <tr>\n      <th>75%</th>\n      <td>300054.000000</td>\n      <td>49.000000</td>\n      <td>39.000000</td>\n      <td>3.243258e+09</td>\n      <td>0.000000</td>\n      <td>2.832073e+09</td>\n      <td>2.832138e+09</td>\n    </tr>\n    <tr>\n      <th>max</th>\n      <td>400000.000000</td>\n      <td>154.000000</td>\n      <td>76.000000</td>\n      <td>4.294850e+09</td>\n      <td>1.000000</td>\n      <td>3.758031e+09</td>\n      <td>3.758064e+09</td>\n    </tr>\n  </tbody>\n</table>\n</div>"
     },
     "execution_count": 161,
     "metadata": {},
     "output_type": "execute_result"
    }
   ],
   "source": [
    "fraud_join_data.describe()"
   ],
   "metadata": {
    "collapsed": false,
    "pycharm": {
     "name": "#%%\n"
    }
   }
  },
  {
   "cell_type": "code",
   "execution_count": 162,
   "outputs": [
    {
     "data": {
      "text/plain": "   user_id          signup_time        purchase_time  purchase_value  \\\n0    22058  2015-02-24 22:55:49  2015-04-18 02:47:11              34   \n1   333320  2015-06-07 20:39:50  2015-06-08 01:38:54              16   \n2     1359  2015-01-01 18:52:44  2015-01-01 18:52:45              15   \n3   150084  2015-04-28 21:13:25  2015-05-04 13:54:50              44   \n4   221365  2015-07-21 07:09:52  2015-09-09 18:40:53              39   \n\n       device_id source browser sex  age    ip_address  class  \\\n0  QVPSPJUOCKZAR    SEO  Chrome   M   39  7.327584e+08      0   \n1  EOGFQPIZPYXFZ    Ads  Chrome   F   53  3.503114e+08      0   \n2  YSSKYOSJHPPLJ    SEO   Opera   M   53  2.621474e+09      1   \n3  ATGTXKYKUDUQN    SEO  Safari   M   41  3.840542e+09      0   \n4  NAUITBZFJKHWW    Ads  Safari   M   45  4.155831e+08      0   \n\n   lower_bound_ip_address  upper_bound_ip_address        country  \n0            7.298089e+08            7.340032e+08          Japan  \n1            3.355443e+08            3.523215e+08  United States  \n2            2.621440e+09            2.621506e+09  United States  \n3                     NaN                     NaN           None  \n4            4.154982e+08            4.156293e+08  United States  ",
      "text/html": "<div>\n<style scoped>\n    .dataframe tbody tr th:only-of-type {\n        vertical-align: middle;\n    }\n\n    .dataframe tbody tr th {\n        vertical-align: top;\n    }\n\n    .dataframe thead th {\n        text-align: right;\n    }\n</style>\n<table border=\"1\" class=\"dataframe\">\n  <thead>\n    <tr style=\"text-align: right;\">\n      <th></th>\n      <th>user_id</th>\n      <th>signup_time</th>\n      <th>purchase_time</th>\n      <th>purchase_value</th>\n      <th>device_id</th>\n      <th>source</th>\n      <th>browser</th>\n      <th>sex</th>\n      <th>age</th>\n      <th>ip_address</th>\n      <th>class</th>\n      <th>lower_bound_ip_address</th>\n      <th>upper_bound_ip_address</th>\n      <th>country</th>\n    </tr>\n  </thead>\n  <tbody>\n    <tr>\n      <th>0</th>\n      <td>22058</td>\n      <td>2015-02-24 22:55:49</td>\n      <td>2015-04-18 02:47:11</td>\n      <td>34</td>\n      <td>QVPSPJUOCKZAR</td>\n      <td>SEO</td>\n      <td>Chrome</td>\n      <td>M</td>\n      <td>39</td>\n      <td>7.327584e+08</td>\n      <td>0</td>\n      <td>7.298089e+08</td>\n      <td>7.340032e+08</td>\n      <td>Japan</td>\n    </tr>\n    <tr>\n      <th>1</th>\n      <td>333320</td>\n      <td>2015-06-07 20:39:50</td>\n      <td>2015-06-08 01:38:54</td>\n      <td>16</td>\n      <td>EOGFQPIZPYXFZ</td>\n      <td>Ads</td>\n      <td>Chrome</td>\n      <td>F</td>\n      <td>53</td>\n      <td>3.503114e+08</td>\n      <td>0</td>\n      <td>3.355443e+08</td>\n      <td>3.523215e+08</td>\n      <td>United States</td>\n    </tr>\n    <tr>\n      <th>2</th>\n      <td>1359</td>\n      <td>2015-01-01 18:52:44</td>\n      <td>2015-01-01 18:52:45</td>\n      <td>15</td>\n      <td>YSSKYOSJHPPLJ</td>\n      <td>SEO</td>\n      <td>Opera</td>\n      <td>M</td>\n      <td>53</td>\n      <td>2.621474e+09</td>\n      <td>1</td>\n      <td>2.621440e+09</td>\n      <td>2.621506e+09</td>\n      <td>United States</td>\n    </tr>\n    <tr>\n      <th>3</th>\n      <td>150084</td>\n      <td>2015-04-28 21:13:25</td>\n      <td>2015-05-04 13:54:50</td>\n      <td>44</td>\n      <td>ATGTXKYKUDUQN</td>\n      <td>SEO</td>\n      <td>Safari</td>\n      <td>M</td>\n      <td>41</td>\n      <td>3.840542e+09</td>\n      <td>0</td>\n      <td>NaN</td>\n      <td>NaN</td>\n      <td>None</td>\n    </tr>\n    <tr>\n      <th>4</th>\n      <td>221365</td>\n      <td>2015-07-21 07:09:52</td>\n      <td>2015-09-09 18:40:53</td>\n      <td>39</td>\n      <td>NAUITBZFJKHWW</td>\n      <td>Ads</td>\n      <td>Safari</td>\n      <td>M</td>\n      <td>45</td>\n      <td>4.155831e+08</td>\n      <td>0</td>\n      <td>4.154982e+08</td>\n      <td>4.156293e+08</td>\n      <td>United States</td>\n    </tr>\n  </tbody>\n</table>\n</div>"
     },
     "execution_count": 162,
     "metadata": {},
     "output_type": "execute_result"
    }
   ],
   "source": [
    "fraud_join_data.head()"
   ],
   "metadata": {
    "collapsed": false,
    "pycharm": {
     "name": "#%%\n"
    }
   }
  },
  {
   "cell_type": "code",
   "execution_count": 163,
   "outputs": [],
   "source": [
    "#transform to datetime type\n",
    "fraud_join_data['signup_time'] = pd.to_datetime(fraud_join_data.iloc[:, 1])\n",
    "fraud_join_data['purchase_time'] = pd.to_datetime(fraud_join_data.iloc[:, 2])"
   ],
   "metadata": {
    "collapsed": false,
    "pycharm": {
     "name": "#%%\n"
    }
   }
  },
  {
   "cell_type": "code",
   "execution_count": 164,
   "outputs": [
    {
     "name": "stdout",
     "output_type": "stream",
     "text": [
      "<class 'pandas.core.frame.DataFrame'>\n",
      "RangeIndex: 151112 entries, 0 to 151111\n",
      "Data columns (total 14 columns):\n",
      " #   Column                  Non-Null Count   Dtype         \n",
      "---  ------                  --------------   -----         \n",
      " 0   user_id                 151112 non-null  int64         \n",
      " 1   signup_time             151112 non-null  datetime64[ns]\n",
      " 2   purchase_time           151112 non-null  datetime64[ns]\n",
      " 3   purchase_value          151112 non-null  int64         \n",
      " 4   device_id               151112 non-null  object        \n",
      " 5   source                  151112 non-null  object        \n",
      " 6   browser                 151112 non-null  object        \n",
      " 7   sex                     151112 non-null  object        \n",
      " 8   age                     151112 non-null  int64         \n",
      " 9   ip_address              151112 non-null  float64       \n",
      " 10  class                   151112 non-null  int64         \n",
      " 11  lower_bound_ip_address  129146 non-null  float64       \n",
      " 12  upper_bound_ip_address  129146 non-null  float64       \n",
      " 13  country                 129146 non-null  object        \n",
      "dtypes: datetime64[ns](2), float64(3), int64(4), object(5)\n",
      "memory usage: 16.1+ MB\n"
     ]
    }
   ],
   "source": [
    "fraud_join_data.info()"
   ],
   "metadata": {
    "collapsed": false,
    "pycharm": {
     "name": "#%%\n"
    }
   }
  },
  {
   "cell_type": "code",
   "execution_count": 165,
   "outputs": [
    {
     "data": {
      "text/plain": "country\nUnited States        58049\nChina                12038\nJapan                 7306\nUnited Kingdom        4490\nKorea Republic of     4162\n                     ...  \nSouth Sudan              1\nGambia                   1\nGuadeloupe               1\nSaint Martin             1\nDominica                 1\nName: user_id, Length: 181, dtype: int64"
     },
     "execution_count": 165,
     "metadata": {},
     "output_type": "execute_result"
    }
   ],
   "source": [
    "fraud_join_data_country = fraud_join_data.groupby('country').count()\n",
    "fraud_join_data_country_count = fraud_join_data_country['user_id']\n",
    "fraud_join_data_country_count.sort_values(ascending = False)"
   ],
   "metadata": {
    "collapsed": false,
    "pycharm": {
     "name": "#%%\n"
    }
   }
  },
  {
   "cell_type": "code",
   "execution_count": 166,
   "outputs": [
    {
     "data": {
      "text/plain": "<AxesSubplot:ylabel='user_id'>"
     },
     "execution_count": 166,
     "metadata": {},
     "output_type": "execute_result"
    },
    {
     "data": {
      "text/plain": "<Figure size 432x288 with 1 Axes>",
      "image/png": "[encoded data removed]"
     },
     "metadata": {},
     "output_type": "display_data"
    }
   ],
   "source": [
    "# from the pie plot, we can find USA, China and Japan have more proportion of transaction\n",
    "fraud_join_data_country_count.plot.pie()"
   ],
   "metadata": {
    "collapsed": false,
    "pycharm": {
     "name": "#%%\n"
    }
   }
  },
  {
   "cell_type": "code",
   "execution_count": 204,
   "outputs": [
    {
     "data": {
      "text/plain": "             country   user_id\n0      United States  0.449484\n1              China  0.542696\n2              Japan  0.599267\n3     United Kingdom  0.634034\n4  Korea Republic of  0.666261",
      "text/html": "<div>\n<style scoped>\n    .dataframe tbody tr th:only-of-type {\n        vertical-align: middle;\n    }\n\n    .dataframe tbody tr th {\n        vertical-align: top;\n    }\n\n    .dataframe thead th {\n        text-align: right;\n    }\n</style>\n<table border=\"1\" class=\"dataframe\">\n  <thead>\n    <tr style=\"text-align: right;\">\n      <th></th>\n      <th>country</th>\n      <th>user_id</th>\n    </tr>\n  </thead>\n  <tbody>\n    <tr>\n      <th>0</th>\n      <td>United States</td>\n      <td>0.449484</td>\n    </tr>\n    <tr>\n      <th>1</th>\n      <td>China</td>\n      <td>0.542696</td>\n    </tr>\n    <tr>\n      <th>2</th>\n      <td>Japan</td>\n      <td>0.599267</td>\n    </tr>\n    <tr>\n      <th>3</th>\n      <td>United Kingdom</td>\n      <td>0.634034</td>\n    </tr>\n    <tr>\n      <th>4</th>\n      <td>Korea Republic of</td>\n      <td>0.666261</td>\n    </tr>\n  </tbody>\n</table>\n</div>"
     },
     "execution_count": 204,
     "metadata": {},
     "output_type": "execute_result"
    }
   ],
   "source": [
    "# calculate the proportion\n",
    "country_proportion = fraud_join_data_country['user_id']/fraud_join_data_country['user_id'].sum()\n",
    "country_proportion.sort_values(ascending = False, inplace= True)\n",
    "country_proportion_cum = country_proportion.cumsum()\n",
    "country_proportion_cum = country_proportion_cum.reset_index()\n",
    "country_proportion_cum.head()"
   ],
   "metadata": {
    "collapsed": false,
    "pycharm": {
     "name": "#%%\n"
    }
   }
  },
  {
   "cell_type": "code",
   "execution_count": 210,
   "outputs": [
    {
     "data": {
      "text/plain": "                country   user_id\n74               Panama  0.990066\n75              Bolivia  0.990476\n76   Dominican Republic  0.990871\n77               Cyprus  0.991204\n78              Estonia  0.991529\n..                  ...       ...\n176         South Sudan  0.999969\n177              Gambia  0.999977\n178          Guadeloupe  0.999985\n179        Saint Martin  0.999992\n180            Dominica  1.000000\n\n[107 rows x 2 columns]",
      "text/html": "<div>\n<style scoped>\n    .dataframe tbody tr th:only-of-type {\n        vertical-align: middle;\n    }\n\n    .dataframe tbody tr th {\n        vertical-align: top;\n    }\n\n    .dataframe thead th {\n        text-align: right;\n    }\n</style>\n<table border=\"1\" class=\"dataframe\">\n  <thead>\n    <tr style=\"text-align: right;\">\n      <th></th>\n      <th>country</th>\n      <th>user_id</th>\n    </tr>\n  </thead>\n  <tbody>\n    <tr>\n      <th>74</th>\n      <td>Panama</td>\n      <td>0.990066</td>\n    </tr>\n    <tr>\n      <th>75</th>\n      <td>Bolivia</td>\n      <td>0.990476</td>\n    </tr>\n    <tr>\n      <th>76</th>\n      <td>Dominican Republic</td>\n      <td>0.990871</td>\n    </tr>\n    <tr>\n      <th>77</th>\n      <td>Cyprus</td>\n      <td>0.991204</td>\n    </tr>\n    <tr>\n      <th>78</th>\n      <td>Estonia</td>\n      <td>0.991529</td>\n    </tr>\n    <tr>\n      <th>...</th>\n      <td>...</td>\n      <td>...</td>\n    </tr>\n    <tr>\n      <th>176</th>\n      <td>South Sudan</td>\n      <td>0.999969</td>\n    </tr>\n    <tr>\n      <th>177</th>\n      <td>Gambia</td>\n      <td>0.999977</td>\n    </tr>\n    <tr>\n      <th>178</th>\n      <td>Guadeloupe</td>\n      <td>0.999985</td>\n    </tr>\n    <tr>\n      <th>179</th>\n      <td>Saint Martin</td>\n      <td>0.999992</td>\n    </tr>\n    <tr>\n      <th>180</th>\n      <td>Dominica</td>\n      <td>1.000000</td>\n    </tr>\n  </tbody>\n</table>\n<p>107 rows × 2 columns</p>\n</div>"
     },
     "execution_count": 210,
     "metadata": {},
     "output_type": "execute_result"
    }
   ],
   "source": [
    "country_proportion_cum[country_proportion_cum['user_id']>=0.99]"
   ],
   "metadata": {
    "collapsed": false,
    "pycharm": {
     "name": "#%%\n"
    }
   }
  },
  {
   "cell_type": "markdown",
   "source": [
    "Before jumping into building a model, think about whether you can create new powerful variables. This is\n",
    "called feature engineering and it is the most important step in machine learning. However, feature\n",
    "engineering is quite time consuming.\n",
    "\n",
    "A few obvious variables that can be created here could be:\n",
    "\n",
    "* Time difference between sign-up time and purchase time\n",
    "* If the device id is unique or certain users are sharing the same device (many different user ids using\n",
    "the same device could be an indicator of fake accounts)\n",
    "* Same for the ip address. Many different users having the same ip address could be an indicator of fake accounts\n",
    "* Usual week of the year and day of the week from time variables"
   ],
   "metadata": {
    "collapsed": false,
    "pycharm": {
     "name": "#%% md\n"
    }
   }
  },
  {
   "cell_type": "code",
   "execution_count": 168,
   "outputs": [],
   "source": [
    "#calculate the time difference between the purchase and signup\n",
    "fraud_join_data['time_difference'] = fraud_join_data['purchase_time'] - fraud_join_data['signup_time']"
   ],
   "metadata": {
    "collapsed": false,
    "pycharm": {
     "name": "#%%\n"
    }
   }
  },
  {
   "cell_type": "code",
   "execution_count": 169,
   "outputs": [],
   "source": [
    "fraud_join_data['time_difference'] = fraud_join_data.iloc[:,14].dt.total_seconds()"
   ],
   "metadata": {
    "collapsed": false,
    "pycharm": {
     "name": "#%%\n"
    }
   }
  },
  {
   "cell_type": "code",
   "execution_count": 170,
   "outputs": [
    {
     "data": {
      "text/plain": "               user_id  signup_time  purchase_time  purchase_value  source  \\\ndevice_id                                                                    \nAAAXXOZJRZRAO       11           11             11              11      11   \nAANYBGQSWHRTK        8            8              8               8       8   \nADEDUDCYQMYTI       14           14             14              14      14   \nAENUQLGTUHYMS        7            7              7               7       7   \nAIGPGDVRDKOKT       12           12             12              12      12   \n...                ...          ...            ...             ...     ...   \nZYHVSPGHWACPO        6            6              6               6       6   \nZYZQZXBXADPST       16           16             16              16      16   \nZZCAWCKYVMWNH        9            9              9               9       9   \nZZFFPOVMCQVCG        7            7              7               7       7   \nZZQPVRBHRMVYD       12           12             12              12      12   \n\n               browser  sex  age  ip_address  class  lower_bound_ip_address  \\\ndevice_id                                                                     \nAAAXXOZJRZRAO       11   11   11          11     11                      11   \nAANYBGQSWHRTK        8    8    8           8      8                       8   \nADEDUDCYQMYTI       14   14   14          14     14                      14   \nAENUQLGTUHYMS        7    7    7           7      7                       0   \nAIGPGDVRDKOKT       12   12   12          12     12                      12   \n...                ...  ...  ...         ...    ...                     ...   \nZYHVSPGHWACPO        6    6    6           6      6                       6   \nZYZQZXBXADPST       16   16   16          16     16                      16   \nZZCAWCKYVMWNH        9    9    9           9      9                       9   \nZZFFPOVMCQVCG        7    7    7           7      7                       7   \nZZQPVRBHRMVYD       12   12   12          12     12                      12   \n\n               upper_bound_ip_address  country  time_difference  \ndevice_id                                                        \nAAAXXOZJRZRAO                      11       11               11  \nAANYBGQSWHRTK                       8        8                8  \nADEDUDCYQMYTI                      14       14               14  \nAENUQLGTUHYMS                       0        0                7  \nAIGPGDVRDKOKT                      12       12               12  \n...                               ...      ...              ...  \nZYHVSPGHWACPO                       6        6                6  \nZYZQZXBXADPST                      16       16               16  \nZZCAWCKYVMWNH                       9        9                9  \nZZFFPOVMCQVCG                       7        7                7  \nZZQPVRBHRMVYD                      12       12               12  \n\n[848 rows x 14 columns]",
      "text/html": "<div>\n<style scoped>\n    .dataframe tbody tr th:only-of-type {\n        vertical-align: middle;\n    }\n\n    .dataframe tbody tr th {\n        vertical-align: top;\n    }\n\n    .dataframe thead th {\n        text-align: right;\n    }\n</style>\n<table border=\"1\" class=\"dataframe\">\n  <thead>\n    <tr style=\"text-align: right;\">\n      <th></th>\n      <th>user_id</th>\n      <th>signup_time</th>\n      <th>purchase_time</th>\n      <th>purchase_value</th>\n      <th>source</th>\n      <th>browser</th>\n      <th>sex</th>\n      <th>age</th>\n      <th>ip_address</th>\n      <th>class</th>\n      <th>lower_bound_ip_address</th>\n      <th>upper_bound_ip_address</th>\n      <th>country</th>\n      <th>time_difference</th>\n    </tr>\n    <tr>\n      <th>device_id</th>\n      <th></th>\n      <th></th>\n      <th></th>\n      <th></th>\n      <th></th>\n      <th></th>\n      <th></th>\n      <th></th>\n      <th></th>\n      <th></th>\n      <th></th>\n      <th></th>\n      <th></th>\n      <th></th>\n    </tr>\n  </thead>\n  <tbody>\n    <tr>\n      <th>AAAXXOZJRZRAO</th>\n      <td>11</td>\n      <td>11</td>\n      <td>11</td>\n      <td>11</td>\n      <td>11</td>\n      <td>11</td>\n      <td>11</td>\n      <td>11</td>\n      <td>11</td>\n      <td>11</td>\n      <td>11</td>\n      <td>11</td>\n      <td>11</td>\n      <td>11</td>\n    </tr>\n    <tr>\n      <th>AANYBGQSWHRTK</th>\n      <td>8</td>\n      <td>8</td>\n      <td>8</td>\n      <td>8</td>\n      <td>8</td>\n      <td>8</td>\n      <td>8</td>\n      <td>8</td>\n      <td>8</td>\n      <td>8</td>\n      <td>8</td>\n      <td>8</td>\n      <td>8</td>\n      <td>8</td>\n    </tr>\n    <tr>\n      <th>ADEDUDCYQMYTI</th>\n      <td>14</td>\n      <td>14</td>\n      <td>14</td>\n      <td>14</td>\n      <td>14</td>\n      <td>14</td>\n      <td>14</td>\n      <td>14</td>\n      <td>14</td>\n      <td>14</td>\n      <td>14</td>\n      <td>14</td>\n      <td>14</td>\n      <td>14</td>\n    </tr>\n    <tr>\n      <th>AENUQLGTUHYMS</th>\n      <td>7</td>\n      <td>7</td>\n      <td>7</td>\n      <td>7</td>\n      <td>7</td>\n      <td>7</td>\n      <td>7</td>\n      <td>7</td>\n      <td>7</td>\n      <td>7</td>\n      <td>0</td>\n      <td>0</td>\n      <td>0</td>\n      <td>7</td>\n    </tr>\n    <tr>\n      <th>AIGPGDVRDKOKT</th>\n      <td>12</td>\n      <td>12</td>\n      <td>12</td>\n      <td>12</td>\n      <td>12</td>\n      <td>12</td>\n      <td>12</td>\n      <td>12</td>\n      <td>12</td>\n      <td>12</td>\n      <td>12</td>\n      <td>12</td>\n      <td>12</td>\n      <td>12</td>\n    </tr>\n    <tr>\n      <th>...</th>\n      <td>...</td>\n      <td>...</td>\n      <td>...</td>\n      <td>...</td>\n      <td>...</td>\n      <td>...</td>\n      <td>...</td>\n      <td>...</td>\n      <td>...</td>\n      <td>...</td>\n      <td>...</td>\n      <td>...</td>\n      <td>...</td>\n      <td>...</td>\n    </tr>\n    <tr>\n      <th>ZYHVSPGHWACPO</th>\n      <td>6</td>\n      <td>6</td>\n      <td>6</td>\n      <td>6</td>\n      <td>6</td>\n      <td>6</td>\n      <td>6</td>\n      <td>6</td>\n      <td>6</td>\n      <td>6</td>\n      <td>6</td>\n      <td>6</td>\n      <td>6</td>\n      <td>6</td>\n    </tr>\n    <tr>\n      <th>ZYZQZXBXADPST</th>\n      <td>16</td>\n      <td>16</td>\n      <td>16</td>\n      <td>16</td>\n      <td>16</td>\n      <td>16</td>\n      <td>16</td>\n      <td>16</td>\n      <td>16</td>\n      <td>16</td>\n      <td>16</td>\n      <td>16</td>\n      <td>16</td>\n      <td>16</td>\n    </tr>\n    <tr>\n      <th>ZZCAWCKYVMWNH</th>\n      <td>9</td>\n      <td>9</td>\n      <td>9</td>\n      <td>9</td>\n      <td>9</td>\n      <td>9</td>\n      <td>9</td>\n      <td>9</td>\n      <td>9</td>\n      <td>9</td>\n      <td>9</td>\n      <td>9</td>\n      <td>9</td>\n      <td>9</td>\n    </tr>\n    <tr>\n      <th>ZZFFPOVMCQVCG</th>\n      <td>7</td>\n      <td>7</td>\n      <td>7</td>\n      <td>7</td>\n      <td>7</td>\n      <td>7</td>\n      <td>7</td>\n      <td>7</td>\n      <td>7</td>\n      <td>7</td>\n      <td>7</td>\n      <td>7</td>\n      <td>7</td>\n      <td>7</td>\n    </tr>\n    <tr>\n      <th>ZZQPVRBHRMVYD</th>\n      <td>12</td>\n      <td>12</td>\n      <td>12</td>\n      <td>12</td>\n      <td>12</td>\n      <td>12</td>\n      <td>12</td>\n      <td>12</td>\n      <td>12</td>\n      <td>12</td>\n      <td>12</td>\n      <td>12</td>\n      <td>12</td>\n      <td>12</td>\n    </tr>\n  </tbody>\n</table>\n<p>848 rows × 14 columns</p>\n</div>"
     },
     "execution_count": 170,
     "metadata": {},
     "output_type": "execute_result"
    }
   ],
   "source": [
    "#check for each device id how many different user had it\n",
    "device_count = fraud_join_data.groupby('device_id').count()\n",
    "device_count[device_count['user_id']>2]"
   ],
   "metadata": {
    "collapsed": false,
    "pycharm": {
     "name": "#%%\n"
    }
   }
  },
  {
   "cell_type": "code",
   "execution_count": 171,
   "outputs": [
    {
     "data": {
      "text/plain": "              user_id  signup_time  purchase_time  purchase_value  device_id  \\\nip_address                                                                     \n2.278096e+06       16           16             16              16         16   \n6.150367e+06        9            9              9               9          9   \n1.666923e+07       11           11             11              11         11   \n1.819146e+07        6            6              6               6          6   \n2.584822e+07        7            7              7               7          7   \n...               ...          ...            ...             ...        ...   \n4.262695e+09       13           13             13              13         13   \n4.275223e+09       11           11             11              11         11   \n4.279796e+09       12           12             12              12         12   \n4.281743e+09        7            7              7               7          7   \n4.292714e+09        6            6              6               6          6   \n\n              source  browser  sex  age  class  lower_bound_ip_address  \\\nip_address                                                               \n2.278096e+06      16       16   16   16     16                       0   \n6.150367e+06       9        9    9    9      9                       0   \n1.666923e+07      11       11   11   11     11                       0   \n1.819146e+07       6        6    6    6      6                       6   \n2.584822e+07       7        7    7    7      7                       7   \n...              ...      ...  ...  ...    ...                     ...   \n4.262695e+09      13       13   13   13     13                       0   \n4.275223e+09      11       11   11   11     11                       0   \n4.279796e+09      12       12   12   12     12                       0   \n4.281743e+09       7        7    7    7      7                       0   \n4.292714e+09       6        6    6    6      6                       0   \n\n              upper_bound_ip_address  country  time_difference  \nip_address                                                      \n2.278096e+06                       0        0               16  \n6.150367e+06                       0        0                9  \n1.666923e+07                       0        0               11  \n1.819146e+07                       6        6                6  \n2.584822e+07                       7        7                7  \n...                              ...      ...              ...  \n4.262695e+09                       0        0               13  \n4.275223e+09                       0        0               11  \n4.279796e+09                       0        0               12  \n4.281743e+09                       0        0                7  \n4.292714e+09                       0        0                6  \n\n[759 rows x 14 columns]",
      "text/html": "<div>\n<style scoped>\n    .dataframe tbody tr th:only-of-type {\n        vertical-align: middle;\n    }\n\n    .dataframe tbody tr th {\n        vertical-align: top;\n    }\n\n    .dataframe thead th {\n        text-align: right;\n    }\n</style>\n<table border=\"1\" class=\"dataframe\">\n  <thead>\n    <tr style=\"text-align: right;\">\n      <th></th>\n      <th>user_id</th>\n      <th>signup_time</th>\n      <th>purchase_time</th>\n      <th>purchase_value</th>\n      <th>device_id</th>\n      <th>source</th>\n      <th>browser</th>\n      <th>sex</th>\n      <th>age</th>\n      <th>class</th>\n      <th>lower_bound_ip_address</th>\n      <th>upper_bound_ip_address</th>\n      <th>country</th>\n      <th>time_difference</th>\n    </tr>\n    <tr>\n      <th>ip_address</th>\n      <th></th>\n      <th></th>\n      <th></th>\n      <th></th>\n      <th></th>\n      <th></th>\n      <th></th>\n      <th></th>\n      <th></th>\n      <th></th>\n      <th></th>\n      <th></th>\n      <th></th>\n      <th></th>\n    </tr>\n  </thead>\n  <tbody>\n    <tr>\n      <th>2.278096e+06</th>\n      <td>16</td>\n      <td>16</td>\n      <td>16</td>\n      <td>16</td>\n      <td>16</td>\n      <td>16</td>\n      <td>16</td>\n      <td>16</td>\n      <td>16</td>\n      <td>16</td>\n      <td>0</td>\n      <td>0</td>\n      <td>0</td>\n      <td>16</td>\n    </tr>\n    <tr>\n      <th>6.150367e+06</th>\n      <td>9</td>\n      <td>9</td>\n      <td>9</td>\n      <td>9</td>\n      <td>9</td>\n      <td>9</td>\n      <td>9</td>\n      <td>9</td>\n      <td>9</td>\n      <td>9</td>\n      <td>0</td>\n      <td>0</td>\n      <td>0</td>\n      <td>9</td>\n    </tr>\n    <tr>\n      <th>1.666923e+07</th>\n      <td>11</td>\n      <td>11</td>\n      <td>11</td>\n      <td>11</td>\n      <td>11</td>\n      <td>11</td>\n      <td>11</td>\n      <td>11</td>\n      <td>11</td>\n      <td>11</td>\n      <td>0</td>\n      <td>0</td>\n      <td>0</td>\n      <td>11</td>\n    </tr>\n    <tr>\n      <th>1.819146e+07</th>\n      <td>6</td>\n      <td>6</td>\n      <td>6</td>\n      <td>6</td>\n      <td>6</td>\n      <td>6</td>\n      <td>6</td>\n      <td>6</td>\n      <td>6</td>\n      <td>6</td>\n      <td>6</td>\n      <td>6</td>\n      <td>6</td>\n      <td>6</td>\n    </tr>\n    <tr>\n      <th>2.584822e+07</th>\n      <td>7</td>\n      <td>7</td>\n      <td>7</td>\n      <td>7</td>\n      <td>7</td>\n      <td>7</td>\n      <td>7</td>\n      <td>7</td>\n      <td>7</td>\n      <td>7</td>\n      <td>7</td>\n      <td>7</td>\n      <td>7</td>\n      <td>7</td>\n    </tr>\n    <tr>\n      <th>...</th>\n      <td>...</td>\n      <td>...</td>\n      <td>...</td>\n      <td>...</td>\n      <td>...</td>\n      <td>...</td>\n      <td>...</td>\n      <td>...</td>\n      <td>...</td>\n      <td>...</td>\n      <td>...</td>\n      <td>...</td>\n      <td>...</td>\n      <td>...</td>\n    </tr>\n    <tr>\n      <th>4.262695e+09</th>\n      <td>13</td>\n      <td>13</td>\n      <td>13</td>\n      <td>13</td>\n      <td>13</td>\n      <td>13</td>\n      <td>13</td>\n      <td>13</td>\n      <td>13</td>\n      <td>13</td>\n      <td>0</td>\n      <td>0</td>\n      <td>0</td>\n      <td>13</td>\n    </tr>\n    <tr>\n      <th>4.275223e+09</th>\n      <td>11</td>\n      <td>11</td>\n      <td>11</td>\n      <td>11</td>\n      <td>11</td>\n      <td>11</td>\n      <td>11</td>\n      <td>11</td>\n      <td>11</td>\n      <td>11</td>\n      <td>0</td>\n      <td>0</td>\n      <td>0</td>\n      <td>11</td>\n    </tr>\n    <tr>\n      <th>4.279796e+09</th>\n      <td>12</td>\n      <td>12</td>\n      <td>12</td>\n      <td>12</td>\n      <td>12</td>\n      <td>12</td>\n      <td>12</td>\n      <td>12</td>\n      <td>12</td>\n      <td>12</td>\n      <td>0</td>\n      <td>0</td>\n      <td>0</td>\n      <td>12</td>\n    </tr>\n    <tr>\n      <th>4.281743e+09</th>\n      <td>7</td>\n      <td>7</td>\n      <td>7</td>\n      <td>7</td>\n      <td>7</td>\n      <td>7</td>\n      <td>7</td>\n      <td>7</td>\n      <td>7</td>\n      <td>7</td>\n      <td>0</td>\n      <td>0</td>\n      <td>0</td>\n      <td>7</td>\n    </tr>\n    <tr>\n      <th>4.292714e+09</th>\n      <td>6</td>\n      <td>6</td>\n      <td>6</td>\n      <td>6</td>\n      <td>6</td>\n      <td>6</td>\n      <td>6</td>\n      <td>6</td>\n      <td>6</td>\n      <td>6</td>\n      <td>0</td>\n      <td>0</td>\n      <td>0</td>\n      <td>6</td>\n    </tr>\n  </tbody>\n</table>\n<p>759 rows × 14 columns</p>\n</div>"
     },
     "execution_count": 171,
     "metadata": {},
     "output_type": "execute_result"
    }
   ],
   "source": [
    "#check for each ip address how many different users had it\n",
    "ip_account = fraud_join_data.groupby('ip_address').count()\n",
    "ip_account[ip_account['user_id']>2]\n"
   ],
   "metadata": {
    "collapsed": false,
    "pycharm": {
     "name": "#%%\n"
    }
   }
  },
  {
   "cell_type": "code",
   "execution_count": 172,
   "outputs": [
    {
     "name": "stderr",
     "output_type": "stream",
     "text": [
      "D:\\temp\\ipykernel_147476\\1438253378.py:6: FutureWarning: Series.dt.weekofyear and Series.dt.week have been deprecated. Please use Series.dt.isocalendar().week instead.\n",
      "  fraud_join_data['signup_time_woy'] = fraud_join_data['signup_time'].dt.weekofyear\n",
      "D:\\temp\\ipykernel_147476\\1438253378.py:7: FutureWarning: Series.dt.weekofyear and Series.dt.week have been deprecated. Please use Series.dt.isocalendar().week instead.\n",
      "  fraud_join_data['purchase_time_woy'] = fraud_join_data['purchase_time'].dt.weekofyear\n"
     ]
    }
   ],
   "source": [
    "# day of the week\n",
    "fraud_join_data['signup_time_dow'] = fraud_join_data['signup_time'].dt.dayofweek\n",
    "fraud_join_data['purchase_time_dow'] = fraud_join_data['purchase_time'].dt.dayofweek\n",
    "\n",
    "# week of year\n",
    "fraud_join_data['signup_time_woy'] = fraud_join_data['signup_time'].dt.weekofyear\n",
    "fraud_join_data['purchase_time_woy'] = fraud_join_data['purchase_time'].dt.weekofyear"
   ],
   "metadata": {
    "collapsed": false,
    "pycharm": {
     "name": "#%%\n"
    }
   }
  },
  {
   "cell_type": "code",
   "execution_count": 173,
   "outputs": [
    {
     "data": {
      "text/plain": "   user_id         signup_time       purchase_time  purchase_value  \\\n0    22058 2015-02-24 22:55:49 2015-04-18 02:47:11              34   \n1   333320 2015-06-07 20:39:50 2015-06-08 01:38:54              16   \n2     1359 2015-01-01 18:52:44 2015-01-01 18:52:45              15   \n3   150084 2015-04-28 21:13:25 2015-05-04 13:54:50              44   \n4   221365 2015-07-21 07:09:52 2015-09-09 18:40:53              39   \n\n       device_id source browser sex  age    ip_address  class  \\\n0  QVPSPJUOCKZAR    SEO  Chrome   M   39  7.327584e+08      0   \n1  EOGFQPIZPYXFZ    Ads  Chrome   F   53  3.503114e+08      0   \n2  YSSKYOSJHPPLJ    SEO   Opera   M   53  2.621474e+09      1   \n3  ATGTXKYKUDUQN    SEO  Safari   M   41  3.840542e+09      0   \n4  NAUITBZFJKHWW    Ads  Safari   M   45  4.155831e+08      0   \n\n   lower_bound_ip_address  upper_bound_ip_address        country  \\\n0            7.298089e+08            7.340032e+08          Japan   \n1            3.355443e+08            3.523215e+08  United States   \n2            2.621440e+09            2.621506e+09  United States   \n3                     NaN                     NaN           None   \n4            4.154982e+08            4.156293e+08  United States   \n\n   time_difference  signup_time_dow  purchase_time_dow  signup_time_woy  \\\n0        4506682.0                1                  5                9   \n1          17944.0                6                  0               23   \n2              1.0                3                  3                1   \n3         492085.0                1                  0               18   \n4        4361461.0                1                  2               30   \n\n   purchase_time_woy  \n0                 16  \n1                 24  \n2                  1  \n3                 19  \n4                 37  ",
      "text/html": "<div>\n<style scoped>\n    .dataframe tbody tr th:only-of-type {\n        vertical-align: middle;\n    }\n\n    .dataframe tbody tr th {\n        vertical-align: top;\n    }\n\n    .dataframe thead th {\n        text-align: right;\n    }\n</style>\n<table border=\"1\" class=\"dataframe\">\n  <thead>\n    <tr style=\"text-align: right;\">\n      <th></th>\n      <th>user_id</th>\n      <th>signup_time</th>\n      <th>purchase_time</th>\n      <th>purchase_value</th>\n      <th>device_id</th>\n      <th>source</th>\n      <th>browser</th>\n      <th>sex</th>\n      <th>age</th>\n      <th>ip_address</th>\n      <th>class</th>\n      <th>lower_bound_ip_address</th>\n      <th>upper_bound_ip_address</th>\n      <th>country</th>\n      <th>time_difference</th>\n      <th>signup_time_dow</th>\n      <th>purchase_time_dow</th>\n      <th>signup_time_woy</th>\n      <th>purchase_time_woy</th>\n    </tr>\n  </thead>\n  <tbody>\n    <tr>\n      <th>0</th>\n      <td>22058</td>\n      <td>2015-02-24 22:55:49</td>\n      <td>2015-04-18 02:47:11</td>\n      <td>34</td>\n      <td>QVPSPJUOCKZAR</td>\n      <td>SEO</td>\n      <td>Chrome</td>\n      <td>M</td>\n      <td>39</td>\n      <td>7.327584e+08</td>\n      <td>0</td>\n      <td>7.298089e+08</td>\n      <td>7.340032e+08</td>\n      <td>Japan</td>\n      <td>4506682.0</td>\n      <td>1</td>\n      <td>5</td>\n      <td>9</td>\n      <td>16</td>\n    </tr>\n    <tr>\n      <th>1</th>\n      <td>333320</td>\n      <td>2015-06-07 20:39:50</td>\n      <td>2015-06-08 01:38:54</td>\n      <td>16</td>\n      <td>EOGFQPIZPYXFZ</td>\n      <td>Ads</td>\n      <td>Chrome</td>\n      <td>F</td>\n      <td>53</td>\n      <td>3.503114e+08</td>\n      <td>0</td>\n      <td>3.355443e+08</td>\n      <td>3.523215e+08</td>\n      <td>United States</td>\n      <td>17944.0</td>\n      <td>6</td>\n      <td>0</td>\n      <td>23</td>\n      <td>24</td>\n    </tr>\n    <tr>\n      <th>2</th>\n      <td>1359</td>\n      <td>2015-01-01 18:52:44</td>\n      <td>2015-01-01 18:52:45</td>\n      <td>15</td>\n      <td>YSSKYOSJHPPLJ</td>\n      <td>SEO</td>\n      <td>Opera</td>\n      <td>M</td>\n      <td>53</td>\n      <td>2.621474e+09</td>\n      <td>1</td>\n      <td>2.621440e+09</td>\n      <td>2.621506e+09</td>\n      <td>United States</td>\n      <td>1.0</td>\n      <td>3</td>\n      <td>3</td>\n      <td>1</td>\n      <td>1</td>\n    </tr>\n    <tr>\n      <th>3</th>\n      <td>150084</td>\n      <td>2015-04-28 21:13:25</td>\n      <td>2015-05-04 13:54:50</td>\n      <td>44</td>\n      <td>ATGTXKYKUDUQN</td>\n      <td>SEO</td>\n      <td>Safari</td>\n      <td>M</td>\n      <td>41</td>\n      <td>3.840542e+09</td>\n      <td>0</td>\n      <td>NaN</td>\n      <td>NaN</td>\n      <td>None</td>\n      <td>492085.0</td>\n      <td>1</td>\n      <td>0</td>\n      <td>18</td>\n      <td>19</td>\n    </tr>\n    <tr>\n      <th>4</th>\n      <td>221365</td>\n      <td>2015-07-21 07:09:52</td>\n      <td>2015-09-09 18:40:53</td>\n      <td>39</td>\n      <td>NAUITBZFJKHWW</td>\n      <td>Ads</td>\n      <td>Safari</td>\n      <td>M</td>\n      <td>45</td>\n      <td>4.155831e+08</td>\n      <td>0</td>\n      <td>4.154982e+08</td>\n      <td>4.156293e+08</td>\n      <td>United States</td>\n      <td>4361461.0</td>\n      <td>1</td>\n      <td>2</td>\n      <td>30</td>\n      <td>37</td>\n    </tr>\n  </tbody>\n</table>\n</div>"
     },
     "execution_count": 173,
     "metadata": {},
     "output_type": "execute_result"
    }
   ],
   "source": [
    "fraud_join_data.head()"
   ],
   "metadata": {
    "collapsed": false,
    "pycharm": {
     "name": "#%%\n"
    }
   }
  },
  {
   "cell_type": "code",
   "execution_count": 174,
   "outputs": [],
   "source": [
    "# prepare data for model\n",
    "# replace the NA country by \"not found\"\n",
    "fraud_model_data = fraud_join_data['country'].fillna(value = \"not found\")\n",
    "\n",
    "#drop the device id\n",
    "fraud_model_data = fraud_model_data.drop(columns = ['device_id','ip_address', 'lower_bound_ip_address', 'upper_bound_ip_address', 'user_id', 'signup_time', 'purchase_time'])\n"
   ],
   "metadata": {
    "collapsed": false,
    "pycharm": {
     "name": "#%%\n"
    }
   }
  },
  {
   "cell_type": "code",
   "execution_count": 174,
   "outputs": [],
   "source": [],
   "metadata": {
    "collapsed": false,
    "pycharm": {
     "name": "#%%\n"
    }
   }
  }
 ],
 "metadata": {
  "kernelspec": {
   "display_name": "Python 3",
   "language": "python",
   "name": "python3"
  },
  "language_info": {
   "codemirror_mode": {
    "name": "ipython",
    "version": 2
   },
   "file_extension": ".py",
   "mimetype": "text/x-python",
   "name": "python",
   "nbconvert_exporter": "python",
   "pygments_lexer": "ipython2",
   "version": "2.7.6"
  }
 },
 "nbformat": 4,
 "nbformat_minor": 0
}