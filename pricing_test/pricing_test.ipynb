{
 "cells": [
  {
   "cell_type": "markdown",
   "metadata": {
    "collapsed": true,
    "pycharm": {
     "name": "#%% md\n"
    }
   },
   "source": [
    "# Goal\n",
    "\n",
    "Pricing optimization is, non surprisingly, another area where data science can provide huge\n",
    "value.\n",
    "\n",
    "The goal here is to evaluate whether a pricing test running on the site has been successful.\n",
    "As always, you should focus on user segmentation and provide insights about segments\n",
    "who behave differently as well as any other insights you might find\n",
    "\n",
    "# Challenge Description\n",
    "\n",
    "Company XYZ sells a software for $39. Since revenue has been flat for some time, the VP of\n",
    "Product has decided to run a test increasing the price. She hopes that this would increase\n",
    "revenue. In the experiment, 66% of the users have seen the old price ($39), while a random\n",
    "sample of 33% users a higher price ($59).\n",
    "\n",
    "The test has been running for some time and the VP of Product is interested in understanding\n",
    "how it went and whether it would make sense to increase the price for all the users.\n",
    "\n",
    "Especially he asked you the following questions:\n",
    "\n",
    "* Should the company sell its software for $39 or $59?\n",
    "* The VP of Product is interested in having a holistic view into user behavior, especially\n",
    "focusing on actionable insights that might increase conversion rate. What are your main\n",
    "findings looking at the data?\n",
    "* [Bonus] The VP of Product feels that the test has been running for too long and he should\n",
    "have been able to get statistically significant results in a shorter time. Do you agree with\n",
    "her intuition? After how many days you would have stopped the test? Please, explain\n",
    "why\n",
    "\n",
    "# Data\n",
    "\n",
    "## test_results\n",
    "### Columns:\n",
    "* user_id : the Id of the user. Can be joined to user_id in user_table\n",
    "* timestamp : the date and time when the user hit for the first time company XYZ webpage. It is in user local time\n",
    "* source : marketing channel that led to the user coming to the site. It can be:\n",
    "  - ads-[\"google\", \"facebook\", \"bing\", \"yahoo\", \"other\"]. That is, user coming from\n",
    "  - google ads, yahoo ads, etc.\n",
    "  - seo - [\"google\", \"facebook\", \"bing\", \"yahoo\", \"other\"]. That is, user coming from\n",
    "  - google search, yahoo, facebook, etc.\n",
    "  - friend_referral : user coming from a referral link of another user\n",
    "* direct_traffic: user coming by directly typing the address of the site on the browser\n",
    "* device : user device. Can be mobile or web\n",
    "* operative_system : user operative system. Can be: \"windows\", \"linux\", \"mac\" for web,\n",
    "and \"android\", \"iOS\" for mobile. \tOther\t if it is none of the above\n",
    "* test: whether the user was in the test (i.e. 1 -> higher price) or in control (0 -> old\u0016lower\n",
    "price)\n",
    "* price : the price the user sees. It should match test\n",
    "* converted : whether the user converted (i.e. 1 -> bought the software) or not (0 -> left\n",
    "the site without buying it)\n",
    "\n",
    "\n",
    "## user_table\n",
    "\n",
    "### Columns:\n",
    "\n",
    "* user_id : the Id of the user. Can be joined to user_id in test_results table\n",
    "* city : the city where the user is located. Comes from the user ip address\n",
    "* country : in which country the city is located\n",
    "* lat : city latitude - should match user city\n",
    "* long : city longitude - should match user city"
   ]
  },
  {
   "cell_type": "code",
   "execution_count": 4,
   "outputs": [],
   "source": [
    "import pandas as pd\n"
   ],
   "metadata": {
    "collapsed": false,
    "pycharm": {
     "name": "#%%\n"
    }
   }
  },
  {
   "cell_type": "code",
   "execution_count": 5,
   "outputs": [],
   "source": [
    "# load the data\n",
    "user_table = pd.read_csv('user_table.csv')\n",
    "test_result = pd.read_csv('test_results.csv')"
   ],
   "metadata": {
    "collapsed": false,
    "pycharm": {
     "name": "#%%\n"
    }
   }
  }
 ],
 "metadata": {
  "kernelspec": {
   "display_name": "Python 3",
   "language": "python",
   "name": "python3"
  },
  "language_info": {
   "codemirror_mode": {
    "name": "ipython",
    "version": 2
   },
   "file_extension": ".py",
   "mimetype": "text/x-python",
   "name": "python",
   "nbconvert_exporter": "python",
   "pygments_lexer": "ipython2",
   "version": "2.7.6"
  }
 },
 "nbformat": 4,
 "nbformat_minor": 0
}