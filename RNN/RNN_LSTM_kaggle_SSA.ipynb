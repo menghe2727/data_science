{
 "cells": [
  {
   "cell_type": "code",
   "execution_count": 39,
   "outputs": [],
   "source": [
    "import torch\n",
    "import torch.nn.functional as F\n",
    "import torchtext\n",
    "import time\n",
    "import random\n",
    "import pandas as pd\n",
    "import numpy as np\n",
    "from sklearn.metrics import confusion_matrix\n",
    "import matplotlib.pyplot as plt"
   ],
   "metadata": {
    "collapsed": false,
    "pycharm": {
     "name": "#%%\n"
    }
   }
  },
  {
   "cell_type": "code",
   "execution_count": 40,
   "outputs": [
    {
     "name": "stdout",
     "output_type": "stream",
     "text": [
      "1.8.2+cu111\n"
     ]
    }
   ],
   "source": [
    "print(torch.__version__)"
   ],
   "metadata": {
    "collapsed": false,
    "pycharm": {
     "name": "#%%\n"
    }
   }
  },
  {
   "cell_type": "code",
   "execution_count": 41,
   "outputs": [
    {
     "data": {
      "text/plain": "True"
     },
     "execution_count": 41,
     "metadata": {},
     "output_type": "execute_result"
    }
   ],
   "source": [
    "torch.cuda.is_available()"
   ],
   "metadata": {
    "collapsed": false,
    "pycharm": {
     "name": "#%%\n"
    }
   }
  },
  {
   "cell_type": "markdown",
   "source": [
    "The data course is from kaggle Sentiment Analysis SSA:\n",
    "https://www.kaggle.com/competitions/sentiment-analysis-ssa/data\n",
    "The code is from :https://sebastianraschka.com/blog/2021/dl-course.html"
   ],
   "metadata": {
    "collapsed": false
   }
  },
  {
   "cell_type": "markdown",
   "source": [
    "Sentiment:\n",
    "0 represents a negative sentiment\n",
    "1 represent neutral"
   ],
   "metadata": {
    "collapsed": false
   }
  },
  {
   "cell_type": "code",
   "execution_count": 42,
   "outputs": [],
   "source": [
    "RANDOM_SEED = 123\n",
    "torch.manual_seed(RANDOM_SEED)\n",
    "\n",
    "VOCABULARY_SIZE = 20000\n",
    "LEARNING_RATE = 0.01\n",
    "BATCH_SIZE = 128\n",
    "NUM_EPOCHS = 100\n",
    "DEVICE = torch.device('cuda' if torch.cuda.is_available() else 'cpu')\n",
    "\n",
    "EMBEDDING_DIM = 128\n",
    "HIDDEN_DIM = 256\n",
    "NUM_CLASSES = 2"
   ],
   "metadata": {
    "collapsed": false,
    "pycharm": {
     "name": "#%%\n"
    }
   }
  },
  {
   "cell_type": "code",
   "execution_count": 43,
   "outputs": [
    {
     "name": "stdout",
     "output_type": "stream",
     "text": [
      "cuda\n"
     ]
    }
   ],
   "source": [
    "print(DEVICE)"
   ],
   "metadata": {
    "collapsed": false,
    "pycharm": {
     "name": "#%%\n"
    }
   }
  },
  {
   "cell_type": "code",
   "execution_count": 44,
   "outputs": [],
   "source": [
    "# read the data\n",
    "text_train =  pd.read_csv('train.csv')\n",
    "text_test = pd.read_csv('test.csv')"
   ],
   "metadata": {
    "collapsed": false,
    "pycharm": {
     "name": "#%%\n"
    }
   }
  },
  {
   "cell_type": "code",
   "execution_count": 45,
   "outputs": [
    {
     "data": {
      "text/plain": "<AxesSubplot: xlabel='label'>"
     },
     "execution_count": 45,
     "metadata": {},
     "output_type": "execute_result"
    },
    {
     "data": {
      "text/plain": "<Figure size 640x480 with 1 Axes>",
      "image/png": "[encoded data removed]"
     },
     "metadata": {},
     "output_type": "display_data"
    }
   ],
   "source": [
    "text_train.groupby('label').count()['id'].plot.bar()\n"
   ],
   "metadata": {
    "collapsed": false,
    "pycharm": {
     "name": "#%%\n"
    }
   }
  },
  {
   "cell_type": "code",
   "execution_count": 46,
   "outputs": [
    {
     "data": {
      "text/plain": "     id                                               text  label\n0  1154  a warm but realistic meditation on friendship ...      1\n1  1134  beautifully observed , miraculously unsentimen...      1\n2  2373  some may choose to interpret the film's end as...      1\n3  5691  it's harmless , diverting fluff . but it's har...      0\n4  2072  the touch is generally light enough and the pe...      1",
      "text/html": "<div>\n<style scoped>\n    .dataframe tbody tr th:only-of-type {\n        vertical-align: middle;\n    }\n\n    .dataframe tbody tr th {\n        vertical-align: top;\n    }\n\n    .dataframe thead th {\n        text-align: right;\n    }\n</style>\n<table border=\"1\" class=\"dataframe\">\n  <thead>\n    <tr style=\"text-align: right;\">\n      <th></th>\n      <th>id</th>\n      <th>text</th>\n      <th>label</th>\n    </tr>\n  </thead>\n  <tbody>\n    <tr>\n      <th>0</th>\n      <td>1154</td>\n      <td>a warm but realistic meditation on friendship ...</td>\n      <td>1</td>\n    </tr>\n    <tr>\n      <th>1</th>\n      <td>1134</td>\n      <td>beautifully observed , miraculously unsentimen...</td>\n      <td>1</td>\n    </tr>\n    <tr>\n      <th>2</th>\n      <td>2373</td>\n      <td>some may choose to interpret the film's end as...</td>\n      <td>1</td>\n    </tr>\n    <tr>\n      <th>3</th>\n      <td>5691</td>\n      <td>it's harmless , diverting fluff . but it's har...</td>\n      <td>0</td>\n    </tr>\n    <tr>\n      <th>4</th>\n      <td>2072</td>\n      <td>the touch is generally light enough and the pe...</td>\n      <td>1</td>\n    </tr>\n  </tbody>\n</table>\n</div>"
     },
     "execution_count": 46,
     "metadata": {},
     "output_type": "execute_result"
    }
   ],
   "source": [
    "#look at data\n",
    "text_train.head()\n"
   ],
   "metadata": {
    "collapsed": false,
    "pycharm": {
     "name": "#%%\n"
    }
   }
  },
  {
   "cell_type": "code",
   "execution_count": 47,
   "outputs": [
    {
     "data": {
      "text/plain": "   id                                               text\n0   0  entertainment more disposable than hanna-barbe...\n1   1  shame on writer/director vicente aranda for ma...\n2   2  although estela bravo's documentary is cloying...\n3   3  despite its visual virtuosity , 'naqoyqatsi' i...\n4   4  not once in the rush to save the day did i bec...",
      "text/html": "<div>\n<style scoped>\n    .dataframe tbody tr th:only-of-type {\n        vertical-align: middle;\n    }\n\n    .dataframe tbody tr th {\n        vertical-align: top;\n    }\n\n    .dataframe thead th {\n        text-align: right;\n    }\n</style>\n<table border=\"1\" class=\"dataframe\">\n  <thead>\n    <tr style=\"text-align: right;\">\n      <th></th>\n      <th>id</th>\n      <th>text</th>\n    </tr>\n  </thead>\n  <tbody>\n    <tr>\n      <th>0</th>\n      <td>0</td>\n      <td>entertainment more disposable than hanna-barbe...</td>\n    </tr>\n    <tr>\n      <th>1</th>\n      <td>1</td>\n      <td>shame on writer/director vicente aranda for ma...</td>\n    </tr>\n    <tr>\n      <th>2</th>\n      <td>2</td>\n      <td>although estela bravo's documentary is cloying...</td>\n    </tr>\n    <tr>\n      <th>3</th>\n      <td>3</td>\n      <td>despite its visual virtuosity , 'naqoyqatsi' i...</td>\n    </tr>\n    <tr>\n      <th>4</th>\n      <td>4</td>\n      <td>not once in the rush to save the day did i bec...</td>\n    </tr>\n  </tbody>\n</table>\n</div>"
     },
     "execution_count": 47,
     "metadata": {},
     "output_type": "execute_result"
    }
   ],
   "source": [
    "text_test.head()"
   ],
   "metadata": {
    "collapsed": false,
    "pycharm": {
     "name": "#%%\n"
    }
   }
  },
  {
   "cell_type": "code",
   "execution_count": 48,
   "outputs": [
    {
     "data": {
      "text/plain": "'beautifully observed , miraculously unsentimental comedy-drama .'"
     },
     "execution_count": 48,
     "metadata": {},
     "output_type": "execute_result"
    }
   ],
   "source": [
    "text_train.iloc[1,1]"
   ],
   "metadata": {
    "collapsed": false,
    "pycharm": {
     "name": "#%%\n"
    }
   }
  },
  {
   "cell_type": "code",
   "execution_count": 49,
   "outputs": [
    {
     "data": {
      "text/plain": "                id        label\ncount  8530.000000  8530.000000\nmean   4264.500000     0.500000\nstd    2462.543231     0.500029\nmin       0.000000     0.000000\n25%    2132.250000     0.000000\n50%    4264.500000     0.500000\n75%    6396.750000     1.000000\nmax    8529.000000     1.000000",
      "text/html": "<div>\n<style scoped>\n    .dataframe tbody tr th:only-of-type {\n        vertical-align: middle;\n    }\n\n    .dataframe tbody tr th {\n        vertical-align: top;\n    }\n\n    .dataframe thead th {\n        text-align: right;\n    }\n</style>\n<table border=\"1\" class=\"dataframe\">\n  <thead>\n    <tr style=\"text-align: right;\">\n      <th></th>\n      <th>id</th>\n      <th>label</th>\n    </tr>\n  </thead>\n  <tbody>\n    <tr>\n      <th>count</th>\n      <td>8530.000000</td>\n      <td>8530.000000</td>\n    </tr>\n    <tr>\n      <th>mean</th>\n      <td>4264.500000</td>\n      <td>0.500000</td>\n    </tr>\n    <tr>\n      <th>std</th>\n      <td>2462.543231</td>\n      <td>0.500029</td>\n    </tr>\n    <tr>\n      <th>min</th>\n      <td>0.000000</td>\n      <td>0.000000</td>\n    </tr>\n    <tr>\n      <th>25%</th>\n      <td>2132.250000</td>\n      <td>0.000000</td>\n    </tr>\n    <tr>\n      <th>50%</th>\n      <td>4264.500000</td>\n      <td>0.500000</td>\n    </tr>\n    <tr>\n      <th>75%</th>\n      <td>6396.750000</td>\n      <td>1.000000</td>\n    </tr>\n    <tr>\n      <th>max</th>\n      <td>8529.000000</td>\n      <td>1.000000</td>\n    </tr>\n  </tbody>\n</table>\n</div>"
     },
     "execution_count": 49,
     "metadata": {},
     "output_type": "execute_result"
    }
   ],
   "source": [
    "# look the data\n",
    "text_train.describe()"
   ],
   "metadata": {
    "collapsed": false,
    "pycharm": {
     "name": "#%%\n"
    }
   }
  },
  {
   "cell_type": "code",
   "execution_count": 50,
   "outputs": [
    {
     "data": {
      "text/plain": "id       8530\ntext     8530\nlabel    8530\ndtype: int64"
     },
     "execution_count": 50,
     "metadata": {},
     "output_type": "execute_result"
    }
   ],
   "source": [
    "#do not have null data\n",
    "text_train.isnull().count()\n"
   ],
   "metadata": {
    "collapsed": false,
    "pycharm": {
     "name": "#%%\n"
    }
   }
  },
  {
   "cell_type": "code",
   "execution_count": 51,
   "outputs": [],
   "source": [
    "text_train_data = text_train.drop(columns = ['id'])\n",
    "#change column name\n",
    "text_train_data.columns = ['TEXT_COLUMN_NAME', 'LABEL_COLUMN_NAME']"
   ],
   "metadata": {
    "collapsed": false,
    "pycharm": {
     "name": "#%%\n"
    }
   }
  },
  {
   "cell_type": "code",
   "execution_count": 52,
   "outputs": [
    {
     "data": {
      "text/plain": "                                    TEXT_COLUMN_NAME  LABEL_COLUMN_NAME\n0  a warm but realistic meditation on friendship ...                  1\n1  beautifully observed , miraculously unsentimen...                  1\n2  some may choose to interpret the film's end as...                  1\n3  it's harmless , diverting fluff . but it's har...                  0\n4  the touch is generally light enough and the pe...                  1",
      "text/html": "<div>\n<style scoped>\n    .dataframe tbody tr th:only-of-type {\n        vertical-align: middle;\n    }\n\n    .dataframe tbody tr th {\n        vertical-align: top;\n    }\n\n    .dataframe thead th {\n        text-align: right;\n    }\n</style>\n<table border=\"1\" class=\"dataframe\">\n  <thead>\n    <tr style=\"text-align: right;\">\n      <th></th>\n      <th>TEXT_COLUMN_NAME</th>\n      <th>LABEL_COLUMN_NAME</th>\n    </tr>\n  </thead>\n  <tbody>\n    <tr>\n      <th>0</th>\n      <td>a warm but realistic meditation on friendship ...</td>\n      <td>1</td>\n    </tr>\n    <tr>\n      <th>1</th>\n      <td>beautifully observed , miraculously unsentimen...</td>\n      <td>1</td>\n    </tr>\n    <tr>\n      <th>2</th>\n      <td>some may choose to interpret the film's end as...</td>\n      <td>1</td>\n    </tr>\n    <tr>\n      <th>3</th>\n      <td>it's harmless , diverting fluff . but it's har...</td>\n      <td>0</td>\n    </tr>\n    <tr>\n      <th>4</th>\n      <td>the touch is generally light enough and the pe...</td>\n      <td>1</td>\n    </tr>\n  </tbody>\n</table>\n</div>"
     },
     "execution_count": 52,
     "metadata": {},
     "output_type": "execute_result"
    }
   ],
   "source": [
    "text_train_data.to_csv('SSA_train_data.csv', index=None)\n",
    "comment_train_look = pd.read_csv('SSA_train_data.csv')\n",
    "comment_train_look.head()\n",
    "\n"
   ],
   "metadata": {
    "collapsed": false,
    "pycharm": {
     "name": "#%%\n"
    }
   }
  },
  {
   "cell_type": "markdown",
   "source": [
    "Download English vocabulary via:\n",
    "\n",
    "- `python -m spacy download en_core_web_sm`\n",
    "\n"
   ],
   "metadata": {
    "collapsed": false
   }
  },
  {
   "cell_type": "code",
   "execution_count": 53,
   "outputs": [],
   "source": [
    "# only have legacy in torchtext==0.9\n",
    "# pip install torchtext==0.9\n",
    "### Defining the feature processing\n",
    "\n",
    "TEXT = torchtext.legacy.data.Field(\n",
    "    tokenize='spacy', # default splits on whitespace\n",
    "    tokenizer_language='en_core_web_sm'\n",
    ")\n",
    "\n",
    "### Defining the label processing\n",
    "\n",
    "LABEL = torchtext.legacy.data.LabelField(dtype=torch.long)\n"
   ],
   "metadata": {
    "collapsed": false,
    "pycharm": {
     "name": "#%%\n"
    }
   }
  },
  {
   "cell_type": "code",
   "execution_count": 54,
   "outputs": [],
   "source": [
    "fields = [('TEXT_COLUMN_NAME', TEXT), ('LABEL_COLUMN_NAME', LABEL)]\n",
    "\n",
    "dataset = torchtext.legacy.data.TabularDataset(\n",
    "    path='SSA_train_data.csv', format='csv',\n",
    "    skip_header=True, fields=fields)\n",
    "\n"
   ],
   "metadata": {
    "collapsed": false,
    "pycharm": {
     "name": "#%%\n"
    }
   }
  },
  {
   "cell_type": "code",
   "execution_count": 55,
   "outputs": [
    {
     "name": "stdout",
     "output_type": "stream",
     "text": [
      "Num Train: 6824\n",
      "Num Test: 1706\n"
     ]
    }
   ],
   "source": [
    "# separate into train and test set\n",
    "train_data, test_data = dataset.split(\n",
    "    split_ratio=[0.8, 0.2],\n",
    "    random_state=random.seed(RANDOM_SEED))\n",
    "\n",
    "print(f'Num Train: {len(train_data)}')\n",
    "print(f'Num Test: {len(test_data)}')\n"
   ],
   "metadata": {
    "collapsed": false,
    "pycharm": {
     "name": "#%%\n"
    }
   }
  },
  {
   "cell_type": "code",
   "execution_count": 56,
   "outputs": [
    {
     "name": "stdout",
     "output_type": "stream",
     "text": [
      "Num Train: 5800\n",
      "Num Validation: 1024\n"
     ]
    }
   ],
   "source": [
    "# separate into train, valid and test set\n",
    "train_data, valid_data = train_data.split(\n",
    "    split_ratio=[0.85, 0.15],\n",
    "    random_state=random.seed(RANDOM_SEED))\n",
    "\n",
    "print(f'Num Train: {len(train_data)}')\n",
    "print(f'Num Validation: {len(valid_data)}')\n"
   ],
   "metadata": {
    "collapsed": false,
    "pycharm": {
     "name": "#%%\n"
    }
   }
  },
  {
   "cell_type": "code",
   "execution_count": 57,
   "outputs": [
    {
     "name": "stdout",
     "output_type": "stream",
     "text": [
      "{'TEXT_COLUMN_NAME': ['kinnear', 'gives', 'a', 'tremendous', 'performance', '.'], 'LABEL_COLUMN_NAME': '1'}\n"
     ]
    }
   ],
   "source": [
    "print(vars(train_data.examples[0]))\n"
   ],
   "metadata": {
    "collapsed": false,
    "pycharm": {
     "name": "#%%\n"
    }
   }
  },
  {
   "cell_type": "markdown",
   "source": [
    "## Build Vocabulary"
   ],
   "metadata": {
    "collapsed": false
   }
  },
  {
   "cell_type": "markdown",
   "source": [
    "Build the vocabulary based on the top \"VOCABULARY_SIZE\" words:"
   ],
   "metadata": {
    "collapsed": false
   }
  },
  {
   "cell_type": "code",
   "execution_count": 58,
   "outputs": [
    {
     "name": "stdout",
     "output_type": "stream",
     "text": [
      "Vocabulary size: 13709\n",
      "Number of classes: 2\n"
     ]
    }
   ],
   "source": [
    "TEXT.build_vocab(train_data, max_size=VOCABULARY_SIZE)\n",
    "LABEL.build_vocab(train_data)\n",
    "\n",
    "print(f'Vocabulary size: {len(TEXT.vocab)}')\n",
    "print(f'Number of classes: {len(LABEL.vocab)}')"
   ],
   "metadata": {
    "collapsed": false,
    "pycharm": {
     "name": "#%%\n"
    }
   }
  },
  {
   "cell_type": "markdown",
   "source": [
    "- 20,002 not 20,000 because of the `<unk>` and `<pad>` tokens\n",
    "- PyTorch RNNs can deal with arbitrary lengths due to dynamic graphs, but padding is necessary for padding sequences to the same length in a given minibatch so we can store those in an array"
   ],
   "metadata": {
    "collapsed": false
   }
  },
  {
   "cell_type": "code",
   "execution_count": 59,
   "outputs": [
    {
     "name": "stdout",
     "output_type": "stream",
     "text": [
      "[('.', 7582), ('the', 5548), (',', 5458), ('a', 4013), ('and', 3420), ('of', 3330), ('to', 2362), ('-', 2034), ('is', 1971), (\"'s\", 1944), ('it', 1892), ('in', 1454), ('that', 1445), ('as', 987), ('but', 893), ('with', 836), ('for', 828), ('film', 817), ('this', 775), ('an', 744)]\n"
     ]
    }
   ],
   "source": [
    "#Look at most common words:\n",
    "print(TEXT.vocab.freqs.most_common(20))\n"
   ],
   "metadata": {
    "collapsed": false,
    "pycharm": {
     "name": "#%%\n"
    }
   }
  },
  {
   "cell_type": "code",
   "execution_count": 60,
   "outputs": [
    {
     "name": "stdout",
     "output_type": "stream",
     "text": [
      "['<unk>', '<pad>', '.', 'the', ',', 'a', 'and', 'of', 'to', '-']\n"
     ]
    }
   ],
   "source": [
    "#Tokens corresponding to the first 10 indices (0, 1, ..., 9):\n",
    "print(TEXT.vocab.itos[:10]) # itos = integer-to-string\n",
    "\n"
   ],
   "metadata": {
    "collapsed": false,
    "pycharm": {
     "name": "#%%\n"
    }
   }
  },
  {
   "cell_type": "markdown",
   "source": [
    "**Converting a string to an integer:**"
   ],
   "metadata": {
    "collapsed": false
   }
  },
  {
   "cell_type": "code",
   "execution_count": 61,
   "outputs": [
    {
     "name": "stdout",
     "output_type": "stream",
     "text": [
      "3\n"
     ]
    }
   ],
   "source": [
    "print(TEXT.vocab.stoi['the']) # stoi = string-to-integer"
   ],
   "metadata": {
    "collapsed": false,
    "pycharm": {
     "name": "#%%\n"
    }
   }
  },
  {
   "cell_type": "markdown",
   "source": [
    "**Class labels:**"
   ],
   "metadata": {
    "collapsed": false
   }
  },
  {
   "cell_type": "code",
   "execution_count": 62,
   "outputs": [
    {
     "name": "stdout",
     "output_type": "stream",
     "text": [
      "defaultdict(None, {'0': 0, '1': 1})\n"
     ]
    }
   ],
   "source": [
    "print(LABEL.vocab.stoi)"
   ],
   "metadata": {
    "collapsed": false,
    "pycharm": {
     "name": "#%%\n"
    }
   }
  },
  {
   "cell_type": "markdown",
   "source": [
    "**Class label count:**"
   ],
   "metadata": {
    "collapsed": false
   }
  },
  {
   "cell_type": "code",
   "execution_count": 63,
   "outputs": [
    {
     "data": {
      "text/plain": "Counter({'1': 2892, '0': 2908})"
     },
     "execution_count": 63,
     "metadata": {},
     "output_type": "execute_result"
    }
   ],
   "source": [
    "LABEL.vocab.freqs"
   ],
   "metadata": {
    "collapsed": false,
    "pycharm": {
     "name": "#%%\n"
    }
   }
  },
  {
   "cell_type": "markdown",
   "source": [
    "## Define Data Loaders"
   ],
   "metadata": {
    "collapsed": false
   }
  },
  {
   "cell_type": "code",
   "execution_count": 64,
   "outputs": [],
   "source": [
    "train_loader, valid_loader, test_loader = \\\n",
    "    torchtext.legacy.data.BucketIterator.splits(\n",
    "        (train_data, valid_data, test_data),\n",
    "         batch_size=BATCH_SIZE,\n",
    "         sort_within_batch=False,\n",
    "         sort_key=lambda x: len(x.TEXT_COLUMN_NAME),\n",
    "         device=DEVICE\n",
    "    )"
   ],
   "metadata": {
    "collapsed": false,
    "pycharm": {
     "name": "#%%\n"
    }
   }
  },
  {
   "cell_type": "markdown",
   "source": [
    "Testing the iterators (note that the number of rows depends on the longest document in the respective batch):"
   ],
   "metadata": {
    "collapsed": false
   }
  },
  {
   "cell_type": "code",
   "execution_count": 65,
   "outputs": [
    {
     "name": "stdout",
     "output_type": "stream",
     "text": [
      "Train\n",
      "Text matrix size: torch.Size([44, 128])\n",
      "Target vector size: torch.Size([128])\n",
      "\n",
      "Valid:\n",
      "Text matrix size: torch.Size([11, 128])\n",
      "Target vector size: torch.Size([128])\n",
      "\n",
      "Test:\n",
      "Text matrix size: torch.Size([8, 128])\n",
      "Target vector size: torch.Size([128])\n"
     ]
    }
   ],
   "source": [
    "print('Train')\n",
    "for batch in train_loader:\n",
    "    print(f'Text matrix size: {batch.TEXT_COLUMN_NAME.size()}')\n",
    "    print(f'Target vector size: {batch.LABEL_COLUMN_NAME.size()}')\n",
    "    break\n",
    "\n",
    "print('\\nValid:')\n",
    "for batch in valid_loader:\n",
    "    print(f'Text matrix size: {batch.TEXT_COLUMN_NAME.size()}')\n",
    "    print(f'Target vector size: {batch.LABEL_COLUMN_NAME.size()}')\n",
    "    break\n",
    "\n",
    "print('\\nTest:')\n",
    "for batch in test_loader:\n",
    "    print(f'Text matrix size: {batch.TEXT_COLUMN_NAME.size()}')\n",
    "    print(f'Target vector size: {batch.LABEL_COLUMN_NAME.size()}')\n",
    "    break"
   ],
   "metadata": {
    "collapsed": false,
    "pycharm": {
     "name": "#%%\n"
    }
   }
  },
  {
   "cell_type": "markdown",
   "source": [
    "## Model"
   ],
   "metadata": {
    "collapsed": false
   }
  },
  {
   "cell_type": "code",
   "execution_count": 66,
   "outputs": [],
   "source": [
    "class RNN(torch.nn.Module):\n",
    "\n",
    "    def __init__(self, input_dim, embedding_dim, hidden_dim, output_dim):\n",
    "        super().__init__()\n",
    "\n",
    "        self.embedding = torch.nn.Embedding(input_dim, embedding_dim)\n",
    "        #self.rnn = torch.nn.RNN(embedding_dim,\n",
    "        #                        hidden_dim,\n",
    "        #                        nonlinearity='relu')\n",
    "        self.rnn = torch.nn.LSTM(embedding_dim,\n",
    "                                 hidden_dim)\n",
    "\n",
    "        self.fc = torch.nn.Linear(hidden_dim, output_dim)\n",
    "\n",
    "\n",
    "    def forward(self, text):\n",
    "        # text dim: [sentence length, batch size]\n",
    "\n",
    "        embedded = self.embedding(text)\n",
    "        # embedded dim: [sentence length, batch size, embedding dim]\n",
    "\n",
    "        output, (hidden, cell) = self.rnn(embedded)\n",
    "        # output dim: [sentence length, batch size, hidden dim]\n",
    "        # hidden dim: [1, batch size, hidden dim]\n",
    "\n",
    "        hidden.squeeze_(0)\n",
    "        # hidden dim: [batch size, hidden dim]\n",
    "\n",
    "        output = self.fc(hidden)\n",
    "        return output"
   ],
   "metadata": {
    "collapsed": false,
    "pycharm": {
     "name": "#%%\n"
    }
   }
  },
  {
   "cell_type": "code",
   "execution_count": 67,
   "outputs": [],
   "source": [
    "torch.manual_seed(RANDOM_SEED)\n",
    "model = RNN(input_dim=len(TEXT.vocab),\n",
    "            embedding_dim=EMBEDDING_DIM,\n",
    "            hidden_dim=HIDDEN_DIM,\n",
    "            output_dim=NUM_CLASSES # could use 1 for binary classification\n",
    ")\n",
    "\n",
    "model = model.to(DEVICE)\n",
    "optimizer = torch.optim.Adam(model.parameters(), lr=0.005)"
   ],
   "metadata": {
    "collapsed": false,
    "pycharm": {
     "name": "#%%\n"
    }
   }
  },
  {
   "cell_type": "markdown",
   "source": [
    "## Training"
   ],
   "metadata": {
    "collapsed": false
   }
  },
  {
   "cell_type": "code",
   "execution_count": 68,
   "outputs": [],
   "source": [
    "def compute_accuracy(model, data_loader, device):\n",
    "\n",
    "    with torch.no_grad():\n",
    "\n",
    "        correct_pred, num_examples = 0, 0\n",
    "\n",
    "        for i, (features, targets) in enumerate(data_loader):\n",
    "\n",
    "            features = features.to(device)\n",
    "            targets = targets.float().to(device)\n",
    "\n",
    "            logits = model(features)\n",
    "            _, predicted_labels = torch.max(logits, 1)\n",
    "\n",
    "            num_examples += targets.size(0)\n",
    "            correct_pred += (predicted_labels == targets).sum()\n",
    "    return correct_pred.float()/num_examples * 100\n"
   ],
   "metadata": {
    "collapsed": false,
    "pycharm": {
     "name": "#%%\n"
    }
   }
  },
  {
   "cell_type": "code",
   "execution_count": 69,
   "outputs": [],
   "source": [
    "def predict_label(model, data_loader, device):\n",
    "\n",
    "    with torch.no_grad():\n",
    "        Y_acctual, Y_preds = [], []\n",
    "        correct_pred, num_examples = 0, 0\n",
    "\n",
    "        for i, (features, targets) in enumerate(data_loader):\n",
    "\n",
    "            features = features.to(device)\n",
    "            targets = targets.float().to(device)\n",
    "\n",
    "            logits = model(features)\n",
    "            _, predicted_labels = torch.max(logits, 1)\n",
    "\n",
    "            num_examples += targets.size(0)\n",
    "            correct_pred += (predicted_labels == targets).sum()\n",
    "            Y_preds.append(predicted_labels.cpu().data.numpy())\n",
    "            Y_acctual.append(targets.cpu().data.numpy())\n",
    "    return  np.concatenate(Y_preds), np.concatenate(Y_acctual)"
   ],
   "metadata": {
    "collapsed": false,
    "pycharm": {
     "name": "#%%\n"
    }
   }
  },
  {
   "cell_type": "code",
   "execution_count": 70,
   "outputs": [
    {
     "name": "stdout",
     "output_type": "stream",
     "text": [
      "Epoch: 001/100 | Batch 000/046 | Loss: 0.7138\n",
      "training accuracy: 50.22%\n",
      "valid accuracy: 48.05%\n",
      "Time elapsed: 0.05 min\n",
      "Epoch: 002/100 | Batch 000/046 | Loss: 0.6917\n",
      "training accuracy: 49.98%\n",
      "valid accuracy: 50.59%\n",
      "Time elapsed: 0.07 min\n",
      "Epoch: 003/100 | Batch 000/046 | Loss: 0.6931\n",
      "training accuracy: 50.45%\n",
      "valid accuracy: 48.93%\n",
      "Time elapsed: 0.09 min\n",
      "Epoch: 004/100 | Batch 000/046 | Loss: 0.6930\n",
      "training accuracy: 50.34%\n",
      "valid accuracy: 48.24%\n",
      "Time elapsed: 0.10 min\n",
      "Epoch: 005/100 | Batch 000/046 | Loss: 0.6954\n",
      "training accuracy: 50.12%\n",
      "valid accuracy: 50.00%\n",
      "Time elapsed: 0.12 min\n",
      "Epoch: 006/100 | Batch 000/046 | Loss: 0.6959\n",
      "training accuracy: 50.62%\n",
      "valid accuracy: 48.63%\n",
      "Time elapsed: 0.14 min\n",
      "Epoch: 007/100 | Batch 000/046 | Loss: 0.6918\n",
      "training accuracy: 50.50%\n",
      "valid accuracy: 49.41%\n",
      "Time elapsed: 0.16 min\n",
      "Epoch: 008/100 | Batch 000/046 | Loss: 0.6883\n",
      "training accuracy: 50.31%\n",
      "valid accuracy: 51.86%\n",
      "Time elapsed: 0.18 min\n",
      "Epoch: 009/100 | Batch 000/046 | Loss: 0.6949\n",
      "training accuracy: 65.34%\n",
      "valid accuracy: 55.47%\n",
      "Time elapsed: 0.19 min\n",
      "Epoch: 010/100 | Batch 000/046 | Loss: 0.6081\n",
      "training accuracy: 80.53%\n",
      "valid accuracy: 59.47%\n",
      "Time elapsed: 0.21 min\n",
      "Epoch: 011/100 | Batch 000/046 | Loss: 0.5025\n",
      "training accuracy: 90.81%\n",
      "valid accuracy: 63.38%\n",
      "Time elapsed: 0.23 min\n",
      "Epoch: 012/100 | Batch 000/046 | Loss: 0.2960\n",
      "training accuracy: 95.86%\n",
      "valid accuracy: 66.41%\n",
      "Time elapsed: 0.25 min\n",
      "Epoch: 013/100 | Batch 000/046 | Loss: 0.1294\n",
      "training accuracy: 97.76%\n",
      "valid accuracy: 65.82%\n",
      "Time elapsed: 0.27 min\n",
      "Epoch: 014/100 | Batch 000/046 | Loss: 0.0340\n",
      "training accuracy: 98.60%\n",
      "valid accuracy: 66.70%\n",
      "Time elapsed: 0.28 min\n",
      "Epoch: 015/100 | Batch 000/046 | Loss: 0.0533\n",
      "training accuracy: 99.26%\n",
      "valid accuracy: 65.92%\n",
      "Time elapsed: 0.30 min\n",
      "Epoch: 016/100 | Batch 000/046 | Loss: 0.0180\n",
      "training accuracy: 99.55%\n",
      "valid accuracy: 67.87%\n",
      "Time elapsed: 0.32 min\n",
      "Epoch: 017/100 | Batch 000/046 | Loss: 0.0310\n",
      "training accuracy: 99.72%\n",
      "valid accuracy: 66.80%\n",
      "Time elapsed: 0.34 min\n",
      "Epoch: 018/100 | Batch 000/046 | Loss: 0.0143\n",
      "training accuracy: 99.62%\n",
      "valid accuracy: 67.48%\n",
      "Time elapsed: 0.36 min\n",
      "Epoch: 019/100 | Batch 000/046 | Loss: 0.0042\n",
      "training accuracy: 99.72%\n",
      "valid accuracy: 66.41%\n",
      "Time elapsed: 0.37 min\n",
      "Epoch: 020/100 | Batch 000/046 | Loss: 0.0031\n",
      "training accuracy: 99.79%\n",
      "valid accuracy: 67.29%\n",
      "Time elapsed: 0.39 min\n",
      "Epoch: 021/100 | Batch 000/046 | Loss: 0.0035\n",
      "training accuracy: 99.71%\n",
      "valid accuracy: 68.55%\n",
      "Time elapsed: 0.41 min\n",
      "Epoch: 022/100 | Batch 000/046 | Loss: 0.0095\n",
      "training accuracy: 99.38%\n",
      "valid accuracy: 67.29%\n",
      "Time elapsed: 0.43 min\n",
      "Epoch: 023/100 | Batch 000/046 | Loss: 0.0641\n",
      "training accuracy: 99.91%\n",
      "valid accuracy: 69.14%\n",
      "Time elapsed: 0.44 min\n",
      "Epoch: 024/100 | Batch 000/046 | Loss: 0.0020\n",
      "training accuracy: 99.88%\n",
      "valid accuracy: 69.73%\n",
      "Time elapsed: 0.46 min\n",
      "Epoch: 025/100 | Batch 000/046 | Loss: 0.0430\n",
      "training accuracy: 99.97%\n",
      "valid accuracy: 69.82%\n",
      "Time elapsed: 0.48 min\n",
      "Epoch: 026/100 | Batch 000/046 | Loss: 0.0021\n",
      "training accuracy: 99.86%\n",
      "valid accuracy: 69.92%\n",
      "Time elapsed: 0.50 min\n",
      "Epoch: 027/100 | Batch 000/046 | Loss: 0.0050\n",
      "training accuracy: 99.88%\n",
      "valid accuracy: 69.04%\n",
      "Time elapsed: 0.52 min\n",
      "Epoch: 028/100 | Batch 000/046 | Loss: 0.0020\n",
      "training accuracy: 99.90%\n",
      "valid accuracy: 69.53%\n",
      "Time elapsed: 0.53 min\n",
      "Epoch: 029/100 | Batch 000/046 | Loss: 0.0008\n",
      "training accuracy: 99.90%\n",
      "valid accuracy: 68.46%\n",
      "Time elapsed: 0.55 min\n",
      "Epoch: 030/100 | Batch 000/046 | Loss: 0.0008\n",
      "training accuracy: 99.86%\n",
      "valid accuracy: 68.36%\n",
      "Time elapsed: 0.57 min\n",
      "Epoch: 031/100 | Batch 000/046 | Loss: 0.0027\n",
      "training accuracy: 99.84%\n",
      "valid accuracy: 67.87%\n",
      "Time elapsed: 0.59 min\n",
      "Epoch: 032/100 | Batch 000/046 | Loss: 0.0044\n",
      "training accuracy: 99.86%\n",
      "valid accuracy: 65.82%\n",
      "Time elapsed: 0.60 min\n",
      "Epoch: 033/100 | Batch 000/046 | Loss: 0.0186\n",
      "training accuracy: 99.95%\n",
      "valid accuracy: 68.16%\n",
      "Time elapsed: 0.62 min\n",
      "Epoch: 034/100 | Batch 000/046 | Loss: 0.0007\n",
      "training accuracy: 99.91%\n",
      "valid accuracy: 67.19%\n",
      "Time elapsed: 0.64 min\n",
      "Epoch: 035/100 | Batch 000/046 | Loss: 0.0019\n",
      "training accuracy: 99.62%\n",
      "valid accuracy: 68.16%\n",
      "Time elapsed: 0.66 min\n",
      "Epoch: 036/100 | Batch 000/046 | Loss: 0.0116\n",
      "training accuracy: 99.95%\n",
      "valid accuracy: 68.55%\n",
      "Time elapsed: 0.67 min\n",
      "Epoch: 037/100 | Batch 000/046 | Loss: 0.0033\n",
      "training accuracy: 99.98%\n",
      "valid accuracy: 67.97%\n",
      "Time elapsed: 0.69 min\n",
      "Epoch: 038/100 | Batch 000/046 | Loss: 0.0005\n",
      "training accuracy: 99.98%\n",
      "valid accuracy: 69.04%\n",
      "Time elapsed: 0.71 min\n",
      "Epoch: 039/100 | Batch 000/046 | Loss: 0.0004\n",
      "training accuracy: 100.00%\n",
      "valid accuracy: 68.85%\n",
      "Time elapsed: 0.73 min\n",
      "Epoch: 040/100 | Batch 000/046 | Loss: 0.0002\n",
      "training accuracy: 100.00%\n",
      "valid accuracy: 68.65%\n",
      "Time elapsed: 0.75 min\n",
      "Epoch: 041/100 | Batch 000/046 | Loss: 0.0001\n",
      "training accuracy: 100.00%\n",
      "valid accuracy: 68.65%\n",
      "Time elapsed: 0.76 min\n",
      "Epoch: 042/100 | Batch 000/046 | Loss: 0.0001\n",
      "training accuracy: 100.00%\n",
      "valid accuracy: 68.65%\n",
      "Time elapsed: 0.78 min\n",
      "Epoch: 043/100 | Batch 000/046 | Loss: 0.0004\n",
      "training accuracy: 100.00%\n",
      "valid accuracy: 68.65%\n",
      "Time elapsed: 0.80 min\n",
      "Epoch: 044/100 | Batch 000/046 | Loss: 0.0002\n",
      "training accuracy: 100.00%\n",
      "valid accuracy: 68.85%\n",
      "Time elapsed: 0.82 min\n",
      "Epoch: 045/100 | Batch 000/046 | Loss: 0.0001\n",
      "training accuracy: 100.00%\n",
      "valid accuracy: 69.04%\n",
      "Time elapsed: 0.83 min\n",
      "Epoch: 046/100 | Batch 000/046 | Loss: 0.0000\n",
      "training accuracy: 100.00%\n",
      "valid accuracy: 69.04%\n",
      "Time elapsed: 0.85 min\n",
      "Epoch: 047/100 | Batch 000/046 | Loss: 0.0002\n",
      "training accuracy: 100.00%\n",
      "valid accuracy: 68.95%\n",
      "Time elapsed: 0.87 min\n",
      "Epoch: 048/100 | Batch 000/046 | Loss: 0.0000\n",
      "training accuracy: 100.00%\n",
      "valid accuracy: 69.04%\n",
      "Time elapsed: 0.89 min\n",
      "Epoch: 049/100 | Batch 000/046 | Loss: 0.0000\n",
      "training accuracy: 100.00%\n",
      "valid accuracy: 69.04%\n",
      "Time elapsed: 0.90 min\n",
      "Epoch: 050/100 | Batch 000/046 | Loss: 0.0001\n",
      "training accuracy: 100.00%\n",
      "valid accuracy: 69.04%\n",
      "Time elapsed: 0.92 min\n",
      "Epoch: 051/100 | Batch 000/046 | Loss: 0.0001\n",
      "training accuracy: 100.00%\n",
      "valid accuracy: 69.04%\n",
      "Time elapsed: 0.94 min\n",
      "Epoch: 052/100 | Batch 000/046 | Loss: 0.0000\n",
      "training accuracy: 100.00%\n",
      "valid accuracy: 69.04%\n",
      "Time elapsed: 0.96 min\n",
      "Epoch: 053/100 | Batch 000/046 | Loss: 0.0001\n",
      "training accuracy: 100.00%\n",
      "valid accuracy: 69.24%\n",
      "Time elapsed: 0.97 min\n",
      "Epoch: 054/100 | Batch 000/046 | Loss: 0.0000\n",
      "training accuracy: 100.00%\n",
      "valid accuracy: 69.24%\n",
      "Time elapsed: 0.99 min\n",
      "Epoch: 055/100 | Batch 000/046 | Loss: 0.0000\n",
      "training accuracy: 100.00%\n",
      "valid accuracy: 69.24%\n",
      "Time elapsed: 1.01 min\n",
      "Epoch: 056/100 | Batch 000/046 | Loss: 0.0000\n",
      "training accuracy: 100.00%\n",
      "valid accuracy: 69.24%\n",
      "Time elapsed: 1.03 min\n",
      "Epoch: 057/100 | Batch 000/046 | Loss: 0.0000\n",
      "training accuracy: 100.00%\n",
      "valid accuracy: 69.14%\n",
      "Time elapsed: 1.04 min\n",
      "Epoch: 058/100 | Batch 000/046 | Loss: 0.0000\n",
      "training accuracy: 100.00%\n",
      "valid accuracy: 69.04%\n",
      "Time elapsed: 1.06 min\n",
      "Epoch: 059/100 | Batch 000/046 | Loss: 0.0000\n",
      "training accuracy: 100.00%\n",
      "valid accuracy: 69.04%\n",
      "Time elapsed: 1.08 min\n",
      "Epoch: 060/100 | Batch 000/046 | Loss: 0.0000\n",
      "training accuracy: 100.00%\n",
      "valid accuracy: 69.24%\n",
      "Time elapsed: 1.10 min\n",
      "Epoch: 061/100 | Batch 000/046 | Loss: 0.0000\n",
      "training accuracy: 100.00%\n",
      "valid accuracy: 69.04%\n",
      "Time elapsed: 1.12 min\n",
      "Epoch: 062/100 | Batch 000/046 | Loss: 0.0000\n",
      "training accuracy: 100.00%\n",
      "valid accuracy: 68.95%\n",
      "Time elapsed: 1.13 min\n",
      "Epoch: 063/100 | Batch 000/046 | Loss: 0.0000\n",
      "training accuracy: 100.00%\n",
      "valid accuracy: 68.95%\n",
      "Time elapsed: 1.15 min\n",
      "Epoch: 064/100 | Batch 000/046 | Loss: 0.0000\n",
      "training accuracy: 100.00%\n",
      "valid accuracy: 68.95%\n",
      "Time elapsed: 1.17 min\n",
      "Epoch: 065/100 | Batch 000/046 | Loss: 0.0000\n",
      "training accuracy: 100.00%\n",
      "valid accuracy: 68.95%\n",
      "Time elapsed: 1.19 min\n",
      "Epoch: 066/100 | Batch 000/046 | Loss: 0.0000\n",
      "training accuracy: 100.00%\n",
      "valid accuracy: 68.85%\n",
      "Time elapsed: 1.20 min\n",
      "Epoch: 067/100 | Batch 000/046 | Loss: 0.0000\n",
      "training accuracy: 100.00%\n",
      "valid accuracy: 68.85%\n",
      "Time elapsed: 1.22 min\n",
      "Epoch: 068/100 | Batch 000/046 | Loss: 0.0000\n",
      "training accuracy: 100.00%\n",
      "valid accuracy: 68.85%\n",
      "Time elapsed: 1.24 min\n",
      "Epoch: 069/100 | Batch 000/046 | Loss: 0.0000\n",
      "training accuracy: 100.00%\n",
      "valid accuracy: 68.85%\n",
      "Time elapsed: 1.26 min\n",
      "Epoch: 070/100 | Batch 000/046 | Loss: 0.0000\n",
      "training accuracy: 100.00%\n",
      "valid accuracy: 68.85%\n",
      "Time elapsed: 1.27 min\n",
      "Epoch: 071/100 | Batch 000/046 | Loss: 0.0000\n",
      "training accuracy: 100.00%\n",
      "valid accuracy: 68.85%\n",
      "Time elapsed: 1.29 min\n",
      "Epoch: 072/100 | Batch 000/046 | Loss: 0.0000\n",
      "training accuracy: 100.00%\n",
      "valid accuracy: 68.95%\n",
      "Time elapsed: 1.31 min\n",
      "Epoch: 073/100 | Batch 000/046 | Loss: 0.0000\n",
      "training accuracy: 100.00%\n",
      "valid accuracy: 68.95%\n",
      "Time elapsed: 1.33 min\n",
      "Epoch: 074/100 | Batch 000/046 | Loss: 0.0000\n",
      "training accuracy: 100.00%\n",
      "valid accuracy: 68.95%\n",
      "Time elapsed: 1.35 min\n",
      "Epoch: 075/100 | Batch 000/046 | Loss: 0.0000\n",
      "training accuracy: 100.00%\n",
      "valid accuracy: 68.95%\n",
      "Time elapsed: 1.36 min\n",
      "Epoch: 076/100 | Batch 000/046 | Loss: 0.0000\n",
      "training accuracy: 100.00%\n",
      "valid accuracy: 68.95%\n",
      "Time elapsed: 1.38 min\n",
      "Epoch: 077/100 | Batch 000/046 | Loss: 0.0000\n",
      "training accuracy: 100.00%\n",
      "valid accuracy: 68.95%\n",
      "Time elapsed: 1.40 min\n",
      "Epoch: 078/100 | Batch 000/046 | Loss: 0.0000\n",
      "training accuracy: 100.00%\n",
      "valid accuracy: 68.95%\n",
      "Time elapsed: 1.42 min\n",
      "Epoch: 079/100 | Batch 000/046 | Loss: 0.0000\n",
      "training accuracy: 100.00%\n",
      "valid accuracy: 68.95%\n",
      "Time elapsed: 1.43 min\n",
      "Epoch: 080/100 | Batch 000/046 | Loss: 0.0000\n",
      "training accuracy: 100.00%\n",
      "valid accuracy: 69.04%\n",
      "Time elapsed: 1.45 min\n",
      "Epoch: 081/100 | Batch 000/046 | Loss: 0.0000\n",
      "training accuracy: 100.00%\n",
      "valid accuracy: 68.95%\n",
      "Time elapsed: 1.47 min\n",
      "Epoch: 082/100 | Batch 000/046 | Loss: 0.0000\n",
      "training accuracy: 100.00%\n",
      "valid accuracy: 68.95%\n",
      "Time elapsed: 1.49 min\n",
      "Epoch: 083/100 | Batch 000/046 | Loss: 0.0000\n",
      "training accuracy: 100.00%\n",
      "valid accuracy: 68.95%\n",
      "Time elapsed: 1.51 min\n",
      "Epoch: 084/100 | Batch 000/046 | Loss: 0.0000\n",
      "training accuracy: 100.00%\n",
      "valid accuracy: 68.95%\n",
      "Time elapsed: 1.52 min\n",
      "Epoch: 085/100 | Batch 000/046 | Loss: 0.0000\n",
      "training accuracy: 100.00%\n",
      "valid accuracy: 68.95%\n",
      "Time elapsed: 1.54 min\n",
      "Epoch: 086/100 | Batch 000/046 | Loss: 0.0000\n",
      "training accuracy: 100.00%\n",
      "valid accuracy: 68.85%\n",
      "Time elapsed: 1.56 min\n",
      "Epoch: 087/100 | Batch 000/046 | Loss: 0.0000\n",
      "training accuracy: 100.00%\n",
      "valid accuracy: 68.85%\n",
      "Time elapsed: 1.58 min\n",
      "Epoch: 088/100 | Batch 000/046 | Loss: 0.0000\n",
      "training accuracy: 100.00%\n",
      "valid accuracy: 68.85%\n",
      "Time elapsed: 1.59 min\n",
      "Epoch: 089/100 | Batch 000/046 | Loss: 0.0000\n",
      "training accuracy: 100.00%\n",
      "valid accuracy: 68.85%\n",
      "Time elapsed: 1.61 min\n",
      "Epoch: 090/100 | Batch 000/046 | Loss: 0.0000\n",
      "training accuracy: 100.00%\n",
      "valid accuracy: 68.85%\n",
      "Time elapsed: 1.63 min\n",
      "Epoch: 091/100 | Batch 000/046 | Loss: 0.0000\n",
      "training accuracy: 100.00%\n",
      "valid accuracy: 68.85%\n",
      "Time elapsed: 1.65 min\n",
      "Epoch: 092/100 | Batch 000/046 | Loss: 0.0000\n",
      "training accuracy: 100.00%\n",
      "valid accuracy: 68.85%\n",
      "Time elapsed: 1.67 min\n",
      "Epoch: 093/100 | Batch 000/046 | Loss: 0.0000\n",
      "training accuracy: 100.00%\n",
      "valid accuracy: 68.85%\n",
      "Time elapsed: 1.68 min\n",
      "Epoch: 094/100 | Batch 000/046 | Loss: 0.0000\n",
      "training accuracy: 100.00%\n",
      "valid accuracy: 68.85%\n",
      "Time elapsed: 1.70 min\n",
      "Epoch: 095/100 | Batch 000/046 | Loss: 0.0000\n",
      "training accuracy: 100.00%\n",
      "valid accuracy: 68.85%\n",
      "Time elapsed: 1.72 min\n",
      "Epoch: 096/100 | Batch 000/046 | Loss: 0.0000\n",
      "training accuracy: 100.00%\n",
      "valid accuracy: 68.85%\n",
      "Time elapsed: 1.74 min\n",
      "Epoch: 097/100 | Batch 000/046 | Loss: 0.0000\n",
      "training accuracy: 100.00%\n",
      "valid accuracy: 68.85%\n",
      "Time elapsed: 1.75 min\n",
      "Epoch: 098/100 | Batch 000/046 | Loss: 0.0000\n",
      "training accuracy: 100.00%\n",
      "valid accuracy: 68.85%\n",
      "Time elapsed: 1.77 min\n",
      "Epoch: 099/100 | Batch 000/046 | Loss: 0.0000\n",
      "training accuracy: 100.00%\n",
      "valid accuracy: 68.85%\n",
      "Time elapsed: 1.79 min\n",
      "Epoch: 100/100 | Batch 000/046 | Loss: 0.0000\n",
      "training accuracy: 100.00%\n",
      "valid accuracy: 68.95%\n",
      "Time elapsed: 1.81 min\n",
      "Total Training Time: 1.81 min\n",
      "Test accuracy: 67.17%\n"
     ]
    }
   ],
   "source": [
    "start_time = time.time()\n",
    "\n",
    "train_accuracy = []\n",
    "valid_accuracy = []\n",
    "\n",
    "for epoch in range(NUM_EPOCHS):\n",
    "    model.train()\n",
    "    for batch_idx, batch_data in enumerate(train_loader):\n",
    "\n",
    "        text = batch_data.TEXT_COLUMN_NAME.to(DEVICE)\n",
    "        labels = batch_data.LABEL_COLUMN_NAME.to(DEVICE)\n",
    "\n",
    "        ### FORWARD AND BACK PROP\n",
    "        logits = model(text)\n",
    "        loss = F.cross_entropy(logits, labels)\n",
    "        optimizer.zero_grad()\n",
    "\n",
    "        loss.backward()\n",
    "\n",
    "        ### UPDATE MODEL PARAMETERS\n",
    "        optimizer.step()\n",
    "\n",
    "        ### LOGGING\n",
    "        if not batch_idx % 50:\n",
    "\n",
    "            print (f'Epoch: {epoch+1:03d}/{NUM_EPOCHS:03d} | '\n",
    "                   f'Batch {batch_idx:03d}/{len(train_loader):03d} | '\n",
    "                   f'Loss: {loss:.4f}')\n",
    "\n",
    "    with torch.set_grad_enabled(False):\n",
    "        train_accuracy.append(float(f'{compute_accuracy(model, train_loader, DEVICE):.2f}'))\n",
    "        valid_accuracy.append(float(f'{compute_accuracy(model, valid_loader, DEVICE):.2f}'))\n",
    "        print(f'training accuracy: '\n",
    "              f'{compute_accuracy(model, train_loader, DEVICE):.2f}%'\n",
    "              f'\\nvalid accuracy: '\n",
    "              f'{compute_accuracy(model, valid_loader, DEVICE):.2f}%')\n",
    "\n",
    "    print(f'Time elapsed: {(time.time() - start_time)/60:.2f} min')\n",
    "\n",
    "print(f'Total Training Time: {(time.time() - start_time)/60:.2f} min')\n",
    "print(f'Test accuracy: {compute_accuracy(model, test_loader, DEVICE):.2f}%')\n"
   ],
   "metadata": {
    "collapsed": false,
    "pycharm": {
     "name": "#%%\n"
    }
   }
  },
  {
   "cell_type": "code",
   "execution_count": 71,
   "outputs": [],
   "source": [
    "import spacy\n",
    "\n",
    "nlp = spacy.blank(\"en\")\n",
    "\n",
    "def predict_sentiment(model, sentence):\n",
    "\n",
    "    model.eval()\n",
    "    tokenized = [tok.text for tok in nlp.tokenizer(sentence)]\n",
    "    indexed = [TEXT.vocab.stoi[t] for t in tokenized]\n",
    "    length = [len(indexed)]\n",
    "    tensor = torch.LongTensor(indexed).to(DEVICE)\n",
    "    tensor = tensor.unsqueeze(1)\n",
    "    length_tensor = torch.LongTensor(length)\n",
    "    prediction = torch.nn.functional.softmax(model(tensor), dim=1)\n",
    "    return prediction[0][0].item()"
   ],
   "metadata": {
    "collapsed": false,
    "pycharm": {
     "name": "#%%\n"
    }
   }
  },
  {
   "cell_type": "code",
   "execution_count": 72,
   "outputs": [
    {
     "data": {
      "text/plain": "<Figure size 640x480 with 1 Axes>",
      "image/png": "[encoded data removed]"
     },
     "metadata": {},
     "output_type": "display_data"
    }
   ],
   "source": [
    "plt.plot(train_accuracy, label = 'train')\n",
    "plt.plot(valid_accuracy, label = 'valid')\n",
    "plt.legend()\n",
    "plt.xlabel('Epoch')\n",
    "plt.ylabel('Accuracy')\n",
    "plt.savefig('accuracy.png')"
   ],
   "metadata": {
    "collapsed": false,
    "pycharm": {
     "name": "#%%\n"
    }
   }
  },
  {
   "cell_type": "code",
   "execution_count": 73,
   "outputs": [
    {
     "name": "stdout",
     "output_type": "stream",
     "text": [
      "Probability positive:\n"
     ]
    },
    {
     "data": {
      "text/plain": "0.8914891481399536"
     },
     "execution_count": 73,
     "metadata": {},
     "output_type": "execute_result"
    }
   ],
   "source": [
    "print('Probability positive:')\n",
    "predict_sentiment(model, \"This is such an awesome movie, I really love it!\")\n"
   ],
   "metadata": {
    "collapsed": false,
    "pycharm": {
     "name": "#%%\n"
    }
   }
  },
  {
   "cell_type": "code",
   "execution_count": 74,
   "outputs": [
    {
     "name": "stdout",
     "output_type": "stream",
     "text": [
      "Probability negative:\n"
     ]
    },
    {
     "data": {
      "text/plain": "0.8711956739425659"
     },
     "execution_count": 74,
     "metadata": {},
     "output_type": "execute_result"
    }
   ],
   "source": [
    "print('Probability negative:')\n",
    "1-predict_sentiment(model, \"Whenever I go to a place that doesn’t take Apple Pay (doesn’t happen too often), it’s such a drag. Between ‘contactless Covid’ habits and my getting the Apple Card, I’ve gotten so used to Apple Pay that I get seriously annoyed when a store doesn’t take it. It feels like a shock, it’s crazy how quickly it took over my shopping routine! I’ve officially been brainwashed by Apple because now it feels so inconvenient to even carry a physical card in my pocket\")"
   ],
   "metadata": {
    "collapsed": false,
    "pycharm": {
     "name": "#%%\n"
    }
   }
  },
  {
   "cell_type": "code",
   "execution_count": 75,
   "outputs": [
    {
     "name": "stdout",
     "output_type": "stream",
     "text": [
      "[0 1 0 ... 1 1 1] [0. 1. 0. ... 0. 1. 0.]\n"
     ]
    }
   ],
   "source": [
    "predict_label, real_label= predict_label(model, test_loader, DEVICE)\n",
    "print(predict_label, real_label)"
   ],
   "metadata": {
    "collapsed": false,
    "pycharm": {
     "name": "#%%\n"
    }
   }
  },
  {
   "cell_type": "code",
   "execution_count": 76,
   "outputs": [
    {
     "data": {
      "text/plain": "array([[594, 255],\n       [305, 552]], dtype=int64)"
     },
     "execution_count": 76,
     "metadata": {},
     "output_type": "execute_result"
    }
   ],
   "source": [
    "#confuion matrix\n",
    "import seaborn as sns\n",
    "cf_matrix = confusion_matrix(real_label, predict_label)\n",
    "cf_matrix"
   ],
   "metadata": {
    "collapsed": false,
    "pycharm": {
     "name": "#%%%\n"
    }
   }
  },
  {
   "cell_type": "code",
   "execution_count": 77,
   "outputs": [
    {
     "data": {
      "text/plain": "<Figure size 640x480 with 2 Axes>",
      "image/png": "[encoded data removed]"
     },
     "metadata": {},
     "output_type": "display_data"
    }
   ],
   "source": [
    "ax = sns.heatmap(cf_matrix, annot=True, cmap='Blues', fmt = '.20g')\n",
    "\n",
    "ax.set_title('Seaborn Confusion Matrix with labels\\n\\n');\n",
    "ax.set_xlabel('Predicted Values')\n",
    "ax.set_ylabel('Actual Values ');\n",
    "\n",
    "## Ticket labels - List must be in alphabetical order\n",
    "ax.xaxis.set_ticklabels(['False','True'])\n",
    "ax.yaxis.set_ticklabels(['False','True'])\n",
    "\n",
    "plt.savefig('confusion_matrix.png')\n",
    "## Display the visualization of the Confusion Matrix.\n",
    "plt.show()"
   ],
   "metadata": {
    "collapsed": false,
    "pycharm": {
     "name": "#%%\n"
    }
   }
  }
 ],
 "metadata": {
  "kernelspec": {
   "display_name": "Python 3",
   "language": "python",
   "name": "python3"
  },
  "language_info": {
   "codemirror_mode": {
    "name": "ipython",
    "version": 2
   },
   "file_extension": ".py",
   "mimetype": "text/x-python",
   "name": "python",
   "nbconvert_exporter": "python",
   "pygments_lexer": "ipython2",
   "version": "2.7.6"
  }
 },
 "nbformat": 4,
 "nbformat_minor": 0
}