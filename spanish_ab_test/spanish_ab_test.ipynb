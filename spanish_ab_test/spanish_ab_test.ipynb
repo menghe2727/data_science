{
 "cells": [
  {
   "cell_type": "markdown",
   "metadata": {
    "collapsed": true,
    "pycharm": {
     "name": "#%% md\n"
    }
   },
   "source": [
    "# Goal\n",
    "A/B tests play a huge role in website optimization. Analyzing A/B tests data is a very important\n",
    "data scientist responsibility. Especially, data scientists have to make sure that results are\n",
    "reliable, trustworthy, and conclusions can be drawn.\n",
    "\n",
    "Furthermore, companies often run tens, if not hundreds, of A/B tests at the same time. Manually\n",
    "analyzing all of them would require lot of time and people. Therefore, it is common practice to\n",
    "look at the typical A/B test analysis steps and try to automate as much as possible. This frees\n",
    "up time for the data scientists to work on more high level topics.\n",
    "\n",
    "Analyze results from an A/B test. Also, design an algorithm to automate some steps.\n",
    "\n",
    "# Challenge Description\n",
    "\n",
    "\n",
    "\n",
    "Company XYZ is a worldwide e-commerce site with localized versions of the site.\n",
    "\n",
    "A data scientist at XYZ noticed that Spain-based users have a much higher conversion rate than\n",
    "any other Spanish-speaking country. She therefore went and talked to the international team in\n",
    "charge of Spain And LatAm to see if they had any ideas about why that was happening.\n",
    "\n",
    "Spain and LatAm country manager suggested that one reason could be translation. All Spanishspeaking countries had the same translation of the site which was written by a Spaniard. They\n",
    "agreed to try a test where each country would have its one translation written by a local. That is,\n",
    "Argentinian users would see a translation written by an Argentinian, Mexican users by a Mexican\n",
    "and so on. Obviously, nothing would change for users from Spain.\n",
    "\n",
    "After they run the test however, they are really surprised cause the test is negative. I.e., it\n",
    "appears that the non-localized translation was doing better!\n",
    "\n",
    "Asked to:\n",
    "\n",
    "* Confirm that the test is actually negative. That is, it appears that the old version of the\n",
    "site with just one translation across Spain and LatAm performs better\n",
    "* Explain why that might be happening. Are the localized translations really worse?\n",
    "* If you identified what was wrong, design an algorithm that would return FALSE if the\n",
    "same problem is happening in the future and TRUE if everything is good and the results\n",
    "can be trusted.\n",
    "\n",
    "# Data\n",
    "\n",
    "## Columns:\n",
    "### Test Table\n",
    "* user_id : the id of the user. Unique by user. Can be joined to user id in the other table.\n",
    "For each user, we just check whether conversion happens the first time they land on the\n",
    "site since the test started.\n",
    "* date : when they came to the site for the first time since the test started\n",
    "* source : marketing channel: Ads, SEO, Direct . Direct means everything except for ads\n",
    "and SEO. Such as directly typing site URL on the browser, downloading the app w/o\n",
    "coming from SEO or Ads, referral friend, etc.\n",
    "* device : device used by the user. It can be mobile or web\n",
    "* browser_language : in browser or app settings, the language chosen by the user. It can\n",
    "be EN, ES, Other (Other means any language except for English and Spanish)\n",
    "* ads_channel : if marketing channel is ads, this is the site where the ad was displayed. It\n",
    "can be: Google, Facebook, Bing, Yahoo ,Other. If the user didn't come via an ad, this\n",
    "field is NA\n",
    "* browser : user browser. It can be: IE, Chrome, Android_App, FireFox, Iphone_App,\n",
    "Safari, Opera\n",
    "* conversion : whether the user converted (1) or not (0). This is our label. A test is\n",
    "considered successful if it increases the proportion of users who convert.\n",
    "* test : users are randomly split into test (1) and control (0). Test users see the new\n",
    "translation and control the old one. For Spain-based users, this is obviously always 0\n",
    "since there is no change there.\n",
    "\n",
    "### User Table`\n",
    "\n",
    "* user_id : the id of the user. It can be joined to user id in the other table\n",
    "* sex : user sex: Male or Female\n",
    "* age : user age (self-reported)\n",
    "* country : user country based on ip address\n"
   ]
  },
  {
   "cell_type": "code",
   "execution_count": 2,
   "outputs": [
    {
     "data": {
      "text/plain": "user_id              int64\ndate                object\nsource              object\ndevice              object\nbrowser_language    object\nads_channel         object\nbrowser             object\nconversion           int64\ntest                 int64\ndtype: object"
     },
     "execution_count": 2,
     "metadata": {},
     "output_type": "execute_result"
    }
   ],
   "source": [
    "# read the data into python\n",
    "import pandas as pd\n",
    "import numpy as np\n",
    "test_table = pd.read_csv('test_table.csv')\n",
    "user_table = pd.read_csv('user_table.csv')"
   ],
   "metadata": {
    "collapsed": false,
    "pycharm": {
     "name": "#%%\n"
    }
   }
  },
  {
   "cell_type": "code",
   "execution_count": 5,
   "outputs": [
    {
     "data": {
      "text/plain": "user_id              int64\ndate                object\nsource              object\ndevice              object\nbrowser_language    object\nads_channel         object\nbrowser             object\nconversion           int64\ntest                 int64\ndtype: object"
     },
     "execution_count": 5,
     "metadata": {},
     "output_type": "execute_result"
    }
   ],
   "source": [
    "#look at the data type\n",
    "test_table.dtypes"
   ],
   "metadata": {
    "collapsed": false,
    "pycharm": {
     "name": "#%%\n"
    }
   }
  },
  {
   "cell_type": "code",
   "execution_count": 6,
   "outputs": [
    {
     "data": {
      "text/plain": "user_id     int64\nsex        object\nage         int64\ncountry    object\ndtype: object"
     },
     "execution_count": 6,
     "metadata": {},
     "output_type": "execute_result"
    }
   ],
   "source": [
    "user_table.dtypes"
   ],
   "metadata": {
    "collapsed": false,
    "pycharm": {
     "name": "#%%\n"
    }
   }
  },
  {
   "cell_type": "code",
   "execution_count": 7,
   "outputs": [
    {
     "data": {
      "text/plain": "   user_id        date  source  device browser_language ads_channel  \\\n0   315281   12/3/2015  Direct     Web               ES         NaN   \n1   497851   12/4/2015     Ads     Web               ES      Google   \n2   848402   12/4/2015     Ads     Web               ES    Facebook   \n3   290051   12/3/2015     Ads  Mobile            Other    Facebook   \n4   548435  11/30/2015     Ads     Web               ES      Google   \n\n       browser  conversion  test  \n0           IE           1     0  \n1           IE           0     1  \n2       Chrome           0     0  \n3  Android_App           0     1  \n4      FireFox           0     1  ",
      "text/html": "<div>\n<style scoped>\n    .dataframe tbody tr th:only-of-type {\n        vertical-align: middle;\n    }\n\n    .dataframe tbody tr th {\n        vertical-align: top;\n    }\n\n    .dataframe thead th {\n        text-align: right;\n    }\n</style>\n<table border=\"1\" class=\"dataframe\">\n  <thead>\n    <tr style=\"text-align: right;\">\n      <th></th>\n      <th>user_id</th>\n      <th>date</th>\n      <th>source</th>\n      <th>device</th>\n      <th>browser_language</th>\n      <th>ads_channel</th>\n      <th>browser</th>\n      <th>conversion</th>\n      <th>test</th>\n    </tr>\n  </thead>\n  <tbody>\n    <tr>\n      <th>0</th>\n      <td>315281</td>\n      <td>12/3/2015</td>\n      <td>Direct</td>\n      <td>Web</td>\n      <td>ES</td>\n      <td>NaN</td>\n      <td>IE</td>\n      <td>1</td>\n      <td>0</td>\n    </tr>\n    <tr>\n      <th>1</th>\n      <td>497851</td>\n      <td>12/4/2015</td>\n      <td>Ads</td>\n      <td>Web</td>\n      <td>ES</td>\n      <td>Google</td>\n      <td>IE</td>\n      <td>0</td>\n      <td>1</td>\n    </tr>\n    <tr>\n      <th>2</th>\n      <td>848402</td>\n      <td>12/4/2015</td>\n      <td>Ads</td>\n      <td>Web</td>\n      <td>ES</td>\n      <td>Facebook</td>\n      <td>Chrome</td>\n      <td>0</td>\n      <td>0</td>\n    </tr>\n    <tr>\n      <th>3</th>\n      <td>290051</td>\n      <td>12/3/2015</td>\n      <td>Ads</td>\n      <td>Mobile</td>\n      <td>Other</td>\n      <td>Facebook</td>\n      <td>Android_App</td>\n      <td>0</td>\n      <td>1</td>\n    </tr>\n    <tr>\n      <th>4</th>\n      <td>548435</td>\n      <td>11/30/2015</td>\n      <td>Ads</td>\n      <td>Web</td>\n      <td>ES</td>\n      <td>Google</td>\n      <td>FireFox</td>\n      <td>0</td>\n      <td>1</td>\n    </tr>\n  </tbody>\n</table>\n</div>"
     },
     "execution_count": 7,
     "metadata": {},
     "output_type": "execute_result"
    }
   ],
   "source": [
    "# look the several row of data\n",
    "test_table.head()"
   ],
   "metadata": {
    "collapsed": false,
    "pycharm": {
     "name": "#%%\n"
    }
   }
  },
  {
   "cell_type": "code",
   "execution_count": 8,
   "outputs": [
    {
     "data": {
      "text/plain": "   user_id sex  age    country\n0   765821   M   20     Mexico\n1   343561   F   27  Nicaragua\n2   118744   M   23   Colombia\n3   987753   F   27  Venezuela\n4   554597   F   20      Spain",
      "text/html": "<div>\n<style scoped>\n    .dataframe tbody tr th:only-of-type {\n        vertical-align: middle;\n    }\n\n    .dataframe tbody tr th {\n        vertical-align: top;\n    }\n\n    .dataframe thead th {\n        text-align: right;\n    }\n</style>\n<table border=\"1\" class=\"dataframe\">\n  <thead>\n    <tr style=\"text-align: right;\">\n      <th></th>\n      <th>user_id</th>\n      <th>sex</th>\n      <th>age</th>\n      <th>country</th>\n    </tr>\n  </thead>\n  <tbody>\n    <tr>\n      <th>0</th>\n      <td>765821</td>\n      <td>M</td>\n      <td>20</td>\n      <td>Mexico</td>\n    </tr>\n    <tr>\n      <th>1</th>\n      <td>343561</td>\n      <td>F</td>\n      <td>27</td>\n      <td>Nicaragua</td>\n    </tr>\n    <tr>\n      <th>2</th>\n      <td>118744</td>\n      <td>M</td>\n      <td>23</td>\n      <td>Colombia</td>\n    </tr>\n    <tr>\n      <th>3</th>\n      <td>987753</td>\n      <td>F</td>\n      <td>27</td>\n      <td>Venezuela</td>\n    </tr>\n    <tr>\n      <th>4</th>\n      <td>554597</td>\n      <td>F</td>\n      <td>20</td>\n      <td>Spain</td>\n    </tr>\n  </tbody>\n</table>\n</div>"
     },
     "execution_count": 8,
     "metadata": {},
     "output_type": "execute_result"
    }
   ],
   "source": [
    "user_table.head()"
   ],
   "metadata": {
    "collapsed": false,
    "pycharm": {
     "name": "#%%\n"
    }
   }
  },
  {
   "cell_type": "code",
   "execution_count": 13,
   "outputs": [
    {
     "data": {
      "text/plain": "              user_id     conversion           test\ncount   453321.000000  453321.000000  453321.000000\nmean    499937.514728       0.049579       0.476446\nstd     288665.193436       0.217073       0.499445\nmin          1.000000       0.000000       0.000000\n25%     249816.000000       0.000000       0.000000\n50%     500019.000000       0.000000       0.000000\n75%     749522.000000       0.000000       1.000000\nmax    1000000.000000       1.000000       1.000000",
      "text/html": "<div>\n<style scoped>\n    .dataframe tbody tr th:only-of-type {\n        vertical-align: middle;\n    }\n\n    .dataframe tbody tr th {\n        vertical-align: top;\n    }\n\n    .dataframe thead th {\n        text-align: right;\n    }\n</style>\n<table border=\"1\" class=\"dataframe\">\n  <thead>\n    <tr style=\"text-align: right;\">\n      <th></th>\n      <th>user_id</th>\n      <th>conversion</th>\n      <th>test</th>\n    </tr>\n  </thead>\n  <tbody>\n    <tr>\n      <th>count</th>\n      <td>453321.000000</td>\n      <td>453321.000000</td>\n      <td>453321.000000</td>\n    </tr>\n    <tr>\n      <th>mean</th>\n      <td>499937.514728</td>\n      <td>0.049579</td>\n      <td>0.476446</td>\n    </tr>\n    <tr>\n      <th>std</th>\n      <td>288665.193436</td>\n      <td>0.217073</td>\n      <td>0.499445</td>\n    </tr>\n    <tr>\n      <th>min</th>\n      <td>1.000000</td>\n      <td>0.000000</td>\n      <td>0.000000</td>\n    </tr>\n    <tr>\n      <th>25%</th>\n      <td>249816.000000</td>\n      <td>0.000000</td>\n      <td>0.000000</td>\n    </tr>\n    <tr>\n      <th>50%</th>\n      <td>500019.000000</td>\n      <td>0.000000</td>\n      <td>0.000000</td>\n    </tr>\n    <tr>\n      <th>75%</th>\n      <td>749522.000000</td>\n      <td>0.000000</td>\n      <td>1.000000</td>\n    </tr>\n    <tr>\n      <th>max</th>\n      <td>1000000.000000</td>\n      <td>1.000000</td>\n      <td>1.000000</td>\n    </tr>\n  </tbody>\n</table>\n</div>"
     },
     "execution_count": 13,
     "metadata": {},
     "output_type": "execute_result"
    }
   ],
   "source": [
    "test_table.describe()"
   ],
   "metadata": {
    "collapsed": false,
    "pycharm": {
     "name": "#%%\n"
    }
   }
  },
  {
   "cell_type": "code",
   "execution_count": 12,
   "outputs": [
    {
     "data": {
      "text/plain": "<bound method DataFrame.drop_duplicates of         user_id        date  source  device browser_language ads_channel  \\\n0        315281   12/3/2015  Direct     Web               ES         NaN   \n1        497851   12/4/2015     Ads     Web               ES      Google   \n2        848402   12/4/2015     Ads     Web               ES    Facebook   \n3        290051   12/3/2015     Ads  Mobile            Other    Facebook   \n4        548435  11/30/2015     Ads     Web               ES      Google   \n...         ...         ...     ...     ...              ...         ...   \n453316   425010   12/4/2015     SEO     Web               ES         NaN   \n453317   826793   12/1/2015     SEO  Mobile               ES         NaN   \n453318   514870   12/2/2015     Ads  Mobile               ES        Bing   \n453319   785224   12/4/2015     SEO  Mobile               ES         NaN   \n453320   241662   12/4/2015     Ads     Web               ES    Facebook   \n\n            browser  conversion  test  \n0                IE           1     0  \n1                IE           0     1  \n2            Chrome           0     0  \n3       Android_App           0     1  \n4           FireFox           0     1  \n...             ...         ...   ...  \n453316      FireFox           0     0  \n453317  Android_App           0     1  \n453318  Android_App           0     0  \n453319  Android_App           0     1  \n453320       Chrome           0     1  \n\n[453321 rows x 9 columns]>"
     },
     "execution_count": 12,
     "metadata": {},
     "output_type": "execute_result"
    }
   ],
   "source": [
    "test_table.drop_duplicates"
   ],
   "metadata": {
    "collapsed": false,
    "pycharm": {
     "name": "#%%\n"
    }
   }
  },
  {
   "cell_type": "code",
   "execution_count": 16,
   "outputs": [
    {
     "data": {
      "text/plain": "              user_id            age\ncount   452867.000000  452867.000000\nmean    499944.805166      27.130740\nstd     288676.264784       6.776678\nmin          1.000000      18.000000\n25%     249819.000000      22.000000\n50%     500019.000000      26.000000\n75%     749543.000000      31.000000\nmax    1000000.000000      70.000000",
      "text/html": "<div>\n<style scoped>\n    .dataframe tbody tr th:only-of-type {\n        vertical-align: middle;\n    }\n\n    .dataframe tbody tr th {\n        vertical-align: top;\n    }\n\n    .dataframe thead th {\n        text-align: right;\n    }\n</style>\n<table border=\"1\" class=\"dataframe\">\n  <thead>\n    <tr style=\"text-align: right;\">\n      <th></th>\n      <th>user_id</th>\n      <th>age</th>\n    </tr>\n  </thead>\n  <tbody>\n    <tr>\n      <th>count</th>\n      <td>452867.000000</td>\n      <td>452867.000000</td>\n    </tr>\n    <tr>\n      <th>mean</th>\n      <td>499944.805166</td>\n      <td>27.130740</td>\n    </tr>\n    <tr>\n      <th>std</th>\n      <td>288676.264784</td>\n      <td>6.776678</td>\n    </tr>\n    <tr>\n      <th>min</th>\n      <td>1.000000</td>\n      <td>18.000000</td>\n    </tr>\n    <tr>\n      <th>25%</th>\n      <td>249819.000000</td>\n      <td>22.000000</td>\n    </tr>\n    <tr>\n      <th>50%</th>\n      <td>500019.000000</td>\n      <td>26.000000</td>\n    </tr>\n    <tr>\n      <th>75%</th>\n      <td>749543.000000</td>\n      <td>31.000000</td>\n    </tr>\n    <tr>\n      <th>max</th>\n      <td>1000000.000000</td>\n      <td>70.000000</td>\n    </tr>\n  </tbody>\n</table>\n</div>"
     },
     "execution_count": 16,
     "metadata": {},
     "output_type": "execute_result"
    }
   ],
   "source": [
    "user_table.describe()"
   ],
   "metadata": {
    "collapsed": false,
    "pycharm": {
     "name": "#%%\n"
    }
   }
  },
  {
   "cell_type": "code",
   "execution_count": 23,
   "outputs": [
    {
     "data": {
      "text/plain": "<bound method DataFrame.drop_duplicates of         user_id sex  age    country\n0        765821   M   20     Mexico\n1        343561   F   27  Nicaragua\n2        118744   M   23   Colombia\n3        987753   F   27  Venezuela\n4        554597   F   20      Spain\n...         ...  ..  ...        ...\n452862   756215   F   27  Venezuela\n452863    36888   M   18  Argentina\n452864   800559   M   28    Bolivia\n452865   176584   M   19      Chile\n452866   314649   M   24     Mexico\n\n[452867 rows x 4 columns]>"
     },
     "execution_count": 23,
     "metadata": {},
     "output_type": "execute_result"
    }
   ],
   "source": [
    "user_table.drop_duplicates"
   ],
   "metadata": {
    "collapsed": false,
    "pycharm": {
     "name": "#%%\n"
    }
   }
  },
  {
   "cell_type": "code",
   "execution_count": 38,
   "outputs": [
    {
     "name": "stdout",
     "output_type": "stream",
     "text": [
      "distinct user number: 452867\n",
      "all user number 452867\n"
     ]
    }
   ],
   "source": [
    "distinct_user = np.unique(user_table['user_id'])\n",
    "print('distinct user number:', distinct_user.size )\n",
    "print('all user number:', user_table['user_id'].size)"
   ],
   "metadata": {
    "collapsed": false,
    "pycharm": {
     "name": "#%%\n"
    }
   }
  },
  {
   "cell_type": "code",
   "execution_count": 41,
   "outputs": [
    {
     "name": "stdout",
     "output_type": "stream",
     "text": [
      "distinct user number of test table: 453321\n",
      "all user number for user table: 452867\n",
      "different number of user between test and user table 454\n"
     ]
    }
   ],
   "source": [
    "#Looks like the user table is busted and we have some user ids missing. When joining, we have to be careful to do not lose the user ids in the test table, but not in the user table.\n",
    "test_user = np.unique(test_table['user_id'])\n",
    "print('distinct user number of test table:', test_user.size )\n",
    "print('all user number for user table:', user_table['user_id'].size)\n",
    "print('different number of user between test and user table', test_user.size-user_table['user_id'].size)\n"
   ],
   "metadata": {
    "collapsed": false,
    "pycharm": {
     "name": "#%%\n"
    }
   }
  },
  {
   "cell_type": "code",
   "execution_count": 60,
   "outputs": [
    {
     "data": {
      "text/plain": "              user_id     conversion           test            age\ncount   453321.000000  453321.000000  453321.000000  452867.000000\nmean    499937.514728       0.049579       0.476446      27.130740\nstd     288665.193436       0.217073       0.499445       6.776678\nmin          1.000000       0.000000       0.000000      18.000000\n25%     249816.000000       0.000000       0.000000      22.000000\n50%     500019.000000       0.000000       0.000000      26.000000\n75%     749522.000000       0.000000       1.000000      31.000000\nmax    1000000.000000       1.000000       1.000000      70.000000",
      "text/html": "<div>\n<style scoped>\n    .dataframe tbody tr th:only-of-type {\n        vertical-align: middle;\n    }\n\n    .dataframe tbody tr th {\n        vertical-align: top;\n    }\n\n    .dataframe thead th {\n        text-align: right;\n    }\n</style>\n<table border=\"1\" class=\"dataframe\">\n  <thead>\n    <tr style=\"text-align: right;\">\n      <th></th>\n      <th>user_id</th>\n      <th>conversion</th>\n      <th>test</th>\n      <th>age</th>\n    </tr>\n  </thead>\n  <tbody>\n    <tr>\n      <th>count</th>\n      <td>453321.000000</td>\n      <td>453321.000000</td>\n      <td>453321.000000</td>\n      <td>452867.000000</td>\n    </tr>\n    <tr>\n      <th>mean</th>\n      <td>499937.514728</td>\n      <td>0.049579</td>\n      <td>0.476446</td>\n      <td>27.130740</td>\n    </tr>\n    <tr>\n      <th>std</th>\n      <td>288665.193436</td>\n      <td>0.217073</td>\n      <td>0.499445</td>\n      <td>6.776678</td>\n    </tr>\n    <tr>\n      <th>min</th>\n      <td>1.000000</td>\n      <td>0.000000</td>\n      <td>0.000000</td>\n      <td>18.000000</td>\n    </tr>\n    <tr>\n      <th>25%</th>\n      <td>249816.000000</td>\n      <td>0.000000</td>\n      <td>0.000000</td>\n      <td>22.000000</td>\n    </tr>\n    <tr>\n      <th>50%</th>\n      <td>500019.000000</td>\n      <td>0.000000</td>\n      <td>0.000000</td>\n      <td>26.000000</td>\n    </tr>\n    <tr>\n      <th>75%</th>\n      <td>749522.000000</td>\n      <td>0.000000</td>\n      <td>1.000000</td>\n      <td>31.000000</td>\n    </tr>\n    <tr>\n      <th>max</th>\n      <td>1000000.000000</td>\n      <td>1.000000</td>\n      <td>1.000000</td>\n      <td>70.000000</td>\n    </tr>\n  </tbody>\n</table>\n</div>"
     },
     "execution_count": 60,
     "metadata": {},
     "output_type": "execute_result"
    }
   ],
   "source": [
    "# join two table\n",
    "all_table = test_table.merge(user_table, on = 'user_id', how = 'left')\n",
    "all_table.describe()"
   ],
   "metadata": {
    "collapsed": false,
    "pycharm": {
     "name": "#%%\n"
    }
   }
  },
  {
   "cell_type": "code",
   "execution_count": 61,
   "outputs": [
    {
     "data": {
      "text/plain": "   user_id        date  source  device browser_language ads_channel  \\\n0   315281   12/3/2015  Direct     Web               ES         NaN   \n1   497851   12/4/2015     Ads     Web               ES      Google   \n2   848402   12/4/2015     Ads     Web               ES    Facebook   \n3   290051   12/3/2015     Ads  Mobile            Other    Facebook   \n4   548435  11/30/2015     Ads     Web               ES      Google   \n\n       browser  conversion  test sex   age country  \n0           IE           1     0   M  32.0   Spain  \n1           IE           0     1   M  21.0  Mexico  \n2       Chrome           0     0   M  34.0   Spain  \n3  Android_App           0     1   F  22.0  Mexico  \n4      FireFox           0     1   M  19.0  Mexico  ",
      "text/html": "<div>\n<style scoped>\n    .dataframe tbody tr th:only-of-type {\n        vertical-align: middle;\n    }\n\n    .dataframe tbody tr th {\n        vertical-align: top;\n    }\n\n    .dataframe thead th {\n        text-align: right;\n    }\n</style>\n<table border=\"1\" class=\"dataframe\">\n  <thead>\n    <tr style=\"text-align: right;\">\n      <th></th>\n      <th>user_id</th>\n      <th>date</th>\n      <th>source</th>\n      <th>device</th>\n      <th>browser_language</th>\n      <th>ads_channel</th>\n      <th>browser</th>\n      <th>conversion</th>\n      <th>test</th>\n      <th>sex</th>\n      <th>age</th>\n      <th>country</th>\n    </tr>\n  </thead>\n  <tbody>\n    <tr>\n      <th>0</th>\n      <td>315281</td>\n      <td>12/3/2015</td>\n      <td>Direct</td>\n      <td>Web</td>\n      <td>ES</td>\n      <td>NaN</td>\n      <td>IE</td>\n      <td>1</td>\n      <td>0</td>\n      <td>M</td>\n      <td>32.0</td>\n      <td>Spain</td>\n    </tr>\n    <tr>\n      <th>1</th>\n      <td>497851</td>\n      <td>12/4/2015</td>\n      <td>Ads</td>\n      <td>Web</td>\n      <td>ES</td>\n      <td>Google</td>\n      <td>IE</td>\n      <td>0</td>\n      <td>1</td>\n      <td>M</td>\n      <td>21.0</td>\n      <td>Mexico</td>\n    </tr>\n    <tr>\n      <th>2</th>\n      <td>848402</td>\n      <td>12/4/2015</td>\n      <td>Ads</td>\n      <td>Web</td>\n      <td>ES</td>\n      <td>Facebook</td>\n      <td>Chrome</td>\n      <td>0</td>\n      <td>0</td>\n      <td>M</td>\n      <td>34.0</td>\n      <td>Spain</td>\n    </tr>\n    <tr>\n      <th>3</th>\n      <td>290051</td>\n      <td>12/3/2015</td>\n      <td>Ads</td>\n      <td>Mobile</td>\n      <td>Other</td>\n      <td>Facebook</td>\n      <td>Android_App</td>\n      <td>0</td>\n      <td>1</td>\n      <td>F</td>\n      <td>22.0</td>\n      <td>Mexico</td>\n    </tr>\n    <tr>\n      <th>4</th>\n      <td>548435</td>\n      <td>11/30/2015</td>\n      <td>Ads</td>\n      <td>Web</td>\n      <td>ES</td>\n      <td>Google</td>\n      <td>FireFox</td>\n      <td>0</td>\n      <td>1</td>\n      <td>M</td>\n      <td>19.0</td>\n      <td>Mexico</td>\n    </tr>\n  </tbody>\n</table>\n</div>"
     },
     "execution_count": 61,
     "metadata": {},
     "output_type": "execute_result"
    }
   ],
   "source": [
    "all_table.head()\n"
   ],
   "metadata": {
    "collapsed": false,
    "pycharm": {
     "name": "#%%\n"
    }
   }
  },
  {
   "cell_type": "code",
   "execution_count": 110,
   "outputs": [
    {
     "data": {
      "text/plain": "        country  test        user_id  conversion        age\n0     Argentina     0  496688.319367    0.015071  27.124198\n1     Argentina     1  499662.469888    0.013725  27.132782\n2       Bolivia     0  496550.053333    0.049369  27.196937\n3       Bolivia     1  499866.009508    0.047901  26.997309\n4         Chile     0  505092.208566    0.048107  27.188268\n5         Chile     1  498097.984622    0.051295  27.232800\n6      Colombia     0  499438.290867    0.052089  27.178455\n7      Colombia     1  498809.285926    0.050571  27.106777\n8    Costa Rica     0  496111.016165    0.052256  27.222556\n9    Costa Rica     1  498039.871650    0.054738  27.073990\n10      Ecuador     0  496318.320682    0.049154  27.110627\n11      Ecuador     1  501730.594096    0.048988  26.962718\n12  El Salvador     0  493255.187683    0.053554  27.074489\n13  El Salvador     1  502998.415294    0.047947  27.131547\n14    Guatemala     0  502742.072291    0.050643  27.126738\n15    Guatemala     1  498666.193389    0.048647  27.209649\n16     Honduras     0  499057.690438    0.050906  27.151112\n17     Honduras     1  498469.603756    0.047540  27.134300\n18       Mexico     0  500787.144824    0.049495  27.140603\n19       Mexico     1  500447.490362    0.051186  27.095838\n20    Nicaragua     0  498489.832407    0.052647  27.316467\n21    Nicaragua     1  503547.699758    0.054177  27.183717\n22       Panama     0  506838.598169    0.046796  27.099186\n23       Panama     1  510642.504282    0.049370  27.233249\n24     Paraguay     0  499863.602192    0.048493  27.127397\n25     Paraguay     1  498312.700027    0.049229  26.871517\n26         Peru     0  502939.062126    0.049914  27.100539\n27         Peru     1  496728.932131    0.050604  27.241769\n28        Spain     0  500313.112143    0.079719  27.150805\n29      Uruguay     0  518405.939759    0.012048  27.243373\n30      Uruguay     1  499937.717128    0.012907  26.983060\n31    Venezuela     0  501278.612855    0.050344  27.099758\n32    Venezuela     1  496764.907702    0.048978  27.088463\n33          NaN     0  511382.551020    0.077551        NaN\n34          NaN     1  470723.961722    0.057416        NaN",
      "text/html": "<div>\n<style scoped>\n    .dataframe tbody tr th:only-of-type {\n        vertical-align: middle;\n    }\n\n    .dataframe tbody tr th {\n        vertical-align: top;\n    }\n\n    .dataframe thead th {\n        text-align: right;\n    }\n</style>\n<table border=\"1\" class=\"dataframe\">\n  <thead>\n    <tr style=\"text-align: right;\">\n      <th></th>\n      <th>country</th>\n      <th>test</th>\n      <th>user_id</th>\n      <th>conversion</th>\n      <th>age</th>\n    </tr>\n  </thead>\n  <tbody>\n    <tr>\n      <th>0</th>\n      <td>Argentina</td>\n      <td>0</td>\n      <td>496688.319367</td>\n      <td>0.015071</td>\n      <td>27.124198</td>\n    </tr>\n    <tr>\n      <th>1</th>\n      <td>Argentina</td>\n      <td>1</td>\n      <td>499662.469888</td>\n      <td>0.013725</td>\n      <td>27.132782</td>\n    </tr>\n    <tr>\n      <th>2</th>\n      <td>Bolivia</td>\n      <td>0</td>\n      <td>496550.053333</td>\n      <td>0.049369</td>\n      <td>27.196937</td>\n    </tr>\n    <tr>\n      <th>3</th>\n      <td>Bolivia</td>\n      <td>1</td>\n      <td>499866.009508</td>\n      <td>0.047901</td>\n      <td>26.997309</td>\n    </tr>\n    <tr>\n      <th>4</th>\n      <td>Chile</td>\n      <td>0</td>\n      <td>505092.208566</td>\n      <td>0.048107</td>\n      <td>27.188268</td>\n    </tr>\n    <tr>\n      <th>5</th>\n      <td>Chile</td>\n      <td>1</td>\n      <td>498097.984622</td>\n      <td>0.051295</td>\n      <td>27.232800</td>\n    </tr>\n    <tr>\n      <th>6</th>\n      <td>Colombia</td>\n      <td>0</td>\n      <td>499438.290867</td>\n      <td>0.052089</td>\n      <td>27.178455</td>\n    </tr>\n    <tr>\n      <th>7</th>\n      <td>Colombia</td>\n      <td>1</td>\n      <td>498809.285926</td>\n      <td>0.050571</td>\n      <td>27.106777</td>\n    </tr>\n    <tr>\n      <th>8</th>\n      <td>Costa Rica</td>\n      <td>0</td>\n      <td>496111.016165</td>\n      <td>0.052256</td>\n      <td>27.222556</td>\n    </tr>\n    <tr>\n      <th>9</th>\n      <td>Costa Rica</td>\n      <td>1</td>\n      <td>498039.871650</td>\n      <td>0.054738</td>\n      <td>27.073990</td>\n    </tr>\n    <tr>\n      <th>10</th>\n      <td>Ecuador</td>\n      <td>0</td>\n      <td>496318.320682</td>\n      <td>0.049154</td>\n      <td>27.110627</td>\n    </tr>\n    <tr>\n      <th>11</th>\n      <td>Ecuador</td>\n      <td>1</td>\n      <td>501730.594096</td>\n      <td>0.048988</td>\n      <td>26.962718</td>\n    </tr>\n    <tr>\n      <th>12</th>\n      <td>El Salvador</td>\n      <td>0</td>\n      <td>493255.187683</td>\n      <td>0.053554</td>\n      <td>27.074489</td>\n    </tr>\n    <tr>\n      <th>13</th>\n      <td>El Salvador</td>\n      <td>1</td>\n      <td>502998.415294</td>\n      <td>0.047947</td>\n      <td>27.131547</td>\n    </tr>\n    <tr>\n      <th>14</th>\n      <td>Guatemala</td>\n      <td>0</td>\n      <td>502742.072291</td>\n      <td>0.050643</td>\n      <td>27.126738</td>\n    </tr>\n    <tr>\n      <th>15</th>\n      <td>Guatemala</td>\n      <td>1</td>\n      <td>498666.193389</td>\n      <td>0.048647</td>\n      <td>27.209649</td>\n    </tr>\n    <tr>\n      <th>16</th>\n      <td>Honduras</td>\n      <td>0</td>\n      <td>499057.690438</td>\n      <td>0.050906</td>\n      <td>27.151112</td>\n    </tr>\n    <tr>\n      <th>17</th>\n      <td>Honduras</td>\n      <td>1</td>\n      <td>498469.603756</td>\n      <td>0.047540</td>\n      <td>27.134300</td>\n    </tr>\n    <tr>\n      <th>18</th>\n      <td>Mexico</td>\n      <td>0</td>\n      <td>500787.144824</td>\n      <td>0.049495</td>\n      <td>27.140603</td>\n    </tr>\n    <tr>\n      <th>19</th>\n      <td>Mexico</td>\n      <td>1</td>\n      <td>500447.490362</td>\n      <td>0.051186</td>\n      <td>27.095838</td>\n    </tr>\n    <tr>\n      <th>20</th>\n      <td>Nicaragua</td>\n      <td>0</td>\n      <td>498489.832407</td>\n      <td>0.052647</td>\n      <td>27.316467</td>\n    </tr>\n    <tr>\n      <th>21</th>\n      <td>Nicaragua</td>\n      <td>1</td>\n      <td>503547.699758</td>\n      <td>0.054177</td>\n      <td>27.183717</td>\n    </tr>\n    <tr>\n      <th>22</th>\n      <td>Panama</td>\n      <td>0</td>\n      <td>506838.598169</td>\n      <td>0.046796</td>\n      <td>27.099186</td>\n    </tr>\n    <tr>\n      <th>23</th>\n      <td>Panama</td>\n      <td>1</td>\n      <td>510642.504282</td>\n      <td>0.049370</td>\n      <td>27.233249</td>\n    </tr>\n    <tr>\n      <th>24</th>\n      <td>Paraguay</td>\n      <td>0</td>\n      <td>499863.602192</td>\n      <td>0.048493</td>\n      <td>27.127397</td>\n    </tr>\n    <tr>\n      <th>25</th>\n      <td>Paraguay</td>\n      <td>1</td>\n      <td>498312.700027</td>\n      <td>0.049229</td>\n      <td>26.871517</td>\n    </tr>\n    <tr>\n      <th>26</th>\n      <td>Peru</td>\n      <td>0</td>\n      <td>502939.062126</td>\n      <td>0.049914</td>\n      <td>27.100539</td>\n    </tr>\n    <tr>\n      <th>27</th>\n      <td>Peru</td>\n      <td>1</td>\n      <td>496728.932131</td>\n      <td>0.050604</td>\n      <td>27.241769</td>\n    </tr>\n    <tr>\n      <th>28</th>\n      <td>Spain</td>\n      <td>0</td>\n      <td>500313.112143</td>\n      <td>0.079719</td>\n      <td>27.150805</td>\n    </tr>\n    <tr>\n      <th>29</th>\n      <td>Uruguay</td>\n      <td>0</td>\n      <td>518405.939759</td>\n      <td>0.012048</td>\n      <td>27.243373</td>\n    </tr>\n    <tr>\n      <th>30</th>\n      <td>Uruguay</td>\n      <td>1</td>\n      <td>499937.717128</td>\n      <td>0.012907</td>\n      <td>26.983060</td>\n    </tr>\n    <tr>\n      <th>31</th>\n      <td>Venezuela</td>\n      <td>0</td>\n      <td>501278.612855</td>\n      <td>0.050344</td>\n      <td>27.099758</td>\n    </tr>\n    <tr>\n      <th>32</th>\n      <td>Venezuela</td>\n      <td>1</td>\n      <td>496764.907702</td>\n      <td>0.048978</td>\n      <td>27.088463</td>\n    </tr>\n    <tr>\n      <th>33</th>\n      <td>NaN</td>\n      <td>0</td>\n      <td>511382.551020</td>\n      <td>0.077551</td>\n      <td>NaN</td>\n    </tr>\n    <tr>\n      <th>34</th>\n      <td>NaN</td>\n      <td>1</td>\n      <td>470723.961722</td>\n      <td>0.057416</td>\n      <td>NaN</td>\n    </tr>\n  </tbody>\n</table>\n</div>"
     },
     "execution_count": 110,
     "metadata": {},
     "output_type": "execute_result"
    }
   ],
   "source": [
    "# look at the result of conversion to make sure it is ture spain converts much better than the rest of LatAm countries.\n",
    "all_table_conversion = all_table.groupby(['country','test'],dropna=False, as_index= False).mean()\n",
    "all_table_conversion\n",
    "\n"
   ],
   "metadata": {
    "collapsed": false,
    "pycharm": {
     "name": "#%%\n"
    }
   }
  },
  {
   "cell_type": "code",
   "execution_count": 128,
   "outputs": [],
   "source": [
    "# implement t-test on different test set except spanish\n",
    "data_no_spanish = all_table[all_table['country'] != 'Spain']\n",
    "data_no_spanish_conversion = data_no_spanish[['country', 'test', 'conversion']]\n"
   ],
   "metadata": {
    "collapsed": false,
    "pycharm": {
     "name": "#%%\n"
    }
   }
  },
  {
   "cell_type": "code",
   "execution_count": 132,
   "outputs": [],
   "source": [
    "#separate into two set\n",
    "data_no_spanish_conversion_0 = data_no_spanish_conversion[data_no_spanish_conversion['test'] == 0]\n",
    "data_no_spanish_conversion_0 = data_no_spanish_conversion_0.dropna()"
   ],
   "metadata": {
    "collapsed": false,
    "pycharm": {
     "name": "#%%\n"
    }
   }
  },
  {
   "cell_type": "code",
   "execution_count": 139,
   "outputs": [],
   "source": [
    "data_no_spanish_conversion_1 = data_no_spanish_conversion[data_no_spanish_conversion['test'] == 1]\n",
    "data_no_spanish_conversion_1 = data_no_spanish_conversion_1.dropna()\n"
   ],
   "metadata": {
    "collapsed": false,
    "pycharm": {
     "name": "#%%\n"
    }
   }
  },
  {
   "cell_type": "code",
   "execution_count": 148,
   "outputs": [
    {
     "name": "stdout",
     "output_type": "stream",
     "text": [
      "the mean of test 0 0.04829179055749524\n",
      "the mean of test 1 test          1.000000\n",
      "conversion    0.043411\n",
      "dtype: float64\n"
     ]
    },
    {
     "name": "stderr",
     "output_type": "stream",
     "text": [
      "D:\\temp\\ipykernel_93540\\2172221294.py:2: FutureWarning: Dropping of nuisance columns in DataFrame reductions (with 'numeric_only=None') is deprecated; in a future version this will raise TypeError.  Select only valid columns before calling the reduction.\n",
      "  print(\"the mean of test 1\", data_no_spanish_conversion_1.mean())\n"
     ]
    },
    {
     "name": "stdout",
     "output_type": "stream",
     "text": [
      "the mean of test 0 0.04829179055749524\n",
      "the mean of test 1 0.043411161678422794\n"
     ]
    }
   ],
   "source": [
    "print(\"the mean of test 0\", data_no_spanish_conversion_0['conversion'].mean())\n",
    "print(\"the mean of test 1\", data_no_spanish_conversion_1['conversion'].mean())"
   ],
   "metadata": {
    "collapsed": false,
    "pycharm": {
     "name": "#%%\n"
    }
   }
  },
  {
   "cell_type": "code",
   "execution_count": 141,
   "outputs": [
    {
     "name": "stdout",
     "output_type": "stream",
     "text": [
      "test          0.000000\n",
      "conversion    0.041527\n",
      "dtype: float64 test          0.00000\n",
      "conversion    0.04596\n",
      "dtype: float64\n"
     ]
    },
    {
     "name": "stderr",
     "output_type": "stream",
     "text": [
      "D:\\temp\\ipykernel_93540\\548338839.py:3: FutureWarning: Dropping of nuisance columns in DataFrame reductions (with 'numeric_only=None') is deprecated; in a future version this will raise TypeError.  Select only valid columns before calling the reduction.\n",
      "  print(data_no_spanish_conversion_1.var(), data_no_spanish_conversion_0.var())\n"
     ]
    }
   ],
   "source": [
    "#conduct two-sample t-test for two set\n",
    "import scipy.stats as stats\n",
    "print(data_no_spanish_conversion_1.var(), data_no_spanish_conversion_0.var())"
   ],
   "metadata": {
    "collapsed": false,
    "pycharm": {
     "name": "#%%\n"
    }
   }
  },
  {
   "cell_type": "code",
   "execution_count": 143,
   "outputs": [
    {
     "data": {
      "text/plain": "Ttest_indResult(statistic=-7.382252163053968, pvalue=1.559329277881674e-13)"
     },
     "execution_count": 143,
     "metadata": {},
     "output_type": "execute_result"
    }
   ],
   "source": [
    "stats.ttest_ind(a = data_no_spanish_conversion_1['conversion'], b = data_no_spanish_conversion_0['conversion'], equal_var= True )"
   ],
   "metadata": {
    "collapsed": false,
    "pycharm": {
     "name": "#%%\n"
    }
   }
  },
  {
   "cell_type": "markdown",
   "source": [
    "two hypothesis for two sample t-test:\n",
    "\n",
    "$H_0$: $\\mu_1$ = $\\mu_2$ (two population means are equal)\n",
    "\n",
    "$H_1$: $\\mu_1$ $\\neq$ $\\mu_2$ (two population mean are not equal)\n",
    "\n",
    "let set the significant value equal 0.05 ($\\alpha$ = 0.05)\n",
    "\n",
    "The p-value is 1.559329277881674e-13, which is less than the 0.05, so we reject the null hypothesis of the test.\n",
    "That's mean, we have sufficient evidence to say that the mean of conversion rate between two test are different\n",
    "\n",
    "\n",
    "Look at the mean of conversion for two test, the mean of test 1 is 4.8%, the mean of test 0 is 4.3%\n",
    "That’s a 10% drop, which would be dramatic if it were true. The most likely reason for weird A/B test results are:\n",
    "\n",
    "1.We didn't collect enough data.\n",
    "\n",
    "2.Some bias has been introduced in the experiment so that test/control people are not really random.\n",
    "\n",
    "\n",
    "In data science, whenever result appear too bad or too good to be true, they are not true.\n",
    "\n",
    "Firstly, let's plot day by day, to see if these weired result have been constantly happening\n",
    "or they just started happening all of a sudden."
   ],
   "metadata": {
    "collapsed": false,
    "pycharm": {
     "name": "#%% md\n"
    }
   }
  },
  {
   "cell_type": "code",
   "execution_count": 183,
   "outputs": [
    {
     "data": {
      "text/plain": "<AxesSubplot:xlabel='date', ylabel='test_vs_control'>"
     },
     "execution_count": 183,
     "metadata": {},
     "output_type": "execute_result"
    },
    {
     "data": {
      "text/plain": "<Figure size 432x288 with 1 Axes>",
      "image/png": "[encoded data removed]"
     },
     "metadata": {
      "needs_background": "light"
     },
     "output_type": "display_data"
    }
   ],
   "source": [
    "data_test_by_day = data_no_spanish.groupby(['test', 'date'], as_index = False).mean()\n",
    "data_test_by_day_test0 = data_test_by_day[data_test_by_day['test'] == 0]\n",
    "data_test_by_day_test1 = data_test_by_day[data_test_by_day['test'] == 1]\n",
    "data_test_by_day_test = data_test_by_day_test1.merge(data_test_by_day_test0, on = 'date').set_index('date')\n",
    "data_test_by_day_ratio = data_test_by_day_test['conversion_x']/data_test_by_day_test['conversion_y']\n",
    "data_test_by_day_ratio.plot.line(ylabel = 'test_vs_control')\n",
    "\n"
   ],
   "metadata": {
    "collapsed": false,
    "pycharm": {
     "name": "#%%\n"
    }
   }
  },
  {
   "cell_type": "markdown",
   "source": [
    "From the plot, we notice a couple of things:\n",
    "1. Test has constantly been worse than control and there is relatively little variance across days. That\n",
    "probably means that we do have enough data, but there was some bias in the experiment set up.\n",
    "2. On a side note, we just ran it for 5 days. We should always run the test for at least 1 full week to\n",
    "capture weekly patterns, 2 weeks would be much better.\n",
    "\n",
    "Time to find out the bias! Likely, there is for some reason some segment of users more likely to end up in\n",
    "test or in control, this segment had a significantly above/below conversion rate and this affected the overall\n",
    "results.\n",
    "\n",
    "In an ideal world, the distribution of people in test and control for each segment should be the same. There\n",
    "are many ways to DIFDL this. One way is to build a decision tree where the variables are the user\n",
    "dimensions and the outcome variable is whether the user is in test or control. If the tree splits, it means\n",
    "that for given values of that variable you are more likely to end up in test or control. But this should be\n",
    "impossible! Therefore, if the randomization worked, the tree should not split at all (or at least not be able to\n",
    "separate the two classes well)."
   ],
   "metadata": {
    "collapsed": false,
    "pycharm": {
     "name": "#%% md\n"
    }
   }
  }
 ],
 "metadata": {
  "kernelspec": {
   "display_name": "Python 3",
   "language": "python",
   "name": "python3"
  },
  "language_info": {
   "codemirror_mode": {
    "name": "ipython",
    "version": 2
   },
   "file_extension": ".py",
   "mimetype": "text/x-python",
   "name": "python",
   "nbconvert_exporter": "python",
   "pygments_lexer": "ipython2",
   "version": "2.7.6"
  }
 },
 "nbformat": 4,
 "nbformat_minor": 0
}