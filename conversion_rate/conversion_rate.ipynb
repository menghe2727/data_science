{
 "cells": [
  {
   "cell_type": "markdown",
   "source": [
    "# Goal\n",
    "Optimizing conversion rate is likely the most common work of a data scientist, and rightfully so.\n",
    "The data revolution has a lot to do with the fact that now we are able to collect all sorts of data\n",
    "about people who buy something on our site as well as people who don't. This gives us a\n",
    "tremendous opportunity to understand what's working well (and potentially scale it even further)\n",
    "and what's not working well (and fix it).\n",
    "\n",
    "The goal of this challenge is to build a model that predicts conversion rate and, based on the\n",
    "model, come up with ideas to improve re]enue.\n",
    "\n",
    "This challenge is significantly easier than all others in this collection. There are no dates, no\n",
    "tables to join, no feature engineering required, and the problem is really straightforward.\n",
    "Therefore, it is a great starting point to get familiar with data science take-home challenges\n",
    "\n",
    "# Challenge Description\n",
    "We have data about users who hit our site: whether they converted or not as well as some of\n",
    "their characteristics such as their country, the marketing channel, their age, whether they are\n",
    "repeat users and the number of pages visited during that session (as a proxy for site\n",
    "activity/time spent on site).\n",
    "Your project is to:\n",
    "*   Predict conversion rate\n",
    "*   Come up with recommendations for the product team and the marketing team to improve conversion rate\n",
    "\n",
    "# Data\n",
    "## Columns\n",
    "\n",
    "*   country : user country based on the IP address\n",
    "*   age : user age. Self-reported at sign-in step\n",
    "*   new_user : whether the user created the account during this session or had already an\n",
    "*   account and simply came back to the site\n",
    "*   source : marketing channel source\n",
    "*   Ads: came to the site by clicking on an advertisement\n",
    "*   Seo: came to the site by clicking on search results\n",
    "*   Direct: came to the site by directly typing the URL on the browser\n",
    "*   total_pages_visited: number of total pages visited during the session. This is a proxy for\n",
    "*   time spent on site and engagement during the session.\n",
    "*   converted: this is our label. 1 means they converted within the session, 0 means they left without buying anything. The company goal is to increase conversion rate: # conversions/ total sessions\n"
   ],
   "metadata": {
    "collapsed": false
   }
  },
  {
   "cell_type": "code",
   "execution_count": 2,
   "outputs": [
    {
     "data": {
      "text/plain": "  country  age  new_user source  total_pages_visited  converted\n0      UK   25         1    Ads                    1          0\n1      US   23         1    Seo                    5          0\n2      US   28         1    Seo                    4          0\n3   China   39         1    Seo                    5          0\n4      US   30         1    Seo                    6          0",
      "text/html": "<div>\n<style scoped>\n    .dataframe tbody tr th:only-of-type {\n        vertical-align: middle;\n    }\n\n    .dataframe tbody tr th {\n        vertical-align: top;\n    }\n\n    .dataframe thead th {\n        text-align: right;\n    }\n</style>\n<table border=\"1\" class=\"dataframe\">\n  <thead>\n    <tr style=\"text-align: right;\">\n      <th></th>\n      <th>country</th>\n      <th>age</th>\n      <th>new_user</th>\n      <th>source</th>\n      <th>total_pages_visited</th>\n      <th>converted</th>\n    </tr>\n  </thead>\n  <tbody>\n    <tr>\n      <th>0</th>\n      <td>UK</td>\n      <td>25</td>\n      <td>1</td>\n      <td>Ads</td>\n      <td>1</td>\n      <td>0</td>\n    </tr>\n    <tr>\n      <th>1</th>\n      <td>US</td>\n      <td>23</td>\n      <td>1</td>\n      <td>Seo</td>\n      <td>5</td>\n      <td>0</td>\n    </tr>\n    <tr>\n      <th>2</th>\n      <td>US</td>\n      <td>28</td>\n      <td>1</td>\n      <td>Seo</td>\n      <td>4</td>\n      <td>0</td>\n    </tr>\n    <tr>\n      <th>3</th>\n      <td>China</td>\n      <td>39</td>\n      <td>1</td>\n      <td>Seo</td>\n      <td>5</td>\n      <td>0</td>\n    </tr>\n    <tr>\n      <th>4</th>\n      <td>US</td>\n      <td>30</td>\n      <td>1</td>\n      <td>Seo</td>\n      <td>6</td>\n      <td>0</td>\n    </tr>\n  </tbody>\n</table>\n</div>"
     },
     "execution_count": 2,
     "metadata": {},
     "output_type": "execute_result"
    }
   ],
   "source": [
    "# read the csv file into data\n",
    "import pandas as pd\n",
    "data = pd.read_csv('conversion_data.csv')\n",
    "data.head()"
   ],
   "metadata": {
    "collapsed": false,
    "pycharm": {
     "name": "#%%\n"
    }
   }
  },
  {
   "cell_type": "code",
   "execution_count": 3,
   "outputs": [
    {
     "data": {
      "text/plain": "country                object\nage                     int64\nnew_user                int64\nsource                 object\ntotal_pages_visited     int64\nconverted               int64\ndtype: object"
     },
     "execution_count": 3,
     "metadata": {},
     "output_type": "execute_result"
    }
   ],
   "source": [
    "# check type of data\n",
    "data.dtypes"
   ],
   "metadata": {
    "collapsed": false,
    "pycharm": {
     "name": "#%%\n"
    }
   }
  },
  {
   "cell_type": "code",
   "execution_count": 4,
   "outputs": [
    {
     "data": {
      "text/plain": "                 age       new_user  total_pages_visited      converted\ncount  316200.000000  316200.000000        316200.000000  316200.000000\nmean       30.569858       0.685465             4.872966       0.032258\nstd         8.271802       0.464331             3.341104       0.176685\nmin        17.000000       0.000000             1.000000       0.000000\n25%        24.000000       0.000000             2.000000       0.000000\n50%        30.000000       1.000000             4.000000       0.000000\n75%        36.000000       1.000000             7.000000       0.000000\nmax       123.000000       1.000000            29.000000       1.000000",
      "text/html": "<div>\n<style scoped>\n    .dataframe tbody tr th:only-of-type {\n        vertical-align: middle;\n    }\n\n    .dataframe tbody tr th {\n        vertical-align: top;\n    }\n\n    .dataframe thead th {\n        text-align: right;\n    }\n</style>\n<table border=\"1\" class=\"dataframe\">\n  <thead>\n    <tr style=\"text-align: right;\">\n      <th></th>\n      <th>age</th>\n      <th>new_user</th>\n      <th>total_pages_visited</th>\n      <th>converted</th>\n    </tr>\n  </thead>\n  <tbody>\n    <tr>\n      <th>count</th>\n      <td>316200.000000</td>\n      <td>316200.000000</td>\n      <td>316200.000000</td>\n      <td>316200.000000</td>\n    </tr>\n    <tr>\n      <th>mean</th>\n      <td>30.569858</td>\n      <td>0.685465</td>\n      <td>4.872966</td>\n      <td>0.032258</td>\n    </tr>\n    <tr>\n      <th>std</th>\n      <td>8.271802</td>\n      <td>0.464331</td>\n      <td>3.341104</td>\n      <td>0.176685</td>\n    </tr>\n    <tr>\n      <th>min</th>\n      <td>17.000000</td>\n      <td>0.000000</td>\n      <td>1.000000</td>\n      <td>0.000000</td>\n    </tr>\n    <tr>\n      <th>25%</th>\n      <td>24.000000</td>\n      <td>0.000000</td>\n      <td>2.000000</td>\n      <td>0.000000</td>\n    </tr>\n    <tr>\n      <th>50%</th>\n      <td>30.000000</td>\n      <td>1.000000</td>\n      <td>4.000000</td>\n      <td>0.000000</td>\n    </tr>\n    <tr>\n      <th>75%</th>\n      <td>36.000000</td>\n      <td>1.000000</td>\n      <td>7.000000</td>\n      <td>0.000000</td>\n    </tr>\n    <tr>\n      <th>max</th>\n      <td>123.000000</td>\n      <td>1.000000</td>\n      <td>29.000000</td>\n      <td>1.000000</td>\n    </tr>\n  </tbody>\n</table>\n</div>"
     },
     "execution_count": 4,
     "metadata": {},
     "output_type": "execute_result"
    }
   ],
   "source": [
    "# look at data to find some weired behavior or wrong data.\n",
    "data.describe()"
   ],
   "metadata": {
    "collapsed": false,
    "pycharm": {
     "name": "#%%\n"
    }
   }
  },
  {
   "cell_type": "code",
   "execution_count": 5,
   "outputs": [
    {
     "data": {
      "text/plain": "            age  new_user  source  total_pages_visited  converted\ncountry                                                          \nChina     76602     76602   76602                76602      76602\nGermany   13056     13056   13056                13056      13056\nUK        48450     48450   48450                48450      48450\nUS       178092    178092  178092               178092     178092",
      "text/html": "<div>\n<style scoped>\n    .dataframe tbody tr th:only-of-type {\n        vertical-align: middle;\n    }\n\n    .dataframe tbody tr th {\n        vertical-align: top;\n    }\n\n    .dataframe thead th {\n        text-align: right;\n    }\n</style>\n<table border=\"1\" class=\"dataframe\">\n  <thead>\n    <tr style=\"text-align: right;\">\n      <th></th>\n      <th>age</th>\n      <th>new_user</th>\n      <th>source</th>\n      <th>total_pages_visited</th>\n      <th>converted</th>\n    </tr>\n    <tr>\n      <th>country</th>\n      <th></th>\n      <th></th>\n      <th></th>\n      <th></th>\n      <th></th>\n    </tr>\n  </thead>\n  <tbody>\n    <tr>\n      <th>China</th>\n      <td>76602</td>\n      <td>76602</td>\n      <td>76602</td>\n      <td>76602</td>\n      <td>76602</td>\n    </tr>\n    <tr>\n      <th>Germany</th>\n      <td>13056</td>\n      <td>13056</td>\n      <td>13056</td>\n      <td>13056</td>\n      <td>13056</td>\n    </tr>\n    <tr>\n      <th>UK</th>\n      <td>48450</td>\n      <td>48450</td>\n      <td>48450</td>\n      <td>48450</td>\n      <td>48450</td>\n    </tr>\n    <tr>\n      <th>US</th>\n      <td>178092</td>\n      <td>178092</td>\n      <td>178092</td>\n      <td>178092</td>\n      <td>178092</td>\n    </tr>\n  </tbody>\n</table>\n</div>"
     },
     "execution_count": 5,
     "metadata": {},
     "output_type": "execute_result"
    }
   ],
   "source": [
    "data.groupby(['country']).count()"
   ],
   "metadata": {
    "collapsed": false,
    "pycharm": {
     "name": "#%%\n"
    }
   }
  },
  {
   "cell_type": "code",
   "execution_count": 6,
   "outputs": [
    {
     "data": {
      "text/plain": "        country     age  new_user  total_pages_visited  converted\nsource                                                           \nAds       88740   88740     88740                88740      88740\nDirect    72420   72420     72420                72420      72420\nSeo      155040  155040    155040               155040     155040",
      "text/html": "<div>\n<style scoped>\n    .dataframe tbody tr th:only-of-type {\n        vertical-align: middle;\n    }\n\n    .dataframe tbody tr th {\n        vertical-align: top;\n    }\n\n    .dataframe thead th {\n        text-align: right;\n    }\n</style>\n<table border=\"1\" class=\"dataframe\">\n  <thead>\n    <tr style=\"text-align: right;\">\n      <th></th>\n      <th>country</th>\n      <th>age</th>\n      <th>new_user</th>\n      <th>total_pages_visited</th>\n      <th>converted</th>\n    </tr>\n    <tr>\n      <th>source</th>\n      <th></th>\n      <th></th>\n      <th></th>\n      <th></th>\n      <th></th>\n    </tr>\n  </thead>\n  <tbody>\n    <tr>\n      <th>Ads</th>\n      <td>88740</td>\n      <td>88740</td>\n      <td>88740</td>\n      <td>88740</td>\n      <td>88740</td>\n    </tr>\n    <tr>\n      <th>Direct</th>\n      <td>72420</td>\n      <td>72420</td>\n      <td>72420</td>\n      <td>72420</td>\n      <td>72420</td>\n    </tr>\n    <tr>\n      <th>Seo</th>\n      <td>155040</td>\n      <td>155040</td>\n      <td>155040</td>\n      <td>155040</td>\n      <td>155040</td>\n    </tr>\n  </tbody>\n</table>\n</div>"
     },
     "execution_count": 6,
     "metadata": {},
     "output_type": "execute_result"
    }
   ],
   "source": [
    "data.groupby(['source']).count()\n"
   ],
   "metadata": {
    "collapsed": false,
    "pycharm": {
     "name": "#%%\n"
    }
   }
  },
  {
   "cell_type": "markdown",
   "source": [
    "a few quick observations:\n",
    "* the site is probably a US site, although it does have large China user as well\n",
    "* user base is pretty young\n",
    "* conversion rate at around 3% is industry standard.  It makes sense.\n",
    "* everything seems to make sense here except for max age 123 yrs."
   ],
   "metadata": {
    "collapsed": false,
    "pycharm": {
     "name": "#%% md\n"
    }
   }
  },
  {
   "cell_type": "code",
   "execution_count": 7,
   "outputs": [
    {
     "data": {
      "text/plain": "     country  new_user  source  total_pages_visited  converted\nage                                                           \n17      7597      7597    7597                 7597       7597\n18      8466      8466    8466                 8466       8466\n19      9349      9349    9349                 9349       9349\n20     10156     10156   10156                10156      10156\n21     10966     10966   10966                10966      10966\n22     11701     11701   11701                11701      11701\n23     12336     12336   12336                12336      12336\n24     12960     12960   12960                12960      12960\n25     13460     13460   13460                13460      13460\n26     13931     13931   13931                13931      13931\n27     14084     14084   14084                14084      14084\n28     14341     14341   14341                14341      14341\n29     14158     14158   14158                14158      14158\n30     14346     14346   14346                14346      14346\n31     13692     13692   13692                13692      13692\n32     13507     13507   13507                13507      13507\n33     12631     12631   12631                12631      12631\n34     12108     12108   12108                12108      12108\n35     11471     11471   11471                11471      11471\n36     10779     10779   10779                10779      10779\n37      9761      9761    9761                 9761       9761\n38      8970      8970    8970                 8970       8970\n39      8202      8202    8202                 8202       8202\n40      7148      7148    7148                 7148       7148\n41      6401      6401    6401                 6401       6401\n42      5588      5588    5588                 5588       5588\n43      4904      4904    4904                 4904       4904\n44      4224      4224    4224                 4224       4224\n45      3634      3634    3634                 3634       3634\n46      2994      2994    2994                 2994       2994\n47      2504      2504    2504                 2504       2504\n48      2121      2121    2121                 2121       2121\n49      1629      1629    1629                 1629       1629\n50      1356      1356    1356                 1356       1356\n51      1093      1093    1093                 1093       1093\n52       935       935     935                  935        935\n53       627       627     627                  627        627\n54       520       520     520                  520        520\n55       394       394     394                  394        394\n56       286       286     286                  286        286\n57       247       247     247                  247        247\n58       165       165     165                  165        165\n59       127       127     127                  127        127\n60        94        94      94                   94         94\n61        71        71      71                   71         71\n62        59        59      59                   59         59\n63        35        35      35                   35         35\n64        27        27      27                   27         27\n65        15        15      15                   15         15\n66         9         9       9                    9          9\n67         5         5       5                    5          5\n68         5         5       5                    5          5\n69         3         3       3                    3          3\n70         2         2       2                    2          2\n72         1         1       1                    1          1\n73         1         1       1                    1          1\n77         1         1       1                    1          1\n79         1         1       1                    1          1\n111        1         1       1                    1          1\n123        1         1       1                    1          1",
      "text/html": "<div>\n<style scoped>\n    .dataframe tbody tr th:only-of-type {\n        vertical-align: middle;\n    }\n\n    .dataframe tbody tr th {\n        vertical-align: top;\n    }\n\n    .dataframe thead th {\n        text-align: right;\n    }\n</style>\n<table border=\"1\" class=\"dataframe\">\n  <thead>\n    <tr style=\"text-align: right;\">\n      <th></th>\n      <th>country</th>\n      <th>new_user</th>\n      <th>source</th>\n      <th>total_pages_visited</th>\n      <th>converted</th>\n    </tr>\n    <tr>\n      <th>age</th>\n      <th></th>\n      <th></th>\n      <th></th>\n      <th></th>\n      <th></th>\n    </tr>\n  </thead>\n  <tbody>\n    <tr>\n      <th>17</th>\n      <td>7597</td>\n      <td>7597</td>\n      <td>7597</td>\n      <td>7597</td>\n      <td>7597</td>\n    </tr>\n    <tr>\n      <th>18</th>\n      <td>8466</td>\n      <td>8466</td>\n      <td>8466</td>\n      <td>8466</td>\n      <td>8466</td>\n    </tr>\n    <tr>\n      <th>19</th>\n      <td>9349</td>\n      <td>9349</td>\n      <td>9349</td>\n      <td>9349</td>\n      <td>9349</td>\n    </tr>\n    <tr>\n      <th>20</th>\n      <td>10156</td>\n      <td>10156</td>\n      <td>10156</td>\n      <td>10156</td>\n      <td>10156</td>\n    </tr>\n    <tr>\n      <th>21</th>\n      <td>10966</td>\n      <td>10966</td>\n      <td>10966</td>\n      <td>10966</td>\n      <td>10966</td>\n    </tr>\n    <tr>\n      <th>22</th>\n      <td>11701</td>\n      <td>11701</td>\n      <td>11701</td>\n      <td>11701</td>\n      <td>11701</td>\n    </tr>\n    <tr>\n      <th>23</th>\n      <td>12336</td>\n      <td>12336</td>\n      <td>12336</td>\n      <td>12336</td>\n      <td>12336</td>\n    </tr>\n    <tr>\n      <th>24</th>\n      <td>12960</td>\n      <td>12960</td>\n      <td>12960</td>\n      <td>12960</td>\n      <td>12960</td>\n    </tr>\n    <tr>\n      <th>25</th>\n      <td>13460</td>\n      <td>13460</td>\n      <td>13460</td>\n      <td>13460</td>\n      <td>13460</td>\n    </tr>\n    <tr>\n      <th>26</th>\n      <td>13931</td>\n      <td>13931</td>\n      <td>13931</td>\n      <td>13931</td>\n      <td>13931</td>\n    </tr>\n    <tr>\n      <th>27</th>\n      <td>14084</td>\n      <td>14084</td>\n      <td>14084</td>\n      <td>14084</td>\n      <td>14084</td>\n    </tr>\n    <tr>\n      <th>28</th>\n      <td>14341</td>\n      <td>14341</td>\n      <td>14341</td>\n      <td>14341</td>\n      <td>14341</td>\n    </tr>\n    <tr>\n      <th>29</th>\n      <td>14158</td>\n      <td>14158</td>\n      <td>14158</td>\n      <td>14158</td>\n      <td>14158</td>\n    </tr>\n    <tr>\n      <th>30</th>\n      <td>14346</td>\n      <td>14346</td>\n      <td>14346</td>\n      <td>14346</td>\n      <td>14346</td>\n    </tr>\n    <tr>\n      <th>31</th>\n      <td>13692</td>\n      <td>13692</td>\n      <td>13692</td>\n      <td>13692</td>\n      <td>13692</td>\n    </tr>\n    <tr>\n      <th>32</th>\n      <td>13507</td>\n      <td>13507</td>\n      <td>13507</td>\n      <td>13507</td>\n      <td>13507</td>\n    </tr>\n    <tr>\n      <th>33</th>\n      <td>12631</td>\n      <td>12631</td>\n      <td>12631</td>\n      <td>12631</td>\n      <td>12631</td>\n    </tr>\n    <tr>\n      <th>34</th>\n      <td>12108</td>\n      <td>12108</td>\n      <td>12108</td>\n      <td>12108</td>\n      <td>12108</td>\n    </tr>\n    <tr>\n      <th>35</th>\n      <td>11471</td>\n      <td>11471</td>\n      <td>11471</td>\n      <td>11471</td>\n      <td>11471</td>\n    </tr>\n    <tr>\n      <th>36</th>\n      <td>10779</td>\n      <td>10779</td>\n      <td>10779</td>\n      <td>10779</td>\n      <td>10779</td>\n    </tr>\n    <tr>\n      <th>37</th>\n      <td>9761</td>\n      <td>9761</td>\n      <td>9761</td>\n      <td>9761</td>\n      <td>9761</td>\n    </tr>\n    <tr>\n      <th>38</th>\n      <td>8970</td>\n      <td>8970</td>\n      <td>8970</td>\n      <td>8970</td>\n      <td>8970</td>\n    </tr>\n    <tr>\n      <th>39</th>\n      <td>8202</td>\n      <td>8202</td>\n      <td>8202</td>\n      <td>8202</td>\n      <td>8202</td>\n    </tr>\n    <tr>\n      <th>40</th>\n      <td>7148</td>\n      <td>7148</td>\n      <td>7148</td>\n      <td>7148</td>\n      <td>7148</td>\n    </tr>\n    <tr>\n      <th>41</th>\n      <td>6401</td>\n      <td>6401</td>\n      <td>6401</td>\n      <td>6401</td>\n      <td>6401</td>\n    </tr>\n    <tr>\n      <th>42</th>\n      <td>5588</td>\n      <td>5588</td>\n      <td>5588</td>\n      <td>5588</td>\n      <td>5588</td>\n    </tr>\n    <tr>\n      <th>43</th>\n      <td>4904</td>\n      <td>4904</td>\n      <td>4904</td>\n      <td>4904</td>\n      <td>4904</td>\n    </tr>\n    <tr>\n      <th>44</th>\n      <td>4224</td>\n      <td>4224</td>\n      <td>4224</td>\n      <td>4224</td>\n      <td>4224</td>\n    </tr>\n    <tr>\n      <th>45</th>\n      <td>3634</td>\n      <td>3634</td>\n      <td>3634</td>\n      <td>3634</td>\n      <td>3634</td>\n    </tr>\n    <tr>\n      <th>46</th>\n      <td>2994</td>\n      <td>2994</td>\n      <td>2994</td>\n      <td>2994</td>\n      <td>2994</td>\n    </tr>\n    <tr>\n      <th>47</th>\n      <td>2504</td>\n      <td>2504</td>\n      <td>2504</td>\n      <td>2504</td>\n      <td>2504</td>\n    </tr>\n    <tr>\n      <th>48</th>\n      <td>2121</td>\n      <td>2121</td>\n      <td>2121</td>\n      <td>2121</td>\n      <td>2121</td>\n    </tr>\n    <tr>\n      <th>49</th>\n      <td>1629</td>\n      <td>1629</td>\n      <td>1629</td>\n      <td>1629</td>\n      <td>1629</td>\n    </tr>\n    <tr>\n      <th>50</th>\n      <td>1356</td>\n      <td>1356</td>\n      <td>1356</td>\n      <td>1356</td>\n      <td>1356</td>\n    </tr>\n    <tr>\n      <th>51</th>\n      <td>1093</td>\n      <td>1093</td>\n      <td>1093</td>\n      <td>1093</td>\n      <td>1093</td>\n    </tr>\n    <tr>\n      <th>52</th>\n      <td>935</td>\n      <td>935</td>\n      <td>935</td>\n      <td>935</td>\n      <td>935</td>\n    </tr>\n    <tr>\n      <th>53</th>\n      <td>627</td>\n      <td>627</td>\n      <td>627</td>\n      <td>627</td>\n      <td>627</td>\n    </tr>\n    <tr>\n      <th>54</th>\n      <td>520</td>\n      <td>520</td>\n      <td>520</td>\n      <td>520</td>\n      <td>520</td>\n    </tr>\n    <tr>\n      <th>55</th>\n      <td>394</td>\n      <td>394</td>\n      <td>394</td>\n      <td>394</td>\n      <td>394</td>\n    </tr>\n    <tr>\n      <th>56</th>\n      <td>286</td>\n      <td>286</td>\n      <td>286</td>\n      <td>286</td>\n      <td>286</td>\n    </tr>\n    <tr>\n      <th>57</th>\n      <td>247</td>\n      <td>247</td>\n      <td>247</td>\n      <td>247</td>\n      <td>247</td>\n    </tr>\n    <tr>\n      <th>58</th>\n      <td>165</td>\n      <td>165</td>\n      <td>165</td>\n      <td>165</td>\n      <td>165</td>\n    </tr>\n    <tr>\n      <th>59</th>\n      <td>127</td>\n      <td>127</td>\n      <td>127</td>\n      <td>127</td>\n      <td>127</td>\n    </tr>\n    <tr>\n      <th>60</th>\n      <td>94</td>\n      <td>94</td>\n      <td>94</td>\n      <td>94</td>\n      <td>94</td>\n    </tr>\n    <tr>\n      <th>61</th>\n      <td>71</td>\n      <td>71</td>\n      <td>71</td>\n      <td>71</td>\n      <td>71</td>\n    </tr>\n    <tr>\n      <th>62</th>\n      <td>59</td>\n      <td>59</td>\n      <td>59</td>\n      <td>59</td>\n      <td>59</td>\n    </tr>\n    <tr>\n      <th>63</th>\n      <td>35</td>\n      <td>35</td>\n      <td>35</td>\n      <td>35</td>\n      <td>35</td>\n    </tr>\n    <tr>\n      <th>64</th>\n      <td>27</td>\n      <td>27</td>\n      <td>27</td>\n      <td>27</td>\n      <td>27</td>\n    </tr>\n    <tr>\n      <th>65</th>\n      <td>15</td>\n      <td>15</td>\n      <td>15</td>\n      <td>15</td>\n      <td>15</td>\n    </tr>\n    <tr>\n      <th>66</th>\n      <td>9</td>\n      <td>9</td>\n      <td>9</td>\n      <td>9</td>\n      <td>9</td>\n    </tr>\n    <tr>\n      <th>67</th>\n      <td>5</td>\n      <td>5</td>\n      <td>5</td>\n      <td>5</td>\n      <td>5</td>\n    </tr>\n    <tr>\n      <th>68</th>\n      <td>5</td>\n      <td>5</td>\n      <td>5</td>\n      <td>5</td>\n      <td>5</td>\n    </tr>\n    <tr>\n      <th>69</th>\n      <td>3</td>\n      <td>3</td>\n      <td>3</td>\n      <td>3</td>\n      <td>3</td>\n    </tr>\n    <tr>\n      <th>70</th>\n      <td>2</td>\n      <td>2</td>\n      <td>2</td>\n      <td>2</td>\n      <td>2</td>\n    </tr>\n    <tr>\n      <th>72</th>\n      <td>1</td>\n      <td>1</td>\n      <td>1</td>\n      <td>1</td>\n      <td>1</td>\n    </tr>\n    <tr>\n      <th>73</th>\n      <td>1</td>\n      <td>1</td>\n      <td>1</td>\n      <td>1</td>\n      <td>1</td>\n    </tr>\n    <tr>\n      <th>77</th>\n      <td>1</td>\n      <td>1</td>\n      <td>1</td>\n      <td>1</td>\n      <td>1</td>\n    </tr>\n    <tr>\n      <th>79</th>\n      <td>1</td>\n      <td>1</td>\n      <td>1</td>\n      <td>1</td>\n      <td>1</td>\n    </tr>\n    <tr>\n      <th>111</th>\n      <td>1</td>\n      <td>1</td>\n      <td>1</td>\n      <td>1</td>\n      <td>1</td>\n    </tr>\n    <tr>\n      <th>123</th>\n      <td>1</td>\n      <td>1</td>\n      <td>1</td>\n      <td>1</td>\n      <td>1</td>\n    </tr>\n  </tbody>\n</table>\n</div>"
     },
     "execution_count": 7,
     "metadata": {},
     "output_type": "execute_result"
    }
   ],
   "source": [
    "# look at the age, and find 123 and 111 value seem unrealistic\n",
    "data.groupby(['age']).count()"
   ],
   "metadata": {
    "collapsed": false,
    "pycharm": {
     "name": "#%%\n"
    }
   }
  },
  {
   "cell_type": "markdown",
   "source": [
    "It is just 2 users. in this case, we can remove them, nothing will change, In general, depending on the problem, we can :\n",
    "* remove the entire row saying we don't trust the data\n",
    "* treat those values as NAs\n",
    "* if there is a pattern, try to figure out what went wrong\n",
    "\n",
    "removing the row is safest choice\n",
    "\n",
    "You probably also want to emphasize in the text that wrong data is worrisome and can be an indicator of some bug in the logging code. Therefore, you’d like to talk to the software engineer who implemented the code to see if, perhaps, there are some bugs which affect the data significantly"
   ],
   "metadata": {
    "collapsed": false,
    "pycharm": {
     "name": "#%% md\n"
    }
   }
  },
  {
   "cell_type": "code",
   "execution_count": 8,
   "outputs": [
    {
     "data": {
      "text/plain": "        country  age  new_user source  total_pages_visited  converted\n90928   Germany  123         0    Seo                   15          1\n295581       UK  111         0    Ads                   10          1",
      "text/html": "<div>\n<style scoped>\n    .dataframe tbody tr th:only-of-type {\n        vertical-align: middle;\n    }\n\n    .dataframe tbody tr th {\n        vertical-align: top;\n    }\n\n    .dataframe thead th {\n        text-align: right;\n    }\n</style>\n<table border=\"1\" class=\"dataframe\">\n  <thead>\n    <tr style=\"text-align: right;\">\n      <th></th>\n      <th>country</th>\n      <th>age</th>\n      <th>new_user</th>\n      <th>source</th>\n      <th>total_pages_visited</th>\n      <th>converted</th>\n    </tr>\n  </thead>\n  <tbody>\n    <tr>\n      <th>90928</th>\n      <td>Germany</td>\n      <td>123</td>\n      <td>0</td>\n      <td>Seo</td>\n      <td>15</td>\n      <td>1</td>\n    </tr>\n    <tr>\n      <th>295581</th>\n      <td>UK</td>\n      <td>111</td>\n      <td>0</td>\n      <td>Ads</td>\n      <td>10</td>\n      <td>1</td>\n    </tr>\n  </tbody>\n</table>\n</div>"
     },
     "execution_count": 8,
     "metadata": {},
     "output_type": "execute_result"
    }
   ],
   "source": [
    "data.loc[data['age']>79]"
   ],
   "metadata": {
    "collapsed": false,
    "pycharm": {
     "name": "#%%\n"
    }
   }
  },
  {
   "cell_type": "code",
   "execution_count": 17,
   "outputs": [],
   "source": [
    "# start to quickly investigate the variables and how their distribution differs for the two classes.\n",
    "# This will help us understand whether there is any information in our data in the first place and get a sense of the data.\n",
    "data = data.loc[data['age']<80]\n",
    "\n"
   ],
   "metadata": {
    "collapsed": false,
    "pycharm": {
     "name": "#%%\n"
    }
   }
  },
  {
   "cell_type": "code",
   "execution_count": 24,
   "outputs": [
    {
     "name": "stdout",
     "output_type": "stream",
     "text": [
      "    age  new_user  total_pages_visited  converted\n",
      "0    17  0.667500             5.317362   0.071607\n",
      "1    18  0.672336             5.184266   0.066029\n",
      "2    19  0.675794             5.108996   0.058616\n",
      "3    20  0.675266             5.129874   0.057109\n",
      "4    21  0.679920             5.068028   0.053985\n",
      "5    22  0.683617             5.073754   0.053243\n",
      "6    23  0.683528             5.009484   0.047990\n",
      "7    24  0.684259             5.020139   0.045448\n",
      "8    25  0.679941             4.916419   0.038782\n",
      "9    26  0.685593             4.922260   0.039767\n",
      "10   27  0.686595             4.871201   0.033513\n",
      "11   28  0.681961             4.855031   0.032564\n",
      "12   29  0.680534             4.885648   0.033621\n",
      "13   30  0.687509             4.884497   0.028998\n",
      "14   31  0.684852             4.841002   0.027461\n",
      "15   32  0.688680             4.844525   0.024802\n",
      "16   33  0.689652             4.808725   0.023989\n",
      "17   34  0.687479             4.762884   0.021556\n",
      "18   35  0.693401             4.743876   0.018394\n",
      "19   36  0.683087             4.726134   0.019297\n",
      "20   37  0.687327             4.729126   0.018953\n",
      "21   38  0.689186             4.688071   0.014158\n",
      "22   39  0.699951             4.730554   0.017313\n",
      "23   40  0.678931             4.769586   0.014270\n",
      "24   41  0.687393             4.635994   0.012342\n",
      "25   42  0.694166             4.638869   0.013243\n",
      "26   43  0.692904             4.658850   0.011623\n",
      "27   44  0.700284             4.632812   0.009943\n",
      "28   45  0.700055             4.722895   0.012383\n",
      "29   46  0.685705             4.690381   0.011356\n",
      "30   47  0.707268             4.585064   0.007987\n",
      "31   48  0.692598             4.631777   0.009430\n",
      "32   49  0.698588             4.567219   0.007366\n",
      "33   50  0.683628             4.547935   0.005900\n",
      "34   51  0.712717             4.644099   0.006404\n",
      "35   52  0.718717             4.483422   0.005348\n",
      "36   53  0.712919             4.665072   0.003190\n",
      "37   54  0.709615             4.755769   0.001923\n",
      "38   55  0.723350             4.822335   0.007614\n",
      "39   56  0.660839             4.779720   0.000000\n",
      "40   57  0.736842             4.469636   0.000000\n",
      "41   58  0.745455             4.793939   0.012121\n",
      "42   59  0.622047             4.716535   0.000000\n",
      "43   60  0.670213             4.478723   0.021277\n",
      "44   61  0.704225             4.887324   0.014085\n",
      "45   62  0.661017             4.220339   0.000000\n",
      "46   63  0.628571             3.828571   0.000000\n",
      "47   64  0.666667             5.259259   0.000000\n",
      "48   65  0.666667             4.400000   0.000000\n",
      "49   66  0.666667             4.333333   0.000000\n",
      "50   67  0.600000             4.000000   0.000000\n",
      "51   68  0.600000             4.600000   0.000000\n",
      "52   69  1.000000             4.666667   0.000000\n",
      "53   70  0.500000             7.000000   0.000000\n",
      "54   72  1.000000             4.000000   0.000000\n",
      "55   73  1.000000             5.000000   0.000000\n",
      "56   77  0.000000             4.000000   0.000000\n",
      "57   79  1.000000             1.000000   0.000000\n"
     ]
    }
   ],
   "source": [
    "data_country = data.groupby(['country']).mean()\n",
    "data_source = data.groupby(['source']).mean()\n",
    "data_age = data.groupby(['age'], as_index = False).mean()\n",
    "data_new_user = data.groupby(['new_user']).mean()\n",
    "data_total_pages_visit = data.groupby(['total_pages_visited'], as_index = False).mean()\n",
    "print(data_age)"
   ],
   "metadata": {
    "collapsed": false,
    "pycharm": {
     "name": "#%%\n"
    }
   }
  },
  {
   "cell_type": "code",
   "execution_count": 25,
   "outputs": [
    {
     "data": {
      "text/plain": "<Figure size 720x504 with 0 Axes>"
     },
     "metadata": {},
     "output_type": "display_data"
    },
    {
     "data": {
      "text/plain": "<Figure size 432x288 with 1 Axes>",
      "image/png": "[encoded data removed]"
     },
     "metadata": {
      "needs_background": "light"
     },
     "output_type": "display_data"
    }
   ],
   "source": [
    "#Here it clearly looks like Chinese convert at a much lower rate than other countries.\n",
    "import matplotlib.pyplot as plt\n",
    "fig = plt.figure(figsize = (10, 7))\n",
    "data_country.plot.bar( y = 'converted')\n",
    "plt.show()"
   ],
   "metadata": {
    "collapsed": false,
    "pycharm": {
     "name": "#%%\n"
    }
   }
  },
  {
   "cell_type": "code",
   "execution_count": 26,
   "outputs": [
    {
     "data": {
      "text/plain": "<Figure size 432x288 with 1 Axes>",
      "image/png": "[encoded data removed]"
     },
     "metadata": {
      "needs_background": "light"
     },
     "output_type": "display_data"
    }
   ],
   "source": [
    "# bar plot for conversion rate for different source\n",
    "data_source.plot.bar( y = 'converted')\n",
    "plt.show()"
   ],
   "metadata": {
    "collapsed": false,
    "pycharm": {
     "name": "#%%\n"
    }
   }
  },
  {
   "cell_type": "code",
   "execution_count": 15,
   "outputs": [
    {
     "data": {
      "text/plain": "<AxesSubplot:xlabel='new_user'>"
     },
     "execution_count": 15,
     "metadata": {},
     "output_type": "execute_result"
    },
    {
     "data": {
      "text/plain": "<Figure size 432x288 with 1 Axes>",
      "image/png": "[encoded data removed]"
     },
     "metadata": {
      "needs_background": "light"
     },
     "output_type": "display_data"
    }
   ],
   "source": [
    "# bar plot for conversion rate for new and old user\n",
    "data_new_user.plot.bar( y = 'converted')\n"
   ],
   "metadata": {
    "collapsed": false,
    "pycharm": {
     "name": "#%%\n"
    }
   }
  },
  {
   "cell_type": "code",
   "execution_count": 27,
   "outputs": [
    {
     "data": {
      "text/plain": "<AxesSubplot:xlabel='age'>"
     },
     "execution_count": 27,
     "metadata": {},
     "output_type": "execute_result"
    },
    {
     "data": {
      "text/plain": "<Figure size 432x288 with 1 Axes>",
      "image/png": "[encoded data removed]"
     },
     "metadata": {
      "needs_background": "light"
     },
     "output_type": "display_data"
    }
   ],
   "source": [
    "# line plot for conversion rate for different age\n",
    "data_age.plot.line(x = 'age', y = 'converted')"
   ],
   "metadata": {
    "collapsed": false,
    "pycharm": {
     "name": "#%%\n"
    }
   }
  },
  {
   "cell_type": "code",
   "execution_count": 28,
   "outputs": [
    {
     "data": {
      "text/plain": "<AxesSubplot:xlabel='total_pages_visited'>"
     },
     "execution_count": 28,
     "metadata": {},
     "output_type": "execute_result"
    },
    {
     "data": {
      "text/plain": "<Figure size 432x288 with 1 Axes>",
      "image/png": "[encoded data removed]"
     },
     "metadata": {
      "needs_background": "light"
     },
     "output_type": "display_data"
    }
   ],
   "source": [
    "# Definitely spending more time on the site implies higher probability of conversion\n",
    "data_total_pages_visit.plot.line(x = 'total_pages_visited', y = 'converted')"
   ],
   "metadata": {
    "collapsed": false,
    "pycharm": {
     "name": "#%%\n"
    }
   }
  },
  {
   "cell_type": "markdown",
   "source": [
    "# Machine Learning\n",
    "Build a model to predict conversion rate. The outcome is binary and care about insights to give product and marketing team some idea.\n",
    "\n",
    "## Models\n",
    "* Logistic regression\n",
    "* decision trees\n",
    "* rulefit\n",
    "* random forest\n",
    "\n",
    "## Example\n",
    "I am going to pick a random forest to predict conversion rate. I pick a random forest cause: it usually\n",
    "requires very little time to optimize it (its default params are often close to the best ones) and it is strong\n",
    "with outliers, irrelevant variables, continuous and discrete variables. I will use the random forest to predict\n",
    "conversion, then I will use its partial dependence plots and variable importance to get insights about how\n",
    "it got information from the variables. Also, I will build a simple tree to find the most obvious user segments\n",
    "and see if they agree with RF partial dependence plots."
   ],
   "metadata": {
    "collapsed": false,
    "pycharm": {
     "name": "#%% md\n"
    }
   }
  },
  {
   "cell_type": "code",
   "execution_count": 215,
   "outputs": [
    {
     "name": "stdout",
     "output_type": "stream",
     "text": [
      "        country  age  new_user  source  total_pages_visited\n",
      "96014         2   31         1       2                    1\n",
      "27296         2   21         1       0                    3\n",
      "239267        2   43         1       2                    2\n",
      "173067        0   34         1       0                    5\n",
      "168026        2   38         0       0                    4\n",
      "...         ...  ...       ...     ...                  ...\n",
      "71004         2   18         1       2                   22\n",
      "26458         0   29         1       1                    3\n",
      "149953        2   24         1       1                    1\n",
      "275565        0   34         0       0                    1\n",
      "52681         2   40         1       1                    6\n",
      "\n",
      "[104346 rows x 5 columns]\n"
     ]
    },
    {
     "data": {
      "text/plain": "           country     age  new_user  source  total_pages_visited\nconverted                                                        \n0           100985  100985    100985  100985               100985\n1             3361    3361      3361    3361                 3361",
      "text/html": "<div>\n<style scoped>\n    .dataframe tbody tr th:only-of-type {\n        vertical-align: middle;\n    }\n\n    .dataframe tbody tr th {\n        vertical-align: top;\n    }\n\n    .dataframe thead th {\n        text-align: right;\n    }\n</style>\n<table border=\"1\" class=\"dataframe\">\n  <thead>\n    <tr style=\"text-align: right;\">\n      <th></th>\n      <th>country</th>\n      <th>age</th>\n      <th>new_user</th>\n      <th>source</th>\n      <th>total_pages_visited</th>\n    </tr>\n    <tr>\n      <th>converted</th>\n      <th></th>\n      <th></th>\n      <th></th>\n      <th></th>\n      <th></th>\n    </tr>\n  </thead>\n  <tbody>\n    <tr>\n      <th>0</th>\n      <td>100985</td>\n      <td>100985</td>\n      <td>100985</td>\n      <td>100985</td>\n      <td>100985</td>\n    </tr>\n    <tr>\n      <th>1</th>\n      <td>3361</td>\n      <td>3361</td>\n      <td>3361</td>\n      <td>3361</td>\n      <td>3361</td>\n    </tr>\n  </tbody>\n</table>\n</div>"
     },
     "execution_count": 215,
     "metadata": {},
     "output_type": "execute_result"
    }
   ],
   "source": [
    "# split data into train set and test set with 70% split\n",
    "# build the forest with standard value for the 3 most important parameters (100 trees, trees as large as possible, 3 random variables selected at each split)\n",
    "from sklearn.model_selection import train_test_split\n",
    "from sklearn.ensemble import RandomForestClassifier\n",
    "train, test = train_test_split(data, test_size = 0.33)\n",
    "train['country'].replace(['China', 'Germany', 'UK', 'US'], [0, 1, 2, 2], inplace = True)\n",
    "train['source'].replace(['Ads', 'Direct', 'Seo'], [0, 1, 2], inplace = True)\n",
    "test['country'].replace(['China', 'Germany', 'UK', 'US'], [0, 1, 2, 2], inplace = True)\n",
    "test['source'].replace(['Ads', 'Direct', 'Seo'], [0, 1, 2], inplace = True)\n",
    "train_feature = train.iloc[:,:5]\n",
    "train_label = train.iloc[:,5]\n",
    "test_feature = test.iloc[:,:5]\n",
    "test_label = test.iloc[:,5]\n",
    "print(test_feature)\n",
    "test.groupby('converted').count()"
   ],
   "metadata": {
    "collapsed": false,
    "pycharm": {
     "name": "#%%\n"
    }
   }
  },
  {
   "cell_type": "code",
   "execution_count": 216,
   "outputs": [
    {
     "data": {
      "text/plain": "RandomForestClassifier(n_estimators=500, oob_score=True, random_state=20)",
      "text/html": "<style>#sk-container-id-27 {color: black;background-color: white;}#sk-container-id-27 pre{padding: 0;}#sk-container-id-27 div.sk-toggleable {background-color: white;}#sk-container-id-27 label.sk-toggleable__label {cursor: pointer;display: block;width: 100%;margin-bottom: 0;padding: 0.3em;box-sizing: border-box;text-align: center;}#sk-container-id-27 label.sk-toggleable__label-arrow:before {content: \"▸\";float: left;margin-right: 0.25em;color: #696969;}#sk-container-id-27 label.sk-toggleable__label-arrow:hover:before {color: black;}#sk-container-id-27 div.sk-estimator:hover label.sk-toggleable__label-arrow:before {color: black;}#sk-container-id-27 div.sk-toggleable__content {max-height: 0;max-width: 0;overflow: hidden;text-align: left;background-color: #f0f8ff;}#sk-container-id-27 div.sk-toggleable__content pre {margin: 0.2em;color: black;border-radius: 0.25em;background-color: #f0f8ff;}#sk-container-id-27 input.sk-toggleable__control:checked~div.sk-toggleable__content {max-height: 200px;max-width: 100%;overflow: auto;}#sk-container-id-27 input.sk-toggleable__control:checked~label.sk-toggleable__label-arrow:before {content: \"▾\";}#sk-container-id-27 div.sk-estimator input.sk-toggleable__control:checked~label.sk-toggleable__label {background-color: #d4ebff;}#sk-container-id-27 div.sk-label input.sk-toggleable__control:checked~label.sk-toggleable__label {background-color: #d4ebff;}#sk-container-id-27 input.sk-hidden--visually {border: 0;clip: rect(1px 1px 1px 1px);clip: rect(1px, 1px, 1px, 1px);height: 1px;margin: -1px;overflow: hidden;padding: 0;position: absolute;width: 1px;}#sk-container-id-27 div.sk-estimator {font-family: monospace;background-color: #f0f8ff;border: 1px dotted black;border-radius: 0.25em;box-sizing: border-box;margin-bottom: 0.5em;}#sk-container-id-27 div.sk-estimator:hover {background-color: #d4ebff;}#sk-container-id-27 div.sk-parallel-item::after {content: \"\";width: 100%;border-bottom: 1px solid gray;flex-grow: 1;}#sk-container-id-27 div.sk-label:hover label.sk-toggleable__label {background-color: #d4ebff;}#sk-container-id-27 div.sk-serial::before {content: \"\";position: absolute;border-left: 1px solid gray;box-sizing: border-box;top: 0;bottom: 0;left: 50%;z-index: 0;}#sk-container-id-27 div.sk-serial {display: flex;flex-direction: column;align-items: center;background-color: white;padding-right: 0.2em;padding-left: 0.2em;position: relative;}#sk-container-id-27 div.sk-item {position: relative;z-index: 1;}#sk-container-id-27 div.sk-parallel {display: flex;align-items: stretch;justify-content: center;background-color: white;position: relative;}#sk-container-id-27 div.sk-item::before, #sk-container-id-27 div.sk-parallel-item::before {content: \"\";position: absolute;border-left: 1px solid gray;box-sizing: border-box;top: 0;bottom: 0;left: 50%;z-index: -1;}#sk-container-id-27 div.sk-parallel-item {display: flex;flex-direction: column;z-index: 1;position: relative;background-color: white;}#sk-container-id-27 div.sk-parallel-item:first-child::after {align-self: flex-end;width: 50%;}#sk-container-id-27 div.sk-parallel-item:last-child::after {align-self: flex-start;width: 50%;}#sk-container-id-27 div.sk-parallel-item:only-child::after {width: 0;}#sk-container-id-27 div.sk-dashed-wrapped {border: 1px dashed gray;margin: 0 0.4em 0.5em 0.4em;box-sizing: border-box;padding-bottom: 0.4em;background-color: white;}#sk-container-id-27 div.sk-label label {font-family: monospace;font-weight: bold;display: inline-block;line-height: 1.2em;}#sk-container-id-27 div.sk-label-container {text-align: center;}#sk-container-id-27 div.sk-container {/* jupyter's `normalize.less` sets `[hidden] { display: none; }` but bootstrap.min.css set `[hidden] { display: none !important; }` so we also need the `!important` here to be able to override the default hidden behavior on the sphinx rendered scikit-learn.org. See: https://github.com/scikit-learn/scikit-learn/issues/21755 */display: inline-block !important;position: relative;}#sk-container-id-27 div.sk-text-repr-fallback {display: none;}</style><div id=\"sk-container-id-27\" class=\"sk-top-container\"><div class=\"sk-text-repr-fallback\"><pre>RandomForestClassifier(n_estimators=500, oob_score=True, random_state=20)</pre><b>In a Jupyter environment, please rerun this cell to show the HTML representation or trust the notebook. <br />On GitHub, the HTML representation is unable to render, please try loading this page with nbviewer.org.</b></div><div class=\"sk-container\" hidden><div class=\"sk-item\"><div class=\"sk-estimator sk-toggleable\"><input class=\"sk-toggleable__control sk-hidden--visually\" id=\"sk-estimator-id-27\" type=\"checkbox\" checked><label for=\"sk-estimator-id-27\" class=\"sk-toggleable__label sk-toggleable__label-arrow\">RandomForestClassifier</label><div class=\"sk-toggleable__content\"><pre>RandomForestClassifier(n_estimators=500, oob_score=True, random_state=20)</pre></div></div></div></div></div>"
     },
     "execution_count": 216,
     "metadata": {},
     "output_type": "execute_result"
    }
   ],
   "source": [
    "rf = RandomForestClassifier(n_estimators = 100, oob_score =  True, random_state = 20)\n",
    "rf.fit(train_feature, train_label)"
   ],
   "metadata": {
    "collapsed": false,
    "pycharm": {
     "name": "#%%\n"
    }
   }
  },
  {
   "cell_type": "code",
   "execution_count": 217,
   "outputs": [
    {
     "name": "stdout",
     "output_type": "stream",
     "text": [
      "OOB error: 0.9846355002548949\n"
     ]
    }
   ],
   "source": [
    "#OOB error and test error is\n",
    "print('OOB error:', rf.oob_score_)"
   ],
   "metadata": {
    "collapsed": false,
    "pycharm": {
     "name": "#%%\n"
    }
   }
  },
  {
   "cell_type": "code",
   "execution_count": 218,
   "outputs": [
    {
     "name": "stdout",
     "output_type": "stream",
     "text": [
      "0.9853372434017595\n"
     ]
    }
   ],
   "source": [
    "# make a predictions\n",
    "predictions = rf.predict(test_feature)\n",
    "print(rf.score(test_feature, test_label))\n"
   ],
   "metadata": {
    "collapsed": false,
    "pycharm": {
     "name": "#%%\n"
    }
   }
  },
  {
   "cell_type": "code",
   "execution_count": 219,
   "outputs": [
    {
     "name": "stdout",
     "output_type": "stream",
     "text": [
      "[[100562    423]\n",
      " [  1107   2254]]\n"
     ]
    }
   ],
   "source": [
    "#look at confusion matrix\n",
    "#Indeed, 30% of conversions are predicted as \"non conversion\"\n",
    "from sklearn.metrics import confusion_matrix\n",
    "conf = confusion_matrix(test_label, predictions)\n",
    "print(conf)\n"
   ],
   "metadata": {
    "collapsed": false,
    "pycharm": {
     "name": "#%%\n"
    }
   }
  },
  {
   "cell_type": "code",
   "execution_count": 224,
   "outputs": [
    {
     "data": {
      "text/plain": "Text(0.5, 0, 'Random Forest Feature Importance')"
     },
     "execution_count": 224,
     "metadata": {},
     "output_type": "execute_result"
    },
    {
     "data": {
      "text/plain": "<Figure size 432x288 with 1 Axes>",
      "image/png": "[encoded data removed]"
     },
     "metadata": {
      "needs_background": "light"
     },
     "output_type": "display_data"
    }
   ],
   "source": [
    "# look at Gini importance (or mean decrease impurity)\n",
    "# To get the feature importances from the Random Forest model\n",
    "plt.barh(train_feature.columns, rf.feature_importances_)\n",
    "plt.xlabel(\"Random Forest Feature Importance\")\n"
   ],
   "metadata": {
    "collapsed": false,
    "pycharm": {
     "name": "#%%\n"
    }
   }
  },
  {
   "cell_type": "markdown",
   "source": [
    "Some conclusions and suggestions:\n",
    "1. The site is working very well for young users. Definitely let’s tell marketing to advertise and use\n",
    "marketing channel which are more likely to reach young people.\n",
    "2. The site is working very well for Germany in terms of conversion. But the summary showed that\n",
    "there are few Germans coming to the site: way less than UK, despite a larger population. Again,\n",
    "marketing should get more Germans. Big opportunity.\n",
    "3. Users with old accounts do much better. Targeted emails with offers to bring them back to the site\n",
    "could be a good idea to try.\n",
    "4. Something is wrong with the Chinese version of the site. It is either poorly translated, doesn’t fit the\n",
    "local culture, some payment issue or maybe it is just in English! Given how many users are based in\n",
    "China, fixing this should be a top priority. Huge opportunity.\n",
    "5. Maybe go through the UI and figure out why older users perform so poorly? From 30 y/o conversion\n",
    "clearly starts dropping.\n",
    "6. If I know someone has visited many pages, but hasn’t converted, she almost surely has high\n",
    "purchase intent. I could email her targeted offers or sending her reminders. Overall, these are\n",
    "probably the easiest users to make convert.\n",
    "As you can see, conclusions usually end up being about:\n",
    "1. tell marketing to get more of the good performing user segments\n",
    "2. tell product to fix the experience for the bad performing ones\n",
    "\n"
   ],
   "metadata": {
    "collapsed": false,
    "pycharm": {
     "name": "#%% md\n"
    }
   }
  }
 ],
 "metadata": {
  "kernelspec": {
   "display_name": "Python 3",
   "language": "python",
   "name": "python3"
  },
  "language_info": {
   "codemirror_mode": {
    "name": "ipython",
    "version": 2
   },
   "file_extension": ".py",
   "mimetype": "text/x-python",
   "name": "python",
   "nbconvert_exporter": "python",
   "pygments_lexer": "ipython2",
   "version": "2.7.6"
  }
 },
 "nbformat": 4,
 "nbformat_minor": 0
}