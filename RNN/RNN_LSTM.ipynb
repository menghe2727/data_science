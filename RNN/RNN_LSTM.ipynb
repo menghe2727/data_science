{
 "cells": [
  {
   "cell_type": "code",
   "execution_count": 42,
   "metadata": {
    "pycharm": {
     "name": "#%%\n"
    }
   },
   "outputs": [],
   "source": [
    "import torch\n",
    "import torch.nn.functional as F\n",
    "import torchtext\n",
    "import time\n",
    "import random\n",
    "import pandas as pd\n",
    "import numpy as np\n",
    "from sklearn.metrics import confusion_matrix\n",
    "import matplotlib.pyplot as plt\n",
    "import seaborn as sns\n",
    "import spacy"
   ]
  },
  {
   "cell_type": "code",
   "execution_count": 43,
   "metadata": {
    "pycharm": {
     "name": "#%%\n"
    }
   },
   "outputs": [
    {
     "name": "stdout",
     "output_type": "stream",
     "text": [
      "1.8.2+cu111\n"
     ]
    }
   ],
   "source": [
    "print(torch.__version__)"
   ]
  },
  {
   "cell_type": "code",
   "execution_count": 44,
   "outputs": [
    {
     "data": {
      "text/plain": "True"
     },
     "execution_count": 44,
     "metadata": {},
     "output_type": "execute_result"
    }
   ],
   "source": [
    "torch.cuda.is_available()\n"
   ],
   "metadata": {
    "collapsed": false,
    "pycharm": {
     "name": "#%%\n"
    }
   }
  },
  {
   "cell_type": "markdown",
   "source": [
    "# About the version of package:\n",
    "\n",
    "1. If you don't want to mass you package version, you can create the virtual environment\n",
    "only for this project.\n",
    "please see the detail: https://docs.python.org/3.8/library/venv.html\n",
    "\n",
    "2. After you create virtual environment, if you use pip, you can install pipreqs package,\n",
    "it can help you to save you package version and easy to install:\n",
    "\n",
    "pip install -r .\\requirements.txt\n",
    "please see the detail：https://github.com/bndr/pipreqs\n",
    "\n",
    "I will provide my package version for you in the file.\n",
    "\n",
    "\n",
    "3. For this project, The most important is torchtext 0.9, all the minor version is works,\n",
    "torch 1.8.1 and torchtext 0.9.1 is also work.\n",
    "If you not use GPU, you can just use torch 1.8.1, which is same as Professor Li publish in blackboard.\n",
    "If you want to use GPU, please check torch version: https://pytorch.org/get-started/locally/\n",
    "and torchtext version: https://pypi.org/project/torchtext/\n",
    "\n",
    "If you have some questions, please contact me."
   ],
   "metadata": {
    "collapsed": false,
    "pycharm": {
     "name": "#%% md\n"
    }
   }
  },
  {
   "cell_type": "markdown",
   "metadata": {
    "pycharm": {
     "name": "#%% md\n"
    }
   },
   "source": [
    "# The data set is from kaggle youtube  statistics:\n",
    "https://www.kaggle.com/code/elem3ntary/predicting-comment-sentiment/data\n",
    "\n",
    "The code is from :https://sebastianraschka.com/blog/2021/dl-course.html"
   ]
  },
  {
   "cell_type": "markdown",
   "metadata": {
    "pycharm": {
     "name": "#%% md\n"
    }
   },
   "source": [
    "# Comment Sentiment:\n",
    "0 represents a negative sentiment\n",
    "1 represent neutral\n",
    "2 represent positive"
   ]
  },
  {
   "cell_type": "code",
   "execution_count": 45,
   "metadata": {
    "pycharm": {
     "name": "#%%\n"
    }
   },
   "outputs": [],
   "source": [
    "RANDOM_SEED = 123\n",
    "torch.manual_seed(RANDOM_SEED)\n",
    "\n",
    "VOCABULARY_SIZE = 20000\n",
    "LEARNING_RATE = 0.01\n",
    "BATCH_SIZE = 128\n",
    "NUM_EPOCHS = 100\n",
    "DEVICE = torch.device('cuda' if torch.cuda.is_available() else 'cpu')\n",
    "\n",
    "EMBEDDING_DIM = 128\n",
    "HIDDEN_DIM = 256\n",
    "NUM_CLASSES = 3"
   ]
  },
  {
   "cell_type": "code",
   "execution_count": 46,
   "metadata": {
    "pycharm": {
     "name": "#%%\n"
    }
   },
   "outputs": [
    {
     "name": "stdout",
     "output_type": "stream",
     "text": [
      "cuda\n"
     ]
    }
   ],
   "source": [
    "print(DEVICE)"
   ]
  },
  {
   "cell_type": "code",
   "execution_count": 47,
   "metadata": {
    "pycharm": {
     "name": "#%%\n"
    }
   },
   "outputs": [
    {
     "data": {
      "text/plain": "<AxesSubplot: xlabel='Sentiment'>"
     },
     "execution_count": 47,
     "metadata": {},
     "output_type": "execute_result"
    },
    {
     "data": {
      "text/plain": "<Figure size 640x480 with 1 Axes>",
      "image/png": "[encoded data removed]"
     },
     "metadata": {},
     "output_type": "display_data"
    }
   ],
   "source": [
    "# read the data\n",
    "comment =  pd.read_csv('comments.csv')\n",
    "comment.groupby('Sentiment').count()['Comment'].plot.bar()\n"
   ]
  },
  {
   "cell_type": "code",
   "execution_count": 48,
   "outputs": [
    {
     "data": {
      "text/plain": "   Unnamed: 0     Video ID                                            Comment  \\\n0           0  wAZZ-UWGVHI  Let's not forget that Apple Pay in 2014 requir...   \n1           1  wAZZ-UWGVHI  Here in NZ 50% of retailers don’t even have co...   \n2           2  wAZZ-UWGVHI  I will forever acknowledge this channel with t...   \n3           3  wAZZ-UWGVHI  Whenever I go to a place that doesn’t take App...   \n4           4  wAZZ-UWGVHI  Apple Pay is so convenient, secure, and easy t...   \n\n   Likes  Sentiment  \n0     95          1  \n1     19          0  \n2    161          2  \n3      8          0  \n4     34          2  ",
      "text/html": "<div>\n<style scoped>\n    .dataframe tbody tr th:only-of-type {\n        vertical-align: middle;\n    }\n\n    .dataframe tbody tr th {\n        vertical-align: top;\n    }\n\n    .dataframe thead th {\n        text-align: right;\n    }\n</style>\n<table border=\"1\" class=\"dataframe\">\n  <thead>\n    <tr style=\"text-align: right;\">\n      <th></th>\n      <th>Unnamed: 0</th>\n      <th>Video ID</th>\n      <th>Comment</th>\n      <th>Likes</th>\n      <th>Sentiment</th>\n    </tr>\n  </thead>\n  <tbody>\n    <tr>\n      <th>0</th>\n      <td>0</td>\n      <td>wAZZ-UWGVHI</td>\n      <td>Let's not forget that Apple Pay in 2014 requir...</td>\n      <td>95</td>\n      <td>1</td>\n    </tr>\n    <tr>\n      <th>1</th>\n      <td>1</td>\n      <td>wAZZ-UWGVHI</td>\n      <td>Here in NZ 50% of retailers don’t even have co...</td>\n      <td>19</td>\n      <td>0</td>\n    </tr>\n    <tr>\n      <th>2</th>\n      <td>2</td>\n      <td>wAZZ-UWGVHI</td>\n      <td>I will forever acknowledge this channel with t...</td>\n      <td>161</td>\n      <td>2</td>\n    </tr>\n    <tr>\n      <th>3</th>\n      <td>3</td>\n      <td>wAZZ-UWGVHI</td>\n      <td>Whenever I go to a place that doesn’t take App...</td>\n      <td>8</td>\n      <td>0</td>\n    </tr>\n    <tr>\n      <th>4</th>\n      <td>4</td>\n      <td>wAZZ-UWGVHI</td>\n      <td>Apple Pay is so convenient, secure, and easy t...</td>\n      <td>34</td>\n      <td>2</td>\n    </tr>\n  </tbody>\n</table>\n</div>"
     },
     "execution_count": 48,
     "metadata": {},
     "output_type": "execute_result"
    }
   ],
   "source": [
    "#look at data\n",
    "comment.head()"
   ],
   "metadata": {
    "collapsed": false,
    "pycharm": {
     "name": "#%%\n"
    }
   }
  },
  {
   "cell_type": "code",
   "execution_count": 49,
   "outputs": [
    {
     "data": {
      "text/plain": "'Whenever I go to a place that doesn’t take Apple Pay (doesn’t happen too often), it’s such a drag. Between ‘contactless Covid’ habits and my getting the Apple Card, I’ve gotten so used to Apple Pay that I get seriously annoyed when a store doesn’t take it. It feels like a shock, it’s crazy how quickly it took over my shopping routine! I’ve officially been brainwashed by Apple because now it feels so inconvenient to even carry a physical card in my pocket.'"
     },
     "execution_count": 49,
     "metadata": {},
     "output_type": "execute_result"
    }
   ],
   "source": [
    "comment.iloc[3,2]"
   ],
   "metadata": {
    "collapsed": false,
    "pycharm": {
     "name": "#%%\n"
    }
   }
  },
  {
   "cell_type": "code",
   "execution_count": 50,
   "metadata": {
    "pycharm": {
     "name": "#%%\n"
    }
   },
   "outputs": [
    {
     "data": {
      "text/plain": "         Unnamed: 0          Likes     Sentiment\ncount  18409.000000   18409.000000  18409.000000\nmean    9204.000000    1040.019447      1.493998\nstd     5314.364888   10651.366148      0.709928\nmin        0.000000       0.000000      0.000000\n25%     4602.000000       5.000000      1.000000\n50%     9204.000000      29.000000      2.000000\n75%    13806.000000     190.000000      2.000000\nmax    18408.000000  891372.000000      2.000000",
      "text/html": "<div>\n<style scoped>\n    .dataframe tbody tr th:only-of-type {\n        vertical-align: middle;\n    }\n\n    .dataframe tbody tr th {\n        vertical-align: top;\n    }\n\n    .dataframe thead th {\n        text-align: right;\n    }\n</style>\n<table border=\"1\" class=\"dataframe\">\n  <thead>\n    <tr style=\"text-align: right;\">\n      <th></th>\n      <th>Unnamed: 0</th>\n      <th>Likes</th>\n      <th>Sentiment</th>\n    </tr>\n  </thead>\n  <tbody>\n    <tr>\n      <th>count</th>\n      <td>18409.000000</td>\n      <td>18409.000000</td>\n      <td>18409.000000</td>\n    </tr>\n    <tr>\n      <th>mean</th>\n      <td>9204.000000</td>\n      <td>1040.019447</td>\n      <td>1.493998</td>\n    </tr>\n    <tr>\n      <th>std</th>\n      <td>5314.364888</td>\n      <td>10651.366148</td>\n      <td>0.709928</td>\n    </tr>\n    <tr>\n      <th>min</th>\n      <td>0.000000</td>\n      <td>0.000000</td>\n      <td>0.000000</td>\n    </tr>\n    <tr>\n      <th>25%</th>\n      <td>4602.000000</td>\n      <td>5.000000</td>\n      <td>1.000000</td>\n    </tr>\n    <tr>\n      <th>50%</th>\n      <td>9204.000000</td>\n      <td>29.000000</td>\n      <td>2.000000</td>\n    </tr>\n    <tr>\n      <th>75%</th>\n      <td>13806.000000</td>\n      <td>190.000000</td>\n      <td>2.000000</td>\n    </tr>\n    <tr>\n      <th>max</th>\n      <td>18408.000000</td>\n      <td>891372.000000</td>\n      <td>2.000000</td>\n    </tr>\n  </tbody>\n</table>\n</div>"
     },
     "execution_count": 50,
     "metadata": {},
     "output_type": "execute_result"
    }
   ],
   "source": [
    "# look the data\n",
    "comment.describe()"
   ]
  },
  {
   "cell_type": "code",
   "execution_count": 51,
   "metadata": {
    "pycharm": {
     "name": "#%%\n"
    }
   },
   "outputs": [
    {
     "data": {
      "text/plain": "Unnamed: 0    0\nVideo ID      0\nComment       1\nLikes         0\nSentiment     0\ndtype: int64"
     },
     "execution_count": 51,
     "metadata": {},
     "output_type": "execute_result"
    }
   ],
   "source": [
    "#have 1 null data in comment\n",
    "comment.isnull().sum()"
   ]
  },
  {
   "cell_type": "code",
   "execution_count": 52,
   "outputs": [
    {
     "data": {
      "text/plain": "      Unnamed: 0     Video ID Comment  Likes  Sentiment\n9745        9745  bvkk3UdlfA4     NaN      1          1",
      "text/html": "<div>\n<style scoped>\n    .dataframe tbody tr th:only-of-type {\n        vertical-align: middle;\n    }\n\n    .dataframe tbody tr th {\n        vertical-align: top;\n    }\n\n    .dataframe thead th {\n        text-align: right;\n    }\n</style>\n<table border=\"1\" class=\"dataframe\">\n  <thead>\n    <tr style=\"text-align: right;\">\n      <th></th>\n      <th>Unnamed: 0</th>\n      <th>Video ID</th>\n      <th>Comment</th>\n      <th>Likes</th>\n      <th>Sentiment</th>\n    </tr>\n  </thead>\n  <tbody>\n    <tr>\n      <th>9745</th>\n      <td>9745</td>\n      <td>bvkk3UdlfA4</td>\n      <td>NaN</td>\n      <td>1</td>\n      <td>1</td>\n    </tr>\n  </tbody>\n</table>\n</div>"
     },
     "execution_count": 52,
     "metadata": {},
     "output_type": "execute_result"
    }
   ],
   "source": [
    "#look at null data\n",
    "comment[comment['Comment'].isnull()]\n"
   ],
   "metadata": {
    "collapsed": false,
    "pycharm": {
     "name": "#%%\n"
    }
   }
  },
  {
   "cell_type": "code",
   "execution_count": 53,
   "metadata": {
    "pycharm": {
     "name": "#%%\n"
    }
   },
   "outputs": [
    {
     "data": {
      "text/plain": "           Comment\nSentiment         \n0             2338\n1             4638\n2            11432",
      "text/html": "<div>\n<style scoped>\n    .dataframe tbody tr th:only-of-type {\n        vertical-align: middle;\n    }\n\n    .dataframe tbody tr th {\n        vertical-align: top;\n    }\n\n    .dataframe thead th {\n        text-align: right;\n    }\n</style>\n<table border=\"1\" class=\"dataframe\">\n  <thead>\n    <tr style=\"text-align: right;\">\n      <th></th>\n      <th>Comment</th>\n    </tr>\n    <tr>\n      <th>Sentiment</th>\n      <th></th>\n    </tr>\n  </thead>\n  <tbody>\n    <tr>\n      <th>0</th>\n      <td>2338</td>\n    </tr>\n    <tr>\n      <th>1</th>\n      <td>4638</td>\n    </tr>\n    <tr>\n      <th>2</th>\n      <td>11432</td>\n    </tr>\n  </tbody>\n</table>\n</div>"
     },
     "execution_count": 53,
     "metadata": {},
     "output_type": "execute_result"
    }
   ],
   "source": [
    "#drop the other columns, and change 1 and 2 in sentiment to 1\n",
    "comment_data = comment.drop(columns = ['Unnamed: 0', 'Video ID', 'Likes'])\n",
    "comment_data.groupby('Sentiment').count()"
   ]
  },
  {
   "cell_type": "code",
   "execution_count": 54,
   "metadata": {
    "pycharm": {
     "name": "#%%\n"
    }
   },
   "outputs": [],
   "source": [
    "#change column name\n",
    "comment_data.columns = ['TEXT_COLUMN_NAME', 'LABEL_COLUMN_NAME']"
   ]
  },
  {
   "cell_type": "code",
   "execution_count": 55,
   "metadata": {
    "pycharm": {
     "name": "#%%\n"
    }
   },
   "outputs": [],
   "source": [
    "comment_data.to_csv('youtube_data.csv', index=None)\n",
    "comment_look = pd.read_csv('youtube_data.csv')\n",
    "\n"
   ]
  },
  {
   "cell_type": "markdown",
   "metadata": {},
   "source": [
    "Download English vocabulary via:\n",
    "\n",
    "- `python -m spacy download en_core_web_sm`\n",
    "\n"
   ]
  },
  {
   "cell_type": "code",
   "execution_count": 56,
   "metadata": {
    "pycharm": {
     "name": "#%%\n"
    }
   },
   "outputs": [],
   "source": [
    "# only have legacy in torchtext==0.9\n",
    "# pip install torchtext==0.9\n",
    "### Defining the feature processing\n",
    "\n",
    "TEXT = torchtext.legacy.data.Field(\n",
    "    tokenize='spacy', # default splits on whitespace\n",
    "    tokenizer_language='en_core_web_sm'\n",
    ")\n",
    "\n",
    "### Defining the label processing\n",
    "\n",
    "LABEL = torchtext.legacy.data.LabelField(dtype=torch.long)\n"
   ]
  },
  {
   "cell_type": "code",
   "execution_count": 57,
   "metadata": {
    "pycharm": {
     "name": "#%%\n"
    }
   },
   "outputs": [],
   "source": [
    "fields = [('TEXT_COLUMN_NAME', TEXT), ('LABEL_COLUMN_NAME', LABEL)]\n",
    "\n",
    "dataset = torchtext.legacy.data.TabularDataset(\n",
    "    path='youtube_data.csv', format='csv',\n",
    "    skip_header=True, fields=fields)\n",
    "\n"
   ]
  },
  {
   "cell_type": "code",
   "execution_count": 58,
   "metadata": {
    "pycharm": {
     "name": "#%%\n"
    }
   },
   "outputs": [
    {
     "name": "stdout",
     "output_type": "stream",
     "text": [
      "Num Train: 14727\n",
      "Num Test: 3682\n"
     ]
    }
   ],
   "source": [
    "# separate into train and test set\n",
    "train_data, test_data = dataset.split(\n",
    "    split_ratio=[0.8, 0.2],\n",
    "    random_state=random.seed(RANDOM_SEED))\n",
    "\n",
    "print(f'Num Train: {len(train_data)}')\n",
    "print(f'Num Test: {len(test_data)}')\n"
   ]
  },
  {
   "cell_type": "code",
   "execution_count": 59,
   "metadata": {
    "pycharm": {
     "name": "#%%\n"
    }
   },
   "outputs": [
    {
     "name": "stdout",
     "output_type": "stream",
     "text": [
      "Num Train: 12518\n",
      "Num Validation: 2209\n"
     ]
    }
   ],
   "source": [
    "# separate into train, valid and test set\n",
    "train_data, valid_data = train_data.split(\n",
    "    split_ratio=[0.85, 0.15],\n",
    "    random_state=random.seed(RANDOM_SEED))\n",
    "\n",
    "print(f'Num Train: {len(train_data)}')\n",
    "print(f'Num Validation: {len(valid_data)}')\n"
   ]
  },
  {
   "cell_type": "code",
   "execution_count": 60,
   "metadata": {
    "pycharm": {
     "name": "#%%\n"
    }
   },
   "outputs": [
    {
     "name": "stdout",
     "output_type": "stream",
     "text": [
      "{'TEXT_COLUMN_NAME': ['Definitely', 'trying', 'this', 'tomorrow', 'on', 'my', 'son', '.', 'This', 'cut', 'is', 'detailed', 'with', 'all', 'the', 'instructions', '.', 'Appreciate', 'you', 'sharing', 'this', 'knowledge', ',', 'stay', 'blessed', 'my', 'brother'], 'LABEL_COLUMN_NAME': '2'}\n"
     ]
    }
   ],
   "source": [
    "print(vars(train_data.examples[0]))\n"
   ]
  },
  {
   "cell_type": "markdown",
   "metadata": {},
   "source": [
    "## Build Vocabulary"
   ]
  },
  {
   "cell_type": "markdown",
   "metadata": {},
   "source": [
    "Build the vocabulary based on the top \"VOCABULARY_SIZE\" words:"
   ]
  },
  {
   "cell_type": "code",
   "execution_count": 61,
   "metadata": {
    "pycharm": {
     "name": "#%%\n"
    }
   },
   "outputs": [
    {
     "name": "stdout",
     "output_type": "stream",
     "text": [
      "Vocabulary size: 20002\n",
      "Number of classes: 3\n"
     ]
    }
   ],
   "source": [
    "TEXT.build_vocab(train_data, max_size=VOCABULARY_SIZE)\n",
    "LABEL.build_vocab(train_data)\n",
    "\n",
    "print(f'Vocabulary size: {len(TEXT.vocab)}')\n",
    "print(f'Number of classes: {len(LABEL.vocab)}')"
   ]
  },
  {
   "cell_type": "markdown",
   "metadata": {},
   "source": [
    "- 20,002 not 20,000 because of the `<unk>` and `<pad>` tokens\n",
    "- PyTorch RNNs can deal with arbitrary lengths due to dynamic graphs, but padding is necessary for padding sequences to the same length in a given minibatch so we can store those in an array"
   ]
  },
  {
   "cell_type": "code",
   "execution_count": 62,
   "metadata": {
    "pycharm": {
     "name": "#%%\n"
    }
   },
   "outputs": [
    {
     "name": "stdout",
     "output_type": "stream",
     "text": [
      "[('.', 17588), ('the', 13963), (',', 12709), ('I', 10643), ('to', 10043), ('and', 9479), ('a', 8730), ('of', 6448), ('\\n', 6438), ('!', 5617), ('is', 5523), ('you', 5371), ('in', 5036), ('it', 4599), ('for', 4536), ('that', 4096), ('this', 3756), ('\"', 2630), ('on', 2556), ('my', 2515)]\n"
     ]
    }
   ],
   "source": [
    "#Look at most common words:\n",
    "print(TEXT.vocab.freqs.most_common(20))\n"
   ]
  },
  {
   "cell_type": "code",
   "execution_count": 63,
   "metadata": {
    "pycharm": {
     "name": "#%%\n"
    }
   },
   "outputs": [
    {
     "name": "stdout",
     "output_type": "stream",
     "text": [
      "['<unk>', '<pad>', '.', 'the', ',', 'I', 'to', 'and', 'a', 'of']\n"
     ]
    }
   ],
   "source": [
    "#Tokens corresponding to the first 10 indices (0, 1, ..., 9):\n",
    "print(TEXT.vocab.itos[:10]) # itos = integer-to-string\n",
    "\n"
   ]
  },
  {
   "cell_type": "markdown",
   "metadata": {},
   "source": [
    "**Converting a string to an integer:**"
   ]
  },
  {
   "cell_type": "code",
   "execution_count": 64,
   "metadata": {
    "pycharm": {
     "name": "#%%\n"
    }
   },
   "outputs": [
    {
     "name": "stdout",
     "output_type": "stream",
     "text": [
      "3\n"
     ]
    }
   ],
   "source": [
    "print(TEXT.vocab.stoi['the']) # stoi = string-to-integer"
   ]
  },
  {
   "cell_type": "markdown",
   "metadata": {},
   "source": [
    "**Class labels:**"
   ]
  },
  {
   "cell_type": "code",
   "execution_count": 65,
   "metadata": {
    "pycharm": {
     "name": "#%%\n"
    }
   },
   "outputs": [
    {
     "name": "stdout",
     "output_type": "stream",
     "text": [
      "defaultdict(None, {'2': 0, '1': 1, '0': 2})\n"
     ]
    }
   ],
   "source": [
    "print(LABEL.vocab.stoi)"
   ]
  },
  {
   "cell_type": "markdown",
   "metadata": {},
   "source": [
    "**Class label count:**"
   ]
  },
  {
   "cell_type": "code",
   "execution_count": 66,
   "metadata": {
    "pycharm": {
     "name": "#%%\n"
    }
   },
   "outputs": [
    {
     "data": {
      "text/plain": "Counter({'2': 7722, '1': 3174, '0': 1622})"
     },
     "execution_count": 66,
     "metadata": {},
     "output_type": "execute_result"
    }
   ],
   "source": [
    "LABEL.vocab.freqs"
   ]
  },
  {
   "cell_type": "markdown",
   "metadata": {},
   "source": [
    "## Define Data Loaders"
   ]
  },
  {
   "cell_type": "code",
   "execution_count": 67,
   "metadata": {
    "pycharm": {
     "name": "#%%\n"
    }
   },
   "outputs": [],
   "source": [
    "train_loader, valid_loader, test_loader = \\\n",
    "    torchtext.legacy.data.BucketIterator.splits(\n",
    "        (train_data, valid_data, test_data),\n",
    "         batch_size=BATCH_SIZE,\n",
    "         sort_within_batch=False,\n",
    "         sort_key=lambda x: len(x.TEXT_COLUMN_NAME),\n",
    "         device=DEVICE\n",
    "    )"
   ]
  },
  {
   "cell_type": "markdown",
   "metadata": {},
   "source": [
    "Testing the iterators (note that the number of rows depends on the longest document in the respective batch):"
   ]
  },
  {
   "cell_type": "code",
   "execution_count": 68,
   "metadata": {
    "pycharm": {
     "name": "#%%\n"
    }
   },
   "outputs": [
    {
     "name": "stdout",
     "output_type": "stream",
     "text": [
      "Train\n",
      "Text matrix size: torch.Size([718, 128])\n",
      "Target vector size: torch.Size([128])\n",
      "\n",
      "Valid:\n",
      "Text matrix size: torch.Size([8, 128])\n",
      "Target vector size: torch.Size([128])\n",
      "\n",
      "Test:\n",
      "Text matrix size: torch.Size([6, 128])\n",
      "Target vector size: torch.Size([128])\n"
     ]
    }
   ],
   "source": [
    "print('Train')\n",
    "for batch in train_loader:\n",
    "    print(f'Text matrix size: {batch.TEXT_COLUMN_NAME.size()}')\n",
    "    print(f'Target vector size: {batch.LABEL_COLUMN_NAME.size()}')\n",
    "    break\n",
    "\n",
    "print('\\nValid:')\n",
    "for batch in valid_loader:\n",
    "    print(f'Text matrix size: {batch.TEXT_COLUMN_NAME.size()}')\n",
    "    print(f'Target vector size: {batch.LABEL_COLUMN_NAME.size()}')\n",
    "    break\n",
    "\n",
    "print('\\nTest:')\n",
    "for batch in test_loader:\n",
    "    print(f'Text matrix size: {batch.TEXT_COLUMN_NAME.size()}')\n",
    "    print(f'Target vector size: {batch.LABEL_COLUMN_NAME.size()}')\n",
    "    break"
   ]
  },
  {
   "cell_type": "markdown",
   "metadata": {},
   "source": [
    "## Model"
   ]
  },
  {
   "cell_type": "code",
   "execution_count": 69,
   "metadata": {
    "pycharm": {
     "name": "#%%\n"
    }
   },
   "outputs": [],
   "source": [
    "class RNN(torch.nn.Module):\n",
    "\n",
    "    def __init__(self, input_dim, embedding_dim, hidden_dim, output_dim):\n",
    "        super().__init__()\n",
    "\n",
    "        self.embedding = torch.nn.Embedding(input_dim, embedding_dim)\n",
    "        #self.rnn = torch.nn.RNN(embedding_dim,\n",
    "        #                        hidden_dim,\n",
    "        #                        nonlinearity='relu')\n",
    "        self.rnn = torch.nn.LSTM(embedding_dim,\n",
    "                                 hidden_dim)\n",
    "\n",
    "        self.fc = torch.nn.Linear(hidden_dim, output_dim)\n",
    "\n",
    "\n",
    "    def forward(self, text):\n",
    "        # text dim: [sentence length, batch size]\n",
    "\n",
    "        embedded = self.embedding(text)\n",
    "        # embedded dim: [sentence length, batch size, embedding dim]\n",
    "\n",
    "        output, (hidden, cell) = self.rnn(embedded)\n",
    "        # output dim: [sentence length, batch size, hidden dim]\n",
    "        # hidden dim: [1, batch size, hidden dim]\n",
    "\n",
    "        hidden.squeeze_(0)\n",
    "        # hidden dim: [batch size, hidden dim]\n",
    "\n",
    "        output = self.fc(hidden)\n",
    "        return output"
   ]
  },
  {
   "cell_type": "code",
   "execution_count": 70,
   "metadata": {
    "pycharm": {
     "name": "#%%\n"
    }
   },
   "outputs": [],
   "source": [
    "torch.manual_seed(RANDOM_SEED)\n",
    "model = RNN(input_dim=len(TEXT.vocab),\n",
    "            embedding_dim=EMBEDDING_DIM,\n",
    "            hidden_dim=HIDDEN_DIM,\n",
    "            output_dim=NUM_CLASSES # could use 1 for binary classification\n",
    ")\n",
    "\n",
    "model = model.to(DEVICE)\n",
    "optimizer = torch.optim.Adam(model.parameters(), lr=0.005)"
   ]
  },
  {
   "cell_type": "markdown",
   "metadata": {},
   "source": [
    "## Training"
   ]
  },
  {
   "cell_type": "code",
   "execution_count": 71,
   "metadata": {
    "pycharm": {
     "name": "#%%\n"
    }
   },
   "outputs": [],
   "source": [
    "def compute_accuracy(model, data_loader, device):\n",
    "\n",
    "    with torch.no_grad():\n",
    "\n",
    "        correct_pred, num_examples = 0, 0\n",
    "\n",
    "        for i, (features, targets) in enumerate(data_loader):\n",
    "\n",
    "            features = features.to(device)\n",
    "            targets = targets.float().to(device)\n",
    "\n",
    "            logits = model(features)\n",
    "            _, predicted_labels = torch.max(logits, 1)\n",
    "\n",
    "            num_examples += targets.size(0)\n",
    "            correct_pred += (predicted_labels == targets).sum()\n",
    "    return correct_pred.float()/num_examples * 100\n"
   ]
  },
  {
   "cell_type": "code",
   "execution_count": 72,
   "outputs": [],
   "source": [
    "def predict_label(model, data_loader, device):\n",
    "\n",
    "    with torch.no_grad():\n",
    "        Y_acctual, Y_preds = [], []\n",
    "        correct_pred, num_examples = 0, 0\n",
    "\n",
    "        for i, (features, targets) in enumerate(data_loader):\n",
    "\n",
    "            features = features.to(device)\n",
    "            targets = targets.float().to(device)\n",
    "\n",
    "            logits = model(features)\n",
    "            _, predicted_labels = torch.max(logits, 1)\n",
    "\n",
    "            num_examples += targets.size(0)\n",
    "            correct_pred += (predicted_labels == targets).sum()\n",
    "            Y_preds.append(predicted_labels.cpu().data.numpy())\n",
    "            Y_acctual.append(targets.cpu().data.numpy())\n",
    "    return  np.concatenate(Y_preds), np.concatenate(Y_acctual)"
   ],
   "metadata": {
    "collapsed": false,
    "pycharm": {
     "name": "#%%\n"
    }
   }
  },
  {
   "cell_type": "code",
   "execution_count": 73,
   "metadata": {
    "pycharm": {
     "name": "#%%\n"
    },
    "scrolled": true
   },
   "outputs": [
    {
     "name": "stdout",
     "output_type": "stream",
     "text": [
      "Epoch: 001/100 | Batch 000/098 | Loss: 1.1501\n",
      "Epoch: 001/100 | Batch 050/098 | Loss: 0.8992\n",
      "training accuracy: 61.85%\n",
      "valid accuracy: 57.85%\n",
      "Time elapsed: 0.29 min\n",
      "Epoch: 002/100 | Batch 000/098 | Loss: 0.8820\n",
      "Epoch: 002/100 | Batch 050/098 | Loss: 0.9585\n",
      "training accuracy: 61.87%\n",
      "valid accuracy: 61.20%\n",
      "Time elapsed: 0.58 min\n",
      "Epoch: 003/100 | Batch 000/098 | Loss: 0.8801\n",
      "Epoch: 003/100 | Batch 050/098 | Loss: 0.9243\n",
      "training accuracy: 61.98%\n",
      "valid accuracy: 59.57%\n",
      "Time elapsed: 0.87 min\n",
      "Epoch: 004/100 | Batch 000/098 | Loss: 0.9145\n",
      "Epoch: 004/100 | Batch 050/098 | Loss: 0.8209\n",
      "training accuracy: 62.00%\n",
      "valid accuracy: 59.94%\n",
      "Time elapsed: 1.17 min\n",
      "Epoch: 005/100 | Batch 000/098 | Loss: 0.8168\n",
      "Epoch: 005/100 | Batch 050/098 | Loss: 0.9346\n",
      "training accuracy: 62.05%\n",
      "valid accuracy: 59.94%\n",
      "Time elapsed: 1.45 min\n",
      "Epoch: 006/100 | Batch 000/098 | Loss: 0.9650\n",
      "Epoch: 006/100 | Batch 050/098 | Loss: 0.8961\n",
      "training accuracy: 62.08%\n",
      "valid accuracy: 58.71%\n",
      "Time elapsed: 1.75 min\n",
      "Epoch: 007/100 | Batch 000/098 | Loss: 0.9151\n",
      "Epoch: 007/100 | Batch 050/098 | Loss: 0.8285\n",
      "training accuracy: 62.12%\n",
      "valid accuracy: 60.30%\n",
      "Time elapsed: 2.04 min\n",
      "Epoch: 008/100 | Batch 000/098 | Loss: 0.8430\n",
      "Epoch: 008/100 | Batch 050/098 | Loss: 1.0244\n",
      "training accuracy: 62.13%\n",
      "valid accuracy: 61.29%\n",
      "Time elapsed: 2.33 min\n",
      "Epoch: 009/100 | Batch 000/098 | Loss: 0.9676\n",
      "Epoch: 009/100 | Batch 050/098 | Loss: 0.8544\n",
      "training accuracy: 62.18%\n",
      "valid accuracy: 59.71%\n",
      "Time elapsed: 2.62 min\n",
      "Epoch: 010/100 | Batch 000/098 | Loss: 0.8547\n",
      "Epoch: 010/100 | Batch 050/098 | Loss: 0.8834\n",
      "training accuracy: 62.11%\n",
      "valid accuracy: 60.34%\n",
      "Time elapsed: 2.91 min\n",
      "Epoch: 011/100 | Batch 000/098 | Loss: 0.8912\n",
      "Epoch: 011/100 | Batch 050/098 | Loss: 0.9471\n",
      "training accuracy: 62.17%\n",
      "valid accuracy: 60.25%\n",
      "Time elapsed: 3.21 min\n",
      "Epoch: 012/100 | Batch 000/098 | Loss: 0.9394\n",
      "Epoch: 012/100 | Batch 050/098 | Loss: 0.7491\n",
      "training accuracy: 72.06%\n",
      "valid accuracy: 64.64%\n",
      "Time elapsed: 3.51 min\n",
      "Epoch: 013/100 | Batch 000/098 | Loss: 0.7606\n",
      "Epoch: 013/100 | Batch 050/098 | Loss: 0.5550\n",
      "training accuracy: 78.60%\n",
      "valid accuracy: 72.25%\n",
      "Time elapsed: 3.81 min\n",
      "Epoch: 014/100 | Batch 000/098 | Loss: 0.5015\n",
      "Epoch: 014/100 | Batch 050/098 | Loss: 0.4391\n",
      "training accuracy: 84.36%\n",
      "valid accuracy: 71.03%\n",
      "Time elapsed: 4.11 min\n",
      "Epoch: 015/100 | Batch 000/098 | Loss: 0.4168\n",
      "Epoch: 015/100 | Batch 050/098 | Loss: 0.4403\n",
      "training accuracy: 88.11%\n",
      "valid accuracy: 73.74%\n",
      "Time elapsed: 4.40 min\n",
      "Epoch: 016/100 | Batch 000/098 | Loss: 0.3893\n",
      "Epoch: 016/100 | Batch 050/098 | Loss: 0.4093\n",
      "training accuracy: 91.67%\n",
      "valid accuracy: 75.46%\n",
      "Time elapsed: 4.69 min\n",
      "Epoch: 017/100 | Batch 000/098 | Loss: 0.4451\n",
      "Epoch: 017/100 | Batch 050/098 | Loss: 0.2853\n",
      "training accuracy: 94.01%\n",
      "valid accuracy: 75.24%\n",
      "Time elapsed: 5.00 min\n",
      "Epoch: 018/100 | Batch 000/098 | Loss: 0.2188\n",
      "Epoch: 018/100 | Batch 050/098 | Loss: 0.2739\n",
      "training accuracy: 95.53%\n",
      "valid accuracy: 74.83%\n",
      "Time elapsed: 5.30 min\n",
      "Epoch: 019/100 | Batch 000/098 | Loss: 0.0804\n",
      "Epoch: 019/100 | Batch 050/098 | Loss: 0.1431\n",
      "training accuracy: 96.46%\n",
      "valid accuracy: 75.01%\n",
      "Time elapsed: 5.60 min\n",
      "Epoch: 020/100 | Batch 000/098 | Loss: 0.0846\n",
      "Epoch: 020/100 | Batch 050/098 | Loss: 0.1830\n",
      "training accuracy: 96.86%\n",
      "valid accuracy: 71.93%\n",
      "Time elapsed: 5.92 min\n",
      "Epoch: 021/100 | Batch 000/098 | Loss: 0.0460\n",
      "Epoch: 021/100 | Batch 050/098 | Loss: 0.1396\n",
      "training accuracy: 97.88%\n",
      "valid accuracy: 73.61%\n",
      "Time elapsed: 6.22 min\n",
      "Epoch: 022/100 | Batch 000/098 | Loss: 0.1711\n",
      "Epoch: 022/100 | Batch 050/098 | Loss: 0.0648\n",
      "training accuracy: 98.01%\n",
      "valid accuracy: 74.15%\n",
      "Time elapsed: 6.51 min\n",
      "Epoch: 023/100 | Batch 000/098 | Loss: 0.0653\n",
      "Epoch: 023/100 | Batch 050/098 | Loss: 0.0852\n",
      "training accuracy: 98.21%\n",
      "valid accuracy: 72.93%\n",
      "Time elapsed: 6.81 min\n",
      "Epoch: 024/100 | Batch 000/098 | Loss: 0.0624\n",
      "Epoch: 024/100 | Batch 050/098 | Loss: 0.0518\n",
      "training accuracy: 98.19%\n",
      "valid accuracy: 73.56%\n",
      "Time elapsed: 7.10 min\n",
      "Epoch: 025/100 | Batch 000/098 | Loss: 0.0763\n",
      "Epoch: 025/100 | Batch 050/098 | Loss: 0.0555\n",
      "training accuracy: 98.73%\n",
      "valid accuracy: 73.20%\n",
      "Time elapsed: 7.40 min\n",
      "Epoch: 026/100 | Batch 000/098 | Loss: 0.0284\n",
      "Epoch: 026/100 | Batch 050/098 | Loss: 0.0236\n",
      "training accuracy: 98.55%\n",
      "valid accuracy: 72.79%\n",
      "Time elapsed: 7.70 min\n",
      "Epoch: 027/100 | Batch 000/098 | Loss: 0.0246\n",
      "Epoch: 027/100 | Batch 050/098 | Loss: 0.0508\n",
      "training accuracy: 98.63%\n",
      "valid accuracy: 71.80%\n",
      "Time elapsed: 8.00 min\n",
      "Epoch: 028/100 | Batch 000/098 | Loss: 0.0301\n",
      "Epoch: 028/100 | Batch 050/098 | Loss: 0.0437\n",
      "training accuracy: 99.06%\n",
      "valid accuracy: 72.07%\n",
      "Time elapsed: 8.30 min\n",
      "Epoch: 029/100 | Batch 000/098 | Loss: 0.0290\n",
      "Epoch: 029/100 | Batch 050/098 | Loss: 0.0679\n",
      "training accuracy: 99.35%\n",
      "valid accuracy: 72.02%\n",
      "Time elapsed: 8.61 min\n",
      "Epoch: 030/100 | Batch 000/098 | Loss: 0.0182\n",
      "Epoch: 030/100 | Batch 050/098 | Loss: 0.0076\n",
      "training accuracy: 99.35%\n",
      "valid accuracy: 73.25%\n",
      "Time elapsed: 8.91 min\n",
      "Epoch: 031/100 | Batch 000/098 | Loss: 0.0076\n",
      "Epoch: 031/100 | Batch 050/098 | Loss: 0.0085\n",
      "training accuracy: 99.33%\n",
      "valid accuracy: 73.92%\n",
      "Time elapsed: 9.22 min\n",
      "Epoch: 032/100 | Batch 000/098 | Loss: 0.0167\n",
      "Epoch: 032/100 | Batch 050/098 | Loss: 0.0099\n",
      "training accuracy: 99.31%\n",
      "valid accuracy: 72.16%\n",
      "Time elapsed: 9.53 min\n",
      "Epoch: 033/100 | Batch 000/098 | Loss: 0.0184\n",
      "Epoch: 033/100 | Batch 050/098 | Loss: 0.0489\n",
      "training accuracy: 99.32%\n",
      "valid accuracy: 73.47%\n",
      "Time elapsed: 9.84 min\n",
      "Epoch: 034/100 | Batch 000/098 | Loss: 0.0384\n",
      "Epoch: 034/100 | Batch 050/098 | Loss: 0.0432\n",
      "training accuracy: 99.14%\n",
      "valid accuracy: 73.92%\n",
      "Time elapsed: 10.14 min\n",
      "Epoch: 035/100 | Batch 000/098 | Loss: 0.0228\n",
      "Epoch: 035/100 | Batch 050/098 | Loss: 0.0194\n",
      "training accuracy: 98.77%\n",
      "valid accuracy: 74.06%\n",
      "Time elapsed: 10.45 min\n",
      "Epoch: 036/100 | Batch 000/098 | Loss: 0.0293\n",
      "Epoch: 036/100 | Batch 050/098 | Loss: 0.0635\n",
      "training accuracy: 98.77%\n",
      "valid accuracy: 72.88%\n",
      "Time elapsed: 10.76 min\n",
      "Epoch: 037/100 | Batch 000/098 | Loss: 0.0677\n",
      "Epoch: 037/100 | Batch 050/098 | Loss: 0.0641\n",
      "training accuracy: 99.37%\n",
      "valid accuracy: 73.61%\n",
      "Time elapsed: 11.06 min\n",
      "Epoch: 038/100 | Batch 000/098 | Loss: 0.0295\n",
      "Epoch: 038/100 | Batch 050/098 | Loss: 0.0194\n",
      "training accuracy: 99.50%\n",
      "valid accuracy: 72.48%\n",
      "Time elapsed: 11.36 min\n",
      "Epoch: 039/100 | Batch 000/098 | Loss: 0.0067\n",
      "Epoch: 039/100 | Batch 050/098 | Loss: 0.0115\n",
      "training accuracy: 99.44%\n",
      "valid accuracy: 72.61%\n",
      "Time elapsed: 11.67 min\n",
      "Epoch: 040/100 | Batch 000/098 | Loss: 0.0087\n",
      "Epoch: 040/100 | Batch 050/098 | Loss: 0.0068\n",
      "training accuracy: 99.54%\n",
      "valid accuracy: 72.34%\n",
      "Time elapsed: 11.98 min\n",
      "Epoch: 041/100 | Batch 000/098 | Loss: 0.0187\n",
      "Epoch: 041/100 | Batch 050/098 | Loss: 0.0105\n",
      "training accuracy: 99.57%\n",
      "valid accuracy: 74.42%\n",
      "Time elapsed: 12.29 min\n",
      "Epoch: 042/100 | Batch 000/098 | Loss: 0.0058\n",
      "Epoch: 042/100 | Batch 050/098 | Loss: 0.0218\n",
      "training accuracy: 99.66%\n",
      "valid accuracy: 72.61%\n",
      "Time elapsed: 12.58 min\n",
      "Epoch: 043/100 | Batch 000/098 | Loss: 0.0111\n",
      "Epoch: 043/100 | Batch 050/098 | Loss: 0.0293\n",
      "training accuracy: 99.53%\n",
      "valid accuracy: 73.65%\n",
      "Time elapsed: 12.89 min\n",
      "Epoch: 044/100 | Batch 000/098 | Loss: 0.0048\n",
      "Epoch: 044/100 | Batch 050/098 | Loss: 0.0534\n",
      "training accuracy: 99.32%\n",
      "valid accuracy: 73.52%\n",
      "Time elapsed: 13.19 min\n",
      "Epoch: 045/100 | Batch 000/098 | Loss: 0.0712\n",
      "Epoch: 045/100 | Batch 050/098 | Loss: 0.0932\n",
      "training accuracy: 99.58%\n",
      "valid accuracy: 73.29%\n",
      "Time elapsed: 13.49 min\n",
      "Epoch: 046/100 | Batch 000/098 | Loss: 0.0579\n",
      "Epoch: 046/100 | Batch 050/098 | Loss: 0.0300\n",
      "training accuracy: 99.73%\n",
      "valid accuracy: 73.38%\n",
      "Time elapsed: 13.80 min\n",
      "Epoch: 047/100 | Batch 000/098 | Loss: 0.0024\n",
      "Epoch: 047/100 | Batch 050/098 | Loss: 0.0049\n",
      "training accuracy: 99.79%\n",
      "valid accuracy: 72.02%\n",
      "Time elapsed: 14.10 min\n",
      "Epoch: 048/100 | Batch 000/098 | Loss: 0.0013\n",
      "Epoch: 048/100 | Batch 050/098 | Loss: 0.0581\n",
      "training accuracy: 99.44%\n",
      "valid accuracy: 72.93%\n",
      "Time elapsed: 14.41 min\n",
      "Epoch: 049/100 | Batch 000/098 | Loss: 0.0164\n",
      "Epoch: 049/100 | Batch 050/098 | Loss: 0.0072\n",
      "training accuracy: 99.44%\n",
      "valid accuracy: 73.16%\n",
      "Time elapsed: 14.71 min\n",
      "Epoch: 050/100 | Batch 000/098 | Loss: 0.0186\n",
      "Epoch: 050/100 | Batch 050/098 | Loss: 0.0266\n",
      "training accuracy: 99.50%\n",
      "valid accuracy: 73.25%\n",
      "Time elapsed: 15.01 min\n",
      "Epoch: 051/100 | Batch 000/098 | Loss: 0.0107\n",
      "Epoch: 051/100 | Batch 050/098 | Loss: 0.0118\n",
      "training accuracy: 99.50%\n",
      "valid accuracy: 72.57%\n",
      "Time elapsed: 15.31 min\n",
      "Epoch: 052/100 | Batch 000/098 | Loss: 0.0055\n",
      "Epoch: 052/100 | Batch 050/098 | Loss: 0.0133\n",
      "training accuracy: 99.71%\n",
      "valid accuracy: 73.20%\n",
      "Time elapsed: 15.61 min\n",
      "Epoch: 053/100 | Batch 000/098 | Loss: 0.0026\n",
      "Epoch: 053/100 | Batch 050/098 | Loss: 0.0180\n",
      "training accuracy: 99.78%\n",
      "valid accuracy: 73.70%\n",
      "Time elapsed: 15.91 min\n",
      "Epoch: 054/100 | Batch 000/098 | Loss: 0.0085\n",
      "Epoch: 054/100 | Batch 050/098 | Loss: 0.0195\n",
      "training accuracy: 99.86%\n",
      "valid accuracy: 73.83%\n",
      "Time elapsed: 16.21 min\n",
      "Epoch: 055/100 | Batch 000/098 | Loss: 0.0037\n",
      "Epoch: 055/100 | Batch 050/098 | Loss: 0.0021\n",
      "training accuracy: 99.79%\n",
      "valid accuracy: 73.20%\n",
      "Time elapsed: 16.50 min\n",
      "Epoch: 056/100 | Batch 000/098 | Loss: 0.0250\n",
      "Epoch: 056/100 | Batch 050/098 | Loss: 0.0036\n",
      "training accuracy: 99.72%\n",
      "valid accuracy: 72.57%\n",
      "Time elapsed: 16.79 min\n",
      "Epoch: 057/100 | Batch 000/098 | Loss: 0.0041\n",
      "Epoch: 057/100 | Batch 050/098 | Loss: 0.0020\n",
      "training accuracy: 99.83%\n",
      "valid accuracy: 72.75%\n",
      "Time elapsed: 17.09 min\n",
      "Epoch: 058/100 | Batch 000/098 | Loss: 0.0097\n",
      "Epoch: 058/100 | Batch 050/098 | Loss: 0.0072\n",
      "training accuracy: 99.74%\n",
      "valid accuracy: 72.84%\n",
      "Time elapsed: 17.39 min\n",
      "Epoch: 059/100 | Batch 000/098 | Loss: 0.0013\n",
      "Epoch: 059/100 | Batch 050/098 | Loss: 0.0168\n",
      "training accuracy: 99.75%\n",
      "valid accuracy: 72.20%\n",
      "Time elapsed: 17.69 min\n",
      "Epoch: 060/100 | Batch 000/098 | Loss: 0.0020\n",
      "Epoch: 060/100 | Batch 050/098 | Loss: 0.0593\n",
      "training accuracy: 99.44%\n",
      "valid accuracy: 72.43%\n",
      "Time elapsed: 17.98 min\n",
      "Epoch: 061/100 | Batch 000/098 | Loss: 0.0045\n",
      "Epoch: 061/100 | Batch 050/098 | Loss: 0.0512\n",
      "training accuracy: 99.55%\n",
      "valid accuracy: 72.20%\n",
      "Time elapsed: 18.27 min\n",
      "Epoch: 062/100 | Batch 000/098 | Loss: 0.0041\n",
      "Epoch: 062/100 | Batch 050/098 | Loss: 0.0313\n",
      "training accuracy: 99.48%\n",
      "valid accuracy: 71.48%\n",
      "Time elapsed: 18.56 min\n",
      "Epoch: 063/100 | Batch 000/098 | Loss: 0.0068\n",
      "Epoch: 063/100 | Batch 050/098 | Loss: 0.0026\n",
      "training accuracy: 99.59%\n",
      "valid accuracy: 72.79%\n",
      "Time elapsed: 18.86 min\n",
      "Epoch: 064/100 | Batch 000/098 | Loss: 0.0180\n",
      "Epoch: 064/100 | Batch 050/098 | Loss: 0.0033\n",
      "training accuracy: 99.83%\n",
      "valid accuracy: 72.70%\n",
      "Time elapsed: 19.16 min\n",
      "Epoch: 065/100 | Batch 000/098 | Loss: 0.0115\n",
      "Epoch: 065/100 | Batch 050/098 | Loss: 0.0263\n",
      "training accuracy: 99.86%\n",
      "valid accuracy: 71.48%\n",
      "Time elapsed: 19.45 min\n",
      "Epoch: 066/100 | Batch 000/098 | Loss: 0.0010\n",
      "Epoch: 066/100 | Batch 050/098 | Loss: 0.0011\n",
      "training accuracy: 99.48%\n",
      "valid accuracy: 72.75%\n",
      "Time elapsed: 19.75 min\n",
      "Epoch: 067/100 | Batch 000/098 | Loss: 0.0208\n",
      "Epoch: 067/100 | Batch 050/098 | Loss: 0.0095\n",
      "training accuracy: 99.40%\n",
      "valid accuracy: 72.97%\n",
      "Time elapsed: 20.05 min\n",
      "Epoch: 068/100 | Batch 000/098 | Loss: 0.0043\n",
      "Epoch: 068/100 | Batch 050/098 | Loss: 0.0426\n",
      "training accuracy: 99.54%\n",
      "valid accuracy: 74.15%\n",
      "Time elapsed: 20.34 min\n",
      "Epoch: 069/100 | Batch 000/098 | Loss: 0.0083\n",
      "Epoch: 069/100 | Batch 050/098 | Loss: 0.0101\n",
      "training accuracy: 99.77%\n",
      "valid accuracy: 74.38%\n",
      "Time elapsed: 20.64 min\n",
      "Epoch: 070/100 | Batch 000/098 | Loss: 0.0014\n",
      "Epoch: 070/100 | Batch 050/098 | Loss: 0.0005\n",
      "training accuracy: 99.94%\n",
      "valid accuracy: 73.25%\n",
      "Time elapsed: 20.93 min\n",
      "Epoch: 071/100 | Batch 000/098 | Loss: 0.0006\n",
      "Epoch: 071/100 | Batch 050/098 | Loss: 0.0074\n",
      "training accuracy: 99.68%\n",
      "valid accuracy: 71.93%\n",
      "Time elapsed: 21.23 min\n",
      "Epoch: 072/100 | Batch 000/098 | Loss: 0.0067\n",
      "Epoch: 072/100 | Batch 050/098 | Loss: 0.0130\n",
      "training accuracy: 99.86%\n",
      "valid accuracy: 73.25%\n",
      "Time elapsed: 21.52 min\n",
      "Epoch: 073/100 | Batch 000/098 | Loss: 0.0026\n",
      "Epoch: 073/100 | Batch 050/098 | Loss: 0.0116\n",
      "training accuracy: 99.66%\n",
      "valid accuracy: 73.02%\n",
      "Time elapsed: 21.83 min\n",
      "Epoch: 074/100 | Batch 000/098 | Loss: 0.0011\n",
      "Epoch: 074/100 | Batch 050/098 | Loss: 0.0083\n",
      "training accuracy: 99.78%\n",
      "valid accuracy: 71.98%\n",
      "Time elapsed: 22.12 min\n",
      "Epoch: 075/100 | Batch 000/098 | Loss: 0.0025\n",
      "Epoch: 075/100 | Batch 050/098 | Loss: 0.0061\n",
      "training accuracy: 99.96%\n",
      "valid accuracy: 73.16%\n",
      "Time elapsed: 22.42 min\n",
      "Epoch: 076/100 | Batch 000/098 | Loss: 0.0050\n",
      "Epoch: 076/100 | Batch 050/098 | Loss: 0.0103\n",
      "training accuracy: 99.46%\n",
      "valid accuracy: 72.43%\n",
      "Time elapsed: 22.71 min\n",
      "Epoch: 077/100 | Batch 000/098 | Loss: 0.0299\n",
      "Epoch: 077/100 | Batch 050/098 | Loss: 0.0060\n",
      "training accuracy: 99.50%\n",
      "valid accuracy: 72.02%\n",
      "Time elapsed: 23.01 min\n",
      "Epoch: 078/100 | Batch 000/098 | Loss: 0.0301\n",
      "Epoch: 078/100 | Batch 050/098 | Loss: 0.0185\n",
      "training accuracy: 99.56%\n",
      "valid accuracy: 72.11%\n",
      "Time elapsed: 23.33 min\n",
      "Epoch: 079/100 | Batch 000/098 | Loss: 0.0037\n",
      "Epoch: 079/100 | Batch 050/098 | Loss: 0.0186\n",
      "training accuracy: 99.87%\n",
      "valid accuracy: 72.11%\n",
      "Time elapsed: 23.63 min\n",
      "Epoch: 080/100 | Batch 000/098 | Loss: 0.0028\n",
      "Epoch: 080/100 | Batch 050/098 | Loss: 0.0141\n",
      "training accuracy: 99.89%\n",
      "valid accuracy: 71.93%\n",
      "Time elapsed: 23.92 min\n",
      "Epoch: 081/100 | Batch 000/098 | Loss: 0.0038\n",
      "Epoch: 081/100 | Batch 050/098 | Loss: 0.0011\n",
      "training accuracy: 99.92%\n",
      "valid accuracy: 72.30%\n",
      "Time elapsed: 24.21 min\n",
      "Epoch: 082/100 | Batch 000/098 | Loss: 0.0002\n",
      "Epoch: 082/100 | Batch 050/098 | Loss: 0.0343\n",
      "training accuracy: 99.86%\n",
      "valid accuracy: 72.07%\n",
      "Time elapsed: 24.51 min\n",
      "Epoch: 083/100 | Batch 000/098 | Loss: 0.0016\n",
      "Epoch: 083/100 | Batch 050/098 | Loss: 0.0279\n",
      "training accuracy: 99.89%\n",
      "valid accuracy: 71.66%\n",
      "Time elapsed: 24.80 min\n",
      "Epoch: 084/100 | Batch 000/098 | Loss: 0.0015\n",
      "Epoch: 084/100 | Batch 050/098 | Loss: 0.0045\n",
      "training accuracy: 99.74%\n",
      "valid accuracy: 72.52%\n",
      "Time elapsed: 25.10 min\n",
      "Epoch: 085/100 | Batch 000/098 | Loss: 0.0021\n",
      "Epoch: 085/100 | Batch 050/098 | Loss: 0.0086\n",
      "training accuracy: 99.86%\n",
      "valid accuracy: 71.48%\n",
      "Time elapsed: 25.39 min\n",
      "Epoch: 086/100 | Batch 000/098 | Loss: 0.0027\n",
      "Epoch: 086/100 | Batch 050/098 | Loss: 0.0056\n",
      "training accuracy: 99.92%\n",
      "valid accuracy: 71.53%\n",
      "Time elapsed: 25.68 min\n",
      "Epoch: 087/100 | Batch 000/098 | Loss: 0.0012\n",
      "Epoch: 087/100 | Batch 050/098 | Loss: 0.0008\n",
      "training accuracy: 99.95%\n",
      "valid accuracy: 70.94%\n",
      "Time elapsed: 25.97 min\n",
      "Epoch: 088/100 | Batch 000/098 | Loss: 0.0104\n",
      "Epoch: 088/100 | Batch 050/098 | Loss: 0.0028\n",
      "training accuracy: 99.98%\n",
      "valid accuracy: 71.62%\n",
      "Time elapsed: 26.29 min\n",
      "Epoch: 089/100 | Batch 000/098 | Loss: 0.0001\n",
      "Epoch: 089/100 | Batch 050/098 | Loss: 0.0002\n",
      "training accuracy: 99.98%\n",
      "valid accuracy: 71.03%\n",
      "Time elapsed: 26.58 min\n",
      "Epoch: 090/100 | Batch 000/098 | Loss: 0.0011\n",
      "Epoch: 090/100 | Batch 050/098 | Loss: 0.0001\n",
      "training accuracy: 99.98%\n",
      "valid accuracy: 71.71%\n",
      "Time elapsed: 26.88 min\n",
      "Epoch: 091/100 | Batch 000/098 | Loss: 0.0031\n",
      "Epoch: 091/100 | Batch 050/098 | Loss: 0.0001\n",
      "training accuracy: 99.94%\n",
      "valid accuracy: 71.98%\n",
      "Time elapsed: 27.18 min\n",
      "Epoch: 092/100 | Batch 000/098 | Loss: 0.0014\n",
      "Epoch: 092/100 | Batch 050/098 | Loss: 0.0018\n",
      "training accuracy: 99.77%\n",
      "valid accuracy: 73.16%\n",
      "Time elapsed: 27.47 min\n",
      "Epoch: 093/100 | Batch 000/098 | Loss: 0.0006\n",
      "Epoch: 093/100 | Batch 050/098 | Loss: 0.0036\n",
      "training accuracy: 99.60%\n",
      "valid accuracy: 72.11%\n",
      "Time elapsed: 27.77 min\n",
      "Epoch: 094/100 | Batch 000/098 | Loss: 0.0469\n",
      "Epoch: 094/100 | Batch 050/098 | Loss: 0.0181\n",
      "training accuracy: 99.56%\n",
      "valid accuracy: 73.97%\n",
      "Time elapsed: 28.07 min\n",
      "Epoch: 095/100 | Batch 000/098 | Loss: 0.0050\n",
      "Epoch: 095/100 | Batch 050/098 | Loss: 0.0090\n",
      "training accuracy: 99.78%\n",
      "valid accuracy: 72.75%\n",
      "Time elapsed: 28.36 min\n",
      "Epoch: 096/100 | Batch 000/098 | Loss: 0.0010\n",
      "Epoch: 096/100 | Batch 050/098 | Loss: 0.0022\n",
      "training accuracy: 99.82%\n",
      "valid accuracy: 73.25%\n",
      "Time elapsed: 28.66 min\n",
      "Epoch: 097/100 | Batch 000/098 | Loss: 0.0267\n",
      "Epoch: 097/100 | Batch 050/098 | Loss: 0.0030\n",
      "training accuracy: 99.60%\n",
      "valid accuracy: 73.38%\n",
      "Time elapsed: 28.96 min\n",
      "Epoch: 098/100 | Batch 000/098 | Loss: 0.0562\n",
      "Epoch: 098/100 | Batch 050/098 | Loss: 0.0122\n",
      "training accuracy: 99.51%\n",
      "valid accuracy: 72.07%\n",
      "Time elapsed: 29.25 min\n",
      "Epoch: 099/100 | Batch 000/098 | Loss: 0.0101\n",
      "Epoch: 099/100 | Batch 050/098 | Loss: 0.0364\n",
      "training accuracy: 99.49%\n",
      "valid accuracy: 73.92%\n",
      "Time elapsed: 29.55 min\n",
      "Epoch: 100/100 | Batch 000/098 | Loss: 0.0021\n",
      "Epoch: 100/100 | Batch 050/098 | Loss: 0.0542\n",
      "training accuracy: 99.60%\n",
      "valid accuracy: 72.25%\n",
      "Time elapsed: 29.84 min\n",
      "Total Training Time: 29.84 min\n",
      "Test accuracy: 71.35%\n"
     ]
    }
   ],
   "source": [
    "start_time = time.time()\n",
    "\n",
    "train_accuracy = []\n",
    "valid_accuracy = []\n",
    "\n",
    "for epoch in range(NUM_EPOCHS):\n",
    "    model.train()\n",
    "    for batch_idx, batch_data in enumerate(train_loader):\n",
    "\n",
    "        text = batch_data.TEXT_COLUMN_NAME.to(DEVICE)\n",
    "        labels = batch_data.LABEL_COLUMN_NAME.to(DEVICE)\n",
    "\n",
    "        ### FORWARD AND BACK PROP\n",
    "        logits = model(text)\n",
    "        loss = F.cross_entropy(logits, labels)\n",
    "        optimizer.zero_grad()\n",
    "\n",
    "        loss.backward()\n",
    "\n",
    "        ### UPDATE MODEL PARAMETERS\n",
    "        optimizer.step()\n",
    "\n",
    "        ### LOGGING\n",
    "        if not batch_idx % 50:\n",
    "\n",
    "            print (f'Epoch: {epoch+1:03d}/{NUM_EPOCHS:03d} | '\n",
    "                   f'Batch {batch_idx:03d}/{len(train_loader):03d} | '\n",
    "                   f'Loss: {loss:.4f}')\n",
    "\n",
    "    with torch.set_grad_enabled(False):\n",
    "        train_accuracy.append(float(f'{compute_accuracy(model, train_loader, DEVICE):.2f}'))\n",
    "        valid_accuracy.append(float(f'{compute_accuracy(model, valid_loader, DEVICE):.2f}'))\n",
    "        print(f'training accuracy: '\n",
    "              f'{compute_accuracy(model, train_loader, DEVICE):.2f}%'\n",
    "              f'\\nvalid accuracy: '\n",
    "              f'{compute_accuracy(model, valid_loader, DEVICE):.2f}%')\n",
    "\n",
    "    print(f'Time elapsed: {(time.time() - start_time)/60:.2f} min')\n",
    "\n",
    "print(f'Total Training Time: {(time.time() - start_time)/60:.2f} min')\n",
    "print(f'Test accuracy: {compute_accuracy(model, test_loader, DEVICE):.2f}%')\n"
   ]
  },
  {
   "cell_type": "code",
   "execution_count": 74,
   "metadata": {
    "pycharm": {
     "name": "#%%\n"
    }
   },
   "outputs": [],
   "source": [
    "\n",
    "\n",
    "nlp = spacy.blank(\"en\")\n",
    "\n",
    "def predict_sentiment(model, sentence):\n",
    "\n",
    "    model.eval()\n",
    "    tokenized = [tok.text for tok in nlp.tokenizer(sentence)]\n",
    "    indexed = [TEXT.vocab.stoi[t] for t in tokenized]\n",
    "    length = [len(indexed)]\n",
    "    tensor = torch.LongTensor(indexed).to(DEVICE)\n",
    "    tensor = tensor.unsqueeze(1)\n",
    "    length_tensor = torch.LongTensor(length)\n",
    "    prediction = torch.nn.functional.softmax(model(tensor), dim=1)\n",
    "    return prediction[0][0].item()"
   ]
  },
  {
   "cell_type": "code",
   "execution_count": 75,
   "outputs": [
    {
     "data": {
      "text/plain": "<Figure size 640x480 with 1 Axes>",
      "image/png": "[encoded data removed]"
     },
     "metadata": {},
     "output_type": "display_data"
    }
   ],
   "source": [
    "plt.plot(train_accuracy, label = 'train')\n",
    "plt.plot(valid_accuracy, label = 'valid')\n",
    "plt.legend()\n",
    "plt.xlabel('Epoch')\n",
    "plt.ylabel('Accuracy')\n",
    "plt.savefig('accuracy.png')"
   ],
   "metadata": {
    "collapsed": false,
    "pycharm": {
     "name": "#%%\n"
    }
   }
  },
  {
   "cell_type": "code",
   "execution_count": 76,
   "outputs": [
    {
     "name": "stdout",
     "output_type": "stream",
     "text": [
      "Probability positive:\n"
     ]
    },
    {
     "data": {
      "text/plain": "0.9991523027420044"
     },
     "execution_count": 76,
     "metadata": {},
     "output_type": "execute_result"
    }
   ],
   "source": [
    "print('Probability positive:')\n",
    "predict_sentiment(model, \"This is such an awesome movie, I really love it!\")\n"
   ],
   "metadata": {
    "collapsed": false,
    "pycharm": {
     "name": "#%%\n"
    }
   }
  },
  {
   "cell_type": "code",
   "execution_count": 77,
   "outputs": [
    {
     "name": "stdout",
     "output_type": "stream",
     "text": [
      "Probability negative:\n"
     ]
    },
    {
     "data": {
      "text/plain": "0.9999780166144774"
     },
     "execution_count": 77,
     "metadata": {},
     "output_type": "execute_result"
    }
   ],
   "source": [
    "print('Probability negative:')\n",
    "1-predict_sentiment(model, \"Whenever I go to a place that doesn’t take Apple Pay (doesn’t happen too often), it’s such a drag. Between ‘contactless Covid’ habits and my getting the Apple Card, I’ve gotten so used to Apple Pay that I get seriously annoyed when a store doesn’t take it. It feels like a shock, it’s crazy how quickly it took over my shopping routine! I’ve officially been brainwashed by Apple because now it feels so inconvenient to even carry a physical card in my pocket\")"
   ],
   "metadata": {
    "collapsed": false,
    "pycharm": {
     "name": "#%%\n"
    }
   }
  },
  {
   "cell_type": "code",
   "execution_count": 78,
   "outputs": [
    {
     "name": "stdout",
     "output_type": "stream",
     "text": [
      "[0 0 0 ... 1 1 1] [1. 0. 1. ... 2. 1. 1.]\n"
     ]
    }
   ],
   "source": [
    "predict_label, real_label= predict_label(model, test_loader, DEVICE)\n",
    "print(predict_label, real_label)"
   ],
   "metadata": {
    "collapsed": false,
    "pycharm": {
     "name": "#%%\n"
    }
   }
  },
  {
   "cell_type": "code",
   "execution_count": 79,
   "outputs": [
    {
     "data": {
      "text/plain": "array([[1931,  254,  138],\n       [ 233,  495,  177],\n       [  94,  159,  201]], dtype=int64)"
     },
     "execution_count": 79,
     "metadata": {},
     "output_type": "execute_result"
    }
   ],
   "source": [
    "#confuion matrix\n",
    "\n",
    "cf_matrix = confusion_matrix(real_label, predict_label)\n",
    "cf_matrix"
   ],
   "metadata": {
    "collapsed": false,
    "pycharm": {
     "name": "#%%%\n"
    }
   }
  },
  {
   "cell_type": "code",
   "execution_count": 80,
   "outputs": [
    {
     "data": {
      "text/plain": "<Figure size 640x480 with 2 Axes>",
      "image/png": "[encoded data removed]"
     },
     "metadata": {},
     "output_type": "display_data"
    }
   ],
   "source": [
    "ax = sns.heatmap(cf_matrix, annot=True, cmap='Blues', fmt = '.20g')\n",
    "\n",
    "ax.set_title('Seaborn Confusion Matrix with labels\\n\\n');\n",
    "ax.set_xlabel('Predicted Values')\n",
    "ax.set_ylabel('Actual Values ');\n",
    "\n",
    "## Ticket labels - List must be in alphabetical order\n",
    "ax.xaxis.set_ticklabels(['2','1','0'])\n",
    "ax.yaxis.set_ticklabels(['2','1','0'])\n",
    "\n",
    "plt.savefig('confusion_matrix.png')\n",
    "## Display the visualization of the Confusion Matrix.\n",
    "plt.show()"
   ],
   "metadata": {
    "collapsed": false,
    "pycharm": {
     "name": "#%%\n"
    }
   }
  }
 ],
 "metadata": {
  "kernelspec": {
   "display_name": "Python 3 (ipykernel)",
   "language": "python",
   "name": "python3"
  },
  "language_info": {
   "codemirror_mode": {
    "name": "ipython",
    "version": 3
   },
   "file_extension": ".py",
   "mimetype": "text/x-python",
   "name": "python",
   "nbconvert_exporter": "python",
   "pygments_lexer": "ipython3",
   "version": "3.8.0"
  }
 },
 "nbformat": 4,
 "nbformat_minor": 1
}