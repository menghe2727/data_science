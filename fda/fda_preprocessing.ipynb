{
 "cells": [
  {
   "cell_type": "markdown",
   "metadata": {
    "collapsed": true,
    "pycharm": {
     "name": "#%% md\n"
    }
   },
   "source": [
    "Data set from Kaggle：https://www.kaggle.com/datasets/jsphyg/weather-dataset-rattle-package\n",
    "\n",
    "This dataset contains about 10 years of daily weather observations from many locations across Australia.\n",
    "Observations were drawn from numerous weather stations. The daily observations are available from http://www.bom.gov.au/climate/data."
   ]
  },
  {
   "cell_type": "code",
   "execution_count": null,
   "outputs": [],
   "source": [
    "import pandas as pd\n"
   ],
   "metadata": {
    "collapsed": false,
    "pycharm": {
     "name": "#%%\n"
    }
   }
  },
  {
   "cell_type": "code",
   "execution_count": 4,
   "outputs": [
    {
     "data": {
      "text/plain": "         Date Location  MinTemp  MaxTemp  Rainfall  Evaporation  Sunshine  \\\n0  2008-12-01   Albury     13.4     22.9       0.6          NaN       NaN   \n1  2008-12-02   Albury      7.4     25.1       0.0          NaN       NaN   \n2  2008-12-03   Albury     12.9     25.7       0.0          NaN       NaN   \n3  2008-12-04   Albury      9.2     28.0       0.0          NaN       NaN   \n4  2008-12-05   Albury     17.5     32.3       1.0          NaN       NaN   \n\n  WindGustDir  WindGustSpeed WindDir9am  ... Humidity9am  Humidity3pm  \\\n0           W           44.0          W  ...        71.0         22.0   \n1         WNW           44.0        NNW  ...        44.0         25.0   \n2         WSW           46.0          W  ...        38.0         30.0   \n3          NE           24.0         SE  ...        45.0         16.0   \n4           W           41.0        ENE  ...        82.0         33.0   \n\n   Pressure9am  Pressure3pm  Cloud9am  Cloud3pm  Temp9am  Temp3pm  RainToday  \\\n0       1007.7       1007.1       8.0       NaN     16.9     21.8         No   \n1       1010.6       1007.8       NaN       NaN     17.2     24.3         No   \n2       1007.6       1008.7       NaN       2.0     21.0     23.2         No   \n3       1017.6       1012.8       NaN       NaN     18.1     26.5         No   \n4       1010.8       1006.0       7.0       8.0     17.8     29.7         No   \n\n   RainTomorrow  \n0            No  \n1            No  \n2            No  \n3            No  \n4            No  \n\n[5 rows x 23 columns]",
      "text/html": "<div>\n<style scoped>\n    .dataframe tbody tr th:only-of-type {\n        vertical-align: middle;\n    }\n\n    .dataframe tbody tr th {\n        vertical-align: top;\n    }\n\n    .dataframe thead th {\n        text-align: right;\n    }\n</style>\n<table border=\"1\" class=\"dataframe\">\n  <thead>\n    <tr style=\"text-align: right;\">\n      <th></th>\n      <th>Date</th>\n      <th>Location</th>\n      <th>MinTemp</th>\n      <th>MaxTemp</th>\n      <th>Rainfall</th>\n      <th>Evaporation</th>\n      <th>Sunshine</th>\n      <th>WindGustDir</th>\n      <th>WindGustSpeed</th>\n      <th>WindDir9am</th>\n      <th>...</th>\n      <th>Humidity9am</th>\n      <th>Humidity3pm</th>\n      <th>Pressure9am</th>\n      <th>Pressure3pm</th>\n      <th>Cloud9am</th>\n      <th>Cloud3pm</th>\n      <th>Temp9am</th>\n      <th>Temp3pm</th>\n      <th>RainToday</th>\n      <th>RainTomorrow</th>\n    </tr>\n  </thead>\n  <tbody>\n    <tr>\n      <th>0</th>\n      <td>2008-12-01</td>\n      <td>Albury</td>\n      <td>13.4</td>\n      <td>22.9</td>\n      <td>0.6</td>\n      <td>NaN</td>\n      <td>NaN</td>\n      <td>W</td>\n      <td>44.0</td>\n      <td>W</td>\n      <td>...</td>\n      <td>71.0</td>\n      <td>22.0</td>\n      <td>1007.7</td>\n      <td>1007.1</td>\n      <td>8.0</td>\n      <td>NaN</td>\n      <td>16.9</td>\n      <td>21.8</td>\n      <td>No</td>\n      <td>No</td>\n    </tr>\n    <tr>\n      <th>1</th>\n      <td>2008-12-02</td>\n      <td>Albury</td>\n      <td>7.4</td>\n      <td>25.1</td>\n      <td>0.0</td>\n      <td>NaN</td>\n      <td>NaN</td>\n      <td>WNW</td>\n      <td>44.0</td>\n      <td>NNW</td>\n      <td>...</td>\n      <td>44.0</td>\n      <td>25.0</td>\n      <td>1010.6</td>\n      <td>1007.8</td>\n      <td>NaN</td>\n      <td>NaN</td>\n      <td>17.2</td>\n      <td>24.3</td>\n      <td>No</td>\n      <td>No</td>\n    </tr>\n    <tr>\n      <th>2</th>\n      <td>2008-12-03</td>\n      <td>Albury</td>\n      <td>12.9</td>\n      <td>25.7</td>\n      <td>0.0</td>\n      <td>NaN</td>\n      <td>NaN</td>\n      <td>WSW</td>\n      <td>46.0</td>\n      <td>W</td>\n      <td>...</td>\n      <td>38.0</td>\n      <td>30.0</td>\n      <td>1007.6</td>\n      <td>1008.7</td>\n      <td>NaN</td>\n      <td>2.0</td>\n      <td>21.0</td>\n      <td>23.2</td>\n      <td>No</td>\n      <td>No</td>\n    </tr>\n    <tr>\n      <th>3</th>\n      <td>2008-12-04</td>\n      <td>Albury</td>\n      <td>9.2</td>\n      <td>28.0</td>\n      <td>0.0</td>\n      <td>NaN</td>\n      <td>NaN</td>\n      <td>NE</td>\n      <td>24.0</td>\n      <td>SE</td>\n      <td>...</td>\n      <td>45.0</td>\n      <td>16.0</td>\n      <td>1017.6</td>\n      <td>1012.8</td>\n      <td>NaN</td>\n      <td>NaN</td>\n      <td>18.1</td>\n      <td>26.5</td>\n      <td>No</td>\n      <td>No</td>\n    </tr>\n    <tr>\n      <th>4</th>\n      <td>2008-12-05</td>\n      <td>Albury</td>\n      <td>17.5</td>\n      <td>32.3</td>\n      <td>1.0</td>\n      <td>NaN</td>\n      <td>NaN</td>\n      <td>W</td>\n      <td>41.0</td>\n      <td>ENE</td>\n      <td>...</td>\n      <td>82.0</td>\n      <td>33.0</td>\n      <td>1010.8</td>\n      <td>1006.0</td>\n      <td>7.0</td>\n      <td>8.0</td>\n      <td>17.8</td>\n      <td>29.7</td>\n      <td>No</td>\n      <td>No</td>\n    </tr>\n  </tbody>\n</table>\n<p>5 rows × 23 columns</p>\n</div>"
     },
     "execution_count": 4,
     "metadata": {},
     "output_type": "execute_result"
    }
   ],
   "source": [
    "#read the data\n",
    "weather = pd.read_csv('weatherAUS.csv')\n",
    "weather.head()\n"
   ],
   "metadata": {
    "collapsed": false,
    "pycharm": {
     "name": "#%%\n"
    }
   }
  },
  {
   "cell_type": "code",
   "execution_count": 16,
   "outputs": [
    {
     "data": {
      "text/plain": "Date                 0\nLocation             0\nMinTemp           1485\nMaxTemp           1261\nRainfall          3261\nEvaporation      62790\nSunshine         69835\nWindGustDir      10326\nWindGustSpeed    10263\nWindDir9am       10566\nWindDir3pm        4228\nWindSpeed9am      1767\nWindSpeed3pm      3062\nHumidity9am       2654\nHumidity3pm       4507\nPressure9am      15065\nPressure3pm      15028\nCloud9am         55888\nCloud3pm         59358\nTemp9am           1767\nTemp3pm           3609\nRainToday         3261\nRainTomorrow      3267\ndtype: int64"
     },
     "execution_count": 16,
     "metadata": {},
     "output_type": "execute_result"
    }
   ],
   "source": [
    "# look at null data\n",
    "weather.isnull().sum()"
   ],
   "metadata": {
    "collapsed": false,
    "pycharm": {
     "name": "#%%\n"
    }
   }
  },
  {
   "cell_type": "code",
   "execution_count": 69,
   "outputs": [
    {
     "data": {
      "text/plain": "         Date Location  MinTemp  MaxTemp  Rainfall\n0  2008-12-01   Albury     13.4     22.9       0.6\n1  2008-12-02   Albury      7.4     25.1       0.0\n2  2008-12-03   Albury     12.9     25.7       0.0\n3  2008-12-04   Albury      9.2     28.0       0.0\n4  2008-12-05   Albury     17.5     32.3       1.0",
      "text/html": "<div>\n<style scoped>\n    .dataframe tbody tr th:only-of-type {\n        vertical-align: middle;\n    }\n\n    .dataframe tbody tr th {\n        vertical-align: top;\n    }\n\n    .dataframe thead th {\n        text-align: right;\n    }\n</style>\n<table border=\"1\" class=\"dataframe\">\n  <thead>\n    <tr style=\"text-align: right;\">\n      <th></th>\n      <th>Date</th>\n      <th>Location</th>\n      <th>MinTemp</th>\n      <th>MaxTemp</th>\n      <th>Rainfall</th>\n    </tr>\n  </thead>\n  <tbody>\n    <tr>\n      <th>0</th>\n      <td>2008-12-01</td>\n      <td>Albury</td>\n      <td>13.4</td>\n      <td>22.9</td>\n      <td>0.6</td>\n    </tr>\n    <tr>\n      <th>1</th>\n      <td>2008-12-02</td>\n      <td>Albury</td>\n      <td>7.4</td>\n      <td>25.1</td>\n      <td>0.0</td>\n    </tr>\n    <tr>\n      <th>2</th>\n      <td>2008-12-03</td>\n      <td>Albury</td>\n      <td>12.9</td>\n      <td>25.7</td>\n      <td>0.0</td>\n    </tr>\n    <tr>\n      <th>3</th>\n      <td>2008-12-04</td>\n      <td>Albury</td>\n      <td>9.2</td>\n      <td>28.0</td>\n      <td>0.0</td>\n    </tr>\n    <tr>\n      <th>4</th>\n      <td>2008-12-05</td>\n      <td>Albury</td>\n      <td>17.5</td>\n      <td>32.3</td>\n      <td>1.0</td>\n    </tr>\n  </tbody>\n</table>\n</div>"
     },
     "execution_count": 69,
     "metadata": {},
     "output_type": "execute_result"
    }
   ],
   "source": [
    "weather_new = weather.iloc[:,0:5]\n",
    "weather_new.head()\n"
   ],
   "metadata": {
    "collapsed": false,
    "pycharm": {
     "name": "#%%\n"
    }
   }
  },
  {
   "cell_type": "code",
   "execution_count": 83,
   "outputs": [
    {
     "data": {
      "text/plain": "Date           object\nLocation       object\nMinTemp       float64\nMaxTemp       float64\nRainfall      float64\nDaily_Temp    float64\ndtype: object"
     },
     "execution_count": 83,
     "metadata": {},
     "output_type": "execute_result"
    }
   ],
   "source": [
    "weather_new.dtypes"
   ],
   "metadata": {
    "collapsed": false,
    "pycharm": {
     "name": "#%%\n"
    }
   }
  },
  {
   "cell_type": "code",
   "execution_count": 71,
   "outputs": [],
   "source": [
    "weather_new= weather_new.dropna(axis = 'index')"
   ],
   "metadata": {
    "collapsed": false,
    "pycharm": {
     "name": "#%%\n"
    }
   }
  },
  {
   "cell_type": "code",
   "execution_count": 73,
   "outputs": [],
   "source": [
    "#we find some station only have the 5 year weather record. so we remove these station\n",
    "weather_new.groupby('Location').count()['Date']\n",
    "five_years_weather = weather_new.groupby('Location').count()['Date'][weather_new.groupby('Location').count()['Date']<2000]"
   ],
   "metadata": {
    "collapsed": false,
    "pycharm": {
     "name": "#%%\n"
    }
   }
  },
  {
   "cell_type": "code",
   "execution_count": 74,
   "outputs": [
    {
     "data": {
      "text/plain": "Location\nAdelaide            3089\nAlbany              2928\nAlbury              3002\nAliceSprings        3029\nBadgerysCreek       2919\nBallarat            3027\nBendigo             3030\nBrisbane            3145\nCairns              2987\nCanberra            3411\nCobar               2984\nCoffsHarbour        2944\nDartmoor            2937\nDarwin              3191\nGoldCoast           2975\nHobart              3187\nLaunceston          3022\nMelbourne           2434\nMelbourneAirport    3009\nMildura             3007\nMoree               2852\nMountGambier        3027\nMountGinini         2857\nNewcastle           2565\nNorahHead           2917\nNorfolkIsland       2962\nNuriootpa           2984\nPearceRAAF          2731\nPenrith             2953\nPerth               3192\nPerthAirport        3009\nPortland            2986\nRichmond            2939\nSale                2998\nSalmonGums          2943\nSydney              3333\nSydneyAirport       3005\nTownsville          3031\nTuggeranong         2994\nWaggaWagga          2976\nWalpole             2796\nWatsonia            2994\nWilliamtown         2548\nWitchcliffe         2943\nWollongong          2974\nWoomera             2984\nName: Date, dtype: int64"
     },
     "execution_count": 74,
     "metadata": {},
     "output_type": "execute_result"
    }
   ],
   "source": [
    "five_years_weather.index\n",
    "indexStation = weather_new[ (weather_new['Location'] == 'Katherine') | (weather_new['Location'] == 'Nhil') | (weather_new['Location'] == 'Uluru') ].index\n",
    "weather_new = weather_new.drop(indexStation)\n",
    "weather_new.groupby('Location').count()['Date']\n"
   ],
   "metadata": {
    "collapsed": false,
    "pycharm": {
     "name": "#%%\n"
    }
   }
  },
  {
   "cell_type": "code",
   "execution_count": 75,
   "outputs": [],
   "source": [
    "#calcualte the daily average temperature\n",
    "weather_new['Daily_Temp'] = (weather_new['MinTemp']+weather_new['MaxTemp'])/2"
   ],
   "metadata": {
    "collapsed": false,
    "pycharm": {
     "name": "#%%\n"
    }
   }
  },
  {
   "cell_type": "code",
   "execution_count": 84,
   "outputs": [],
   "source": [
    "#change the type of Date\n",
    "weather_new['Date']= pd.to_datetime(weather_new['Date'])"
   ],
   "metadata": {
    "collapsed": false,
    "pycharm": {
     "name": "#%%\n"
    }
   }
  },
  {
   "cell_type": "code",
   "execution_count": 99,
   "outputs": [
    {
     "data": {
      "text/plain": "Date          datetime64[ns]\nLocation              object\nMinTemp              float64\nMaxTemp              float64\nRainfall             float64\nDaily_Temp           float64\nYear                   int64\nMonth                  int64\nDay                    int64\ndtype: object"
     },
     "execution_count": 99,
     "metadata": {},
     "output_type": "execute_result"
    }
   ],
   "source": [
    "weather_new.dtypes"
   ],
   "metadata": {
    "collapsed": false,
    "pycharm": {
     "name": "#%%\n"
    }
   }
  },
  {
   "cell_type": "code",
   "execution_count": 97,
   "outputs": [],
   "source": [
    "#separate Date into year, month, day\n",
    "weather_new['Year'] = weather_new['Date'].dt.year\n",
    "weather_new['Month'] = weather_new['Date'].dt.month\n",
    "weather_new['Day'] = weather_new['Date'].dt.day"
   ],
   "metadata": {
    "collapsed": false,
    "pycharm": {
     "name": "#%%\n"
    }
   }
  },
  {
   "cell_type": "code",
   "execution_count": 100,
   "outputs": [
    {
     "data": {
      "text/plain": "        Date Location  MinTemp  MaxTemp  Rainfall  Daily_Temp  Year  Month  \\\n0 2008-12-01   Albury     13.4     22.9       0.6       18.15  2008     12   \n1 2008-12-02   Albury      7.4     25.1       0.0       16.25  2008     12   \n2 2008-12-03   Albury     12.9     25.7       0.0       19.30  2008     12   \n3 2008-12-04   Albury      9.2     28.0       0.0       18.60  2008     12   \n4 2008-12-05   Albury     17.5     32.3       1.0       24.90  2008     12   \n\n   Day  \n0    1  \n1    2  \n2    3  \n3    4  \n4    5  ",
      "text/html": "<div>\n<style scoped>\n    .dataframe tbody tr th:only-of-type {\n        vertical-align: middle;\n    }\n\n    .dataframe tbody tr th {\n        vertical-align: top;\n    }\n\n    .dataframe thead th {\n        text-align: right;\n    }\n</style>\n<table border=\"1\" class=\"dataframe\">\n  <thead>\n    <tr style=\"text-align: right;\">\n      <th></th>\n      <th>Date</th>\n      <th>Location</th>\n      <th>MinTemp</th>\n      <th>MaxTemp</th>\n      <th>Rainfall</th>\n      <th>Daily_Temp</th>\n      <th>Year</th>\n      <th>Month</th>\n      <th>Day</th>\n    </tr>\n  </thead>\n  <tbody>\n    <tr>\n      <th>0</th>\n      <td>2008-12-01</td>\n      <td>Albury</td>\n      <td>13.4</td>\n      <td>22.9</td>\n      <td>0.6</td>\n      <td>18.15</td>\n      <td>2008</td>\n      <td>12</td>\n      <td>1</td>\n    </tr>\n    <tr>\n      <th>1</th>\n      <td>2008-12-02</td>\n      <td>Albury</td>\n      <td>7.4</td>\n      <td>25.1</td>\n      <td>0.0</td>\n      <td>16.25</td>\n      <td>2008</td>\n      <td>12</td>\n      <td>2</td>\n    </tr>\n    <tr>\n      <th>2</th>\n      <td>2008-12-03</td>\n      <td>Albury</td>\n      <td>12.9</td>\n      <td>25.7</td>\n      <td>0.0</td>\n      <td>19.30</td>\n      <td>2008</td>\n      <td>12</td>\n      <td>3</td>\n    </tr>\n    <tr>\n      <th>3</th>\n      <td>2008-12-04</td>\n      <td>Albury</td>\n      <td>9.2</td>\n      <td>28.0</td>\n      <td>0.0</td>\n      <td>18.60</td>\n      <td>2008</td>\n      <td>12</td>\n      <td>4</td>\n    </tr>\n    <tr>\n      <th>4</th>\n      <td>2008-12-05</td>\n      <td>Albury</td>\n      <td>17.5</td>\n      <td>32.3</td>\n      <td>1.0</td>\n      <td>24.90</td>\n      <td>2008</td>\n      <td>12</td>\n      <td>5</td>\n    </tr>\n  </tbody>\n</table>\n</div>"
     },
     "execution_count": 100,
     "metadata": {},
     "output_type": "execute_result"
    }
   ],
   "source": [
    "#Look at data\n",
    "weather_new.head()"
   ],
   "metadata": {
    "collapsed": false,
    "pycharm": {
     "name": "#%%\n"
    }
   }
  },
  {
   "cell_type": "code",
   "execution_count": null,
   "outputs": [],
   "source": [
    "weather_new.describe()"
   ],
   "metadata": {
    "collapsed": false,
    "pycharm": {
     "name": "#%%\n"
    }
   }
  },
  {
   "cell_type": "code",
   "execution_count": 86,
   "outputs": [
    {
     "data": {
      "text/plain": "Date          3436\nLocation        46\nMinTemp        387\nMaxTemp        503\nRainfall       672\nDaily_Temp    1491\ndtype: int64"
     },
     "execution_count": 86,
     "metadata": {},
     "output_type": "execute_result"
    }
   ],
   "source": [
    "#how many station\n",
    "weather_new.nunique()"
   ],
   "metadata": {
    "collapsed": false,
    "pycharm": {
     "name": "#%%\n"
    }
   }
  },
  {
   "cell_type": "code",
   "execution_count": 113,
   "outputs": [
    {
     "name": "stderr",
     "output_type": "stream",
     "text": [
      "D:\\temp\\ipykernel_107276\\1147656146.py:2: FutureWarning: The default value of numeric_only in DataFrameGroupBy.sum is deprecated. In a future version, numeric_only will default to False. Either specify numeric_only or select only columns which should be valid for the function.\n",
      "  weather_average_rainfall = weather_new.groupby(['Location', 'Year']).sum()['Rainfall']\n"
     ]
    },
    {
     "data": {
      "text/plain": "Location\nAdelaide             483.880000\nAlbany               665.520000\nAlbury               576.320000\nAliceSprings         267.180000\nBadgerysCreek        711.555556\nBallarat             526.380000\nBendigo              491.300000\nBrisbane             990.720000\nCairns              1715.720000\nCanberra             541.200000\nCobar                373.666667\nCoffsHarbour        1657.555556\nDartmoor             701.666667\nDarwin              1622.200000\nGoldCoast           1123.280000\nHobart               510.660000\nLaunceston           607.700000\nMelbourne            455.360000\nMelbourneAirport     485.444444\nMildura              315.755556\nMoree                516.955556\nMountGambier         631.360000\nMountGinini          934.580000\nNewcastle            760.050000\nNorahHead           1097.822222\nNorfolkIsland       1029.888889\nNuriootpa            458.288889\nPearceRAAF           506.211111\nPenrith              635.780000\nPerth                608.680000\nPerthAirport         588.977778\nPortland             841.377778\nRichmond             700.800000\nSale                 502.166667\nSalmonGums           337.288889\nSydney              1107.300000\nSydneyAirport       1004.977778\nTownsville          1057.180000\nTuggeranong          645.480000\nWaggaWagga           565.422222\nWalpole              904.133333\nWatsonia             619.711111\nWilliamtown         1018.077778\nWitchcliffe          949.133333\nWollongong          1070.400000\nWoomera              162.977778\nName: Rainfall, dtype: float64"
     },
     "execution_count": 113,
     "metadata": {},
     "output_type": "execute_result"
    }
   ],
   "source": [
    "#calculate the average rainfall for each station\n",
    "weather_average_rainfall = weather_new.groupby(['Location', 'Year']).sum()['Rainfall']\n",
    "weather_average_rainfall = weather_average_rainfall.groupby(['Location']).mean()\n",
    "weather_average_rainfall\n",
    "\n"
   ],
   "metadata": {
    "collapsed": false,
    "pycharm": {
     "name": "#%%\n"
    }
   }
  },
  {
   "cell_type": "code",
   "execution_count": 104,
   "outputs": [
    {
     "name": "stderr",
     "output_type": "stream",
     "text": [
      "D:\\temp\\ipykernel_107276\\2504045342.py:2: FutureWarning: The default value of numeric_only in DataFrameGroupBy.mean is deprecated. In a future version, numeric_only will default to False. Either specify numeric_only or select only columns which should be valid for the function.\n",
      "  weather_average_temp = weather_new.groupby(['Location', 'Month']).mean()['Daily_Temp']\n"
     ]
    },
    {
     "data": {
      "text/plain": "Location  Month\nAdelaide  1        24.500184\n          2        23.930357\n          3        21.495185\n          4        18.110593\n          5        14.936293\n                     ...    \nWoomera   8        13.635976\n          9        16.985000\n          10       20.744556\n          11       24.129583\n          12       25.969952\nName: Daily_Temp, Length: 552, dtype: float64"
     },
     "execution_count": 104,
     "metadata": {},
     "output_type": "execute_result"
    }
   ],
   "source": [
    "#calculate the monthly average temperature for each station\n",
    "weather_average_temp = weather_new.groupby(['Location', 'Month']).mean()['Daily_Temp']\n",
    "weather_average_temp"
   ],
   "metadata": {
    "collapsed": false,
    "pycharm": {
     "name": "#%%\n"
    }
   }
  },
  {
   "cell_type": "code",
   "execution_count": 114,
   "outputs": [],
   "source": [
    "#write data into two files\n",
    "weather_average_rainfall.to_csv('average_rainfall.csv', index=None)\n",
    "weather_average_temp.to_csv('average_temp.csv', index=None)\n",
    "\n"
   ],
   "metadata": {
    "collapsed": false,
    "pycharm": {
     "name": "#%%\n"
    }
   }
  }
 ],
 "metadata": {
  "kernelspec": {
   "display_name": "Python 3",
   "language": "python",
   "name": "python3"
  },
  "language_info": {
   "codemirror_mode": {
    "name": "ipython",
    "version": 2
   },
   "file_extension": ".py",
   "mimetype": "text/x-python",
   "name": "python",
   "nbconvert_exporter": "python",
   "pygments_lexer": "ipython2",
   "version": "2.7.6"
  }
 },
 "nbformat": 4,
 "nbformat_minor": 0
}