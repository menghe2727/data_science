{
 "cells": [
  {
   "cell_type": "markdown",
   "metadata": {
    "collapsed": true,
    "pycharm": {
     "name": "#%% md\n"
    }
   },
   "source": [
    "# Goal\n",
    "A/B tests play a huge role in website optimization. Analyzing A/B tests data is a very important\n",
    "data scientist responsibility. Especially, data scientists have to make sure that results are\n",
    "reliable, trustworthy, and conclusions can be drawn.\n",
    "\n",
    "Furthermore, companies often run tens, if not hundreds, of A/B tests at the same time. Manually\n",
    "analyzing all of them would require lot of time and people. Therefore, it is common practice to\n",
    "look at the typical A/B test analysis steps and try to automate as much as possible. This frees\n",
    "up time for the data scientists to work on more high level topics.\n",
    "\n",
    "Analyze results from an A/B test. Also, design an algorithm to automate some steps.\n",
    "\n",
    "# Challenge Description\n",
    "\n",
    "\n",
    "\n",
    "Company XYZ is a worldwide e-commerce site with localized versions of the site.\n",
    "\n",
    "A data scientist at XYZ noticed that Spain-based users have a much higher conversion rate than\n",
    "any other Spanish-speaking country. She therefore went and talked to the international team in\n",
    "charge of Spain And LatAm to see if they had any ideas about why that was happening.\n",
    "\n",
    "Spain and LatAm country manager suggested that one reason could be translation. All Spanishspeaking countries had the same translation of the site which was written by a Spaniard. They\n",
    "agreed to try a test where each country would have its one translation written by a local. That is,\n",
    "Argentinian users would see a translation written by an Argentinian, Mexican users by a Mexican\n",
    "and so on. Obviously, nothing would change for users from Spain.\n",
    "\n",
    "After they run the test however, they are really surprised cause the test is negative. I.e., it\n",
    "appears that the non-localized translation was doing better!\n",
    "\n",
    "Asked to:\n",
    "\n",
    "* Confirm that the test is actually negative. That is, it appears that the old version of the\n",
    "site with just one translation across Spain and LatAm performs better\n",
    "* Explain why that might be happening. Are the localized translations really worse?\n",
    "* If you identified what was wrong, design an algorithm that would return FALSE if the\n",
    "same problem is happening in the future and TRUE if everything is good and the results\n",
    "can be trusted.\n",
    "\n",
    "# Data\n",
    "\n",
    "## Columns:\n",
    "### Test Table\n",
    "* user_id : the id of the user. Unique by user. Can be joined to user id in the other table.\n",
    "For each user, we just check whether conversion happens the first time they land on the\n",
    "site since the test started.\n",
    "* date : when they came to the site for the first time since the test started\n",
    "* source : marketing channel: Ads, SEO, Direct . Direct means everything except for ads\n",
    "and SEO. Such as directly typing site URL on the browser, downloading the app w/o\n",
    "coming from SEO or Ads, referral friend, etc.\n",
    "* device : device used by the user. It can be mobile or web\n",
    "* browser_language : in browser or app settings, the language chosen by the user. It can\n",
    "be EN, ES, Other (Other means any language except for English and Spanish)\n",
    "* ads_channel : if marketing channel is ads, this is the site where the ad was displayed. It\n",
    "can be: Google, Facebook, Bing, Yahoo ,Other. If the user didn't come via an ad, this\n",
    "field is NA\n",
    "* browser : user browser. It can be: IE, Chrome, Android_App, FireFox, Iphone_App,\n",
    "Safari, Opera\n",
    "* conversion : whether the user converted (1) or not (0). This is our label. A test is\n",
    "considered successful if it increases the proportion of users who convert.\n",
    "* test : users are randomly split into test (1) and control (0). Test users see the new\n",
    "translation and control the old one. For Spain-based users, this is obviously always 0\n",
    "since there is no change there.\n",
    "\n",
    "### User Table`\n",
    "\n",
    "* user_id : the id of the user. It can be joined to user id in the other table\n",
    "* sex : user sex: Male or Female\n",
    "* age : user age (self-reported)\n",
    "* country : user country based on ip address\n"
   ]
  },
  {
   "cell_type": "code",
   "execution_count": 216,
   "outputs": [],
   "source": [
    "# read the data into python\n",
    "import pandas as pd\n",
    "import numpy as np\n",
    "test_table = pd.read_csv('test_table.csv')\n",
    "user_table = pd.read_csv('user_table.csv')"
   ],
   "metadata": {
    "collapsed": false,
    "pycharm": {
     "name": "#%%\n"
    }
   }
  },
  {
   "cell_type": "code",
   "execution_count": 218,
   "outputs": [
    {
     "data": {
      "text/plain": "user_id              int64\ndate                object\nsource              object\ndevice              object\nbrowser_language    object\nads_channel         object\nbrowser             object\nconversion           int64\ntest                 int64\ndtype: object"
     },
     "execution_count": 218,
     "metadata": {},
     "output_type": "execute_result"
    }
   ],
   "source": [
    "#look at the data type\n",
    "test_table.dtypes"
   ],
   "metadata": {
    "collapsed": false,
    "pycharm": {
     "name": "#%%\n"
    }
   }
  },
  {
   "cell_type": "code",
   "execution_count": 220,
   "outputs": [
    {
     "data": {
      "text/plain": "user_id     int64\nsex        object\nage         int64\ncountry    object\ndtype: object"
     },
     "execution_count": 220,
     "metadata": {},
     "output_type": "execute_result"
    }
   ],
   "source": [
    "user_table.dtypes"
   ],
   "metadata": {
    "collapsed": false,
    "pycharm": {
     "name": "#%%\n"
    }
   }
  },
  {
   "cell_type": "code",
   "execution_count": 222,
   "outputs": [
    {
     "data": {
      "text/plain": "   user_id        date  source  device browser_language ads_channel  \\\n0   315281   12/3/2015  Direct     Web               ES         NaN   \n1   497851   12/4/2015     Ads     Web               ES      Google   \n2   848402   12/4/2015     Ads     Web               ES    Facebook   \n3   290051   12/3/2015     Ads  Mobile            Other    Facebook   \n4   548435  11/30/2015     Ads     Web               ES      Google   \n\n       browser  conversion  test  \n0           IE           1     0  \n1           IE           0     1  \n2       Chrome           0     0  \n3  Android_App           0     1  \n4      FireFox           0     1  ",
      "text/html": "<div>\n<style scoped>\n    .dataframe tbody tr th:only-of-type {\n        vertical-align: middle;\n    }\n\n    .dataframe tbody tr th {\n        vertical-align: top;\n    }\n\n    .dataframe thead th {\n        text-align: right;\n    }\n</style>\n<table border=\"1\" class=\"dataframe\">\n  <thead>\n    <tr style=\"text-align: right;\">\n      <th></th>\n      <th>user_id</th>\n      <th>date</th>\n      <th>source</th>\n      <th>device</th>\n      <th>browser_language</th>\n      <th>ads_channel</th>\n      <th>browser</th>\n      <th>conversion</th>\n      <th>test</th>\n    </tr>\n  </thead>\n  <tbody>\n    <tr>\n      <th>0</th>\n      <td>315281</td>\n      <td>12/3/2015</td>\n      <td>Direct</td>\n      <td>Web</td>\n      <td>ES</td>\n      <td>NaN</td>\n      <td>IE</td>\n      <td>1</td>\n      <td>0</td>\n    </tr>\n    <tr>\n      <th>1</th>\n      <td>497851</td>\n      <td>12/4/2015</td>\n      <td>Ads</td>\n      <td>Web</td>\n      <td>ES</td>\n      <td>Google</td>\n      <td>IE</td>\n      <td>0</td>\n      <td>1</td>\n    </tr>\n    <tr>\n      <th>2</th>\n      <td>848402</td>\n      <td>12/4/2015</td>\n      <td>Ads</td>\n      <td>Web</td>\n      <td>ES</td>\n      <td>Facebook</td>\n      <td>Chrome</td>\n      <td>0</td>\n      <td>0</td>\n    </tr>\n    <tr>\n      <th>3</th>\n      <td>290051</td>\n      <td>12/3/2015</td>\n      <td>Ads</td>\n      <td>Mobile</td>\n      <td>Other</td>\n      <td>Facebook</td>\n      <td>Android_App</td>\n      <td>0</td>\n      <td>1</td>\n    </tr>\n    <tr>\n      <th>4</th>\n      <td>548435</td>\n      <td>11/30/2015</td>\n      <td>Ads</td>\n      <td>Web</td>\n      <td>ES</td>\n      <td>Google</td>\n      <td>FireFox</td>\n      <td>0</td>\n      <td>1</td>\n    </tr>\n  </tbody>\n</table>\n</div>"
     },
     "execution_count": 222,
     "metadata": {},
     "output_type": "execute_result"
    }
   ],
   "source": [
    "# look the several row of data\n",
    "test_table.head()"
   ],
   "metadata": {
    "collapsed": false,
    "pycharm": {
     "name": "#%%\n"
    }
   }
  },
  {
   "cell_type": "code",
   "execution_count": 224,
   "outputs": [
    {
     "data": {
      "text/plain": "   user_id sex  age    country\n0   765821   M   20     Mexico\n1   343561   F   27  Nicaragua\n2   118744   M   23   Colombia\n3   987753   F   27  Venezuela\n4   554597   F   20      Spain",
      "text/html": "<div>\n<style scoped>\n    .dataframe tbody tr th:only-of-type {\n        vertical-align: middle;\n    }\n\n    .dataframe tbody tr th {\n        vertical-align: top;\n    }\n\n    .dataframe thead th {\n        text-align: right;\n    }\n</style>\n<table border=\"1\" class=\"dataframe\">\n  <thead>\n    <tr style=\"text-align: right;\">\n      <th></th>\n      <th>user_id</th>\n      <th>sex</th>\n      <th>age</th>\n      <th>country</th>\n    </tr>\n  </thead>\n  <tbody>\n    <tr>\n      <th>0</th>\n      <td>765821</td>\n      <td>M</td>\n      <td>20</td>\n      <td>Mexico</td>\n    </tr>\n    <tr>\n      <th>1</th>\n      <td>343561</td>\n      <td>F</td>\n      <td>27</td>\n      <td>Nicaragua</td>\n    </tr>\n    <tr>\n      <th>2</th>\n      <td>118744</td>\n      <td>M</td>\n      <td>23</td>\n      <td>Colombia</td>\n    </tr>\n    <tr>\n      <th>3</th>\n      <td>987753</td>\n      <td>F</td>\n      <td>27</td>\n      <td>Venezuela</td>\n    </tr>\n    <tr>\n      <th>4</th>\n      <td>554597</td>\n      <td>F</td>\n      <td>20</td>\n      <td>Spain</td>\n    </tr>\n  </tbody>\n</table>\n</div>"
     },
     "execution_count": 224,
     "metadata": {},
     "output_type": "execute_result"
    }
   ],
   "source": [
    "user_table.head()"
   ],
   "metadata": {
    "collapsed": false,
    "pycharm": {
     "name": "#%%\n"
    }
   }
  },
  {
   "cell_type": "code",
   "execution_count": 226,
   "outputs": [
    {
     "data": {
      "text/plain": "              user_id     conversion           test\ncount   453321.000000  453321.000000  453321.000000\nmean    499937.514728       0.049579       0.476446\nstd     288665.193436       0.217073       0.499445\nmin          1.000000       0.000000       0.000000\n25%     249816.000000       0.000000       0.000000\n50%     500019.000000       0.000000       0.000000\n75%     749522.000000       0.000000       1.000000\nmax    1000000.000000       1.000000       1.000000",
      "text/html": "<div>\n<style scoped>\n    .dataframe tbody tr th:only-of-type {\n        vertical-align: middle;\n    }\n\n    .dataframe tbody tr th {\n        vertical-align: top;\n    }\n\n    .dataframe thead th {\n        text-align: right;\n    }\n</style>\n<table border=\"1\" class=\"dataframe\">\n  <thead>\n    <tr style=\"text-align: right;\">\n      <th></th>\n      <th>user_id</th>\n      <th>conversion</th>\n      <th>test</th>\n    </tr>\n  </thead>\n  <tbody>\n    <tr>\n      <th>count</th>\n      <td>453321.000000</td>\n      <td>453321.000000</td>\n      <td>453321.000000</td>\n    </tr>\n    <tr>\n      <th>mean</th>\n      <td>499937.514728</td>\n      <td>0.049579</td>\n      <td>0.476446</td>\n    </tr>\n    <tr>\n      <th>std</th>\n      <td>288665.193436</td>\n      <td>0.217073</td>\n      <td>0.499445</td>\n    </tr>\n    <tr>\n      <th>min</th>\n      <td>1.000000</td>\n      <td>0.000000</td>\n      <td>0.000000</td>\n    </tr>\n    <tr>\n      <th>25%</th>\n      <td>249816.000000</td>\n      <td>0.000000</td>\n      <td>0.000000</td>\n    </tr>\n    <tr>\n      <th>50%</th>\n      <td>500019.000000</td>\n      <td>0.000000</td>\n      <td>0.000000</td>\n    </tr>\n    <tr>\n      <th>75%</th>\n      <td>749522.000000</td>\n      <td>0.000000</td>\n      <td>1.000000</td>\n    </tr>\n    <tr>\n      <th>max</th>\n      <td>1000000.000000</td>\n      <td>1.000000</td>\n      <td>1.000000</td>\n    </tr>\n  </tbody>\n</table>\n</div>"
     },
     "execution_count": 226,
     "metadata": {},
     "output_type": "execute_result"
    }
   ],
   "source": [
    "test_table.describe()"
   ],
   "metadata": {
    "collapsed": false,
    "pycharm": {
     "name": "#%%\n"
    }
   }
  },
  {
   "cell_type": "code",
   "execution_count": 228,
   "outputs": [
    {
     "data": {
      "text/plain": "<bound method DataFrame.drop_duplicates of         user_id        date  source  device browser_language ads_channel  \\\n0        315281   12/3/2015  Direct     Web               ES         NaN   \n1        497851   12/4/2015     Ads     Web               ES      Google   \n2        848402   12/4/2015     Ads     Web               ES    Facebook   \n3        290051   12/3/2015     Ads  Mobile            Other    Facebook   \n4        548435  11/30/2015     Ads     Web               ES      Google   \n...         ...         ...     ...     ...              ...         ...   \n453316   425010   12/4/2015     SEO     Web               ES         NaN   \n453317   826793   12/1/2015     SEO  Mobile               ES         NaN   \n453318   514870   12/2/2015     Ads  Mobile               ES        Bing   \n453319   785224   12/4/2015     SEO  Mobile               ES         NaN   \n453320   241662   12/4/2015     Ads     Web               ES    Facebook   \n\n            browser  conversion  test  \n0                IE           1     0  \n1                IE           0     1  \n2            Chrome           0     0  \n3       Android_App           0     1  \n4           FireFox           0     1  \n...             ...         ...   ...  \n453316      FireFox           0     0  \n453317  Android_App           0     1  \n453318  Android_App           0     0  \n453319  Android_App           0     1  \n453320       Chrome           0     1  \n\n[453321 rows x 9 columns]>"
     },
     "execution_count": 228,
     "metadata": {},
     "output_type": "execute_result"
    }
   ],
   "source": [
    "test_table.drop_duplicates"
   ],
   "metadata": {
    "collapsed": false,
    "pycharm": {
     "name": "#%%\n"
    }
   }
  },
  {
   "cell_type": "code",
   "execution_count": 230,
   "outputs": [
    {
     "data": {
      "text/plain": "              user_id            age\ncount   452867.000000  452867.000000\nmean    499944.805166      27.130740\nstd     288676.264784       6.776678\nmin          1.000000      18.000000\n25%     249819.000000      22.000000\n50%     500019.000000      26.000000\n75%     749543.000000      31.000000\nmax    1000000.000000      70.000000",
      "text/html": "<div>\n<style scoped>\n    .dataframe tbody tr th:only-of-type {\n        vertical-align: middle;\n    }\n\n    .dataframe tbody tr th {\n        vertical-align: top;\n    }\n\n    .dataframe thead th {\n        text-align: right;\n    }\n</style>\n<table border=\"1\" class=\"dataframe\">\n  <thead>\n    <tr style=\"text-align: right;\">\n      <th></th>\n      <th>user_id</th>\n      <th>age</th>\n    </tr>\n  </thead>\n  <tbody>\n    <tr>\n      <th>count</th>\n      <td>452867.000000</td>\n      <td>452867.000000</td>\n    </tr>\n    <tr>\n      <th>mean</th>\n      <td>499944.805166</td>\n      <td>27.130740</td>\n    </tr>\n    <tr>\n      <th>std</th>\n      <td>288676.264784</td>\n      <td>6.776678</td>\n    </tr>\n    <tr>\n      <th>min</th>\n      <td>1.000000</td>\n      <td>18.000000</td>\n    </tr>\n    <tr>\n      <th>25%</th>\n      <td>249819.000000</td>\n      <td>22.000000</td>\n    </tr>\n    <tr>\n      <th>50%</th>\n      <td>500019.000000</td>\n      <td>26.000000</td>\n    </tr>\n    <tr>\n      <th>75%</th>\n      <td>749543.000000</td>\n      <td>31.000000</td>\n    </tr>\n    <tr>\n      <th>max</th>\n      <td>1000000.000000</td>\n      <td>70.000000</td>\n    </tr>\n  </tbody>\n</table>\n</div>"
     },
     "execution_count": 230,
     "metadata": {},
     "output_type": "execute_result"
    }
   ],
   "source": [
    "user_table.describe()"
   ],
   "metadata": {
    "collapsed": false,
    "pycharm": {
     "name": "#%%\n"
    }
   }
  },
  {
   "cell_type": "code",
   "execution_count": 232,
   "outputs": [
    {
     "data": {
      "text/plain": "<bound method DataFrame.drop_duplicates of         user_id sex  age    country\n0        765821   M   20     Mexico\n1        343561   F   27  Nicaragua\n2        118744   M   23   Colombia\n3        987753   F   27  Venezuela\n4        554597   F   20      Spain\n...         ...  ..  ...        ...\n452862   756215   F   27  Venezuela\n452863    36888   M   18  Argentina\n452864   800559   M   28    Bolivia\n452865   176584   M   19      Chile\n452866   314649   M   24     Mexico\n\n[452867 rows x 4 columns]>"
     },
     "execution_count": 232,
     "metadata": {},
     "output_type": "execute_result"
    }
   ],
   "source": [
    "user_table.drop_duplicates"
   ],
   "metadata": {
    "collapsed": false,
    "pycharm": {
     "name": "#%%\n"
    }
   }
  },
  {
   "cell_type": "code",
   "execution_count": 234,
   "outputs": [
    {
     "name": "stdout",
     "output_type": "stream",
     "text": [
      "distinct user number: 452867\n",
      "all user number: 452867\n"
     ]
    }
   ],
   "source": [
    "distinct_user = np.unique(user_table['user_id'])\n",
    "print('distinct user number:', distinct_user.size )\n",
    "print('all user number:', user_table['user_id'].size)"
   ],
   "metadata": {
    "collapsed": false,
    "pycharm": {
     "name": "#%%\n"
    }
   }
  },
  {
   "cell_type": "code",
   "execution_count": 236,
   "outputs": [
    {
     "name": "stdout",
     "output_type": "stream",
     "text": [
      "distinct user number of test table: 453321\n",
      "all user number for user table: 452867\n",
      "different number of user between test and user table 454\n"
     ]
    }
   ],
   "source": [
    "#Looks like the user table is busted and we have some user ids missing. When joining, we have to be careful to do not lose the user ids in the test table, but not in the user table.\n",
    "test_user = np.unique(test_table['user_id'])\n",
    "print('distinct user number of test table:', test_user.size )\n",
    "print('all user number for user table:', user_table['user_id'].size)\n",
    "print('different number of user between test and user table', test_user.size-user_table['user_id'].size)\n"
   ],
   "metadata": {
    "collapsed": false,
    "pycharm": {
     "name": "#%%\n"
    }
   }
  },
  {
   "cell_type": "code",
   "execution_count": 238,
   "outputs": [
    {
     "data": {
      "text/plain": "              user_id     conversion           test            age\ncount   453321.000000  453321.000000  453321.000000  452867.000000\nmean    499937.514728       0.049579       0.476446      27.130740\nstd     288665.193436       0.217073       0.499445       6.776678\nmin          1.000000       0.000000       0.000000      18.000000\n25%     249816.000000       0.000000       0.000000      22.000000\n50%     500019.000000       0.000000       0.000000      26.000000\n75%     749522.000000       0.000000       1.000000      31.000000\nmax    1000000.000000       1.000000       1.000000      70.000000",
      "text/html": "<div>\n<style scoped>\n    .dataframe tbody tr th:only-of-type {\n        vertical-align: middle;\n    }\n\n    .dataframe tbody tr th {\n        vertical-align: top;\n    }\n\n    .dataframe thead th {\n        text-align: right;\n    }\n</style>\n<table border=\"1\" class=\"dataframe\">\n  <thead>\n    <tr style=\"text-align: right;\">\n      <th></th>\n      <th>user_id</th>\n      <th>conversion</th>\n      <th>test</th>\n      <th>age</th>\n    </tr>\n  </thead>\n  <tbody>\n    <tr>\n      <th>count</th>\n      <td>453321.000000</td>\n      <td>453321.000000</td>\n      <td>453321.000000</td>\n      <td>452867.000000</td>\n    </tr>\n    <tr>\n      <th>mean</th>\n      <td>499937.514728</td>\n      <td>0.049579</td>\n      <td>0.476446</td>\n      <td>27.130740</td>\n    </tr>\n    <tr>\n      <th>std</th>\n      <td>288665.193436</td>\n      <td>0.217073</td>\n      <td>0.499445</td>\n      <td>6.776678</td>\n    </tr>\n    <tr>\n      <th>min</th>\n      <td>1.000000</td>\n      <td>0.000000</td>\n      <td>0.000000</td>\n      <td>18.000000</td>\n    </tr>\n    <tr>\n      <th>25%</th>\n      <td>249816.000000</td>\n      <td>0.000000</td>\n      <td>0.000000</td>\n      <td>22.000000</td>\n    </tr>\n    <tr>\n      <th>50%</th>\n      <td>500019.000000</td>\n      <td>0.000000</td>\n      <td>0.000000</td>\n      <td>26.000000</td>\n    </tr>\n    <tr>\n      <th>75%</th>\n      <td>749522.000000</td>\n      <td>0.000000</td>\n      <td>1.000000</td>\n      <td>31.000000</td>\n    </tr>\n    <tr>\n      <th>max</th>\n      <td>1000000.000000</td>\n      <td>1.000000</td>\n      <td>1.000000</td>\n      <td>70.000000</td>\n    </tr>\n  </tbody>\n</table>\n</div>"
     },
     "execution_count": 238,
     "metadata": {},
     "output_type": "execute_result"
    }
   ],
   "source": [
    "# join two table\n",
    "all_table = test_table.merge(user_table, on = 'user_id', how = 'left')\n",
    "all_table.describe()"
   ],
   "metadata": {
    "collapsed": false,
    "pycharm": {
     "name": "#%%\n"
    }
   }
  },
  {
   "cell_type": "code",
   "execution_count": 239,
   "outputs": [
    {
     "data": {
      "text/plain": "   user_id        date  source  device browser_language ads_channel  \\\n0   315281   12/3/2015  Direct     Web               ES         NaN   \n1   497851   12/4/2015     Ads     Web               ES      Google   \n2   848402   12/4/2015     Ads     Web               ES    Facebook   \n3   290051   12/3/2015     Ads  Mobile            Other    Facebook   \n4   548435  11/30/2015     Ads     Web               ES      Google   \n\n       browser  conversion  test sex   age country  \n0           IE           1     0   M  32.0   Spain  \n1           IE           0     1   M  21.0  Mexico  \n2       Chrome           0     0   M  34.0   Spain  \n3  Android_App           0     1   F  22.0  Mexico  \n4      FireFox           0     1   M  19.0  Mexico  ",
      "text/html": "<div>\n<style scoped>\n    .dataframe tbody tr th:only-of-type {\n        vertical-align: middle;\n    }\n\n    .dataframe tbody tr th {\n        vertical-align: top;\n    }\n\n    .dataframe thead th {\n        text-align: right;\n    }\n</style>\n<table border=\"1\" class=\"dataframe\">\n  <thead>\n    <tr style=\"text-align: right;\">\n      <th></th>\n      <th>user_id</th>\n      <th>date</th>\n      <th>source</th>\n      <th>device</th>\n      <th>browser_language</th>\n      <th>ads_channel</th>\n      <th>browser</th>\n      <th>conversion</th>\n      <th>test</th>\n      <th>sex</th>\n      <th>age</th>\n      <th>country</th>\n    </tr>\n  </thead>\n  <tbody>\n    <tr>\n      <th>0</th>\n      <td>315281</td>\n      <td>12/3/2015</td>\n      <td>Direct</td>\n      <td>Web</td>\n      <td>ES</td>\n      <td>NaN</td>\n      <td>IE</td>\n      <td>1</td>\n      <td>0</td>\n      <td>M</td>\n      <td>32.0</td>\n      <td>Spain</td>\n    </tr>\n    <tr>\n      <th>1</th>\n      <td>497851</td>\n      <td>12/4/2015</td>\n      <td>Ads</td>\n      <td>Web</td>\n      <td>ES</td>\n      <td>Google</td>\n      <td>IE</td>\n      <td>0</td>\n      <td>1</td>\n      <td>M</td>\n      <td>21.0</td>\n      <td>Mexico</td>\n    </tr>\n    <tr>\n      <th>2</th>\n      <td>848402</td>\n      <td>12/4/2015</td>\n      <td>Ads</td>\n      <td>Web</td>\n      <td>ES</td>\n      <td>Facebook</td>\n      <td>Chrome</td>\n      <td>0</td>\n      <td>0</td>\n      <td>M</td>\n      <td>34.0</td>\n      <td>Spain</td>\n    </tr>\n    <tr>\n      <th>3</th>\n      <td>290051</td>\n      <td>12/3/2015</td>\n      <td>Ads</td>\n      <td>Mobile</td>\n      <td>Other</td>\n      <td>Facebook</td>\n      <td>Android_App</td>\n      <td>0</td>\n      <td>1</td>\n      <td>F</td>\n      <td>22.0</td>\n      <td>Mexico</td>\n    </tr>\n    <tr>\n      <th>4</th>\n      <td>548435</td>\n      <td>11/30/2015</td>\n      <td>Ads</td>\n      <td>Web</td>\n      <td>ES</td>\n      <td>Google</td>\n      <td>FireFox</td>\n      <td>0</td>\n      <td>1</td>\n      <td>M</td>\n      <td>19.0</td>\n      <td>Mexico</td>\n    </tr>\n  </tbody>\n</table>\n</div>"
     },
     "execution_count": 239,
     "metadata": {},
     "output_type": "execute_result"
    }
   ],
   "source": [
    "all_table.head()"
   ],
   "metadata": {
    "collapsed": false,
    "pycharm": {
     "name": "#%%\n"
    }
   }
  },
  {
   "cell_type": "code",
   "execution_count": 278,
   "outputs": [
    {
     "name": "stdout",
     "output_type": "stream",
     "text": [
      "<class 'pandas.core.frame.DataFrame'>\n",
      "Int64Index: 453321 entries, 0 to 453320\n",
      "Data columns (total 12 columns):\n",
      " #   Column            Non-Null Count   Dtype  \n",
      "---  ------            --------------   -----  \n",
      " 0   user_id           453321 non-null  int64  \n",
      " 1   date              453321 non-null  object \n",
      " 2   source            453321 non-null  object \n",
      " 3   device            453321 non-null  object \n",
      " 4   browser_language  453321 non-null  object \n",
      " 5   ads_channel       181877 non-null  object \n",
      " 6   browser           453321 non-null  object \n",
      " 7   conversion        453321 non-null  int64  \n",
      " 8   test              453321 non-null  int64  \n",
      " 9   sex               452867 non-null  object \n",
      " 10  age               452867 non-null  float64\n",
      " 11  country           452867 non-null  object \n",
      "dtypes: float64(1), int64(3), object(8)\n",
      "memory usage: 45.0+ MB\n"
     ]
    }
   ],
   "source": [
    "all_table.info()"
   ],
   "metadata": {
    "collapsed": false,
    "pycharm": {
     "name": "#%%\n"
    }
   }
  },
  {
   "cell_type": "code",
   "execution_count": null,
   "outputs": [],
   "source": [
    "# look at the result of conversion to make sure it is ture spain converts much better than the rest of LatAm countries.\n",
    "all_table_conversion = all_table.groupby(['country','test'],dropna=False, as_index= False).mean()\n",
    "all_table_conversion\n",
    "\n"
   ],
   "metadata": {
    "collapsed": false,
    "pycharm": {
     "name": "#%%\n"
    }
   }
  },
  {
   "cell_type": "code",
   "execution_count": 243,
   "outputs": [],
   "source": [
    "# implement t-test on different test set except spanish\n",
    "data_no_spanish = all_table[all_table['country'] != 'Spain']\n",
    "data_no_spanish_conversion = data_no_spanish[['country', 'test', 'conversion']]\n"
   ],
   "metadata": {
    "collapsed": false,
    "pycharm": {
     "name": "#%%\n"
    }
   }
  },
  {
   "cell_type": "code",
   "execution_count": 245,
   "outputs": [],
   "source": [
    "#separate into two set\n",
    "data_no_spanish_conversion_0 = data_no_spanish_conversion[data_no_spanish_conversion['test'] == 0]\n",
    "data_no_spanish_conversion_0 = data_no_spanish_conversion_0.dropna()"
   ],
   "metadata": {
    "collapsed": false,
    "pycharm": {
     "name": "#%%\n"
    }
   }
  },
  {
   "cell_type": "code",
   "execution_count": 247,
   "outputs": [],
   "source": [
    "data_no_spanish_conversion_1 = data_no_spanish_conversion[data_no_spanish_conversion['test'] == 1]\n",
    "data_no_spanish_conversion_1 = data_no_spanish_conversion_1.dropna()\n"
   ],
   "metadata": {
    "collapsed": false,
    "pycharm": {
     "name": "#%%\n"
    }
   }
  },
  {
   "cell_type": "code",
   "execution_count": 249,
   "outputs": [
    {
     "name": "stdout",
     "output_type": "stream",
     "text": [
      "the mean of test 0 0.04829179055749524\n",
      "the mean of test 1 0.043411161678422794\n"
     ]
    }
   ],
   "source": [
    "print(\"the mean of test 0\", data_no_spanish_conversion_0['conversion'].mean())\n",
    "print(\"the mean of test 1\", data_no_spanish_conversion_1['conversion'].mean())"
   ],
   "metadata": {
    "collapsed": false,
    "pycharm": {
     "name": "#%%\n"
    }
   }
  },
  {
   "cell_type": "code",
   "execution_count": 251,
   "outputs": [
    {
     "name": "stdout",
     "output_type": "stream",
     "text": [
      "test          0.000000\n",
      "conversion    0.041527\n",
      "dtype: float64 test          0.00000\n",
      "conversion    0.04596\n",
      "dtype: float64\n"
     ]
    },
    {
     "name": "stderr",
     "output_type": "stream",
     "text": [
      "D:\\temp\\ipykernel_15816\\3191335703.py:3: FutureWarning: Dropping of nuisance columns in DataFrame reductions (with 'numeric_only=None') is deprecated; in a future version this will raise TypeError.  Select only valid columns before calling the reduction.\n",
      "  print(data_no_spanish_conversion_1.var(), data_no_spanish_conversion_0.var())\n"
     ]
    }
   ],
   "source": [
    "#conduct two-sample t-test for two set\n",
    "import scipy.stats as stats\n",
    "print(data_no_spanish_conversion_1.var(), data_no_spanish_conversion_0.var())"
   ],
   "metadata": {
    "collapsed": false,
    "pycharm": {
     "name": "#%%\n"
    }
   }
  },
  {
   "cell_type": "code",
   "execution_count": 253,
   "outputs": [
    {
     "data": {
      "text/plain": "Ttest_indResult(statistic=-7.382252163053968, pvalue=1.559329277881674e-13)"
     },
     "execution_count": 253,
     "metadata": {},
     "output_type": "execute_result"
    }
   ],
   "source": [
    "stats.ttest_ind(a = data_no_spanish_conversion_1['conversion'], b = data_no_spanish_conversion_0['conversion'], equal_var= True )"
   ],
   "metadata": {
    "collapsed": false,
    "pycharm": {
     "name": "#%%\n"
    }
   }
  },
  {
   "cell_type": "markdown",
   "source": [
    "two hypothesis for two sample t-test:\n",
    "\n",
    "$H_0$: $\\mu_1$ = $\\mu_2$ (two population means are equal)\n",
    "\n",
    "$H_1$: $\\mu_1$ $\\neq$ $\\mu_2$ (two population mean are not equal)\n",
    "\n",
    "let set the significant value equal 0.05 ($\\alpha$ = 0.05)\n",
    "\n",
    "The p-value is 1.559329277881674e-13, which is less than the 0.05, so we reject the null hypothesis of the test.\n",
    "That's mean, we have sufficient evidence to say that the mean of conversion rate between two test are different\n",
    "\n",
    "\n",
    "Look at the mean of conversion for two test, the mean of test 1 is 4.8%, the mean of test 0 is 4.3%\n",
    "That’s a 10% drop, which would be dramatic if it were true. The most likely reason for weird A/B test results are:\n",
    "\n",
    "1.We didn't collect enough data.\n",
    "\n",
    "2.Some bias has been introduced in the experiment so that test/control people are not really random.\n",
    "\n",
    "\n",
    "In data science, whenever result appear too bad or too good to be true, they are not true.\n",
    "\n",
    "Firstly, let's plot day by day, to see if these weired result have been constantly happening\n",
    "or they just started happening all of a sudden."
   ],
   "metadata": {
    "collapsed": false,
    "pycharm": {
     "name": "#%% md\n"
    }
   }
  },
  {
   "cell_type": "code",
   "execution_count": 255,
   "outputs": [
    {
     "data": {
      "text/plain": "<AxesSubplot:xlabel='date', ylabel='test_vs_control'>"
     },
     "execution_count": 255,
     "metadata": {},
     "output_type": "execute_result"
    },
    {
     "data": {
      "text/plain": "<Figure size 432x288 with 1 Axes>",
      "image/png": "[encoded data removed]"
     },
     "metadata": {
      "needs_background": "light"
     },
     "output_type": "display_data"
    }
   ],
   "source": [
    "data_test_by_day = data_no_spanish.groupby(['test', 'date'], as_index = False).mean()\n",
    "data_test_by_day_test0 = data_test_by_day[data_test_by_day['test'] == 0]\n",
    "data_test_by_day_test1 = data_test_by_day[data_test_by_day['test'] == 1]\n",
    "data_test_by_day_test = data_test_by_day_test1.merge(data_test_by_day_test0, on = 'date').set_index('date')\n",
    "data_test_by_day_ratio = data_test_by_day_test['conversion_x']/data_test_by_day_test['conversion_y']\n",
    "data_test_by_day_ratio.plot.line(ylabel = 'test_vs_control')\n",
    "\n"
   ],
   "metadata": {
    "collapsed": false,
    "pycharm": {
     "name": "#%%\n"
    }
   }
  },
  {
   "cell_type": "markdown",
   "source": [
    "From the plot, we notice a couple of things:\n",
    "1. Test has constantly been worse than control and there is relatively little variance across days. That\n",
    "probably means that we do have enough data, but there was some bias in the experiment set up.\n",
    "2. On a side note, we just ran it for 5 days. We should always run the test for at least 1 full week to\n",
    "capture weekly patterns, 2 weeks would be much better.\n",
    "\n",
    "Time to find out the bias! Likely, there is for some reason some segment of users more likely to end up in\n",
    "test or in control, this segment had a significantly above/below conversion rate and this affected the overall\n",
    "results.\n",
    "\n",
    "In an ideal world, the distribution of people in test and control for each segment should be the same. There\n",
    "are many ways to DIFDL this. One way is to build a decision tree where the variables are the user\n",
    "dimensions and the outcome variable is whether the user is in test or control. If the tree splits, it means\n",
    "that for given values of that variable you are more likely to end up in test or control. But this should be\n",
    "impossible! Therefore, if the randomization worked, the tree should not split at all (or at least not be able to\n",
    "separate the two classes well).\n"
   ],
   "metadata": {
    "collapsed": false,
    "pycharm": {
     "name": "#%% md\n"
    }
   }
  },
  {
   "cell_type": "code",
   "execution_count": 257,
   "outputs": [
    {
     "data": {
      "text/plain": "                   user_id  conversion      test        age\nbrowser                                                    \nAndroid_App  499834.243169    0.050021  0.478235  27.123347\nChrome       500238.739613    0.049456  0.478784  27.158149\nFireFox      500780.805745    0.049747  0.475347  27.093514\nIE           499304.388058    0.049129  0.473856  27.149848\nIphone_App   499382.656013    0.050406  0.475430  27.101430\nOpera        496907.400985    0.053695  0.474056  27.074129\nSafari       500773.622209    0.047169  0.470376  27.140545",
      "text/html": "<div>\n<style scoped>\n    .dataframe tbody tr th:only-of-type {\n        vertical-align: middle;\n    }\n\n    .dataframe tbody tr th {\n        vertical-align: top;\n    }\n\n    .dataframe thead th {\n        text-align: right;\n    }\n</style>\n<table border=\"1\" class=\"dataframe\">\n  <thead>\n    <tr style=\"text-align: right;\">\n      <th></th>\n      <th>user_id</th>\n      <th>conversion</th>\n      <th>test</th>\n      <th>age</th>\n    </tr>\n    <tr>\n      <th>browser</th>\n      <th></th>\n      <th></th>\n      <th></th>\n      <th></th>\n    </tr>\n  </thead>\n  <tbody>\n    <tr>\n      <th>Android_App</th>\n      <td>499834.243169</td>\n      <td>0.050021</td>\n      <td>0.478235</td>\n      <td>27.123347</td>\n    </tr>\n    <tr>\n      <th>Chrome</th>\n      <td>500238.739613</td>\n      <td>0.049456</td>\n      <td>0.478784</td>\n      <td>27.158149</td>\n    </tr>\n    <tr>\n      <th>FireFox</th>\n      <td>500780.805745</td>\n      <td>0.049747</td>\n      <td>0.475347</td>\n      <td>27.093514</td>\n    </tr>\n    <tr>\n      <th>IE</th>\n      <td>499304.388058</td>\n      <td>0.049129</td>\n      <td>0.473856</td>\n      <td>27.149848</td>\n    </tr>\n    <tr>\n      <th>Iphone_App</th>\n      <td>499382.656013</td>\n      <td>0.050406</td>\n      <td>0.475430</td>\n      <td>27.101430</td>\n    </tr>\n    <tr>\n      <th>Opera</th>\n      <td>496907.400985</td>\n      <td>0.053695</td>\n      <td>0.474056</td>\n      <td>27.074129</td>\n    </tr>\n    <tr>\n      <th>Safari</th>\n      <td>500773.622209</td>\n      <td>0.047169</td>\n      <td>0.470376</td>\n      <td>27.140545</td>\n    </tr>\n  </tbody>\n</table>\n</div>"
     },
     "execution_count": 257,
     "metadata": {},
     "output_type": "execute_result"
    }
   ],
   "source": [
    "all_table.groupby('browser').mean()"
   ],
   "metadata": {
    "collapsed": false,
    "pycharm": {
     "name": "#%%\n"
    }
   }
  },
  {
   "cell_type": "code",
   "execution_count": 259,
   "outputs": [
    {
     "data": {
      "text/plain": "        user_id        date source  device browser_language ads_channel  \\\n1        497851   12/4/2015    Ads     Web               ES      Google   \n2        848402   12/4/2015    Ads     Web               ES    Facebook   \n3        290051   12/3/2015    Ads  Mobile            Other    Facebook   \n4        548435  11/30/2015    Ads     Web               ES      Google   \n9         10427   12/4/2015    Ads  Mobile               ES    Facebook   \n...         ...         ...    ...     ...              ...         ...   \n453307    39677  11/30/2015    Ads  Mobile               ES       Yahoo   \n453314   209738   12/4/2015    Ads     Web               ES    Facebook   \n453315   783089   12/2/2015    Ads  Mobile               ES        Bing   \n453318   514870   12/2/2015    Ads  Mobile               ES        Bing   \n453320   241662   12/4/2015    Ads     Web               ES    Facebook   \n\n            browser  test sex   age    country  \n1                IE     1   M  21.0     Mexico  \n2            Chrome     0   M  34.0      Spain  \n3       Android_App     1   F  22.0     Mexico  \n4           FireFox     1   M  19.0     Mexico  \n9       Android_App     0   F  33.0     Mexico  \n...             ...   ...  ..   ...        ...  \n453307   Iphone_App     0   M  18.0  Venezuela  \n453314       Chrome     1   M  21.0    Bolivia  \n453315  Android_App     0   F  20.0     Mexico  \n453318  Android_App     0   M  25.0      Spain  \n453320       Chrome     1   M  27.0     Mexico  \n\n[181693 rows x 11 columns]",
      "text/html": "<div>\n<style scoped>\n    .dataframe tbody tr th:only-of-type {\n        vertical-align: middle;\n    }\n\n    .dataframe tbody tr th {\n        vertical-align: top;\n    }\n\n    .dataframe thead th {\n        text-align: right;\n    }\n</style>\n<table border=\"1\" class=\"dataframe\">\n  <thead>\n    <tr style=\"text-align: right;\">\n      <th></th>\n      <th>user_id</th>\n      <th>date</th>\n      <th>source</th>\n      <th>device</th>\n      <th>browser_language</th>\n      <th>ads_channel</th>\n      <th>browser</th>\n      <th>test</th>\n      <th>sex</th>\n      <th>age</th>\n      <th>country</th>\n    </tr>\n  </thead>\n  <tbody>\n    <tr>\n      <th>1</th>\n      <td>497851</td>\n      <td>12/4/2015</td>\n      <td>Ads</td>\n      <td>Web</td>\n      <td>ES</td>\n      <td>Google</td>\n      <td>IE</td>\n      <td>1</td>\n      <td>M</td>\n      <td>21.0</td>\n      <td>Mexico</td>\n    </tr>\n    <tr>\n      <th>2</th>\n      <td>848402</td>\n      <td>12/4/2015</td>\n      <td>Ads</td>\n      <td>Web</td>\n      <td>ES</td>\n      <td>Facebook</td>\n      <td>Chrome</td>\n      <td>0</td>\n      <td>M</td>\n      <td>34.0</td>\n      <td>Spain</td>\n    </tr>\n    <tr>\n      <th>3</th>\n      <td>290051</td>\n      <td>12/3/2015</td>\n      <td>Ads</td>\n      <td>Mobile</td>\n      <td>Other</td>\n      <td>Facebook</td>\n      <td>Android_App</td>\n      <td>1</td>\n      <td>F</td>\n      <td>22.0</td>\n      <td>Mexico</td>\n    </tr>\n    <tr>\n      <th>4</th>\n      <td>548435</td>\n      <td>11/30/2015</td>\n      <td>Ads</td>\n      <td>Web</td>\n      <td>ES</td>\n      <td>Google</td>\n      <td>FireFox</td>\n      <td>1</td>\n      <td>M</td>\n      <td>19.0</td>\n      <td>Mexico</td>\n    </tr>\n    <tr>\n      <th>9</th>\n      <td>10427</td>\n      <td>12/4/2015</td>\n      <td>Ads</td>\n      <td>Mobile</td>\n      <td>ES</td>\n      <td>Facebook</td>\n      <td>Android_App</td>\n      <td>0</td>\n      <td>F</td>\n      <td>33.0</td>\n      <td>Mexico</td>\n    </tr>\n    <tr>\n      <th>...</th>\n      <td>...</td>\n      <td>...</td>\n      <td>...</td>\n      <td>...</td>\n      <td>...</td>\n      <td>...</td>\n      <td>...</td>\n      <td>...</td>\n      <td>...</td>\n      <td>...</td>\n      <td>...</td>\n    </tr>\n    <tr>\n      <th>453307</th>\n      <td>39677</td>\n      <td>11/30/2015</td>\n      <td>Ads</td>\n      <td>Mobile</td>\n      <td>ES</td>\n      <td>Yahoo</td>\n      <td>Iphone_App</td>\n      <td>0</td>\n      <td>M</td>\n      <td>18.0</td>\n      <td>Venezuela</td>\n    </tr>\n    <tr>\n      <th>453314</th>\n      <td>209738</td>\n      <td>12/4/2015</td>\n      <td>Ads</td>\n      <td>Web</td>\n      <td>ES</td>\n      <td>Facebook</td>\n      <td>Chrome</td>\n      <td>1</td>\n      <td>M</td>\n      <td>21.0</td>\n      <td>Bolivia</td>\n    </tr>\n    <tr>\n      <th>453315</th>\n      <td>783089</td>\n      <td>12/2/2015</td>\n      <td>Ads</td>\n      <td>Mobile</td>\n      <td>ES</td>\n      <td>Bing</td>\n      <td>Android_App</td>\n      <td>0</td>\n      <td>F</td>\n      <td>20.0</td>\n      <td>Mexico</td>\n    </tr>\n    <tr>\n      <th>453318</th>\n      <td>514870</td>\n      <td>12/2/2015</td>\n      <td>Ads</td>\n      <td>Mobile</td>\n      <td>ES</td>\n      <td>Bing</td>\n      <td>Android_App</td>\n      <td>0</td>\n      <td>M</td>\n      <td>25.0</td>\n      <td>Spain</td>\n    </tr>\n    <tr>\n      <th>453320</th>\n      <td>241662</td>\n      <td>12/4/2015</td>\n      <td>Ads</td>\n      <td>Web</td>\n      <td>ES</td>\n      <td>Facebook</td>\n      <td>Chrome</td>\n      <td>1</td>\n      <td>M</td>\n      <td>27.0</td>\n      <td>Mexico</td>\n    </tr>\n  </tbody>\n</table>\n<p>181693 rows × 11 columns</p>\n</div>"
     },
     "execution_count": 259,
     "metadata": {},
     "output_type": "execute_result"
    }
   ],
   "source": [
    "tree_data = all_table.drop(columns = 'conversion')\n",
    "tree_data.dropna(how = 'any', inplace = True)\n",
    "tree_data"
   ],
   "metadata": {
    "collapsed": false,
    "pycharm": {
     "name": "#%%\n"
    }
   }
  },
  {
   "cell_type": "code",
   "execution_count": 261,
   "outputs": [],
   "source": [
    "label = ['date', 'source', 'device', 'browser_language', 'ads_channel', 'browser', 'sex', 'country']\n",
    "\n",
    "for i in label:\n",
    "   tree_data[i].replace(all_table[i].unique(),range(len(all_table[i].unique())), inplace = True)\n",
    "tree_data.head()\n",
    "tree_data.dropna(how = 'any', inplace = True)\n",
    "tree_data_test = tree_data.loc[:,'test']\n",
    "tree_data_variable = tree_data.drop(columns = 'test')"
   ],
   "metadata": {
    "collapsed": false,
    "pycharm": {
     "name": "#%%\n"
    }
   }
  },
  {
   "cell_type": "code",
   "execution_count": 263,
   "outputs": [
    {
     "data": {
      "text/plain": "   user_id  date  source  device  browser_language  ads_channel  browser  sex  \\\n1   497851     1       1       0                 0            1        0    0   \n2   848402     1       1       0                 0            2        1    0   \n3   290051     0       1       1                 1            2        2    1   \n4   548435     2       1       0                 0            1        3    0   \n9    10427     1       1       1                 0            2        2    1   \n\n    age  country  \n1  21.0        1  \n2  34.0        0  \n3  22.0        1  \n4  19.0        1  \n9  33.0        1  ",
      "text/html": "<div>\n<style scoped>\n    .dataframe tbody tr th:only-of-type {\n        vertical-align: middle;\n    }\n\n    .dataframe tbody tr th {\n        vertical-align: top;\n    }\n\n    .dataframe thead th {\n        text-align: right;\n    }\n</style>\n<table border=\"1\" class=\"dataframe\">\n  <thead>\n    <tr style=\"text-align: right;\">\n      <th></th>\n      <th>user_id</th>\n      <th>date</th>\n      <th>source</th>\n      <th>device</th>\n      <th>browser_language</th>\n      <th>ads_channel</th>\n      <th>browser</th>\n      <th>sex</th>\n      <th>age</th>\n      <th>country</th>\n    </tr>\n  </thead>\n  <tbody>\n    <tr>\n      <th>1</th>\n      <td>497851</td>\n      <td>1</td>\n      <td>1</td>\n      <td>0</td>\n      <td>0</td>\n      <td>1</td>\n      <td>0</td>\n      <td>0</td>\n      <td>21.0</td>\n      <td>1</td>\n    </tr>\n    <tr>\n      <th>2</th>\n      <td>848402</td>\n      <td>1</td>\n      <td>1</td>\n      <td>0</td>\n      <td>0</td>\n      <td>2</td>\n      <td>1</td>\n      <td>0</td>\n      <td>34.0</td>\n      <td>0</td>\n    </tr>\n    <tr>\n      <th>3</th>\n      <td>290051</td>\n      <td>0</td>\n      <td>1</td>\n      <td>1</td>\n      <td>1</td>\n      <td>2</td>\n      <td>2</td>\n      <td>1</td>\n      <td>22.0</td>\n      <td>1</td>\n    </tr>\n    <tr>\n      <th>4</th>\n      <td>548435</td>\n      <td>2</td>\n      <td>1</td>\n      <td>0</td>\n      <td>0</td>\n      <td>1</td>\n      <td>3</td>\n      <td>0</td>\n      <td>19.0</td>\n      <td>1</td>\n    </tr>\n    <tr>\n      <th>9</th>\n      <td>10427</td>\n      <td>1</td>\n      <td>1</td>\n      <td>1</td>\n      <td>0</td>\n      <td>2</td>\n      <td>2</td>\n      <td>1</td>\n      <td>33.0</td>\n      <td>1</td>\n    </tr>\n  </tbody>\n</table>\n</div>"
     },
     "execution_count": 263,
     "metadata": {},
     "output_type": "execute_result"
    }
   ],
   "source": [
    "tree_data_variable.head()"
   ],
   "metadata": {
    "collapsed": false,
    "pycharm": {
     "name": "#%%\n"
    }
   }
  },
  {
   "cell_type": "code",
   "execution_count": 264,
   "outputs": [
    {
     "data": {
      "text/plain": "[Text(0.5, 0.75, 'X[9] <= 0.5\\ngini = 0.499\\nsamples = 181693\\nvalue = [95245, 86448]'),\n Text(0.25, 0.25, 'gini = 0.0\\nsamples = 20893\\nvalue = [20893, 0]'),\n Text(0.75, 0.25, 'gini = 0.497\\nsamples = 160800\\nvalue = [74352, 86448]')]"
     },
     "execution_count": 264,
     "metadata": {},
     "output_type": "execute_result"
    },
    {
     "data": {
      "text/plain": "<Figure size 432x288 with 1 Axes>",
      "image/png": "[encoded data removed]"
     },
     "metadata": {
      "needs_background": "light"
     },
     "output_type": "display_data"
    }
   ],
   "source": [
    "from sklearn import tree\n",
    "clf = tree.DecisionTreeClassifier(max_depth = 1)\n",
    "clf = clf.fit(tree_data_variable, tree_data_test)\n",
    "tree.plot_tree(clf)\n",
    "\n"
   ],
   "metadata": {
    "collapsed": false,
    "pycharm": {
     "name": "#%%\n"
    }
   }
  }
 ],
 "metadata": {
  "kernelspec": {
   "display_name": "Python 3",
   "language": "python",
   "name": "python3"
  },
  "language_info": {
   "codemirror_mode": {
    "name": "ipython",
    "version": 2
   },
   "file_extension": ".py",
   "mimetype": "text/x-python",
   "name": "python",
   "nbconvert_exporter": "python",
   "pygments_lexer": "ipython2",
   "version": "2.7.6"
  }
 },
 "nbformat": 4,
 "nbformat_minor": 0
}