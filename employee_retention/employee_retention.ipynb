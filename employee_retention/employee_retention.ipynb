{
 "cells": [
  {
   "cell_type": "markdown",
   "metadata": {
    "collapsed": true,
    "pycharm": {
     "name": "#%% md\n"
    }
   },
   "source": [
    "# Goal\n",
    "\n",
    "Employee turn-over is a very costly problem for companies. The cost of replacing an employee\n",
    "if often larger than 100K USD, taking into account the time spent to interview and find a\n",
    "replacement, placement fees, sign-on bonuses and the loss of productivity for several months.\n",
    "\n",
    "It is only natural then that data science has started being applied to this area. Understanding\n",
    "why and when employees are most likely to leave can lead to actions to improve employee\n",
    "retention as well as planning new hiring in advance. This application of DS is sometimes called\n",
    "people analytics or people data science (if you see a job title: people data scientist, this is your\n",
    "job).\n",
    "\n",
    "In this challenge, you have a data set with info about the employees and have to predict when\n",
    "employees are going to quit by understanding the main drivers of employee churn.\n",
    "\n",
    "# Challenge Description\n",
    "\n",
    "We got employee data from a few companies. We have data about all employees who joined\n",
    "from 2011/01/24 to 2015/12/13. For each employee, we also know if they are still at the\n",
    "company as of 2015/12/13 or they have quit. Beside that, we have general info about the\n",
    "employee, such as avg salary during her tenure, dept, and yrs of experience.\n",
    "\n",
    "As said above, the goal is to predict employee retention and understand its main drivers.\n",
    "Specifically, you should:\n",
    "\n",
    "* Assume, for each company, that the headcount starts from zero on 2011/01/23. Estimate\n",
    "employee headcount, for each company, on each day, from 2011/01/24 to 2015/12/13.\n",
    "That is, if by 2012/03/02 2000 people have joined company 1 and 1000 of them have\n",
    "already quit, then company headcount on 2012/03/02 for company 1 would be 1000.\n",
    "You should create a table with 3 columns: day, employee_headcount, company_id.\n",
    "\n",
    "* What are the main factors that drive employee churn? Do they make sense? Explain your\n",
    "findings.\n",
    "\n",
    "* If you could add to this data set just one variable that could help explain employee churn,\n",
    "what would that be?\n",
    "\n",
    "# Data\n",
    "\n",
    "## Columns:\n",
    "\n",
    "* employee_id : id of the employee. Unique by employee per company\n",
    "* company_id : company id.\n",
    "* dept : employee dept\n",
    "* seniority : number of yrs of work experience when hired\n",
    "* salary: avg yearly salary of the employee during her tenure within the company\n",
    "* join_date: when the employee joined the company, it can only be between 2011/01/24\n",
    "and 2015/12/13\n",
    "* quit_date: when the employee left her job (if she is still employed as of 2015/12/13, this\n",
    "field is NA)\n"
   ]
  },
  {
   "cell_type": "code",
   "execution_count": 73,
   "outputs": [],
   "source": [
    "import pandas as pd\n",
    "import numpy as np\n",
    "from natsort import index_natsorted\n",
    "data = pd.read_csv('employee_retention.csv')\n",
    "data_origin = data"
   ],
   "metadata": {
    "collapsed": false,
    "pycharm": {
     "name": "#%%\n"
    }
   }
  },
  {
   "cell_type": "code",
   "execution_count": 74,
   "outputs": [
    {
     "name": "stdout",
     "output_type": "stream",
     "text": [
      "<class 'pandas.core.frame.DataFrame'>\n",
      "RangeIndex: 24702 entries, 0 to 24701\n",
      "Data columns (total 7 columns):\n",
      " #   Column       Non-Null Count  Dtype  \n",
      "---  ------       --------------  -----  \n",
      " 0   employee_id  24702 non-null  float64\n",
      " 1   company_id   24702 non-null  int64  \n",
      " 2   dept         24702 non-null  object \n",
      " 3   seniority    24702 non-null  int64  \n",
      " 4   salary       24702 non-null  float64\n",
      " 5   join_date    24702 non-null  object \n",
      " 6   quit_date    13510 non-null  object \n",
      "dtypes: float64(2), int64(2), object(3)\n",
      "memory usage: 1.3+ MB\n"
     ]
    }
   ],
   "source": [
    "# look at information of data, we can only quit date have null data\n",
    "data.info()"
   ],
   "metadata": {
    "collapsed": false,
    "pycharm": {
     "name": "#%%\n"
    }
   }
  },
  {
   "cell_type": "code",
   "execution_count": 75,
   "outputs": [
    {
     "data": {
      "text/plain": "         employee_id    company_id     seniority         salary\ncount   24702.000000  24702.000000  24702.000000   24702.000000\nmean   501604.403530      3.426969     14.127803  138183.345478\nstd    288909.026101      2.700011      8.089520   76058.184573\nmin        36.000000      1.000000      1.000000   17000.000000\n25%    250133.750000      1.000000      7.000000   79000.000000\n50%    500793.000000      2.000000     14.000000  123000.000000\n75%    753137.250000      5.000000     21.000000  187000.000000\nmax    999969.000000     12.000000     99.000000  408000.000000",
      "text/html": "<div>\n<style scoped>\n    .dataframe tbody tr th:only-of-type {\n        vertical-align: middle;\n    }\n\n    .dataframe tbody tr th {\n        vertical-align: top;\n    }\n\n    .dataframe thead th {\n        text-align: right;\n    }\n</style>\n<table border=\"1\" class=\"dataframe\">\n  <thead>\n    <tr style=\"text-align: right;\">\n      <th></th>\n      <th>employee_id</th>\n      <th>company_id</th>\n      <th>seniority</th>\n      <th>salary</th>\n    </tr>\n  </thead>\n  <tbody>\n    <tr>\n      <th>count</th>\n      <td>24702.000000</td>\n      <td>24702.000000</td>\n      <td>24702.000000</td>\n      <td>24702.000000</td>\n    </tr>\n    <tr>\n      <th>mean</th>\n      <td>501604.403530</td>\n      <td>3.426969</td>\n      <td>14.127803</td>\n      <td>138183.345478</td>\n    </tr>\n    <tr>\n      <th>std</th>\n      <td>288909.026101</td>\n      <td>2.700011</td>\n      <td>8.089520</td>\n      <td>76058.184573</td>\n    </tr>\n    <tr>\n      <th>min</th>\n      <td>36.000000</td>\n      <td>1.000000</td>\n      <td>1.000000</td>\n      <td>17000.000000</td>\n    </tr>\n    <tr>\n      <th>25%</th>\n      <td>250133.750000</td>\n      <td>1.000000</td>\n      <td>7.000000</td>\n      <td>79000.000000</td>\n    </tr>\n    <tr>\n      <th>50%</th>\n      <td>500793.000000</td>\n      <td>2.000000</td>\n      <td>14.000000</td>\n      <td>123000.000000</td>\n    </tr>\n    <tr>\n      <th>75%</th>\n      <td>753137.250000</td>\n      <td>5.000000</td>\n      <td>21.000000</td>\n      <td>187000.000000</td>\n    </tr>\n    <tr>\n      <th>max</th>\n      <td>999969.000000</td>\n      <td>12.000000</td>\n      <td>99.000000</td>\n      <td>408000.000000</td>\n    </tr>\n  </tbody>\n</table>\n</div>"
     },
     "execution_count": 75,
     "metadata": {},
     "output_type": "execute_result"
    }
   ],
   "source": [
    "data.describe()"
   ],
   "metadata": {
    "collapsed": false,
    "pycharm": {
     "name": "#%%\n"
    }
   }
  },
  {
   "cell_type": "code",
   "execution_count": 76,
   "outputs": [
    {
     "data": {
      "text/plain": "   employee_id  company_id              dept  seniority    salary   join_date  \\\n0      13021.0           7  customer_service         28   89000.0  2014-03-24   \n1     825355.0           7         marketing         20  183000.0  2013-04-29   \n2     927315.0           4         marketing         14  101000.0  2014-10-13   \n3     662910.0           7  customer_service         20  115000.0  2012-05-14   \n4     256971.0           2      data_science         23  276000.0  2011-10-17   \n\n    quit_date  \n0  2015-10-30  \n1  2014-04-04  \n2         NaN  \n3  2013-06-07  \n4  2014-08-22  ",
      "text/html": "<div>\n<style scoped>\n    .dataframe tbody tr th:only-of-type {\n        vertical-align: middle;\n    }\n\n    .dataframe tbody tr th {\n        vertical-align: top;\n    }\n\n    .dataframe thead th {\n        text-align: right;\n    }\n</style>\n<table border=\"1\" class=\"dataframe\">\n  <thead>\n    <tr style=\"text-align: right;\">\n      <th></th>\n      <th>employee_id</th>\n      <th>company_id</th>\n      <th>dept</th>\n      <th>seniority</th>\n      <th>salary</th>\n      <th>join_date</th>\n      <th>quit_date</th>\n    </tr>\n  </thead>\n  <tbody>\n    <tr>\n      <th>0</th>\n      <td>13021.0</td>\n      <td>7</td>\n      <td>customer_service</td>\n      <td>28</td>\n      <td>89000.0</td>\n      <td>2014-03-24</td>\n      <td>2015-10-30</td>\n    </tr>\n    <tr>\n      <th>1</th>\n      <td>825355.0</td>\n      <td>7</td>\n      <td>marketing</td>\n      <td>20</td>\n      <td>183000.0</td>\n      <td>2013-04-29</td>\n      <td>2014-04-04</td>\n    </tr>\n    <tr>\n      <th>2</th>\n      <td>927315.0</td>\n      <td>4</td>\n      <td>marketing</td>\n      <td>14</td>\n      <td>101000.0</td>\n      <td>2014-10-13</td>\n      <td>NaN</td>\n    </tr>\n    <tr>\n      <th>3</th>\n      <td>662910.0</td>\n      <td>7</td>\n      <td>customer_service</td>\n      <td>20</td>\n      <td>115000.0</td>\n      <td>2012-05-14</td>\n      <td>2013-06-07</td>\n    </tr>\n    <tr>\n      <th>4</th>\n      <td>256971.0</td>\n      <td>2</td>\n      <td>data_science</td>\n      <td>23</td>\n      <td>276000.0</td>\n      <td>2011-10-17</td>\n      <td>2014-08-22</td>\n    </tr>\n  </tbody>\n</table>\n</div>"
     },
     "execution_count": 76,
     "metadata": {},
     "output_type": "execute_result"
    }
   ],
   "source": [
    "data.head()\n"
   ],
   "metadata": {
    "collapsed": false,
    "pycharm": {
     "name": "#%%\n"
    }
   }
  },
  {
   "cell_type": "code",
   "execution_count": 77,
   "outputs": [],
   "source": [
    "data['join_date'] = pd.to_datetime(data.iloc[:, 5])\n",
    "data['quit_date'] = pd.to_datetime(data.iloc[:, 6])"
   ],
   "metadata": {
    "collapsed": false,
    "pycharm": {
     "name": "#%%\n"
    }
   }
  },
  {
   "cell_type": "code",
   "execution_count": 78,
   "outputs": [],
   "source": [
    "data['duration'] = data.iloc[:, 6]- data.iloc[:, 5]"
   ],
   "metadata": {
    "collapsed": false,
    "pycharm": {
     "name": "#%%\n"
    }
   }
  },
  {
   "cell_type": "code",
   "execution_count": 79,
   "outputs": [],
   "source": [
    "data['duration'] = data['duration'].dt.days\n",
    "\n"
   ],
   "metadata": {
    "collapsed": false,
    "pycharm": {
     "name": "#%%\n"
    }
   }
  },
  {
   "cell_type": "code",
   "execution_count": 80,
   "outputs": [
    {
     "data": {
      "text/plain": "   employee_id  company_id              dept  seniority    salary  join_date  \\\n0      13021.0           7  customer_service         28   89000.0 2014-03-24   \n1     825355.0           7         marketing         20  183000.0 2013-04-29   \n2     927315.0           4         marketing         14  101000.0 2014-10-13   \n3     662910.0           7  customer_service         20  115000.0 2012-05-14   \n4     256971.0           2      data_science         23  276000.0 2011-10-17   \n\n   quit_date  duration  \n0 2015-10-30     585.0  \n1 2014-04-04     340.0  \n2        NaT       NaN  \n3 2013-06-07     389.0  \n4 2014-08-22    1040.0  ",
      "text/html": "<div>\n<style scoped>\n    .dataframe tbody tr th:only-of-type {\n        vertical-align: middle;\n    }\n\n    .dataframe tbody tr th {\n        vertical-align: top;\n    }\n\n    .dataframe thead th {\n        text-align: right;\n    }\n</style>\n<table border=\"1\" class=\"dataframe\">\n  <thead>\n    <tr style=\"text-align: right;\">\n      <th></th>\n      <th>employee_id</th>\n      <th>company_id</th>\n      <th>dept</th>\n      <th>seniority</th>\n      <th>salary</th>\n      <th>join_date</th>\n      <th>quit_date</th>\n      <th>duration</th>\n    </tr>\n  </thead>\n  <tbody>\n    <tr>\n      <th>0</th>\n      <td>13021.0</td>\n      <td>7</td>\n      <td>customer_service</td>\n      <td>28</td>\n      <td>89000.0</td>\n      <td>2014-03-24</td>\n      <td>2015-10-30</td>\n      <td>585.0</td>\n    </tr>\n    <tr>\n      <th>1</th>\n      <td>825355.0</td>\n      <td>7</td>\n      <td>marketing</td>\n      <td>20</td>\n      <td>183000.0</td>\n      <td>2013-04-29</td>\n      <td>2014-04-04</td>\n      <td>340.0</td>\n    </tr>\n    <tr>\n      <th>2</th>\n      <td>927315.0</td>\n      <td>4</td>\n      <td>marketing</td>\n      <td>14</td>\n      <td>101000.0</td>\n      <td>2014-10-13</td>\n      <td>NaT</td>\n      <td>NaN</td>\n    </tr>\n    <tr>\n      <th>3</th>\n      <td>662910.0</td>\n      <td>7</td>\n      <td>customer_service</td>\n      <td>20</td>\n      <td>115000.0</td>\n      <td>2012-05-14</td>\n      <td>2013-06-07</td>\n      <td>389.0</td>\n    </tr>\n    <tr>\n      <th>4</th>\n      <td>256971.0</td>\n      <td>2</td>\n      <td>data_science</td>\n      <td>23</td>\n      <td>276000.0</td>\n      <td>2011-10-17</td>\n      <td>2014-08-22</td>\n      <td>1040.0</td>\n    </tr>\n  </tbody>\n</table>\n</div>"
     },
     "execution_count": 80,
     "metadata": {},
     "output_type": "execute_result"
    }
   ],
   "source": [
    "data.head()"
   ],
   "metadata": {
    "collapsed": false,
    "pycharm": {
     "name": "#%%\n"
    }
   }
  },
  {
   "cell_type": "code",
   "execution_count": 81,
   "outputs": [
    {
     "name": "stdout",
     "output_type": "stream",
     "text": [
      "the number of unique employee id 24702\n",
      "the number of all employee id 24702\n"
     ]
    }
   ],
   "source": [
    "print(\"the number of unique employee id\", len(data['employee_id'].unique()))\n",
    "print('the number of all employee id', len(data['employee_id']))\n"
   ],
   "metadata": {
    "collapsed": false,
    "pycharm": {
     "name": "#%%\n"
    }
   }
  },
  {
   "cell_type": "code",
   "execution_count": 82,
   "outputs": [
    {
     "name": "stderr",
     "output_type": "stream",
     "text": [
      "D:\\temp\\ipykernel_78268\\1612755749.py:8: FutureWarning: In a future version of pandas all arguments of DataFrame.drop except for the argument 'labels' will be keyword-only.\n",
      "  head_count = head_count.merge(company,on = 'key').drop('key', 1)\n"
     ]
    }
   ],
   "source": [
    "# create new table for head_count\n",
    "head_count = pd.DataFrame()\n",
    "company = pd.DataFrame()\n",
    "head_count['day'] = pd.date_range(pd.to_datetime('2011/01/23'), pd.to_datetime('2015/12/13'))\n",
    "head_count['key'] = 1\n",
    "company['company'] = data['company_id'].unique()\n",
    "company['key'] = 1\n",
    "head_count = head_count.merge(company,on = 'key').drop('key', 1)"
   ],
   "metadata": {
    "collapsed": false,
    "pycharm": {
     "name": "#%%\n"
    }
   }
  },
  {
   "cell_type": "code",
   "execution_count": 83,
   "outputs": [
    {
     "data": {
      "text/plain": "             day  company\n0     2011-01-23        7\n1     2011-01-23        4\n2     2011-01-23        2\n3     2011-01-23        9\n4     2011-01-23        1\n...          ...      ...\n21427 2015-12-13        5\n21428 2015-12-13        3\n21429 2015-12-13        8\n21430 2015-12-13       11\n21431 2015-12-13       12\n\n[21432 rows x 2 columns]",
      "text/html": "<div>\n<style scoped>\n    .dataframe tbody tr th:only-of-type {\n        vertical-align: middle;\n    }\n\n    .dataframe tbody tr th {\n        vertical-align: top;\n    }\n\n    .dataframe thead th {\n        text-align: right;\n    }\n</style>\n<table border=\"1\" class=\"dataframe\">\n  <thead>\n    <tr style=\"text-align: right;\">\n      <th></th>\n      <th>day</th>\n      <th>company</th>\n    </tr>\n  </thead>\n  <tbody>\n    <tr>\n      <th>0</th>\n      <td>2011-01-23</td>\n      <td>7</td>\n    </tr>\n    <tr>\n      <th>1</th>\n      <td>2011-01-23</td>\n      <td>4</td>\n    </tr>\n    <tr>\n      <th>2</th>\n      <td>2011-01-23</td>\n      <td>2</td>\n    </tr>\n    <tr>\n      <th>3</th>\n      <td>2011-01-23</td>\n      <td>9</td>\n    </tr>\n    <tr>\n      <th>4</th>\n      <td>2011-01-23</td>\n      <td>1</td>\n    </tr>\n    <tr>\n      <th>...</th>\n      <td>...</td>\n      <td>...</td>\n    </tr>\n    <tr>\n      <th>21427</th>\n      <td>2015-12-13</td>\n      <td>5</td>\n    </tr>\n    <tr>\n      <th>21428</th>\n      <td>2015-12-13</td>\n      <td>3</td>\n    </tr>\n    <tr>\n      <th>21429</th>\n      <td>2015-12-13</td>\n      <td>8</td>\n    </tr>\n    <tr>\n      <th>21430</th>\n      <td>2015-12-13</td>\n      <td>11</td>\n    </tr>\n    <tr>\n      <th>21431</th>\n      <td>2015-12-13</td>\n      <td>12</td>\n    </tr>\n  </tbody>\n</table>\n<p>21432 rows × 2 columns</p>\n</div>"
     },
     "execution_count": 83,
     "metadata": {},
     "output_type": "execute_result"
    }
   ],
   "source": [
    "head_count"
   ],
   "metadata": {
    "collapsed": false,
    "pycharm": {
     "name": "#%%\n"
    }
   }
  },
  {
   "cell_type": "code",
   "execution_count": 84,
   "outputs": [],
   "source": [
    "#calculate how many employee was join in each company for each day\n",
    "data.set_index('join_date')\n",
    "data.sort_values(by = 'join_date', key=lambda x: np.argsort(index_natsorted(data[\"join_date\"])),inplace = True)\n",
    "data['cumcount_join'] = data.groupby('company_id').cumcount()"
   ],
   "metadata": {
    "collapsed": false,
    "pycharm": {
     "name": "#%%\n"
    }
   }
  },
  {
   "cell_type": "code",
   "execution_count": 85,
   "outputs": [],
   "source": [
    "#calculate how many employee was quit in each company for each day\n",
    "data.sort_values(by = 'quit_date', inplace = True)\n",
    "data.reset_index(inplace= True)\n",
    "data['cumcount_quit'] = data.groupby('company_id').cumcount()"
   ],
   "metadata": {
    "collapsed": false,
    "pycharm": {
     "name": "#%%\n"
    }
   }
  },
  {
   "cell_type": "code",
   "execution_count": 86,
   "outputs": [],
   "source": [
    "#extract the number of employee was join in each company for each day\n",
    "join_count = data.groupby(['company_id', 'join_date'], as_index= False).max()\n",
    "join_count = join_count.iloc[:,[0,1,9]]"
   ],
   "metadata": {
    "collapsed": false,
    "pycharm": {
     "name": "#%%\n"
    }
   }
  },
  {
   "cell_type": "code",
   "execution_count": 87,
   "outputs": [],
   "source": [
    "#extract the number of employee was quit in each company for each day\n",
    "quit_count = data.groupby(['company_id', 'quit_date'], as_index= False).max()\n",
    "quit_count = quit_count.iloc[:,[0,1,10]]"
   ],
   "metadata": {
    "collapsed": false,
    "pycharm": {
     "name": "#%%\n"
    }
   }
  },
  {
   "cell_type": "code",
   "execution_count": 88,
   "outputs": [],
   "source": [
    "#merge join table into head_count by using left join, but there have some null data for join_date\n",
    "head_count = head_count.merge(join_count, left_on=['day', 'company'], right_on = ['join_date', 'company_id'], how = 'left')"
   ],
   "metadata": {
    "collapsed": false,
    "pycharm": {
     "name": "#%%\n"
    }
   }
  },
  {
   "cell_type": "code",
   "execution_count": 89,
   "outputs": [],
   "source": [
    "#and then merge quit table into head_count by using left join, but there have some null data for quit_date\n",
    "head_count = head_count.merge(quit_count, left_on=['day', 'company'], right_on = ['quit_date', 'company_id'], how = 'left')"
   ],
   "metadata": {
    "collapsed": false,
    "pycharm": {
     "name": "#%%\n"
    }
   }
  },
  {
   "cell_type": "code",
   "execution_count": 90,
   "outputs": [
    {
     "name": "stdout",
     "output_type": "stream",
     "text": [
      "<class 'pandas.core.frame.DataFrame'>\n",
      "Int64Index: 21432 entries, 0 to 21431\n",
      "Data columns (total 8 columns):\n",
      " #   Column         Non-Null Count  Dtype         \n",
      "---  ------         --------------  -----         \n",
      " 0   day            21432 non-null  datetime64[ns]\n",
      " 1   company        21432 non-null  int64         \n",
      " 2   company_id_x   5130 non-null   float64       \n",
      " 3   join_date      5130 non-null   datetime64[ns]\n",
      " 4   cumcount_join  5130 non-null   float64       \n",
      " 5   company_id_y   2724 non-null   float64       \n",
      " 6   quit_date      2724 non-null   datetime64[ns]\n",
      " 7   cumcount_quit  2724 non-null   float64       \n",
      "dtypes: datetime64[ns](3), float64(4), int64(1)\n",
      "memory usage: 1.5 MB\n"
     ]
    }
   ],
   "source": [
    "#look at the null date for head count table, find join date and quit date have many null data,\n",
    "# we should set the number of employee on first day equal to zero\n",
    "# use the number of join subtract the number of quit is equal head count\n",
    "head_count.info()\n"
   ],
   "metadata": {
    "collapsed": false,
    "pycharm": {
     "name": "#%%\n"
    }
   }
  },
  {
   "cell_type": "code",
   "execution_count": 91,
   "outputs": [],
   "source": [
    "# so if the join number or quit number is null, set the join number or quit number equal to the join number or quit number of previous day\n",
    "head_count_new = pd.DataFrame()\n",
    "for j in range(1, 13):\n",
    "    head_count_company = head_count[head_count['company'] == j]\n",
    "    head_count_company.iloc[0, 4] = 0\n",
    "    head_count_company.iloc[0, 7] = 0\n",
    "    for i in range(1, 1786):\n",
    "        if pd.isnull(head_count_company.iloc[i,4]):\n",
    "            head_count_company.iloc[i, 4] = head_count_company.iloc[i-1,4]\n",
    "        else:\n",
    "            head_count_company.iloc[i, 4] = head_count_company.iloc[i, 4]\n",
    "        if pd.isnull(head_count_company.iloc[i,7]):\n",
    "            head_count_company.iloc[i, 7] = head_count_company.iloc[i-1,7]\n",
    "        else:\n",
    "            head_count_company.iloc[i, 7] = head_count_company.iloc[i, 7]\n",
    "    head_count_new = pd.concat([head_count_new, head_count_company])"
   ],
   "metadata": {
    "collapsed": false,
    "pycharm": {
     "name": "#%%\n"
    }
   }
  },
  {
   "cell_type": "code",
   "execution_count": 92,
   "outputs": [],
   "source": [
    "# calculate the head count of each company for each day\n",
    "head_count_new['head_count'] = head_count_new['cumcount_join'] -head_count_new['cumcount_quit']"
   ],
   "metadata": {
    "collapsed": false,
    "pycharm": {
     "name": "#%%\n"
    }
   }
  },
  {
   "cell_type": "code",
   "execution_count": 93,
   "outputs": [],
   "source": [
    "head_count_table = head_count_new.iloc[:,[0,1,8]]"
   ],
   "metadata": {
    "collapsed": false,
    "pycharm": {
     "name": "#%%\n"
    }
   }
  },
  {
   "cell_type": "code",
   "execution_count": 94,
   "outputs": [
    {
     "name": "stdout",
     "output_type": "stream",
     "text": [
      "<class 'pandas.core.frame.DataFrame'>\n",
      "Int64Index: 21432 entries, 4 to 21431\n",
      "Data columns (total 3 columns):\n",
      " #   Column      Non-Null Count  Dtype         \n",
      "---  ------      --------------  -----         \n",
      " 0   day         21432 non-null  datetime64[ns]\n",
      " 1   company     21432 non-null  int64         \n",
      " 2   head_count  21432 non-null  float64       \n",
      "dtypes: datetime64[ns](1), float64(1), int64(1)\n",
      "memory usage: 669.8 KB\n"
     ]
    }
   ],
   "source": [
    "head_count_table.info()\n"
   ],
   "metadata": {
    "collapsed": false,
    "pycharm": {
     "name": "#%%\n"
    }
   }
  },
  {
   "cell_type": "code",
   "execution_count": 95,
   "outputs": [
    {
     "data": {
      "text/plain": "<AxesSubplot:ylabel='Frequency'>"
     },
     "execution_count": 95,
     "metadata": {},
     "output_type": "execute_result"
    },
    {
     "data": {
      "text/plain": "<Figure size 720x576 with 1 Axes>",
      "image/png": "[encoded data removed]"
     },
     "metadata": {
      "needs_background": "light"
     },
     "output_type": "display_data"
    }
   ],
   "source": [
    "#try to understand employee retention, plot the frequency plot for employee was employed.\n",
    "# there are peaks around each employee year anniversary\n",
    "employed_length = data['duration'].dropna()\n",
    "employed_length.plot.hist(column=['duration'], figsize = (10,8), bins =100, color='gray', edgecolor='black')\n"
   ],
   "metadata": {
    "collapsed": false,
    "pycharm": {
     "name": "#%%\n"
    }
   }
  },
  {
   "cell_type": "code",
   "execution_count": 96,
   "outputs": [
    {
     "name": "stderr",
     "output_type": "stream",
     "text": [
      "D:\\temp\\ipykernel_78268\\3075836751.py:2: FutureWarning: Series.dt.weekofyear and Series.dt.week have been deprecated. Please use Series.dt.isocalendar().week instead.\n",
      "  data_quit_week_of_year = data['quit_date'].dt.week\n"
     ]
    },
    {
     "data": {
      "text/plain": "<AxesSubplot:ylabel='Frequency'>"
     },
     "execution_count": 96,
     "metadata": {},
     "output_type": "execute_result"
    },
    {
     "data": {
      "text/plain": "<Figure size 720x360 with 1 Axes>",
      "image/png": "[encoded data removed]"
     },
     "metadata": {
      "needs_background": "light"
     },
     "output_type": "display_data"
    }
   ],
   "source": [
    "# plot the week of the year\n",
    "data_quit_week_of_year = data['quit_date'].dt.week\n",
    "data_quit_week_of_year.plot.hist(figsize= (10, 5), bins = 50, color ='gray', edgecolor = 'black')"
   ],
   "metadata": {
    "collapsed": false,
    "pycharm": {
     "name": "#%%\n"
    }
   }
  },
  {
   "cell_type": "code",
   "execution_count": 97,
   "outputs": [
    {
     "data": {
      "text/plain": "<AxesSubplot:ylabel='Frequency'>"
     },
     "execution_count": 97,
     "metadata": {},
     "output_type": "execute_result"
    },
    {
     "data": {
      "text/plain": "<Figure size 720x360 with 1 Axes>",
      "image/png": "[encoded data removed]"
     },
     "metadata": {
      "needs_background": "light"
     },
     "output_type": "display_data"
    }
   ],
   "source": [
    "#plot the month of the year\n",
    "data_quit_month_of_year = data['quit_date'].dt.month\n",
    "data_quit_month_of_year.plot.hist(figsize = (10,5), bins = 12, color = 'gray', edgecolor = 'black')\n"
   ],
   "metadata": {
    "collapsed": false,
    "pycharm": {
     "name": "#%%\n"
    }
   }
  },
  {
   "cell_type": "markdown",
   "source": [
    "it also peaks around the new year. Make sense, companies have much more budget to hire at the beginning of the year.\n",
    "\n",
    "Find the characteristics of the people who quit early. looking at the histogram of employment_length,\n",
    "it looks like we define early quitters as those people who quit within 1 year or so. Then create two classes of employees:\n",
    "\n",
    "* quit within 13 months\n",
    "* quit longer than 13 months"
   ],
   "metadata": {
    "collapsed": false,
    "pycharm": {
     "name": "#%% md\n"
    }
   }
  },
  {
   "cell_type": "code",
   "execution_count": 189,
   "outputs": [
    {
     "name": "stdout",
     "output_type": "stream",
     "text": [
      "<class 'pandas.core.frame.DataFrame'>\n",
      "RangeIndex: 24702 entries, 0 to 24701\n",
      "Data columns (total 12 columns):\n",
      " #   Column         Non-Null Count  Dtype         \n",
      "---  ------         --------------  -----         \n",
      " 0   index          24702 non-null  int64         \n",
      " 1   employee_id    24702 non-null  float64       \n",
      " 2   company_id     24702 non-null  int64         \n",
      " 3   dept           24702 non-null  object        \n",
      " 4   seniority      24702 non-null  int64         \n",
      " 5   salary         24702 non-null  float64       \n",
      " 6   join_date      24702 non-null  datetime64[ns]\n",
      " 7   quit_date      13510 non-null  datetime64[ns]\n",
      " 8   duration       13510 non-null  float64       \n",
      " 9   cumcount_join  24702 non-null  int64         \n",
      " 10  cumcount_quit  24702 non-null  int64         \n",
      " 11  class          24702 non-null  int64         \n",
      "dtypes: datetime64[ns](2), float64(3), int64(6), object(1)\n",
      "memory usage: 2.3+ MB\n"
     ]
    },
    {
     "data": {
      "text/plain": "       index  employee_id  company_id              dept  seniority    salary  \\\n0      24518     751615.0           6  customer_service          6   63000.0   \n1       8465     972130.0          10         marketing         20  147000.0   \n2      15523     581263.0           1             sales          5  118000.0   \n3      15602     135834.0           4          engineer         16  169000.0   \n4       3777      71407.0           1  customer_service         19  107000.0   \n...      ...          ...         ...               ...        ...       ...   \n24697   8620     821435.0           2      data_science         22  332000.0   \n24698  15854     973499.0           1            design         17  177000.0   \n24699  24611     815645.0           3      data_science          3   57000.0   \n24700  14533     957941.0           1          engineer         12  204000.0   \n24701  16467     928116.0          10         marketing         18  157000.0   \n\n       join_date  quit_date  duration  cumcount_join  cumcount_quit  class  \n0     2011-01-31 2011-10-13     255.0              9              0      0  \n1     2011-02-22 2011-10-14     234.0              9              0      0  \n2     2011-01-24 2011-10-21     270.0             16              0      0  \n3     2011-02-07 2011-10-28     263.0             22              0      0  \n4     2011-01-25 2011-11-11     290.0             25              1      0  \n...          ...        ...       ...            ...            ...    ...  \n24697 2015-12-09        NaT       NaN           4221           4221      0  \n24698 2015-12-09        NaT       NaN           8484           8484      0  \n24699 2015-12-09        NaT       NaN           2748           2748      0  \n24700 2015-12-10        NaT       NaN           8485           8485      0  \n24701 2015-12-10        NaT       NaN            864            864      0  \n\n[24702 rows x 12 columns]",
      "text/html": "<div>\n<style scoped>\n    .dataframe tbody tr th:only-of-type {\n        vertical-align: middle;\n    }\n\n    .dataframe tbody tr th {\n        vertical-align: top;\n    }\n\n    .dataframe thead th {\n        text-align: right;\n    }\n</style>\n<table border=\"1\" class=\"dataframe\">\n  <thead>\n    <tr style=\"text-align: right;\">\n      <th></th>\n      <th>index</th>\n      <th>employee_id</th>\n      <th>company_id</th>\n      <th>dept</th>\n      <th>seniority</th>\n      <th>salary</th>\n      <th>join_date</th>\n      <th>quit_date</th>\n      <th>duration</th>\n      <th>cumcount_join</th>\n      <th>cumcount_quit</th>\n      <th>class</th>\n    </tr>\n  </thead>\n  <tbody>\n    <tr>\n      <th>0</th>\n      <td>24518</td>\n      <td>751615.0</td>\n      <td>6</td>\n      <td>customer_service</td>\n      <td>6</td>\n      <td>63000.0</td>\n      <td>2011-01-31</td>\n      <td>2011-10-13</td>\n      <td>255.0</td>\n      <td>9</td>\n      <td>0</td>\n      <td>0</td>\n    </tr>\n    <tr>\n      <th>1</th>\n      <td>8465</td>\n      <td>972130.0</td>\n      <td>10</td>\n      <td>marketing</td>\n      <td>20</td>\n      <td>147000.0</td>\n      <td>2011-02-22</td>\n      <td>2011-10-14</td>\n      <td>234.0</td>\n      <td>9</td>\n      <td>0</td>\n      <td>0</td>\n    </tr>\n    <tr>\n      <th>2</th>\n      <td>15523</td>\n      <td>581263.0</td>\n      <td>1</td>\n      <td>sales</td>\n      <td>5</td>\n      <td>118000.0</td>\n      <td>2011-01-24</td>\n      <td>2011-10-21</td>\n      <td>270.0</td>\n      <td>16</td>\n      <td>0</td>\n      <td>0</td>\n    </tr>\n    <tr>\n      <th>3</th>\n      <td>15602</td>\n      <td>135834.0</td>\n      <td>4</td>\n      <td>engineer</td>\n      <td>16</td>\n      <td>169000.0</td>\n      <td>2011-02-07</td>\n      <td>2011-10-28</td>\n      <td>263.0</td>\n      <td>22</td>\n      <td>0</td>\n      <td>0</td>\n    </tr>\n    <tr>\n      <th>4</th>\n      <td>3777</td>\n      <td>71407.0</td>\n      <td>1</td>\n      <td>customer_service</td>\n      <td>19</td>\n      <td>107000.0</td>\n      <td>2011-01-25</td>\n      <td>2011-11-11</td>\n      <td>290.0</td>\n      <td>25</td>\n      <td>1</td>\n      <td>0</td>\n    </tr>\n    <tr>\n      <th>...</th>\n      <td>...</td>\n      <td>...</td>\n      <td>...</td>\n      <td>...</td>\n      <td>...</td>\n      <td>...</td>\n      <td>...</td>\n      <td>...</td>\n      <td>...</td>\n      <td>...</td>\n      <td>...</td>\n      <td>...</td>\n    </tr>\n    <tr>\n      <th>24697</th>\n      <td>8620</td>\n      <td>821435.0</td>\n      <td>2</td>\n      <td>data_science</td>\n      <td>22</td>\n      <td>332000.0</td>\n      <td>2015-12-09</td>\n      <td>NaT</td>\n      <td>NaN</td>\n      <td>4221</td>\n      <td>4221</td>\n      <td>0</td>\n    </tr>\n    <tr>\n      <th>24698</th>\n      <td>15854</td>\n      <td>973499.0</td>\n      <td>1</td>\n      <td>design</td>\n      <td>17</td>\n      <td>177000.0</td>\n      <td>2015-12-09</td>\n      <td>NaT</td>\n      <td>NaN</td>\n      <td>8484</td>\n      <td>8484</td>\n      <td>0</td>\n    </tr>\n    <tr>\n      <th>24699</th>\n      <td>24611</td>\n      <td>815645.0</td>\n      <td>3</td>\n      <td>data_science</td>\n      <td>3</td>\n      <td>57000.0</td>\n      <td>2015-12-09</td>\n      <td>NaT</td>\n      <td>NaN</td>\n      <td>2748</td>\n      <td>2748</td>\n      <td>0</td>\n    </tr>\n    <tr>\n      <th>24700</th>\n      <td>14533</td>\n      <td>957941.0</td>\n      <td>1</td>\n      <td>engineer</td>\n      <td>12</td>\n      <td>204000.0</td>\n      <td>2015-12-10</td>\n      <td>NaT</td>\n      <td>NaN</td>\n      <td>8485</td>\n      <td>8485</td>\n      <td>0</td>\n    </tr>\n    <tr>\n      <th>24701</th>\n      <td>16467</td>\n      <td>928116.0</td>\n      <td>10</td>\n      <td>marketing</td>\n      <td>18</td>\n      <td>157000.0</td>\n      <td>2015-12-10</td>\n      <td>NaT</td>\n      <td>NaN</td>\n      <td>864</td>\n      <td>864</td>\n      <td>0</td>\n    </tr>\n  </tbody>\n</table>\n<p>24702 rows × 12 columns</p>\n</div>"
     },
     "execution_count": 189,
     "metadata": {},
     "output_type": "execute_result"
    }
   ],
   "source": [
    "data_class = data\n",
    "data_class['class'] = 0\n",
    "data_class.info()\n",
    "data_class"
   ],
   "metadata": {
    "collapsed": false,
    "pycharm": {
     "name": "#%%\n"
    }
   }
  },
  {
   "cell_type": "code",
   "execution_count": 190,
   "outputs": [],
   "source": [
    "for i in range(0 , 24702):\n",
    "    if data_class.iloc[i, 8] <= 365+31:\n",
    "        data_class.iloc[i, 11] = 1\n",
    "    elif data_class.iloc[i,6] <= pd.to_datetime('2015/12/13')-pd.to_timedelta('396 days') and pd.isnull(data_class.iloc[i, 7])  :\n",
    "        data_class.iloc[i, 11] = 0\n",
    "    elif data_class.iloc[i, 6] > pd.to_datetime('2015/12/13')-pd.to_timedelta('396 days') and pd.isnull(data_class.iloc[i, 7]) :\n",
    "        data_class.iloc[i, 11]  = 2\n",
    "    elif data_class.iloc[i, 8] > 365+31:\n",
    "        data_class.iloc[i, 11] = 0\n"
   ],
   "metadata": {
    "collapsed": false,
    "pycharm": {
     "name": "#%%\n"
    }
   }
  },
  {
   "cell_type": "code",
   "execution_count": 191,
   "outputs": [
    {
     "data": {
      "text/plain": "       index  employee_id  company_id   dept  seniority  salary  join_date  \\\nclass                                                                        \n0      13484        13484       13484  13484      13484   13484      13484   \n1       5969         5969        5969   5969       5969    5969       5969   \n\n       quit_date  duration  cumcount_join  cumcount_quit  \nclass                                                     \n0           7541      7541          13484          13484  \n1           5969      5969           5969           5969  ",
      "text/html": "<div>\n<style scoped>\n    .dataframe tbody tr th:only-of-type {\n        vertical-align: middle;\n    }\n\n    .dataframe tbody tr th {\n        vertical-align: top;\n    }\n\n    .dataframe thead th {\n        text-align: right;\n    }\n</style>\n<table border=\"1\" class=\"dataframe\">\n  <thead>\n    <tr style=\"text-align: right;\">\n      <th></th>\n      <th>index</th>\n      <th>employee_id</th>\n      <th>company_id</th>\n      <th>dept</th>\n      <th>seniority</th>\n      <th>salary</th>\n      <th>join_date</th>\n      <th>quit_date</th>\n      <th>duration</th>\n      <th>cumcount_join</th>\n      <th>cumcount_quit</th>\n    </tr>\n    <tr>\n      <th>class</th>\n      <th></th>\n      <th></th>\n      <th></th>\n      <th></th>\n      <th></th>\n      <th></th>\n      <th></th>\n      <th></th>\n      <th></th>\n      <th></th>\n      <th></th>\n    </tr>\n  </thead>\n  <tbody>\n    <tr>\n      <th>0</th>\n      <td>13484</td>\n      <td>13484</td>\n      <td>13484</td>\n      <td>13484</td>\n      <td>13484</td>\n      <td>13484</td>\n      <td>13484</td>\n      <td>7541</td>\n      <td>7541</td>\n      <td>13484</td>\n      <td>13484</td>\n    </tr>\n    <tr>\n      <th>1</th>\n      <td>5969</td>\n      <td>5969</td>\n      <td>5969</td>\n      <td>5969</td>\n      <td>5969</td>\n      <td>5969</td>\n      <td>5969</td>\n      <td>5969</td>\n      <td>5969</td>\n      <td>5969</td>\n      <td>5969</td>\n    </tr>\n  </tbody>\n</table>\n</div>"
     },
     "execution_count": 191,
     "metadata": {},
     "output_type": "execute_result"
    }
   ],
   "source": [
    "data_class = data_class[data['class']!=2]\n",
    "data_class.groupby('class').count()"
   ],
   "metadata": {
    "collapsed": false,
    "pycharm": {
     "name": "#%%\n"
    }
   }
  },
  {
   "cell_type": "code",
   "execution_count": 193,
   "outputs": [
    {
     "name": "stdout",
     "output_type": "stream",
     "text": [
      "<class 'pandas.core.frame.DataFrame'>\n",
      "Int64Index: 19453 entries, 0 to 19452\n",
      "Data columns (total 12 columns):\n",
      " #   Column         Non-Null Count  Dtype         \n",
      "---  ------         --------------  -----         \n",
      " 0   index          19453 non-null  int64         \n",
      " 1   employee_id    19453 non-null  float64       \n",
      " 2   company_id     19453 non-null  int64         \n",
      " 3   dept           19453 non-null  object        \n",
      " 4   seniority      19453 non-null  int64         \n",
      " 5   salary         19453 non-null  float64       \n",
      " 6   join_date      19453 non-null  datetime64[ns]\n",
      " 7   quit_date      13510 non-null  datetime64[ns]\n",
      " 8   duration       13510 non-null  float64       \n",
      " 9   cumcount_join  19453 non-null  int64         \n",
      " 10  cumcount_quit  19453 non-null  int64         \n",
      " 11  class          19453 non-null  int64         \n",
      "dtypes: datetime64[ns](2), float64(3), int64(6), object(1)\n",
      "memory usage: 1.9+ MB\n"
     ]
    },
    {
     "data": {
      "text/plain": "   index  employee_id  company_id              dept  seniority    salary  \\\n0  24518     751615.0           6  customer_service          6   63000.0   \n1   8465     972130.0          10         marketing         20  147000.0   \n2  15523     581263.0           1             sales          5  118000.0   \n3  15602     135834.0           4          engineer         16  169000.0   \n4   3777      71407.0           1  customer_service         19  107000.0   \n\n   join_date  quit_date  duration  cumcount_join  cumcount_quit  class  \n0 2011-01-31 2011-10-13     255.0              9              0      1  \n1 2011-02-22 2011-10-14     234.0              9              0      1  \n2 2011-01-24 2011-10-21     270.0             16              0      1  \n3 2011-02-07 2011-10-28     263.0             22              0      1  \n4 2011-01-25 2011-11-11     290.0             25              1      1  ",
      "text/html": "<div>\n<style scoped>\n    .dataframe tbody tr th:only-of-type {\n        vertical-align: middle;\n    }\n\n    .dataframe tbody tr th {\n        vertical-align: top;\n    }\n\n    .dataframe thead th {\n        text-align: right;\n    }\n</style>\n<table border=\"1\" class=\"dataframe\">\n  <thead>\n    <tr style=\"text-align: right;\">\n      <th></th>\n      <th>index</th>\n      <th>employee_id</th>\n      <th>company_id</th>\n      <th>dept</th>\n      <th>seniority</th>\n      <th>salary</th>\n      <th>join_date</th>\n      <th>quit_date</th>\n      <th>duration</th>\n      <th>cumcount_join</th>\n      <th>cumcount_quit</th>\n      <th>class</th>\n    </tr>\n  </thead>\n  <tbody>\n    <tr>\n      <th>0</th>\n      <td>24518</td>\n      <td>751615.0</td>\n      <td>6</td>\n      <td>customer_service</td>\n      <td>6</td>\n      <td>63000.0</td>\n      <td>2011-01-31</td>\n      <td>2011-10-13</td>\n      <td>255.0</td>\n      <td>9</td>\n      <td>0</td>\n      <td>1</td>\n    </tr>\n    <tr>\n      <th>1</th>\n      <td>8465</td>\n      <td>972130.0</td>\n      <td>10</td>\n      <td>marketing</td>\n      <td>20</td>\n      <td>147000.0</td>\n      <td>2011-02-22</td>\n      <td>2011-10-14</td>\n      <td>234.0</td>\n      <td>9</td>\n      <td>0</td>\n      <td>1</td>\n    </tr>\n    <tr>\n      <th>2</th>\n      <td>15523</td>\n      <td>581263.0</td>\n      <td>1</td>\n      <td>sales</td>\n      <td>5</td>\n      <td>118000.0</td>\n      <td>2011-01-24</td>\n      <td>2011-10-21</td>\n      <td>270.0</td>\n      <td>16</td>\n      <td>0</td>\n      <td>1</td>\n    </tr>\n    <tr>\n      <th>3</th>\n      <td>15602</td>\n      <td>135834.0</td>\n      <td>4</td>\n      <td>engineer</td>\n      <td>16</td>\n      <td>169000.0</td>\n      <td>2011-02-07</td>\n      <td>2011-10-28</td>\n      <td>263.0</td>\n      <td>22</td>\n      <td>0</td>\n      <td>1</td>\n    </tr>\n    <tr>\n      <th>4</th>\n      <td>3777</td>\n      <td>71407.0</td>\n      <td>1</td>\n      <td>customer_service</td>\n      <td>19</td>\n      <td>107000.0</td>\n      <td>2011-01-25</td>\n      <td>2011-11-11</td>\n      <td>290.0</td>\n      <td>25</td>\n      <td>1</td>\n      <td>1</td>\n    </tr>\n  </tbody>\n</table>\n</div>"
     },
     "execution_count": 193,
     "metadata": {},
     "output_type": "execute_result"
    }
   ],
   "source": [
    "# look at the classification for each employee\n",
    "data_class.info()\n",
    "data_class.head()"
   ],
   "metadata": {
    "collapsed": false,
    "pycharm": {
     "name": "#%%\n"
    }
   }
  },
  {
   "cell_type": "code",
   "execution_count": 195,
   "outputs": [
    {
     "name": "stderr",
     "output_type": "stream",
     "text": [
      "D:\\temp\\ipykernel_78268\\2127987059.py:2: SettingWithCopyWarning: \n",
      "A value is trying to be set on a copy of a slice from a DataFrame\n",
      "\n",
      "See the caveats in the documentation: https://pandas.pydata.org/pandas-docs/stable/user_guide/indexing.html#returning-a-view-versus-a-copy\n",
      "  data_class['dept'].replace(data_class['dept'].unique(),range(len(data_class['dept'].unique())), inplace = True)\n"
     ]
    },
    {
     "ename": "KeyError",
     "evalue": "\"['index', 'duration', 'cumcount_join', 'cumcount_quit'] not found in axis\"",
     "output_type": "error",
     "traceback": [
      "\u001B[1;31m---------------------------------------------------------------------------\u001B[0m",
      "\u001B[1;31mKeyError\u001B[0m                                  Traceback (most recent call last)",
      "Input \u001B[1;32mIn [195]\u001B[0m, in \u001B[0;36m<cell line: 3>\u001B[1;34m()\u001B[0m\n\u001B[0;32m      1\u001B[0m \u001B[38;5;66;03m#find the type of dept is object, change to int, and drop the index, duration,cumjoin, cumquit column\u001B[39;00m\n\u001B[0;32m      2\u001B[0m data_class[\u001B[38;5;124m'\u001B[39m\u001B[38;5;124mdept\u001B[39m\u001B[38;5;124m'\u001B[39m]\u001B[38;5;241m.\u001B[39mreplace(data_class[\u001B[38;5;124m'\u001B[39m\u001B[38;5;124mdept\u001B[39m\u001B[38;5;124m'\u001B[39m]\u001B[38;5;241m.\u001B[39munique(),\u001B[38;5;28mrange\u001B[39m(\u001B[38;5;28mlen\u001B[39m(data_class[\u001B[38;5;124m'\u001B[39m\u001B[38;5;124mdept\u001B[39m\u001B[38;5;124m'\u001B[39m]\u001B[38;5;241m.\u001B[39munique())), inplace \u001B[38;5;241m=\u001B[39m \u001B[38;5;28;01mTrue\u001B[39;00m)\n\u001B[1;32m----> 3\u001B[0m \u001B[43mdata_class\u001B[49m\u001B[38;5;241;43m.\u001B[39;49m\u001B[43mdrop\u001B[49m\u001B[43m(\u001B[49m\u001B[43mcolumns\u001B[49m\u001B[43m \u001B[49m\u001B[38;5;241;43m=\u001B[39;49m\u001B[43m \u001B[49m\u001B[43m[\u001B[49m\u001B[38;5;124;43m'\u001B[39;49m\u001B[38;5;124;43mindex\u001B[39;49m\u001B[38;5;124;43m'\u001B[39;49m\u001B[43m,\u001B[49m\u001B[43m \u001B[49m\u001B[38;5;124;43m'\u001B[39;49m\u001B[38;5;124;43mduration\u001B[39;49m\u001B[38;5;124;43m'\u001B[39;49m\u001B[43m,\u001B[49m\u001B[43m \u001B[49m\u001B[38;5;124;43m'\u001B[39;49m\u001B[38;5;124;43mcumcount_join\u001B[39;49m\u001B[38;5;124;43m'\u001B[39;49m\u001B[43m,\u001B[49m\u001B[43m \u001B[49m\u001B[38;5;124;43m'\u001B[39;49m\u001B[38;5;124;43mcumcount_quit\u001B[39;49m\u001B[38;5;124;43m'\u001B[39;49m\u001B[43m]\u001B[49m\u001B[43m,\u001B[49m\u001B[43m \u001B[49m\u001B[43minplace\u001B[49m\u001B[43m \u001B[49m\u001B[38;5;241;43m=\u001B[39;49m\u001B[43m \u001B[49m\u001B[38;5;28;43;01mTrue\u001B[39;49;00m\u001B[43m)\u001B[49m\n",
      "File \u001B[1;32mD:\\Programs\\Python\\Python39\\lib\\site-packages\\pandas\\util\\_decorators.py:311\u001B[0m, in \u001B[0;36mdeprecate_nonkeyword_arguments.<locals>.decorate.<locals>.wrapper\u001B[1;34m(*args, **kwargs)\u001B[0m\n\u001B[0;32m    305\u001B[0m \u001B[38;5;28;01mif\u001B[39;00m \u001B[38;5;28mlen\u001B[39m(args) \u001B[38;5;241m>\u001B[39m num_allow_args:\n\u001B[0;32m    306\u001B[0m     warnings\u001B[38;5;241m.\u001B[39mwarn(\n\u001B[0;32m    307\u001B[0m         msg\u001B[38;5;241m.\u001B[39mformat(arguments\u001B[38;5;241m=\u001B[39marguments),\n\u001B[0;32m    308\u001B[0m         \u001B[38;5;167;01mFutureWarning\u001B[39;00m,\n\u001B[0;32m    309\u001B[0m         stacklevel\u001B[38;5;241m=\u001B[39mstacklevel,\n\u001B[0;32m    310\u001B[0m     )\n\u001B[1;32m--> 311\u001B[0m \u001B[38;5;28;01mreturn\u001B[39;00m func(\u001B[38;5;241m*\u001B[39margs, \u001B[38;5;241m*\u001B[39m\u001B[38;5;241m*\u001B[39mkwargs)\n",
      "File \u001B[1;32mD:\\Programs\\Python\\Python39\\lib\\site-packages\\pandas\\core\\frame.py:4948\u001B[0m, in \u001B[0;36mDataFrame.drop\u001B[1;34m(self, labels, axis, index, columns, level, inplace, errors)\u001B[0m\n\u001B[0;32m   4800\u001B[0m \u001B[38;5;129m@deprecate_nonkeyword_arguments\u001B[39m(version\u001B[38;5;241m=\u001B[39m\u001B[38;5;28;01mNone\u001B[39;00m, allowed_args\u001B[38;5;241m=\u001B[39m[\u001B[38;5;124m\"\u001B[39m\u001B[38;5;124mself\u001B[39m\u001B[38;5;124m\"\u001B[39m, \u001B[38;5;124m\"\u001B[39m\u001B[38;5;124mlabels\u001B[39m\u001B[38;5;124m\"\u001B[39m])\n\u001B[0;32m   4801\u001B[0m \u001B[38;5;28;01mdef\u001B[39;00m \u001B[38;5;21mdrop\u001B[39m(\n\u001B[0;32m   4802\u001B[0m     \u001B[38;5;28mself\u001B[39m,\n\u001B[1;32m   (...)\u001B[0m\n\u001B[0;32m   4809\u001B[0m     errors: \u001B[38;5;28mstr\u001B[39m \u001B[38;5;241m=\u001B[39m \u001B[38;5;124m\"\u001B[39m\u001B[38;5;124mraise\u001B[39m\u001B[38;5;124m\"\u001B[39m,\n\u001B[0;32m   4810\u001B[0m ):\n\u001B[0;32m   4811\u001B[0m     \u001B[38;5;124;03m\"\"\"\u001B[39;00m\n\u001B[0;32m   4812\u001B[0m \u001B[38;5;124;03m    Drop specified labels from rows or columns.\u001B[39;00m\n\u001B[0;32m   4813\u001B[0m \n\u001B[1;32m   (...)\u001B[0m\n\u001B[0;32m   4946\u001B[0m \u001B[38;5;124;03m            weight  1.0     0.8\u001B[39;00m\n\u001B[0;32m   4947\u001B[0m \u001B[38;5;124;03m    \"\"\"\u001B[39;00m\n\u001B[1;32m-> 4948\u001B[0m     \u001B[38;5;28;01mreturn\u001B[39;00m \u001B[38;5;28;43msuper\u001B[39;49m\u001B[43m(\u001B[49m\u001B[43m)\u001B[49m\u001B[38;5;241;43m.\u001B[39;49m\u001B[43mdrop\u001B[49m\u001B[43m(\u001B[49m\n\u001B[0;32m   4949\u001B[0m \u001B[43m        \u001B[49m\u001B[43mlabels\u001B[49m\u001B[38;5;241;43m=\u001B[39;49m\u001B[43mlabels\u001B[49m\u001B[43m,\u001B[49m\n\u001B[0;32m   4950\u001B[0m \u001B[43m        \u001B[49m\u001B[43maxis\u001B[49m\u001B[38;5;241;43m=\u001B[39;49m\u001B[43maxis\u001B[49m\u001B[43m,\u001B[49m\n\u001B[0;32m   4951\u001B[0m \u001B[43m        \u001B[49m\u001B[43mindex\u001B[49m\u001B[38;5;241;43m=\u001B[39;49m\u001B[43mindex\u001B[49m\u001B[43m,\u001B[49m\n\u001B[0;32m   4952\u001B[0m \u001B[43m        \u001B[49m\u001B[43mcolumns\u001B[49m\u001B[38;5;241;43m=\u001B[39;49m\u001B[43mcolumns\u001B[49m\u001B[43m,\u001B[49m\n\u001B[0;32m   4953\u001B[0m \u001B[43m        \u001B[49m\u001B[43mlevel\u001B[49m\u001B[38;5;241;43m=\u001B[39;49m\u001B[43mlevel\u001B[49m\u001B[43m,\u001B[49m\n\u001B[0;32m   4954\u001B[0m \u001B[43m        \u001B[49m\u001B[43minplace\u001B[49m\u001B[38;5;241;43m=\u001B[39;49m\u001B[43minplace\u001B[49m\u001B[43m,\u001B[49m\n\u001B[0;32m   4955\u001B[0m \u001B[43m        \u001B[49m\u001B[43merrors\u001B[49m\u001B[38;5;241;43m=\u001B[39;49m\u001B[43merrors\u001B[49m\u001B[43m,\u001B[49m\n\u001B[0;32m   4956\u001B[0m \u001B[43m    \u001B[49m\u001B[43m)\u001B[49m\n",
      "File \u001B[1;32mD:\\Programs\\Python\\Python39\\lib\\site-packages\\pandas\\core\\generic.py:4279\u001B[0m, in \u001B[0;36mNDFrame.drop\u001B[1;34m(self, labels, axis, index, columns, level, inplace, errors)\u001B[0m\n\u001B[0;32m   4277\u001B[0m \u001B[38;5;28;01mfor\u001B[39;00m axis, labels \u001B[38;5;129;01min\u001B[39;00m axes\u001B[38;5;241m.\u001B[39mitems():\n\u001B[0;32m   4278\u001B[0m     \u001B[38;5;28;01mif\u001B[39;00m labels \u001B[38;5;129;01mis\u001B[39;00m \u001B[38;5;129;01mnot\u001B[39;00m \u001B[38;5;28;01mNone\u001B[39;00m:\n\u001B[1;32m-> 4279\u001B[0m         obj \u001B[38;5;241m=\u001B[39m \u001B[43mobj\u001B[49m\u001B[38;5;241;43m.\u001B[39;49m\u001B[43m_drop_axis\u001B[49m\u001B[43m(\u001B[49m\u001B[43mlabels\u001B[49m\u001B[43m,\u001B[49m\u001B[43m \u001B[49m\u001B[43maxis\u001B[49m\u001B[43m,\u001B[49m\u001B[43m \u001B[49m\u001B[43mlevel\u001B[49m\u001B[38;5;241;43m=\u001B[39;49m\u001B[43mlevel\u001B[49m\u001B[43m,\u001B[49m\u001B[43m \u001B[49m\u001B[43merrors\u001B[49m\u001B[38;5;241;43m=\u001B[39;49m\u001B[43merrors\u001B[49m\u001B[43m)\u001B[49m\n\u001B[0;32m   4281\u001B[0m \u001B[38;5;28;01mif\u001B[39;00m inplace:\n\u001B[0;32m   4282\u001B[0m     \u001B[38;5;28mself\u001B[39m\u001B[38;5;241m.\u001B[39m_update_inplace(obj)\n",
      "File \u001B[1;32mD:\\Programs\\Python\\Python39\\lib\\site-packages\\pandas\\core\\generic.py:4323\u001B[0m, in \u001B[0;36mNDFrame._drop_axis\u001B[1;34m(self, labels, axis, level, errors, consolidate, only_slice)\u001B[0m\n\u001B[0;32m   4321\u001B[0m         new_axis \u001B[38;5;241m=\u001B[39m axis\u001B[38;5;241m.\u001B[39mdrop(labels, level\u001B[38;5;241m=\u001B[39mlevel, errors\u001B[38;5;241m=\u001B[39merrors)\n\u001B[0;32m   4322\u001B[0m     \u001B[38;5;28;01melse\u001B[39;00m:\n\u001B[1;32m-> 4323\u001B[0m         new_axis \u001B[38;5;241m=\u001B[39m \u001B[43maxis\u001B[49m\u001B[38;5;241;43m.\u001B[39;49m\u001B[43mdrop\u001B[49m\u001B[43m(\u001B[49m\u001B[43mlabels\u001B[49m\u001B[43m,\u001B[49m\u001B[43m \u001B[49m\u001B[43merrors\u001B[49m\u001B[38;5;241;43m=\u001B[39;49m\u001B[43merrors\u001B[49m\u001B[43m)\u001B[49m\n\u001B[0;32m   4324\u001B[0m     indexer \u001B[38;5;241m=\u001B[39m axis\u001B[38;5;241m.\u001B[39mget_indexer(new_axis)\n\u001B[0;32m   4326\u001B[0m \u001B[38;5;66;03m# Case for non-unique axis\u001B[39;00m\n\u001B[0;32m   4327\u001B[0m \u001B[38;5;28;01melse\u001B[39;00m:\n",
      "File \u001B[1;32mD:\\Programs\\Python\\Python39\\lib\\site-packages\\pandas\\core\\indexes\\base.py:6644\u001B[0m, in \u001B[0;36mIndex.drop\u001B[1;34m(self, labels, errors)\u001B[0m\n\u001B[0;32m   6642\u001B[0m \u001B[38;5;28;01mif\u001B[39;00m mask\u001B[38;5;241m.\u001B[39many():\n\u001B[0;32m   6643\u001B[0m     \u001B[38;5;28;01mif\u001B[39;00m errors \u001B[38;5;241m!=\u001B[39m \u001B[38;5;124m\"\u001B[39m\u001B[38;5;124mignore\u001B[39m\u001B[38;5;124m\"\u001B[39m:\n\u001B[1;32m-> 6644\u001B[0m         \u001B[38;5;28;01mraise\u001B[39;00m \u001B[38;5;167;01mKeyError\u001B[39;00m(\u001B[38;5;124mf\u001B[39m\u001B[38;5;124m\"\u001B[39m\u001B[38;5;132;01m{\u001B[39;00m\u001B[38;5;28mlist\u001B[39m(labels[mask])\u001B[38;5;132;01m}\u001B[39;00m\u001B[38;5;124m not found in axis\u001B[39m\u001B[38;5;124m\"\u001B[39m)\n\u001B[0;32m   6645\u001B[0m     indexer \u001B[38;5;241m=\u001B[39m indexer[\u001B[38;5;241m~\u001B[39mmask]\n\u001B[0;32m   6646\u001B[0m \u001B[38;5;28;01mreturn\u001B[39;00m \u001B[38;5;28mself\u001B[39m\u001B[38;5;241m.\u001B[39mdelete(indexer)\n",
      "\u001B[1;31mKeyError\u001B[0m: \"['index', 'duration', 'cumcount_join', 'cumcount_quit'] not found in axis\""
     ]
    }
   ],
   "source": [
    "#find the type of dept is object, change to int, and drop the index, duration,cumjoin, cumquit column\n",
    "data_class['dept'].replace(data_class['dept'].unique(),range(len(data_class['dept'].unique())), inplace = True)\n",
    "data_class.drop(columns = ['index', 'duration', 'cumcount_join', 'cumcount_quit'], inplace = True)\n"
   ],
   "metadata": {
    "collapsed": false,
    "pycharm": {
     "name": "#%%\n"
    }
   }
  },
  {
   "cell_type": "code",
   "execution_count": 197,
   "outputs": [],
   "source": [
    "#Use random forest to train data, separate data into train and test set\n",
    "from sklearn.model_selection import train_test_split\n",
    "from sklearn.ensemble import RandomForestClassifier\n",
    "train_set, test_set = train_test_split(data_class, test_size = 0.3)"
   ],
   "metadata": {
    "collapsed": false,
    "pycharm": {
     "name": "#%%\n"
    }
   }
  },
  {
   "cell_type": "code",
   "execution_count": 199,
   "outputs": [],
   "source": [
    "train_feature = train_set.iloc[:,1:5]\n",
    "train_label = train_set.iloc[:,7]"
   ],
   "metadata": {
    "collapsed": false,
    "pycharm": {
     "name": "#%%\n"
    }
   }
  },
  {
   "cell_type": "code",
   "execution_count": null,
   "outputs": [],
   "source": [
    "rf = RandomForestClassifier(n_estimators = 1000, oob_score =  True, random_state = 20)\n",
    "rf.fit(train_feature, train_label)"
   ],
   "metadata": {
    "collapsed": false,
    "pycharm": {
     "name": "#%%\n",
     "is_executing": true
    }
   }
  },
  {
   "cell_type": "code",
   "execution_count": 135,
   "outputs": [
    {
     "name": "stdout",
     "output_type": "stream",
     "text": [
      "OOB error: 0.5159141376757957\n"
     ]
    }
   ],
   "source": [
    "#OOB error and test error is\n",
    "print('OOB error:', rf.oob_score_)"
   ],
   "metadata": {
    "collapsed": false,
    "pycharm": {
     "name": "#%%\n"
    }
   }
  }
 ],
 "metadata": {
  "kernelspec": {
   "display_name": "Python 3",
   "language": "python",
   "name": "python3"
  },
  "language_info": {
   "codemirror_mode": {
    "name": "ipython",
    "version": 2
   },
   "file_extension": ".py",
   "mimetype": "text/x-python",
   "name": "python",
   "nbconvert_exporter": "python",
   "pygments_lexer": "ipython2",
   "version": "2.7.6"
  }
 },
 "nbformat": 4,
 "nbformat_minor": 0
}