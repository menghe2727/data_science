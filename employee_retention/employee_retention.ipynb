{
 "cells": [
  {
   "cell_type": "markdown",
   "metadata": {
    "collapsed": true,
    "pycharm": {
     "name": "#%% md\n"
    }
   },
   "source": [
    "# Goal\n",
    "\n",
    "Employee turn-over is a very costly problem for companies. The cost of replacing an employee\n",
    "if often larger than 100K USD, taking into account the time spent to interview and find a\n",
    "replacement, placement fees, sign-on bonuses and the loss of productivity for several months.\n",
    "\n",
    "It is only natural then that data science has started being applied to this area. Understanding\n",
    "why and when employees are most likely to leave can lead to actions to improve employee\n",
    "retention as well as planning new hiring in advance. This application of DS is sometimes called\n",
    "people analytics or people data science (if you see a job title: people data scientist, this is your\n",
    "job).\n",
    "\n",
    "In this challenge, you have a data set with info about the employees and have to predict when\n",
    "employees are going to quit by understanding the main drivers of employee churn.\n",
    "\n",
    "# Challenge Description\n",
    "\n",
    "We got employee data from a few companies. We have data about all employees who joined\n",
    "from 2011/01/24 to 2015/12/13. For each employee, we also know if they are still at the\n",
    "company as of 2015/12/13 or they have quit. Beside that, we have general info about the\n",
    "employee, such as avg salary during her tenure, dept, and yrs of experience.\n",
    "\n",
    "As said above, the goal is to predict employee retention and understand its main drivers.\n",
    "Specifically, you should:\n",
    "\n",
    "* Assume, for each company, that the headcount starts from zero on 2011/01/23. Estimate\n",
    "employee headcount, for each company, on each day, from 2011/01/24 to 2015/12/13.\n",
    "That is, if by 2012/03/02 2000 people have joined company 1 and 1000 of them have\n",
    "already quit, then company headcount on 2012/03/02 for company 1 would be 1000.\n",
    "You should create a table with 3 columns: day, employee_headcount, company_id.\n",
    "\n",
    "* What are the main factors that drive employee churn? Do they make sense? Explain your\n",
    "findings.\n",
    "\n",
    "* If you could add to this data set just one variable that could help explain employee churn,\n",
    "what would that be?\n",
    "\n",
    "# Data\n",
    "\n",
    "## Columns:\n",
    "\n",
    "* employee_id : id of the employee. Unique by employee per company\n",
    "* company_id : company id.\n",
    "* dept : employee dept\n",
    "* seniority : number of yrs of work experience when hired\n",
    "* salary: avg yearly salary of the employee during her tenure within the company\n",
    "* join_date: when the employee joined the company, it can only be between 2011/01/24\n",
    "and 2015/12/13\n",
    "* quit_date: when the employee left her job (if she is still employed as of 2015/12/13, this\n",
    "field is NA)\n"
   ]
  },
  {
   "cell_type": "code",
   "execution_count": 423,
   "outputs": [],
   "source": [
    "import pandas as pd\n",
    "import numpy as np\n",
    "from natsort import index_natsorted\n",
    "data = pd.read_csv('employee_retention.csv')\n",
    "data_origin = data"
   ],
   "metadata": {
    "collapsed": false,
    "pycharm": {
     "name": "#%%\n"
    }
   }
  },
  {
   "cell_type": "code",
   "execution_count": 424,
   "outputs": [
    {
     "name": "stdout",
     "output_type": "stream",
     "text": [
      "<class 'pandas.core.frame.DataFrame'>\n",
      "RangeIndex: 24702 entries, 0 to 24701\n",
      "Data columns (total 7 columns):\n",
      " #   Column       Non-Null Count  Dtype  \n",
      "---  ------       --------------  -----  \n",
      " 0   employee_id  24702 non-null  float64\n",
      " 1   company_id   24702 non-null  int64  \n",
      " 2   dept         24702 non-null  object \n",
      " 3   seniority    24702 non-null  int64  \n",
      " 4   salary       24702 non-null  float64\n",
      " 5   join_date    24702 non-null  object \n",
      " 6   quit_date    13510 non-null  object \n",
      "dtypes: float64(2), int64(2), object(3)\n",
      "memory usage: 1.3+ MB\n"
     ]
    }
   ],
   "source": [
    "# look at information of data, we can only quit date have null data\n",
    "data.info()"
   ],
   "metadata": {
    "collapsed": false,
    "pycharm": {
     "name": "#%%\n"
    }
   }
  },
  {
   "cell_type": "code",
   "execution_count": 425,
   "outputs": [
    {
     "data": {
      "text/plain": "         employee_id    company_id     seniority         salary\ncount   24702.000000  24702.000000  24702.000000   24702.000000\nmean   501604.403530      3.426969     14.127803  138183.345478\nstd    288909.026101      2.700011      8.089520   76058.184573\nmin        36.000000      1.000000      1.000000   17000.000000\n25%    250133.750000      1.000000      7.000000   79000.000000\n50%    500793.000000      2.000000     14.000000  123000.000000\n75%    753137.250000      5.000000     21.000000  187000.000000\nmax    999969.000000     12.000000     99.000000  408000.000000",
      "text/html": "<div>\n<style scoped>\n    .dataframe tbody tr th:only-of-type {\n        vertical-align: middle;\n    }\n\n    .dataframe tbody tr th {\n        vertical-align: top;\n    }\n\n    .dataframe thead th {\n        text-align: right;\n    }\n</style>\n<table border=\"1\" class=\"dataframe\">\n  <thead>\n    <tr style=\"text-align: right;\">\n      <th></th>\n      <th>employee_id</th>\n      <th>company_id</th>\n      <th>seniority</th>\n      <th>salary</th>\n    </tr>\n  </thead>\n  <tbody>\n    <tr>\n      <th>count</th>\n      <td>24702.000000</td>\n      <td>24702.000000</td>\n      <td>24702.000000</td>\n      <td>24702.000000</td>\n    </tr>\n    <tr>\n      <th>mean</th>\n      <td>501604.403530</td>\n      <td>3.426969</td>\n      <td>14.127803</td>\n      <td>138183.345478</td>\n    </tr>\n    <tr>\n      <th>std</th>\n      <td>288909.026101</td>\n      <td>2.700011</td>\n      <td>8.089520</td>\n      <td>76058.184573</td>\n    </tr>\n    <tr>\n      <th>min</th>\n      <td>36.000000</td>\n      <td>1.000000</td>\n      <td>1.000000</td>\n      <td>17000.000000</td>\n    </tr>\n    <tr>\n      <th>25%</th>\n      <td>250133.750000</td>\n      <td>1.000000</td>\n      <td>7.000000</td>\n      <td>79000.000000</td>\n    </tr>\n    <tr>\n      <th>50%</th>\n      <td>500793.000000</td>\n      <td>2.000000</td>\n      <td>14.000000</td>\n      <td>123000.000000</td>\n    </tr>\n    <tr>\n      <th>75%</th>\n      <td>753137.250000</td>\n      <td>5.000000</td>\n      <td>21.000000</td>\n      <td>187000.000000</td>\n    </tr>\n    <tr>\n      <th>max</th>\n      <td>999969.000000</td>\n      <td>12.000000</td>\n      <td>99.000000</td>\n      <td>408000.000000</td>\n    </tr>\n  </tbody>\n</table>\n</div>"
     },
     "execution_count": 425,
     "metadata": {},
     "output_type": "execute_result"
    }
   ],
   "source": [
    "data.describe()"
   ],
   "metadata": {
    "collapsed": false,
    "pycharm": {
     "name": "#%%\n"
    }
   }
  },
  {
   "cell_type": "code",
   "execution_count": 426,
   "outputs": [
    {
     "data": {
      "text/plain": "   employee_id  company_id              dept  seniority    salary   join_date  \\\n0      13021.0           7  customer_service         28   89000.0  2014-03-24   \n1     825355.0           7         marketing         20  183000.0  2013-04-29   \n2     927315.0           4         marketing         14  101000.0  2014-10-13   \n3     662910.0           7  customer_service         20  115000.0  2012-05-14   \n4     256971.0           2      data_science         23  276000.0  2011-10-17   \n\n    quit_date  \n0  2015-10-30  \n1  2014-04-04  \n2         NaN  \n3  2013-06-07  \n4  2014-08-22  ",
      "text/html": "<div>\n<style scoped>\n    .dataframe tbody tr th:only-of-type {\n        vertical-align: middle;\n    }\n\n    .dataframe tbody tr th {\n        vertical-align: top;\n    }\n\n    .dataframe thead th {\n        text-align: right;\n    }\n</style>\n<table border=\"1\" class=\"dataframe\">\n  <thead>\n    <tr style=\"text-align: right;\">\n      <th></th>\n      <th>employee_id</th>\n      <th>company_id</th>\n      <th>dept</th>\n      <th>seniority</th>\n      <th>salary</th>\n      <th>join_date</th>\n      <th>quit_date</th>\n    </tr>\n  </thead>\n  <tbody>\n    <tr>\n      <th>0</th>\n      <td>13021.0</td>\n      <td>7</td>\n      <td>customer_service</td>\n      <td>28</td>\n      <td>89000.0</td>\n      <td>2014-03-24</td>\n      <td>2015-10-30</td>\n    </tr>\n    <tr>\n      <th>1</th>\n      <td>825355.0</td>\n      <td>7</td>\n      <td>marketing</td>\n      <td>20</td>\n      <td>183000.0</td>\n      <td>2013-04-29</td>\n      <td>2014-04-04</td>\n    </tr>\n    <tr>\n      <th>2</th>\n      <td>927315.0</td>\n      <td>4</td>\n      <td>marketing</td>\n      <td>14</td>\n      <td>101000.0</td>\n      <td>2014-10-13</td>\n      <td>NaN</td>\n    </tr>\n    <tr>\n      <th>3</th>\n      <td>662910.0</td>\n      <td>7</td>\n      <td>customer_service</td>\n      <td>20</td>\n      <td>115000.0</td>\n      <td>2012-05-14</td>\n      <td>2013-06-07</td>\n    </tr>\n    <tr>\n      <th>4</th>\n      <td>256971.0</td>\n      <td>2</td>\n      <td>data_science</td>\n      <td>23</td>\n      <td>276000.0</td>\n      <td>2011-10-17</td>\n      <td>2014-08-22</td>\n    </tr>\n  </tbody>\n</table>\n</div>"
     },
     "execution_count": 426,
     "metadata": {},
     "output_type": "execute_result"
    }
   ],
   "source": [
    "data.head()\n"
   ],
   "metadata": {
    "collapsed": false,
    "pycharm": {
     "name": "#%%\n"
    }
   }
  },
  {
   "cell_type": "code",
   "execution_count": 427,
   "outputs": [],
   "source": [
    "data['join_date'] = pd.to_datetime(data.iloc[:, 5])\n",
    "data['quit_date'] = pd.to_datetime(data.iloc[:, 6])"
   ],
   "metadata": {
    "collapsed": false,
    "pycharm": {
     "name": "#%%\n"
    }
   }
  },
  {
   "cell_type": "code",
   "execution_count": 428,
   "outputs": [],
   "source": [
    "data['duration'] = data.iloc[:, 6]- data.iloc[:, 5]"
   ],
   "metadata": {
    "collapsed": false,
    "pycharm": {
     "name": "#%%\n"
    }
   }
  },
  {
   "cell_type": "code",
   "execution_count": 433,
   "outputs": [],
   "source": [
    "data['duration'] = data['duration'].dt.days\n",
    "\n"
   ],
   "metadata": {
    "collapsed": false,
    "pycharm": {
     "name": "#%%\n"
    }
   }
  },
  {
   "cell_type": "code",
   "execution_count": 445,
   "outputs": [
    {
     "data": {
      "text/plain": "   employee_id  company_id              dept  seniority    salary  join_date  \\\n0      13021.0           7  customer_service         28   89000.0 2014-03-24   \n1     825355.0           7         marketing         20  183000.0 2013-04-29   \n2     927315.0           4         marketing         14  101000.0 2014-10-13   \n3     662910.0           7  customer_service         20  115000.0 2012-05-14   \n4     256971.0           2      data_science         23  276000.0 2011-10-17   \n\n   quit_date  duration  \n0 2015-10-30     585.0  \n1 2014-04-04     340.0  \n2        NaT       NaN  \n3 2013-06-07     389.0  \n4 2014-08-22    1040.0  ",
      "text/html": "<div>\n<style scoped>\n    .dataframe tbody tr th:only-of-type {\n        vertical-align: middle;\n    }\n\n    .dataframe tbody tr th {\n        vertical-align: top;\n    }\n\n    .dataframe thead th {\n        text-align: right;\n    }\n</style>\n<table border=\"1\" class=\"dataframe\">\n  <thead>\n    <tr style=\"text-align: right;\">\n      <th></th>\n      <th>employee_id</th>\n      <th>company_id</th>\n      <th>dept</th>\n      <th>seniority</th>\n      <th>salary</th>\n      <th>join_date</th>\n      <th>quit_date</th>\n      <th>duration</th>\n    </tr>\n  </thead>\n  <tbody>\n    <tr>\n      <th>0</th>\n      <td>13021.0</td>\n      <td>7</td>\n      <td>customer_service</td>\n      <td>28</td>\n      <td>89000.0</td>\n      <td>2014-03-24</td>\n      <td>2015-10-30</td>\n      <td>585.0</td>\n    </tr>\n    <tr>\n      <th>1</th>\n      <td>825355.0</td>\n      <td>7</td>\n      <td>marketing</td>\n      <td>20</td>\n      <td>183000.0</td>\n      <td>2013-04-29</td>\n      <td>2014-04-04</td>\n      <td>340.0</td>\n    </tr>\n    <tr>\n      <th>2</th>\n      <td>927315.0</td>\n      <td>4</td>\n      <td>marketing</td>\n      <td>14</td>\n      <td>101000.0</td>\n      <td>2014-10-13</td>\n      <td>NaT</td>\n      <td>NaN</td>\n    </tr>\n    <tr>\n      <th>3</th>\n      <td>662910.0</td>\n      <td>7</td>\n      <td>customer_service</td>\n      <td>20</td>\n      <td>115000.0</td>\n      <td>2012-05-14</td>\n      <td>2013-06-07</td>\n      <td>389.0</td>\n    </tr>\n    <tr>\n      <th>4</th>\n      <td>256971.0</td>\n      <td>2</td>\n      <td>data_science</td>\n      <td>23</td>\n      <td>276000.0</td>\n      <td>2011-10-17</td>\n      <td>2014-08-22</td>\n      <td>1040.0</td>\n    </tr>\n  </tbody>\n</table>\n</div>"
     },
     "execution_count": 445,
     "metadata": {},
     "output_type": "execute_result"
    }
   ],
   "source": [
    "data.head()"
   ],
   "metadata": {
    "collapsed": false,
    "pycharm": {
     "name": "#%%\n"
    }
   }
  },
  {
   "cell_type": "code",
   "execution_count": 389,
   "outputs": [
    {
     "name": "stdout",
     "output_type": "stream",
     "text": [
      "the number of unique employee id 24702\n",
      "the number of all employee id 24702\n"
     ]
    }
   ],
   "source": [
    "print(\"the number of unique employee id\", len(data['employee_id'].unique()))\n",
    "print('the number of all employee id', len(data['employee_id']))\n"
   ],
   "metadata": {
    "collapsed": false,
    "pycharm": {
     "name": "#%%\n"
    }
   }
  },
  {
   "cell_type": "code",
   "execution_count": 390,
   "outputs": [
    {
     "name": "stderr",
     "output_type": "stream",
     "text": [
      "D:\\temp\\ipykernel_57184\\253108154.py:8: FutureWarning: In a future version of pandas all arguments of DataFrame.drop except for the argument 'labels' will be keyword-only.\n",
      "  head_count = head_count.merge(company,on = 'key').drop('key', 1)\n"
     ]
    }
   ],
   "source": [
    "# create new table for head_count\n",
    "head_count = pd.DataFrame()\n",
    "company = pd.DataFrame()\n",
    "head_count['day'] = pd.date_range(pd.to_datetime('2011/01/23'), pd.to_datetime('2015/12/13'))\n",
    "head_count['key'] = 1\n",
    "company['company'] = data['company_id'].unique()\n",
    "company['key'] = 1\n",
    "head_count = head_count.merge(company,on = 'key').drop('key', 1)"
   ],
   "metadata": {
    "collapsed": false,
    "pycharm": {
     "name": "#%%\n"
    }
   }
  },
  {
   "cell_type": "code",
   "execution_count": 391,
   "outputs": [
    {
     "data": {
      "text/plain": "             day  company\n0     2011-01-23        7\n1     2011-01-23        4\n2     2011-01-23        2\n3     2011-01-23        9\n4     2011-01-23        1\n...          ...      ...\n21427 2015-12-13        5\n21428 2015-12-13        3\n21429 2015-12-13        8\n21430 2015-12-13       11\n21431 2015-12-13       12\n\n[21432 rows x 2 columns]",
      "text/html": "<div>\n<style scoped>\n    .dataframe tbody tr th:only-of-type {\n        vertical-align: middle;\n    }\n\n    .dataframe tbody tr th {\n        vertical-align: top;\n    }\n\n    .dataframe thead th {\n        text-align: right;\n    }\n</style>\n<table border=\"1\" class=\"dataframe\">\n  <thead>\n    <tr style=\"text-align: right;\">\n      <th></th>\n      <th>day</th>\n      <th>company</th>\n    </tr>\n  </thead>\n  <tbody>\n    <tr>\n      <th>0</th>\n      <td>2011-01-23</td>\n      <td>7</td>\n    </tr>\n    <tr>\n      <th>1</th>\n      <td>2011-01-23</td>\n      <td>4</td>\n    </tr>\n    <tr>\n      <th>2</th>\n      <td>2011-01-23</td>\n      <td>2</td>\n    </tr>\n    <tr>\n      <th>3</th>\n      <td>2011-01-23</td>\n      <td>9</td>\n    </tr>\n    <tr>\n      <th>4</th>\n      <td>2011-01-23</td>\n      <td>1</td>\n    </tr>\n    <tr>\n      <th>...</th>\n      <td>...</td>\n      <td>...</td>\n    </tr>\n    <tr>\n      <th>21427</th>\n      <td>2015-12-13</td>\n      <td>5</td>\n    </tr>\n    <tr>\n      <th>21428</th>\n      <td>2015-12-13</td>\n      <td>3</td>\n    </tr>\n    <tr>\n      <th>21429</th>\n      <td>2015-12-13</td>\n      <td>8</td>\n    </tr>\n    <tr>\n      <th>21430</th>\n      <td>2015-12-13</td>\n      <td>11</td>\n    </tr>\n    <tr>\n      <th>21431</th>\n      <td>2015-12-13</td>\n      <td>12</td>\n    </tr>\n  </tbody>\n</table>\n<p>21432 rows × 2 columns</p>\n</div>"
     },
     "execution_count": 391,
     "metadata": {},
     "output_type": "execute_result"
    }
   ],
   "source": [
    "head_count"
   ],
   "metadata": {
    "collapsed": false,
    "pycharm": {
     "name": "#%%\n"
    }
   }
  },
  {
   "cell_type": "code",
   "execution_count": 392,
   "outputs": [],
   "source": [
    "#calculate how many employee was join in each company for each day\n",
    "data.set_index('join_date')\n",
    "data.sort_values(by = 'join_date', key=lambda x: np.argsort(index_natsorted(data[\"join_date\"])),inplace = True)\n",
    "data['cumcount_join'] = data.groupby('company_id').cumcount()"
   ],
   "metadata": {
    "collapsed": false,
    "pycharm": {
     "name": "#%%\n"
    }
   }
  },
  {
   "cell_type": "code",
   "execution_count": 393,
   "outputs": [],
   "source": [
    "#calculate how many employee was quit in each company for each day\n",
    "data.sort_values(by = 'quit_date', inplace = True)\n",
    "data.reset_index(inplace= True)\n",
    "data['cumcount_quit'] = data.groupby('company_id').cumcount()"
   ],
   "metadata": {
    "collapsed": false,
    "pycharm": {
     "name": "#%%\n"
    }
   }
  },
  {
   "cell_type": "code",
   "execution_count": 394,
   "outputs": [],
   "source": [
    "#extract the number of employee was join in each company for each day\n",
    "join_count = data.groupby(['company_id', 'join_date'], as_index= False).max()\n",
    "join_count = join_count.iloc[:,[0,1,9]]"
   ],
   "metadata": {
    "collapsed": false,
    "pycharm": {
     "name": "#%%\n"
    }
   }
  },
  {
   "cell_type": "code",
   "execution_count": 396,
   "outputs": [
    {
     "data": {
      "text/plain": "      company_id  quit_date  index  employee_id              dept  seniority  \\\n0              1 2011-10-21  15523     581263.0             sales          5   \n1              1 2011-11-11   3777      71407.0  customer_service         19   \n2              1 2011-11-22  23303     202573.0          engineer         10   \n3              1 2011-11-25  10602     571350.0         marketing          7   \n4              1 2011-12-09  21527     410589.0          engineer         14   \n...          ...        ...    ...          ...               ...        ...   \n2719          12 2013-10-18   1680     824438.0             sales         22   \n2720          12 2013-10-25  10255     808516.0  customer_service          3   \n2721          12 2014-02-07   5177      67874.0             sales          5   \n2722          12 2014-09-19  16599     165867.0  customer_service         10   \n2723          12 2015-05-08  13406     480162.0      data_science         12   \n\n        salary  join_date duration  cumcount_join  cumcount_quit  \n0     118000.0 2011-01-24 270 days             16              0  \n1     107000.0 2011-01-25 290 days             25              1  \n2     199000.0 2011-01-31 295 days             57              2  \n3     119000.0 2011-01-31 298 days             44              3  \n4     208000.0 2011-02-08 304 days            100              4  \n...        ...        ...      ...            ...            ...  \n2719  109000.0 2011-06-20 851 days              3              6  \n2720   18000.0 2012-11-12 347 days              7              7  \n2721   88000.0 2013-03-11 333 days             11              8  \n2722   42000.0 2012-11-26 662 days              8              9  \n2723  110000.0 2014-05-19 648 days             18             11  \n\n[2724 rows x 11 columns]",
      "text/html": "<div>\n<style scoped>\n    .dataframe tbody tr th:only-of-type {\n        vertical-align: middle;\n    }\n\n    .dataframe tbody tr th {\n        vertical-align: top;\n    }\n\n    .dataframe thead th {\n        text-align: right;\n    }\n</style>\n<table border=\"1\" class=\"dataframe\">\n  <thead>\n    <tr style=\"text-align: right;\">\n      <th></th>\n      <th>company_id</th>\n      <th>quit_date</th>\n      <th>index</th>\n      <th>employee_id</th>\n      <th>dept</th>\n      <th>seniority</th>\n      <th>salary</th>\n      <th>join_date</th>\n      <th>duration</th>\n      <th>cumcount_join</th>\n      <th>cumcount_quit</th>\n    </tr>\n  </thead>\n  <tbody>\n    <tr>\n      <th>0</th>\n      <td>1</td>\n      <td>2011-10-21</td>\n      <td>15523</td>\n      <td>581263.0</td>\n      <td>sales</td>\n      <td>5</td>\n      <td>118000.0</td>\n      <td>2011-01-24</td>\n      <td>270 days</td>\n      <td>16</td>\n      <td>0</td>\n    </tr>\n    <tr>\n      <th>1</th>\n      <td>1</td>\n      <td>2011-11-11</td>\n      <td>3777</td>\n      <td>71407.0</td>\n      <td>customer_service</td>\n      <td>19</td>\n      <td>107000.0</td>\n      <td>2011-01-25</td>\n      <td>290 days</td>\n      <td>25</td>\n      <td>1</td>\n    </tr>\n    <tr>\n      <th>2</th>\n      <td>1</td>\n      <td>2011-11-22</td>\n      <td>23303</td>\n      <td>202573.0</td>\n      <td>engineer</td>\n      <td>10</td>\n      <td>199000.0</td>\n      <td>2011-01-31</td>\n      <td>295 days</td>\n      <td>57</td>\n      <td>2</td>\n    </tr>\n    <tr>\n      <th>3</th>\n      <td>1</td>\n      <td>2011-11-25</td>\n      <td>10602</td>\n      <td>571350.0</td>\n      <td>marketing</td>\n      <td>7</td>\n      <td>119000.0</td>\n      <td>2011-01-31</td>\n      <td>298 days</td>\n      <td>44</td>\n      <td>3</td>\n    </tr>\n    <tr>\n      <th>4</th>\n      <td>1</td>\n      <td>2011-12-09</td>\n      <td>21527</td>\n      <td>410589.0</td>\n      <td>engineer</td>\n      <td>14</td>\n      <td>208000.0</td>\n      <td>2011-02-08</td>\n      <td>304 days</td>\n      <td>100</td>\n      <td>4</td>\n    </tr>\n    <tr>\n      <th>...</th>\n      <td>...</td>\n      <td>...</td>\n      <td>...</td>\n      <td>...</td>\n      <td>...</td>\n      <td>...</td>\n      <td>...</td>\n      <td>...</td>\n      <td>...</td>\n      <td>...</td>\n      <td>...</td>\n    </tr>\n    <tr>\n      <th>2719</th>\n      <td>12</td>\n      <td>2013-10-18</td>\n      <td>1680</td>\n      <td>824438.0</td>\n      <td>sales</td>\n      <td>22</td>\n      <td>109000.0</td>\n      <td>2011-06-20</td>\n      <td>851 days</td>\n      <td>3</td>\n      <td>6</td>\n    </tr>\n    <tr>\n      <th>2720</th>\n      <td>12</td>\n      <td>2013-10-25</td>\n      <td>10255</td>\n      <td>808516.0</td>\n      <td>customer_service</td>\n      <td>3</td>\n      <td>18000.0</td>\n      <td>2012-11-12</td>\n      <td>347 days</td>\n      <td>7</td>\n      <td>7</td>\n    </tr>\n    <tr>\n      <th>2721</th>\n      <td>12</td>\n      <td>2014-02-07</td>\n      <td>5177</td>\n      <td>67874.0</td>\n      <td>sales</td>\n      <td>5</td>\n      <td>88000.0</td>\n      <td>2013-03-11</td>\n      <td>333 days</td>\n      <td>11</td>\n      <td>8</td>\n    </tr>\n    <tr>\n      <th>2722</th>\n      <td>12</td>\n      <td>2014-09-19</td>\n      <td>16599</td>\n      <td>165867.0</td>\n      <td>customer_service</td>\n      <td>10</td>\n      <td>42000.0</td>\n      <td>2012-11-26</td>\n      <td>662 days</td>\n      <td>8</td>\n      <td>9</td>\n    </tr>\n    <tr>\n      <th>2723</th>\n      <td>12</td>\n      <td>2015-05-08</td>\n      <td>13406</td>\n      <td>480162.0</td>\n      <td>data_science</td>\n      <td>12</td>\n      <td>110000.0</td>\n      <td>2014-05-19</td>\n      <td>648 days</td>\n      <td>18</td>\n      <td>11</td>\n    </tr>\n  </tbody>\n</table>\n<p>2724 rows × 11 columns</p>\n</div>"
     },
     "execution_count": 396,
     "metadata": {},
     "output_type": "execute_result"
    }
   ],
   "source": [
    "#extract the number of employee was quit in each company for each day\n",
    "quit_count = data.groupby(['company_id', 'quit_date'], as_index= False).max()\n",
    "quit_count = quit_count.iloc[:,[0,1,10]]"
   ],
   "metadata": {
    "collapsed": false,
    "pycharm": {
     "name": "#%%\n"
    }
   }
  },
  {
   "cell_type": "code",
   "execution_count": 399,
   "outputs": [],
   "source": [
    "#merge join table into head_count by using left join, but there have some null data for join_date\n",
    "head_count = head_count.merge(join_count, left_on=['day', 'company'], right_on = ['join_date', 'company_id'], how = 'left')"
   ],
   "metadata": {
    "collapsed": false,
    "pycharm": {
     "name": "#%%\n"
    }
   }
  },
  {
   "cell_type": "code",
   "execution_count": 400,
   "outputs": [],
   "source": [
    "#and then merge quit table into head_count by using left join, but there have some null data for quit_date\n",
    "head_count = head_count.merge(quit_count, left_on=['day', 'company'], right_on = ['quit_date', 'company_id'], how = 'left')"
   ],
   "metadata": {
    "collapsed": false,
    "pycharm": {
     "name": "#%%\n"
    }
   }
  },
  {
   "cell_type": "code",
   "execution_count": 416,
   "outputs": [
    {
     "name": "stdout",
     "output_type": "stream",
     "text": [
      "<class 'pandas.core.frame.DataFrame'>\n",
      "Int64Index: 21432 entries, 0 to 21431\n",
      "Data columns (total 8 columns):\n",
      " #   Column         Non-Null Count  Dtype         \n",
      "---  ------         --------------  -----         \n",
      " 0   day            21432 non-null  datetime64[ns]\n",
      " 1   company        21432 non-null  int64         \n",
      " 2   company_id_x   5130 non-null   float64       \n",
      " 3   join_date      5130 non-null   datetime64[ns]\n",
      " 4   cumcount_join  5130 non-null   float64       \n",
      " 5   company_id_y   2724 non-null   float64       \n",
      " 6   quit_date      2724 non-null   datetime64[ns]\n",
      " 7   cumcount_quit  2724 non-null   float64       \n",
      "dtypes: datetime64[ns](3), float64(4), int64(1)\n",
      "memory usage: 1.5 MB\n"
     ]
    }
   ],
   "source": [
    "#look at the null date for head count table, find join date and quit date have many null data,\n",
    "# we should set the number of employee on first day equal to zero\n",
    "# use the number of join subtract the number of quit is equal head count\n",
    "head_count.info()\n"
   ],
   "metadata": {
    "collapsed": false,
    "pycharm": {
     "name": "#%%\n"
    }
   }
  },
  {
   "cell_type": "code",
   "execution_count": 403,
   "outputs": [],
   "source": [
    "# so if the join number or quit number is null, set the join number or quit number equal to the join number or quit number of previous day\n",
    "head_count_new = pd.DataFrame()\n",
    "for j in range(1, 13):\n",
    "    head_count_company = head_count[head_count['company'] == j]\n",
    "    head_count_company.iloc[0, 4] = 0\n",
    "    head_count_company.iloc[0, 7] = 0\n",
    "    for i in range(1, 1786):\n",
    "        if pd.isnull(head_count_company.iloc[i,4]):\n",
    "            head_count_company.iloc[i, 4] = head_count_company.iloc[i-1,4]\n",
    "        else:\n",
    "            head_count_company.iloc[i, 4] = head_count_company.iloc[i, 4]\n",
    "        if pd.isnull(head_count_company.iloc[i,7]):\n",
    "            head_count_company.iloc[i, 7] = head_count_company.iloc[i-1,7]\n",
    "        else:\n",
    "            head_count_company.iloc[i, 7] = head_count_company.iloc[i, 7]\n",
    "    head_count_new = pd.concat([head_count_new, head_count_company])"
   ],
   "metadata": {
    "collapsed": false,
    "pycharm": {
     "name": "#%%\n"
    }
   }
  },
  {
   "cell_type": "code",
   "execution_count": 410,
   "outputs": [],
   "source": [
    "# calculate the head count of each company for each day\n",
    "head_count_new['head_count'] = head_count_new['cumcount_join'] -head_count_new['cumcount_quit']"
   ],
   "metadata": {
    "collapsed": false,
    "pycharm": {
     "name": "#%%\n"
    }
   }
  },
  {
   "cell_type": "code",
   "execution_count": 413,
   "outputs": [],
   "source": [
    "head_count_table = head_count_new.iloc[:,[0,1,8]]"
   ],
   "metadata": {
    "collapsed": false,
    "pycharm": {
     "name": "#%%\n"
    }
   }
  },
  {
   "cell_type": "code",
   "execution_count": 415,
   "outputs": [
    {
     "name": "stdout",
     "output_type": "stream",
     "text": [
      "<class 'pandas.core.frame.DataFrame'>\n",
      "Int64Index: 21432 entries, 4 to 21431\n",
      "Data columns (total 3 columns):\n",
      " #   Column      Non-Null Count  Dtype         \n",
      "---  ------      --------------  -----         \n",
      " 0   day         21432 non-null  datetime64[ns]\n",
      " 1   company     21432 non-null  int64         \n",
      " 2   head_count  21432 non-null  float64       \n",
      "dtypes: datetime64[ns](1), float64(1), int64(1)\n",
      "memory usage: 669.8 KB\n"
     ]
    }
   ],
   "source": [
    "head_count_table.info()\n"
   ],
   "metadata": {
    "collapsed": false,
    "pycharm": {
     "name": "#%%\n"
    }
   }
  },
  {
   "cell_type": "code",
   "execution_count": 458,
   "outputs": [
    {
     "data": {
      "text/plain": "<AxesSubplot:ylabel='Frequency'>"
     },
     "execution_count": 458,
     "metadata": {},
     "output_type": "execute_result"
    },
    {
     "data": {
      "text/plain": "<Figure size 720x576 with 1 Axes>",
      "image/png": "[encoded data removed]"
     },
     "metadata": {
      "needs_background": "light"
     },
     "output_type": "display_data"
    }
   ],
   "source": [
    "#try to understand employee retention, plot the frequency plot for employee was employed.\n",
    "employed_length = data['duration'].dropna()\n",
    "employed_length.plot.hist(column=['duration'], figsize = (10,8), bins =100, color='green')\n"
   ],
   "metadata": {
    "collapsed": false,
    "pycharm": {
     "name": "#%%\n"
    }
   }
  },
  {
   "cell_type": "code",
   "execution_count": null,
   "outputs": [],
   "source": [],
   "metadata": {
    "collapsed": false,
    "pycharm": {
     "name": "#%%\n"
    }
   }
  }
 ],
 "metadata": {
  "kernelspec": {
   "display_name": "Python 3",
   "language": "python",
   "name": "python3"
  },
  "language_info": {
   "codemirror_mode": {
    "name": "ipython",
    "version": 2
   },
   "file_extension": ".py",
   "mimetype": "text/x-python",
   "name": "python",
   "nbconvert_exporter": "python",
   "pygments_lexer": "ipython2",
   "version": "2.7.6"
  }
 },
 "nbformat": 4,
 "nbformat_minor": 0
}