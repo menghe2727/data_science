{
 "cells": [
  {
   "cell_type": "code",
   "execution_count": 2,
   "metadata": {
    "pycharm": {
     "name": "#%%\n"
    }
   },
   "outputs": [],
   "source": [
    "import torch\n",
    "import torch.nn.functional as F\n",
    "import torchtext\n",
    "import time\n",
    "import random\n",
    "import pandas as pd\n",
    "import numpy as np\n",
    "from sklearn.metrics import confusion_matrix\n",
    "import matplotlib.pyplot as plt"
   ]
  },
  {
   "cell_type": "code",
   "execution_count": 3,
   "metadata": {
    "pycharm": {
     "name": "#%%\n"
    }
   },
   "outputs": [
    {
     "name": "stdout",
     "output_type": "stream",
     "text": [
      "1.8.2+cu111\n"
     ]
    }
   ],
   "source": [
    "print(torch.__version__)"
   ]
  },
  {
   "cell_type": "code",
   "execution_count": 4,
   "outputs": [
    {
     "data": {
      "text/plain": "True"
     },
     "execution_count": 4,
     "metadata": {},
     "output_type": "execute_result"
    }
   ],
   "source": [
    "torch.cuda.is_available()"
   ],
   "metadata": {
    "collapsed": false,
    "pycharm": {
     "name": "#%%\n"
    }
   }
  },
  {
   "cell_type": "markdown",
   "metadata": {
    "pycharm": {
     "name": "#%% md\n"
    }
   },
   "source": [
    "The data course is from kaggle youtube  statistics:\n",
    "https://www.kaggle.com/code/elem3ntary/predicting-comment-sentiment/data\n",
    "\n",
    "The code is from :https://sebastianraschka.com/blog/2021/dl-course.html"
   ]
  },
  {
   "cell_type": "markdown",
   "metadata": {
    "pycharm": {
     "name": "#%% md\n"
    }
   },
   "source": [
    "Comment Sentiment:\n",
    "0 represents a negative sentiment\n",
    "1 and 2 represent neutral"
   ]
  },
  {
   "cell_type": "code",
   "execution_count": 5,
   "metadata": {
    "pycharm": {
     "name": "#%%\n"
    }
   },
   "outputs": [],
   "source": [
    "RANDOM_SEED = 123\n",
    "torch.manual_seed(RANDOM_SEED)\n",
    "\n",
    "VOCABULARY_SIZE = 20000\n",
    "LEARNING_RATE = 0.01\n",
    "BATCH_SIZE = 128\n",
    "NUM_EPOCHS = 100\n",
    "DEVICE = torch.device('cuda' if torch.cuda.is_available() else 'cpu')\n",
    "\n",
    "EMBEDDING_DIM = 128\n",
    "HIDDEN_DIM = 256\n",
    "NUM_CLASSES = 3"
   ]
  },
  {
   "cell_type": "code",
   "execution_count": 6,
   "metadata": {
    "pycharm": {
     "name": "#%%\n"
    }
   },
   "outputs": [
    {
     "name": "stdout",
     "output_type": "stream",
     "text": [
      "cuda\n"
     ]
    }
   ],
   "source": [
    "print(DEVICE)"
   ]
  },
  {
   "cell_type": "code",
   "execution_count": 7,
   "metadata": {
    "pycharm": {
     "name": "#%%\n"
    }
   },
   "outputs": [
    {
     "data": {
      "text/plain": "<AxesSubplot: xlabel='Sentiment'>"
     },
     "execution_count": 7,
     "metadata": {},
     "output_type": "execute_result"
    },
    {
     "data": {
      "text/plain": "<Figure size 640x480 with 1 Axes>",
      "image/png": "[encoded data removed]"
     },
     "metadata": {},
     "output_type": "display_data"
    }
   ],
   "source": [
    "# read the data\n",
    "comment =  pd.read_csv('comments.csv')\n",
    "comment.groupby('Sentiment').count()['Comment'].plot.bar()\n"
   ]
  },
  {
   "cell_type": "code",
   "execution_count": 8,
   "outputs": [
    {
     "data": {
      "text/plain": "   Unnamed: 0     Video ID                                            Comment  \\\n0           0  wAZZ-UWGVHI  Let's not forget that Apple Pay in 2014 requir...   \n1           1  wAZZ-UWGVHI  Here in NZ 50% of retailers don’t even have co...   \n2           2  wAZZ-UWGVHI  I will forever acknowledge this channel with t...   \n3           3  wAZZ-UWGVHI  Whenever I go to a place that doesn’t take App...   \n4           4  wAZZ-UWGVHI  Apple Pay is so convenient, secure, and easy t...   \n\n   Likes  Sentiment  \n0   95.0        1.0  \n1   19.0        0.0  \n2  161.0        2.0  \n3    8.0        0.0  \n4   34.0        2.0  ",
      "text/html": "<div>\n<style scoped>\n    .dataframe tbody tr th:only-of-type {\n        vertical-align: middle;\n    }\n\n    .dataframe tbody tr th {\n        vertical-align: top;\n    }\n\n    .dataframe thead th {\n        text-align: right;\n    }\n</style>\n<table border=\"1\" class=\"dataframe\">\n  <thead>\n    <tr style=\"text-align: right;\">\n      <th></th>\n      <th>Unnamed: 0</th>\n      <th>Video ID</th>\n      <th>Comment</th>\n      <th>Likes</th>\n      <th>Sentiment</th>\n    </tr>\n  </thead>\n  <tbody>\n    <tr>\n      <th>0</th>\n      <td>0</td>\n      <td>wAZZ-UWGVHI</td>\n      <td>Let's not forget that Apple Pay in 2014 requir...</td>\n      <td>95.0</td>\n      <td>1.0</td>\n    </tr>\n    <tr>\n      <th>1</th>\n      <td>1</td>\n      <td>wAZZ-UWGVHI</td>\n      <td>Here in NZ 50% of retailers don’t even have co...</td>\n      <td>19.0</td>\n      <td>0.0</td>\n    </tr>\n    <tr>\n      <th>2</th>\n      <td>2</td>\n      <td>wAZZ-UWGVHI</td>\n      <td>I will forever acknowledge this channel with t...</td>\n      <td>161.0</td>\n      <td>2.0</td>\n    </tr>\n    <tr>\n      <th>3</th>\n      <td>3</td>\n      <td>wAZZ-UWGVHI</td>\n      <td>Whenever I go to a place that doesn’t take App...</td>\n      <td>8.0</td>\n      <td>0.0</td>\n    </tr>\n    <tr>\n      <th>4</th>\n      <td>4</td>\n      <td>wAZZ-UWGVHI</td>\n      <td>Apple Pay is so convenient, secure, and easy t...</td>\n      <td>34.0</td>\n      <td>2.0</td>\n    </tr>\n  </tbody>\n</table>\n</div>"
     },
     "execution_count": 8,
     "metadata": {},
     "output_type": "execute_result"
    }
   ],
   "source": [
    "#look at data\n",
    "comment.head()"
   ],
   "metadata": {
    "collapsed": false,
    "pycharm": {
     "name": "#%%\n"
    }
   }
  },
  {
   "cell_type": "code",
   "execution_count": 9,
   "outputs": [
    {
     "data": {
      "text/plain": "'Whenever I go to a place that doesn’t take Apple Pay (doesn’t happen too often), it’s such a drag. Between ‘contactless Covid’ habits and my getting the Apple Card, I’ve gotten so used to Apple Pay that I get seriously annoyed when a store doesn’t take it. It feels like a shock, it’s crazy how quickly it took over my shopping routine! I’ve officially been brainwashed by Apple because now it feels so inconvenient to even carry a physical card in my pocket.'"
     },
     "execution_count": 9,
     "metadata": {},
     "output_type": "execute_result"
    }
   ],
   "source": [
    "comment.iloc[3,2]"
   ],
   "metadata": {
    "collapsed": false,
    "pycharm": {
     "name": "#%%\n"
    }
   }
  },
  {
   "cell_type": "code",
   "execution_count": 10,
   "metadata": {
    "pycharm": {
     "name": "#%%\n"
    }
   },
   "outputs": [
    {
     "data": {
      "text/plain": "         Unnamed: 0          Likes     Sentiment\ncount  18409.000000   18409.000000  18409.000000\nmean    9204.000000    1040.019447      1.493998\nstd     5314.364888   10651.366148      0.709928\nmin        0.000000       0.000000      0.000000\n25%     4602.000000       5.000000      1.000000\n50%     9204.000000      29.000000      2.000000\n75%    13806.000000     190.000000      2.000000\nmax    18408.000000  891372.000000      2.000000",
      "text/html": "<div>\n<style scoped>\n    .dataframe tbody tr th:only-of-type {\n        vertical-align: middle;\n    }\n\n    .dataframe tbody tr th {\n        vertical-align: top;\n    }\n\n    .dataframe thead th {\n        text-align: right;\n    }\n</style>\n<table border=\"1\" class=\"dataframe\">\n  <thead>\n    <tr style=\"text-align: right;\">\n      <th></th>\n      <th>Unnamed: 0</th>\n      <th>Likes</th>\n      <th>Sentiment</th>\n    </tr>\n  </thead>\n  <tbody>\n    <tr>\n      <th>count</th>\n      <td>18409.000000</td>\n      <td>18409.000000</td>\n      <td>18409.000000</td>\n    </tr>\n    <tr>\n      <th>mean</th>\n      <td>9204.000000</td>\n      <td>1040.019447</td>\n      <td>1.493998</td>\n    </tr>\n    <tr>\n      <th>std</th>\n      <td>5314.364888</td>\n      <td>10651.366148</td>\n      <td>0.709928</td>\n    </tr>\n    <tr>\n      <th>min</th>\n      <td>0.000000</td>\n      <td>0.000000</td>\n      <td>0.000000</td>\n    </tr>\n    <tr>\n      <th>25%</th>\n      <td>4602.000000</td>\n      <td>5.000000</td>\n      <td>1.000000</td>\n    </tr>\n    <tr>\n      <th>50%</th>\n      <td>9204.000000</td>\n      <td>29.000000</td>\n      <td>2.000000</td>\n    </tr>\n    <tr>\n      <th>75%</th>\n      <td>13806.000000</td>\n      <td>190.000000</td>\n      <td>2.000000</td>\n    </tr>\n    <tr>\n      <th>max</th>\n      <td>18408.000000</td>\n      <td>891372.000000</td>\n      <td>2.000000</td>\n    </tr>\n  </tbody>\n</table>\n</div>"
     },
     "execution_count": 10,
     "metadata": {},
     "output_type": "execute_result"
    }
   ],
   "source": [
    "# look the data\n",
    "comment.describe()"
   ]
  },
  {
   "cell_type": "code",
   "execution_count": 11,
   "metadata": {
    "pycharm": {
     "name": "#%%\n"
    }
   },
   "outputs": [
    {
     "data": {
      "text/plain": "Unnamed: 0    18409\nVideo ID      18409\nComment       18409\nLikes         18409\nSentiment     18409\ndtype: int64"
     },
     "execution_count": 11,
     "metadata": {},
     "output_type": "execute_result"
    }
   ],
   "source": [
    "#do not have null data\n",
    "comment.isnull().count()"
   ]
  },
  {
   "cell_type": "code",
   "execution_count": 12,
   "metadata": {
    "pycharm": {
     "name": "#%%\n"
    }
   },
   "outputs": [
    {
     "data": {
      "text/plain": "           Comment\nSentiment         \n0.0           2338\n1.0           4638\n2.0          11432",
      "text/html": "<div>\n<style scoped>\n    .dataframe tbody tr th:only-of-type {\n        vertical-align: middle;\n    }\n\n    .dataframe tbody tr th {\n        vertical-align: top;\n    }\n\n    .dataframe thead th {\n        text-align: right;\n    }\n</style>\n<table border=\"1\" class=\"dataframe\">\n  <thead>\n    <tr style=\"text-align: right;\">\n      <th></th>\n      <th>Comment</th>\n    </tr>\n    <tr>\n      <th>Sentiment</th>\n      <th></th>\n    </tr>\n  </thead>\n  <tbody>\n    <tr>\n      <th>0.0</th>\n      <td>2338</td>\n    </tr>\n    <tr>\n      <th>1.0</th>\n      <td>4638</td>\n    </tr>\n    <tr>\n      <th>2.0</th>\n      <td>11432</td>\n    </tr>\n  </tbody>\n</table>\n</div>"
     },
     "execution_count": 12,
     "metadata": {},
     "output_type": "execute_result"
    }
   ],
   "source": [
    "#drop the other columns, and change 1 and 2 in sentiment to 1\n",
    "comment_data = comment.drop(columns = ['Unnamed: 0', 'Video ID', 'Likes'])\n",
    "comment_data.groupby('Sentiment').count()"
   ]
  },
  {
   "cell_type": "code",
   "execution_count": 13,
   "metadata": {
    "pycharm": {
     "name": "#%%\n"
    }
   },
   "outputs": [],
   "source": [
    "#change column name\n",
    "comment_data.columns = ['TEXT_COLUMN_NAME', 'LABEL_COLUMN_NAME']"
   ]
  },
  {
   "cell_type": "code",
   "execution_count": 14,
   "metadata": {
    "pycharm": {
     "name": "#%%\n"
    }
   },
   "outputs": [],
   "source": [
    "comment_data.to_csv('youtube_data.csv', index=None)\n",
    "comment_look = pd.read_csv('youtube_data.csv')\n",
    "\n"
   ]
  },
  {
   "cell_type": "markdown",
   "metadata": {},
   "source": [
    "Download English vocabulary via:\n",
    "\n",
    "- `python -m spacy download en_core_web_sm`\n",
    "\n"
   ]
  },
  {
   "cell_type": "code",
   "execution_count": 15,
   "metadata": {
    "pycharm": {
     "name": "#%%\n"
    }
   },
   "outputs": [],
   "source": [
    "# only have legacy in torchtext==0.9\n",
    "# pip install torchtext==0.9\n",
    "### Defining the feature processing\n",
    "\n",
    "TEXT = torchtext.legacy.data.Field(\n",
    "    tokenize='spacy', # default splits on whitespace\n",
    "    tokenizer_language='en_core_web_sm'\n",
    ")\n",
    "\n",
    "### Defining the label processing\n",
    "\n",
    "LABEL = torchtext.legacy.data.LabelField(dtype=torch.long)\n"
   ]
  },
  {
   "cell_type": "code",
   "execution_count": 16,
   "metadata": {
    "pycharm": {
     "name": "#%%\n"
    }
   },
   "outputs": [],
   "source": [
    "fields = [('TEXT_COLUMN_NAME', TEXT), ('LABEL_COLUMN_NAME', LABEL)]\n",
    "\n",
    "dataset = torchtext.legacy.data.TabularDataset(\n",
    "    path='youtube_data.csv', format='csv',\n",
    "    skip_header=True, fields=fields)\n",
    "\n"
   ]
  },
  {
   "cell_type": "code",
   "execution_count": 17,
   "metadata": {
    "pycharm": {
     "name": "#%%\n"
    }
   },
   "outputs": [
    {
     "name": "stdout",
     "output_type": "stream",
     "text": [
      "Num Train: 14727\n",
      "Num Test: 3682\n"
     ]
    }
   ],
   "source": [
    "# separate into train and test set\n",
    "train_data, test_data = dataset.split(\n",
    "    split_ratio=[0.8, 0.2],\n",
    "    random_state=random.seed(RANDOM_SEED))\n",
    "\n",
    "print(f'Num Train: {len(train_data)}')\n",
    "print(f'Num Test: {len(test_data)}')\n"
   ]
  },
  {
   "cell_type": "code",
   "execution_count": 18,
   "metadata": {
    "pycharm": {
     "name": "#%%\n"
    }
   },
   "outputs": [
    {
     "name": "stdout",
     "output_type": "stream",
     "text": [
      "Num Train: 12518\n",
      "Num Validation: 2209\n"
     ]
    }
   ],
   "source": [
    "# separate into train, valid and test set\n",
    "train_data, valid_data = train_data.split(\n",
    "    split_ratio=[0.85, 0.15],\n",
    "    random_state=random.seed(RANDOM_SEED))\n",
    "\n",
    "print(f'Num Train: {len(train_data)}')\n",
    "print(f'Num Validation: {len(valid_data)}')\n"
   ]
  },
  {
   "cell_type": "code",
   "execution_count": 19,
   "metadata": {
    "pycharm": {
     "name": "#%%\n"
    }
   },
   "outputs": [
    {
     "name": "stdout",
     "output_type": "stream",
     "text": [
      "{'TEXT_COLUMN_NAME': ['Definitely', 'trying', 'this', 'tomorrow', 'on', 'my', 'son', '.', 'This', 'cut', 'is', 'detailed', 'with', 'all', 'the', 'instructions', '.', 'Appreciate', 'you', 'sharing', 'this', 'knowledge', ',', 'stay', 'blessed', 'my', 'brother'], 'LABEL_COLUMN_NAME': '2.0'}\n"
     ]
    }
   ],
   "source": [
    "print(vars(train_data.examples[0]))\n"
   ]
  },
  {
   "cell_type": "markdown",
   "metadata": {},
   "source": [
    "## Build Vocabulary"
   ]
  },
  {
   "cell_type": "markdown",
   "metadata": {},
   "source": [
    "Build the vocabulary based on the top \"VOCABULARY_SIZE\" words:"
   ]
  },
  {
   "cell_type": "code",
   "execution_count": 20,
   "metadata": {
    "pycharm": {
     "name": "#%%\n"
    }
   },
   "outputs": [
    {
     "name": "stdout",
     "output_type": "stream",
     "text": [
      "Vocabulary size: 20002\n",
      "Number of classes: 3\n"
     ]
    }
   ],
   "source": [
    "TEXT.build_vocab(train_data, max_size=VOCABULARY_SIZE)\n",
    "LABEL.build_vocab(train_data)\n",
    "\n",
    "print(f'Vocabulary size: {len(TEXT.vocab)}')\n",
    "print(f'Number of classes: {len(LABEL.vocab)}')"
   ]
  },
  {
   "cell_type": "markdown",
   "metadata": {},
   "source": [
    "- 20,002 not 20,000 because of the `<unk>` and `<pad>` tokens\n",
    "- PyTorch RNNs can deal with arbitrary lengths due to dynamic graphs, but padding is necessary for padding sequences to the same length in a given minibatch so we can store those in an array"
   ]
  },
  {
   "cell_type": "code",
   "execution_count": 21,
   "metadata": {
    "pycharm": {
     "name": "#%%\n"
    }
   },
   "outputs": [
    {
     "name": "stdout",
     "output_type": "stream",
     "text": [
      "[('.', 17588), ('the', 13963), (',', 12709), ('I', 10643), ('to', 10043), ('and', 9479), ('a', 8730), ('of', 6448), ('\\n', 6438), ('!', 5617), ('is', 5523), ('you', 5371), ('in', 5036), ('it', 4599), ('for', 4536), ('that', 4096), ('this', 3756), ('\"', 2630), ('on', 2556), ('my', 2515)]\n"
     ]
    }
   ],
   "source": [
    "#Look at most common words:\n",
    "print(TEXT.vocab.freqs.most_common(20))\n"
   ]
  },
  {
   "cell_type": "code",
   "execution_count": 22,
   "metadata": {
    "pycharm": {
     "name": "#%%\n"
    }
   },
   "outputs": [
    {
     "name": "stdout",
     "output_type": "stream",
     "text": [
      "['<unk>', '<pad>', '.', 'the', ',', 'I', 'to', 'and', 'a', 'of']\n"
     ]
    }
   ],
   "source": [
    "#Tokens corresponding to the first 10 indices (0, 1, ..., 9):\n",
    "print(TEXT.vocab.itos[:10]) # itos = integer-to-string\n",
    "\n"
   ]
  },
  {
   "cell_type": "markdown",
   "metadata": {},
   "source": [
    "**Converting a string to an integer:**"
   ]
  },
  {
   "cell_type": "code",
   "execution_count": 23,
   "metadata": {
    "pycharm": {
     "name": "#%%\n"
    }
   },
   "outputs": [
    {
     "name": "stdout",
     "output_type": "stream",
     "text": [
      "3\n"
     ]
    }
   ],
   "source": [
    "print(TEXT.vocab.stoi['the']) # stoi = string-to-integer"
   ]
  },
  {
   "cell_type": "markdown",
   "metadata": {},
   "source": [
    "**Class labels:**"
   ]
  },
  {
   "cell_type": "code",
   "execution_count": 24,
   "metadata": {
    "pycharm": {
     "name": "#%%\n"
    }
   },
   "outputs": [
    {
     "name": "stdout",
     "output_type": "stream",
     "text": [
      "defaultdict(None, {'2.0': 0, '1.0': 1, '0.0': 2})\n"
     ]
    }
   ],
   "source": [
    "print(LABEL.vocab.stoi)"
   ]
  },
  {
   "cell_type": "markdown",
   "metadata": {},
   "source": [
    "**Class label count:**"
   ]
  },
  {
   "cell_type": "code",
   "execution_count": 25,
   "metadata": {
    "pycharm": {
     "name": "#%%\n"
    }
   },
   "outputs": [
    {
     "data": {
      "text/plain": "Counter({'2.0': 7722, '1.0': 3174, '0.0': 1622})"
     },
     "execution_count": 25,
     "metadata": {},
     "output_type": "execute_result"
    }
   ],
   "source": [
    "LABEL.vocab.freqs"
   ]
  },
  {
   "cell_type": "markdown",
   "metadata": {},
   "source": [
    "## Define Data Loaders"
   ]
  },
  {
   "cell_type": "code",
   "execution_count": 26,
   "metadata": {
    "pycharm": {
     "name": "#%%\n"
    }
   },
   "outputs": [],
   "source": [
    "train_loader, valid_loader, test_loader = \\\n",
    "    torchtext.legacy.data.BucketIterator.splits(\n",
    "        (train_data, valid_data, test_data),\n",
    "         batch_size=BATCH_SIZE,\n",
    "         sort_within_batch=False,\n",
    "         sort_key=lambda x: len(x.TEXT_COLUMN_NAME),\n",
    "         device=DEVICE\n",
    "    )"
   ]
  },
  {
   "cell_type": "markdown",
   "metadata": {},
   "source": [
    "Testing the iterators (note that the number of rows depends on the longest document in the respective batch):"
   ]
  },
  {
   "cell_type": "code",
   "execution_count": 27,
   "metadata": {
    "pycharm": {
     "name": "#%%\n"
    }
   },
   "outputs": [
    {
     "name": "stdout",
     "output_type": "stream",
     "text": [
      "Train\n",
      "Text matrix size: torch.Size([718, 128])\n",
      "Target vector size: torch.Size([128])\n",
      "\n",
      "Valid:\n",
      "Text matrix size: torch.Size([8, 128])\n",
      "Target vector size: torch.Size([128])\n",
      "\n",
      "Test:\n",
      "Text matrix size: torch.Size([6, 128])\n",
      "Target vector size: torch.Size([128])\n"
     ]
    }
   ],
   "source": [
    "print('Train')\n",
    "for batch in train_loader:\n",
    "    print(f'Text matrix size: {batch.TEXT_COLUMN_NAME.size()}')\n",
    "    print(f'Target vector size: {batch.LABEL_COLUMN_NAME.size()}')\n",
    "    break\n",
    "\n",
    "print('\\nValid:')\n",
    "for batch in valid_loader:\n",
    "    print(f'Text matrix size: {batch.TEXT_COLUMN_NAME.size()}')\n",
    "    print(f'Target vector size: {batch.LABEL_COLUMN_NAME.size()}')\n",
    "    break\n",
    "\n",
    "print('\\nTest:')\n",
    "for batch in test_loader:\n",
    "    print(f'Text matrix size: {batch.TEXT_COLUMN_NAME.size()}')\n",
    "    print(f'Target vector size: {batch.LABEL_COLUMN_NAME.size()}')\n",
    "    break"
   ]
  },
  {
   "cell_type": "markdown",
   "metadata": {},
   "source": [
    "## Model"
   ]
  },
  {
   "cell_type": "code",
   "execution_count": 28,
   "metadata": {
    "pycharm": {
     "name": "#%%\n"
    }
   },
   "outputs": [],
   "source": [
    "class RNN(torch.nn.Module):\n",
    "\n",
    "    def __init__(self, input_dim, embedding_dim, hidden_dim, output_dim):\n",
    "        super().__init__()\n",
    "\n",
    "        self.embedding = torch.nn.Embedding(input_dim, embedding_dim)\n",
    "        #self.rnn = torch.nn.RNN(embedding_dim,\n",
    "        #                        hidden_dim,\n",
    "        #                        nonlinearity='relu')\n",
    "        self.rnn = torch.nn.LSTM(embedding_dim,\n",
    "                                 hidden_dim)\n",
    "\n",
    "        self.fc = torch.nn.Linear(hidden_dim, output_dim)\n",
    "\n",
    "\n",
    "    def forward(self, text):\n",
    "        # text dim: [sentence length, batch size]\n",
    "\n",
    "        embedded = self.embedding(text)\n",
    "        # embedded dim: [sentence length, batch size, embedding dim]\n",
    "\n",
    "        output, (hidden, cell) = self.rnn(embedded)\n",
    "        # output dim: [sentence length, batch size, hidden dim]\n",
    "        # hidden dim: [1, batch size, hidden dim]\n",
    "\n",
    "        hidden.squeeze_(0)\n",
    "        # hidden dim: [batch size, hidden dim]\n",
    "\n",
    "        output = self.fc(hidden)\n",
    "        return output"
   ]
  },
  {
   "cell_type": "code",
   "execution_count": 29,
   "metadata": {
    "pycharm": {
     "name": "#%%\n"
    }
   },
   "outputs": [],
   "source": [
    "torch.manual_seed(RANDOM_SEED)\n",
    "model = RNN(input_dim=len(TEXT.vocab),\n",
    "            embedding_dim=EMBEDDING_DIM,\n",
    "            hidden_dim=HIDDEN_DIM,\n",
    "            output_dim=NUM_CLASSES # could use 1 for binary classification\n",
    ")\n",
    "\n",
    "model = model.to(DEVICE)\n",
    "optimizer = torch.optim.Adam(model.parameters(), lr=0.005)"
   ]
  },
  {
   "cell_type": "markdown",
   "metadata": {},
   "source": [
    "## Training"
   ]
  },
  {
   "cell_type": "code",
   "execution_count": 30,
   "metadata": {
    "pycharm": {
     "name": "#%%\n"
    }
   },
   "outputs": [],
   "source": [
    "def compute_accuracy(model, data_loader, device):\n",
    "\n",
    "    with torch.no_grad():\n",
    "\n",
    "        correct_pred, num_examples = 0, 0\n",
    "\n",
    "        for i, (features, targets) in enumerate(data_loader):\n",
    "\n",
    "            features = features.to(device)\n",
    "            targets = targets.float().to(device)\n",
    "\n",
    "            logits = model(features)\n",
    "            _, predicted_labels = torch.max(logits, 1)\n",
    "\n",
    "            num_examples += targets.size(0)\n",
    "            correct_pred += (predicted_labels == targets).sum()\n",
    "    return correct_pred.float()/num_examples * 100\n"
   ]
  },
  {
   "cell_type": "code",
   "execution_count": 31,
   "outputs": [],
   "source": [
    "def predict_label(model, data_loader, device):\n",
    "\n",
    "    with torch.no_grad():\n",
    "        Y_acctual, Y_preds = [], []\n",
    "        correct_pred, num_examples = 0, 0\n",
    "\n",
    "        for i, (features, targets) in enumerate(data_loader):\n",
    "\n",
    "            features = features.to(device)\n",
    "            targets = targets.float().to(device)\n",
    "\n",
    "            logits = model(features)\n",
    "            _, predicted_labels = torch.max(logits, 1)\n",
    "\n",
    "            num_examples += targets.size(0)\n",
    "            correct_pred += (predicted_labels == targets).sum()\n",
    "            Y_preds.append(predicted_labels.cpu().data.numpy())\n",
    "            Y_acctual.append(targets.cpu().data.numpy())\n",
    "    return  np.concatenate(Y_preds), np.concatenate(Y_acctual)"
   ],
   "metadata": {
    "collapsed": false,
    "pycharm": {
     "name": "#%%\n"
    }
   }
  },
  {
   "cell_type": "code",
   "execution_count": 32,
   "metadata": {
    "pycharm": {
     "name": "#%%\n"
    },
    "scrolled": true
   },
   "outputs": [
    {
     "name": "stdout",
     "output_type": "stream",
     "text": [
      "Epoch: 001/100 | Batch 000/098 | Loss: 1.1501\n",
      "Epoch: 001/100 | Batch 050/098 | Loss: 0.8992\n",
      "training accuracy: 61.85%\n",
      "valid accuracy: 57.85%\n",
      "Time elapsed: 0.55 min\n",
      "Epoch: 002/100 | Batch 000/098 | Loss: 0.8820\n",
      "Epoch: 002/100 | Batch 050/098 | Loss: 0.9586\n",
      "training accuracy: 61.87%\n",
      "valid accuracy: 61.20%\n",
      "Time elapsed: 0.80 min\n",
      "Epoch: 003/100 | Batch 000/098 | Loss: 0.8802\n",
      "Epoch: 003/100 | Batch 050/098 | Loss: 0.9244\n",
      "training accuracy: 62.01%\n",
      "valid accuracy: 60.39%\n",
      "Time elapsed: 1.05 min\n",
      "Epoch: 004/100 | Batch 000/098 | Loss: 0.9151\n",
      "Epoch: 004/100 | Batch 050/098 | Loss: 0.8209\n",
      "training accuracy: 62.01%\n",
      "valid accuracy: 60.21%\n",
      "Time elapsed: 1.31 min\n",
      "Epoch: 005/100 | Batch 000/098 | Loss: 0.8167\n",
      "Epoch: 005/100 | Batch 050/098 | Loss: 0.9348\n",
      "training accuracy: 62.09%\n",
      "valid accuracy: 60.30%\n",
      "Time elapsed: 1.55 min\n",
      "Epoch: 006/100 | Batch 000/098 | Loss: 0.9635\n",
      "Epoch: 006/100 | Batch 050/098 | Loss: 0.8965\n",
      "training accuracy: 62.05%\n",
      "valid accuracy: 58.44%\n",
      "Time elapsed: 1.81 min\n",
      "Epoch: 007/100 | Batch 000/098 | Loss: 0.9147\n",
      "Epoch: 007/100 | Batch 050/098 | Loss: 0.8282\n",
      "training accuracy: 62.14%\n",
      "valid accuracy: 58.71%\n",
      "Time elapsed: 2.06 min\n",
      "Epoch: 008/100 | Batch 000/098 | Loss: 0.8412\n",
      "Epoch: 008/100 | Batch 050/098 | Loss: 1.0236\n",
      "training accuracy: 62.13%\n",
      "valid accuracy: 60.75%\n",
      "Time elapsed: 2.31 min\n",
      "Epoch: 009/100 | Batch 000/098 | Loss: 0.9676\n",
      "Epoch: 009/100 | Batch 050/098 | Loss: 0.8542\n",
      "training accuracy: 62.17%\n",
      "valid accuracy: 58.99%\n",
      "Time elapsed: 2.57 min\n",
      "Epoch: 010/100 | Batch 000/098 | Loss: 0.8542\n",
      "Epoch: 010/100 | Batch 050/098 | Loss: 0.8817\n",
      "training accuracy: 62.12%\n",
      "valid accuracy: 60.16%\n",
      "Time elapsed: 2.82 min\n",
      "Epoch: 011/100 | Batch 000/098 | Loss: 0.8905\n",
      "Epoch: 011/100 | Batch 050/098 | Loss: 0.8597\n",
      "training accuracy: 71.64%\n",
      "valid accuracy: 64.96%\n",
      "Time elapsed: 3.08 min\n",
      "Epoch: 012/100 | Batch 000/098 | Loss: 0.7831\n",
      "Epoch: 012/100 | Batch 050/098 | Loss: 0.5705\n",
      "training accuracy: 78.62%\n",
      "valid accuracy: 70.57%\n",
      "Time elapsed: 3.34 min\n",
      "Epoch: 013/100 | Batch 000/098 | Loss: 0.6766\n",
      "Epoch: 013/100 | Batch 050/098 | Loss: 0.4540\n",
      "training accuracy: 81.27%\n",
      "valid accuracy: 71.71%\n",
      "Time elapsed: 3.60 min\n",
      "Epoch: 014/100 | Batch 000/098 | Loss: 0.4492\n",
      "Epoch: 014/100 | Batch 050/098 | Loss: 0.3131\n",
      "training accuracy: 83.47%\n",
      "valid accuracy: 72.88%\n",
      "Time elapsed: 3.86 min\n",
      "Epoch: 015/100 | Batch 000/098 | Loss: 0.3887\n",
      "Epoch: 015/100 | Batch 050/098 | Loss: 0.4255\n",
      "training accuracy: 84.17%\n",
      "valid accuracy: 73.79%\n",
      "Time elapsed: 4.11 min\n",
      "Epoch: 016/100 | Batch 000/098 | Loss: 0.3780\n",
      "Epoch: 016/100 | Batch 050/098 | Loss: 0.3703\n",
      "training accuracy: 87.15%\n",
      "valid accuracy: 72.66%\n",
      "Time elapsed: 4.37 min\n",
      "Epoch: 017/100 | Batch 000/098 | Loss: 0.3963\n",
      "Epoch: 017/100 | Batch 050/098 | Loss: 0.2730\n",
      "training accuracy: 92.02%\n",
      "valid accuracy: 70.62%\n",
      "Time elapsed: 4.64 min\n",
      "Epoch: 018/100 | Batch 000/098 | Loss: 0.2171\n",
      "Epoch: 018/100 | Batch 050/098 | Loss: 0.2561\n",
      "training accuracy: 95.26%\n",
      "valid accuracy: 71.30%\n",
      "Time elapsed: 4.90 min\n",
      "Epoch: 019/100 | Batch 000/098 | Loss: 0.1351\n",
      "Epoch: 019/100 | Batch 050/098 | Loss: 0.1341\n",
      "training accuracy: 96.62%\n",
      "valid accuracy: 71.34%\n",
      "Time elapsed: 5.17 min\n",
      "Epoch: 020/100 | Batch 000/098 | Loss: 0.0906\n",
      "Epoch: 020/100 | Batch 050/098 | Loss: 0.0803\n",
      "training accuracy: 97.80%\n",
      "valid accuracy: 70.85%\n",
      "Time elapsed: 5.44 min\n",
      "Epoch: 021/100 | Batch 000/098 | Loss: 0.0558\n",
      "Epoch: 021/100 | Batch 050/098 | Loss: 0.0456\n",
      "training accuracy: 98.46%\n",
      "valid accuracy: 71.44%\n",
      "Time elapsed: 5.73 min\n",
      "Epoch: 022/100 | Batch 000/098 | Loss: 0.0376\n",
      "Epoch: 022/100 | Batch 050/098 | Loss: 0.0690\n",
      "training accuracy: 98.79%\n",
      "valid accuracy: 71.53%\n",
      "Time elapsed: 6.01 min\n",
      "Epoch: 023/100 | Batch 000/098 | Loss: 0.0956\n",
      "Epoch: 023/100 | Batch 050/098 | Loss: 0.0439\n",
      "training accuracy: 98.64%\n",
      "valid accuracy: 71.07%\n",
      "Time elapsed: 6.27 min\n",
      "Epoch: 024/100 | Batch 000/098 | Loss: 0.0619\n",
      "Epoch: 024/100 | Batch 050/098 | Loss: 0.0169\n",
      "training accuracy: 99.19%\n",
      "valid accuracy: 71.93%\n",
      "Time elapsed: 6.55 min\n",
      "Epoch: 025/100 | Batch 000/098 | Loss: 0.0442\n",
      "Epoch: 025/100 | Batch 050/098 | Loss: 0.0326\n",
      "training accuracy: 99.56%\n",
      "valid accuracy: 70.98%\n",
      "Time elapsed: 6.82 min\n",
      "Epoch: 026/100 | Batch 000/098 | Loss: 0.0126\n",
      "Epoch: 026/100 | Batch 050/098 | Loss: 0.0459\n",
      "training accuracy: 99.57%\n",
      "valid accuracy: 72.39%\n",
      "Time elapsed: 7.10 min\n",
      "Epoch: 027/100 | Batch 000/098 | Loss: 0.1024\n",
      "Epoch: 027/100 | Batch 050/098 | Loss: 0.0194\n",
      "training accuracy: 99.63%\n",
      "valid accuracy: 70.85%\n",
      "Time elapsed: 7.37 min\n",
      "Epoch: 028/100 | Batch 000/098 | Loss: 0.0092\n",
      "Epoch: 028/100 | Batch 050/098 | Loss: 0.0098\n",
      "training accuracy: 99.44%\n",
      "valid accuracy: 70.94%\n",
      "Time elapsed: 7.64 min\n",
      "Epoch: 029/100 | Batch 000/098 | Loss: 0.0190\n",
      "Epoch: 029/100 | Batch 050/098 | Loss: 0.0108\n",
      "training accuracy: 99.07%\n",
      "valid accuracy: 71.66%\n",
      "Time elapsed: 7.91 min\n",
      "Epoch: 030/100 | Batch 000/098 | Loss: 0.0282\n",
      "Epoch: 030/100 | Batch 050/098 | Loss: 0.0197\n",
      "training accuracy: 99.44%\n",
      "valid accuracy: 71.39%\n",
      "Time elapsed: 8.18 min\n",
      "Epoch: 031/100 | Batch 000/098 | Loss: 0.0390\n",
      "Epoch: 031/100 | Batch 050/098 | Loss: 0.0430\n",
      "training accuracy: 98.99%\n",
      "valid accuracy: 70.71%\n",
      "Time elapsed: 8.45 min\n",
      "Epoch: 032/100 | Batch 000/098 | Loss: 0.0174\n",
      "Epoch: 032/100 | Batch 050/098 | Loss: 0.0228\n",
      "training accuracy: 99.42%\n",
      "valid accuracy: 71.98%\n",
      "Time elapsed: 8.72 min\n",
      "Epoch: 033/100 | Batch 000/098 | Loss: 0.0114\n",
      "Epoch: 033/100 | Batch 050/098 | Loss: 0.0133\n",
      "training accuracy: 99.34%\n",
      "valid accuracy: 70.94%\n",
      "Time elapsed: 8.99 min\n",
      "Epoch: 034/100 | Batch 000/098 | Loss: 0.0465\n",
      "Epoch: 034/100 | Batch 050/098 | Loss: 0.0174\n",
      "training accuracy: 99.61%\n",
      "valid accuracy: 71.57%\n",
      "Time elapsed: 9.25 min\n",
      "Epoch: 035/100 | Batch 000/098 | Loss: 0.0036\n",
      "Epoch: 035/100 | Batch 050/098 | Loss: 0.0049\n",
      "training accuracy: 99.82%\n",
      "valid accuracy: 71.53%\n",
      "Time elapsed: 9.52 min\n",
      "Epoch: 036/100 | Batch 000/098 | Loss: 0.0071\n",
      "Epoch: 036/100 | Batch 050/098 | Loss: 0.0021\n",
      "training accuracy: 99.88%\n",
      "valid accuracy: 71.53%\n",
      "Time elapsed: 9.79 min\n",
      "Epoch: 037/100 | Batch 000/098 | Loss: 0.0014\n",
      "Epoch: 037/100 | Batch 050/098 | Loss: 0.0019\n",
      "training accuracy: 99.88%\n",
      "valid accuracy: 71.98%\n",
      "Time elapsed: 10.06 min\n",
      "Epoch: 038/100 | Batch 000/098 | Loss: 0.0010\n",
      "Epoch: 038/100 | Batch 050/098 | Loss: 0.0014\n",
      "training accuracy: 99.92%\n",
      "valid accuracy: 72.43%\n",
      "Time elapsed: 10.33 min\n",
      "Epoch: 039/100 | Batch 000/098 | Loss: 0.0008\n",
      "Epoch: 039/100 | Batch 050/098 | Loss: 0.0024\n",
      "training accuracy: 99.96%\n",
      "valid accuracy: 71.57%\n",
      "Time elapsed: 10.60 min\n",
      "Epoch: 040/100 | Batch 000/098 | Loss: 0.0007\n",
      "Epoch: 040/100 | Batch 050/098 | Loss: 0.0005\n",
      "training accuracy: 99.96%\n",
      "valid accuracy: 71.71%\n",
      "Time elapsed: 10.87 min\n",
      "Epoch: 041/100 | Batch 000/098 | Loss: 0.0008\n",
      "Epoch: 041/100 | Batch 050/098 | Loss: 0.0012\n",
      "training accuracy: 99.95%\n",
      "valid accuracy: 72.02%\n",
      "Time elapsed: 11.14 min\n",
      "Epoch: 042/100 | Batch 000/098 | Loss: 0.0004\n",
      "Epoch: 042/100 | Batch 050/098 | Loss: 0.0008\n",
      "training accuracy: 99.96%\n",
      "valid accuracy: 71.66%\n",
      "Time elapsed: 11.41 min\n",
      "Epoch: 043/100 | Batch 000/098 | Loss: 0.0003\n",
      "Epoch: 043/100 | Batch 050/098 | Loss: 0.0007\n",
      "training accuracy: 99.96%\n",
      "valid accuracy: 72.20%\n",
      "Time elapsed: 11.69 min\n",
      "Epoch: 044/100 | Batch 000/098 | Loss: 0.0167\n",
      "Epoch: 044/100 | Batch 050/098 | Loss: 0.0005\n",
      "training accuracy: 99.98%\n",
      "valid accuracy: 72.25%\n",
      "Time elapsed: 11.96 min\n",
      "Epoch: 045/100 | Batch 000/098 | Loss: 0.0002\n",
      "Epoch: 045/100 | Batch 050/098 | Loss: 0.0001\n",
      "training accuracy: 99.97%\n",
      "valid accuracy: 72.52%\n",
      "Time elapsed: 12.23 min\n",
      "Epoch: 046/100 | Batch 000/098 | Loss: 0.0003\n",
      "Epoch: 046/100 | Batch 050/098 | Loss: 0.0005\n",
      "training accuracy: 99.94%\n",
      "valid accuracy: 72.57%\n",
      "Time elapsed: 12.50 min\n",
      "Epoch: 047/100 | Batch 000/098 | Loss: 0.0001\n",
      "Epoch: 047/100 | Batch 050/098 | Loss: 0.0009\n",
      "training accuracy: 99.97%\n",
      "valid accuracy: 72.02%\n",
      "Time elapsed: 12.78 min\n",
      "Epoch: 048/100 | Batch 000/098 | Loss: 0.0002\n",
      "Epoch: 048/100 | Batch 050/098 | Loss: 0.0002\n",
      "training accuracy: 99.97%\n",
      "valid accuracy: 71.93%\n",
      "Time elapsed: 13.06 min\n",
      "Epoch: 049/100 | Batch 000/098 | Loss: 0.0001\n",
      "Epoch: 049/100 | Batch 050/098 | Loss: 0.0003\n",
      "training accuracy: 99.75%\n",
      "valid accuracy: 72.48%\n",
      "Time elapsed: 13.32 min\n",
      "Epoch: 050/100 | Batch 000/098 | Loss: 0.0039\n",
      "Epoch: 050/100 | Batch 050/098 | Loss: 0.0218\n",
      "training accuracy: 98.31%\n",
      "valid accuracy: 72.30%\n",
      "Time elapsed: 13.59 min\n",
      "Epoch: 051/100 | Batch 000/098 | Loss: 0.0555\n",
      "Epoch: 051/100 | Batch 050/098 | Loss: 0.0958\n",
      "training accuracy: 98.26%\n",
      "valid accuracy: 71.34%\n",
      "Time elapsed: 13.85 min\n",
      "Epoch: 052/100 | Batch 000/098 | Loss: 0.0232\n",
      "Epoch: 052/100 | Batch 050/098 | Loss: 0.1139\n",
      "training accuracy: 99.14%\n",
      "valid accuracy: 71.12%\n",
      "Time elapsed: 14.12 min\n",
      "Epoch: 053/100 | Batch 000/098 | Loss: 0.0843\n",
      "Epoch: 053/100 | Batch 050/098 | Loss: 0.1110\n",
      "training accuracy: 99.58%\n",
      "valid accuracy: 71.16%\n",
      "Time elapsed: 14.39 min\n",
      "Epoch: 054/100 | Batch 000/098 | Loss: 0.0058\n",
      "Epoch: 054/100 | Batch 050/098 | Loss: 0.0082\n",
      "training accuracy: 99.79%\n",
      "valid accuracy: 70.94%\n",
      "Time elapsed: 14.65 min\n",
      "Epoch: 055/100 | Batch 000/098 | Loss: 0.0331\n",
      "Epoch: 055/100 | Batch 050/098 | Loss: 0.0506\n",
      "training accuracy: 99.81%\n",
      "valid accuracy: 71.62%\n",
      "Time elapsed: 14.92 min\n",
      "Epoch: 056/100 | Batch 000/098 | Loss: 0.0344\n",
      "Epoch: 056/100 | Batch 050/098 | Loss: 0.0043\n",
      "training accuracy: 99.86%\n",
      "valid accuracy: 71.71%\n",
      "Time elapsed: 15.18 min\n",
      "Epoch: 057/100 | Batch 000/098 | Loss: 0.0023\n",
      "Epoch: 057/100 | Batch 050/098 | Loss: 0.0009\n",
      "training accuracy: 99.91%\n",
      "valid accuracy: 71.07%\n",
      "Time elapsed: 15.45 min\n",
      "Epoch: 058/100 | Batch 000/098 | Loss: 0.0039\n",
      "Epoch: 058/100 | Batch 050/098 | Loss: 0.0031\n",
      "training accuracy: 99.82%\n",
      "valid accuracy: 72.11%\n",
      "Time elapsed: 15.71 min\n",
      "Epoch: 059/100 | Batch 000/098 | Loss: 0.0013\n",
      "Epoch: 059/100 | Batch 050/098 | Loss: 0.0020\n",
      "training accuracy: 99.89%\n",
      "valid accuracy: 71.62%\n",
      "Time elapsed: 15.98 min\n",
      "Epoch: 060/100 | Batch 000/098 | Loss: 0.0012\n",
      "Epoch: 060/100 | Batch 050/098 | Loss: 0.0196\n",
      "training accuracy: 99.82%\n",
      "valid accuracy: 72.43%\n",
      "Time elapsed: 16.24 min\n",
      "Epoch: 061/100 | Batch 000/098 | Loss: 0.0024\n",
      "Epoch: 061/100 | Batch 050/098 | Loss: 0.0120\n",
      "training accuracy: 99.75%\n",
      "valid accuracy: 71.98%\n",
      "Time elapsed: 16.51 min\n",
      "Epoch: 062/100 | Batch 000/098 | Loss: 0.0018\n",
      "Epoch: 062/100 | Batch 050/098 | Loss: 0.0058\n",
      "training accuracy: 99.58%\n",
      "valid accuracy: 72.34%\n",
      "Time elapsed: 16.77 min\n",
      "Epoch: 063/100 | Batch 000/098 | Loss: 0.0049\n",
      "Epoch: 063/100 | Batch 050/098 | Loss: 0.0113\n",
      "training accuracy: 99.37%\n",
      "valid accuracy: 70.85%\n",
      "Time elapsed: 17.06 min\n",
      "Epoch: 064/100 | Batch 000/098 | Loss: 0.0605\n",
      "Epoch: 064/100 | Batch 050/098 | Loss: 0.0185\n",
      "training accuracy: 99.78%\n",
      "valid accuracy: 71.98%\n",
      "Time elapsed: 17.34 min\n",
      "Epoch: 065/100 | Batch 000/098 | Loss: 0.0022\n",
      "Epoch: 065/100 | Batch 050/098 | Loss: 0.0108\n",
      "training accuracy: 98.91%\n",
      "valid accuracy: 73.52%\n",
      "Time elapsed: 17.61 min\n",
      "Epoch: 066/100 | Batch 000/098 | Loss: 0.0211\n",
      "Epoch: 066/100 | Batch 050/098 | Loss: 0.0118\n",
      "training accuracy: 99.63%\n",
      "valid accuracy: 72.48%\n",
      "Time elapsed: 17.88 min\n",
      "Epoch: 067/100 | Batch 000/098 | Loss: 0.0074\n",
      "Epoch: 067/100 | Batch 050/098 | Loss: 0.0053\n",
      "training accuracy: 99.87%\n",
      "valid accuracy: 73.88%\n",
      "Time elapsed: 18.14 min\n",
      "Epoch: 068/100 | Batch 000/098 | Loss: 0.0016\n",
      "Epoch: 068/100 | Batch 050/098 | Loss: 0.0026\n",
      "training accuracy: 99.92%\n",
      "valid accuracy: 74.02%\n",
      "Time elapsed: 18.41 min\n",
      "Epoch: 069/100 | Batch 000/098 | Loss: 0.0150\n",
      "Epoch: 069/100 | Batch 050/098 | Loss: 0.0012\n",
      "training accuracy: 99.94%\n",
      "valid accuracy: 73.74%\n",
      "Time elapsed: 18.67 min\n",
      "Epoch: 070/100 | Batch 000/098 | Loss: 0.0006\n",
      "Epoch: 070/100 | Batch 050/098 | Loss: 0.0009\n",
      "training accuracy: 99.95%\n",
      "valid accuracy: 73.79%\n",
      "Time elapsed: 18.93 min\n",
      "Epoch: 071/100 | Batch 000/098 | Loss: 0.0009\n",
      "Epoch: 071/100 | Batch 050/098 | Loss: 0.0005\n",
      "training accuracy: 99.95%\n",
      "valid accuracy: 73.43%\n",
      "Time elapsed: 19.20 min\n",
      "Epoch: 072/100 | Batch 000/098 | Loss: 0.0004\n",
      "Epoch: 072/100 | Batch 050/098 | Loss: 0.0003\n",
      "training accuracy: 99.97%\n",
      "valid accuracy: 73.70%\n",
      "Time elapsed: 19.46 min\n",
      "Epoch: 073/100 | Batch 000/098 | Loss: 0.0012\n",
      "Epoch: 073/100 | Batch 050/098 | Loss: 0.0001\n",
      "training accuracy: 99.98%\n",
      "valid accuracy: 73.61%\n",
      "Time elapsed: 19.73 min\n",
      "Epoch: 074/100 | Batch 000/098 | Loss: 0.0003\n",
      "Epoch: 074/100 | Batch 050/098 | Loss: 0.0002\n",
      "training accuracy: 99.98%\n",
      "valid accuracy: 73.56%\n",
      "Time elapsed: 20.00 min\n",
      "Epoch: 075/100 | Batch 000/098 | Loss: 0.0003\n",
      "Epoch: 075/100 | Batch 050/098 | Loss: 0.0002\n",
      "training accuracy: 99.98%\n",
      "valid accuracy: 73.61%\n",
      "Time elapsed: 20.26 min\n",
      "Epoch: 076/100 | Batch 000/098 | Loss: 0.0002\n",
      "Epoch: 076/100 | Batch 050/098 | Loss: 0.0001\n",
      "training accuracy: 99.98%\n",
      "valid accuracy: 73.34%\n",
      "Time elapsed: 20.53 min\n",
      "Epoch: 077/100 | Batch 000/098 | Loss: 0.0002\n",
      "Epoch: 077/100 | Batch 050/098 | Loss: 0.0002\n",
      "training accuracy: 99.98%\n",
      "valid accuracy: 73.47%\n",
      "Time elapsed: 20.79 min\n",
      "Epoch: 078/100 | Batch 000/098 | Loss: 0.0063\n",
      "Epoch: 078/100 | Batch 050/098 | Loss: 0.0003\n",
      "training accuracy: 99.98%\n",
      "valid accuracy: 73.47%\n",
      "Time elapsed: 21.06 min\n",
      "Epoch: 079/100 | Batch 000/098 | Loss: 0.0002\n",
      "Epoch: 079/100 | Batch 050/098 | Loss: 0.0001\n",
      "training accuracy: 99.98%\n",
      "valid accuracy: 73.70%\n",
      "Time elapsed: 21.33 min\n",
      "Epoch: 080/100 | Batch 000/098 | Loss: 0.0001\n",
      "Epoch: 080/100 | Batch 050/098 | Loss: 0.0001\n",
      "training accuracy: 99.98%\n",
      "valid accuracy: 73.79%\n",
      "Time elapsed: 21.59 min\n",
      "Epoch: 081/100 | Batch 000/098 | Loss: 0.0002\n",
      "Epoch: 081/100 | Batch 050/098 | Loss: 0.0005\n",
      "training accuracy: 99.98%\n",
      "valid accuracy: 73.79%\n",
      "Time elapsed: 21.86 min\n",
      "Epoch: 082/100 | Batch 000/098 | Loss: 0.0000\n",
      "Epoch: 082/100 | Batch 050/098 | Loss: 0.0001\n",
      "training accuracy: 99.98%\n",
      "valid accuracy: 73.79%\n",
      "Time elapsed: 22.12 min\n",
      "Epoch: 083/100 | Batch 000/098 | Loss: 0.0001\n",
      "Epoch: 083/100 | Batch 050/098 | Loss: 0.0090\n",
      "training accuracy: 99.98%\n",
      "valid accuracy: 73.25%\n",
      "Time elapsed: 22.39 min\n",
      "Epoch: 084/100 | Batch 000/098 | Loss: 0.0001\n",
      "Epoch: 084/100 | Batch 050/098 | Loss: 0.0001\n",
      "training accuracy: 99.98%\n",
      "valid accuracy: 73.43%\n",
      "Time elapsed: 22.67 min\n",
      "Epoch: 085/100 | Batch 000/098 | Loss: 0.0000\n",
      "Epoch: 085/100 | Batch 050/098 | Loss: 0.0001\n",
      "training accuracy: 99.98%\n",
      "valid accuracy: 73.65%\n",
      "Time elapsed: 22.93 min\n",
      "Epoch: 086/100 | Batch 000/098 | Loss: 0.0001\n",
      "Epoch: 086/100 | Batch 050/098 | Loss: 0.0000\n",
      "training accuracy: 99.98%\n",
      "valid accuracy: 73.52%\n",
      "Time elapsed: 23.19 min\n",
      "Epoch: 087/100 | Batch 000/098 | Loss: 0.0001\n",
      "Epoch: 087/100 | Batch 050/098 | Loss: 0.0000\n",
      "training accuracy: 99.98%\n",
      "valid accuracy: 73.25%\n",
      "Time elapsed: 23.46 min\n",
      "Epoch: 088/100 | Batch 000/098 | Loss: 0.0000\n",
      "Epoch: 088/100 | Batch 050/098 | Loss: 0.0000\n",
      "training accuracy: 99.98%\n",
      "valid accuracy: 73.20%\n",
      "Time elapsed: 23.72 min\n",
      "Epoch: 089/100 | Batch 000/098 | Loss: 0.0001\n",
      "Epoch: 089/100 | Batch 050/098 | Loss: 0.0000\n",
      "training accuracy: 99.98%\n",
      "valid accuracy: 73.34%\n",
      "Time elapsed: 23.99 min\n",
      "Epoch: 090/100 | Batch 000/098 | Loss: 0.0001\n",
      "Epoch: 090/100 | Batch 050/098 | Loss: 0.0000\n",
      "training accuracy: 99.98%\n",
      "valid accuracy: 73.47%\n",
      "Time elapsed: 24.26 min\n",
      "Epoch: 091/100 | Batch 000/098 | Loss: 0.0000\n",
      "Epoch: 091/100 | Batch 050/098 | Loss: 0.0004\n",
      "training accuracy: 99.98%\n",
      "valid accuracy: 73.29%\n",
      "Time elapsed: 24.52 min\n",
      "Epoch: 092/100 | Batch 000/098 | Loss: 0.0001\n",
      "Epoch: 092/100 | Batch 050/098 | Loss: 0.0001\n",
      "training accuracy: 99.98%\n",
      "valid accuracy: 73.52%\n",
      "Time elapsed: 24.79 min\n",
      "Epoch: 093/100 | Batch 000/098 | Loss: 0.0001\n",
      "Epoch: 093/100 | Batch 050/098 | Loss: 0.0001\n",
      "training accuracy: 99.98%\n",
      "valid accuracy: 73.02%\n",
      "Time elapsed: 25.05 min\n",
      "Epoch: 094/100 | Batch 000/098 | Loss: 0.0001\n",
      "Epoch: 094/100 | Batch 050/098 | Loss: 0.0101\n",
      "training accuracy: 99.98%\n",
      "valid accuracy: 73.16%\n",
      "Time elapsed: 25.32 min\n",
      "Epoch: 095/100 | Batch 000/098 | Loss: 0.0001\n",
      "Epoch: 095/100 | Batch 050/098 | Loss: 0.0000\n",
      "training accuracy: 99.99%\n",
      "valid accuracy: 73.47%\n",
      "Time elapsed: 25.58 min\n",
      "Epoch: 096/100 | Batch 000/098 | Loss: 0.0000\n",
      "Epoch: 096/100 | Batch 050/098 | Loss: 0.0000\n",
      "training accuracy: 99.99%\n",
      "valid accuracy: 73.47%\n",
      "Time elapsed: 25.84 min\n",
      "Epoch: 097/100 | Batch 000/098 | Loss: 0.0000\n",
      "Epoch: 097/100 | Batch 050/098 | Loss: 0.0000\n",
      "training accuracy: 99.98%\n",
      "valid accuracy: 73.56%\n",
      "Time elapsed: 26.11 min\n",
      "Epoch: 098/100 | Batch 000/098 | Loss: 0.0000\n",
      "Epoch: 098/100 | Batch 050/098 | Loss: 0.0000\n",
      "training accuracy: 99.98%\n",
      "valid accuracy: 73.61%\n",
      "Time elapsed: 26.37 min\n",
      "Epoch: 099/100 | Batch 000/098 | Loss: 0.0000\n",
      "Epoch: 099/100 | Batch 050/098 | Loss: 0.0000\n",
      "training accuracy: 99.98%\n",
      "valid accuracy: 73.56%\n",
      "Time elapsed: 26.65 min\n",
      "Epoch: 100/100 | Batch 000/098 | Loss: 0.0000\n",
      "Epoch: 100/100 | Batch 050/098 | Loss: 0.0000\n",
      "training accuracy: 99.98%\n",
      "valid accuracy: 73.56%\n",
      "Time elapsed: 26.92 min\n",
      "Total Training Time: 26.92 min\n",
      "Test accuracy: 71.59%\n"
     ]
    }
   ],
   "source": [
    "start_time = time.time()\n",
    "\n",
    "train_accuracy = []\n",
    "valid_accuracy = []\n",
    "\n",
    "for epoch in range(NUM_EPOCHS):\n",
    "    model.train()\n",
    "    for batch_idx, batch_data in enumerate(train_loader):\n",
    "\n",
    "        text = batch_data.TEXT_COLUMN_NAME.to(DEVICE)\n",
    "        labels = batch_data.LABEL_COLUMN_NAME.to(DEVICE)\n",
    "\n",
    "        ### FORWARD AND BACK PROP\n",
    "        logits = model(text)\n",
    "        loss = F.cross_entropy(logits, labels)\n",
    "        optimizer.zero_grad()\n",
    "\n",
    "        loss.backward()\n",
    "\n",
    "        ### UPDATE MODEL PARAMETERS\n",
    "        optimizer.step()\n",
    "\n",
    "        ### LOGGING\n",
    "        if not batch_idx % 50:\n",
    "\n",
    "            print (f'Epoch: {epoch+1:03d}/{NUM_EPOCHS:03d} | '\n",
    "                   f'Batch {batch_idx:03d}/{len(train_loader):03d} | '\n",
    "                   f'Loss: {loss:.4f}')\n",
    "\n",
    "    with torch.set_grad_enabled(False):\n",
    "        train_accuracy.append(float(f'{compute_accuracy(model, train_loader, DEVICE):.2f}'))\n",
    "        valid_accuracy.append(float(f'{compute_accuracy(model, valid_loader, DEVICE):.2f}'))\n",
    "        print(f'training accuracy: '\n",
    "              f'{compute_accuracy(model, train_loader, DEVICE):.2f}%'\n",
    "              f'\\nvalid accuracy: '\n",
    "              f'{compute_accuracy(model, valid_loader, DEVICE):.2f}%')\n",
    "\n",
    "    print(f'Time elapsed: {(time.time() - start_time)/60:.2f} min')\n",
    "\n",
    "print(f'Total Training Time: {(time.time() - start_time)/60:.2f} min')\n",
    "print(f'Test accuracy: {compute_accuracy(model, test_loader, DEVICE):.2f}%')\n"
   ]
  },
  {
   "cell_type": "code",
   "execution_count": 33,
   "metadata": {
    "pycharm": {
     "name": "#%%\n"
    }
   },
   "outputs": [],
   "source": [
    "import spacy\n",
    "\n",
    "nlp = spacy.blank(\"en\")\n",
    "\n",
    "def predict_sentiment(model, sentence):\n",
    "\n",
    "    model.eval()\n",
    "    tokenized = [tok.text for tok in nlp.tokenizer(sentence)]\n",
    "    indexed = [TEXT.vocab.stoi[t] for t in tokenized]\n",
    "    length = [len(indexed)]\n",
    "    tensor = torch.LongTensor(indexed).to(DEVICE)\n",
    "    tensor = tensor.unsqueeze(1)\n",
    "    length_tensor = torch.LongTensor(length)\n",
    "    prediction = torch.nn.functional.softmax(model(tensor), dim=1)\n",
    "    return prediction[0][0].item()"
   ]
  },
  {
   "cell_type": "code",
   "execution_count": 34,
   "outputs": [
    {
     "data": {
      "text/plain": "<Figure size 640x480 with 1 Axes>",
      "image/png": "[encoded data removed]"
     },
     "metadata": {},
     "output_type": "display_data"
    }
   ],
   "source": [
    "plt.plot(train_accuracy, label = 'train')\n",
    "plt.plot(valid_accuracy, label = 'valid')\n",
    "plt.legend()\n",
    "plt.xlabel('Epoch')\n",
    "plt.ylabel('Accuracy')\n",
    "plt.savefig('accuracy.png')"
   ],
   "metadata": {
    "collapsed": false,
    "pycharm": {
     "name": "#%%\n"
    }
   }
  },
  {
   "cell_type": "code",
   "execution_count": 35,
   "outputs": [
    {
     "name": "stdout",
     "output_type": "stream",
     "text": [
      "Probability positive:\n"
     ]
    },
    {
     "data": {
      "text/plain": "0.9998282194137573"
     },
     "execution_count": 35,
     "metadata": {},
     "output_type": "execute_result"
    }
   ],
   "source": [
    "print('Probability positive:')\n",
    "predict_sentiment(model, \"This is such an awesome movie, I really love it!\")\n"
   ],
   "metadata": {
    "collapsed": false,
    "pycharm": {
     "name": "#%%\n"
    }
   }
  },
  {
   "cell_type": "code",
   "execution_count": 36,
   "outputs": [
    {
     "name": "stdout",
     "output_type": "stream",
     "text": [
      "Probability negative:\n"
     ]
    },
    {
     "data": {
      "text/plain": "0.9795073289424181"
     },
     "execution_count": 36,
     "metadata": {},
     "output_type": "execute_result"
    }
   ],
   "source": [
    "print('Probability negative:')\n",
    "1-predict_sentiment(model, \"Whenever I go to a place that doesn’t take Apple Pay (doesn’t happen too often), it’s such a drag. Between ‘contactless Covid’ habits and my getting the Apple Card, I’ve gotten so used to Apple Pay that I get seriously annoyed when a store doesn’t take it. It feels like a shock, it’s crazy how quickly it took over my shopping routine! I’ve officially been brainwashed by Apple because now it feels so inconvenient to even carry a physical card in my pocket\")"
   ],
   "metadata": {
    "collapsed": false,
    "pycharm": {
     "name": "#%%\n"
    }
   }
  },
  {
   "cell_type": "code",
   "execution_count": 37,
   "outputs": [
    {
     "name": "stdout",
     "output_type": "stream",
     "text": [
      "[1 0 0 ... 1 1 2] [1. 0. 1. ... 2. 1. 1.]\n"
     ]
    }
   ],
   "source": [
    "predict_label, real_label= predict_label(model, test_loader, DEVICE)\n",
    "print(predict_label, real_label)"
   ],
   "metadata": {
    "collapsed": false,
    "pycharm": {
     "name": "#%%\n"
    }
   }
  },
  {
   "cell_type": "code",
   "execution_count": 38,
   "outputs": [
    {
     "data": {
      "text/plain": "array([[1955,  241,  127],\n       [ 232,  502,  171],\n       [ 115,  160,  179]], dtype=int64)"
     },
     "execution_count": 38,
     "metadata": {},
     "output_type": "execute_result"
    }
   ],
   "source": [
    "#confuion matrix\n",
    "import seaborn as sns\n",
    "cf_matrix = confusion_matrix(real_label, predict_label)\n",
    "cf_matrix"
   ],
   "metadata": {
    "collapsed": false,
    "pycharm": {
     "name": "#%%%\n"
    }
   }
  },
  {
   "cell_type": "code",
   "execution_count": 39,
   "outputs": [
    {
     "data": {
      "text/plain": "<Figure size 640x480 with 2 Axes>",
      "image/png": "[encoded data removed]"
     },
     "metadata": {},
     "output_type": "display_data"
    }
   ],
   "source": [
    "ax = sns.heatmap(cf_matrix, annot=True, cmap='Blues', fmt = '.20g')\n",
    "\n",
    "ax.set_title('Seaborn Confusion Matrix with labels\\n\\n');\n",
    "ax.set_xlabel('Predicted Values')\n",
    "ax.set_ylabel('Actual Values ');\n",
    "\n",
    "## Ticket labels - List must be in alphabetical order\n",
    "ax.xaxis.set_ticklabels(['2','1','0'])\n",
    "ax.yaxis.set_ticklabels(['2','1','0'])\n",
    "\n",
    "plt.savefig('confusion_matrix.png')\n",
    "## Display the visualization of the Confusion Matrix.\n",
    "plt.show()"
   ],
   "metadata": {
    "collapsed": false,
    "pycharm": {
     "name": "#%%\n"
    }
   }
  }
 ],
 "metadata": {
  "kernelspec": {
   "display_name": "Python 3 (ipykernel)",
   "language": "python",
   "name": "python3"
  },
  "language_info": {
   "codemirror_mode": {
    "name": "ipython",
    "version": 3
   },
   "file_extension": ".py",
   "mimetype": "text/x-python",
   "name": "python",
   "nbconvert_exporter": "python",
   "pygments_lexer": "ipython3",
   "version": "3.8.0"
  }
 },
 "nbformat": 4,
 "nbformat_minor": 1
}