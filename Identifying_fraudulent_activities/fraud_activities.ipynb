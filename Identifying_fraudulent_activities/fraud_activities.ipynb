{
 "cells": [
  {
   "cell_type": "markdown",
   "metadata": {
    "collapsed": true,
    "pycharm": {
     "name": "#%% md\n"
    }
   },
   "source": [
    "# Goal\n",
    "\n",
    "E-commerce websites often transact huge amounts of money. And whenever a huge amount of\n",
    "money is moved, there is a high risk of users performing fraudulent activities, e.g. using stolen\n",
    "credit cards, doing money laundry, etc.\n",
    "\n",
    "Machine Learning really excels at identifying fraudulent activities. Any website where you put\n",
    "your credit card information has a risk team in charge of avoiding frauds via machine learning.\n",
    "\n",
    "The goal of this challenge is to build a machine learning model that predicts the probability that\n",
    "the first transaction of a new user is fraudulent.\n",
    "\n",
    "\n",
    "# Challenge Description\n",
    "\n",
    "Company XYZ is an e-commerce site that sells hand-made clothes.\n",
    "\n",
    "You have to build a model that predicts whether a user has a high probability of using the site to\n",
    "perform some illegal activity or not. This is a super common task for data scientists.\n",
    "\n",
    "You only have information about the user first transaction on the site and based on that you\n",
    "have to make your classification (\"fraud/no fraud\").\n",
    "\n",
    "These are the tasks you are asked to do:\n",
    "\n",
    "* For each user, determine her country based on the numeric IP address.\n",
    "* Build a model to predict whether an activity is fraudulent or not. Explain how different\n",
    "assumptions about the cost of false positives vs false negatives would impact the model.\n",
    "* Your boss is a bit worried about using a model she doesn't understand for something as\n",
    "important as fraud detection. How would you explain her how the model is making the\n",
    "predictions? Not from a mathematical perspective (she couldn't care less about that), but\n",
    "from a user perspective. What kinds of users are more likely to be classified as at risk?\n",
    "What are their characteristics?\n",
    "* Let's say you now have this model which can be used live to predict in real time if an\n",
    "activity is fraudulent or not. From a product perspective, how would you use it? That is,\n",
    "what kind of different user experiences would you build based on the model output?\n",
    "\n",
    "# Data\n",
    "\n",
    "\"Fraud_Data\" - information about each user first transaction\n",
    "## columns:\n",
    "\n",
    "* user_id : Id of the user. Unique by user\n",
    "* signup_time : the time when the user created her account (GMT time)\n",
    "* purchase_time : the time when the user bought the item (GMT time)\n",
    "* purchase_value : the cost of the item purchased (USD)\n",
    "* device_id : the device id. You can assume that it is unique by device. I.e., \u0019 transaJtions\n",
    "with the same device ID means that the same physical device was used to bu`\n",
    "* source : user marketing channel: ads, SEO, Direct (i.e. came to the site by directly typing\n",
    "the site address on the browser).\n",
    "* browser : the browser used by the user.\n",
    "* sex : user sex: Male/Female\n",
    "* age : user age\n",
    "* ip_address : user numeric ip address\n",
    "* class : this is what we are trying to predict: whether the activity was fraudulent (1) or not\n",
    "(0).\n",
    "\n",
    "\n",
    "\"IpAddress_to_Country\" - mapping each numeric ip address to its country.\n",
    "For each country, it gives a range. If the numeric ip address falls within\n",
    "the range, then the ip address belongs to the corresponding country.\n",
    "\n",
    "## Columns:\n",
    "\n",
    "* lower_bound_ip_address : the lower bound of the numeric ip address for that country\n",
    "* upper_bound_ip_address : the upper bound of the numeric ip address for that country\n",
    "* country : the corresponding country. If a user has an ip address whose value is within\n",
    "the upper and lower bound, then she is based in this country."
   ]
  },
  {
   "cell_type": "code",
   "execution_count": 1,
   "outputs": [],
   "source": [
    "import pandas as pd\n",
    "import matplotlib.pyplot as plt\n",
    "from sklearn.model_selection import train_test_split\n",
    "from sklearn.ensemble import RandomForestClassifier\n",
    "fraud_data = pd.read_csv('Fraud_Data.csv')\n",
    "ip_address = pd.read_csv('IpAddress_to_Country.csv')"
   ],
   "metadata": {
    "collapsed": false,
    "pycharm": {
     "name": "#%%\n"
    }
   }
  },
  {
   "cell_type": "code",
   "execution_count": 2,
   "outputs": [
    {
     "name": "stdout",
     "output_type": "stream",
     "text": [
      "<class 'pandas.core.frame.DataFrame'>\n",
      "RangeIndex: 151112 entries, 0 to 151111\n",
      "Data columns (total 11 columns):\n",
      " #   Column          Non-Null Count   Dtype  \n",
      "---  ------          --------------   -----  \n",
      " 0   user_id         151112 non-null  int64  \n",
      " 1   signup_time     151112 non-null  object \n",
      " 2   purchase_time   151112 non-null  object \n",
      " 3   purchase_value  151112 non-null  int64  \n",
      " 4   device_id       151112 non-null  object \n",
      " 5   source          151112 non-null  object \n",
      " 6   browser         151112 non-null  object \n",
      " 7   sex             151112 non-null  object \n",
      " 8   age             151112 non-null  int64  \n",
      " 9   ip_address      151112 non-null  float64\n",
      " 10  class           151112 non-null  int64  \n",
      "dtypes: float64(1), int64(4), object(6)\n",
      "memory usage: 12.7+ MB\n"
     ]
    }
   ],
   "source": [
    "# look at the data\n",
    "# no null data for fraud data\n",
    "fraud_data.info()"
   ],
   "metadata": {
    "collapsed": false,
    "pycharm": {
     "name": "#%%\n"
    }
   }
  },
  {
   "cell_type": "code",
   "execution_count": 3,
   "outputs": [
    {
     "name": "stdout",
     "output_type": "stream",
     "text": [
      "<class 'pandas.core.frame.DataFrame'>\n",
      "RangeIndex: 138846 entries, 0 to 138845\n",
      "Data columns (total 3 columns):\n",
      " #   Column                  Non-Null Count   Dtype  \n",
      "---  ------                  --------------   -----  \n",
      " 0   lower_bound_ip_address  138846 non-null  float64\n",
      " 1   upper_bound_ip_address  138846 non-null  int64  \n",
      " 2   country                 138846 non-null  object \n",
      "dtypes: float64(1), int64(1), object(1)\n",
      "memory usage: 3.2+ MB\n"
     ]
    }
   ],
   "source": [
    "#no null data for ip_address data\n",
    "ip_address.info()"
   ],
   "metadata": {
    "collapsed": false,
    "pycharm": {
     "name": "#%%\n"
    }
   }
  },
  {
   "cell_type": "code",
   "execution_count": 5,
   "outputs": [
    {
     "data": {
      "text/plain": "             user_id  purchase_value            age    ip_address  \\\ncount  151112.000000   151112.000000  151112.000000  1.511120e+05   \nmean   200171.040970       36.935372      33.140704  2.152145e+09   \nstd    115369.285024       18.322762       8.617733  1.248497e+09   \nmin         2.000000        9.000000      18.000000  5.209350e+04   \n25%    100642.500000       22.000000      27.000000  1.085934e+09   \n50%    199958.000000       35.000000      33.000000  2.154770e+09   \n75%    300054.000000       49.000000      39.000000  3.243258e+09   \nmax    400000.000000      154.000000      76.000000  4.294850e+09   \n\n               class  \ncount  151112.000000  \nmean        0.093646  \nstd         0.291336  \nmin         0.000000  \n25%         0.000000  \n50%         0.000000  \n75%         0.000000  \nmax         1.000000  ",
      "text/html": "<div>\n<style scoped>\n    .dataframe tbody tr th:only-of-type {\n        vertical-align: middle;\n    }\n\n    .dataframe tbody tr th {\n        vertical-align: top;\n    }\n\n    .dataframe thead th {\n        text-align: right;\n    }\n</style>\n<table border=\"1\" class=\"dataframe\">\n  <thead>\n    <tr style=\"text-align: right;\">\n      <th></th>\n      <th>user_id</th>\n      <th>purchase_value</th>\n      <th>age</th>\n      <th>ip_address</th>\n      <th>class</th>\n    </tr>\n  </thead>\n  <tbody>\n    <tr>\n      <th>count</th>\n      <td>151112.000000</td>\n      <td>151112.000000</td>\n      <td>151112.000000</td>\n      <td>1.511120e+05</td>\n      <td>151112.000000</td>\n    </tr>\n    <tr>\n      <th>mean</th>\n      <td>200171.040970</td>\n      <td>36.935372</td>\n      <td>33.140704</td>\n      <td>2.152145e+09</td>\n      <td>0.093646</td>\n    </tr>\n    <tr>\n      <th>std</th>\n      <td>115369.285024</td>\n      <td>18.322762</td>\n      <td>8.617733</td>\n      <td>1.248497e+09</td>\n      <td>0.291336</td>\n    </tr>\n    <tr>\n      <th>min</th>\n      <td>2.000000</td>\n      <td>9.000000</td>\n      <td>18.000000</td>\n      <td>5.209350e+04</td>\n      <td>0.000000</td>\n    </tr>\n    <tr>\n      <th>25%</th>\n      <td>100642.500000</td>\n      <td>22.000000</td>\n      <td>27.000000</td>\n      <td>1.085934e+09</td>\n      <td>0.000000</td>\n    </tr>\n    <tr>\n      <th>50%</th>\n      <td>199958.000000</td>\n      <td>35.000000</td>\n      <td>33.000000</td>\n      <td>2.154770e+09</td>\n      <td>0.000000</td>\n    </tr>\n    <tr>\n      <th>75%</th>\n      <td>300054.000000</td>\n      <td>49.000000</td>\n      <td>39.000000</td>\n      <td>3.243258e+09</td>\n      <td>0.000000</td>\n    </tr>\n    <tr>\n      <th>max</th>\n      <td>400000.000000</td>\n      <td>154.000000</td>\n      <td>76.000000</td>\n      <td>4.294850e+09</td>\n      <td>1.000000</td>\n    </tr>\n  </tbody>\n</table>\n</div>"
     },
     "execution_count": 5,
     "metadata": {},
     "output_type": "execute_result"
    }
   ],
   "source": [
    "# the ip address for fraud data have 5*10^4, but the min ip address in country table is 10^7\n",
    "fraud_data.describe()"
   ],
   "metadata": {
    "collapsed": false,
    "pycharm": {
     "name": "#%%\n"
    }
   }
  },
  {
   "cell_type": "code",
   "execution_count": 6,
   "outputs": [
    {
     "data": {
      "text/plain": "       lower_bound_ip_address  upper_bound_ip_address\ncount            1.388460e+05            1.388460e+05\nmean             2.724532e+09            2.724557e+09\nstd              8.975215e+08            8.974979e+08\nmin              1.677722e+07            1.677747e+07\n25%              1.919930e+09            1.920008e+09\n50%              3.230887e+09            3.230888e+09\n75%              3.350465e+09            3.350466e+09\nmax              3.758096e+09            3.758096e+09",
      "text/html": "<div>\n<style scoped>\n    .dataframe tbody tr th:only-of-type {\n        vertical-align: middle;\n    }\n\n    .dataframe tbody tr th {\n        vertical-align: top;\n    }\n\n    .dataframe thead th {\n        text-align: right;\n    }\n</style>\n<table border=\"1\" class=\"dataframe\">\n  <thead>\n    <tr style=\"text-align: right;\">\n      <th></th>\n      <th>lower_bound_ip_address</th>\n      <th>upper_bound_ip_address</th>\n    </tr>\n  </thead>\n  <tbody>\n    <tr>\n      <th>count</th>\n      <td>1.388460e+05</td>\n      <td>1.388460e+05</td>\n    </tr>\n    <tr>\n      <th>mean</th>\n      <td>2.724532e+09</td>\n      <td>2.724557e+09</td>\n    </tr>\n    <tr>\n      <th>std</th>\n      <td>8.975215e+08</td>\n      <td>8.974979e+08</td>\n    </tr>\n    <tr>\n      <th>min</th>\n      <td>1.677722e+07</td>\n      <td>1.677747e+07</td>\n    </tr>\n    <tr>\n      <th>25%</th>\n      <td>1.919930e+09</td>\n      <td>1.920008e+09</td>\n    </tr>\n    <tr>\n      <th>50%</th>\n      <td>3.230887e+09</td>\n      <td>3.230888e+09</td>\n    </tr>\n    <tr>\n      <th>75%</th>\n      <td>3.350465e+09</td>\n      <td>3.350466e+09</td>\n    </tr>\n    <tr>\n      <th>max</th>\n      <td>3.758096e+09</td>\n      <td>3.758096e+09</td>\n    </tr>\n  </tbody>\n</table>\n</div>"
     },
     "execution_count": 6,
     "metadata": {},
     "output_type": "execute_result"
    }
   ],
   "source": [
    "ip_address.describe()\n"
   ],
   "metadata": {
    "collapsed": false,
    "pycharm": {
     "name": "#%%\n"
    }
   }
  },
  {
   "cell_type": "code",
   "execution_count": 17,
   "outputs": [
    {
     "data": {
      "text/plain": "16777216.0"
     },
     "execution_count": 17,
     "metadata": {},
     "output_type": "execute_result"
    }
   ],
   "source": [
    "ip_address['lower_bound_ip_address'].min()"
   ],
   "metadata": {
    "collapsed": false,
    "pycharm": {
     "name": "#%%\n"
    }
   }
  },
  {
   "cell_type": "code",
   "execution_count": 20,
   "outputs": [
    {
     "name": "stdout",
     "output_type": "stream",
     "text": [
      "# of ip_address not in ip_address table: user_id           634\n",
      "signup_time       634\n",
      "purchase_time     634\n",
      "purchase_value    634\n",
      "device_id         634\n",
      "source            634\n",
      "browser           634\n",
      "sex               634\n",
      "age               634\n",
      "ip_address        634\n",
      "class             634\n",
      "dtype: int64\n"
     ]
    }
   ],
   "source": [
    "print('# of ip_address not in ip_address table:', fraud_data[fraud_data['ip_address']<=16777216].count())\n"
   ],
   "metadata": {
    "collapsed": false,
    "pycharm": {
     "name": "#%%\n"
    }
   }
  },
  {
   "cell_type": "code",
   "execution_count": 16,
   "outputs": [
    {
     "data": {
      "text/plain": "235"
     },
     "execution_count": 16,
     "metadata": {},
     "output_type": "execute_result"
    }
   ],
   "source": [
    "# the number of distinct country, only 235 country in ip_address table, but the number of data in ip_address table is 138846\n",
    "unique_country = ip_address['country'].unique()\n",
    "unique_country.size"
   ],
   "metadata": {
    "collapsed": false,
    "pycharm": {
     "name": "#%%\n"
    }
   }
  },
  {
   "cell_type": "code",
   "execution_count": 21,
   "outputs": [
    {
     "data": {
      "text/plain": "                           lower_bound_ip_address  upper_bound_ip_address\ncountry                                                                  \nAfghanistan                                    46                      46\nAlbania                                        56                      56\nAlgeria                                        30                      30\nAmerican Samoa                                  1                       1\nAndorra                                         5                       5\n...                                           ...                     ...\nVirgin Islands (U.S.)                          14                      14\nWallis and Futuna Islands                       2                       2\nYemen                                          12                      12\nZambia                                         26                      26\nZimbabwe                                       34                      34\n\n[235 rows x 2 columns]",
      "text/html": "<div>\n<style scoped>\n    .dataframe tbody tr th:only-of-type {\n        vertical-align: middle;\n    }\n\n    .dataframe tbody tr th {\n        vertical-align: top;\n    }\n\n    .dataframe thead th {\n        text-align: right;\n    }\n</style>\n<table border=\"1\" class=\"dataframe\">\n  <thead>\n    <tr style=\"text-align: right;\">\n      <th></th>\n      <th>lower_bound_ip_address</th>\n      <th>upper_bound_ip_address</th>\n    </tr>\n    <tr>\n      <th>country</th>\n      <th></th>\n      <th></th>\n    </tr>\n  </thead>\n  <tbody>\n    <tr>\n      <th>Afghanistan</th>\n      <td>46</td>\n      <td>46</td>\n    </tr>\n    <tr>\n      <th>Albania</th>\n      <td>56</td>\n      <td>56</td>\n    </tr>\n    <tr>\n      <th>Algeria</th>\n      <td>30</td>\n      <td>30</td>\n    </tr>\n    <tr>\n      <th>American Samoa</th>\n      <td>1</td>\n      <td>1</td>\n    </tr>\n    <tr>\n      <th>Andorra</th>\n      <td>5</td>\n      <td>5</td>\n    </tr>\n    <tr>\n      <th>...</th>\n      <td>...</td>\n      <td>...</td>\n    </tr>\n    <tr>\n      <th>Virgin Islands (U.S.)</th>\n      <td>14</td>\n      <td>14</td>\n    </tr>\n    <tr>\n      <th>Wallis and Futuna Islands</th>\n      <td>2</td>\n      <td>2</td>\n    </tr>\n    <tr>\n      <th>Yemen</th>\n      <td>12</td>\n      <td>12</td>\n    </tr>\n    <tr>\n      <th>Zambia</th>\n      <td>26</td>\n      <td>26</td>\n    </tr>\n    <tr>\n      <th>Zimbabwe</th>\n      <td>34</td>\n      <td>34</td>\n    </tr>\n  </tbody>\n</table>\n<p>235 rows × 2 columns</p>\n</div>"
     },
     "execution_count": 21,
     "metadata": {},
     "output_type": "execute_result"
    }
   ],
   "source": [
    "ip_address.groupby('country').count()"
   ],
   "metadata": {
    "collapsed": false,
    "pycharm": {
     "name": "#%%\n"
    }
   }
  },
  {
   "cell_type": "code",
   "execution_count": 22,
   "outputs": [
    {
     "data": {
      "text/plain": "       lower_bound_ip_address  upper_bound_ip_address  country\n17184            1.432265e+09              1432272895  Andorra\n19219            1.538998e+09              1539006463  Andorra\n33427            1.836016e+09              1836023807  Andorra\n53970            3.104060e+09              3104061439  Andorra\n86442            3.265151e+09              3265159167  Andorra",
      "text/html": "<div>\n<style scoped>\n    .dataframe tbody tr th:only-of-type {\n        vertical-align: middle;\n    }\n\n    .dataframe tbody tr th {\n        vertical-align: top;\n    }\n\n    .dataframe thead th {\n        text-align: right;\n    }\n</style>\n<table border=\"1\" class=\"dataframe\">\n  <thead>\n    <tr style=\"text-align: right;\">\n      <th></th>\n      <th>lower_bound_ip_address</th>\n      <th>upper_bound_ip_address</th>\n      <th>country</th>\n    </tr>\n  </thead>\n  <tbody>\n    <tr>\n      <th>17184</th>\n      <td>1.432265e+09</td>\n      <td>1432272895</td>\n      <td>Andorra</td>\n    </tr>\n    <tr>\n      <th>19219</th>\n      <td>1.538998e+09</td>\n      <td>1539006463</td>\n      <td>Andorra</td>\n    </tr>\n    <tr>\n      <th>33427</th>\n      <td>1.836016e+09</td>\n      <td>1836023807</td>\n      <td>Andorra</td>\n    </tr>\n    <tr>\n      <th>53970</th>\n      <td>3.104060e+09</td>\n      <td>3104061439</td>\n      <td>Andorra</td>\n    </tr>\n    <tr>\n      <th>86442</th>\n      <td>3.265151e+09</td>\n      <td>3265159167</td>\n      <td>Andorra</td>\n    </tr>\n  </tbody>\n</table>\n</div>"
     },
     "execution_count": 22,
     "metadata": {},
     "output_type": "execute_result"
    }
   ],
   "source": [
    "# look at one country, the lower bound and upper bound are quite different with each other.\n",
    "ip_address[ip_address['country']=='Andorra']"
   ],
   "metadata": {
    "collapsed": false,
    "pycharm": {
     "name": "#%%\n"
    }
   }
  },
  {
   "cell_type": "code",
   "execution_count": 27,
   "outputs": [
    {
     "name": "stdout",
     "output_type": "stream",
     "text": [
      "the number of distinct lower bound of ip address: 138846\n",
      "the number of distinct ip address: 138846\n"
     ]
    }
   ],
   "source": [
    "unique_low_bound = ip_address['lower_bound_ip_address'].unique()\n",
    "print('the number of distinct lower bound of ip address:', unique_low_bound.size)\n",
    "print('the number of distinct ip address:', ip_address['country'].count())\n"
   ],
   "metadata": {
    "collapsed": false,
    "pycharm": {
     "name": "#%%\n"
    }
   }
  },
  {
   "cell_type": "code",
   "execution_count": 37,
   "outputs": [
    {
     "ename": "ValueError",
     "evalue": "cannot insert level_0, already exists",
     "output_type": "error",
     "traceback": [
      "\u001B[1;31m---------------------------------------------------------------------------\u001B[0m",
      "\u001B[1;31mValueError\u001B[0m                                Traceback (most recent call last)",
      "Input \u001B[1;32mIn [37]\u001B[0m, in \u001B[0;36m<cell line: 1>\u001B[1;34m()\u001B[0m\n\u001B[1;32m----> 1\u001B[0m \u001B[43mfraud_data\u001B[49m\u001B[38;5;241;43m.\u001B[39;49m\u001B[43mreset_index\u001B[49m\u001B[43m(\u001B[49m\u001B[43minplace\u001B[49m\u001B[43m \u001B[49m\u001B[38;5;241;43m=\u001B[39;49m\u001B[43m \u001B[49m\u001B[38;5;28;43;01mTrue\u001B[39;49;00m\u001B[43m)\u001B[49m\n",
      "File \u001B[1;32mD:\\Programs\\Python\\Python39\\lib\\site-packages\\pandas\\util\\_decorators.py:311\u001B[0m, in \u001B[0;36mdeprecate_nonkeyword_arguments.<locals>.decorate.<locals>.wrapper\u001B[1;34m(*args, **kwargs)\u001B[0m\n\u001B[0;32m    305\u001B[0m \u001B[38;5;28;01mif\u001B[39;00m \u001B[38;5;28mlen\u001B[39m(args) \u001B[38;5;241m>\u001B[39m num_allow_args:\n\u001B[0;32m    306\u001B[0m     warnings\u001B[38;5;241m.\u001B[39mwarn(\n\u001B[0;32m    307\u001B[0m         msg\u001B[38;5;241m.\u001B[39mformat(arguments\u001B[38;5;241m=\u001B[39marguments),\n\u001B[0;32m    308\u001B[0m         \u001B[38;5;167;01mFutureWarning\u001B[39;00m,\n\u001B[0;32m    309\u001B[0m         stacklevel\u001B[38;5;241m=\u001B[39mstacklevel,\n\u001B[0;32m    310\u001B[0m     )\n\u001B[1;32m--> 311\u001B[0m \u001B[38;5;28;01mreturn\u001B[39;00m func(\u001B[38;5;241m*\u001B[39margs, \u001B[38;5;241m*\u001B[39m\u001B[38;5;241m*\u001B[39mkwargs)\n",
      "File \u001B[1;32mD:\\Programs\\Python\\Python39\\lib\\site-packages\\pandas\\core\\frame.py:5833\u001B[0m, in \u001B[0;36mDataFrame.reset_index\u001B[1;34m(self, level, drop, inplace, col_level, col_fill)\u001B[0m\n\u001B[0;32m   5827\u001B[0m         \u001B[38;5;28;01mif\u001B[39;00m lab \u001B[38;5;129;01mis\u001B[39;00m \u001B[38;5;129;01mnot\u001B[39;00m \u001B[38;5;28;01mNone\u001B[39;00m:\n\u001B[0;32m   5828\u001B[0m             \u001B[38;5;66;03m# if we have the codes, extract the values with a mask\u001B[39;00m\n\u001B[0;32m   5829\u001B[0m             level_values \u001B[38;5;241m=\u001B[39m algorithms\u001B[38;5;241m.\u001B[39mtake(\n\u001B[0;32m   5830\u001B[0m                 level_values, lab, allow_fill\u001B[38;5;241m=\u001B[39m\u001B[38;5;28;01mTrue\u001B[39;00m, fill_value\u001B[38;5;241m=\u001B[39mlev\u001B[38;5;241m.\u001B[39m_na_value\n\u001B[0;32m   5831\u001B[0m             )\n\u001B[1;32m-> 5833\u001B[0m         \u001B[43mnew_obj\u001B[49m\u001B[38;5;241;43m.\u001B[39;49m\u001B[43minsert\u001B[49m\u001B[43m(\u001B[49m\u001B[38;5;241;43m0\u001B[39;49m\u001B[43m,\u001B[49m\u001B[43m \u001B[49m\u001B[43mname\u001B[49m\u001B[43m,\u001B[49m\u001B[43m \u001B[49m\u001B[43mlevel_values\u001B[49m\u001B[43m)\u001B[49m\n\u001B[0;32m   5835\u001B[0m new_obj\u001B[38;5;241m.\u001B[39mindex \u001B[38;5;241m=\u001B[39m new_index\n\u001B[0;32m   5836\u001B[0m \u001B[38;5;28;01mif\u001B[39;00m \u001B[38;5;129;01mnot\u001B[39;00m inplace:\n",
      "File \u001B[1;32mD:\\Programs\\Python\\Python39\\lib\\site-packages\\pandas\\core\\frame.py:4434\u001B[0m, in \u001B[0;36mDataFrame.insert\u001B[1;34m(self, loc, column, value, allow_duplicates)\u001B[0m\n\u001B[0;32m   4428\u001B[0m     \u001B[38;5;28;01mraise\u001B[39;00m \u001B[38;5;167;01mValueError\u001B[39;00m(\n\u001B[0;32m   4429\u001B[0m         \u001B[38;5;124m\"\u001B[39m\u001B[38;5;124mCannot specify \u001B[39m\u001B[38;5;124m'\u001B[39m\u001B[38;5;124mallow_duplicates=True\u001B[39m\u001B[38;5;124m'\u001B[39m\u001B[38;5;124m when \u001B[39m\u001B[38;5;124m\"\u001B[39m\n\u001B[0;32m   4430\u001B[0m         \u001B[38;5;124m\"\u001B[39m\u001B[38;5;124m'\u001B[39m\u001B[38;5;124mself.flags.allows_duplicate_labels\u001B[39m\u001B[38;5;124m'\u001B[39m\u001B[38;5;124m is False.\u001B[39m\u001B[38;5;124m\"\u001B[39m\n\u001B[0;32m   4431\u001B[0m     )\n\u001B[0;32m   4432\u001B[0m \u001B[38;5;28;01mif\u001B[39;00m \u001B[38;5;129;01mnot\u001B[39;00m allow_duplicates \u001B[38;5;129;01mand\u001B[39;00m column \u001B[38;5;129;01min\u001B[39;00m \u001B[38;5;28mself\u001B[39m\u001B[38;5;241m.\u001B[39mcolumns:\n\u001B[0;32m   4433\u001B[0m     \u001B[38;5;66;03m# Should this be a different kind of error??\u001B[39;00m\n\u001B[1;32m-> 4434\u001B[0m     \u001B[38;5;28;01mraise\u001B[39;00m \u001B[38;5;167;01mValueError\u001B[39;00m(\u001B[38;5;124mf\u001B[39m\u001B[38;5;124m\"\u001B[39m\u001B[38;5;124mcannot insert \u001B[39m\u001B[38;5;132;01m{\u001B[39;00mcolumn\u001B[38;5;132;01m}\u001B[39;00m\u001B[38;5;124m, already exists\u001B[39m\u001B[38;5;124m\"\u001B[39m)\n\u001B[0;32m   4435\u001B[0m \u001B[38;5;28;01mif\u001B[39;00m \u001B[38;5;129;01mnot\u001B[39;00m \u001B[38;5;28misinstance\u001B[39m(loc, \u001B[38;5;28mint\u001B[39m):\n\u001B[0;32m   4436\u001B[0m     \u001B[38;5;28;01mraise\u001B[39;00m \u001B[38;5;167;01mTypeError\u001B[39;00m(\u001B[38;5;124m\"\u001B[39m\u001B[38;5;124mloc must be int\u001B[39m\u001B[38;5;124m\"\u001B[39m)\n",
      "\u001B[1;31mValueError\u001B[0m: cannot insert level_0, already exists"
     ]
    }
   ],
   "source": [
    "fraud_data.reset_index(inplace = True)"
   ],
   "metadata": {
    "collapsed": false,
    "pycharm": {
     "name": "#%%\n"
    }
   }
  },
  {
   "cell_type": "code",
   "execution_count": null,
   "outputs": [],
   "source": [
    "#merge ip_address table to fraud table\n",
    "from pandasql import sqldf\n",
    "pysql = lambda q:sqldf(q, globals())\n",
    "join = '''\n",
    "select f.user_id, f.signup_time, f.purchase_time, f.purchase_value, f.device_id, f.source, f.browser, f.sex, f.age, f.ip_address,\n",
    "f.class, i.lower_bound_ip_address, i.upper_bound_ip_address, i.country\n",
    "from fraud_data f\n",
    "left join ip_address i on f.ip_address <=i.upper_bound_ip_address and f.ip_address >= i.lower_bound_ip_address\n",
    "'''\n",
    "fraud_join_data = pysql(join)\n"
   ],
   "metadata": {
    "collapsed": false,
    "pycharm": {
     "name": "#%%\n",
     "is_executing": true
    }
   }
  }
 ],
 "metadata": {
  "kernelspec": {
   "display_name": "Python 3",
   "language": "python",
   "name": "python3"
  },
  "language_info": {
   "codemirror_mode": {
    "name": "ipython",
    "version": 2
   },
   "file_extension": ".py",
   "mimetype": "text/x-python",
   "name": "python",
   "nbconvert_exporter": "python",
   "pygments_lexer": "ipython2",
   "version": "2.7.6"
  }
 },
 "nbformat": 4,
 "nbformat_minor": 0
}