{
 "cells": [
  {
   "cell_type": "markdown",
   "metadata": {
    "collapsed": true,
    "pycharm": {
     "name": "#%% md\n"
    }
   },
   "source": [
    "# Goal\n",
    "\n",
    "E-commerce websites often transact huge amounts of money. And whenever a huge amount of\n",
    "money is moved, there is a high risk of users performing fraudulent activities, e.g. using stolen\n",
    "credit cards, doing money laundry, etc.\n",
    "\n",
    "Machine Learning really excels at identifying fraudulent activities. Any website where you put\n",
    "your credit card information has a risk team in charge of avoiding frauds via machine learning.\n",
    "\n",
    "The goal of this challenge is to build a machine learning model that predicts the probability that\n",
    "the first transaction of a new user is fraudulent.\n",
    "\n",
    "\n",
    "# Challenge Description\n",
    "\n",
    "Company XYZ is an e-commerce site that sells hand-made clothes.\n",
    "\n",
    "You have to build a model that predicts whether a user has a high probability of using the site to\n",
    "perform some illegal activity or not. This is a super common task for data scientists.\n",
    "\n",
    "You only have information about the user first transaction on the site and based on that you\n",
    "have to make your classification (\"fraud/no fraud\").\n",
    "\n",
    "These are the tasks you are asked to do:\n",
    "\n",
    "* For each user, determine her country based on the numeric IP address.\n",
    "* Build a model to predict whether an activity is fraudulent or not. Explain how different\n",
    "assumptions about the cost of false positives vs false negatives would impact the model.\n",
    "* Your boss is a bit worried about using a model she doesn't understand for something as\n",
    "important as fraud detection. How would you explain her how the model is making the\n",
    "predictions? Not from a mathematical perspective (she couldn't care less about that), but\n",
    "from a user perspective. What kinds of users are more likely to be classified as at risk?\n",
    "What are their characteristics?\n",
    "* Let's say you now have this model which can be used live to predict in real time if an\n",
    "activity is fraudulent or not. From a product perspective, how would you use it? That is,\n",
    "what kind of different user experiences would you build based on the model output?\n",
    "\n",
    "# Data\n",
    "\n",
    "\"Fraud_Data\" - information about each user first transaction\n",
    "## columns:\n",
    "\n",
    "* user_id : Id of the user. Unique by user\n",
    "* signup_time : the time when the user created her account (GMT time)\n",
    "* purchase_time : the time when the user bought the item (GMT time)\n",
    "* purchase_value : the cost of the item purchased (USD)\n",
    "* device_id : the device id. You can assume that it is unique by device. I.e., \u0019 transaJtions\n",
    "with the same device ID means that the same physical device was used to bu`\n",
    "* source : user marketing channel: ads, SEO, Direct (i.e. came to the site by directly typing\n",
    "the site address on the browser).\n",
    "* browser : the browser used by the user.\n",
    "* sex : user sex: Male/Female\n",
    "* age : user age\n",
    "* ip_address : user numeric ip address\n",
    "* class : this is what we are trying to predict: whether the activity was fraudulent (1) or not\n",
    "(0).\n",
    "\n",
    "\n",
    "\"IpAddress_to_Country\" - mapping each numeric ip address to its country.\n",
    "For each country, it gives a range. If the numeric ip address falls within\n",
    "the range, then the ip address belongs to the corresponding country.\n",
    "\n",
    "## Columns:\n",
    "\n",
    "* lower_bound_ip_address : the lower bound of the numeric ip address for that country\n",
    "* upper_bound_ip_address : the upper bound of the numeric ip address for that country\n",
    "* country : the corresponding country. If a user has an ip address whose value is within\n",
    "the upper and lower bound, then she is based in this country."
   ]
  },
  {
   "cell_type": "code",
   "execution_count": 147,
   "outputs": [],
   "source": [
    "import pandas as pd\n",
    "import matplotlib.pyplot as plt\n",
    "from sklearn.model_selection import train_test_split\n",
    "from sklearn.ensemble import RandomForestClassifier\n",
    "\n",
    "fraud_data = pd.read_csv('Fraud_Data.csv')\n",
    "ip_address = pd.read_csv('IpAddress_to_Country.csv')"
   ],
   "metadata": {
    "collapsed": false,
    "pycharm": {
     "name": "#%%\n"
    }
   }
  },
  {
   "cell_type": "code",
   "execution_count": 148,
   "outputs": [
    {
     "name": "stdout",
     "output_type": "stream",
     "text": [
      "<class 'pandas.core.frame.DataFrame'>\n",
      "RangeIndex: 151112 entries, 0 to 151111\n",
      "Data columns (total 11 columns):\n",
      " #   Column          Non-Null Count   Dtype  \n",
      "---  ------          --------------   -----  \n",
      " 0   user_id         151112 non-null  int64  \n",
      " 1   signup_time     151112 non-null  object \n",
      " 2   purchase_time   151112 non-null  object \n",
      " 3   purchase_value  151112 non-null  int64  \n",
      " 4   device_id       151112 non-null  object \n",
      " 5   source          151112 non-null  object \n",
      " 6   browser         151112 non-null  object \n",
      " 7   sex             151112 non-null  object \n",
      " 8   age             151112 non-null  int64  \n",
      " 9   ip_address      151112 non-null  float64\n",
      " 10  class           151112 non-null  int64  \n",
      "dtypes: float64(1), int64(4), object(6)\n",
      "memory usage: 12.7+ MB\n"
     ]
    }
   ],
   "source": [
    "# look at the data\n",
    "# no null data for fraud data\n",
    "fraud_data.info()"
   ],
   "metadata": {
    "collapsed": false,
    "pycharm": {
     "name": "#%%\n"
    }
   }
  },
  {
   "cell_type": "code",
   "execution_count": 149,
   "outputs": [
    {
     "name": "stdout",
     "output_type": "stream",
     "text": [
      "<class 'pandas.core.frame.DataFrame'>\n",
      "RangeIndex: 138846 entries, 0 to 138845\n",
      "Data columns (total 3 columns):\n",
      " #   Column                  Non-Null Count   Dtype  \n",
      "---  ------                  --------------   -----  \n",
      " 0   lower_bound_ip_address  138846 non-null  float64\n",
      " 1   upper_bound_ip_address  138846 non-null  int64  \n",
      " 2   country                 138846 non-null  object \n",
      "dtypes: float64(1), int64(1), object(1)\n",
      "memory usage: 3.2+ MB\n"
     ]
    }
   ],
   "source": [
    "#no null data for ip_address data\n",
    "ip_address.info()"
   ],
   "metadata": {
    "collapsed": false,
    "pycharm": {
     "name": "#%%\n"
    }
   }
  },
  {
   "cell_type": "code",
   "execution_count": 150,
   "outputs": [
    {
     "data": {
      "text/plain": "             user_id  purchase_value            age    ip_address  \\\ncount  151112.000000   151112.000000  151112.000000  1.511120e+05   \nmean   200171.040970       36.935372      33.140704  2.152145e+09   \nstd    115369.285024       18.322762       8.617733  1.248497e+09   \nmin         2.000000        9.000000      18.000000  5.209350e+04   \n25%    100642.500000       22.000000      27.000000  1.085934e+09   \n50%    199958.000000       35.000000      33.000000  2.154770e+09   \n75%    300054.000000       49.000000      39.000000  3.243258e+09   \nmax    400000.000000      154.000000      76.000000  4.294850e+09   \n\n               class  \ncount  151112.000000  \nmean        0.093646  \nstd         0.291336  \nmin         0.000000  \n25%         0.000000  \n50%         0.000000  \n75%         0.000000  \nmax         1.000000  ",
      "text/html": "<div>\n<style scoped>\n    .dataframe tbody tr th:only-of-type {\n        vertical-align: middle;\n    }\n\n    .dataframe tbody tr th {\n        vertical-align: top;\n    }\n\n    .dataframe thead th {\n        text-align: right;\n    }\n</style>\n<table border=\"1\" class=\"dataframe\">\n  <thead>\n    <tr style=\"text-align: right;\">\n      <th></th>\n      <th>user_id</th>\n      <th>purchase_value</th>\n      <th>age</th>\n      <th>ip_address</th>\n      <th>class</th>\n    </tr>\n  </thead>\n  <tbody>\n    <tr>\n      <th>count</th>\n      <td>151112.000000</td>\n      <td>151112.000000</td>\n      <td>151112.000000</td>\n      <td>1.511120e+05</td>\n      <td>151112.000000</td>\n    </tr>\n    <tr>\n      <th>mean</th>\n      <td>200171.040970</td>\n      <td>36.935372</td>\n      <td>33.140704</td>\n      <td>2.152145e+09</td>\n      <td>0.093646</td>\n    </tr>\n    <tr>\n      <th>std</th>\n      <td>115369.285024</td>\n      <td>18.322762</td>\n      <td>8.617733</td>\n      <td>1.248497e+09</td>\n      <td>0.291336</td>\n    </tr>\n    <tr>\n      <th>min</th>\n      <td>2.000000</td>\n      <td>9.000000</td>\n      <td>18.000000</td>\n      <td>5.209350e+04</td>\n      <td>0.000000</td>\n    </tr>\n    <tr>\n      <th>25%</th>\n      <td>100642.500000</td>\n      <td>22.000000</td>\n      <td>27.000000</td>\n      <td>1.085934e+09</td>\n      <td>0.000000</td>\n    </tr>\n    <tr>\n      <th>50%</th>\n      <td>199958.000000</td>\n      <td>35.000000</td>\n      <td>33.000000</td>\n      <td>2.154770e+09</td>\n      <td>0.000000</td>\n    </tr>\n    <tr>\n      <th>75%</th>\n      <td>300054.000000</td>\n      <td>49.000000</td>\n      <td>39.000000</td>\n      <td>3.243258e+09</td>\n      <td>0.000000</td>\n    </tr>\n    <tr>\n      <th>max</th>\n      <td>400000.000000</td>\n      <td>154.000000</td>\n      <td>76.000000</td>\n      <td>4.294850e+09</td>\n      <td>1.000000</td>\n    </tr>\n  </tbody>\n</table>\n</div>"
     },
     "execution_count": 150,
     "metadata": {},
     "output_type": "execute_result"
    }
   ],
   "source": [
    "# the ip address for fraud data have 5*10^4, but the min ip address in country table is 10^7\n",
    "fraud_data.describe()"
   ],
   "metadata": {
    "collapsed": false,
    "pycharm": {
     "name": "#%%\n"
    }
   }
  },
  {
   "cell_type": "code",
   "execution_count": 151,
   "outputs": [
    {
     "data": {
      "text/plain": "       lower_bound_ip_address  upper_bound_ip_address\ncount            1.388460e+05            1.388460e+05\nmean             2.724532e+09            2.724557e+09\nstd              8.975215e+08            8.974979e+08\nmin              1.677722e+07            1.677747e+07\n25%              1.919930e+09            1.920008e+09\n50%              3.230887e+09            3.230888e+09\n75%              3.350465e+09            3.350466e+09\nmax              3.758096e+09            3.758096e+09",
      "text/html": "<div>\n<style scoped>\n    .dataframe tbody tr th:only-of-type {\n        vertical-align: middle;\n    }\n\n    .dataframe tbody tr th {\n        vertical-align: top;\n    }\n\n    .dataframe thead th {\n        text-align: right;\n    }\n</style>\n<table border=\"1\" class=\"dataframe\">\n  <thead>\n    <tr style=\"text-align: right;\">\n      <th></th>\n      <th>lower_bound_ip_address</th>\n      <th>upper_bound_ip_address</th>\n    </tr>\n  </thead>\n  <tbody>\n    <tr>\n      <th>count</th>\n      <td>1.388460e+05</td>\n      <td>1.388460e+05</td>\n    </tr>\n    <tr>\n      <th>mean</th>\n      <td>2.724532e+09</td>\n      <td>2.724557e+09</td>\n    </tr>\n    <tr>\n      <th>std</th>\n      <td>8.975215e+08</td>\n      <td>8.974979e+08</td>\n    </tr>\n    <tr>\n      <th>min</th>\n      <td>1.677722e+07</td>\n      <td>1.677747e+07</td>\n    </tr>\n    <tr>\n      <th>25%</th>\n      <td>1.919930e+09</td>\n      <td>1.920008e+09</td>\n    </tr>\n    <tr>\n      <th>50%</th>\n      <td>3.230887e+09</td>\n      <td>3.230888e+09</td>\n    </tr>\n    <tr>\n      <th>75%</th>\n      <td>3.350465e+09</td>\n      <td>3.350466e+09</td>\n    </tr>\n    <tr>\n      <th>max</th>\n      <td>3.758096e+09</td>\n      <td>3.758096e+09</td>\n    </tr>\n  </tbody>\n</table>\n</div>"
     },
     "execution_count": 151,
     "metadata": {},
     "output_type": "execute_result"
    }
   ],
   "source": [
    "ip_address.describe()\n"
   ],
   "metadata": {
    "collapsed": false,
    "pycharm": {
     "name": "#%%\n"
    }
   }
  },
  {
   "cell_type": "code",
   "execution_count": 152,
   "outputs": [
    {
     "data": {
      "text/plain": "16777216.0"
     },
     "execution_count": 152,
     "metadata": {},
     "output_type": "execute_result"
    }
   ],
   "source": [
    "ip_address['lower_bound_ip_address'].min()"
   ],
   "metadata": {
    "collapsed": false,
    "pycharm": {
     "name": "#%%\n"
    }
   }
  },
  {
   "cell_type": "code",
   "execution_count": 153,
   "outputs": [
    {
     "name": "stdout",
     "output_type": "stream",
     "text": [
      "# of ip_address not in ip_address table: user_id           634\n",
      "signup_time       634\n",
      "purchase_time     634\n",
      "purchase_value    634\n",
      "device_id         634\n",
      "source            634\n",
      "browser           634\n",
      "sex               634\n",
      "age               634\n",
      "ip_address        634\n",
      "class             634\n",
      "dtype: int64\n"
     ]
    }
   ],
   "source": [
    "print('# of ip_address not in ip_address table:', fraud_data[fraud_data['ip_address']<=16777216].count())\n"
   ],
   "metadata": {
    "collapsed": false,
    "pycharm": {
     "name": "#%%\n"
    }
   }
  },
  {
   "cell_type": "code",
   "execution_count": 154,
   "outputs": [
    {
     "data": {
      "text/plain": "235"
     },
     "execution_count": 154,
     "metadata": {},
     "output_type": "execute_result"
    }
   ],
   "source": [
    "# the number of distinct country, only 235 country in ip_address table, but the number of data in ip_address table is 138846\n",
    "unique_country = ip_address['country'].unique()\n",
    "unique_country.size"
   ],
   "metadata": {
    "collapsed": false,
    "pycharm": {
     "name": "#%%\n"
    }
   }
  },
  {
   "cell_type": "code",
   "execution_count": 155,
   "outputs": [
    {
     "data": {
      "text/plain": "                           lower_bound_ip_address  upper_bound_ip_address\ncountry                                                                  \nAfghanistan                                    46                      46\nAlbania                                        56                      56\nAlgeria                                        30                      30\nAmerican Samoa                                  1                       1\nAndorra                                         5                       5\n...                                           ...                     ...\nVirgin Islands (U.S.)                          14                      14\nWallis and Futuna Islands                       2                       2\nYemen                                          12                      12\nZambia                                         26                      26\nZimbabwe                                       34                      34\n\n[235 rows x 2 columns]",
      "text/html": "<div>\n<style scoped>\n    .dataframe tbody tr th:only-of-type {\n        vertical-align: middle;\n    }\n\n    .dataframe tbody tr th {\n        vertical-align: top;\n    }\n\n    .dataframe thead th {\n        text-align: right;\n    }\n</style>\n<table border=\"1\" class=\"dataframe\">\n  <thead>\n    <tr style=\"text-align: right;\">\n      <th></th>\n      <th>lower_bound_ip_address</th>\n      <th>upper_bound_ip_address</th>\n    </tr>\n    <tr>\n      <th>country</th>\n      <th></th>\n      <th></th>\n    </tr>\n  </thead>\n  <tbody>\n    <tr>\n      <th>Afghanistan</th>\n      <td>46</td>\n      <td>46</td>\n    </tr>\n    <tr>\n      <th>Albania</th>\n      <td>56</td>\n      <td>56</td>\n    </tr>\n    <tr>\n      <th>Algeria</th>\n      <td>30</td>\n      <td>30</td>\n    </tr>\n    <tr>\n      <th>American Samoa</th>\n      <td>1</td>\n      <td>1</td>\n    </tr>\n    <tr>\n      <th>Andorra</th>\n      <td>5</td>\n      <td>5</td>\n    </tr>\n    <tr>\n      <th>...</th>\n      <td>...</td>\n      <td>...</td>\n    </tr>\n    <tr>\n      <th>Virgin Islands (U.S.)</th>\n      <td>14</td>\n      <td>14</td>\n    </tr>\n    <tr>\n      <th>Wallis and Futuna Islands</th>\n      <td>2</td>\n      <td>2</td>\n    </tr>\n    <tr>\n      <th>Yemen</th>\n      <td>12</td>\n      <td>12</td>\n    </tr>\n    <tr>\n      <th>Zambia</th>\n      <td>26</td>\n      <td>26</td>\n    </tr>\n    <tr>\n      <th>Zimbabwe</th>\n      <td>34</td>\n      <td>34</td>\n    </tr>\n  </tbody>\n</table>\n<p>235 rows × 2 columns</p>\n</div>"
     },
     "execution_count": 155,
     "metadata": {},
     "output_type": "execute_result"
    }
   ],
   "source": [
    "ip_address.groupby('country').count()"
   ],
   "metadata": {
    "collapsed": false,
    "pycharm": {
     "name": "#%%\n"
    }
   }
  },
  {
   "cell_type": "code",
   "execution_count": 156,
   "outputs": [
    {
     "data": {
      "text/plain": "       lower_bound_ip_address  upper_bound_ip_address  country\n17184            1.432265e+09              1432272895  Andorra\n19219            1.538998e+09              1539006463  Andorra\n33427            1.836016e+09              1836023807  Andorra\n53970            3.104060e+09              3104061439  Andorra\n86442            3.265151e+09              3265159167  Andorra",
      "text/html": "<div>\n<style scoped>\n    .dataframe tbody tr th:only-of-type {\n        vertical-align: middle;\n    }\n\n    .dataframe tbody tr th {\n        vertical-align: top;\n    }\n\n    .dataframe thead th {\n        text-align: right;\n    }\n</style>\n<table border=\"1\" class=\"dataframe\">\n  <thead>\n    <tr style=\"text-align: right;\">\n      <th></th>\n      <th>lower_bound_ip_address</th>\n      <th>upper_bound_ip_address</th>\n      <th>country</th>\n    </tr>\n  </thead>\n  <tbody>\n    <tr>\n      <th>17184</th>\n      <td>1.432265e+09</td>\n      <td>1432272895</td>\n      <td>Andorra</td>\n    </tr>\n    <tr>\n      <th>19219</th>\n      <td>1.538998e+09</td>\n      <td>1539006463</td>\n      <td>Andorra</td>\n    </tr>\n    <tr>\n      <th>33427</th>\n      <td>1.836016e+09</td>\n      <td>1836023807</td>\n      <td>Andorra</td>\n    </tr>\n    <tr>\n      <th>53970</th>\n      <td>3.104060e+09</td>\n      <td>3104061439</td>\n      <td>Andorra</td>\n    </tr>\n    <tr>\n      <th>86442</th>\n      <td>3.265151e+09</td>\n      <td>3265159167</td>\n      <td>Andorra</td>\n    </tr>\n  </tbody>\n</table>\n</div>"
     },
     "execution_count": 156,
     "metadata": {},
     "output_type": "execute_result"
    }
   ],
   "source": [
    "# look at one country, the lower bound and upper bound are quite different with each other.\n",
    "ip_address[ip_address['country']=='Andorra']"
   ],
   "metadata": {
    "collapsed": false,
    "pycharm": {
     "name": "#%%\n"
    }
   }
  },
  {
   "cell_type": "code",
   "execution_count": 157,
   "outputs": [
    {
     "name": "stdout",
     "output_type": "stream",
     "text": [
      "the number of distinct lower bound of ip address: 138846\n",
      "the number of distinct ip address: 138846\n"
     ]
    }
   ],
   "source": [
    "unique_low_bound = ip_address['lower_bound_ip_address'].unique()\n",
    "print('the number of distinct lower bound of ip address:', unique_low_bound.size)\n",
    "print('the number of distinct ip address:', ip_address['country'].count())\n"
   ],
   "metadata": {
    "collapsed": false,
    "pycharm": {
     "name": "#%%\n"
    }
   }
  },
  {
   "cell_type": "code",
   "execution_count": 158,
   "outputs": [],
   "source": [
    "fraud_data.reset_index(inplace = True)"
   ],
   "metadata": {
    "collapsed": false,
    "pycharm": {
     "name": "#%%\n"
    }
   }
  },
  {
   "cell_type": "code",
   "execution_count": 159,
   "outputs": [],
   "source": [
    "#merge ip_address table to fraud table\n",
    "from pandasql import sqldf\n",
    "pysql = lambda q:sqldf(q, globals())\n",
    "join = '''\n",
    "select f.user_id, f.signup_time, f.purchase_time, f.purchase_value, f.device_id, f.source, f.browser, f.sex, f.age, f.ip_address,\n",
    "f.class, i.lower_bound_ip_address, i.upper_bound_ip_address, i.country\n",
    "from fraud_data f\n",
    "left join ip_address i on f.ip_address <=i.upper_bound_ip_address and f.ip_address >= i.lower_bound_ip_address\n",
    "'''\n",
    "fraud_join_data_1 = pysql(join)\n"
   ],
   "metadata": {
    "collapsed": false,
    "pycharm": {
     "name": "#%%\n"
    }
   }
  },
  {
   "cell_type": "code",
   "execution_count": 160,
   "outputs": [
    {
     "name": "stdout",
     "output_type": "stream",
     "text": [
      "<class 'pandas.core.frame.DataFrame'>\n",
      "RangeIndex: 151112 entries, 0 to 151111\n",
      "Data columns (total 14 columns):\n",
      " #   Column                  Non-Null Count   Dtype  \n",
      "---  ------                  --------------   -----  \n",
      " 0   user_id                 151112 non-null  int64  \n",
      " 1   signup_time             151112 non-null  object \n",
      " 2   purchase_time           151112 non-null  object \n",
      " 3   purchase_value          151112 non-null  int64  \n",
      " 4   device_id               151112 non-null  object \n",
      " 5   source                  151112 non-null  object \n",
      " 6   browser                 151112 non-null  object \n",
      " 7   sex                     151112 non-null  object \n",
      " 8   age                     151112 non-null  int64  \n",
      " 9   ip_address              151112 non-null  float64\n",
      " 10  class                   151112 non-null  int64  \n",
      " 11  lower_bound_ip_address  129146 non-null  float64\n",
      " 12  upper_bound_ip_address  129146 non-null  float64\n",
      " 13  country                 129146 non-null  object \n",
      "dtypes: float64(3), int64(4), object(7)\n",
      "memory usage: 16.1+ MB\n"
     ]
    }
   ],
   "source": [
    "# look at the merge data, the # of column is equal to the # of column in fraud data, the ip_address does not have overlap for each other\n",
    "# There are have some null data for country column\n",
    "fraud_join_data = fraud_join_data_1\n",
    "fraud_join_data.info()"
   ],
   "metadata": {
    "collapsed": false,
    "pycharm": {
     "name": "#%%\n"
    }
   }
  },
  {
   "cell_type": "code",
   "execution_count": 161,
   "outputs": [
    {
     "data": {
      "text/plain": "             user_id  purchase_value            age    ip_address  \\\ncount  151112.000000   151112.000000  151112.000000  1.511120e+05   \nmean   200171.040970       36.935372      33.140704  2.152145e+09   \nstd    115369.285024       18.322762       8.617733  1.248497e+09   \nmin         2.000000        9.000000      18.000000  5.209350e+04   \n25%    100642.500000       22.000000      27.000000  1.085934e+09   \n50%    199958.000000       35.000000      33.000000  2.154770e+09   \n75%    300054.000000       49.000000      39.000000  3.243258e+09   \nmax    400000.000000      154.000000      76.000000  4.294850e+09   \n\n               class  lower_bound_ip_address  upper_bound_ip_address  \ncount  151112.000000            1.291460e+05            1.291460e+05  \nmean        0.093646            1.890950e+09            1.894646e+09  \nstd         0.291336            1.086802e+09            1.083635e+09  \nmin         0.000000            1.677824e+07            1.677926e+07  \n25%         0.000000            9.395241e+08            9.563013e+08  \n50%         0.000000            1.899708e+09            1.899733e+09  \n75%         0.000000            2.832073e+09            2.832138e+09  \nmax         1.000000            3.758031e+09            3.758064e+09  ",
      "text/html": "<div>\n<style scoped>\n    .dataframe tbody tr th:only-of-type {\n        vertical-align: middle;\n    }\n\n    .dataframe tbody tr th {\n        vertical-align: top;\n    }\n\n    .dataframe thead th {\n        text-align: right;\n    }\n</style>\n<table border=\"1\" class=\"dataframe\">\n  <thead>\n    <tr style=\"text-align: right;\">\n      <th></th>\n      <th>user_id</th>\n      <th>purchase_value</th>\n      <th>age</th>\n      <th>ip_address</th>\n      <th>class</th>\n      <th>lower_bound_ip_address</th>\n      <th>upper_bound_ip_address</th>\n    </tr>\n  </thead>\n  <tbody>\n    <tr>\n      <th>count</th>\n      <td>151112.000000</td>\n      <td>151112.000000</td>\n      <td>151112.000000</td>\n      <td>1.511120e+05</td>\n      <td>151112.000000</td>\n      <td>1.291460e+05</td>\n      <td>1.291460e+05</td>\n    </tr>\n    <tr>\n      <th>mean</th>\n      <td>200171.040970</td>\n      <td>36.935372</td>\n      <td>33.140704</td>\n      <td>2.152145e+09</td>\n      <td>0.093646</td>\n      <td>1.890950e+09</td>\n      <td>1.894646e+09</td>\n    </tr>\n    <tr>\n      <th>std</th>\n      <td>115369.285024</td>\n      <td>18.322762</td>\n      <td>8.617733</td>\n      <td>1.248497e+09</td>\n      <td>0.291336</td>\n      <td>1.086802e+09</td>\n      <td>1.083635e+09</td>\n    </tr>\n    <tr>\n      <th>min</th>\n      <td>2.000000</td>\n      <td>9.000000</td>\n      <td>18.000000</td>\n      <td>5.209350e+04</td>\n      <td>0.000000</td>\n      <td>1.677824e+07</td>\n      <td>1.677926e+07</td>\n    </tr>\n    <tr>\n      <th>25%</th>\n      <td>100642.500000</td>\n      <td>22.000000</td>\n      <td>27.000000</td>\n      <td>1.085934e+09</td>\n      <td>0.000000</td>\n      <td>9.395241e+08</td>\n      <td>9.563013e+08</td>\n    </tr>\n    <tr>\n      <th>50%</th>\n      <td>199958.000000</td>\n      <td>35.000000</td>\n      <td>33.000000</td>\n      <td>2.154770e+09</td>\n      <td>0.000000</td>\n      <td>1.899708e+09</td>\n      <td>1.899733e+09</td>\n    </tr>\n    <tr>\n      <th>75%</th>\n      <td>300054.000000</td>\n      <td>49.000000</td>\n      <td>39.000000</td>\n      <td>3.243258e+09</td>\n      <td>0.000000</td>\n      <td>2.832073e+09</td>\n      <td>2.832138e+09</td>\n    </tr>\n    <tr>\n      <th>max</th>\n      <td>400000.000000</td>\n      <td>154.000000</td>\n      <td>76.000000</td>\n      <td>4.294850e+09</td>\n      <td>1.000000</td>\n      <td>3.758031e+09</td>\n      <td>3.758064e+09</td>\n    </tr>\n  </tbody>\n</table>\n</div>"
     },
     "execution_count": 161,
     "metadata": {},
     "output_type": "execute_result"
    }
   ],
   "source": [
    "fraud_join_data.describe()"
   ],
   "metadata": {
    "collapsed": false,
    "pycharm": {
     "name": "#%%\n"
    }
   }
  },
  {
   "cell_type": "code",
   "execution_count": 162,
   "outputs": [
    {
     "data": {
      "text/plain": "   user_id          signup_time        purchase_time  purchase_value  \\\n0    22058  2015-02-24 22:55:49  2015-04-18 02:47:11              34   \n1   333320  2015-06-07 20:39:50  2015-06-08 01:38:54              16   \n2     1359  2015-01-01 18:52:44  2015-01-01 18:52:45              15   \n3   150084  2015-04-28 21:13:25  2015-05-04 13:54:50              44   \n4   221365  2015-07-21 07:09:52  2015-09-09 18:40:53              39   \n\n       device_id source browser sex  age    ip_address  class  \\\n0  QVPSPJUOCKZAR    SEO  Chrome   M   39  7.327584e+08      0   \n1  EOGFQPIZPYXFZ    Ads  Chrome   F   53  3.503114e+08      0   \n2  YSSKYOSJHPPLJ    SEO   Opera   M   53  2.621474e+09      1   \n3  ATGTXKYKUDUQN    SEO  Safari   M   41  3.840542e+09      0   \n4  NAUITBZFJKHWW    Ads  Safari   M   45  4.155831e+08      0   \n\n   lower_bound_ip_address  upper_bound_ip_address        country  \n0            7.298089e+08            7.340032e+08          Japan  \n1            3.355443e+08            3.523215e+08  United States  \n2            2.621440e+09            2.621506e+09  United States  \n3                     NaN                     NaN           None  \n4            4.154982e+08            4.156293e+08  United States  ",
      "text/html": "<div>\n<style scoped>\n    .dataframe tbody tr th:only-of-type {\n        vertical-align: middle;\n    }\n\n    .dataframe tbody tr th {\n        vertical-align: top;\n    }\n\n    .dataframe thead th {\n        text-align: right;\n    }\n</style>\n<table border=\"1\" class=\"dataframe\">\n  <thead>\n    <tr style=\"text-align: right;\">\n      <th></th>\n      <th>user_id</th>\n      <th>signup_time</th>\n      <th>purchase_time</th>\n      <th>purchase_value</th>\n      <th>device_id</th>\n      <th>source</th>\n      <th>browser</th>\n      <th>sex</th>\n      <th>age</th>\n      <th>ip_address</th>\n      <th>class</th>\n      <th>lower_bound_ip_address</th>\n      <th>upper_bound_ip_address</th>\n      <th>country</th>\n    </tr>\n  </thead>\n  <tbody>\n    <tr>\n      <th>0</th>\n      <td>22058</td>\n      <td>2015-02-24 22:55:49</td>\n      <td>2015-04-18 02:47:11</td>\n      <td>34</td>\n      <td>QVPSPJUOCKZAR</td>\n      <td>SEO</td>\n      <td>Chrome</td>\n      <td>M</td>\n      <td>39</td>\n      <td>7.327584e+08</td>\n      <td>0</td>\n      <td>7.298089e+08</td>\n      <td>7.340032e+08</td>\n      <td>Japan</td>\n    </tr>\n    <tr>\n      <th>1</th>\n      <td>333320</td>\n      <td>2015-06-07 20:39:50</td>\n      <td>2015-06-08 01:38:54</td>\n      <td>16</td>\n      <td>EOGFQPIZPYXFZ</td>\n      <td>Ads</td>\n      <td>Chrome</td>\n      <td>F</td>\n      <td>53</td>\n      <td>3.503114e+08</td>\n      <td>0</td>\n      <td>3.355443e+08</td>\n      <td>3.523215e+08</td>\n      <td>United States</td>\n    </tr>\n    <tr>\n      <th>2</th>\n      <td>1359</td>\n      <td>2015-01-01 18:52:44</td>\n      <td>2015-01-01 18:52:45</td>\n      <td>15</td>\n      <td>YSSKYOSJHPPLJ</td>\n      <td>SEO</td>\n      <td>Opera</td>\n      <td>M</td>\n      <td>53</td>\n      <td>2.621474e+09</td>\n      <td>1</td>\n      <td>2.621440e+09</td>\n      <td>2.621506e+09</td>\n      <td>United States</td>\n    </tr>\n    <tr>\n      <th>3</th>\n      <td>150084</td>\n      <td>2015-04-28 21:13:25</td>\n      <td>2015-05-04 13:54:50</td>\n      <td>44</td>\n      <td>ATGTXKYKUDUQN</td>\n      <td>SEO</td>\n      <td>Safari</td>\n      <td>M</td>\n      <td>41</td>\n      <td>3.840542e+09</td>\n      <td>0</td>\n      <td>NaN</td>\n      <td>NaN</td>\n      <td>None</td>\n    </tr>\n    <tr>\n      <th>4</th>\n      <td>221365</td>\n      <td>2015-07-21 07:09:52</td>\n      <td>2015-09-09 18:40:53</td>\n      <td>39</td>\n      <td>NAUITBZFJKHWW</td>\n      <td>Ads</td>\n      <td>Safari</td>\n      <td>M</td>\n      <td>45</td>\n      <td>4.155831e+08</td>\n      <td>0</td>\n      <td>4.154982e+08</td>\n      <td>4.156293e+08</td>\n      <td>United States</td>\n    </tr>\n  </tbody>\n</table>\n</div>"
     },
     "execution_count": 162,
     "metadata": {},
     "output_type": "execute_result"
    }
   ],
   "source": [
    "fraud_join_data.head()"
   ],
   "metadata": {
    "collapsed": false,
    "pycharm": {
     "name": "#%%\n"
    }
   }
  },
  {
   "cell_type": "code",
   "execution_count": 163,
   "outputs": [],
   "source": [
    "#transform to datetime type\n",
    "fraud_join_data['signup_time'] = pd.to_datetime(fraud_join_data.iloc[:, 1])\n",
    "fraud_join_data['purchase_time'] = pd.to_datetime(fraud_join_data.iloc[:, 2])"
   ],
   "metadata": {
    "collapsed": false,
    "pycharm": {
     "name": "#%%\n"
    }
   }
  },
  {
   "cell_type": "code",
   "execution_count": 164,
   "outputs": [
    {
     "name": "stdout",
     "output_type": "stream",
     "text": [
      "<class 'pandas.core.frame.DataFrame'>\n",
      "RangeIndex: 151112 entries, 0 to 151111\n",
      "Data columns (total 14 columns):\n",
      " #   Column                  Non-Null Count   Dtype         \n",
      "---  ------                  --------------   -----         \n",
      " 0   user_id                 151112 non-null  int64         \n",
      " 1   signup_time             151112 non-null  datetime64[ns]\n",
      " 2   purchase_time           151112 non-null  datetime64[ns]\n",
      " 3   purchase_value          151112 non-null  int64         \n",
      " 4   device_id               151112 non-null  object        \n",
      " 5   source                  151112 non-null  object        \n",
      " 6   browser                 151112 non-null  object        \n",
      " 7   sex                     151112 non-null  object        \n",
      " 8   age                     151112 non-null  int64         \n",
      " 9   ip_address              151112 non-null  float64       \n",
      " 10  class                   151112 non-null  int64         \n",
      " 11  lower_bound_ip_address  129146 non-null  float64       \n",
      " 12  upper_bound_ip_address  129146 non-null  float64       \n",
      " 13  country                 129146 non-null  object        \n",
      "dtypes: datetime64[ns](2), float64(3), int64(4), object(5)\n",
      "memory usage: 16.1+ MB\n"
     ]
    }
   ],
   "source": [
    "fraud_join_data.info()"
   ],
   "metadata": {
    "collapsed": false,
    "pycharm": {
     "name": "#%%\n"
    }
   }
  },
  {
   "cell_type": "code",
   "execution_count": 165,
   "outputs": [
    {
     "data": {
      "text/plain": "country\nUnited States        58049\nChina                12038\nJapan                 7306\nUnited Kingdom        4490\nKorea Republic of     4162\n                     ...  \nSouth Sudan              1\nGambia                   1\nGuadeloupe               1\nSaint Martin             1\nDominica                 1\nName: user_id, Length: 181, dtype: int64"
     },
     "execution_count": 165,
     "metadata": {},
     "output_type": "execute_result"
    }
   ],
   "source": [
    "fraud_join_data_country = fraud_join_data.groupby('country').count()\n",
    "fraud_join_data_country_count = fraud_join_data_country['user_id']\n",
    "fraud_join_data_country_count.sort_values(ascending = False)"
   ],
   "metadata": {
    "collapsed": false,
    "pycharm": {
     "name": "#%%\n"
    }
   }
  },
  {
   "cell_type": "code",
   "execution_count": 166,
   "outputs": [
    {
     "data": {
      "text/plain": "<AxesSubplot:ylabel='user_id'>"
     },
     "execution_count": 166,
     "metadata": {},
     "output_type": "execute_result"
    },
    {
     "data": {
      "text/plain": "<Figure size 432x288 with 1 Axes>",
      "image/png": "[encoded data removed]"
     },
     "metadata": {},
     "output_type": "display_data"
    }
   ],
   "source": [
    "# from the pie plot, we can find USA, China and Japan have more proportion of transaction\n",
    "fraud_join_data_country_count.plot.pie()"
   ],
   "metadata": {
    "collapsed": false,
    "pycharm": {
     "name": "#%%\n"
    }
   }
  },
  {
   "cell_type": "code",
   "execution_count": 204,
   "outputs": [
    {
     "data": {
      "text/plain": "             country   user_id\n0      United States  0.449484\n1              China  0.542696\n2              Japan  0.599267\n3     United Kingdom  0.634034\n4  Korea Republic of  0.666261",
      "text/html": "<div>\n<style scoped>\n    .dataframe tbody tr th:only-of-type {\n        vertical-align: middle;\n    }\n\n    .dataframe tbody tr th {\n        vertical-align: top;\n    }\n\n    .dataframe thead th {\n        text-align: right;\n    }\n</style>\n<table border=\"1\" class=\"dataframe\">\n  <thead>\n    <tr style=\"text-align: right;\">\n      <th></th>\n      <th>country</th>\n      <th>user_id</th>\n    </tr>\n  </thead>\n  <tbody>\n    <tr>\n      <th>0</th>\n      <td>United States</td>\n      <td>0.449484</td>\n    </tr>\n    <tr>\n      <th>1</th>\n      <td>China</td>\n      <td>0.542696</td>\n    </tr>\n    <tr>\n      <th>2</th>\n      <td>Japan</td>\n      <td>0.599267</td>\n    </tr>\n    <tr>\n      <th>3</th>\n      <td>United Kingdom</td>\n      <td>0.634034</td>\n    </tr>\n    <tr>\n      <th>4</th>\n      <td>Korea Republic of</td>\n      <td>0.666261</td>\n    </tr>\n  </tbody>\n</table>\n</div>"
     },
     "execution_count": 204,
     "metadata": {},
     "output_type": "execute_result"
    }
   ],
   "source": [
    "# calculate the proportion\n",
    "country_proportion = fraud_join_data_country['user_id']/fraud_join_data_country['user_id'].sum()\n",
    "country_proportion.sort_values(ascending = False, inplace= True)\n",
    "country_proportion_cum = country_proportion.cumsum()\n",
    "country_proportion_cum = country_proportion_cum.reset_index()\n",
    "country_proportion_cum.head()"
   ],
   "metadata": {
    "collapsed": false,
    "pycharm": {
     "name": "#%%\n"
    }
   }
  },
  {
   "cell_type": "code",
   "execution_count": 212,
   "outputs": [
    {
     "data": {
      "text/plain": "          country   user_id\n39    New Zealand  0.952023\n40         Israel  0.954129\n41   Saudi Arabia  0.956174\n42      Venezuela  0.958117\n43        Ireland  0.959976\n..            ...       ...\n176   South Sudan  0.999969\n177        Gambia  0.999977\n178    Guadeloupe  0.999985\n179  Saint Martin  0.999992\n180      Dominica  1.000000\n\n[142 rows x 2 columns]",
      "text/html": "<div>\n<style scoped>\n    .dataframe tbody tr th:only-of-type {\n        vertical-align: middle;\n    }\n\n    .dataframe tbody tr th {\n        vertical-align: top;\n    }\n\n    .dataframe thead th {\n        text-align: right;\n    }\n</style>\n<table border=\"1\" class=\"dataframe\">\n  <thead>\n    <tr style=\"text-align: right;\">\n      <th></th>\n      <th>country</th>\n      <th>user_id</th>\n    </tr>\n  </thead>\n  <tbody>\n    <tr>\n      <th>39</th>\n      <td>New Zealand</td>\n      <td>0.952023</td>\n    </tr>\n    <tr>\n      <th>40</th>\n      <td>Israel</td>\n      <td>0.954129</td>\n    </tr>\n    <tr>\n      <th>41</th>\n      <td>Saudi Arabia</td>\n      <td>0.956174</td>\n    </tr>\n    <tr>\n      <th>42</th>\n      <td>Venezuela</td>\n      <td>0.958117</td>\n    </tr>\n    <tr>\n      <th>43</th>\n      <td>Ireland</td>\n      <td>0.959976</td>\n    </tr>\n    <tr>\n      <th>...</th>\n      <td>...</td>\n      <td>...</td>\n    </tr>\n    <tr>\n      <th>176</th>\n      <td>South Sudan</td>\n      <td>0.999969</td>\n    </tr>\n    <tr>\n      <th>177</th>\n      <td>Gambia</td>\n      <td>0.999977</td>\n    </tr>\n    <tr>\n      <th>178</th>\n      <td>Guadeloupe</td>\n      <td>0.999985</td>\n    </tr>\n    <tr>\n      <th>179</th>\n      <td>Saint Martin</td>\n      <td>0.999992</td>\n    </tr>\n    <tr>\n      <th>180</th>\n      <td>Dominica</td>\n      <td>1.000000</td>\n    </tr>\n  </tbody>\n</table>\n<p>142 rows × 2 columns</p>\n</div>"
     },
     "execution_count": 212,
     "metadata": {},
     "output_type": "execute_result"
    }
   ],
   "source": [
    "country_proportion_cum[country_proportion_cum['user_id']>=0.95]"
   ],
   "metadata": {
    "collapsed": false,
    "pycharm": {
     "name": "#%%\n"
    }
   }
  },
  {
   "cell_type": "markdown",
   "source": [
    "Before jumping into building a model, think about whether you can create new powerful variables. This is\n",
    "called feature engineering and it is the most important step in machine learning. However, feature\n",
    "engineering is quite time consuming.\n",
    "\n",
    "A few obvious variables that can be created here could be:\n",
    "\n",
    "* Time difference between sign-up time and purchase time\n",
    "* If the device id is unique or certain users are sharing the same device (many different user ids using\n",
    "the same device could be an indicator of fake accounts)\n",
    "* Same for the ip address. Many different users having the same ip address could be an indicator of fake accounts\n",
    "* Usual week of the year and day of the week from time variables"
   ],
   "metadata": {
    "collapsed": false,
    "pycharm": {
     "name": "#%% md\n"
    }
   }
  },
  {
   "cell_type": "code",
   "execution_count": 168,
   "outputs": [],
   "source": [
    "#calculate the time difference between the purchase and signup\n",
    "fraud_join_data['time_difference'] = fraud_join_data['purchase_time'] - fraud_join_data['signup_time']"
   ],
   "metadata": {
    "collapsed": false,
    "pycharm": {
     "name": "#%%\n"
    }
   }
  },
  {
   "cell_type": "code",
   "execution_count": 169,
   "outputs": [],
   "source": [
    "fraud_join_data['time_difference'] = fraud_join_data.iloc[:,14].dt.total_seconds()"
   ],
   "metadata": {
    "collapsed": false,
    "pycharm": {
     "name": "#%%\n"
    }
   }
  },
  {
   "cell_type": "code",
   "execution_count": 170,
   "outputs": [
    {
     "data": {
      "text/plain": "               user_id  signup_time  purchase_time  purchase_value  source  \\\ndevice_id                                                                    \nAAAXXOZJRZRAO       11           11             11              11      11   \nAANYBGQSWHRTK        8            8              8               8       8   \nADEDUDCYQMYTI       14           14             14              14      14   \nAENUQLGTUHYMS        7            7              7               7       7   \nAIGPGDVRDKOKT       12           12             12              12      12   \n...                ...          ...            ...             ...     ...   \nZYHVSPGHWACPO        6            6              6               6       6   \nZYZQZXBXADPST       16           16             16              16      16   \nZZCAWCKYVMWNH        9            9              9               9       9   \nZZFFPOVMCQVCG        7            7              7               7       7   \nZZQPVRBHRMVYD       12           12             12              12      12   \n\n               browser  sex  age  ip_address  class  lower_bound_ip_address  \\\ndevice_id                                                                     \nAAAXXOZJRZRAO       11   11   11          11     11                      11   \nAANYBGQSWHRTK        8    8    8           8      8                       8   \nADEDUDCYQMYTI       14   14   14          14     14                      14   \nAENUQLGTUHYMS        7    7    7           7      7                       0   \nAIGPGDVRDKOKT       12   12   12          12     12                      12   \n...                ...  ...  ...         ...    ...                     ...   \nZYHVSPGHWACPO        6    6    6           6      6                       6   \nZYZQZXBXADPST       16   16   16          16     16                      16   \nZZCAWCKYVMWNH        9    9    9           9      9                       9   \nZZFFPOVMCQVCG        7    7    7           7      7                       7   \nZZQPVRBHRMVYD       12   12   12          12     12                      12   \n\n               upper_bound_ip_address  country  time_difference  \ndevice_id                                                        \nAAAXXOZJRZRAO                      11       11               11  \nAANYBGQSWHRTK                       8        8                8  \nADEDUDCYQMYTI                      14       14               14  \nAENUQLGTUHYMS                       0        0                7  \nAIGPGDVRDKOKT                      12       12               12  \n...                               ...      ...              ...  \nZYHVSPGHWACPO                       6        6                6  \nZYZQZXBXADPST                      16       16               16  \nZZCAWCKYVMWNH                       9        9                9  \nZZFFPOVMCQVCG                       7        7                7  \nZZQPVRBHRMVYD                      12       12               12  \n\n[848 rows x 14 columns]",
      "text/html": "<div>\n<style scoped>\n    .dataframe tbody tr th:only-of-type {\n        vertical-align: middle;\n    }\n\n    .dataframe tbody tr th {\n        vertical-align: top;\n    }\n\n    .dataframe thead th {\n        text-align: right;\n    }\n</style>\n<table border=\"1\" class=\"dataframe\">\n  <thead>\n    <tr style=\"text-align: right;\">\n      <th></th>\n      <th>user_id</th>\n      <th>signup_time</th>\n      <th>purchase_time</th>\n      <th>purchase_value</th>\n      <th>source</th>\n      <th>browser</th>\n      <th>sex</th>\n      <th>age</th>\n      <th>ip_address</th>\n      <th>class</th>\n      <th>lower_bound_ip_address</th>\n      <th>upper_bound_ip_address</th>\n      <th>country</th>\n      <th>time_difference</th>\n    </tr>\n    <tr>\n      <th>device_id</th>\n      <th></th>\n      <th></th>\n      <th></th>\n      <th></th>\n      <th></th>\n      <th></th>\n      <th></th>\n      <th></th>\n      <th></th>\n      <th></th>\n      <th></th>\n      <th></th>\n      <th></th>\n      <th></th>\n    </tr>\n  </thead>\n  <tbody>\n    <tr>\n      <th>AAAXXOZJRZRAO</th>\n      <td>11</td>\n      <td>11</td>\n      <td>11</td>\n      <td>11</td>\n      <td>11</td>\n      <td>11</td>\n      <td>11</td>\n      <td>11</td>\n      <td>11</td>\n      <td>11</td>\n      <td>11</td>\n      <td>11</td>\n      <td>11</td>\n      <td>11</td>\n    </tr>\n    <tr>\n      <th>AANYBGQSWHRTK</th>\n      <td>8</td>\n      <td>8</td>\n      <td>8</td>\n      <td>8</td>\n      <td>8</td>\n      <td>8</td>\n      <td>8</td>\n      <td>8</td>\n      <td>8</td>\n      <td>8</td>\n      <td>8</td>\n      <td>8</td>\n      <td>8</td>\n      <td>8</td>\n    </tr>\n    <tr>\n      <th>ADEDUDCYQMYTI</th>\n      <td>14</td>\n      <td>14</td>\n      <td>14</td>\n      <td>14</td>\n      <td>14</td>\n      <td>14</td>\n      <td>14</td>\n      <td>14</td>\n      <td>14</td>\n      <td>14</td>\n      <td>14</td>\n      <td>14</td>\n      <td>14</td>\n      <td>14</td>\n    </tr>\n    <tr>\n      <th>AENUQLGTUHYMS</th>\n      <td>7</td>\n      <td>7</td>\n      <td>7</td>\n      <td>7</td>\n      <td>7</td>\n      <td>7</td>\n      <td>7</td>\n      <td>7</td>\n      <td>7</td>\n      <td>7</td>\n      <td>0</td>\n      <td>0</td>\n      <td>0</td>\n      <td>7</td>\n    </tr>\n    <tr>\n      <th>AIGPGDVRDKOKT</th>\n      <td>12</td>\n      <td>12</td>\n      <td>12</td>\n      <td>12</td>\n      <td>12</td>\n      <td>12</td>\n      <td>12</td>\n      <td>12</td>\n      <td>12</td>\n      <td>12</td>\n      <td>12</td>\n      <td>12</td>\n      <td>12</td>\n      <td>12</td>\n    </tr>\n    <tr>\n      <th>...</th>\n      <td>...</td>\n      <td>...</td>\n      <td>...</td>\n      <td>...</td>\n      <td>...</td>\n      <td>...</td>\n      <td>...</td>\n      <td>...</td>\n      <td>...</td>\n      <td>...</td>\n      <td>...</td>\n      <td>...</td>\n      <td>...</td>\n      <td>...</td>\n    </tr>\n    <tr>\n      <th>ZYHVSPGHWACPO</th>\n      <td>6</td>\n      <td>6</td>\n      <td>6</td>\n      <td>6</td>\n      <td>6</td>\n      <td>6</td>\n      <td>6</td>\n      <td>6</td>\n      <td>6</td>\n      <td>6</td>\n      <td>6</td>\n      <td>6</td>\n      <td>6</td>\n      <td>6</td>\n    </tr>\n    <tr>\n      <th>ZYZQZXBXADPST</th>\n      <td>16</td>\n      <td>16</td>\n      <td>16</td>\n      <td>16</td>\n      <td>16</td>\n      <td>16</td>\n      <td>16</td>\n      <td>16</td>\n      <td>16</td>\n      <td>16</td>\n      <td>16</td>\n      <td>16</td>\n      <td>16</td>\n      <td>16</td>\n    </tr>\n    <tr>\n      <th>ZZCAWCKYVMWNH</th>\n      <td>9</td>\n      <td>9</td>\n      <td>9</td>\n      <td>9</td>\n      <td>9</td>\n      <td>9</td>\n      <td>9</td>\n      <td>9</td>\n      <td>9</td>\n      <td>9</td>\n      <td>9</td>\n      <td>9</td>\n      <td>9</td>\n      <td>9</td>\n    </tr>\n    <tr>\n      <th>ZZFFPOVMCQVCG</th>\n      <td>7</td>\n      <td>7</td>\n      <td>7</td>\n      <td>7</td>\n      <td>7</td>\n      <td>7</td>\n      <td>7</td>\n      <td>7</td>\n      <td>7</td>\n      <td>7</td>\n      <td>7</td>\n      <td>7</td>\n      <td>7</td>\n      <td>7</td>\n    </tr>\n    <tr>\n      <th>ZZQPVRBHRMVYD</th>\n      <td>12</td>\n      <td>12</td>\n      <td>12</td>\n      <td>12</td>\n      <td>12</td>\n      <td>12</td>\n      <td>12</td>\n      <td>12</td>\n      <td>12</td>\n      <td>12</td>\n      <td>12</td>\n      <td>12</td>\n      <td>12</td>\n      <td>12</td>\n    </tr>\n  </tbody>\n</table>\n<p>848 rows × 14 columns</p>\n</div>"
     },
     "execution_count": 170,
     "metadata": {},
     "output_type": "execute_result"
    }
   ],
   "source": [
    "#check for each device id how many different user had it\n",
    "device_count = fraud_join_data.groupby('device_id').count()\n",
    "device_count[device_count['user_id']>2]"
   ],
   "metadata": {
    "collapsed": false,
    "pycharm": {
     "name": "#%%\n"
    }
   }
  },
  {
   "cell_type": "code",
   "execution_count": 171,
   "outputs": [
    {
     "data": {
      "text/plain": "              user_id  signup_time  purchase_time  purchase_value  device_id  \\\nip_address                                                                     \n2.278096e+06       16           16             16              16         16   \n6.150367e+06        9            9              9               9          9   \n1.666923e+07       11           11             11              11         11   \n1.819146e+07        6            6              6               6          6   \n2.584822e+07        7            7              7               7          7   \n...               ...          ...            ...             ...        ...   \n4.262695e+09       13           13             13              13         13   \n4.275223e+09       11           11             11              11         11   \n4.279796e+09       12           12             12              12         12   \n4.281743e+09        7            7              7               7          7   \n4.292714e+09        6            6              6               6          6   \n\n              source  browser  sex  age  class  lower_bound_ip_address  \\\nip_address                                                               \n2.278096e+06      16       16   16   16     16                       0   \n6.150367e+06       9        9    9    9      9                       0   \n1.666923e+07      11       11   11   11     11                       0   \n1.819146e+07       6        6    6    6      6                       6   \n2.584822e+07       7        7    7    7      7                       7   \n...              ...      ...  ...  ...    ...                     ...   \n4.262695e+09      13       13   13   13     13                       0   \n4.275223e+09      11       11   11   11     11                       0   \n4.279796e+09      12       12   12   12     12                       0   \n4.281743e+09       7        7    7    7      7                       0   \n4.292714e+09       6        6    6    6      6                       0   \n\n              upper_bound_ip_address  country  time_difference  \nip_address                                                      \n2.278096e+06                       0        0               16  \n6.150367e+06                       0        0                9  \n1.666923e+07                       0        0               11  \n1.819146e+07                       6        6                6  \n2.584822e+07                       7        7                7  \n...                              ...      ...              ...  \n4.262695e+09                       0        0               13  \n4.275223e+09                       0        0               11  \n4.279796e+09                       0        0               12  \n4.281743e+09                       0        0                7  \n4.292714e+09                       0        0                6  \n\n[759 rows x 14 columns]",
      "text/html": "<div>\n<style scoped>\n    .dataframe tbody tr th:only-of-type {\n        vertical-align: middle;\n    }\n\n    .dataframe tbody tr th {\n        vertical-align: top;\n    }\n\n    .dataframe thead th {\n        text-align: right;\n    }\n</style>\n<table border=\"1\" class=\"dataframe\">\n  <thead>\n    <tr style=\"text-align: right;\">\n      <th></th>\n      <th>user_id</th>\n      <th>signup_time</th>\n      <th>purchase_time</th>\n      <th>purchase_value</th>\n      <th>device_id</th>\n      <th>source</th>\n      <th>browser</th>\n      <th>sex</th>\n      <th>age</th>\n      <th>class</th>\n      <th>lower_bound_ip_address</th>\n      <th>upper_bound_ip_address</th>\n      <th>country</th>\n      <th>time_difference</th>\n    </tr>\n    <tr>\n      <th>ip_address</th>\n      <th></th>\n      <th></th>\n      <th></th>\n      <th></th>\n      <th></th>\n      <th></th>\n      <th></th>\n      <th></th>\n      <th></th>\n      <th></th>\n      <th></th>\n      <th></th>\n      <th></th>\n      <th></th>\n    </tr>\n  </thead>\n  <tbody>\n    <tr>\n      <th>2.278096e+06</th>\n      <td>16</td>\n      <td>16</td>\n      <td>16</td>\n      <td>16</td>\n      <td>16</td>\n      <td>16</td>\n      <td>16</td>\n      <td>16</td>\n      <td>16</td>\n      <td>16</td>\n      <td>0</td>\n      <td>0</td>\n      <td>0</td>\n      <td>16</td>\n    </tr>\n    <tr>\n      <th>6.150367e+06</th>\n      <td>9</td>\n      <td>9</td>\n      <td>9</td>\n      <td>9</td>\n      <td>9</td>\n      <td>9</td>\n      <td>9</td>\n      <td>9</td>\n      <td>9</td>\n      <td>9</td>\n      <td>0</td>\n      <td>0</td>\n      <td>0</td>\n      <td>9</td>\n    </tr>\n    <tr>\n      <th>1.666923e+07</th>\n      <td>11</td>\n      <td>11</td>\n      <td>11</td>\n      <td>11</td>\n      <td>11</td>\n      <td>11</td>\n      <td>11</td>\n      <td>11</td>\n      <td>11</td>\n      <td>11</td>\n      <td>0</td>\n      <td>0</td>\n      <td>0</td>\n      <td>11</td>\n    </tr>\n    <tr>\n      <th>1.819146e+07</th>\n      <td>6</td>\n      <td>6</td>\n      <td>6</td>\n      <td>6</td>\n      <td>6</td>\n      <td>6</td>\n      <td>6</td>\n      <td>6</td>\n      <td>6</td>\n      <td>6</td>\n      <td>6</td>\n      <td>6</td>\n      <td>6</td>\n      <td>6</td>\n    </tr>\n    <tr>\n      <th>2.584822e+07</th>\n      <td>7</td>\n      <td>7</td>\n      <td>7</td>\n      <td>7</td>\n      <td>7</td>\n      <td>7</td>\n      <td>7</td>\n      <td>7</td>\n      <td>7</td>\n      <td>7</td>\n      <td>7</td>\n      <td>7</td>\n      <td>7</td>\n      <td>7</td>\n    </tr>\n    <tr>\n      <th>...</th>\n      <td>...</td>\n      <td>...</td>\n      <td>...</td>\n      <td>...</td>\n      <td>...</td>\n      <td>...</td>\n      <td>...</td>\n      <td>...</td>\n      <td>...</td>\n      <td>...</td>\n      <td>...</td>\n      <td>...</td>\n      <td>...</td>\n      <td>...</td>\n    </tr>\n    <tr>\n      <th>4.262695e+09</th>\n      <td>13</td>\n      <td>13</td>\n      <td>13</td>\n      <td>13</td>\n      <td>13</td>\n      <td>13</td>\n      <td>13</td>\n      <td>13</td>\n      <td>13</td>\n      <td>13</td>\n      <td>0</td>\n      <td>0</td>\n      <td>0</td>\n      <td>13</td>\n    </tr>\n    <tr>\n      <th>4.275223e+09</th>\n      <td>11</td>\n      <td>11</td>\n      <td>11</td>\n      <td>11</td>\n      <td>11</td>\n      <td>11</td>\n      <td>11</td>\n      <td>11</td>\n      <td>11</td>\n      <td>11</td>\n      <td>0</td>\n      <td>0</td>\n      <td>0</td>\n      <td>11</td>\n    </tr>\n    <tr>\n      <th>4.279796e+09</th>\n      <td>12</td>\n      <td>12</td>\n      <td>12</td>\n      <td>12</td>\n      <td>12</td>\n      <td>12</td>\n      <td>12</td>\n      <td>12</td>\n      <td>12</td>\n      <td>12</td>\n      <td>0</td>\n      <td>0</td>\n      <td>0</td>\n      <td>12</td>\n    </tr>\n    <tr>\n      <th>4.281743e+09</th>\n      <td>7</td>\n      <td>7</td>\n      <td>7</td>\n      <td>7</td>\n      <td>7</td>\n      <td>7</td>\n      <td>7</td>\n      <td>7</td>\n      <td>7</td>\n      <td>7</td>\n      <td>0</td>\n      <td>0</td>\n      <td>0</td>\n      <td>7</td>\n    </tr>\n    <tr>\n      <th>4.292714e+09</th>\n      <td>6</td>\n      <td>6</td>\n      <td>6</td>\n      <td>6</td>\n      <td>6</td>\n      <td>6</td>\n      <td>6</td>\n      <td>6</td>\n      <td>6</td>\n      <td>6</td>\n      <td>0</td>\n      <td>0</td>\n      <td>0</td>\n      <td>6</td>\n    </tr>\n  </tbody>\n</table>\n<p>759 rows × 14 columns</p>\n</div>"
     },
     "execution_count": 171,
     "metadata": {},
     "output_type": "execute_result"
    }
   ],
   "source": [
    "#check for each ip address how many different users had it\n",
    "ip_account = fraud_join_data.groupby('ip_address').count()\n",
    "ip_account[ip_account['user_id']>2]\n"
   ],
   "metadata": {
    "collapsed": false,
    "pycharm": {
     "name": "#%%\n"
    }
   }
  },
  {
   "cell_type": "code",
   "execution_count": 172,
   "outputs": [
    {
     "name": "stderr",
     "output_type": "stream",
     "text": [
      "D:\\temp\\ipykernel_147476\\1438253378.py:6: FutureWarning: Series.dt.weekofyear and Series.dt.week have been deprecated. Please use Series.dt.isocalendar().week instead.\n",
      "  fraud_join_data['signup_time_woy'] = fraud_join_data['signup_time'].dt.weekofyear\n",
      "D:\\temp\\ipykernel_147476\\1438253378.py:7: FutureWarning: Series.dt.weekofyear and Series.dt.week have been deprecated. Please use Series.dt.isocalendar().week instead.\n",
      "  fraud_join_data['purchase_time_woy'] = fraud_join_data['purchase_time'].dt.weekofyear\n"
     ]
    }
   ],
   "source": [
    "# day of the week\n",
    "fraud_join_data['signup_time_dow'] = fraud_join_data['signup_time'].dt.dayofweek\n",
    "fraud_join_data['purchase_time_dow'] = fraud_join_data['purchase_time'].dt.dayofweek\n",
    "\n",
    "# week of year\n",
    "fraud_join_data['signup_time_woy'] = fraud_join_data['signup_time'].dt.weekofyear\n",
    "fraud_join_data['purchase_time_woy'] = fraud_join_data['purchase_time'].dt.weekofyear"
   ],
   "metadata": {
    "collapsed": false,
    "pycharm": {
     "name": "#%%\n"
    }
   }
  },
  {
   "cell_type": "code",
   "execution_count": 173,
   "outputs": [
    {
     "data": {
      "text/plain": "   user_id         signup_time       purchase_time  purchase_value  \\\n0    22058 2015-02-24 22:55:49 2015-04-18 02:47:11              34   \n1   333320 2015-06-07 20:39:50 2015-06-08 01:38:54              16   \n2     1359 2015-01-01 18:52:44 2015-01-01 18:52:45              15   \n3   150084 2015-04-28 21:13:25 2015-05-04 13:54:50              44   \n4   221365 2015-07-21 07:09:52 2015-09-09 18:40:53              39   \n\n       device_id source browser sex  age    ip_address  class  \\\n0  QVPSPJUOCKZAR    SEO  Chrome   M   39  7.327584e+08      0   \n1  EOGFQPIZPYXFZ    Ads  Chrome   F   53  3.503114e+08      0   \n2  YSSKYOSJHPPLJ    SEO   Opera   M   53  2.621474e+09      1   \n3  ATGTXKYKUDUQN    SEO  Safari   M   41  3.840542e+09      0   \n4  NAUITBZFJKHWW    Ads  Safari   M   45  4.155831e+08      0   \n\n   lower_bound_ip_address  upper_bound_ip_address        country  \\\n0            7.298089e+08            7.340032e+08          Japan   \n1            3.355443e+08            3.523215e+08  United States   \n2            2.621440e+09            2.621506e+09  United States   \n3                     NaN                     NaN           None   \n4            4.154982e+08            4.156293e+08  United States   \n\n   time_difference  signup_time_dow  purchase_time_dow  signup_time_woy  \\\n0        4506682.0                1                  5                9   \n1          17944.0                6                  0               23   \n2              1.0                3                  3                1   \n3         492085.0                1                  0               18   \n4        4361461.0                1                  2               30   \n\n   purchase_time_woy  \n0                 16  \n1                 24  \n2                  1  \n3                 19  \n4                 37  ",
      "text/html": "<div>\n<style scoped>\n    .dataframe tbody tr th:only-of-type {\n        vertical-align: middle;\n    }\n\n    .dataframe tbody tr th {\n        vertical-align: top;\n    }\n\n    .dataframe thead th {\n        text-align: right;\n    }\n</style>\n<table border=\"1\" class=\"dataframe\">\n  <thead>\n    <tr style=\"text-align: right;\">\n      <th></th>\n      <th>user_id</th>\n      <th>signup_time</th>\n      <th>purchase_time</th>\n      <th>purchase_value</th>\n      <th>device_id</th>\n      <th>source</th>\n      <th>browser</th>\n      <th>sex</th>\n      <th>age</th>\n      <th>ip_address</th>\n      <th>class</th>\n      <th>lower_bound_ip_address</th>\n      <th>upper_bound_ip_address</th>\n      <th>country</th>\n      <th>time_difference</th>\n      <th>signup_time_dow</th>\n      <th>purchase_time_dow</th>\n      <th>signup_time_woy</th>\n      <th>purchase_time_woy</th>\n    </tr>\n  </thead>\n  <tbody>\n    <tr>\n      <th>0</th>\n      <td>22058</td>\n      <td>2015-02-24 22:55:49</td>\n      <td>2015-04-18 02:47:11</td>\n      <td>34</td>\n      <td>QVPSPJUOCKZAR</td>\n      <td>SEO</td>\n      <td>Chrome</td>\n      <td>M</td>\n      <td>39</td>\n      <td>7.327584e+08</td>\n      <td>0</td>\n      <td>7.298089e+08</td>\n      <td>7.340032e+08</td>\n      <td>Japan</td>\n      <td>4506682.0</td>\n      <td>1</td>\n      <td>5</td>\n      <td>9</td>\n      <td>16</td>\n    </tr>\n    <tr>\n      <th>1</th>\n      <td>333320</td>\n      <td>2015-06-07 20:39:50</td>\n      <td>2015-06-08 01:38:54</td>\n      <td>16</td>\n      <td>EOGFQPIZPYXFZ</td>\n      <td>Ads</td>\n      <td>Chrome</td>\n      <td>F</td>\n      <td>53</td>\n      <td>3.503114e+08</td>\n      <td>0</td>\n      <td>3.355443e+08</td>\n      <td>3.523215e+08</td>\n      <td>United States</td>\n      <td>17944.0</td>\n      <td>6</td>\n      <td>0</td>\n      <td>23</td>\n      <td>24</td>\n    </tr>\n    <tr>\n      <th>2</th>\n      <td>1359</td>\n      <td>2015-01-01 18:52:44</td>\n      <td>2015-01-01 18:52:45</td>\n      <td>15</td>\n      <td>YSSKYOSJHPPLJ</td>\n      <td>SEO</td>\n      <td>Opera</td>\n      <td>M</td>\n      <td>53</td>\n      <td>2.621474e+09</td>\n      <td>1</td>\n      <td>2.621440e+09</td>\n      <td>2.621506e+09</td>\n      <td>United States</td>\n      <td>1.0</td>\n      <td>3</td>\n      <td>3</td>\n      <td>1</td>\n      <td>1</td>\n    </tr>\n    <tr>\n      <th>3</th>\n      <td>150084</td>\n      <td>2015-04-28 21:13:25</td>\n      <td>2015-05-04 13:54:50</td>\n      <td>44</td>\n      <td>ATGTXKYKUDUQN</td>\n      <td>SEO</td>\n      <td>Safari</td>\n      <td>M</td>\n      <td>41</td>\n      <td>3.840542e+09</td>\n      <td>0</td>\n      <td>NaN</td>\n      <td>NaN</td>\n      <td>None</td>\n      <td>492085.0</td>\n      <td>1</td>\n      <td>0</td>\n      <td>18</td>\n      <td>19</td>\n    </tr>\n    <tr>\n      <th>4</th>\n      <td>221365</td>\n      <td>2015-07-21 07:09:52</td>\n      <td>2015-09-09 18:40:53</td>\n      <td>39</td>\n      <td>NAUITBZFJKHWW</td>\n      <td>Ads</td>\n      <td>Safari</td>\n      <td>M</td>\n      <td>45</td>\n      <td>4.155831e+08</td>\n      <td>0</td>\n      <td>4.154982e+08</td>\n      <td>4.156293e+08</td>\n      <td>United States</td>\n      <td>4361461.0</td>\n      <td>1</td>\n      <td>2</td>\n      <td>30</td>\n      <td>37</td>\n    </tr>\n  </tbody>\n</table>\n</div>"
     },
     "execution_count": 173,
     "metadata": {},
     "output_type": "execute_result"
    }
   ],
   "source": [
    "fraud_join_data.head()"
   ],
   "metadata": {
    "collapsed": false,
    "pycharm": {
     "name": "#%%\n"
    }
   }
  },
  {
   "cell_type": "code",
   "execution_count": 231,
   "outputs": [
    {
     "data": {
      "text/plain": "        user_id         signup_time       purchase_time  purchase_value  \\\n0         22058 2015-02-24 22:55:49 2015-04-18 02:47:11              34   \n1        333320 2015-06-07 20:39:50 2015-06-08 01:38:54              16   \n2          1359 2015-01-01 18:52:44 2015-01-01 18:52:45              15   \n3        150084 2015-04-28 21:13:25 2015-05-04 13:54:50              44   \n4        221365 2015-07-21 07:09:52 2015-09-09 18:40:53              39   \n...         ...                 ...                 ...             ...   \n151107   345170 2015-01-27 03:03:34 2015-03-29 00:30:47              43   \n151108   274471 2015-05-15 17:43:29 2015-05-26 12:24:39              35   \n151109   368416 2015-03-03 23:07:31 2015-05-20 07:07:47              40   \n151110   207709 2015-07-09 20:06:07 2015-09-07 09:34:46              46   \n151111   138208 2015-06-10 07:02:20 2015-07-21 02:03:53              20   \n\n            device_id  source browser sex  age    ip_address  class  \\\n0       QVPSPJUOCKZAR     SEO  Chrome   M   39  7.327584e+08      0   \n1       EOGFQPIZPYXFZ     Ads  Chrome   F   53  3.503114e+08      0   \n2       YSSKYOSJHPPLJ     SEO   Opera   M   53  2.621474e+09      1   \n3       ATGTXKYKUDUQN     SEO  Safari   M   41  3.840542e+09      0   \n4       NAUITBZFJKHWW     Ads  Safari   M   45  4.155831e+08      0   \n...               ...     ...     ...  ..  ...           ...    ...   \n151107  XPSKTWGPWINLR     SEO  Chrome   M   28  3.451155e+09      1   \n151108  LYSFABUCPCGBA     SEO  Safari   M   32  2.439047e+09      0   \n151109  MEQHCSJUBRBFE     SEO      IE   F   26  2.748471e+09      0   \n151110  CMCXFGRHYSTVJ     SEO  Chrome   M   37  3.601175e+09      0   \n151111  ZINIADFCLHYPG  Direct      IE   M   38  4.103825e+09      0   \n\n        lower_bound_ip_address  upper_bound_ip_address        country  \\\n0                 7.298089e+08            7.340032e+08          Japan   \n1                 3.355443e+08            3.523215e+08  United States   \n2                 2.621440e+09            2.621506e+09  United States   \n3                          NaN                     NaN           None   \n4                 4.154982e+08            4.156293e+08  United States   \n...                        ...                     ...            ...   \n151107            3.451126e+09            3.451388e+09  United States   \n151108            2.436039e+09            2.441085e+09    Netherlands   \n151109            2.748449e+09            2.748514e+09          Japan   \n151110            3.590324e+09            3.607101e+09  United States   \n151111                     NaN                     NaN           None   \n\n        time_difference  signup_time_dow  purchase_time_dow  signup_time_woy  \\\n0             4506682.0                1                  5                9   \n1               17944.0                6                  0               23   \n2                   1.0                3                  3                1   \n3              492085.0                1                  0               18   \n4             4361461.0                1                  2               30   \n...                 ...              ...                ...              ...   \n151107        5261233.0                1                  6                5   \n151108         931270.0                4                  1               20   \n151109        6681616.0                1                  2               10   \n151110        5146119.0                3                  0               28   \n151111        3524493.0                2                  1               24   \n\n        purchase_time_woy  \n0                      16  \n1                      24  \n2                       1  \n3                      19  \n4                      37  \n...                   ...  \n151107                 13  \n151108                 22  \n151109                 21  \n151110                 37  \n151111                 30  \n\n[151112 rows x 19 columns]",
      "text/html": "<div>\n<style scoped>\n    .dataframe tbody tr th:only-of-type {\n        vertical-align: middle;\n    }\n\n    .dataframe tbody tr th {\n        vertical-align: top;\n    }\n\n    .dataframe thead th {\n        text-align: right;\n    }\n</style>\n<table border=\"1\" class=\"dataframe\">\n  <thead>\n    <tr style=\"text-align: right;\">\n      <th></th>\n      <th>user_id</th>\n      <th>signup_time</th>\n      <th>purchase_time</th>\n      <th>purchase_value</th>\n      <th>device_id</th>\n      <th>source</th>\n      <th>browser</th>\n      <th>sex</th>\n      <th>age</th>\n      <th>ip_address</th>\n      <th>class</th>\n      <th>lower_bound_ip_address</th>\n      <th>upper_bound_ip_address</th>\n      <th>country</th>\n      <th>time_difference</th>\n      <th>signup_time_dow</th>\n      <th>purchase_time_dow</th>\n      <th>signup_time_woy</th>\n      <th>purchase_time_woy</th>\n    </tr>\n  </thead>\n  <tbody>\n    <tr>\n      <th>0</th>\n      <td>22058</td>\n      <td>2015-02-24 22:55:49</td>\n      <td>2015-04-18 02:47:11</td>\n      <td>34</td>\n      <td>QVPSPJUOCKZAR</td>\n      <td>SEO</td>\n      <td>Chrome</td>\n      <td>M</td>\n      <td>39</td>\n      <td>7.327584e+08</td>\n      <td>0</td>\n      <td>7.298089e+08</td>\n      <td>7.340032e+08</td>\n      <td>Japan</td>\n      <td>4506682.0</td>\n      <td>1</td>\n      <td>5</td>\n      <td>9</td>\n      <td>16</td>\n    </tr>\n    <tr>\n      <th>1</th>\n      <td>333320</td>\n      <td>2015-06-07 20:39:50</td>\n      <td>2015-06-08 01:38:54</td>\n      <td>16</td>\n      <td>EOGFQPIZPYXFZ</td>\n      <td>Ads</td>\n      <td>Chrome</td>\n      <td>F</td>\n      <td>53</td>\n      <td>3.503114e+08</td>\n      <td>0</td>\n      <td>3.355443e+08</td>\n      <td>3.523215e+08</td>\n      <td>United States</td>\n      <td>17944.0</td>\n      <td>6</td>\n      <td>0</td>\n      <td>23</td>\n      <td>24</td>\n    </tr>\n    <tr>\n      <th>2</th>\n      <td>1359</td>\n      <td>2015-01-01 18:52:44</td>\n      <td>2015-01-01 18:52:45</td>\n      <td>15</td>\n      <td>YSSKYOSJHPPLJ</td>\n      <td>SEO</td>\n      <td>Opera</td>\n      <td>M</td>\n      <td>53</td>\n      <td>2.621474e+09</td>\n      <td>1</td>\n      <td>2.621440e+09</td>\n      <td>2.621506e+09</td>\n      <td>United States</td>\n      <td>1.0</td>\n      <td>3</td>\n      <td>3</td>\n      <td>1</td>\n      <td>1</td>\n    </tr>\n    <tr>\n      <th>3</th>\n      <td>150084</td>\n      <td>2015-04-28 21:13:25</td>\n      <td>2015-05-04 13:54:50</td>\n      <td>44</td>\n      <td>ATGTXKYKUDUQN</td>\n      <td>SEO</td>\n      <td>Safari</td>\n      <td>M</td>\n      <td>41</td>\n      <td>3.840542e+09</td>\n      <td>0</td>\n      <td>NaN</td>\n      <td>NaN</td>\n      <td>None</td>\n      <td>492085.0</td>\n      <td>1</td>\n      <td>0</td>\n      <td>18</td>\n      <td>19</td>\n    </tr>\n    <tr>\n      <th>4</th>\n      <td>221365</td>\n      <td>2015-07-21 07:09:52</td>\n      <td>2015-09-09 18:40:53</td>\n      <td>39</td>\n      <td>NAUITBZFJKHWW</td>\n      <td>Ads</td>\n      <td>Safari</td>\n      <td>M</td>\n      <td>45</td>\n      <td>4.155831e+08</td>\n      <td>0</td>\n      <td>4.154982e+08</td>\n      <td>4.156293e+08</td>\n      <td>United States</td>\n      <td>4361461.0</td>\n      <td>1</td>\n      <td>2</td>\n      <td>30</td>\n      <td>37</td>\n    </tr>\n    <tr>\n      <th>...</th>\n      <td>...</td>\n      <td>...</td>\n      <td>...</td>\n      <td>...</td>\n      <td>...</td>\n      <td>...</td>\n      <td>...</td>\n      <td>...</td>\n      <td>...</td>\n      <td>...</td>\n      <td>...</td>\n      <td>...</td>\n      <td>...</td>\n      <td>...</td>\n      <td>...</td>\n      <td>...</td>\n      <td>...</td>\n      <td>...</td>\n      <td>...</td>\n    </tr>\n    <tr>\n      <th>151107</th>\n      <td>345170</td>\n      <td>2015-01-27 03:03:34</td>\n      <td>2015-03-29 00:30:47</td>\n      <td>43</td>\n      <td>XPSKTWGPWINLR</td>\n      <td>SEO</td>\n      <td>Chrome</td>\n      <td>M</td>\n      <td>28</td>\n      <td>3.451155e+09</td>\n      <td>1</td>\n      <td>3.451126e+09</td>\n      <td>3.451388e+09</td>\n      <td>United States</td>\n      <td>5261233.0</td>\n      <td>1</td>\n      <td>6</td>\n      <td>5</td>\n      <td>13</td>\n    </tr>\n    <tr>\n      <th>151108</th>\n      <td>274471</td>\n      <td>2015-05-15 17:43:29</td>\n      <td>2015-05-26 12:24:39</td>\n      <td>35</td>\n      <td>LYSFABUCPCGBA</td>\n      <td>SEO</td>\n      <td>Safari</td>\n      <td>M</td>\n      <td>32</td>\n      <td>2.439047e+09</td>\n      <td>0</td>\n      <td>2.436039e+09</td>\n      <td>2.441085e+09</td>\n      <td>Netherlands</td>\n      <td>931270.0</td>\n      <td>4</td>\n      <td>1</td>\n      <td>20</td>\n      <td>22</td>\n    </tr>\n    <tr>\n      <th>151109</th>\n      <td>368416</td>\n      <td>2015-03-03 23:07:31</td>\n      <td>2015-05-20 07:07:47</td>\n      <td>40</td>\n      <td>MEQHCSJUBRBFE</td>\n      <td>SEO</td>\n      <td>IE</td>\n      <td>F</td>\n      <td>26</td>\n      <td>2.748471e+09</td>\n      <td>0</td>\n      <td>2.748449e+09</td>\n      <td>2.748514e+09</td>\n      <td>Japan</td>\n      <td>6681616.0</td>\n      <td>1</td>\n      <td>2</td>\n      <td>10</td>\n      <td>21</td>\n    </tr>\n    <tr>\n      <th>151110</th>\n      <td>207709</td>\n      <td>2015-07-09 20:06:07</td>\n      <td>2015-09-07 09:34:46</td>\n      <td>46</td>\n      <td>CMCXFGRHYSTVJ</td>\n      <td>SEO</td>\n      <td>Chrome</td>\n      <td>M</td>\n      <td>37</td>\n      <td>3.601175e+09</td>\n      <td>0</td>\n      <td>3.590324e+09</td>\n      <td>3.607101e+09</td>\n      <td>United States</td>\n      <td>5146119.0</td>\n      <td>3</td>\n      <td>0</td>\n      <td>28</td>\n      <td>37</td>\n    </tr>\n    <tr>\n      <th>151111</th>\n      <td>138208</td>\n      <td>2015-06-10 07:02:20</td>\n      <td>2015-07-21 02:03:53</td>\n      <td>20</td>\n      <td>ZINIADFCLHYPG</td>\n      <td>Direct</td>\n      <td>IE</td>\n      <td>M</td>\n      <td>38</td>\n      <td>4.103825e+09</td>\n      <td>0</td>\n      <td>NaN</td>\n      <td>NaN</td>\n      <td>None</td>\n      <td>3524493.0</td>\n      <td>2</td>\n      <td>1</td>\n      <td>24</td>\n      <td>30</td>\n    </tr>\n  </tbody>\n</table>\n<p>151112 rows × 19 columns</p>\n</div>"
     },
     "execution_count": 231,
     "metadata": {},
     "output_type": "execute_result"
    }
   ],
   "source": [
    "# prepare data for model\n",
    "# replace the NA country by \"not found\"\n",
    "fraud_model_data = fraud_join_data\n",
    "fraud_model_data['country'].fillna(value = \"not found\", inplace = True)\n",
    "\n"
   ],
   "metadata": {
    "collapsed": false,
    "pycharm": {
     "name": "#%%\n"
    }
   }
  },
  {
   "cell_type": "code",
   "execution_count": 256,
   "outputs": [
    {
     "ename": "KeyError",
     "evalue": "\"['device_id', 'ip_address', 'lower_bound_ip_address', 'upper_bound_ip_address', 'user_id', 'signup_time', 'purchase_time'] not found in axis\"",
     "output_type": "error",
     "traceback": [
      "\u001B[1;31m---------------------------------------------------------------------------\u001B[0m",
      "\u001B[1;31mKeyError\u001B[0m                                  Traceback (most recent call last)",
      "Input \u001B[1;32mIn [256]\u001B[0m, in \u001B[0;36m<cell line: 2>\u001B[1;34m()\u001B[0m\n\u001B[0;32m      1\u001B[0m \u001B[38;5;66;03m#drop the device id\u001B[39;00m\n\u001B[1;32m----> 2\u001B[0m fraud_model_data \u001B[38;5;241m=\u001B[39m \u001B[43mfraud_model_data\u001B[49m\u001B[38;5;241;43m.\u001B[39;49m\u001B[43mdrop\u001B[49m\u001B[43m(\u001B[49m\u001B[43mcolumns\u001B[49m\u001B[43m \u001B[49m\u001B[38;5;241;43m=\u001B[39;49m\u001B[43m \u001B[49m\u001B[43m[\u001B[49m\u001B[38;5;124;43m'\u001B[39;49m\u001B[38;5;124;43mdevice_id\u001B[39;49m\u001B[38;5;124;43m'\u001B[39;49m\u001B[43m,\u001B[49m\u001B[38;5;124;43m'\u001B[39;49m\u001B[38;5;124;43mip_address\u001B[39;49m\u001B[38;5;124;43m'\u001B[39;49m\u001B[43m,\u001B[49m\u001B[43m \u001B[49m\u001B[38;5;124;43m'\u001B[39;49m\u001B[38;5;124;43mlower_bound_ip_address\u001B[39;49m\u001B[38;5;124;43m'\u001B[39;49m\u001B[43m,\u001B[49m\u001B[43m \u001B[49m\u001B[38;5;124;43m'\u001B[39;49m\u001B[38;5;124;43mupper_bound_ip_address\u001B[39;49m\u001B[38;5;124;43m'\u001B[39;49m\u001B[43m,\u001B[49m\u001B[43m \u001B[49m\u001B[38;5;124;43m'\u001B[39;49m\u001B[38;5;124;43muser_id\u001B[39;49m\u001B[38;5;124;43m'\u001B[39;49m\u001B[43m,\u001B[49m\u001B[43m \u001B[49m\u001B[38;5;124;43m'\u001B[39;49m\u001B[38;5;124;43msignup_time\u001B[39;49m\u001B[38;5;124;43m'\u001B[39;49m\u001B[43m,\u001B[49m\u001B[43m \u001B[49m\u001B[38;5;124;43m'\u001B[39;49m\u001B[38;5;124;43mpurchase_time\u001B[39;49m\u001B[38;5;124;43m'\u001B[39;49m\u001B[43m]\u001B[49m\u001B[43m)\u001B[49m\n",
      "File \u001B[1;32mD:\\Programs\\Python\\Python39\\lib\\site-packages\\pandas\\util\\_decorators.py:311\u001B[0m, in \u001B[0;36mdeprecate_nonkeyword_arguments.<locals>.decorate.<locals>.wrapper\u001B[1;34m(*args, **kwargs)\u001B[0m\n\u001B[0;32m    305\u001B[0m \u001B[38;5;28;01mif\u001B[39;00m \u001B[38;5;28mlen\u001B[39m(args) \u001B[38;5;241m>\u001B[39m num_allow_args:\n\u001B[0;32m    306\u001B[0m     warnings\u001B[38;5;241m.\u001B[39mwarn(\n\u001B[0;32m    307\u001B[0m         msg\u001B[38;5;241m.\u001B[39mformat(arguments\u001B[38;5;241m=\u001B[39marguments),\n\u001B[0;32m    308\u001B[0m         \u001B[38;5;167;01mFutureWarning\u001B[39;00m,\n\u001B[0;32m    309\u001B[0m         stacklevel\u001B[38;5;241m=\u001B[39mstacklevel,\n\u001B[0;32m    310\u001B[0m     )\n\u001B[1;32m--> 311\u001B[0m \u001B[38;5;28;01mreturn\u001B[39;00m func(\u001B[38;5;241m*\u001B[39margs, \u001B[38;5;241m*\u001B[39m\u001B[38;5;241m*\u001B[39mkwargs)\n",
      "File \u001B[1;32mD:\\Programs\\Python\\Python39\\lib\\site-packages\\pandas\\core\\frame.py:4948\u001B[0m, in \u001B[0;36mDataFrame.drop\u001B[1;34m(self, labels, axis, index, columns, level, inplace, errors)\u001B[0m\n\u001B[0;32m   4800\u001B[0m \u001B[38;5;129m@deprecate_nonkeyword_arguments\u001B[39m(version\u001B[38;5;241m=\u001B[39m\u001B[38;5;28;01mNone\u001B[39;00m, allowed_args\u001B[38;5;241m=\u001B[39m[\u001B[38;5;124m\"\u001B[39m\u001B[38;5;124mself\u001B[39m\u001B[38;5;124m\"\u001B[39m, \u001B[38;5;124m\"\u001B[39m\u001B[38;5;124mlabels\u001B[39m\u001B[38;5;124m\"\u001B[39m])\n\u001B[0;32m   4801\u001B[0m \u001B[38;5;28;01mdef\u001B[39;00m \u001B[38;5;21mdrop\u001B[39m(\n\u001B[0;32m   4802\u001B[0m     \u001B[38;5;28mself\u001B[39m,\n\u001B[1;32m   (...)\u001B[0m\n\u001B[0;32m   4809\u001B[0m     errors: \u001B[38;5;28mstr\u001B[39m \u001B[38;5;241m=\u001B[39m \u001B[38;5;124m\"\u001B[39m\u001B[38;5;124mraise\u001B[39m\u001B[38;5;124m\"\u001B[39m,\n\u001B[0;32m   4810\u001B[0m ):\n\u001B[0;32m   4811\u001B[0m     \u001B[38;5;124;03m\"\"\"\u001B[39;00m\n\u001B[0;32m   4812\u001B[0m \u001B[38;5;124;03m    Drop specified labels from rows or columns.\u001B[39;00m\n\u001B[0;32m   4813\u001B[0m \n\u001B[1;32m   (...)\u001B[0m\n\u001B[0;32m   4946\u001B[0m \u001B[38;5;124;03m            weight  1.0     0.8\u001B[39;00m\n\u001B[0;32m   4947\u001B[0m \u001B[38;5;124;03m    \"\"\"\u001B[39;00m\n\u001B[1;32m-> 4948\u001B[0m     \u001B[38;5;28;01mreturn\u001B[39;00m \u001B[38;5;28;43msuper\u001B[39;49m\u001B[43m(\u001B[49m\u001B[43m)\u001B[49m\u001B[38;5;241;43m.\u001B[39;49m\u001B[43mdrop\u001B[49m\u001B[43m(\u001B[49m\n\u001B[0;32m   4949\u001B[0m \u001B[43m        \u001B[49m\u001B[43mlabels\u001B[49m\u001B[38;5;241;43m=\u001B[39;49m\u001B[43mlabels\u001B[49m\u001B[43m,\u001B[49m\n\u001B[0;32m   4950\u001B[0m \u001B[43m        \u001B[49m\u001B[43maxis\u001B[49m\u001B[38;5;241;43m=\u001B[39;49m\u001B[43maxis\u001B[49m\u001B[43m,\u001B[49m\n\u001B[0;32m   4951\u001B[0m \u001B[43m        \u001B[49m\u001B[43mindex\u001B[49m\u001B[38;5;241;43m=\u001B[39;49m\u001B[43mindex\u001B[49m\u001B[43m,\u001B[49m\n\u001B[0;32m   4952\u001B[0m \u001B[43m        \u001B[49m\u001B[43mcolumns\u001B[49m\u001B[38;5;241;43m=\u001B[39;49m\u001B[43mcolumns\u001B[49m\u001B[43m,\u001B[49m\n\u001B[0;32m   4953\u001B[0m \u001B[43m        \u001B[49m\u001B[43mlevel\u001B[49m\u001B[38;5;241;43m=\u001B[39;49m\u001B[43mlevel\u001B[49m\u001B[43m,\u001B[49m\n\u001B[0;32m   4954\u001B[0m \u001B[43m        \u001B[49m\u001B[43minplace\u001B[49m\u001B[38;5;241;43m=\u001B[39;49m\u001B[43minplace\u001B[49m\u001B[43m,\u001B[49m\n\u001B[0;32m   4955\u001B[0m \u001B[43m        \u001B[49m\u001B[43merrors\u001B[49m\u001B[38;5;241;43m=\u001B[39;49m\u001B[43merrors\u001B[49m\u001B[43m,\u001B[49m\n\u001B[0;32m   4956\u001B[0m \u001B[43m    \u001B[49m\u001B[43m)\u001B[49m\n",
      "File \u001B[1;32mD:\\Programs\\Python\\Python39\\lib\\site-packages\\pandas\\core\\generic.py:4279\u001B[0m, in \u001B[0;36mNDFrame.drop\u001B[1;34m(self, labels, axis, index, columns, level, inplace, errors)\u001B[0m\n\u001B[0;32m   4277\u001B[0m \u001B[38;5;28;01mfor\u001B[39;00m axis, labels \u001B[38;5;129;01min\u001B[39;00m axes\u001B[38;5;241m.\u001B[39mitems():\n\u001B[0;32m   4278\u001B[0m     \u001B[38;5;28;01mif\u001B[39;00m labels \u001B[38;5;129;01mis\u001B[39;00m \u001B[38;5;129;01mnot\u001B[39;00m \u001B[38;5;28;01mNone\u001B[39;00m:\n\u001B[1;32m-> 4279\u001B[0m         obj \u001B[38;5;241m=\u001B[39m \u001B[43mobj\u001B[49m\u001B[38;5;241;43m.\u001B[39;49m\u001B[43m_drop_axis\u001B[49m\u001B[43m(\u001B[49m\u001B[43mlabels\u001B[49m\u001B[43m,\u001B[49m\u001B[43m \u001B[49m\u001B[43maxis\u001B[49m\u001B[43m,\u001B[49m\u001B[43m \u001B[49m\u001B[43mlevel\u001B[49m\u001B[38;5;241;43m=\u001B[39;49m\u001B[43mlevel\u001B[49m\u001B[43m,\u001B[49m\u001B[43m \u001B[49m\u001B[43merrors\u001B[49m\u001B[38;5;241;43m=\u001B[39;49m\u001B[43merrors\u001B[49m\u001B[43m)\u001B[49m\n\u001B[0;32m   4281\u001B[0m \u001B[38;5;28;01mif\u001B[39;00m inplace:\n\u001B[0;32m   4282\u001B[0m     \u001B[38;5;28mself\u001B[39m\u001B[38;5;241m.\u001B[39m_update_inplace(obj)\n",
      "File \u001B[1;32mD:\\Programs\\Python\\Python39\\lib\\site-packages\\pandas\\core\\generic.py:4323\u001B[0m, in \u001B[0;36mNDFrame._drop_axis\u001B[1;34m(self, labels, axis, level, errors, consolidate, only_slice)\u001B[0m\n\u001B[0;32m   4321\u001B[0m         new_axis \u001B[38;5;241m=\u001B[39m axis\u001B[38;5;241m.\u001B[39mdrop(labels, level\u001B[38;5;241m=\u001B[39mlevel, errors\u001B[38;5;241m=\u001B[39merrors)\n\u001B[0;32m   4322\u001B[0m     \u001B[38;5;28;01melse\u001B[39;00m:\n\u001B[1;32m-> 4323\u001B[0m         new_axis \u001B[38;5;241m=\u001B[39m \u001B[43maxis\u001B[49m\u001B[38;5;241;43m.\u001B[39;49m\u001B[43mdrop\u001B[49m\u001B[43m(\u001B[49m\u001B[43mlabels\u001B[49m\u001B[43m,\u001B[49m\u001B[43m \u001B[49m\u001B[43merrors\u001B[49m\u001B[38;5;241;43m=\u001B[39;49m\u001B[43merrors\u001B[49m\u001B[43m)\u001B[49m\n\u001B[0;32m   4324\u001B[0m     indexer \u001B[38;5;241m=\u001B[39m axis\u001B[38;5;241m.\u001B[39mget_indexer(new_axis)\n\u001B[0;32m   4326\u001B[0m \u001B[38;5;66;03m# Case for non-unique axis\u001B[39;00m\n\u001B[0;32m   4327\u001B[0m \u001B[38;5;28;01melse\u001B[39;00m:\n",
      "File \u001B[1;32mD:\\Programs\\Python\\Python39\\lib\\site-packages\\pandas\\core\\indexes\\base.py:6644\u001B[0m, in \u001B[0;36mIndex.drop\u001B[1;34m(self, labels, errors)\u001B[0m\n\u001B[0;32m   6642\u001B[0m \u001B[38;5;28;01mif\u001B[39;00m mask\u001B[38;5;241m.\u001B[39many():\n\u001B[0;32m   6643\u001B[0m     \u001B[38;5;28;01mif\u001B[39;00m errors \u001B[38;5;241m!=\u001B[39m \u001B[38;5;124m\"\u001B[39m\u001B[38;5;124mignore\u001B[39m\u001B[38;5;124m\"\u001B[39m:\n\u001B[1;32m-> 6644\u001B[0m         \u001B[38;5;28;01mraise\u001B[39;00m \u001B[38;5;167;01mKeyError\u001B[39;00m(\u001B[38;5;124mf\u001B[39m\u001B[38;5;124m\"\u001B[39m\u001B[38;5;132;01m{\u001B[39;00m\u001B[38;5;28mlist\u001B[39m(labels[mask])\u001B[38;5;132;01m}\u001B[39;00m\u001B[38;5;124m not found in axis\u001B[39m\u001B[38;5;124m\"\u001B[39m)\n\u001B[0;32m   6645\u001B[0m     indexer \u001B[38;5;241m=\u001B[39m indexer[\u001B[38;5;241m~\u001B[39mmask]\n\u001B[0;32m   6646\u001B[0m \u001B[38;5;28;01mreturn\u001B[39;00m \u001B[38;5;28mself\u001B[39m\u001B[38;5;241m.\u001B[39mdelete(indexer)\n",
      "\u001B[1;31mKeyError\u001B[0m: \"['device_id', 'ip_address', 'lower_bound_ip_address', 'upper_bound_ip_address', 'user_id', 'signup_time', 'purchase_time'] not found in axis\""
     ]
    }
   ],
   "source": [
    "#drop the device id\n",
    "fraud_model_data = fraud_model_data.drop(columns = ['device_id','ip_address', 'lower_bound_ip_address', 'upper_bound_ip_address', 'user_id', 'signup_time', 'purchase_time'])\n"
   ],
   "metadata": {
    "collapsed": false,
    "pycharm": {
     "name": "#%%\n"
    }
   }
  },
  {
   "cell_type": "code",
   "execution_count": 227,
   "outputs": [],
   "source": [
    "# keep the top 40 country, have more then 95% transaction contain in these 40 countries. everything else is mark as other.\n",
    "replace_country = country_proportion_cum.iloc[41:,0]\n",
    "for i in range(0, len(replace_country)):\n",
    "    fraud_model_data['country'].replace(replace_country.iloc[i],value ='other', inplace = True)"
   ],
   "metadata": {
    "collapsed": false,
    "pycharm": {
     "name": "#%%\n"
    }
   }
  },
  {
   "cell_type": "code",
   "execution_count": 258,
   "outputs": [],
   "source": [
    "#change the object type date to int\n",
    "label = ['source', 'browser', 'sex', 'country']\n",
    "\n",
    "for i in label:\n",
    "   fraud_model_data[i].replace(fraud_model_data[i].unique(),range(len(fraud_model_data[i].unique())), inplace = True)"
   ],
   "metadata": {
    "collapsed": false,
    "pycharm": {
     "name": "#%%\n"
    }
   }
  },
  {
   "cell_type": "code",
   "execution_count": 260,
   "outputs": [
    {
     "name": "stdout",
     "output_type": "stream",
     "text": [
      "<class 'pandas.core.frame.DataFrame'>\n",
      "RangeIndex: 151112 entries, 0 to 151111\n",
      "Data columns (total 12 columns):\n",
      " #   Column             Non-Null Count   Dtype  \n",
      "---  ------             --------------   -----  \n",
      " 0   purchase_value     151112 non-null  int64  \n",
      " 1   source             151112 non-null  int64  \n",
      " 2   browser            151112 non-null  int64  \n",
      " 3   sex                151112 non-null  int64  \n",
      " 4   age                151112 non-null  int64  \n",
      " 5   class              151112 non-null  int64  \n",
      " 6   country            151112 non-null  int64  \n",
      " 7   time_difference    151112 non-null  float64\n",
      " 8   signup_time_dow    151112 non-null  int64  \n",
      " 9   purchase_time_dow  151112 non-null  int64  \n",
      " 10  signup_time_woy    151112 non-null  int64  \n",
      " 11  purchase_time_woy  151112 non-null  int64  \n",
      "dtypes: float64(1), int64(11)\n",
      "memory usage: 13.8 MB\n"
     ]
    }
   ],
   "source": [
    "fraud_model_data.info()"
   ],
   "metadata": {
    "collapsed": false,
    "pycharm": {
     "name": "#%%\n"
    }
   }
  },
  {
   "cell_type": "code",
   "execution_count": 266,
   "outputs": [],
   "source": [
    "# separate into train and test set\n",
    "train_set, test_set =train_test_split(fraud_model_data, test_size= 0.33)\n",
    "train_feature = train_set.loc[:,['purchase_value', 'source', 'browser', 'sex', 'age', 'country', 'time_difference', 'signup_time_dow', 'purchase_time_dow', 'signup_time_woy', 'purchase_time_woy']]\n",
    "train_class = train_set.loc[:,'class']\n",
    "test_feature = test_set.loc[:,['purchase_value', 'source', 'browser', 'sex', 'age', 'country', 'time_difference', 'signup_time_dow', 'purchase_time_dow', 'signup_time_woy', 'purchase_time_woy']]\n",
    "test_class = test_set.loc[:,'class']"
   ],
   "metadata": {
    "collapsed": false,
    "pycharm": {
     "name": "#%%\n"
    }
   }
  },
  {
   "cell_type": "code",
   "execution_count": 267,
   "outputs": [
    {
     "data": {
      "text/plain": "RandomForestClassifier(oob_score=True, random_state=20)",
      "text/html": "<style>#sk-container-id-1 {color: black;background-color: white;}#sk-container-id-1 pre{padding: 0;}#sk-container-id-1 div.sk-toggleable {background-color: white;}#sk-container-id-1 label.sk-toggleable__label {cursor: pointer;display: block;width: 100%;margin-bottom: 0;padding: 0.3em;box-sizing: border-box;text-align: center;}#sk-container-id-1 label.sk-toggleable__label-arrow:before {content: \"▸\";float: left;margin-right: 0.25em;color: #696969;}#sk-container-id-1 label.sk-toggleable__label-arrow:hover:before {color: black;}#sk-container-id-1 div.sk-estimator:hover label.sk-toggleable__label-arrow:before {color: black;}#sk-container-id-1 div.sk-toggleable__content {max-height: 0;max-width: 0;overflow: hidden;text-align: left;background-color: #f0f8ff;}#sk-container-id-1 div.sk-toggleable__content pre {margin: 0.2em;color: black;border-radius: 0.25em;background-color: #f0f8ff;}#sk-container-id-1 input.sk-toggleable__control:checked~div.sk-toggleable__content {max-height: 200px;max-width: 100%;overflow: auto;}#sk-container-id-1 input.sk-toggleable__control:checked~label.sk-toggleable__label-arrow:before {content: \"▾\";}#sk-container-id-1 div.sk-estimator input.sk-toggleable__control:checked~label.sk-toggleable__label {background-color: #d4ebff;}#sk-container-id-1 div.sk-label input.sk-toggleable__control:checked~label.sk-toggleable__label {background-color: #d4ebff;}#sk-container-id-1 input.sk-hidden--visually {border: 0;clip: rect(1px 1px 1px 1px);clip: rect(1px, 1px, 1px, 1px);height: 1px;margin: -1px;overflow: hidden;padding: 0;position: absolute;width: 1px;}#sk-container-id-1 div.sk-estimator {font-family: monospace;background-color: #f0f8ff;border: 1px dotted black;border-radius: 0.25em;box-sizing: border-box;margin-bottom: 0.5em;}#sk-container-id-1 div.sk-estimator:hover {background-color: #d4ebff;}#sk-container-id-1 div.sk-parallel-item::after {content: \"\";width: 100%;border-bottom: 1px solid gray;flex-grow: 1;}#sk-container-id-1 div.sk-label:hover label.sk-toggleable__label {background-color: #d4ebff;}#sk-container-id-1 div.sk-serial::before {content: \"\";position: absolute;border-left: 1px solid gray;box-sizing: border-box;top: 0;bottom: 0;left: 50%;z-index: 0;}#sk-container-id-1 div.sk-serial {display: flex;flex-direction: column;align-items: center;background-color: white;padding-right: 0.2em;padding-left: 0.2em;position: relative;}#sk-container-id-1 div.sk-item {position: relative;z-index: 1;}#sk-container-id-1 div.sk-parallel {display: flex;align-items: stretch;justify-content: center;background-color: white;position: relative;}#sk-container-id-1 div.sk-item::before, #sk-container-id-1 div.sk-parallel-item::before {content: \"\";position: absolute;border-left: 1px solid gray;box-sizing: border-box;top: 0;bottom: 0;left: 50%;z-index: -1;}#sk-container-id-1 div.sk-parallel-item {display: flex;flex-direction: column;z-index: 1;position: relative;background-color: white;}#sk-container-id-1 div.sk-parallel-item:first-child::after {align-self: flex-end;width: 50%;}#sk-container-id-1 div.sk-parallel-item:last-child::after {align-self: flex-start;width: 50%;}#sk-container-id-1 div.sk-parallel-item:only-child::after {width: 0;}#sk-container-id-1 div.sk-dashed-wrapped {border: 1px dashed gray;margin: 0 0.4em 0.5em 0.4em;box-sizing: border-box;padding-bottom: 0.4em;background-color: white;}#sk-container-id-1 div.sk-label label {font-family: monospace;font-weight: bold;display: inline-block;line-height: 1.2em;}#sk-container-id-1 div.sk-label-container {text-align: center;}#sk-container-id-1 div.sk-container {/* jupyter's `normalize.less` sets `[hidden] { display: none; }` but bootstrap.min.css set `[hidden] { display: none !important; }` so we also need the `!important` here to be able to override the default hidden behavior on the sphinx rendered scikit-learn.org. See: https://github.com/scikit-learn/scikit-learn/issues/21755 */display: inline-block !important;position: relative;}#sk-container-id-1 div.sk-text-repr-fallback {display: none;}</style><div id=\"sk-container-id-1\" class=\"sk-top-container\"><div class=\"sk-text-repr-fallback\"><pre>RandomForestClassifier(oob_score=True, random_state=20)</pre><b>In a Jupyter environment, please rerun this cell to show the HTML representation or trust the notebook. <br />On GitHub, the HTML representation is unable to render, please try loading this page with nbviewer.org.</b></div><div class=\"sk-container\" hidden><div class=\"sk-item\"><div class=\"sk-estimator sk-toggleable\"><input class=\"sk-toggleable__control sk-hidden--visually\" id=\"sk-estimator-id-1\" type=\"checkbox\" checked><label for=\"sk-estimator-id-1\" class=\"sk-toggleable__label sk-toggleable__label-arrow\">RandomForestClassifier</label><div class=\"sk-toggleable__content\"><pre>RandomForestClassifier(oob_score=True, random_state=20)</pre></div></div></div></div></div>"
     },
     "execution_count": 267,
     "metadata": {},
     "output_type": "execute_result"
    }
   ],
   "source": [
    "# random forest model\n",
    "rf = RandomForestClassifier(n_estimators = 100, oob_score =  True, random_state = 20)\n",
    "rf.fit(train_feature, train_class)"
   ],
   "metadata": {
    "collapsed": false,
    "pycharm": {
     "name": "#%%\n"
    }
   }
  },
  {
   "cell_type": "code",
   "execution_count": 268,
   "outputs": [
    {
     "name": "stdout",
     "output_type": "stream",
     "text": [
      "OOB error: 0.9568274976542052\n"
     ]
    }
   ],
   "source": [
    "#OOB error and test error is\n",
    "print('OOB error:', rf.oob_score_)"
   ],
   "metadata": {
    "collapsed": false,
    "pycharm": {
     "name": "#%%\n"
    }
   }
  },
  {
   "cell_type": "code",
   "execution_count": 271,
   "outputs": [
    {
     "data": {
      "text/plain": "Text(0.5, 0, 'Decision Tree Feature Importance')"
     },
     "execution_count": 271,
     "metadata": {},
     "output_type": "execute_result"
    },
    {
     "data": {
      "text/plain": "<Figure size 432x288 with 1 Axes>",
      "image/png": "[encoded data removed]"
     },
     "metadata": {
      "needs_background": "light"
     },
     "output_type": "display_data"
    }
   ],
   "source": [
    "plt.barh(train_feature.columns, rf.feature_importances_)\n",
    "plt.xlabel(\"Decision Tree Feature Importance\")"
   ],
   "metadata": {
    "collapsed": false,
    "pycharm": {
     "name": "#%%\n"
    }
   }
  },
  {
   "cell_type": "code",
   "execution_count": 269,
   "outputs": [],
   "source": [
    "# make prediction\n",
    "predictions = rf.predict(test_feature)"
   ],
   "metadata": {
    "collapsed": false,
    "pycharm": {
     "name": "#%%\n"
    }
   }
  },
  {
   "cell_type": "code",
   "execution_count": 277,
   "outputs": [
    {
     "name": "stdout",
     "output_type": "stream",
     "text": [
      "[[45143     0]\n",
      " [ 2184  2540]]\n",
      "No Skill: ROC AUC=0.500\n",
      "Logistic: ROC AUC=0.769\n"
     ]
    },
    {
     "data": {
      "text/plain": "<Figure size 432x288 with 1 Axes>",
      "image/png": "[encoded data removed]"
     },
     "metadata": {
      "needs_background": "light"
     },
     "output_type": "display_data"
    }
   ],
   "source": [
    "#calculate the confusion matrix\n",
    "from sklearn.metrics import confusion_matrix\n",
    "conf = confusion_matrix(test_class, predictions)\n",
    "print(conf)\n",
    "\n",
    "#Since the challenge asks about false positive and false negative, this usually implies building the ROC and look for possible cut-off points.\n",
    "from sklearn.metrics import roc_curve, roc_auc_score\n",
    "ns_probs = [0 for _ in range(len(test_class))]\n",
    "ns_fpr, ns_tpr, _ = roc_curve(test_class, ns_probs)\n",
    "rf_fpr, rf_tpr, _ = roc_curve(test_class, predictions)\n",
    "ns_auc = roc_auc_score(test_class, ns_probs)\n",
    "rf_auc = roc_auc_score(test_class, predictions)\n",
    "# summarize scores\n",
    "print('No Skill: ROC AUC=%.3f' % (ns_auc))\n",
    "print('Logistic: ROC AUC=%.3f' % (rf_auc))\n",
    "plt.plot(ns_fpr, ns_tpr, linestyle='--', label='No Skill')\n",
    "plt.plot(rf_fpr, rf_tpr, marker='.', label='random forest')\n",
    "\n",
    "plt.xlabel('False Positive Rate')\n",
    "plt.ylabel('True Positive Rate')\n",
    "# show the legend\n",
    "plt.legend()\n",
    "# show the plot\n",
    "plt.show()\n"
   ],
   "metadata": {
    "collapsed": false,
    "pycharm": {
     "name": "#%%\n"
    }
   }
  },
  {
   "cell_type": "markdown",
   "source": [
    "Based on the ROC, if we care about minimizing false positive, we would choose a cut-off that would give us true positive rate of ~0.5 and false positive rate almost zero (this was essentially the random forest\n",
    "output). However, if we care about maximizing true positive, we will have to decrease the cut-off. This way\n",
    "we will classify more events as “1”: some will be true ones (so true positive goes up) and many,\n",
    "unfortunately, will be false ones (so false positive will also go up).\n",
    "\n",
    "Understanding how ROC works is really important. So please review it if you are not familiar with it.\n",
    "In many practical ML applications, there is no reason to use the default 0.5 cut-off value\n",
    "\n",
    "In terms of getting insights, this is similar to the conversion rate challenge, so we won’t redo it. The most\n",
    "effective strategy is again:\n",
    "\n",
    "Look at random forest variable importance, plot partial dependence plots of the most important variables\n",
    "and finally build a simple and small tree and look at the main splits.\n",
    " \n",
    "Regarding “how to use this from a product perspective”: you now have a model that assigns to each user\n",
    "a probability of committing a fraud. You want to think about creating different experiences based on that.\n",
    "For instance:\n",
    "1. If predicted fraud probability < X, the user has the normal experience (the high majority should fall\n",
    "here)\n",
    "2. If X <= predicted fraud probability < Z (so the user is at risk, but not too much), you can create an\n",
    "additional verification step, like verify your phone number via a code sent by SMS or log in via\n",
    "Facebook.\n",
    "3. If predicted fraud probability >= Z (so here is really likely the user is trying to commit a fraud), you\n",
    "can tell the user his session has been put on hold, send this user info to someone who reviews it\n",
    "manually and either blocks the user or decides it is not a fraud so the session is resumed.\n",
    "\n",
    "This is just an example and there are many different ways to build products around some fraud score.\n",
    "However, it is important because it highlights that a ML model is often really useful when it is\n",
    "combined with a product which is able to take advantage of its strengths and minimize its possible\n",
    "drawbacks (like false positives)."
   ],
   "metadata": {
    "collapsed": false,
    "pycharm": {
     "name": "#%% md\n"
    }
   }
  }
 ],
 "metadata": {
  "kernelspec": {
   "display_name": "Python 3",
   "language": "python",
   "name": "python3"
  },
  "language_info": {
   "codemirror_mode": {
    "name": "ipython",
    "version": 2
   },
   "file_extension": ".py",
   "mimetype": "text/x-python",
   "name": "python",
   "nbconvert_exporter": "python",
   "pygments_lexer": "ipython2",
   "version": "2.7.6"
  }
 },
 "nbformat": 4,
 "nbformat_minor": 0
}