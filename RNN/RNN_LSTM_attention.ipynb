{
 "cells": [
  {
   "cell_type": "code",
   "execution_count": 2116,
   "outputs": [],
   "source": [
    "import torch\n",
    "import torch.nn.functional as F\n",
    "import torchtext\n",
    "import time\n",
    "import random\n",
    "import pandas as pd\n",
    "import numpy as np\n",
    "from sklearn.metrics import confusion_matrix\n",
    "import matplotlib.pyplot as plt\n",
    "import seaborn as sns\n",
    "import spacy\n"
   ],
   "metadata": {
    "collapsed": false,
    "pycharm": {
     "name": "#%%\n"
    }
   }
  },
  {
   "cell_type": "code",
   "execution_count": 2117,
   "outputs": [
    {
     "name": "stdout",
     "output_type": "stream",
     "text": [
      "1.8.2+cu111\n"
     ]
    }
   ],
   "source": [
    "print(torch.__version__)"
   ],
   "metadata": {
    "collapsed": false,
    "pycharm": {
     "name": "#%%\n"
    }
   }
  },
  {
   "cell_type": "code",
   "execution_count": 2118,
   "outputs": [
    {
     "data": {
      "text/plain": "True"
     },
     "execution_count": 2118,
     "metadata": {},
     "output_type": "execute_result"
    }
   ],
   "source": [
    "torch.cuda.is_available()\n"
   ],
   "metadata": {
    "collapsed": false,
    "pycharm": {
     "name": "#%%\n"
    }
   }
  },
  {
   "cell_type": "markdown",
   "source": [
    "# About the version of package:\n",
    "\n",
    "1. If you don't want to mass you package version, you can create the virtual environment\n",
    "only for this project.\n",
    "please see the detail: https://docs.python.org/3.8/library/venv.html\n",
    "\n",
    "2. After you create virtual environment, if you use pip, you can install pipreqs package,\n",
    "it can help you to save you package version and easy to install:\n",
    "\n",
    "pip install -r .\\requirements.txt\n",
    "please see the detail：https://github.com/bndr/pipreqs\n",
    "\n",
    "I will provide my package version for you in the file.\n",
    "\n",
    "\n",
    "3. For this project, The most important is torchtext 0.9, all the minor version is works,\n",
    "torch 1.8.1 and torchtext 0.9.1 is also work.\n",
    "If you not use GPU, you can just use torch 1.8.1, which is same as Professor Li publish in blackboard.\n",
    "If you want to use GPU, please check torch version: https://pytorch.org/get-started/locally/\n",
    "and torchtext version: https://pypi.org/project/torchtext/\n",
    "\n",
    "If you have some questions, please contact me."
   ],
   "metadata": {
    "collapsed": false
   }
  },
  {
   "cell_type": "markdown",
   "source": [
    "# The data set is from kaggle youtube  statistics:\n",
    "https://www.kaggle.com/code/elem3ntary/predicting-comment-sentiment/data\n",
    "\n",
    "The code is from :https://sebastianraschka.com/blog/2021/dl-course.html"
   ],
   "metadata": {
    "collapsed": false
   }
  },
  {
   "cell_type": "markdown",
   "source": [
    "# Comment Sentiment:\n",
    "0 represents a negative sentiment\n",
    "1 represent neutral\n",
    "2 represent positive"
   ],
   "metadata": {
    "collapsed": false
   }
  },
  {
   "cell_type": "code",
   "execution_count": 2119,
   "outputs": [],
   "source": [
    "RANDOM_SEED = 123\n",
    "torch.manual_seed(RANDOM_SEED)\n",
    "\n",
    "VOCABULARY_SIZE = 20000\n",
    "LEARNING_RATE = 0.01\n",
    "BATCH_SIZE = 64\n",
    "NUM_EPOCHS = 40\n",
    "DEVICE = torch.device('cuda' if torch.cuda.is_available() else 'cpu')\n",
    "NUM_LAYERS = 1\n",
    "EMBEDDING_DIM = 128\n",
    "HIDDEN_DIM = 256\n",
    "NUM_CLASSES = 3"
   ],
   "metadata": {
    "collapsed": false,
    "pycharm": {
     "name": "#%%\n"
    }
   }
  },
  {
   "cell_type": "code",
   "execution_count": 2120,
   "outputs": [
    {
     "name": "stdout",
     "output_type": "stream",
     "text": [
      "cuda\n"
     ]
    }
   ],
   "source": [
    "print(DEVICE)"
   ],
   "metadata": {
    "collapsed": false,
    "pycharm": {
     "name": "#%%\n"
    }
   }
  },
  {
   "cell_type": "code",
   "execution_count": 2121,
   "outputs": [
    {
     "data": {
      "text/plain": "<AxesSubplot: xlabel='Sentiment'>"
     },
     "execution_count": 2121,
     "metadata": {},
     "output_type": "execute_result"
    },
    {
     "data": {
      "text/plain": "<Figure size 640x480 with 1 Axes>",
      "image/png": "[encoded data removed]"
     },
     "metadata": {},
     "output_type": "display_data"
    }
   ],
   "source": [
    "# read the data\n",
    "comment =  pd.read_csv('comments.csv')\n",
    "comment.groupby('Sentiment').count()['Comment'].plot.bar()\n"
   ],
   "metadata": {
    "collapsed": false,
    "pycharm": {
     "name": "#%%\n"
    }
   }
  },
  {
   "cell_type": "code",
   "execution_count": 2122,
   "outputs": [
    {
     "data": {
      "text/plain": "   Unnamed: 0     Video ID                                            Comment  \\\n0           0  wAZZ-UWGVHI  Let's not forget that Apple Pay in 2014 requir...   \n1           1  wAZZ-UWGVHI  Here in NZ 50% of retailers don’t even have co...   \n2           2  wAZZ-UWGVHI  I will forever acknowledge this channel with t...   \n3           3  wAZZ-UWGVHI  Whenever I go to a place that doesn’t take App...   \n4           4  wAZZ-UWGVHI  Apple Pay is so convenient, secure, and easy t...   \n\n   Likes  Sentiment  \n0     95          1  \n1     19          0  \n2    161          2  \n3      8          0  \n4     34          2  ",
      "text/html": "<div>\n<style scoped>\n    .dataframe tbody tr th:only-of-type {\n        vertical-align: middle;\n    }\n\n    .dataframe tbody tr th {\n        vertical-align: top;\n    }\n\n    .dataframe thead th {\n        text-align: right;\n    }\n</style>\n<table border=\"1\" class=\"dataframe\">\n  <thead>\n    <tr style=\"text-align: right;\">\n      <th></th>\n      <th>Unnamed: 0</th>\n      <th>Video ID</th>\n      <th>Comment</th>\n      <th>Likes</th>\n      <th>Sentiment</th>\n    </tr>\n  </thead>\n  <tbody>\n    <tr>\n      <th>0</th>\n      <td>0</td>\n      <td>wAZZ-UWGVHI</td>\n      <td>Let's not forget that Apple Pay in 2014 requir...</td>\n      <td>95</td>\n      <td>1</td>\n    </tr>\n    <tr>\n      <th>1</th>\n      <td>1</td>\n      <td>wAZZ-UWGVHI</td>\n      <td>Here in NZ 50% of retailers don’t even have co...</td>\n      <td>19</td>\n      <td>0</td>\n    </tr>\n    <tr>\n      <th>2</th>\n      <td>2</td>\n      <td>wAZZ-UWGVHI</td>\n      <td>I will forever acknowledge this channel with t...</td>\n      <td>161</td>\n      <td>2</td>\n    </tr>\n    <tr>\n      <th>3</th>\n      <td>3</td>\n      <td>wAZZ-UWGVHI</td>\n      <td>Whenever I go to a place that doesn’t take App...</td>\n      <td>8</td>\n      <td>0</td>\n    </tr>\n    <tr>\n      <th>4</th>\n      <td>4</td>\n      <td>wAZZ-UWGVHI</td>\n      <td>Apple Pay is so convenient, secure, and easy t...</td>\n      <td>34</td>\n      <td>2</td>\n    </tr>\n  </tbody>\n</table>\n</div>"
     },
     "execution_count": 2122,
     "metadata": {},
     "output_type": "execute_result"
    }
   ],
   "source": [
    "#look at data\n",
    "comment.head()"
   ],
   "metadata": {
    "collapsed": false,
    "pycharm": {
     "name": "#%%\n"
    }
   }
  },
  {
   "cell_type": "code",
   "execution_count": 2123,
   "outputs": [
    {
     "data": {
      "text/plain": "'Whenever I go to a place that doesn’t take Apple Pay (doesn’t happen too often), it’s such a drag. Between ‘contactless Covid’ habits and my getting the Apple Card, I’ve gotten so used to Apple Pay that I get seriously annoyed when a store doesn’t take it. It feels like a shock, it’s crazy how quickly it took over my shopping routine! I’ve officially been brainwashed by Apple because now it feels so inconvenient to even carry a physical card in my pocket.'"
     },
     "execution_count": 2123,
     "metadata": {},
     "output_type": "execute_result"
    }
   ],
   "source": [
    "comment.iloc[3,2]"
   ],
   "metadata": {
    "collapsed": false,
    "pycharm": {
     "name": "#%%\n"
    }
   }
  },
  {
   "cell_type": "code",
   "execution_count": 2124,
   "outputs": [
    {
     "data": {
      "text/plain": "         Unnamed: 0          Likes     Sentiment\ncount  18409.000000   18409.000000  18409.000000\nmean    9204.000000    1040.019447      1.493998\nstd     5314.364888   10651.366148      0.709928\nmin        0.000000       0.000000      0.000000\n25%     4602.000000       5.000000      1.000000\n50%     9204.000000      29.000000      2.000000\n75%    13806.000000     190.000000      2.000000\nmax    18408.000000  891372.000000      2.000000",
      "text/html": "<div>\n<style scoped>\n    .dataframe tbody tr th:only-of-type {\n        vertical-align: middle;\n    }\n\n    .dataframe tbody tr th {\n        vertical-align: top;\n    }\n\n    .dataframe thead th {\n        text-align: right;\n    }\n</style>\n<table border=\"1\" class=\"dataframe\">\n  <thead>\n    <tr style=\"text-align: right;\">\n      <th></th>\n      <th>Unnamed: 0</th>\n      <th>Likes</th>\n      <th>Sentiment</th>\n    </tr>\n  </thead>\n  <tbody>\n    <tr>\n      <th>count</th>\n      <td>18409.000000</td>\n      <td>18409.000000</td>\n      <td>18409.000000</td>\n    </tr>\n    <tr>\n      <th>mean</th>\n      <td>9204.000000</td>\n      <td>1040.019447</td>\n      <td>1.493998</td>\n    </tr>\n    <tr>\n      <th>std</th>\n      <td>5314.364888</td>\n      <td>10651.366148</td>\n      <td>0.709928</td>\n    </tr>\n    <tr>\n      <th>min</th>\n      <td>0.000000</td>\n      <td>0.000000</td>\n      <td>0.000000</td>\n    </tr>\n    <tr>\n      <th>25%</th>\n      <td>4602.000000</td>\n      <td>5.000000</td>\n      <td>1.000000</td>\n    </tr>\n    <tr>\n      <th>50%</th>\n      <td>9204.000000</td>\n      <td>29.000000</td>\n      <td>2.000000</td>\n    </tr>\n    <tr>\n      <th>75%</th>\n      <td>13806.000000</td>\n      <td>190.000000</td>\n      <td>2.000000</td>\n    </tr>\n    <tr>\n      <th>max</th>\n      <td>18408.000000</td>\n      <td>891372.000000</td>\n      <td>2.000000</td>\n    </tr>\n  </tbody>\n</table>\n</div>"
     },
     "execution_count": 2124,
     "metadata": {},
     "output_type": "execute_result"
    }
   ],
   "source": [
    "# look the data\n",
    "comment.describe()"
   ],
   "metadata": {
    "collapsed": false,
    "pycharm": {
     "name": "#%%\n"
    }
   }
  },
  {
   "cell_type": "code",
   "execution_count": 2125,
   "outputs": [
    {
     "data": {
      "text/plain": "Unnamed: 0    0\nVideo ID      0\nComment       1\nLikes         0\nSentiment     0\ndtype: int64"
     },
     "execution_count": 2125,
     "metadata": {},
     "output_type": "execute_result"
    }
   ],
   "source": [
    "#have 1 null data in comment\n",
    "comment.isnull().sum()"
   ],
   "metadata": {
    "collapsed": false,
    "pycharm": {
     "name": "#%%\n"
    }
   }
  },
  {
   "cell_type": "code",
   "execution_count": 2126,
   "outputs": [
    {
     "data": {
      "text/plain": "      Unnamed: 0     Video ID Comment  Likes  Sentiment\n9745        9745  bvkk3UdlfA4     NaN      1          1",
      "text/html": "<div>\n<style scoped>\n    .dataframe tbody tr th:only-of-type {\n        vertical-align: middle;\n    }\n\n    .dataframe tbody tr th {\n        vertical-align: top;\n    }\n\n    .dataframe thead th {\n        text-align: right;\n    }\n</style>\n<table border=\"1\" class=\"dataframe\">\n  <thead>\n    <tr style=\"text-align: right;\">\n      <th></th>\n      <th>Unnamed: 0</th>\n      <th>Video ID</th>\n      <th>Comment</th>\n      <th>Likes</th>\n      <th>Sentiment</th>\n    </tr>\n  </thead>\n  <tbody>\n    <tr>\n      <th>9745</th>\n      <td>9745</td>\n      <td>bvkk3UdlfA4</td>\n      <td>NaN</td>\n      <td>1</td>\n      <td>1</td>\n    </tr>\n  </tbody>\n</table>\n</div>"
     },
     "execution_count": 2126,
     "metadata": {},
     "output_type": "execute_result"
    }
   ],
   "source": [
    "#look at null data\n",
    "comment[comment['Comment'].isnull()]\n"
   ],
   "metadata": {
    "collapsed": false,
    "pycharm": {
     "name": "#%%\n"
    }
   }
  },
  {
   "cell_type": "code",
   "execution_count": 2127,
   "outputs": [
    {
     "data": {
      "text/plain": "           Comment\nSentiment         \n0             2338\n1             4638\n2            11432",
      "text/html": "<div>\n<style scoped>\n    .dataframe tbody tr th:only-of-type {\n        vertical-align: middle;\n    }\n\n    .dataframe tbody tr th {\n        vertical-align: top;\n    }\n\n    .dataframe thead th {\n        text-align: right;\n    }\n</style>\n<table border=\"1\" class=\"dataframe\">\n  <thead>\n    <tr style=\"text-align: right;\">\n      <th></th>\n      <th>Comment</th>\n    </tr>\n    <tr>\n      <th>Sentiment</th>\n      <th></th>\n    </tr>\n  </thead>\n  <tbody>\n    <tr>\n      <th>0</th>\n      <td>2338</td>\n    </tr>\n    <tr>\n      <th>1</th>\n      <td>4638</td>\n    </tr>\n    <tr>\n      <th>2</th>\n      <td>11432</td>\n    </tr>\n  </tbody>\n</table>\n</div>"
     },
     "execution_count": 2127,
     "metadata": {},
     "output_type": "execute_result"
    }
   ],
   "source": [
    "#drop the other columns, and change 1 and 2 in sentiment to 1\n",
    "comment_data = comment.drop(columns = ['Unnamed: 0', 'Video ID', 'Likes'])\n",
    "comment_data.groupby('Sentiment').count()"
   ],
   "metadata": {
    "collapsed": false,
    "pycharm": {
     "name": "#%%\n"
    }
   }
  },
  {
   "cell_type": "code",
   "execution_count": 2128,
   "outputs": [],
   "source": [
    "#change column name\n",
    "comment_data.columns = ['TEXT_COLUMN_NAME', 'LABEL_COLUMN_NAME']"
   ],
   "metadata": {
    "collapsed": false,
    "pycharm": {
     "name": "#%%\n"
    }
   }
  },
  {
   "cell_type": "code",
   "execution_count": 2129,
   "outputs": [],
   "source": [
    "comment_data.to_csv('youtube_data.csv', index=None)\n",
    "comment_look = pd.read_csv('youtube_data.csv')\n",
    "\n"
   ],
   "metadata": {
    "collapsed": false,
    "pycharm": {
     "name": "#%%\n"
    }
   }
  },
  {
   "cell_type": "markdown",
   "source": [
    "Download English vocabulary via:\n",
    "\n",
    "- `python -m spacy download en_core_web_sm`\n",
    "\n"
   ],
   "metadata": {
    "collapsed": false
   }
  },
  {
   "cell_type": "code",
   "execution_count": 2130,
   "outputs": [],
   "source": [
    "# only have legacy in torchtext==0.9\n",
    "# pip install torchtext==0.9\n",
    "### Defining the feature processing\n",
    "\n",
    "TEXT = torchtext.legacy.data.Field(\n",
    "    tokenize='spacy', # default splits on whitespace\n",
    "    tokenizer_language='en_core_web_sm'\n",
    ")\n",
    "\n",
    "### Defining the label processing\n",
    "\n",
    "LABEL = torchtext.legacy.data.LabelField(dtype=torch.long)\n"
   ],
   "metadata": {
    "collapsed": false,
    "pycharm": {
     "name": "#%%\n"
    }
   }
  },
  {
   "cell_type": "code",
   "execution_count": 2131,
   "outputs": [],
   "source": [
    "fields = [('TEXT_COLUMN_NAME', TEXT), ('LABEL_COLUMN_NAME', LABEL)]\n",
    "\n",
    "dataset = torchtext.legacy.data.TabularDataset(\n",
    "    path='youtube_data.csv', format='csv',\n",
    "    skip_header=True, fields=fields)\n",
    "\n"
   ],
   "metadata": {
    "collapsed": false,
    "pycharm": {
     "name": "#%%\n"
    }
   }
  },
  {
   "cell_type": "code",
   "execution_count": 2132,
   "outputs": [
    {
     "name": "stdout",
     "output_type": "stream",
     "text": [
      "Num Train: 14727\n",
      "Num Test: 3682\n"
     ]
    }
   ],
   "source": [
    "# separate into train and test set\n",
    "train_data, test_data = dataset.split(\n",
    "    split_ratio=[0.8, 0.2],\n",
    "    random_state=random.seed(RANDOM_SEED))\n",
    "\n",
    "print(f'Num Train: {len(train_data)}')\n",
    "print(f'Num Test: {len(test_data)}')\n"
   ],
   "metadata": {
    "collapsed": false,
    "pycharm": {
     "name": "#%%\n"
    }
   }
  },
  {
   "cell_type": "code",
   "execution_count": 2133,
   "outputs": [
    {
     "name": "stdout",
     "output_type": "stream",
     "text": [
      "Num Train: 12518\n",
      "Num Validation: 2209\n"
     ]
    }
   ],
   "source": [
    "# separate into train, valid and test set\n",
    "train_data, valid_data = train_data.split(\n",
    "    split_ratio=[0.85, 0.15],\n",
    "    random_state=random.seed(RANDOM_SEED))\n",
    "\n",
    "print(f'Num Train: {len(train_data)}')\n",
    "print(f'Num Validation: {len(valid_data)}')\n"
   ],
   "metadata": {
    "collapsed": false,
    "pycharm": {
     "name": "#%%\n"
    }
   }
  },
  {
   "cell_type": "code",
   "execution_count": 2134,
   "outputs": [
    {
     "name": "stdout",
     "output_type": "stream",
     "text": [
      "{'TEXT_COLUMN_NAME': ['Definitely', 'trying', 'this', 'tomorrow', 'on', 'my', 'son', '.', 'This', 'cut', 'is', 'detailed', 'with', 'all', 'the', 'instructions', '.', 'Appreciate', 'you', 'sharing', 'this', 'knowledge', ',', 'stay', 'blessed', 'my', 'brother'], 'LABEL_COLUMN_NAME': '2'}\n"
     ]
    }
   ],
   "source": [
    "print(vars(train_data.examples[0]))\n"
   ],
   "metadata": {
    "collapsed": false,
    "pycharm": {
     "name": "#%%\n"
    }
   }
  },
  {
   "cell_type": "markdown",
   "source": [
    "## Build Vocabulary"
   ],
   "metadata": {
    "collapsed": false
   }
  },
  {
   "cell_type": "markdown",
   "source": [
    "Build the vocabulary based on the top \"VOCABULARY_SIZE\" words:"
   ],
   "metadata": {
    "collapsed": false
   }
  },
  {
   "cell_type": "code",
   "execution_count": 2135,
   "outputs": [
    {
     "name": "stdout",
     "output_type": "stream",
     "text": [
      "Vocabulary size: 20002\n",
      "Number of classes: 3\n"
     ]
    }
   ],
   "source": [
    "TEXT.build_vocab(train_data, max_size=VOCABULARY_SIZE)\n",
    "LABEL.build_vocab(train_data)\n",
    "\n",
    "print(f'Vocabulary size: {len(TEXT.vocab)}')\n",
    "print(f'Number of classes: {len(LABEL.vocab)}')"
   ],
   "metadata": {
    "collapsed": false,
    "pycharm": {
     "name": "#%%\n"
    }
   }
  },
  {
   "cell_type": "markdown",
   "source": [
    "- 20,002 not 20,000 because of the `<unk>` and `<pad>` tokens\n",
    "- PyTorch RNNs can deal with arbitrary lengths due to dynamic graphs, but padding is necessary for padding sequences to the same length in a given minibatch so we can store those in an array"
   ],
   "metadata": {
    "collapsed": false
   }
  },
  {
   "cell_type": "code",
   "execution_count": 2136,
   "outputs": [
    {
     "name": "stdout",
     "output_type": "stream",
     "text": [
      "[('.', 17588), ('the', 13963), (',', 12709), ('I', 10643), ('to', 10043), ('and', 9479), ('a', 8730), ('of', 6448), ('\\n', 6438), ('!', 5617), ('is', 5523), ('you', 5371), ('in', 5036), ('it', 4599), ('for', 4536), ('that', 4096), ('this', 3756), ('\"', 2630), ('on', 2556), ('my', 2515)]\n"
     ]
    }
   ],
   "source": [
    "#Look at most common words:\n",
    "print(TEXT.vocab.freqs.most_common(20))\n"
   ],
   "metadata": {
    "collapsed": false,
    "pycharm": {
     "name": "#%%\n"
    }
   }
  },
  {
   "cell_type": "code",
   "execution_count": 2137,
   "outputs": [
    {
     "name": "stdout",
     "output_type": "stream",
     "text": [
      "['<unk>', '<pad>', '.', 'the', ',', 'I', 'to', 'and', 'a', 'of']\n"
     ]
    }
   ],
   "source": [
    "#Tokens corresponding to the first 10 indices (0, 1, ..., 9):\n",
    "print(TEXT.vocab.itos[:10]) # itos = integer-to-string\n",
    "\n"
   ],
   "metadata": {
    "collapsed": false,
    "pycharm": {
     "name": "#%%\n"
    }
   }
  },
  {
   "cell_type": "markdown",
   "source": [
    "**Converting a string to an integer:**"
   ],
   "metadata": {
    "collapsed": false
   }
  },
  {
   "cell_type": "code",
   "execution_count": 2138,
   "outputs": [
    {
     "name": "stdout",
     "output_type": "stream",
     "text": [
      "3\n"
     ]
    }
   ],
   "source": [
    "print(TEXT.vocab.stoi['the']) # stoi = string-to-integer"
   ],
   "metadata": {
    "collapsed": false,
    "pycharm": {
     "name": "#%%\n"
    }
   }
  },
  {
   "cell_type": "markdown",
   "source": [
    "**Class labels:**"
   ],
   "metadata": {
    "collapsed": false
   }
  },
  {
   "cell_type": "code",
   "execution_count": 2139,
   "outputs": [
    {
     "name": "stdout",
     "output_type": "stream",
     "text": [
      "defaultdict(None, {'2': 0, '1': 1, '0': 2})\n"
     ]
    }
   ],
   "source": [
    "print(LABEL.vocab.stoi)"
   ],
   "metadata": {
    "collapsed": false,
    "pycharm": {
     "name": "#%%\n"
    }
   }
  },
  {
   "cell_type": "markdown",
   "source": [
    "**Class label count:**"
   ],
   "metadata": {
    "collapsed": false
   }
  },
  {
   "cell_type": "code",
   "execution_count": 2140,
   "outputs": [
    {
     "data": {
      "text/plain": "Counter({'2': 7722, '1': 3174, '0': 1622})"
     },
     "execution_count": 2140,
     "metadata": {},
     "output_type": "execute_result"
    }
   ],
   "source": [
    "LABEL.vocab.freqs"
   ],
   "metadata": {
    "collapsed": false,
    "pycharm": {
     "name": "#%%\n"
    }
   }
  },
  {
   "cell_type": "markdown",
   "source": [
    "## Define Data Loaders"
   ],
   "metadata": {
    "collapsed": false
   }
  },
  {
   "cell_type": "code",
   "execution_count": 2141,
   "outputs": [],
   "source": [
    "train_loader, valid_loader, test_loader = \\\n",
    "    torchtext.legacy.data.BucketIterator.splits(\n",
    "        (train_data, valid_data, test_data),\n",
    "         batch_size=BATCH_SIZE,\n",
    "         sort_within_batch=False,\n",
    "         sort_key=lambda x: len(x.TEXT_COLUMN_NAME),\n",
    "         device=DEVICE\n",
    "    )"
   ],
   "metadata": {
    "collapsed": false,
    "pycharm": {
     "name": "#%%\n"
    }
   }
  },
  {
   "cell_type": "markdown",
   "source": [
    "Testing the iterators (note that the number of rows depends on the longest document in the respective batch):"
   ],
   "metadata": {
    "collapsed": false
   }
  },
  {
   "cell_type": "code",
   "execution_count": 2142,
   "outputs": [
    {
     "name": "stdout",
     "output_type": "stream",
     "text": [
      "Train\n",
      "Text matrix size: torch.Size([401, 64])\n",
      "Target vector size: torch.Size([64])\n",
      "\n",
      "Valid:\n",
      "Text matrix size: torch.Size([5, 64])\n",
      "Target vector size: torch.Size([64])\n",
      "\n",
      "Test:\n",
      "Text matrix size: torch.Size([4, 64])\n",
      "Target vector size: torch.Size([64])\n"
     ]
    }
   ],
   "source": [
    "print('Train')\n",
    "for batch in train_loader:\n",
    "    print(f'Text matrix size: {batch.TEXT_COLUMN_NAME.size()}')\n",
    "    print(f'Target vector size: {batch.LABEL_COLUMN_NAME.size()}')\n",
    "    break\n",
    "\n",
    "print('\\nValid:')\n",
    "for batch in valid_loader:\n",
    "    print(f'Text matrix size: {batch.TEXT_COLUMN_NAME.size()}')\n",
    "    print(f'Target vector size: {batch.LABEL_COLUMN_NAME.size()}')\n",
    "    break\n",
    "\n",
    "print('\\nTest:')\n",
    "for batch in test_loader:\n",
    "    print(f'Text matrix size: {batch.TEXT_COLUMN_NAME.size()}')\n",
    "    print(f'Target vector size: {batch.LABEL_COLUMN_NAME.size()}')\n",
    "    break"
   ],
   "metadata": {
    "collapsed": false,
    "pycharm": {
     "name": "#%%\n"
    }
   }
  },
  {
   "cell_type": "markdown",
   "source": [
    "## Model"
   ],
   "metadata": {
    "collapsed": false
   }
  },
  {
   "cell_type": "code",
   "source": [
    "class RNN(torch.nn.Module):\n",
    "\n",
    "      def __init__(self, input_dim, embedding_dim, hidden_dim, output_dim ):\n",
    "        super().__init__()\n",
    "\n",
    "        self.embedding = torch.nn.Embedding(input_dim, embedding_dim)\n",
    "\n",
    "        self.rnn = torch.nn.LSTM(embedding_dim, hidden_dim)\n",
    "\n",
    "        self.fc = torch.nn.Linear(hidden_dim, output_dim)\n",
    "\n",
    "      def attention(self, lstm_output, final_state):\n",
    "        lstm_output = lstm_output.permute(1, 0, 2)\n",
    "        merged_state = torch.cat([s for s in final_state], 1)\n",
    "        merged_state = merged_state.squeeze(0).unsqueeze(2)\n",
    "        weights = torch.bmm(lstm_output, merged_state)\n",
    "        weights = F.softmax(weights.squeeze(2), dim=1).unsqueeze(2)\n",
    "        return torch.bmm(torch.transpose(lstm_output, 1, 2), weights).squeeze(2)\n",
    "\n",
    "      def forward(self, x):\n",
    "        embedded = self.embedding(x)\n",
    "        output, (hidden, cell) = self.rnn(embedded)\n",
    "\n",
    "        # attn_output = self.attention_net(output, hidden)\n",
    "        attn_output = self.attention(output, hidden)\n",
    "        result = self.fc(attn_output.squeeze(0))\n",
    "\n",
    "\n",
    "        return result\n",
    "\n"
   ],
   "metadata": {
    "collapsed": false,
    "pycharm": {
     "name": "#%%\n"
    }
   },
   "execution_count": 2143,
   "outputs": []
  },
  {
   "cell_type": "code",
   "execution_count": 2144,
   "outputs": [],
   "source": [
    "torch.manual_seed(RANDOM_SEED)\n",
    "model = RNN(input_dim=len(TEXT.vocab),\n",
    "            embedding_dim=EMBEDDING_DIM,\n",
    "            hidden_dim=HIDDEN_DIM,\n",
    "            output_dim=NUM_CLASSES\n",
    ")\n",
    "\n",
    "model = model.to(DEVICE)\n",
    "optimizer = torch.optim.Adam(model.parameters(), lr=0.005)"
   ],
   "metadata": {
    "collapsed": false,
    "pycharm": {
     "name": "#%%\n"
    }
   }
  },
  {
   "cell_type": "markdown",
   "source": [
    "## Training"
   ],
   "metadata": {
    "collapsed": false
   }
  },
  {
   "cell_type": "code",
   "execution_count": 2145,
   "outputs": [],
   "source": [
    "def predict_label(model, data_loader, device):\n",
    "\n",
    "    with torch.no_grad():\n",
    "        Y_acctual, Y_preds = [], []\n",
    "        correct_pred, num_examples = 0, 0\n",
    "\n",
    "        for i, (features, targets) in enumerate(data_loader):\n",
    "\n",
    "            features = features.to(device)\n",
    "            targets = targets.float().to(device)\n",
    "\n",
    "            logits = model(features)\n",
    "            _, predicted_labels = torch.max(logits, 1)\n",
    "\n",
    "            num_examples += targets.size(0)\n",
    "            correct_pred += (predicted_labels == targets).sum()\n",
    "            Y_preds.append(predicted_labels.cpu().data.numpy())\n",
    "            Y_acctual.append(targets.cpu().data.numpy())\n",
    "    return  np.concatenate(Y_preds), np.concatenate(Y_acctual)\n"
   ],
   "metadata": {
    "collapsed": false,
    "pycharm": {
     "name": "#%%\n"
    }
   }
  },
  {
   "cell_type": "code",
   "execution_count": 2146,
   "outputs": [],
   "source": [
    "def compute_accuracy(model, data_loader, device):\n",
    "\n",
    "\n",
    "        correct_pred, num_examples = 0, 0\n",
    "\n",
    "        for i, (features, targets) in enumerate(data_loader):\n",
    "\n",
    "            features = features.to(device)\n",
    "            targets = targets.float().to(device)\n",
    "\n",
    "            logits = model(features)\n",
    "            _, predicted_labels = torch.max(logits, 1)\n",
    "\n",
    "            num_examples += targets.size(0)\n",
    "            correct_pred += (predicted_labels == targets).sum()\n",
    "        return correct_pred.float()/num_examples * 100"
   ],
   "metadata": {
    "collapsed": false,
    "pycharm": {
     "name": "#%%\n"
    }
   }
  },
  {
   "cell_type": "code",
   "execution_count": 2146,
   "outputs": [],
   "source": [],
   "metadata": {
    "collapsed": false,
    "pycharm": {
     "name": "#%%\n"
    }
   }
  },
  {
   "cell_type": "code",
   "execution_count": 2147,
   "outputs": [
    {
     "name": "stdout",
     "output_type": "stream",
     "text": [
      "Epoch: 001/040 | Batch 000/196 | Loss: 1.1732\n",
      "Epoch: 001/040 | Batch 050/196 | Loss: 0.8202\n",
      "Epoch: 001/040 | Batch 100/196 | Loss: 0.8223\n",
      "Epoch: 001/040 | Batch 150/196 | Loss: 0.7420\n",
      "training accuracy: 61.86%\n",
      "valid accuracy: 51.79%\n",
      "Time elapsed: 0.29 min\n",
      "Epoch: 002/040 | Batch 000/196 | Loss: 0.8559\n",
      "Epoch: 002/040 | Batch 050/196 | Loss: 0.8903\n",
      "Epoch: 002/040 | Batch 100/196 | Loss: 0.9465\n",
      "Epoch: 002/040 | Batch 150/196 | Loss: 0.9473\n",
      "training accuracy: 62.17%\n",
      "valid accuracy: 59.39%\n",
      "Time elapsed: 0.59 min\n",
      "Epoch: 003/040 | Batch 000/196 | Loss: 0.9223\n",
      "Epoch: 003/040 | Batch 050/196 | Loss: 0.8492\n",
      "Epoch: 003/040 | Batch 100/196 | Loss: 0.9650\n",
      "Epoch: 003/040 | Batch 150/196 | Loss: 0.9211\n",
      "training accuracy: 62.28%\n",
      "valid accuracy: 59.53%\n",
      "Time elapsed: 0.89 min\n",
      "Epoch: 004/040 | Batch 000/196 | Loss: 0.9755\n",
      "Epoch: 004/040 | Batch 050/196 | Loss: 0.8140\n",
      "Epoch: 004/040 | Batch 100/196 | Loss: 0.8718\n",
      "Epoch: 004/040 | Batch 150/196 | Loss: 0.7915\n",
      "training accuracy: 74.40%\n",
      "valid accuracy: 73.34%\n",
      "Time elapsed: 1.17 min\n",
      "Epoch: 005/040 | Batch 000/196 | Loss: 0.6441\n",
      "Epoch: 005/040 | Batch 050/196 | Loss: 0.6175\n",
      "Epoch: 005/040 | Batch 100/196 | Loss: 0.6627\n",
      "Epoch: 005/040 | Batch 150/196 | Loss: 0.3393\n",
      "training accuracy: 79.17%\n",
      "valid accuracy: 74.69%\n",
      "Time elapsed: 1.45 min\n",
      "Epoch: 006/040 | Batch 000/196 | Loss: 0.4706\n",
      "Epoch: 006/040 | Batch 050/196 | Loss: 0.5034\n",
      "Epoch: 006/040 | Batch 100/196 | Loss: 0.4839\n",
      "Epoch: 006/040 | Batch 150/196 | Loss: 0.5085\n",
      "training accuracy: 88.03%\n",
      "valid accuracy: 73.29%\n",
      "Time elapsed: 1.74 min\n",
      "Epoch: 007/040 | Batch 000/196 | Loss: 0.2677\n",
      "Epoch: 007/040 | Batch 050/196 | Loss: 0.2536\n",
      "Epoch: 007/040 | Batch 100/196 | Loss: 0.3029\n",
      "Epoch: 007/040 | Batch 150/196 | Loss: 0.3714\n",
      "training accuracy: 92.91%\n",
      "valid accuracy: 74.88%\n",
      "Time elapsed: 2.02 min\n",
      "Epoch: 008/040 | Batch 000/196 | Loss: 0.1071\n",
      "Epoch: 008/040 | Batch 050/196 | Loss: 0.1633\n",
      "Epoch: 008/040 | Batch 100/196 | Loss: 0.1244\n",
      "Epoch: 008/040 | Batch 150/196 | Loss: 0.3281\n",
      "training accuracy: 95.47%\n",
      "valid accuracy: 74.38%\n",
      "Time elapsed: 2.30 min\n",
      "Epoch: 009/040 | Batch 000/196 | Loss: 0.2095\n",
      "Epoch: 009/040 | Batch 050/196 | Loss: 0.2225\n",
      "Epoch: 009/040 | Batch 100/196 | Loss: 0.2134\n",
      "Epoch: 009/040 | Batch 150/196 | Loss: 0.1031\n",
      "training accuracy: 97.05%\n",
      "valid accuracy: 72.61%\n",
      "Time elapsed: 2.59 min\n",
      "Epoch: 010/040 | Batch 000/196 | Loss: 0.0453\n",
      "Epoch: 010/040 | Batch 050/196 | Loss: 0.0624\n",
      "Epoch: 010/040 | Batch 100/196 | Loss: 0.0948\n",
      "Epoch: 010/040 | Batch 150/196 | Loss: 0.0603\n",
      "training accuracy: 98.06%\n",
      "valid accuracy: 70.89%\n",
      "Time elapsed: 2.87 min\n",
      "Epoch: 011/040 | Batch 000/196 | Loss: 0.0676\n",
      "Epoch: 011/040 | Batch 050/196 | Loss: 0.0361\n",
      "Epoch: 011/040 | Batch 100/196 | Loss: 0.0563\n",
      "Epoch: 011/040 | Batch 150/196 | Loss: 0.1146\n",
      "training accuracy: 98.78%\n",
      "valid accuracy: 73.16%\n",
      "Time elapsed: 3.15 min\n",
      "Epoch: 012/040 | Batch 000/196 | Loss: 0.1068\n",
      "Epoch: 012/040 | Batch 050/196 | Loss: 0.0172\n",
      "Epoch: 012/040 | Batch 100/196 | Loss: 0.0441\n",
      "Epoch: 012/040 | Batch 150/196 | Loss: 0.0386\n",
      "training accuracy: 99.13%\n",
      "valid accuracy: 73.29%\n",
      "Time elapsed: 3.44 min\n",
      "Epoch: 013/040 | Batch 000/196 | Loss: 0.0340\n",
      "Epoch: 013/040 | Batch 050/196 | Loss: 0.0667\n",
      "Epoch: 013/040 | Batch 100/196 | Loss: 0.0135\n",
      "Epoch: 013/040 | Batch 150/196 | Loss: 0.0469\n",
      "training accuracy: 98.97%\n",
      "valid accuracy: 71.84%\n",
      "Time elapsed: 3.72 min\n",
      "Epoch: 014/040 | Batch 000/196 | Loss: 0.0877\n",
      "Epoch: 014/040 | Batch 050/196 | Loss: 0.0358\n",
      "Epoch: 014/040 | Batch 100/196 | Loss: 0.0207\n",
      "Epoch: 014/040 | Batch 150/196 | Loss: 0.0173\n",
      "training accuracy: 98.76%\n",
      "valid accuracy: 73.70%\n",
      "Time elapsed: 4.01 min\n",
      "Epoch: 015/040 | Batch 000/196 | Loss: 0.0183\n",
      "Epoch: 015/040 | Batch 050/196 | Loss: 0.0126\n",
      "Epoch: 015/040 | Batch 100/196 | Loss: 0.0493\n",
      "Epoch: 015/040 | Batch 150/196 | Loss: 0.1209\n",
      "training accuracy: 99.42%\n",
      "valid accuracy: 73.29%\n",
      "Time elapsed: 4.29 min\n",
      "Epoch: 016/040 | Batch 000/196 | Loss: 0.0100\n",
      "Epoch: 016/040 | Batch 050/196 | Loss: 0.0446\n",
      "Epoch: 016/040 | Batch 100/196 | Loss: 0.0049\n",
      "Epoch: 016/040 | Batch 150/196 | Loss: 0.0750\n",
      "training accuracy: 99.56%\n",
      "valid accuracy: 74.06%\n",
      "Time elapsed: 4.57 min\n",
      "Epoch: 017/040 | Batch 000/196 | Loss: 0.0431\n",
      "Epoch: 017/040 | Batch 050/196 | Loss: 0.0055\n",
      "Epoch: 017/040 | Batch 100/196 | Loss: 0.0108\n",
      "Epoch: 017/040 | Batch 150/196 | Loss: 0.0945\n",
      "training accuracy: 98.97%\n",
      "valid accuracy: 72.75%\n",
      "Time elapsed: 4.85 min\n",
      "Epoch: 018/040 | Batch 000/196 | Loss: 0.0091\n",
      "Epoch: 018/040 | Batch 050/196 | Loss: 0.0617\n",
      "Epoch: 018/040 | Batch 100/196 | Loss: 0.1420\n",
      "Epoch: 018/040 | Batch 150/196 | Loss: 0.0714\n",
      "training accuracy: 99.50%\n",
      "valid accuracy: 73.34%\n",
      "Time elapsed: 5.13 min\n",
      "Epoch: 019/040 | Batch 000/196 | Loss: 0.0050\n",
      "Epoch: 019/040 | Batch 050/196 | Loss: 0.0018\n",
      "Epoch: 019/040 | Batch 100/196 | Loss: 0.0159\n",
      "Epoch: 019/040 | Batch 150/196 | Loss: 0.0055\n",
      "training accuracy: 99.56%\n",
      "valid accuracy: 74.11%\n",
      "Time elapsed: 5.41 min\n",
      "Epoch: 020/040 | Batch 000/196 | Loss: 0.0079\n",
      "Epoch: 020/040 | Batch 050/196 | Loss: 0.0063\n",
      "Epoch: 020/040 | Batch 100/196 | Loss: 0.0021\n",
      "Epoch: 020/040 | Batch 150/196 | Loss: 0.0454\n",
      "training accuracy: 99.51%\n",
      "valid accuracy: 73.74%\n",
      "Time elapsed: 5.70 min\n",
      "Epoch: 021/040 | Batch 000/196 | Loss: 0.0009\n",
      "Epoch: 021/040 | Batch 050/196 | Loss: 0.0052\n",
      "Epoch: 021/040 | Batch 100/196 | Loss: 0.0039\n",
      "Epoch: 021/040 | Batch 150/196 | Loss: 0.0124\n",
      "training accuracy: 99.53%\n",
      "valid accuracy: 73.92%\n",
      "Time elapsed: 5.99 min\n",
      "Epoch: 022/040 | Batch 000/196 | Loss: 0.0190\n",
      "Epoch: 022/040 | Batch 050/196 | Loss: 0.0156\n",
      "Epoch: 022/040 | Batch 100/196 | Loss: 0.0098\n",
      "Epoch: 022/040 | Batch 150/196 | Loss: 0.0069\n",
      "training accuracy: 99.56%\n",
      "valid accuracy: 73.38%\n",
      "Time elapsed: 6.27 min\n",
      "Epoch: 023/040 | Batch 000/196 | Loss: 0.0209\n",
      "Epoch: 023/040 | Batch 050/196 | Loss: 0.0055\n",
      "Epoch: 023/040 | Batch 100/196 | Loss: 0.0057\n",
      "Epoch: 023/040 | Batch 150/196 | Loss: 0.0108\n",
      "training accuracy: 99.62%\n",
      "valid accuracy: 72.20%\n",
      "Time elapsed: 6.55 min\n",
      "Epoch: 024/040 | Batch 000/196 | Loss: 0.0163\n",
      "Epoch: 024/040 | Batch 050/196 | Loss: 0.0016\n",
      "Epoch: 024/040 | Batch 100/196 | Loss: 0.0552\n",
      "Epoch: 024/040 | Batch 150/196 | Loss: 0.0016\n",
      "training accuracy: 99.62%\n",
      "valid accuracy: 71.89%\n",
      "Time elapsed: 6.84 min\n",
      "Epoch: 025/040 | Batch 000/196 | Loss: 0.0034\n",
      "Epoch: 025/040 | Batch 050/196 | Loss: 0.0065\n",
      "Epoch: 025/040 | Batch 100/196 | Loss: 0.0076\n",
      "Epoch: 025/040 | Batch 150/196 | Loss: 0.0155\n",
      "training accuracy: 99.59%\n",
      "valid accuracy: 72.66%\n",
      "Time elapsed: 7.15 min\n",
      "Epoch: 026/040 | Batch 000/196 | Loss: 0.0213\n",
      "Epoch: 026/040 | Batch 050/196 | Loss: 0.0068\n",
      "Epoch: 026/040 | Batch 100/196 | Loss: 0.0325\n",
      "Epoch: 026/040 | Batch 150/196 | Loss: 0.0067\n",
      "training accuracy: 99.31%\n",
      "valid accuracy: 73.65%\n",
      "Time elapsed: 7.44 min\n",
      "Epoch: 027/040 | Batch 000/196 | Loss: 0.2062\n",
      "Epoch: 027/040 | Batch 050/196 | Loss: 0.0022\n",
      "Epoch: 027/040 | Batch 100/196 | Loss: 0.0020\n",
      "Epoch: 027/040 | Batch 150/196 | Loss: 0.0698\n",
      "training accuracy: 99.66%\n",
      "valid accuracy: 72.66%\n",
      "Time elapsed: 7.73 min\n",
      "Epoch: 028/040 | Batch 000/196 | Loss: 0.0602\n",
      "Epoch: 028/040 | Batch 050/196 | Loss: 0.0041\n",
      "Epoch: 028/040 | Batch 100/196 | Loss: 0.0060\n",
      "Epoch: 028/040 | Batch 150/196 | Loss: 0.0110\n",
      "training accuracy: 99.85%\n",
      "valid accuracy: 74.33%\n",
      "Time elapsed: 8.03 min\n",
      "Epoch: 029/040 | Batch 000/196 | Loss: 0.0022\n",
      "Epoch: 029/040 | Batch 050/196 | Loss: 0.0031\n",
      "Epoch: 029/040 | Batch 100/196 | Loss: 0.0007\n",
      "Epoch: 029/040 | Batch 150/196 | Loss: 0.0026\n",
      "training accuracy: 99.83%\n",
      "valid accuracy: 73.47%\n",
      "Time elapsed: 8.32 min\n",
      "Epoch: 030/040 | Batch 000/196 | Loss: 0.0006\n",
      "Epoch: 030/040 | Batch 050/196 | Loss: 0.0057\n",
      "Epoch: 030/040 | Batch 100/196 | Loss: 0.0018\n",
      "Epoch: 030/040 | Batch 150/196 | Loss: 0.0009\n",
      "training accuracy: 99.74%\n",
      "valid accuracy: 72.75%\n",
      "Time elapsed: 8.62 min\n",
      "Epoch: 031/040 | Batch 000/196 | Loss: 0.0018\n",
      "Epoch: 031/040 | Batch 050/196 | Loss: 0.0025\n",
      "Epoch: 031/040 | Batch 100/196 | Loss: 0.0071\n",
      "Epoch: 031/040 | Batch 150/196 | Loss: 0.0171\n",
      "training accuracy: 99.74%\n",
      "valid accuracy: 72.57%\n",
      "Time elapsed: 8.90 min\n",
      "Epoch: 032/040 | Batch 000/196 | Loss: 0.0094\n",
      "Epoch: 032/040 | Batch 050/196 | Loss: 0.0007\n",
      "Epoch: 032/040 | Batch 100/196 | Loss: 0.0068\n",
      "Epoch: 032/040 | Batch 150/196 | Loss: 0.0073\n",
      "training accuracy: 99.42%\n",
      "valid accuracy: 72.66%\n",
      "Time elapsed: 9.18 min\n",
      "Epoch: 033/040 | Batch 000/196 | Loss: 0.0036\n",
      "Epoch: 033/040 | Batch 050/196 | Loss: 0.0014\n",
      "Epoch: 033/040 | Batch 100/196 | Loss: 0.0036\n",
      "Epoch: 033/040 | Batch 150/196 | Loss: 0.0075\n",
      "training accuracy: 99.74%\n",
      "valid accuracy: 73.02%\n",
      "Time elapsed: 9.46 min\n",
      "Epoch: 034/040 | Batch 000/196 | Loss: 0.0010\n",
      "Epoch: 034/040 | Batch 050/196 | Loss: 0.0019\n",
      "Epoch: 034/040 | Batch 100/196 | Loss: 0.0024\n",
      "Epoch: 034/040 | Batch 150/196 | Loss: 0.0982\n",
      "training accuracy: 99.58%\n",
      "valid accuracy: 72.93%\n",
      "Time elapsed: 9.75 min\n",
      "Epoch: 035/040 | Batch 000/196 | Loss: 0.0066\n",
      "Epoch: 035/040 | Batch 050/196 | Loss: 0.1115\n",
      "Epoch: 035/040 | Batch 100/196 | Loss: 0.0311\n",
      "Epoch: 035/040 | Batch 150/196 | Loss: 0.0051\n",
      "training accuracy: 99.47%\n",
      "valid accuracy: 72.88%\n",
      "Time elapsed: 10.04 min\n",
      "Epoch: 036/040 | Batch 000/196 | Loss: 0.0045\n",
      "Epoch: 036/040 | Batch 050/196 | Loss: 0.0412\n",
      "Epoch: 036/040 | Batch 100/196 | Loss: 0.0008\n",
      "Epoch: 036/040 | Batch 150/196 | Loss: 0.0600\n",
      "training accuracy: 99.54%\n",
      "valid accuracy: 73.61%\n",
      "Time elapsed: 10.33 min\n",
      "Epoch: 037/040 | Batch 000/196 | Loss: 0.0012\n",
      "Epoch: 037/040 | Batch 050/196 | Loss: 0.0021\n",
      "Epoch: 037/040 | Batch 100/196 | Loss: 0.0004\n",
      "Epoch: 037/040 | Batch 150/196 | Loss: 0.0073\n",
      "training accuracy: 99.79%\n",
      "valid accuracy: 74.33%\n",
      "Time elapsed: 10.62 min\n",
      "Epoch: 038/040 | Batch 000/196 | Loss: 0.0151\n",
      "Epoch: 038/040 | Batch 050/196 | Loss: 0.0036\n",
      "Epoch: 038/040 | Batch 100/196 | Loss: 0.0013\n",
      "Epoch: 038/040 | Batch 150/196 | Loss: 0.0031\n",
      "training accuracy: 99.80%\n",
      "valid accuracy: 73.79%\n",
      "Time elapsed: 10.89 min\n",
      "Epoch: 039/040 | Batch 000/196 | Loss: 0.0006\n",
      "Epoch: 039/040 | Batch 050/196 | Loss: 0.0048\n",
      "Epoch: 039/040 | Batch 100/196 | Loss: 0.0027\n",
      "Epoch: 039/040 | Batch 150/196 | Loss: 0.0071\n",
      "training accuracy: 99.82%\n",
      "valid accuracy: 73.70%\n",
      "Time elapsed: 11.18 min\n",
      "Epoch: 040/040 | Batch 000/196 | Loss: 0.0019\n",
      "Epoch: 040/040 | Batch 050/196 | Loss: 0.0002\n",
      "Epoch: 040/040 | Batch 100/196 | Loss: 0.0209\n",
      "Epoch: 040/040 | Batch 150/196 | Loss: 0.0410\n",
      "training accuracy: 99.74%\n",
      "valid accuracy: 73.43%\n",
      "Time elapsed: 11.47 min\n",
      "Total Training Time: 11.47 min\n",
      "Test accuracy: 72.49%\n"
     ]
    }
   ],
   "source": [
    "start_time = time.time()\n",
    "\n",
    "train_accuracy = []\n",
    "valid_accuracy = []\n",
    "\n",
    "for epoch in range(NUM_EPOCHS):\n",
    "    model.train()\n",
    "    loss_func = torch.nn.CrossEntropyLoss()\n",
    "    for batch_idx, batch_data in enumerate(train_loader):\n",
    "\n",
    "        text = batch_data.TEXT_COLUMN_NAME.to(DEVICE)\n",
    "        labels = batch_data.LABEL_COLUMN_NAME.to(DEVICE)\n",
    "\n",
    "        ### FORWARD AND BACK PROP\n",
    "        logits = model(text).squeeze(1)\n",
    "        loss = loss_func(logits, labels)\n",
    "        optimizer.zero_grad()\n",
    "\n",
    "        loss.backward()\n",
    "\n",
    "        ### UPDATE MODEL PARAMETERS\n",
    "        optimizer.step()\n",
    "\n",
    "        ### LOGGING\n",
    "        if not batch_idx % 50:\n",
    "\n",
    "            print (f'Epoch: {epoch+1:03d}/{NUM_EPOCHS:03d} | '\n",
    "                   f'Batch {batch_idx:03d}/{len(train_loader):03d} | '\n",
    "                   f'Loss: {loss:.4f}')\n",
    "\n",
    "    with torch.set_grad_enabled(False):\n",
    "        train_accuracy.append(float(f'{compute_accuracy(model, train_loader, DEVICE):.2f}'))\n",
    "        valid_accuracy.append(float(f'{compute_accuracy(model, valid_loader, DEVICE):.2f}'))\n",
    "        print(f'training accuracy: '\n",
    "              f'{compute_accuracy(model, train_loader, DEVICE):.2f}%'\n",
    "              f'\\nvalid accuracy: '\n",
    "              f'{compute_accuracy(model, valid_loader, DEVICE):.2f}%')\n",
    "    print(f'Time elapsed: {(time.time() - start_time)/60:.2f} min')\n",
    "\n",
    "print(f'Total Training Time: {(time.time() - start_time)/60:.2f} min')\n",
    "print(f'Test accuracy: {compute_accuracy(model, test_loader, DEVICE):.2f}%')\n"
   ],
   "metadata": {
    "collapsed": false,
    "pycharm": {
     "name": "#%%\n"
    }
   }
  },
  {
   "cell_type": "code",
   "execution_count": 2148,
   "outputs": [],
   "source": [
    "\n",
    "\n",
    "nlp = spacy.blank(\"en\")\n",
    "\n",
    "def predict_sentiment(model, sentence):\n",
    "\n",
    "    model.eval()\n",
    "    tokenized = [tok.text for tok in nlp.tokenizer(sentence)]\n",
    "    indexed = [TEXT.vocab.stoi[t] for t in tokenized]\n",
    "    length = [len(indexed)]\n",
    "    tensor = torch.LongTensor(indexed).to(DEVICE)\n",
    "    tensor = tensor.unsqueeze(0)\n",
    "    length_tensor = torch.LongTensor(length)\n",
    "    prediction = torch.nn.functional.softmax(model(tensor), dim=1)\n",
    "    return prediction[0][0].item()"
   ],
   "metadata": {
    "collapsed": false,
    "pycharm": {
     "name": "#%%\n"
    }
   }
  },
  {
   "cell_type": "code",
   "execution_count": 2149,
   "outputs": [
    {
     "data": {
      "text/plain": "<Figure size 640x480 with 1 Axes>",
      "image/png": "[encoded data removed]"
     },
     "metadata": {},
     "output_type": "display_data"
    }
   ],
   "source": [
    "plt.plot(train_accuracy, label = 'train')\n",
    "plt.plot(valid_accuracy, label = 'valid')\n",
    "plt.legend()\n",
    "plt.xlabel('Epoch')\n",
    "plt.ylabel('Accuracy')\n",
    "plt.savefig('accuracy.png')"
   ],
   "metadata": {
    "collapsed": false,
    "pycharm": {
     "name": "#%%\n"
    }
   }
  },
  {
   "cell_type": "code",
   "execution_count": 2150,
   "outputs": [
    {
     "name": "stdout",
     "output_type": "stream",
     "text": [
      "Probability positive:\n"
     ]
    },
    {
     "data": {
      "text/plain": "0.6582369804382324"
     },
     "execution_count": 2150,
     "metadata": {},
     "output_type": "execute_result"
    }
   ],
   "source": [
    "print('Probability positive:')\n",
    "predict_sentiment(model, \"This is such an awesome movie, I really love it!\")\n"
   ],
   "metadata": {
    "collapsed": false,
    "pycharm": {
     "name": "#%%\n"
    }
   }
  },
  {
   "cell_type": "code",
   "execution_count": 2151,
   "outputs": [
    {
     "name": "stdout",
     "output_type": "stream",
     "text": [
      "Probability negative:\n"
     ]
    },
    {
     "data": {
      "text/plain": "0.5975081026554108"
     },
     "execution_count": 2151,
     "metadata": {},
     "output_type": "execute_result"
    }
   ],
   "source": [
    "print('Probability negative:')\n",
    "1-predict_sentiment(model, \"Whenever I go to a place that doesn’t take Apple Pay (doesn’t happen too often), it’s such a drag. Between ‘contactless Covid’ habits and my getting the Apple Card, I’ve gotten so used to Apple Pay that I get seriously annoyed when a store doesn’t take it. It feels like a shock, it’s crazy how quickly it took over my shopping routine! I’ve officially been brainwashed by Apple because now it feels so inconvenient to even carry a physical card in my pocket\")"
   ],
   "metadata": {
    "collapsed": false,
    "pycharm": {
     "name": "#%%\n"
    }
   }
  },
  {
   "cell_type": "code",
   "execution_count": 2152,
   "outputs": [
    {
     "name": "stdout",
     "output_type": "stream",
     "text": [
      "[1 0 0 ... 2 1 2] [1. 0. 1. ... 2. 1. 1.]\n"
     ]
    }
   ],
   "source": [
    "predict_label, real_label= predict_label(model, test_loader, DEVICE)\n",
    "print(predict_label, real_label)"
   ],
   "metadata": {
    "collapsed": false,
    "pycharm": {
     "name": "#%%\n"
    }
   }
  },
  {
   "cell_type": "code",
   "execution_count": 2153,
   "outputs": [
    {
     "data": {
      "text/plain": "array([[1999,  234,   90],\n       [ 270,  514,  121],\n       [ 116,  182,  156]], dtype=int64)"
     },
     "execution_count": 2153,
     "metadata": {},
     "output_type": "execute_result"
    }
   ],
   "source": [
    "#confuion matrix\n",
    "\n",
    "cf_matrix = confusion_matrix(real_label, predict_label)\n",
    "cf_matrix"
   ],
   "metadata": {
    "collapsed": false,
    "pycharm": {
     "name": "#%%%\n"
    }
   }
  },
  {
   "cell_type": "code",
   "execution_count": 2154,
   "outputs": [
    {
     "data": {
      "text/plain": "<Figure size 640x480 with 2 Axes>",
      "image/png": "[encoded data removed]"
     },
     "metadata": {},
     "output_type": "display_data"
    }
   ],
   "source": [
    "ax = sns.heatmap(cf_matrix, annot=True, cmap='Blues', fmt = '.20g')\n",
    "\n",
    "ax.set_title('Seaborn Confusion Matrix with labels\\n\\n');\n",
    "ax.set_xlabel('Predicted Values')\n",
    "ax.set_ylabel('Actual Values ');\n",
    "\n",
    "## Ticket labels - List must be in alphabetical order\n",
    "ax.xaxis.set_ticklabels(['2','1','0'])\n",
    "ax.yaxis.set_ticklabels(['2','1','0'])\n",
    "\n",
    "plt.savefig('confusion_matrix.png')\n",
    "## Display the visualization of the Confusion Matrix.\n",
    "plt.show()\n",
    "\n"
   ],
   "metadata": {
    "collapsed": false,
    "pycharm": {
     "name": "#%%\n"
    }
   }
  }
 ],
 "metadata": {
  "kernelspec": {
   "display_name": "Python 3",
   "language": "python",
   "name": "python3"
  },
  "language_info": {
   "codemirror_mode": {
    "name": "ipython",
    "version": 2
   },
   "file_extension": ".py",
   "mimetype": "text/x-python",
   "name": "python",
   "nbconvert_exporter": "python",
   "pygments_lexer": "ipython2",
   "version": "2.7.6"
  }
 },
 "nbformat": 4,
 "nbformat_minor": 0
}