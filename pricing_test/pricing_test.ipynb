{
 "cells": [
  {
   "cell_type": "markdown",
   "metadata": {
    "collapsed": true,
    "pycharm": {
     "name": "#%% md\n"
    }
   },
   "source": [
    "# Goal\n",
    "\n",
    "Pricing optimization is, non surprisingly, another area where data science can provide huge\n",
    "value.\n",
    "\n",
    "The goal here is to evaluate whether a pricing test running on the site has been successful.\n",
    "As always, you should focus on user segmentation and provide insights about segments\n",
    "who behave differently as well as any other insights you might find\n",
    "\n",
    "# Challenge Description\n",
    "\n",
    "Company XYZ sells a software for $39. Since revenue has been flat for some time, the VP of\n",
    "Product has decided to run a test increasing the price. She hopes that this would increase\n",
    "revenue. In the experiment, 66% of the users have seen the old price ($39), while a random\n",
    "sample of 33% users a higher price ($59).\n",
    "\n",
    "The test has been running for some time and the VP of Product is interested in understanding\n",
    "how it went and whether it would make sense to increase the price for all the users.\n",
    "\n",
    "Especially he asked you the following questions:\n",
    "\n",
    "* Should the company sell its software for $39 or $59?\n",
    "* The VP of Product is interested in having a holistic view into user behavior, especially\n",
    "focusing on actionable insights that might increase conversion rate. What are your main\n",
    "findings looking at the data?\n",
    "* [Bonus] The VP of Product feels that the test has been running for too long and he should\n",
    "have been able to get statistically significant results in a shorter time. Do you agree with\n",
    "her intuition? After how many days you would have stopped the test? Please, explain\n",
    "why\n",
    "\n",
    "# Data\n",
    "\n",
    "## test_results\n",
    "### Columns:\n",
    "* user_id : the Id of the user. Can be joined to user_id in user_table\n",
    "* timestamp : the date and time when the user hit for the first time company XYZ webpage. It is in user local time\n",
    "* source : marketing channel that led to the user coming to the site. It can be:\n",
    "  - ads-[\"google\", \"facebook\", \"bing\", \"yahoo\", \"other\"]. That is, user coming from\n",
    "  - google ads, yahoo ads, etc.\n",
    "  - seo - [\"google\", \"facebook\", \"bing\", \"yahoo\", \"other\"]. That is, user coming from\n",
    "  - google search, yahoo, facebook, etc.\n",
    "  - friend_referral : user coming from a referral link of another user\n",
    "* direct_traffic: user coming by directly typing the address of the site on the browser\n",
    "* device : user device. Can be mobile or web\n",
    "* operative_system : user operative system. Can be: \"windows\", \"linux\", \"mac\" for web,\n",
    "and \"android\", \"iOS\" for mobile. \tOther\t if it is none of the above\n",
    "* test: whether the user was in the test (i.e. 1 -> higher price) or in control (0 -> old\u0016lower\n",
    "price)\n",
    "* price : the price the user sees. It should match test\n",
    "* converted : whether the user converted (i.e. 1 -> bought the software) or not (0 -> left\n",
    "the site without buying it)\n",
    "\n",
    "\n",
    "## user_table\n",
    "\n",
    "### Columns:\n",
    "\n",
    "* user_id : the Id of the user. Can be joined to user_id in test_results table\n",
    "* city : the city where the user is located. Comes from the user ip address\n",
    "* country : in which country the city is located\n",
    "* lat : city latitude - should match user city\n",
    "* long : city longitude - should match user city"
   ]
  },
  {
   "cell_type": "code",
   "execution_count": 139,
   "outputs": [],
   "source": [
    "import pandas as pd\n",
    "import re\n",
    "import matplotlib.pyplot as plt\n",
    "import seaborn as sns\n",
    "from scipy import stats"
   ],
   "metadata": {
    "collapsed": false,
    "pycharm": {
     "name": "#%%\n"
    }
   }
  },
  {
   "cell_type": "code",
   "execution_count": 89,
   "outputs": [],
   "source": [
    "# load the data\n",
    "user_table = pd.read_csv('user_table.csv')\n",
    "test_result = pd.read_csv('test_results.csv')"
   ],
   "metadata": {
    "collapsed": false,
    "pycharm": {
     "name": "#%%\n"
    }
   }
  },
  {
   "cell_type": "code",
   "execution_count": 47,
   "outputs": [
    {
     "name": "stdout",
     "output_type": "stream",
     "text": [
      "<class 'pandas.core.frame.DataFrame'>\n",
      "RangeIndex: 275616 entries, 0 to 275615\n",
      "Data columns (total 5 columns):\n",
      " #   Column   Non-Null Count   Dtype  \n",
      "---  ------   --------------   -----  \n",
      " 0   user_id  275616 non-null  int64  \n",
      " 1   city     275616 non-null  object \n",
      " 2   country  275616 non-null  object \n",
      " 3   lat      275616 non-null  float64\n",
      " 4   long     275616 non-null  float64\n",
      "dtypes: float64(2), int64(1), object(2)\n",
      "memory usage: 10.5+ MB\n",
      "the number of unique user: 275616\n",
      "the number of country: 1\n",
      "the number of city: 923\n"
     ]
    }
   ],
   "source": [
    "# no null data, no duplicate data for user table\n",
    "user_table.info()\n",
    "print('the number of unique user:', len(user_table['user_id'].unique()))\n",
    "print('the number of country:', len(user_table['country'].unique()))\n",
    "print('the number of city:', len(user_table['city'].unique()))\n"
   ],
   "metadata": {
    "collapsed": false,
    "pycharm": {
     "name": "#%%\n"
    }
   }
  },
  {
   "cell_type": "code",
   "execution_count": 50,
   "outputs": [
    {
     "data": {
      "text/plain": "   user_id         city country    lat    long\n0   510335      Peabody     USA  42.53  -70.97\n1    89568         Reno     USA  39.54 -119.82\n2   434134       Rialto     USA  34.11 -117.39\n3   289769  Carson City     USA  39.15 -119.74\n4   939586      Chicago     USA  41.84  -87.68",
      "text/html": "<div>\n<style scoped>\n    .dataframe tbody tr th:only-of-type {\n        vertical-align: middle;\n    }\n\n    .dataframe tbody tr th {\n        vertical-align: top;\n    }\n\n    .dataframe thead th {\n        text-align: right;\n    }\n</style>\n<table border=\"1\" class=\"dataframe\">\n  <thead>\n    <tr style=\"text-align: right;\">\n      <th></th>\n      <th>user_id</th>\n      <th>city</th>\n      <th>country</th>\n      <th>lat</th>\n      <th>long</th>\n    </tr>\n  </thead>\n  <tbody>\n    <tr>\n      <th>0</th>\n      <td>510335</td>\n      <td>Peabody</td>\n      <td>USA</td>\n      <td>42.53</td>\n      <td>-70.97</td>\n    </tr>\n    <tr>\n      <th>1</th>\n      <td>89568</td>\n      <td>Reno</td>\n      <td>USA</td>\n      <td>39.54</td>\n      <td>-119.82</td>\n    </tr>\n    <tr>\n      <th>2</th>\n      <td>434134</td>\n      <td>Rialto</td>\n      <td>USA</td>\n      <td>34.11</td>\n      <td>-117.39</td>\n    </tr>\n    <tr>\n      <th>3</th>\n      <td>289769</td>\n      <td>Carson City</td>\n      <td>USA</td>\n      <td>39.15</td>\n      <td>-119.74</td>\n    </tr>\n    <tr>\n      <th>4</th>\n      <td>939586</td>\n      <td>Chicago</td>\n      <td>USA</td>\n      <td>41.84</td>\n      <td>-87.68</td>\n    </tr>\n  </tbody>\n</table>\n</div>"
     },
     "execution_count": 50,
     "metadata": {},
     "output_type": "execute_result"
    }
   ],
   "source": [
    "# look at the data\n",
    "user_table.head()"
   ],
   "metadata": {
    "collapsed": false,
    "pycharm": {
     "name": "#%%\n"
    }
   }
  },
  {
   "cell_type": "code",
   "execution_count": 51,
   "outputs": [
    {
     "data": {
      "text/plain": "             user_id            lat           long\ncount  275616.000000  275616.000000  275616.000000\nmean   499245.801521      37.111680     -93.981772\nstd    288533.458944       5.209627      18.086486\nmin         3.000000      19.700000    -157.800000\n25%    249544.500000      33.660000    -112.200000\n50%    498861.000000      37.740000     -88.930000\n75%    748856.500000      40.700000     -78.910000\nmax    999999.000000      61.180000      30.310000",
      "text/html": "<div>\n<style scoped>\n    .dataframe tbody tr th:only-of-type {\n        vertical-align: middle;\n    }\n\n    .dataframe tbody tr th {\n        vertical-align: top;\n    }\n\n    .dataframe thead th {\n        text-align: right;\n    }\n</style>\n<table border=\"1\" class=\"dataframe\">\n  <thead>\n    <tr style=\"text-align: right;\">\n      <th></th>\n      <th>user_id</th>\n      <th>lat</th>\n      <th>long</th>\n    </tr>\n  </thead>\n  <tbody>\n    <tr>\n      <th>count</th>\n      <td>275616.000000</td>\n      <td>275616.000000</td>\n      <td>275616.000000</td>\n    </tr>\n    <tr>\n      <th>mean</th>\n      <td>499245.801521</td>\n      <td>37.111680</td>\n      <td>-93.981772</td>\n    </tr>\n    <tr>\n      <th>std</th>\n      <td>288533.458944</td>\n      <td>5.209627</td>\n      <td>18.086486</td>\n    </tr>\n    <tr>\n      <th>min</th>\n      <td>3.000000</td>\n      <td>19.700000</td>\n      <td>-157.800000</td>\n    </tr>\n    <tr>\n      <th>25%</th>\n      <td>249544.500000</td>\n      <td>33.660000</td>\n      <td>-112.200000</td>\n    </tr>\n    <tr>\n      <th>50%</th>\n      <td>498861.000000</td>\n      <td>37.740000</td>\n      <td>-88.930000</td>\n    </tr>\n    <tr>\n      <th>75%</th>\n      <td>748856.500000</td>\n      <td>40.700000</td>\n      <td>-78.910000</td>\n    </tr>\n    <tr>\n      <th>max</th>\n      <td>999999.000000</td>\n      <td>61.180000</td>\n      <td>30.310000</td>\n    </tr>\n  </tbody>\n</table>\n</div>"
     },
     "execution_count": 51,
     "metadata": {},
     "output_type": "execute_result"
    }
   ],
   "source": [
    "user_table.describe()"
   ],
   "metadata": {
    "collapsed": false,
    "pycharm": {
     "name": "#%%\n"
    }
   }
  },
  {
   "cell_type": "code",
   "execution_count": 18,
   "outputs": [
    {
     "name": "stdout",
     "output_type": "stream",
     "text": [
      "<class 'pandas.core.frame.DataFrame'>\n",
      "RangeIndex: 316800 entries, 0 to 316799\n",
      "Data columns (total 8 columns):\n",
      " #   Column            Non-Null Count   Dtype \n",
      "---  ------            --------------   ----- \n",
      " 0   user_id           316800 non-null  int64 \n",
      " 1   timestamp         316800 non-null  object\n",
      " 2   source            316800 non-null  object\n",
      " 3   device            316800 non-null  object\n",
      " 4   operative_system  316800 non-null  object\n",
      " 5   test              316800 non-null  int64 \n",
      " 6   price             316800 non-null  int64 \n",
      " 7   converted         316800 non-null  int64 \n",
      "dtypes: int64(4), object(4)\n",
      "memory usage: 19.3+ MB\n"
     ]
    },
    {
     "data": {
      "text/plain": "   user_id            timestamp          source  device operative_system  \\\n0   604839  2015-05-08 03:38:34    ads_facebook  mobile              iOS   \n1   624057  2015-05-10 21:08:46      seo-google  mobile          android   \n2   317970  2015-04-04 15:01:23        ads-bing  mobile          android   \n3   685636  2015-05-07 07:26:01  direct_traffic  mobile              iOS   \n4   820854  2015-05-24 11:04:40    ads_facebook     web              mac   \n\n   test  price  converted  \n0     0     39          0  \n1     0     39          0  \n2     0     39          0  \n3     1     59          0  \n4     0     39          0  ",
      "text/html": "<div>\n<style scoped>\n    .dataframe tbody tr th:only-of-type {\n        vertical-align: middle;\n    }\n\n    .dataframe tbody tr th {\n        vertical-align: top;\n    }\n\n    .dataframe thead th {\n        text-align: right;\n    }\n</style>\n<table border=\"1\" class=\"dataframe\">\n  <thead>\n    <tr style=\"text-align: right;\">\n      <th></th>\n      <th>user_id</th>\n      <th>timestamp</th>\n      <th>source</th>\n      <th>device</th>\n      <th>operative_system</th>\n      <th>test</th>\n      <th>price</th>\n      <th>converted</th>\n    </tr>\n  </thead>\n  <tbody>\n    <tr>\n      <th>0</th>\n      <td>604839</td>\n      <td>2015-05-08 03:38:34</td>\n      <td>ads_facebook</td>\n      <td>mobile</td>\n      <td>iOS</td>\n      <td>0</td>\n      <td>39</td>\n      <td>0</td>\n    </tr>\n    <tr>\n      <th>1</th>\n      <td>624057</td>\n      <td>2015-05-10 21:08:46</td>\n      <td>seo-google</td>\n      <td>mobile</td>\n      <td>android</td>\n      <td>0</td>\n      <td>39</td>\n      <td>0</td>\n    </tr>\n    <tr>\n      <th>2</th>\n      <td>317970</td>\n      <td>2015-04-04 15:01:23</td>\n      <td>ads-bing</td>\n      <td>mobile</td>\n      <td>android</td>\n      <td>0</td>\n      <td>39</td>\n      <td>0</td>\n    </tr>\n    <tr>\n      <th>3</th>\n      <td>685636</td>\n      <td>2015-05-07 07:26:01</td>\n      <td>direct_traffic</td>\n      <td>mobile</td>\n      <td>iOS</td>\n      <td>1</td>\n      <td>59</td>\n      <td>0</td>\n    </tr>\n    <tr>\n      <th>4</th>\n      <td>820854</td>\n      <td>2015-05-24 11:04:40</td>\n      <td>ads_facebook</td>\n      <td>web</td>\n      <td>mac</td>\n      <td>0</td>\n      <td>39</td>\n      <td>0</td>\n    </tr>\n  </tbody>\n</table>\n</div>"
     },
     "execution_count": 18,
     "metadata": {},
     "output_type": "execute_result"
    }
   ],
   "source": [
    "test_result.info()\n",
    "test_result.head()\n"
   ],
   "metadata": {
    "collapsed": false,
    "pycharm": {
     "name": "#%%\n"
    }
   }
  },
  {
   "cell_type": "code",
   "execution_count": 78,
   "outputs": [
    {
     "data": {
      "text/plain": "        user_id            timestamp           source  device  \\\n278      287830  2015-04-04 02:23:60   direct_traffic     web   \n330      765772  2015-03-20 12:20:60        ads-yahoo     web   \n361      842974  2015-04-10 07:42:60       ads-google  mobile   \n383      652221  2015-03-10 12:31:60  friend_referral  mobile   \n422      890062  2015-04-17 12:10:60         ads-bing  mobile   \n...         ...                  ...              ...     ...   \n316564   497256  2015-03-08 19:06:60   direct_traffic  mobile   \n316566   999430  2015-03-21 16:27:60  friend_referral     web   \n316606   256920  2015-05-29 14:34:60        ads_other  mobile   \n316709   177121  2015-03-20 18:33:60     ads_facebook  mobile   \n316756   546292  2015-03-06 22:33:60        seo-yahoo  mobile   \n\n       operative_system  test  price  converted  \n278             windows     1     59          0  \n330                 mac     0     39          0  \n361                 iOS     1     59          0  \n383             android     0     39          0  \n422               other     0     39          0  \n...                 ...   ...    ...        ...  \n316564              iOS     0     39          0  \n316566          windows     0     39          0  \n316606              iOS     1     59          0  \n316709              iOS     0     39          0  \n316756              iOS     1     59          0  \n\n[5165 rows x 8 columns]",
      "text/html": "<div>\n<style scoped>\n    .dataframe tbody tr th:only-of-type {\n        vertical-align: middle;\n    }\n\n    .dataframe tbody tr th {\n        vertical-align: top;\n    }\n\n    .dataframe thead th {\n        text-align: right;\n    }\n</style>\n<table border=\"1\" class=\"dataframe\">\n  <thead>\n    <tr style=\"text-align: right;\">\n      <th></th>\n      <th>user_id</th>\n      <th>timestamp</th>\n      <th>source</th>\n      <th>device</th>\n      <th>operative_system</th>\n      <th>test</th>\n      <th>price</th>\n      <th>converted</th>\n    </tr>\n  </thead>\n  <tbody>\n    <tr>\n      <th>278</th>\n      <td>287830</td>\n      <td>2015-04-04 02:23:60</td>\n      <td>direct_traffic</td>\n      <td>web</td>\n      <td>windows</td>\n      <td>1</td>\n      <td>59</td>\n      <td>0</td>\n    </tr>\n    <tr>\n      <th>330</th>\n      <td>765772</td>\n      <td>2015-03-20 12:20:60</td>\n      <td>ads-yahoo</td>\n      <td>web</td>\n      <td>mac</td>\n      <td>0</td>\n      <td>39</td>\n      <td>0</td>\n    </tr>\n    <tr>\n      <th>361</th>\n      <td>842974</td>\n      <td>2015-04-10 07:42:60</td>\n      <td>ads-google</td>\n      <td>mobile</td>\n      <td>iOS</td>\n      <td>1</td>\n      <td>59</td>\n      <td>0</td>\n    </tr>\n    <tr>\n      <th>383</th>\n      <td>652221</td>\n      <td>2015-03-10 12:31:60</td>\n      <td>friend_referral</td>\n      <td>mobile</td>\n      <td>android</td>\n      <td>0</td>\n      <td>39</td>\n      <td>0</td>\n    </tr>\n    <tr>\n      <th>422</th>\n      <td>890062</td>\n      <td>2015-04-17 12:10:60</td>\n      <td>ads-bing</td>\n      <td>mobile</td>\n      <td>other</td>\n      <td>0</td>\n      <td>39</td>\n      <td>0</td>\n    </tr>\n    <tr>\n      <th>...</th>\n      <td>...</td>\n      <td>...</td>\n      <td>...</td>\n      <td>...</td>\n      <td>...</td>\n      <td>...</td>\n      <td>...</td>\n      <td>...</td>\n    </tr>\n    <tr>\n      <th>316564</th>\n      <td>497256</td>\n      <td>2015-03-08 19:06:60</td>\n      <td>direct_traffic</td>\n      <td>mobile</td>\n      <td>iOS</td>\n      <td>0</td>\n      <td>39</td>\n      <td>0</td>\n    </tr>\n    <tr>\n      <th>316566</th>\n      <td>999430</td>\n      <td>2015-03-21 16:27:60</td>\n      <td>friend_referral</td>\n      <td>web</td>\n      <td>windows</td>\n      <td>0</td>\n      <td>39</td>\n      <td>0</td>\n    </tr>\n    <tr>\n      <th>316606</th>\n      <td>256920</td>\n      <td>2015-05-29 14:34:60</td>\n      <td>ads_other</td>\n      <td>mobile</td>\n      <td>iOS</td>\n      <td>1</td>\n      <td>59</td>\n      <td>0</td>\n    </tr>\n    <tr>\n      <th>316709</th>\n      <td>177121</td>\n      <td>2015-03-20 18:33:60</td>\n      <td>ads_facebook</td>\n      <td>mobile</td>\n      <td>iOS</td>\n      <td>0</td>\n      <td>39</td>\n      <td>0</td>\n    </tr>\n    <tr>\n      <th>316756</th>\n      <td>546292</td>\n      <td>2015-03-06 22:33:60</td>\n      <td>seo-yahoo</td>\n      <td>mobile</td>\n      <td>iOS</td>\n      <td>1</td>\n      <td>59</td>\n      <td>0</td>\n    </tr>\n  </tbody>\n</table>\n<p>5165 rows × 8 columns</p>\n</div>"
     },
     "execution_count": 78,
     "metadata": {},
     "output_type": "execute_result"
    }
   ],
   "source": [
    "# some error timestamp data, the second and minute is equal to 60\n",
    "test_result[test_result.iloc[:,1].str.slice(start =-2).astype('int')>=60]"
   ],
   "metadata": {
    "collapsed": false,
    "pycharm": {
     "name": "#%%\n"
    }
   }
  },
  {
   "cell_type": "code",
   "execution_count": 79,
   "outputs": [
    {
     "data": {
      "text/plain": "        user_id            timestamp           source  device  \\\n54       370914  2015-04-24 12:60:46   direct_traffic  mobile   \n104      549807  2015-04-24 11:60:20  friend_referral  mobile   \n121      107010  2015-03-14 12:60:02   direct_traffic     web   \n282      676183  2015-05-11 12:60:53       ads-google     web   \n287      641153  2015-04-26 11:60:44   direct_traffic  mobile   \n...         ...                  ...              ...     ...   \n316138   212261  2015-04-13 18:60:11        ads_other  mobile   \n316517    15556  2015-04-25 14:60:58        ads_other  mobile   \n316525   121009  2015-05-11 12:60:53       ads-google     web   \n316558   136560  2015-04-10 11:60:29        ads_other     web   \n316771   738987  2015-05-23 17:60:03   direct_traffic     web   \n\n       operative_system  test  price  converted  \n54              android     0     39          0  \n104                 iOS     0     39          0  \n121             windows     0     39          0  \n282             windows     1     59          0  \n287             android     0     39          0  \n...                 ...   ...    ...        ...  \n316138              iOS     0     39          0  \n316517          android     0     39          0  \n316525          windows     1     59          0  \n316558          windows     1     59          0  \n316771          windows     0     39          0  \n\n[5180 rows x 8 columns]",
      "text/html": "<div>\n<style scoped>\n    .dataframe tbody tr th:only-of-type {\n        vertical-align: middle;\n    }\n\n    .dataframe tbody tr th {\n        vertical-align: top;\n    }\n\n    .dataframe thead th {\n        text-align: right;\n    }\n</style>\n<table border=\"1\" class=\"dataframe\">\n  <thead>\n    <tr style=\"text-align: right;\">\n      <th></th>\n      <th>user_id</th>\n      <th>timestamp</th>\n      <th>source</th>\n      <th>device</th>\n      <th>operative_system</th>\n      <th>test</th>\n      <th>price</th>\n      <th>converted</th>\n    </tr>\n  </thead>\n  <tbody>\n    <tr>\n      <th>54</th>\n      <td>370914</td>\n      <td>2015-04-24 12:60:46</td>\n      <td>direct_traffic</td>\n      <td>mobile</td>\n      <td>android</td>\n      <td>0</td>\n      <td>39</td>\n      <td>0</td>\n    </tr>\n    <tr>\n      <th>104</th>\n      <td>549807</td>\n      <td>2015-04-24 11:60:20</td>\n      <td>friend_referral</td>\n      <td>mobile</td>\n      <td>iOS</td>\n      <td>0</td>\n      <td>39</td>\n      <td>0</td>\n    </tr>\n    <tr>\n      <th>121</th>\n      <td>107010</td>\n      <td>2015-03-14 12:60:02</td>\n      <td>direct_traffic</td>\n      <td>web</td>\n      <td>windows</td>\n      <td>0</td>\n      <td>39</td>\n      <td>0</td>\n    </tr>\n    <tr>\n      <th>282</th>\n      <td>676183</td>\n      <td>2015-05-11 12:60:53</td>\n      <td>ads-google</td>\n      <td>web</td>\n      <td>windows</td>\n      <td>1</td>\n      <td>59</td>\n      <td>0</td>\n    </tr>\n    <tr>\n      <th>287</th>\n      <td>641153</td>\n      <td>2015-04-26 11:60:44</td>\n      <td>direct_traffic</td>\n      <td>mobile</td>\n      <td>android</td>\n      <td>0</td>\n      <td>39</td>\n      <td>0</td>\n    </tr>\n    <tr>\n      <th>...</th>\n      <td>...</td>\n      <td>...</td>\n      <td>...</td>\n      <td>...</td>\n      <td>...</td>\n      <td>...</td>\n      <td>...</td>\n      <td>...</td>\n    </tr>\n    <tr>\n      <th>316138</th>\n      <td>212261</td>\n      <td>2015-04-13 18:60:11</td>\n      <td>ads_other</td>\n      <td>mobile</td>\n      <td>iOS</td>\n      <td>0</td>\n      <td>39</td>\n      <td>0</td>\n    </tr>\n    <tr>\n      <th>316517</th>\n      <td>15556</td>\n      <td>2015-04-25 14:60:58</td>\n      <td>ads_other</td>\n      <td>mobile</td>\n      <td>android</td>\n      <td>0</td>\n      <td>39</td>\n      <td>0</td>\n    </tr>\n    <tr>\n      <th>316525</th>\n      <td>121009</td>\n      <td>2015-05-11 12:60:53</td>\n      <td>ads-google</td>\n      <td>web</td>\n      <td>windows</td>\n      <td>1</td>\n      <td>59</td>\n      <td>0</td>\n    </tr>\n    <tr>\n      <th>316558</th>\n      <td>136560</td>\n      <td>2015-04-10 11:60:29</td>\n      <td>ads_other</td>\n      <td>web</td>\n      <td>windows</td>\n      <td>1</td>\n      <td>59</td>\n      <td>0</td>\n    </tr>\n    <tr>\n      <th>316771</th>\n      <td>738987</td>\n      <td>2015-05-23 17:60:03</td>\n      <td>direct_traffic</td>\n      <td>web</td>\n      <td>windows</td>\n      <td>0</td>\n      <td>39</td>\n      <td>0</td>\n    </tr>\n  </tbody>\n</table>\n<p>5180 rows × 8 columns</p>\n</div>"
     },
     "execution_count": 79,
     "metadata": {},
     "output_type": "execute_result"
    }
   ],
   "source": [
    "test_result[test_result.iloc[:,1].str.slice(start =-5, stop =-3).astype('int')>=60]\n"
   ],
   "metadata": {
    "collapsed": false,
    "pycharm": {
     "name": "#%%\n"
    }
   }
  },
  {
   "cell_type": "code",
   "execution_count": 72,
   "outputs": [
    {
     "data": {
      "text/plain": "Empty DataFrame\nColumns: [user_id, timestamp, source, device, operative_system, test, price, converted]\nIndex: []",
      "text/html": "<div>\n<style scoped>\n    .dataframe tbody tr th:only-of-type {\n        vertical-align: middle;\n    }\n\n    .dataframe tbody tr th {\n        vertical-align: top;\n    }\n\n    .dataframe thead th {\n        text-align: right;\n    }\n</style>\n<table border=\"1\" class=\"dataframe\">\n  <thead>\n    <tr style=\"text-align: right;\">\n      <th></th>\n      <th>user_id</th>\n      <th>timestamp</th>\n      <th>source</th>\n      <th>device</th>\n      <th>operative_system</th>\n      <th>test</th>\n      <th>price</th>\n      <th>converted</th>\n    </tr>\n  </thead>\n  <tbody>\n  </tbody>\n</table>\n</div>"
     },
     "execution_count": 72,
     "metadata": {},
     "output_type": "execute_result"
    }
   ],
   "source": [
    "test_result[test_result.iloc[:,1].str.slice(start =-8, stop =-6).astype('int')>=24]"
   ],
   "metadata": {
    "collapsed": false,
    "pycharm": {
     "name": "#%%\n"
    }
   }
  },
  {
   "cell_type": "code",
   "execution_count": 90,
   "outputs": [],
   "source": [
    "#replace the 60 with 00 for all data\n",
    "test_result['timestamp'] = test_result['timestamp'].apply(lambda x: re.sub('60', '00', x))"
   ],
   "metadata": {
    "collapsed": false,
    "pycharm": {
     "name": "#%%\n"
    }
   }
  },
  {
   "cell_type": "code",
   "execution_count": 116,
   "outputs": [],
   "source": [
    "#change the type of timestamp to datetime\n",
    "test_result['timestamp'] = pd.to_datetime(test_result['timestamp'])"
   ],
   "metadata": {
    "collapsed": false,
    "pycharm": {
     "name": "#%%\n"
    }
   }
  },
  {
   "cell_type": "code",
   "execution_count": 117,
   "outputs": [],
   "source": [
    "test_result['date'] = test_result['timestamp'].dt.date"
   ],
   "metadata": {
    "collapsed": false,
    "pycharm": {
     "name": "#%%\n"
    }
   }
  },
  {
   "cell_type": "code",
   "execution_count": 118,
   "outputs": [],
   "source": [
    "# merge two table\n",
    "price_test = test_result.merge(user_table, on = 'user_id', how = 'left')"
   ],
   "metadata": {
    "collapsed": false,
    "pycharm": {
     "name": "#%%\n"
    }
   }
  },
  {
   "cell_type": "code",
   "execution_count": 97,
   "outputs": [
    {
     "name": "stdout",
     "output_type": "stream",
     "text": [
      "<class 'pandas.core.frame.DataFrame'>\n",
      "Int64Index: 316800 entries, 0 to 316799\n",
      "Data columns (total 12 columns):\n",
      " #   Column            Non-Null Count   Dtype         \n",
      "---  ------            --------------   -----         \n",
      " 0   user_id           316800 non-null  int64         \n",
      " 1   timestamp         316800 non-null  datetime64[ns]\n",
      " 2   source            316800 non-null  object        \n",
      " 3   device            316800 non-null  object        \n",
      " 4   operative_system  316800 non-null  object        \n",
      " 5   test              316800 non-null  int64         \n",
      " 6   price             316800 non-null  int64         \n",
      " 7   converted         316800 non-null  int64         \n",
      " 8   city              275616 non-null  object        \n",
      " 9   country           275616 non-null  object        \n",
      " 10  lat               275616 non-null  float64       \n",
      " 11  long              275616 non-null  float64       \n",
      "dtypes: datetime64[ns](1), float64(2), int64(4), object(5)\n",
      "memory usage: 31.4+ MB\n"
     ]
    }
   ],
   "source": [
    "price_test.info()"
   ],
   "metadata": {
    "collapsed": false,
    "pycharm": {
     "name": "#%%\n"
    }
   }
  },
  {
   "cell_type": "code",
   "execution_count": 119,
   "outputs": [
    {
     "data": {
      "text/plain": "Empty DataFrame\nColumns: [timestamp, source, device, operative_system, test, price, converted, date, city, country, lat, long]\nIndex: []",
      "text/html": "<div>\n<style scoped>\n    .dataframe tbody tr th:only-of-type {\n        vertical-align: middle;\n    }\n\n    .dataframe tbody tr th {\n        vertical-align: top;\n    }\n\n    .dataframe thead th {\n        text-align: right;\n    }\n</style>\n<table border=\"1\" class=\"dataframe\">\n  <thead>\n    <tr style=\"text-align: right;\">\n      <th></th>\n      <th>timestamp</th>\n      <th>source</th>\n      <th>device</th>\n      <th>operative_system</th>\n      <th>test</th>\n      <th>price</th>\n      <th>converted</th>\n      <th>date</th>\n      <th>city</th>\n      <th>country</th>\n      <th>lat</th>\n      <th>long</th>\n    </tr>\n    <tr>\n      <th>user_id</th>\n      <th></th>\n      <th></th>\n      <th></th>\n      <th></th>\n      <th></th>\n      <th></th>\n      <th></th>\n      <th></th>\n      <th></th>\n      <th></th>\n      <th></th>\n      <th></th>\n    </tr>\n  </thead>\n  <tbody>\n  </tbody>\n</table>\n</div>"
     },
     "execution_count": 119,
     "metadata": {},
     "output_type": "execute_result"
    }
   ],
   "source": [
    "#make sure every user only in one test\n",
    "user_test = price_test.groupby(['user_id']).count()\n",
    "user_test[user_test['timestamp']>1]"
   ],
   "metadata": {
    "collapsed": false,
    "pycharm": {
     "name": "#%%\n"
    }
   }
  },
  {
   "cell_type": "code",
   "execution_count": 120,
   "outputs": [],
   "source": [
    "# while some user in test 1 but the price they seen is 59 and some user in test 0 but the price they seen is 39.\n",
    "price_test.groupby(['test','price']).count()\n",
    "# delete problematic data\n",
    "price_test.drop(price_test[(price_test['test']==0) & (price_test['price']==59)].index, inplace = True)\n",
    "price_test.drop(price_test[(price_test['test']==1) & (price_test['price']==39)].index, inplace = True)"
   ],
   "metadata": {
    "collapsed": false,
    "pycharm": {
     "name": "#%%\n"
    }
   }
  },
  {
   "cell_type": "code",
   "execution_count": 124,
   "outputs": [
    {
     "data": {
      "text/plain": "<AxesSubplot:xlabel='source', ylabel='count'>"
     },
     "execution_count": 124,
     "metadata": {},
     "output_type": "execute_result"
    },
    {
     "data": {
      "text/plain": "<Figure size 432x288 with 1 Axes>",
      "image/png": "[encoded data removed]"
     },
     "metadata": {
      "needs_background": "light"
     },
     "output_type": "display_data"
    }
   ],
   "source": [
    "sns.countplot(data = price_test, x= 'source')"
   ],
   "metadata": {
    "collapsed": false,
    "pycharm": {
     "name": "#%%\n"
    }
   }
  },
  {
   "cell_type": "code",
   "execution_count": 125,
   "outputs": [
    {
     "data": {
      "text/plain": "<AxesSubplot:xlabel='device', ylabel='count'>"
     },
     "execution_count": 125,
     "metadata": {},
     "output_type": "execute_result"
    },
    {
     "data": {
      "text/plain": "<Figure size 432x288 with 1 Axes>",
      "image/png": "[encoded data removed]"
     },
     "metadata": {
      "needs_background": "light"
     },
     "output_type": "display_data"
    }
   ],
   "source": [
    "sns.countplot(data = price_test, x = 'device')"
   ],
   "metadata": {
    "collapsed": false,
    "pycharm": {
     "name": "#%%\n"
    }
   }
  },
  {
   "cell_type": "code",
   "execution_count": 126,
   "outputs": [
    {
     "data": {
      "text/plain": "<AxesSubplot:xlabel='operative_system', ylabel='count'>"
     },
     "execution_count": 126,
     "metadata": {},
     "output_type": "execute_result"
    },
    {
     "data": {
      "text/plain": "<Figure size 432x288 with 1 Axes>",
      "image/png": "[encoded data removed]"
     },
     "metadata": {
      "needs_background": "light"
     },
     "output_type": "display_data"
    }
   ],
   "source": [
    "sns.countplot(data = price_test, x = 'operative_system')"
   ],
   "metadata": {
    "collapsed": false,
    "pycharm": {
     "name": "#%%\n"
    }
   }
  },
  {
   "cell_type": "markdown",
   "source": [
    "Since the conversion can be 0 and 1, we can see the conversion follow the bernoulli distribution. Then the sum of conversion should follow binomial distribution.\n",
    "The estimated conversion rate should be $\\hat{p}$ is the mean of all conversion.\n",
    "\n",
    "Due to the number of test is over 300,000 we can use two sample t-test to conduct hypothesis test by using the law of large number.\n",
    "\n",
    "We can set null hypothesis is no difference between test group and control group, alternative hypothesis is the conversion rate in test group is less than control group.\n",
    "Set the significant level $\\alpha = 0.05$.\n",
    "\n",
    "$H_0: \\mu_1= \\mu_0$\n",
    "\n",
    "$H_1: \\mu_1< \\mu_0$"
   ],
   "metadata": {
    "collapsed": false,
    "pycharm": {
     "name": "#%% md\n"
    }
   }
  },
  {
   "cell_type": "code",
   "execution_count": 136,
   "outputs": [
    {
     "name": "stdout",
     "output_type": "stream",
     "text": [
      "variance of test group: 0.015313223261599968\n",
      "variance of control group: 0.019503667646662493\n"
     ]
    }
   ],
   "source": [
    "# separate test and control set\n",
    "test_group = price_test[price_test['test']==1]['converted']\n",
    "control_group = price_test[price_test['test'] ==0]['converted']\n",
    "# see if equal variance\n",
    "print('variance of test group:', test_group.var())\n",
    "print('variance of control group:', control_group.var())"
   ],
   "metadata": {
    "collapsed": false,
    "pycharm": {
     "name": "#%%\n"
    }
   }
  },
  {
   "cell_type": "code",
   "execution_count": 137,
   "outputs": [
    {
     "name": "stdout",
     "output_type": "stream",
     "text": [
      "the number of user in test group: 113918\n",
      "the number of user in control group: 202517\n"
     ]
    }
   ],
   "source": [
    "# see if n is equal\n",
    "print('the number of user in test group:', test_group.count())\n",
    "print('the number of user in control group:', control_group.count())"
   ],
   "metadata": {
    "collapsed": false,
    "pycharm": {
     "name": "#%%\n"
    }
   }
  },
  {
   "cell_type": "code",
   "execution_count": 149,
   "outputs": [
    {
     "name": "stdout",
     "output_type": "stream",
     "text": [
      "the mean of conversion in test group: 0.01555504836812444\n",
      "the mean of conversion in control group: 0.019899563987220825\n"
     ]
    }
   ],
   "source": [
    "print('the mean of conversion in test group:', test_group.mean())\n",
    "print('the mean of conversion in control group:', control_group.mean())"
   ],
   "metadata": {
    "collapsed": false,
    "pycharm": {
     "name": "#%%\n"
    }
   }
  },
  {
   "cell_type": "code",
   "execution_count": 148,
   "outputs": [
    {
     "data": {
      "text/plain": "Ttest_indResult(statistic=-8.744781828681587, pvalue=1.1225425800748573e-18)"
     },
     "execution_count": 148,
     "metadata": {},
     "output_type": "execute_result"
    }
   ],
   "source": [
    "#first, conduct two side t test\n",
    "stats.ttest_ind(test_group, control_group, alternative='less', equal_var = True)"
   ],
   "metadata": {
    "collapsed": false,
    "pycharm": {
     "name": "#%%\n"
    }
   }
  },
  {
   "cell_type": "markdown",
   "source": [
    "p-value is less than significant level, that mean we have strong evidence\n",
    "to say the mean of test group is less than control group.\n",
    "\n",
    "While the conversion rate in test group is less than control group, the price is higher in test group. Then we can see the\n",
    "average revenue for each person.\n",
    "\n",
    "We can set null hypothesis is no difference of revenue between test group and control group, alternative hypothesis is the average revenue in test group is greater than control group.\n",
    "Set the significant level $\\alpha = 0.05$.\n",
    "\n",
    "$H_0: \\mu_1= \\mu_0$\n",
    "\n",
    "$H_1: \\mu_1> \\mu_0$"
   ],
   "metadata": {
    "collapsed": false,
    "pycharm": {
     "name": "#%% md\n"
    }
   }
  },
  {
   "cell_type": "code",
   "execution_count": 152,
   "outputs": [
    {
     "name": "stdout",
     "output_type": "stream",
     "text": [
      "variance of test group: 53.30533017362951\n",
      "variance of control group: 29.66507849057365\n"
     ]
    }
   ],
   "source": [
    "revenue_test = price_test[price_test['test']==1]['converted']* 59\n",
    "revenue_control = price_test[price_test['test']==0]['converted']* 39\n",
    "# see if equal variance\n",
    "print('variance of test group:', revenue_test.var())\n",
    "print('variance of control group:', revenue_control.var())"
   ],
   "metadata": {
    "collapsed": false,
    "pycharm": {
     "name": "#%%\n"
    }
   }
  },
  {
   "cell_type": "code",
   "execution_count": 153,
   "outputs": [
    {
     "name": "stdout",
     "output_type": "stream",
     "text": [
      "the number of user in test group: 113918\n",
      "the number of user in control group: 202517\n"
     ]
    }
   ],
   "source": [
    "# see if n is equal\n",
    "print('the number of user in test group:', revenue_test.count())\n",
    "print('the number of user in control group:', revenue_control.count())"
   ],
   "metadata": {
    "collapsed": false,
    "pycharm": {
     "name": "#%%\n"
    }
   }
  },
  {
   "cell_type": "code",
   "execution_count": 154,
   "outputs": [
    {
     "name": "stdout",
     "output_type": "stream",
     "text": [
      "the mean of conversion in test group: 0.917747853719342\n",
      "the mean of conversion in control group: 0.7760829955016122\n"
     ]
    }
   ],
   "source": [
    "print('the mean of conversion in test group:', revenue_test.mean())\n",
    "print('the mean of conversion in control group:', revenue_control.mean())\n"
   ],
   "metadata": {
    "collapsed": false,
    "pycharm": {
     "name": "#%%\n"
    }
   }
  },
  {
   "cell_type": "code",
   "execution_count": null,
   "outputs": [],
   "source": [],
   "metadata": {
    "collapsed": false,
    "pycharm": {
     "name": "#%%\n"
    }
   }
  }
 ],
 "metadata": {
  "kernelspec": {
   "display_name": "Python 3",
   "language": "python",
   "name": "python3"
  },
  "language_info": {
   "codemirror_mode": {
    "name": "ipython",
    "version": 2
   },
   "file_extension": ".py",
   "mimetype": "text/x-python",
   "name": "python",
   "nbconvert_exporter": "python",
   "pygments_lexer": "ipython2",
   "version": "2.7.6"
  }
 },
 "nbformat": 4,
 "nbformat_minor": 0
}