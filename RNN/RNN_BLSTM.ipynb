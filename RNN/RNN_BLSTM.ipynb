{
 "cells": [
  {
   "cell_type": "code",
   "execution_count": 207,
   "outputs": [],
   "source": [
    "import torch\n",
    "import torch.nn.functional as F\n",
    "import torchtext\n",
    "import time\n",
    "import random\n",
    "import pandas as pd\n",
    "import numpy as np\n",
    "from sklearn.metrics import confusion_matrix\n",
    "import matplotlib.pyplot as plt\n",
    "import seaborn as sns\n",
    "import spacy"
   ],
   "metadata": {
    "collapsed": false,
    "pycharm": {
     "name": "#%%\n"
    }
   }
  },
  {
   "cell_type": "code",
   "execution_count": 208,
   "outputs": [
    {
     "name": "stdout",
     "output_type": "stream",
     "text": [
      "1.8.2+cu111\n"
     ]
    }
   ],
   "source": [
    "print(torch.__version__)"
   ],
   "metadata": {
    "collapsed": false,
    "pycharm": {
     "name": "#%%\n"
    }
   }
  },
  {
   "cell_type": "code",
   "execution_count": 209,
   "outputs": [
    {
     "data": {
      "text/plain": "True"
     },
     "execution_count": 209,
     "metadata": {},
     "output_type": "execute_result"
    }
   ],
   "source": [
    "torch.cuda.is_available()\n"
   ],
   "metadata": {
    "collapsed": false,
    "pycharm": {
     "name": "#%%\n"
    }
   }
  },
  {
   "cell_type": "markdown",
   "source": [
    "# About the version of package:\n",
    "\n",
    "1. If you don't want to mass you package version, you can create the virtual environment\n",
    "only for this project.\n",
    "please see the detail: https://docs.python.org/3.8/library/venv.html\n",
    "\n",
    "2. After you create virtual environment, if you use pip, you can install pipreqs package,\n",
    "it can help you to save you package version and easy to install:\n",
    "\n",
    "pip install -r .\\requirements.txt\n",
    "please see the detail：https://github.com/bndr/pipreqs\n",
    "\n",
    "I will provide my package version for you in the file.\n",
    "\n",
    "\n",
    "3. For this project, The most important is torchtext 0.9, all the minor version is works,\n",
    "torch 1.8.1 and torchtext 0.9.1 is also work.\n",
    "If you not use GPU, you can just use torch 1.8.1, which is same as Professor Li publish in blackboard.\n",
    "If you want to use GPU, please check torch version: https://pytorch.org/get-started/locally/\n",
    "and torchtext version: https://pypi.org/project/torchtext/\n",
    "\n",
    "If you have some questions, please contact me."
   ],
   "metadata": {
    "collapsed": false
   }
  },
  {
   "cell_type": "markdown",
   "source": [
    "# The data set is from kaggle youtube  statistics:\n",
    "https://www.kaggle.com/code/elem3ntary/predicting-comment-sentiment/data\n",
    "\n",
    "The code is from :https://sebastianraschka.com/blog/2021/dl-course.html"
   ],
   "metadata": {
    "collapsed": false
   }
  },
  {
   "cell_type": "markdown",
   "source": [
    "# Comment Sentiment:\n",
    "0 represents a negative sentiment\n",
    "1 represent neutral\n",
    "2 represent positive"
   ],
   "metadata": {
    "collapsed": false
   }
  },
  {
   "cell_type": "code",
   "execution_count": 210,
   "outputs": [],
   "source": [
    "RANDOM_SEED = 123\n",
    "torch.manual_seed(RANDOM_SEED)\n",
    "\n",
    "VOCABULARY_SIZE = 20000\n",
    "LEARNING_RATE = 0.01\n",
    "BATCH_SIZE = 32\n",
    "NUM_EPOCHS = 100\n",
    "DEVICE = torch.device('cuda' if torch.cuda.is_available() else 'cpu')\n",
    "NUM_LAYERS = 1\n",
    "EMBEDDING_DIM = 128\n",
    "HIDDEN_DIM = 256\n",
    "NUM_CLASSES = 3"
   ],
   "metadata": {
    "collapsed": false,
    "pycharm": {
     "name": "#%%\n"
    }
   }
  },
  {
   "cell_type": "code",
   "execution_count": 211,
   "outputs": [
    {
     "name": "stdout",
     "output_type": "stream",
     "text": [
      "cuda\n"
     ]
    }
   ],
   "source": [
    "print(DEVICE)"
   ],
   "metadata": {
    "collapsed": false,
    "pycharm": {
     "name": "#%%\n"
    }
   }
  },
  {
   "cell_type": "code",
   "execution_count": 212,
   "outputs": [
    {
     "data": {
      "text/plain": "<AxesSubplot: xlabel='Sentiment'>"
     },
     "execution_count": 212,
     "metadata": {},
     "output_type": "execute_result"
    },
    {
     "data": {
      "text/plain": "<Figure size 640x480 with 1 Axes>",
      "image/png": "[encoded data removed]"
     },
     "metadata": {},
     "output_type": "display_data"
    }
   ],
   "source": [
    "# read the data\n",
    "comment =  pd.read_csv('comments.csv')\n",
    "comment.groupby('Sentiment').count()['Comment'].plot.bar()\n"
   ],
   "metadata": {
    "collapsed": false,
    "pycharm": {
     "name": "#%%\n"
    }
   }
  },
  {
   "cell_type": "code",
   "execution_count": 213,
   "outputs": [
    {
     "data": {
      "text/plain": "   Unnamed: 0     Video ID                                            Comment  \\\n0           0  wAZZ-UWGVHI  Let's not forget that Apple Pay in 2014 requir...   \n1           1  wAZZ-UWGVHI  Here in NZ 50% of retailers don’t even have co...   \n2           2  wAZZ-UWGVHI  I will forever acknowledge this channel with t...   \n3           3  wAZZ-UWGVHI  Whenever I go to a place that doesn’t take App...   \n4           4  wAZZ-UWGVHI  Apple Pay is so convenient, secure, and easy t...   \n\n   Likes  Sentiment  \n0     95          1  \n1     19          0  \n2    161          2  \n3      8          0  \n4     34          2  ",
      "text/html": "<div>\n<style scoped>\n    .dataframe tbody tr th:only-of-type {\n        vertical-align: middle;\n    }\n\n    .dataframe tbody tr th {\n        vertical-align: top;\n    }\n\n    .dataframe thead th {\n        text-align: right;\n    }\n</style>\n<table border=\"1\" class=\"dataframe\">\n  <thead>\n    <tr style=\"text-align: right;\">\n      <th></th>\n      <th>Unnamed: 0</th>\n      <th>Video ID</th>\n      <th>Comment</th>\n      <th>Likes</th>\n      <th>Sentiment</th>\n    </tr>\n  </thead>\n  <tbody>\n    <tr>\n      <th>0</th>\n      <td>0</td>\n      <td>wAZZ-UWGVHI</td>\n      <td>Let's not forget that Apple Pay in 2014 requir...</td>\n      <td>95</td>\n      <td>1</td>\n    </tr>\n    <tr>\n      <th>1</th>\n      <td>1</td>\n      <td>wAZZ-UWGVHI</td>\n      <td>Here in NZ 50% of retailers don’t even have co...</td>\n      <td>19</td>\n      <td>0</td>\n    </tr>\n    <tr>\n      <th>2</th>\n      <td>2</td>\n      <td>wAZZ-UWGVHI</td>\n      <td>I will forever acknowledge this channel with t...</td>\n      <td>161</td>\n      <td>2</td>\n    </tr>\n    <tr>\n      <th>3</th>\n      <td>3</td>\n      <td>wAZZ-UWGVHI</td>\n      <td>Whenever I go to a place that doesn’t take App...</td>\n      <td>8</td>\n      <td>0</td>\n    </tr>\n    <tr>\n      <th>4</th>\n      <td>4</td>\n      <td>wAZZ-UWGVHI</td>\n      <td>Apple Pay is so convenient, secure, and easy t...</td>\n      <td>34</td>\n      <td>2</td>\n    </tr>\n  </tbody>\n</table>\n</div>"
     },
     "execution_count": 213,
     "metadata": {},
     "output_type": "execute_result"
    }
   ],
   "source": [
    "#look at data\n",
    "comment.head()"
   ],
   "metadata": {
    "collapsed": false,
    "pycharm": {
     "name": "#%%\n"
    }
   }
  },
  {
   "cell_type": "code",
   "execution_count": 214,
   "outputs": [
    {
     "data": {
      "text/plain": "'Whenever I go to a place that doesn’t take Apple Pay (doesn’t happen too often), it’s such a drag. Between ‘contactless Covid’ habits and my getting the Apple Card, I’ve gotten so used to Apple Pay that I get seriously annoyed when a store doesn’t take it. It feels like a shock, it’s crazy how quickly it took over my shopping routine! I’ve officially been brainwashed by Apple because now it feels so inconvenient to even carry a physical card in my pocket.'"
     },
     "execution_count": 214,
     "metadata": {},
     "output_type": "execute_result"
    }
   ],
   "source": [
    "comment.iloc[3,2]"
   ],
   "metadata": {
    "collapsed": false,
    "pycharm": {
     "name": "#%%\n"
    }
   }
  },
  {
   "cell_type": "code",
   "execution_count": 215,
   "outputs": [
    {
     "data": {
      "text/plain": "         Unnamed: 0          Likes     Sentiment\ncount  18409.000000   18409.000000  18409.000000\nmean    9204.000000    1040.019447      1.493998\nstd     5314.364888   10651.366148      0.709928\nmin        0.000000       0.000000      0.000000\n25%     4602.000000       5.000000      1.000000\n50%     9204.000000      29.000000      2.000000\n75%    13806.000000     190.000000      2.000000\nmax    18408.000000  891372.000000      2.000000",
      "text/html": "<div>\n<style scoped>\n    .dataframe tbody tr th:only-of-type {\n        vertical-align: middle;\n    }\n\n    .dataframe tbody tr th {\n        vertical-align: top;\n    }\n\n    .dataframe thead th {\n        text-align: right;\n    }\n</style>\n<table border=\"1\" class=\"dataframe\">\n  <thead>\n    <tr style=\"text-align: right;\">\n      <th></th>\n      <th>Unnamed: 0</th>\n      <th>Likes</th>\n      <th>Sentiment</th>\n    </tr>\n  </thead>\n  <tbody>\n    <tr>\n      <th>count</th>\n      <td>18409.000000</td>\n      <td>18409.000000</td>\n      <td>18409.000000</td>\n    </tr>\n    <tr>\n      <th>mean</th>\n      <td>9204.000000</td>\n      <td>1040.019447</td>\n      <td>1.493998</td>\n    </tr>\n    <tr>\n      <th>std</th>\n      <td>5314.364888</td>\n      <td>10651.366148</td>\n      <td>0.709928</td>\n    </tr>\n    <tr>\n      <th>min</th>\n      <td>0.000000</td>\n      <td>0.000000</td>\n      <td>0.000000</td>\n    </tr>\n    <tr>\n      <th>25%</th>\n      <td>4602.000000</td>\n      <td>5.000000</td>\n      <td>1.000000</td>\n    </tr>\n    <tr>\n      <th>50%</th>\n      <td>9204.000000</td>\n      <td>29.000000</td>\n      <td>2.000000</td>\n    </tr>\n    <tr>\n      <th>75%</th>\n      <td>13806.000000</td>\n      <td>190.000000</td>\n      <td>2.000000</td>\n    </tr>\n    <tr>\n      <th>max</th>\n      <td>18408.000000</td>\n      <td>891372.000000</td>\n      <td>2.000000</td>\n    </tr>\n  </tbody>\n</table>\n</div>"
     },
     "execution_count": 215,
     "metadata": {},
     "output_type": "execute_result"
    }
   ],
   "source": [
    "# look the data\n",
    "comment.describe()"
   ],
   "metadata": {
    "collapsed": false,
    "pycharm": {
     "name": "#%%\n"
    }
   }
  },
  {
   "cell_type": "code",
   "execution_count": 216,
   "outputs": [
    {
     "data": {
      "text/plain": "Unnamed: 0    0\nVideo ID      0\nComment       1\nLikes         0\nSentiment     0\ndtype: int64"
     },
     "execution_count": 216,
     "metadata": {},
     "output_type": "execute_result"
    }
   ],
   "source": [
    "#have 1 null data in comment\n",
    "comment.isnull().sum()"
   ],
   "metadata": {
    "collapsed": false,
    "pycharm": {
     "name": "#%%\n"
    }
   }
  },
  {
   "cell_type": "code",
   "execution_count": 217,
   "outputs": [
    {
     "data": {
      "text/plain": "      Unnamed: 0     Video ID Comment  Likes  Sentiment\n9745        9745  bvkk3UdlfA4     NaN      1          1",
      "text/html": "<div>\n<style scoped>\n    .dataframe tbody tr th:only-of-type {\n        vertical-align: middle;\n    }\n\n    .dataframe tbody tr th {\n        vertical-align: top;\n    }\n\n    .dataframe thead th {\n        text-align: right;\n    }\n</style>\n<table border=\"1\" class=\"dataframe\">\n  <thead>\n    <tr style=\"text-align: right;\">\n      <th></th>\n      <th>Unnamed: 0</th>\n      <th>Video ID</th>\n      <th>Comment</th>\n      <th>Likes</th>\n      <th>Sentiment</th>\n    </tr>\n  </thead>\n  <tbody>\n    <tr>\n      <th>9745</th>\n      <td>9745</td>\n      <td>bvkk3UdlfA4</td>\n      <td>NaN</td>\n      <td>1</td>\n      <td>1</td>\n    </tr>\n  </tbody>\n</table>\n</div>"
     },
     "execution_count": 217,
     "metadata": {},
     "output_type": "execute_result"
    }
   ],
   "source": [
    "#look at null data\n",
    "comment[comment['Comment'].isnull()]\n"
   ],
   "metadata": {
    "collapsed": false,
    "pycharm": {
     "name": "#%%\n"
    }
   }
  },
  {
   "cell_type": "code",
   "execution_count": 218,
   "outputs": [
    {
     "data": {
      "text/plain": "           Comment\nSentiment         \n0             2338\n1             4638\n2            11432",
      "text/html": "<div>\n<style scoped>\n    .dataframe tbody tr th:only-of-type {\n        vertical-align: middle;\n    }\n\n    .dataframe tbody tr th {\n        vertical-align: top;\n    }\n\n    .dataframe thead th {\n        text-align: right;\n    }\n</style>\n<table border=\"1\" class=\"dataframe\">\n  <thead>\n    <tr style=\"text-align: right;\">\n      <th></th>\n      <th>Comment</th>\n    </tr>\n    <tr>\n      <th>Sentiment</th>\n      <th></th>\n    </tr>\n  </thead>\n  <tbody>\n    <tr>\n      <th>0</th>\n      <td>2338</td>\n    </tr>\n    <tr>\n      <th>1</th>\n      <td>4638</td>\n    </tr>\n    <tr>\n      <th>2</th>\n      <td>11432</td>\n    </tr>\n  </tbody>\n</table>\n</div>"
     },
     "execution_count": 218,
     "metadata": {},
     "output_type": "execute_result"
    }
   ],
   "source": [
    "#drop the other columns, and change 1 and 2 in sentiment to 1\n",
    "comment_data = comment.drop(columns = ['Unnamed: 0', 'Video ID', 'Likes'])\n",
    "comment_data.groupby('Sentiment').count()"
   ],
   "metadata": {
    "collapsed": false,
    "pycharm": {
     "name": "#%%\n"
    }
   }
  },
  {
   "cell_type": "code",
   "execution_count": 219,
   "outputs": [],
   "source": [
    "#change column name\n",
    "comment_data.columns = ['TEXT_COLUMN_NAME', 'LABEL_COLUMN_NAME']"
   ],
   "metadata": {
    "collapsed": false,
    "pycharm": {
     "name": "#%%\n"
    }
   }
  },
  {
   "cell_type": "code",
   "execution_count": 220,
   "outputs": [],
   "source": [
    "comment_data.to_csv('youtube_data.csv', index=None)\n",
    "comment_look = pd.read_csv('youtube_data.csv')\n",
    "\n"
   ],
   "metadata": {
    "collapsed": false,
    "pycharm": {
     "name": "#%%\n"
    }
   }
  },
  {
   "cell_type": "markdown",
   "source": [
    "Download English vocabulary via:\n",
    "\n",
    "- `python -m spacy download en_core_web_sm`\n",
    "\n"
   ],
   "metadata": {
    "collapsed": false
   }
  },
  {
   "cell_type": "code",
   "execution_count": 221,
   "outputs": [],
   "source": [
    "# only have legacy in torchtext==0.9\n",
    "# pip install torchtext==0.9\n",
    "### Defining the feature processing\n",
    "\n",
    "TEXT = torchtext.legacy.data.Field(\n",
    "    tokenize='spacy', # default splits on whitespace\n",
    "    tokenizer_language='en_core_web_sm'\n",
    ")\n",
    "\n",
    "### Defining the label processing\n",
    "\n",
    "LABEL = torchtext.legacy.data.LabelField(dtype=torch.long)\n"
   ],
   "metadata": {
    "collapsed": false,
    "pycharm": {
     "name": "#%%\n"
    }
   }
  },
  {
   "cell_type": "code",
   "execution_count": 222,
   "outputs": [],
   "source": [
    "fields = [('TEXT_COLUMN_NAME', TEXT), ('LABEL_COLUMN_NAME', LABEL)]\n",
    "\n",
    "dataset = torchtext.legacy.data.TabularDataset(\n",
    "    path='youtube_data.csv', format='csv',\n",
    "    skip_header=True, fields=fields)\n",
    "\n"
   ],
   "metadata": {
    "collapsed": false,
    "pycharm": {
     "name": "#%%\n"
    }
   }
  },
  {
   "cell_type": "code",
   "execution_count": 223,
   "outputs": [
    {
     "name": "stdout",
     "output_type": "stream",
     "text": [
      "Num Train: 14727\n",
      "Num Test: 3682\n"
     ]
    }
   ],
   "source": [
    "# separate into train and test set\n",
    "train_data, test_data = dataset.split(\n",
    "    split_ratio=[0.8, 0.2],\n",
    "    random_state=random.seed(RANDOM_SEED))\n",
    "\n",
    "print(f'Num Train: {len(train_data)}')\n",
    "print(f'Num Test: {len(test_data)}')\n"
   ],
   "metadata": {
    "collapsed": false,
    "pycharm": {
     "name": "#%%\n"
    }
   }
  },
  {
   "cell_type": "code",
   "execution_count": 224,
   "outputs": [
    {
     "name": "stdout",
     "output_type": "stream",
     "text": [
      "Num Train: 12518\n",
      "Num Validation: 2209\n"
     ]
    }
   ],
   "source": [
    "# separate into train, valid and test set\n",
    "train_data, valid_data = train_data.split(\n",
    "    split_ratio=[0.85, 0.15],\n",
    "    random_state=random.seed(RANDOM_SEED))\n",
    "\n",
    "print(f'Num Train: {len(train_data)}')\n",
    "print(f'Num Validation: {len(valid_data)}')\n"
   ],
   "metadata": {
    "collapsed": false,
    "pycharm": {
     "name": "#%%\n"
    }
   }
  },
  {
   "cell_type": "code",
   "execution_count": 225,
   "outputs": [
    {
     "name": "stdout",
     "output_type": "stream",
     "text": [
      "{'TEXT_COLUMN_NAME': ['Definitely', 'trying', 'this', 'tomorrow', 'on', 'my', 'son', '.', 'This', 'cut', 'is', 'detailed', 'with', 'all', 'the', 'instructions', '.', 'Appreciate', 'you', 'sharing', 'this', 'knowledge', ',', 'stay', 'blessed', 'my', 'brother'], 'LABEL_COLUMN_NAME': '2'}\n"
     ]
    }
   ],
   "source": [
    "print(vars(train_data.examples[0]))\n"
   ],
   "metadata": {
    "collapsed": false,
    "pycharm": {
     "name": "#%%\n"
    }
   }
  },
  {
   "cell_type": "markdown",
   "source": [
    "## Build Vocabulary"
   ],
   "metadata": {
    "collapsed": false
   }
  },
  {
   "cell_type": "markdown",
   "source": [
    "Build the vocabulary based on the top \"VOCABULARY_SIZE\" words:"
   ],
   "metadata": {
    "collapsed": false
   }
  },
  {
   "cell_type": "code",
   "execution_count": 226,
   "outputs": [
    {
     "name": "stdout",
     "output_type": "stream",
     "text": [
      "Vocabulary size: 20002\n",
      "Number of classes: 3\n"
     ]
    }
   ],
   "source": [
    "TEXT.build_vocab(train_data, max_size=VOCABULARY_SIZE)\n",
    "LABEL.build_vocab(train_data)\n",
    "\n",
    "print(f'Vocabulary size: {len(TEXT.vocab)}')\n",
    "print(f'Number of classes: {len(LABEL.vocab)}')"
   ],
   "metadata": {
    "collapsed": false,
    "pycharm": {
     "name": "#%%\n"
    }
   }
  },
  {
   "cell_type": "markdown",
   "source": [
    "- 20,002 not 20,000 because of the `<unk>` and `<pad>` tokens\n",
    "- PyTorch RNNs can deal with arbitrary lengths due to dynamic graphs, but padding is necessary for padding sequences to the same length in a given minibatch so we can store those in an array"
   ],
   "metadata": {
    "collapsed": false
   }
  },
  {
   "cell_type": "code",
   "execution_count": 227,
   "outputs": [
    {
     "name": "stdout",
     "output_type": "stream",
     "text": [
      "[('.', 17588), ('the', 13963), (',', 12709), ('I', 10643), ('to', 10043), ('and', 9479), ('a', 8730), ('of', 6448), ('\\n', 6438), ('!', 5617), ('is', 5523), ('you', 5371), ('in', 5036), ('it', 4599), ('for', 4536), ('that', 4096), ('this', 3756), ('\"', 2630), ('on', 2556), ('my', 2515)]\n"
     ]
    }
   ],
   "source": [
    "#Look at most common words:\n",
    "print(TEXT.vocab.freqs.most_common(20))\n"
   ],
   "metadata": {
    "collapsed": false,
    "pycharm": {
     "name": "#%%\n"
    }
   }
  },
  {
   "cell_type": "code",
   "execution_count": 228,
   "outputs": [
    {
     "name": "stdout",
     "output_type": "stream",
     "text": [
      "['<unk>', '<pad>', '.', 'the', ',', 'I', 'to', 'and', 'a', 'of']\n"
     ]
    }
   ],
   "source": [
    "#Tokens corresponding to the first 10 indices (0, 1, ..., 9):\n",
    "print(TEXT.vocab.itos[:10]) # itos = integer-to-string\n",
    "\n"
   ],
   "metadata": {
    "collapsed": false,
    "pycharm": {
     "name": "#%%\n"
    }
   }
  },
  {
   "cell_type": "markdown",
   "source": [
    "**Converting a string to an integer:**"
   ],
   "metadata": {
    "collapsed": false
   }
  },
  {
   "cell_type": "code",
   "execution_count": 229,
   "outputs": [
    {
     "name": "stdout",
     "output_type": "stream",
     "text": [
      "3\n"
     ]
    }
   ],
   "source": [
    "print(TEXT.vocab.stoi['the']) # stoi = string-to-integer"
   ],
   "metadata": {
    "collapsed": false,
    "pycharm": {
     "name": "#%%\n"
    }
   }
  },
  {
   "cell_type": "markdown",
   "source": [
    "**Class labels:**"
   ],
   "metadata": {
    "collapsed": false
   }
  },
  {
   "cell_type": "code",
   "execution_count": 230,
   "outputs": [
    {
     "name": "stdout",
     "output_type": "stream",
     "text": [
      "defaultdict(None, {'2': 0, '1': 1, '0': 2})\n"
     ]
    }
   ],
   "source": [
    "print(LABEL.vocab.stoi)"
   ],
   "metadata": {
    "collapsed": false,
    "pycharm": {
     "name": "#%%\n"
    }
   }
  },
  {
   "cell_type": "markdown",
   "source": [
    "**Class label count:**"
   ],
   "metadata": {
    "collapsed": false
   }
  },
  {
   "cell_type": "code",
   "execution_count": 231,
   "outputs": [
    {
     "data": {
      "text/plain": "Counter({'2': 7722, '1': 3174, '0': 1622})"
     },
     "execution_count": 231,
     "metadata": {},
     "output_type": "execute_result"
    }
   ],
   "source": [
    "LABEL.vocab.freqs"
   ],
   "metadata": {
    "collapsed": false,
    "pycharm": {
     "name": "#%%\n"
    }
   }
  },
  {
   "cell_type": "markdown",
   "source": [
    "## Define Data Loaders"
   ],
   "metadata": {
    "collapsed": false
   }
  },
  {
   "cell_type": "code",
   "execution_count": 232,
   "outputs": [],
   "source": [
    "train_loader, valid_loader, test_loader = \\\n",
    "    torchtext.legacy.data.BucketIterator.splits(\n",
    "        (train_data, valid_data, test_data),\n",
    "         batch_size=BATCH_SIZE,\n",
    "         sort_within_batch=False,\n",
    "         sort_key=lambda x: len(x.TEXT_COLUMN_NAME),\n",
    "         device=DEVICE\n",
    "    )"
   ],
   "metadata": {
    "collapsed": false,
    "pycharm": {
     "name": "#%%\n"
    }
   }
  },
  {
   "cell_type": "markdown",
   "source": [
    "Testing the iterators (note that the number of rows depends on the longest document in the respective batch):"
   ],
   "metadata": {
    "collapsed": false
   }
  },
  {
   "cell_type": "code",
   "execution_count": 233,
   "outputs": [
    {
     "name": "stdout",
     "output_type": "stream",
     "text": [
      "Train\n",
      "Text matrix size: torch.Size([118, 32])\n",
      "Target vector size: torch.Size([32])\n",
      "\n",
      "Valid:\n",
      "Text matrix size: torch.Size([3, 32])\n",
      "Target vector size: torch.Size([32])\n",
      "\n",
      "Test:\n",
      "Text matrix size: torch.Size([3, 32])\n",
      "Target vector size: torch.Size([32])\n"
     ]
    }
   ],
   "source": [
    "print('Train')\n",
    "for batch in train_loader:\n",
    "    print(f'Text matrix size: {batch.TEXT_COLUMN_NAME.size()}')\n",
    "    print(f'Target vector size: {batch.LABEL_COLUMN_NAME.size()}')\n",
    "    break\n",
    "\n",
    "print('\\nValid:')\n",
    "for batch in valid_loader:\n",
    "    print(f'Text matrix size: {batch.TEXT_COLUMN_NAME.size()}')\n",
    "    print(f'Target vector size: {batch.LABEL_COLUMN_NAME.size()}')\n",
    "    break\n",
    "\n",
    "print('\\nTest:')\n",
    "for batch in test_loader:\n",
    "    print(f'Text matrix size: {batch.TEXT_COLUMN_NAME.size()}')\n",
    "    print(f'Target vector size: {batch.LABEL_COLUMN_NAME.size()}')\n",
    "    break"
   ],
   "metadata": {
    "collapsed": false,
    "pycharm": {
     "name": "#%%\n"
    }
   }
  },
  {
   "cell_type": "markdown",
   "source": [
    "## Model"
   ],
   "metadata": {
    "collapsed": false
   }
  },
  {
   "cell_type": "code",
   "source": [
    "class RNN(torch.nn.Module):\n",
    "\n",
    "    def __init__(self, input_dim, embedding_dim, hidden_dim, output_dim, num_layers):\n",
    "        super().__init__()\n",
    "        self.embedding = torch.nn.Embedding(input_dim, embedding_dim)\n",
    "        self.num_layers = num_layers\n",
    "        self.hidden_dim = hidden_dim\n",
    "        self.embedding_dim = embedding_dim\n",
    "        self.input_dim = input_dim\n",
    "        #self.rnn = torch.nn.RNN(embedding_dim,\n",
    "        #                        hidden_dim,\n",
    "        #                        nonlinearity='relu')\n",
    "        self.rnn = torch.nn.LSTM(embedding_dim,\n",
    "                                 hidden_dim, self.num_layers, bidirectional=True)\n",
    "        self.fc = torch.nn.Linear(hidden_dim*2, output_dim)  # 2 for bidirection\n",
    "        self.relu = torch.nn.ReLU()\n",
    "\n",
    "    def forward(self, text):\n",
    "        # text dim: [sentence length, batch size]\n",
    "\n",
    "        embedded = self.embedding(text)\n",
    "        # embedded dim: [sentence length, batch size, embedding dim]\n",
    "\n",
    "        out, (hidden, cell) = self.rnn(embedded)\n",
    "        cat = torch.cat((hidden[-2, :, :], hidden[-1, :, :]), dim=1)\n",
    "        rel = self.relu(cat)\n",
    "        preds = self.fc(rel)\n",
    "\n",
    "        return preds\n",
    "\n"
   ],
   "metadata": {
    "collapsed": false,
    "pycharm": {
     "name": "#%%\n"
    }
   },
   "execution_count": 234,
   "outputs": []
  },
  {
   "cell_type": "code",
   "execution_count": 235,
   "outputs": [],
   "source": [
    "torch.manual_seed(RANDOM_SEED)\n",
    "model = RNN(input_dim=len(TEXT.vocab),\n",
    "            embedding_dim=EMBEDDING_DIM,\n",
    "            hidden_dim=HIDDEN_DIM,\n",
    "            output_dim=NUM_CLASSES,\n",
    "            num_layers=NUM_LAYERS\n",
    ")\n",
    "\n",
    "model = model.to(DEVICE)\n",
    "optimizer = torch.optim.Adam(model.parameters(), lr=0.005)"
   ],
   "metadata": {
    "collapsed": false,
    "pycharm": {
     "name": "#%%\n"
    }
   }
  },
  {
   "cell_type": "markdown",
   "source": [
    "## Training"
   ],
   "metadata": {
    "collapsed": false
   }
  },
  {
   "cell_type": "code",
   "execution_count": 236,
   "outputs": [],
   "source": [
    "def compute_accuracy(model, data_loader, device):\n",
    "\n",
    "    with torch.no_grad():\n",
    "\n",
    "        correct_pred, num_examples = 0, 0\n",
    "\n",
    "        for i, (features, targets) in enumerate(data_loader):\n",
    "\n",
    "            features = features.to(device)\n",
    "            targets = targets.float().to(device)\n",
    "\n",
    "            logits = model(features)\n",
    "            _, predicted_labels = torch.max(logits, 1)\n",
    "\n",
    "            num_examples += targets.size(0)\n",
    "            correct_pred += (predicted_labels == targets).sum()\n",
    "    return correct_pred.float()/num_examples * 100\n"
   ],
   "metadata": {
    "collapsed": false,
    "pycharm": {
     "name": "#%%\n"
    }
   }
  },
  {
   "cell_type": "code",
   "execution_count": 237,
   "outputs": [],
   "source": [
    "def predict_label(model, data_loader, device):\n",
    "\n",
    "    with torch.no_grad():\n",
    "        Y_acctual, Y_preds = [], []\n",
    "        correct_pred, num_examples = 0, 0\n",
    "\n",
    "        for i, (features, targets) in enumerate(data_loader):\n",
    "\n",
    "            features = features.to(device)\n",
    "            targets = targets.float().to(device)\n",
    "\n",
    "            logits = model(features)\n",
    "            _, predicted_labels = torch.max(logits, 1)\n",
    "\n",
    "            num_examples += targets.size(0)\n",
    "            correct_pred += (predicted_labels == targets).sum()\n",
    "            Y_preds.append(predicted_labels.cpu().data.numpy())\n",
    "            Y_acctual.append(targets.cpu().data.numpy())\n",
    "    return  np.concatenate(Y_preds), np.concatenate(Y_acctual)"
   ],
   "metadata": {
    "collapsed": false,
    "pycharm": {
     "name": "#%%\n"
    }
   }
  },
  {
   "cell_type": "code",
   "execution_count": 238,
   "outputs": [
    {
     "name": "stdout",
     "output_type": "stream",
     "text": [
      "Epoch: 001/100 | Batch 000/392 | Loss: 1.1232\n",
      "Epoch: 001/100 | Batch 050/392 | Loss: 0.7860\n",
      "Epoch: 001/100 | Batch 100/392 | Loss: 0.7300\n",
      "Epoch: 001/100 | Batch 150/392 | Loss: 0.5415\n",
      "Epoch: 001/100 | Batch 200/392 | Loss: 0.5919\n",
      "Epoch: 001/100 | Batch 250/392 | Loss: 0.7668\n",
      "Epoch: 001/100 | Batch 300/392 | Loss: 0.9377\n",
      "Epoch: 001/100 | Batch 350/392 | Loss: 0.4389\n",
      "training accuracy: 77.86%\n",
      "valid accuracy: 70.48%\n",
      "Time elapsed: 0.64 min\n",
      "Epoch: 002/100 | Batch 000/392 | Loss: 0.4575\n",
      "Epoch: 002/100 | Batch 050/392 | Loss: 0.5531\n",
      "Epoch: 002/100 | Batch 100/392 | Loss: 0.5079\n",
      "Epoch: 002/100 | Batch 150/392 | Loss: 0.2603\n",
      "Epoch: 002/100 | Batch 200/392 | Loss: 0.5548\n",
      "Epoch: 002/100 | Batch 250/392 | Loss: 0.4943\n",
      "Epoch: 002/100 | Batch 300/392 | Loss: 0.5380\n",
      "Epoch: 002/100 | Batch 350/392 | Loss: 0.6136\n",
      "training accuracy: 87.05%\n",
      "valid accuracy: 75.60%\n",
      "Time elapsed: 1.27 min\n",
      "Epoch: 003/100 | Batch 000/392 | Loss: 0.4083\n",
      "Epoch: 003/100 | Batch 050/392 | Loss: 0.5426\n",
      "Epoch: 003/100 | Batch 100/392 | Loss: 0.4049\n",
      "Epoch: 003/100 | Batch 150/392 | Loss: 0.2171\n",
      "Epoch: 003/100 | Batch 200/392 | Loss: 0.1722\n",
      "Epoch: 003/100 | Batch 250/392 | Loss: 0.3304\n",
      "Epoch: 003/100 | Batch 300/392 | Loss: 0.4074\n",
      "Epoch: 003/100 | Batch 350/392 | Loss: 0.4402\n",
      "training accuracy: 93.85%\n",
      "valid accuracy: 75.92%\n",
      "Time elapsed: 1.90 min\n",
      "Epoch: 004/100 | Batch 000/392 | Loss: 0.2097\n",
      "Epoch: 004/100 | Batch 050/392 | Loss: 0.1922\n",
      "Epoch: 004/100 | Batch 100/392 | Loss: 0.1734\n",
      "Epoch: 004/100 | Batch 150/392 | Loss: 0.1135\n",
      "Epoch: 004/100 | Batch 200/392 | Loss: 0.1761\n",
      "Epoch: 004/100 | Batch 250/392 | Loss: 0.1540\n",
      "Epoch: 004/100 | Batch 300/392 | Loss: 0.1890\n",
      "Epoch: 004/100 | Batch 350/392 | Loss: 0.2344\n",
      "training accuracy: 96.95%\n",
      "valid accuracy: 73.38%\n",
      "Time elapsed: 2.53 min\n",
      "Epoch: 005/100 | Batch 000/392 | Loss: 0.0717\n",
      "Epoch: 005/100 | Batch 050/392 | Loss: 0.1271\n",
      "Epoch: 005/100 | Batch 100/392 | Loss: 0.0233\n",
      "Epoch: 005/100 | Batch 150/392 | Loss: 0.2223\n",
      "Epoch: 005/100 | Batch 200/392 | Loss: 0.2160\n",
      "Epoch: 005/100 | Batch 250/392 | Loss: 0.2101\n",
      "Epoch: 005/100 | Batch 300/392 | Loss: 0.0934\n",
      "Epoch: 005/100 | Batch 350/392 | Loss: 0.1014\n",
      "training accuracy: 98.70%\n",
      "valid accuracy: 73.61%\n",
      "Time elapsed: 3.15 min\n",
      "Epoch: 006/100 | Batch 000/392 | Loss: 0.0238\n",
      "Epoch: 006/100 | Batch 050/392 | Loss: 0.0615\n",
      "Epoch: 006/100 | Batch 100/392 | Loss: 0.0092\n",
      "Epoch: 006/100 | Batch 150/392 | Loss: 0.2251\n",
      "Epoch: 006/100 | Batch 200/392 | Loss: 0.0367\n",
      "Epoch: 006/100 | Batch 250/392 | Loss: 0.0379\n",
      "Epoch: 006/100 | Batch 300/392 | Loss: 0.0175\n",
      "Epoch: 006/100 | Batch 350/392 | Loss: 0.0426\n",
      "training accuracy: 99.54%\n",
      "valid accuracy: 73.70%\n",
      "Time elapsed: 3.78 min\n",
      "Epoch: 007/100 | Batch 000/392 | Loss: 0.0066\n",
      "Epoch: 007/100 | Batch 050/392 | Loss: 0.0593\n",
      "Epoch: 007/100 | Batch 100/392 | Loss: 0.0036\n",
      "Epoch: 007/100 | Batch 150/392 | Loss: 0.0089\n",
      "Epoch: 007/100 | Batch 200/392 | Loss: 0.0079\n",
      "Epoch: 007/100 | Batch 250/392 | Loss: 0.0263\n",
      "Epoch: 007/100 | Batch 300/392 | Loss: 0.0139\n",
      "Epoch: 007/100 | Batch 350/392 | Loss: 0.0049\n",
      "training accuracy: 99.49%\n",
      "valid accuracy: 75.06%\n",
      "Time elapsed: 4.41 min\n",
      "Epoch: 008/100 | Batch 000/392 | Loss: 0.0027\n",
      "Epoch: 008/100 | Batch 050/392 | Loss: 0.0152\n",
      "Epoch: 008/100 | Batch 100/392 | Loss: 0.0156\n",
      "Epoch: 008/100 | Batch 150/392 | Loss: 0.0267\n",
      "Epoch: 008/100 | Batch 200/392 | Loss: 0.0038\n",
      "Epoch: 008/100 | Batch 250/392 | Loss: 0.0107\n",
      "Epoch: 008/100 | Batch 300/392 | Loss: 0.0119\n",
      "Epoch: 008/100 | Batch 350/392 | Loss: 0.0460\n",
      "training accuracy: 99.70%\n",
      "valid accuracy: 74.47%\n",
      "Time elapsed: 5.05 min\n",
      "Epoch: 009/100 | Batch 000/392 | Loss: 0.0031\n",
      "Epoch: 009/100 | Batch 050/392 | Loss: 0.0130\n",
      "Epoch: 009/100 | Batch 100/392 | Loss: 0.0370\n",
      "Epoch: 009/100 | Batch 150/392 | Loss: 0.0138\n",
      "Epoch: 009/100 | Batch 200/392 | Loss: 0.0728\n",
      "Epoch: 009/100 | Batch 250/392 | Loss: 0.0107\n",
      "Epoch: 009/100 | Batch 300/392 | Loss: 0.0227\n",
      "Epoch: 009/100 | Batch 350/392 | Loss: 0.0036\n",
      "training accuracy: 99.63%\n",
      "valid accuracy: 74.15%\n",
      "Time elapsed: 5.68 min\n",
      "Epoch: 010/100 | Batch 000/392 | Loss: 0.0558\n",
      "Epoch: 010/100 | Batch 050/392 | Loss: 0.0342\n",
      "Epoch: 010/100 | Batch 100/392 | Loss: 0.0101\n",
      "Epoch: 010/100 | Batch 150/392 | Loss: 0.0114\n",
      "Epoch: 010/100 | Batch 200/392 | Loss: 0.0578\n",
      "Epoch: 010/100 | Batch 250/392 | Loss: 0.0105\n",
      "Epoch: 010/100 | Batch 300/392 | Loss: 0.0041\n",
      "Epoch: 010/100 | Batch 350/392 | Loss: 0.1087\n",
      "training accuracy: 99.35%\n",
      "valid accuracy: 73.43%\n",
      "Time elapsed: 6.30 min\n",
      "Epoch: 011/100 | Batch 000/392 | Loss: 0.0226\n",
      "Epoch: 011/100 | Batch 050/392 | Loss: 0.0215\n",
      "Epoch: 011/100 | Batch 100/392 | Loss: 0.0014\n",
      "Epoch: 011/100 | Batch 150/392 | Loss: 0.0371\n",
      "Epoch: 011/100 | Batch 200/392 | Loss: 0.0020\n",
      "Epoch: 011/100 | Batch 250/392 | Loss: 0.0504\n",
      "Epoch: 011/100 | Batch 300/392 | Loss: 0.1311\n",
      "Epoch: 011/100 | Batch 350/392 | Loss: 0.0092\n",
      "training accuracy: 98.64%\n",
      "valid accuracy: 72.20%\n",
      "Time elapsed: 6.92 min\n",
      "Epoch: 012/100 | Batch 000/392 | Loss: 0.0392\n",
      "Epoch: 012/100 | Batch 050/392 | Loss: 0.0444\n",
      "Epoch: 012/100 | Batch 100/392 | Loss: 0.0381\n",
      "Epoch: 012/100 | Batch 150/392 | Loss: 0.0494\n",
      "Epoch: 012/100 | Batch 200/392 | Loss: 0.0111\n",
      "Epoch: 012/100 | Batch 250/392 | Loss: 0.1735\n",
      "Epoch: 012/100 | Batch 300/392 | Loss: 0.2450\n",
      "Epoch: 012/100 | Batch 350/392 | Loss: 0.0381\n",
      "training accuracy: 99.24%\n",
      "valid accuracy: 73.65%\n",
      "Time elapsed: 7.55 min\n",
      "Epoch: 013/100 | Batch 000/392 | Loss: 0.0078\n",
      "Epoch: 013/100 | Batch 050/392 | Loss: 0.0022\n",
      "Epoch: 013/100 | Batch 100/392 | Loss: 0.0433\n",
      "Epoch: 013/100 | Batch 150/392 | Loss: 0.0232\n",
      "Epoch: 013/100 | Batch 200/392 | Loss: 0.1208\n",
      "Epoch: 013/100 | Batch 250/392 | Loss: 0.0060\n",
      "Epoch: 013/100 | Batch 300/392 | Loss: 0.0527\n",
      "Epoch: 013/100 | Batch 350/392 | Loss: 0.0643\n",
      "training accuracy: 99.79%\n",
      "valid accuracy: 74.88%\n",
      "Time elapsed: 8.19 min\n",
      "Epoch: 014/100 | Batch 000/392 | Loss: 0.0197\n",
      "Epoch: 014/100 | Batch 050/392 | Loss: 0.0043\n",
      "Epoch: 014/100 | Batch 100/392 | Loss: 0.0029\n",
      "Epoch: 014/100 | Batch 150/392 | Loss: 0.0020\n",
      "Epoch: 014/100 | Batch 200/392 | Loss: 0.0469\n",
      "Epoch: 014/100 | Batch 250/392 | Loss: 0.0143\n",
      "Epoch: 014/100 | Batch 300/392 | Loss: 0.0242\n",
      "Epoch: 014/100 | Batch 350/392 | Loss: 0.0057\n",
      "training accuracy: 99.46%\n",
      "valid accuracy: 72.48%\n",
      "Time elapsed: 8.78 min\n",
      "Epoch: 015/100 | Batch 000/392 | Loss: 0.0373\n",
      "Epoch: 015/100 | Batch 050/392 | Loss: 0.0106\n",
      "Epoch: 015/100 | Batch 100/392 | Loss: 0.0010\n",
      "Epoch: 015/100 | Batch 150/392 | Loss: 0.0322\n",
      "Epoch: 015/100 | Batch 200/392 | Loss: 0.0009\n",
      "Epoch: 015/100 | Batch 250/392 | Loss: 0.0002\n",
      "Epoch: 015/100 | Batch 300/392 | Loss: 0.0081\n",
      "Epoch: 015/100 | Batch 350/392 | Loss: 0.0039\n",
      "training accuracy: 99.74%\n",
      "valid accuracy: 72.30%\n",
      "Time elapsed: 9.38 min\n",
      "Epoch: 016/100 | Batch 000/392 | Loss: 0.0012\n",
      "Epoch: 016/100 | Batch 050/392 | Loss: 0.0074\n",
      "Epoch: 016/100 | Batch 100/392 | Loss: 0.0007\n",
      "Epoch: 016/100 | Batch 150/392 | Loss: 0.0051\n",
      "Epoch: 016/100 | Batch 200/392 | Loss: 0.0013\n",
      "Epoch: 016/100 | Batch 250/392 | Loss: 0.0017\n",
      "Epoch: 016/100 | Batch 300/392 | Loss: 0.0010\n",
      "Epoch: 016/100 | Batch 350/392 | Loss: 0.0041\n",
      "training accuracy: 99.31%\n",
      "valid accuracy: 73.74%\n",
      "Time elapsed: 9.97 min\n",
      "Epoch: 017/100 | Batch 000/392 | Loss: 0.0002\n",
      "Epoch: 017/100 | Batch 050/392 | Loss: 0.0029\n",
      "Epoch: 017/100 | Batch 100/392 | Loss: 0.0008\n",
      "Epoch: 017/100 | Batch 150/392 | Loss: 0.0156\n",
      "Epoch: 017/100 | Batch 200/392 | Loss: 0.0053\n",
      "Epoch: 017/100 | Batch 250/392 | Loss: 0.0078\n",
      "Epoch: 017/100 | Batch 300/392 | Loss: 0.1986\n",
      "Epoch: 017/100 | Batch 350/392 | Loss: 0.0453\n",
      "training accuracy: 97.46%\n",
      "valid accuracy: 75.78%\n",
      "Time elapsed: 10.57 min\n",
      "Epoch: 018/100 | Batch 000/392 | Loss: 0.3286\n",
      "Epoch: 018/100 | Batch 050/392 | Loss: 0.0062\n",
      "Epoch: 018/100 | Batch 100/392 | Loss: 0.0873\n",
      "Epoch: 018/100 | Batch 150/392 | Loss: 0.0263\n",
      "Epoch: 018/100 | Batch 200/392 | Loss: 0.0043\n",
      "Epoch: 018/100 | Batch 250/392 | Loss: 0.0980\n",
      "Epoch: 018/100 | Batch 300/392 | Loss: 0.0466\n",
      "Epoch: 018/100 | Batch 350/392 | Loss: 0.0243\n",
      "training accuracy: 99.09%\n",
      "valid accuracy: 73.65%\n",
      "Time elapsed: 11.16 min\n",
      "Epoch: 019/100 | Batch 000/392 | Loss: 0.0441\n",
      "Epoch: 019/100 | Batch 050/392 | Loss: 0.0085\n",
      "Epoch: 019/100 | Batch 100/392 | Loss: 0.0030\n",
      "Epoch: 019/100 | Batch 150/392 | Loss: 0.0087\n",
      "Epoch: 019/100 | Batch 200/392 | Loss: 0.0360\n",
      "Epoch: 019/100 | Batch 250/392 | Loss: 0.0169\n",
      "Epoch: 019/100 | Batch 300/392 | Loss: 0.0387\n",
      "Epoch: 019/100 | Batch 350/392 | Loss: 0.0553\n",
      "training accuracy: 99.27%\n",
      "valid accuracy: 73.56%\n",
      "Time elapsed: 11.74 min\n",
      "Epoch: 020/100 | Batch 000/392 | Loss: 0.0137\n",
      "Epoch: 020/100 | Batch 050/392 | Loss: 0.0083\n",
      "Epoch: 020/100 | Batch 100/392 | Loss: 0.0021\n",
      "Epoch: 020/100 | Batch 150/392 | Loss: 0.1352\n",
      "Epoch: 020/100 | Batch 200/392 | Loss: 0.0368\n",
      "Epoch: 020/100 | Batch 250/392 | Loss: 0.0039\n",
      "Epoch: 020/100 | Batch 300/392 | Loss: 0.0217\n",
      "Epoch: 020/100 | Batch 350/392 | Loss: 0.0163\n",
      "training accuracy: 99.33%\n",
      "valid accuracy: 73.79%\n",
      "Time elapsed: 12.35 min\n",
      "Epoch: 021/100 | Batch 000/392 | Loss: 0.0128\n",
      "Epoch: 021/100 | Batch 050/392 | Loss: 0.0198\n",
      "Epoch: 021/100 | Batch 100/392 | Loss: 0.0150\n",
      "Epoch: 021/100 | Batch 150/392 | Loss: 0.0233\n",
      "Epoch: 021/100 | Batch 200/392 | Loss: 0.0220\n",
      "Epoch: 021/100 | Batch 250/392 | Loss: 0.0416\n",
      "Epoch: 021/100 | Batch 300/392 | Loss: 0.0010\n",
      "Epoch: 021/100 | Batch 350/392 | Loss: 0.0027\n",
      "training accuracy: 99.31%\n",
      "valid accuracy: 75.24%\n",
      "Time elapsed: 12.96 min\n",
      "Epoch: 022/100 | Batch 000/392 | Loss: 0.0016\n",
      "Epoch: 022/100 | Batch 050/392 | Loss: 0.0115\n",
      "Epoch: 022/100 | Batch 100/392 | Loss: 0.2863\n",
      "Epoch: 022/100 | Batch 150/392 | Loss: 0.0699\n",
      "Epoch: 022/100 | Batch 200/392 | Loss: 0.0401\n",
      "Epoch: 022/100 | Batch 250/392 | Loss: nan\n",
      "Epoch: 022/100 | Batch 300/392 | Loss: nan\n",
      "Epoch: 022/100 | Batch 350/392 | Loss: nan\n",
      "training accuracy: 61.69%\n",
      "valid accuracy: 62.79%\n",
      "Time elapsed: 13.61 min\n",
      "Epoch: 023/100 | Batch 000/392 | Loss: nan\n",
      "Epoch: 023/100 | Batch 050/392 | Loss: nan\n",
      "Epoch: 023/100 | Batch 100/392 | Loss: nan\n",
      "Epoch: 023/100 | Batch 150/392 | Loss: nan\n",
      "Epoch: 023/100 | Batch 200/392 | Loss: nan\n",
      "Epoch: 023/100 | Batch 250/392 | Loss: nan\n",
      "Epoch: 023/100 | Batch 300/392 | Loss: nan\n",
      "Epoch: 023/100 | Batch 350/392 | Loss: nan\n",
      "training accuracy: 61.69%\n",
      "valid accuracy: 62.79%\n",
      "Time elapsed: 14.27 min\n",
      "Epoch: 024/100 | Batch 000/392 | Loss: nan\n",
      "Epoch: 024/100 | Batch 050/392 | Loss: nan\n",
      "Epoch: 024/100 | Batch 100/392 | Loss: nan\n",
      "Epoch: 024/100 | Batch 150/392 | Loss: nan\n",
      "Epoch: 024/100 | Batch 200/392 | Loss: nan\n",
      "Epoch: 024/100 | Batch 250/392 | Loss: nan\n",
      "Epoch: 024/100 | Batch 300/392 | Loss: nan\n",
      "Epoch: 024/100 | Batch 350/392 | Loss: nan\n",
      "training accuracy: 61.69%\n",
      "valid accuracy: 62.79%\n",
      "Time elapsed: 14.91 min\n",
      "Epoch: 025/100 | Batch 000/392 | Loss: nan\n",
      "Epoch: 025/100 | Batch 050/392 | Loss: nan\n",
      "Epoch: 025/100 | Batch 100/392 | Loss: nan\n",
      "Epoch: 025/100 | Batch 150/392 | Loss: nan\n",
      "Epoch: 025/100 | Batch 200/392 | Loss: nan\n",
      "Epoch: 025/100 | Batch 250/392 | Loss: nan\n",
      "Epoch: 025/100 | Batch 300/392 | Loss: nan\n",
      "Epoch: 025/100 | Batch 350/392 | Loss: nan\n",
      "training accuracy: 61.69%\n",
      "valid accuracy: 62.79%\n",
      "Time elapsed: 15.53 min\n",
      "Epoch: 026/100 | Batch 000/392 | Loss: nan\n",
      "Epoch: 026/100 | Batch 050/392 | Loss: nan\n",
      "Epoch: 026/100 | Batch 100/392 | Loss: nan\n",
      "Epoch: 026/100 | Batch 150/392 | Loss: nan\n",
      "Epoch: 026/100 | Batch 200/392 | Loss: nan\n",
      "Epoch: 026/100 | Batch 250/392 | Loss: nan\n",
      "Epoch: 026/100 | Batch 300/392 | Loss: nan\n",
      "Epoch: 026/100 | Batch 350/392 | Loss: nan\n",
      "training accuracy: 61.69%\n",
      "valid accuracy: 62.79%\n",
      "Time elapsed: 16.16 min\n",
      "Epoch: 027/100 | Batch 000/392 | Loss: nan\n",
      "Epoch: 027/100 | Batch 050/392 | Loss: nan\n",
      "Epoch: 027/100 | Batch 100/392 | Loss: nan\n",
      "Epoch: 027/100 | Batch 150/392 | Loss: nan\n",
      "Epoch: 027/100 | Batch 200/392 | Loss: nan\n",
      "Epoch: 027/100 | Batch 250/392 | Loss: nan\n",
      "Epoch: 027/100 | Batch 300/392 | Loss: nan\n",
      "Epoch: 027/100 | Batch 350/392 | Loss: nan\n",
      "training accuracy: 61.69%\n",
      "valid accuracy: 62.79%\n",
      "Time elapsed: 16.80 min\n",
      "Epoch: 028/100 | Batch 000/392 | Loss: nan\n",
      "Epoch: 028/100 | Batch 050/392 | Loss: nan\n",
      "Epoch: 028/100 | Batch 100/392 | Loss: nan\n",
      "Epoch: 028/100 | Batch 150/392 | Loss: nan\n",
      "Epoch: 028/100 | Batch 200/392 | Loss: nan\n",
      "Epoch: 028/100 | Batch 250/392 | Loss: nan\n",
      "Epoch: 028/100 | Batch 300/392 | Loss: nan\n",
      "Epoch: 028/100 | Batch 350/392 | Loss: nan\n",
      "training accuracy: 61.69%\n",
      "valid accuracy: 62.79%\n",
      "Time elapsed: 17.46 min\n",
      "Epoch: 029/100 | Batch 000/392 | Loss: nan\n",
      "Epoch: 029/100 | Batch 050/392 | Loss: nan\n",
      "Epoch: 029/100 | Batch 100/392 | Loss: nan\n",
      "Epoch: 029/100 | Batch 150/392 | Loss: nan\n",
      "Epoch: 029/100 | Batch 200/392 | Loss: nan\n",
      "Epoch: 029/100 | Batch 250/392 | Loss: nan\n",
      "Epoch: 029/100 | Batch 300/392 | Loss: nan\n",
      "Epoch: 029/100 | Batch 350/392 | Loss: nan\n",
      "training accuracy: 61.69%\n",
      "valid accuracy: 62.79%\n",
      "Time elapsed: 18.09 min\n",
      "Epoch: 030/100 | Batch 000/392 | Loss: nan\n",
      "Epoch: 030/100 | Batch 050/392 | Loss: nan\n",
      "Epoch: 030/100 | Batch 100/392 | Loss: nan\n",
      "Epoch: 030/100 | Batch 150/392 | Loss: nan\n",
      "Epoch: 030/100 | Batch 200/392 | Loss: nan\n",
      "Epoch: 030/100 | Batch 250/392 | Loss: nan\n",
      "Epoch: 030/100 | Batch 300/392 | Loss: nan\n",
      "Epoch: 030/100 | Batch 350/392 | Loss: nan\n",
      "training accuracy: 61.69%\n",
      "valid accuracy: 62.79%\n",
      "Time elapsed: 18.68 min\n",
      "Epoch: 031/100 | Batch 000/392 | Loss: nan\n",
      "Epoch: 031/100 | Batch 050/392 | Loss: nan\n",
      "Epoch: 031/100 | Batch 100/392 | Loss: nan\n",
      "Epoch: 031/100 | Batch 150/392 | Loss: nan\n",
      "Epoch: 031/100 | Batch 200/392 | Loss: nan\n",
      "Epoch: 031/100 | Batch 250/392 | Loss: nan\n",
      "Epoch: 031/100 | Batch 300/392 | Loss: nan\n",
      "Epoch: 031/100 | Batch 350/392 | Loss: nan\n",
      "training accuracy: 61.69%\n",
      "valid accuracy: 62.79%\n",
      "Time elapsed: 19.29 min\n",
      "Epoch: 032/100 | Batch 000/392 | Loss: nan\n",
      "Epoch: 032/100 | Batch 050/392 | Loss: nan\n",
      "Epoch: 032/100 | Batch 100/392 | Loss: nan\n",
      "Epoch: 032/100 | Batch 150/392 | Loss: nan\n",
      "Epoch: 032/100 | Batch 200/392 | Loss: nan\n",
      "Epoch: 032/100 | Batch 250/392 | Loss: nan\n",
      "Epoch: 032/100 | Batch 300/392 | Loss: nan\n",
      "Epoch: 032/100 | Batch 350/392 | Loss: nan\n",
      "training accuracy: 61.69%\n",
      "valid accuracy: 62.79%\n",
      "Time elapsed: 19.97 min\n",
      "Epoch: 033/100 | Batch 000/392 | Loss: nan\n",
      "Epoch: 033/100 | Batch 050/392 | Loss: nan\n",
      "Epoch: 033/100 | Batch 100/392 | Loss: nan\n",
      "Epoch: 033/100 | Batch 150/392 | Loss: nan\n",
      "Epoch: 033/100 | Batch 200/392 | Loss: nan\n",
      "Epoch: 033/100 | Batch 250/392 | Loss: nan\n",
      "Epoch: 033/100 | Batch 300/392 | Loss: nan\n",
      "Epoch: 033/100 | Batch 350/392 | Loss: nan\n",
      "training accuracy: 61.69%\n",
      "valid accuracy: 62.79%\n",
      "Time elapsed: 20.62 min\n",
      "Epoch: 034/100 | Batch 000/392 | Loss: nan\n",
      "Epoch: 034/100 | Batch 050/392 | Loss: nan\n",
      "Epoch: 034/100 | Batch 100/392 | Loss: nan\n",
      "Epoch: 034/100 | Batch 150/392 | Loss: nan\n",
      "Epoch: 034/100 | Batch 200/392 | Loss: nan\n",
      "Epoch: 034/100 | Batch 250/392 | Loss: nan\n",
      "Epoch: 034/100 | Batch 300/392 | Loss: nan\n",
      "Epoch: 034/100 | Batch 350/392 | Loss: nan\n",
      "training accuracy: 61.69%\n",
      "valid accuracy: 62.79%\n",
      "Time elapsed: 21.26 min\n",
      "Epoch: 035/100 | Batch 000/392 | Loss: nan\n",
      "Epoch: 035/100 | Batch 050/392 | Loss: nan\n",
      "Epoch: 035/100 | Batch 100/392 | Loss: nan\n",
      "Epoch: 035/100 | Batch 150/392 | Loss: nan\n",
      "Epoch: 035/100 | Batch 200/392 | Loss: nan\n",
      "Epoch: 035/100 | Batch 250/392 | Loss: nan\n",
      "Epoch: 035/100 | Batch 300/392 | Loss: nan\n",
      "Epoch: 035/100 | Batch 350/392 | Loss: nan\n",
      "training accuracy: 61.69%\n",
      "valid accuracy: 62.79%\n",
      "Time elapsed: 21.90 min\n",
      "Epoch: 036/100 | Batch 000/392 | Loss: nan\n",
      "Epoch: 036/100 | Batch 050/392 | Loss: nan\n",
      "Epoch: 036/100 | Batch 100/392 | Loss: nan\n",
      "Epoch: 036/100 | Batch 150/392 | Loss: nan\n",
      "Epoch: 036/100 | Batch 200/392 | Loss: nan\n",
      "Epoch: 036/100 | Batch 250/392 | Loss: nan\n",
      "Epoch: 036/100 | Batch 300/392 | Loss: nan\n",
      "Epoch: 036/100 | Batch 350/392 | Loss: nan\n",
      "training accuracy: 61.69%\n",
      "valid accuracy: 62.79%\n",
      "Time elapsed: 22.54 min\n",
      "Epoch: 037/100 | Batch 000/392 | Loss: nan\n",
      "Epoch: 037/100 | Batch 050/392 | Loss: nan\n",
      "Epoch: 037/100 | Batch 100/392 | Loss: nan\n",
      "Epoch: 037/100 | Batch 150/392 | Loss: nan\n",
      "Epoch: 037/100 | Batch 200/392 | Loss: nan\n",
      "Epoch: 037/100 | Batch 250/392 | Loss: nan\n",
      "Epoch: 037/100 | Batch 300/392 | Loss: nan\n",
      "Epoch: 037/100 | Batch 350/392 | Loss: nan\n",
      "training accuracy: 61.69%\n",
      "valid accuracy: 62.79%\n",
      "Time elapsed: 23.17 min\n",
      "Epoch: 038/100 | Batch 000/392 | Loss: nan\n",
      "Epoch: 038/100 | Batch 050/392 | Loss: nan\n",
      "Epoch: 038/100 | Batch 100/392 | Loss: nan\n",
      "Epoch: 038/100 | Batch 150/392 | Loss: nan\n",
      "Epoch: 038/100 | Batch 200/392 | Loss: nan\n",
      "Epoch: 038/100 | Batch 250/392 | Loss: nan\n",
      "Epoch: 038/100 | Batch 300/392 | Loss: nan\n",
      "Epoch: 038/100 | Batch 350/392 | Loss: nan\n",
      "training accuracy: 61.69%\n",
      "valid accuracy: 62.79%\n",
      "Time elapsed: 23.79 min\n",
      "Epoch: 039/100 | Batch 000/392 | Loss: nan\n",
      "Epoch: 039/100 | Batch 050/392 | Loss: nan\n",
      "Epoch: 039/100 | Batch 100/392 | Loss: nan\n",
      "Epoch: 039/100 | Batch 150/392 | Loss: nan\n",
      "Epoch: 039/100 | Batch 200/392 | Loss: nan\n",
      "Epoch: 039/100 | Batch 250/392 | Loss: nan\n",
      "Epoch: 039/100 | Batch 300/392 | Loss: nan\n",
      "Epoch: 039/100 | Batch 350/392 | Loss: nan\n",
      "training accuracy: 61.69%\n",
      "valid accuracy: 62.79%\n",
      "Time elapsed: 24.40 min\n",
      "Epoch: 040/100 | Batch 000/392 | Loss: nan\n",
      "Epoch: 040/100 | Batch 050/392 | Loss: nan\n",
      "Epoch: 040/100 | Batch 100/392 | Loss: nan\n",
      "Epoch: 040/100 | Batch 150/392 | Loss: nan\n",
      "Epoch: 040/100 | Batch 200/392 | Loss: nan\n",
      "Epoch: 040/100 | Batch 250/392 | Loss: nan\n",
      "Epoch: 040/100 | Batch 300/392 | Loss: nan\n",
      "Epoch: 040/100 | Batch 350/392 | Loss: nan\n",
      "training accuracy: 61.69%\n",
      "valid accuracy: 62.79%\n",
      "Time elapsed: 25.02 min\n",
      "Epoch: 041/100 | Batch 000/392 | Loss: nan\n",
      "Epoch: 041/100 | Batch 050/392 | Loss: nan\n",
      "Epoch: 041/100 | Batch 100/392 | Loss: nan\n",
      "Epoch: 041/100 | Batch 150/392 | Loss: nan\n",
      "Epoch: 041/100 | Batch 200/392 | Loss: nan\n",
      "Epoch: 041/100 | Batch 250/392 | Loss: nan\n",
      "Epoch: 041/100 | Batch 300/392 | Loss: nan\n",
      "Epoch: 041/100 | Batch 350/392 | Loss: nan\n",
      "training accuracy: 61.69%\n",
      "valid accuracy: 62.79%\n",
      "Time elapsed: 25.64 min\n",
      "Epoch: 042/100 | Batch 000/392 | Loss: nan\n",
      "Epoch: 042/100 | Batch 050/392 | Loss: nan\n",
      "Epoch: 042/100 | Batch 100/392 | Loss: nan\n",
      "Epoch: 042/100 | Batch 150/392 | Loss: nan\n",
      "Epoch: 042/100 | Batch 200/392 | Loss: nan\n",
      "Epoch: 042/100 | Batch 250/392 | Loss: nan\n",
      "Epoch: 042/100 | Batch 300/392 | Loss: nan\n",
      "Epoch: 042/100 | Batch 350/392 | Loss: nan\n",
      "training accuracy: 61.69%\n",
      "valid accuracy: 62.79%\n",
      "Time elapsed: 26.28 min\n",
      "Epoch: 043/100 | Batch 000/392 | Loss: nan\n",
      "Epoch: 043/100 | Batch 050/392 | Loss: nan\n",
      "Epoch: 043/100 | Batch 100/392 | Loss: nan\n",
      "Epoch: 043/100 | Batch 150/392 | Loss: nan\n",
      "Epoch: 043/100 | Batch 200/392 | Loss: nan\n",
      "Epoch: 043/100 | Batch 250/392 | Loss: nan\n",
      "Epoch: 043/100 | Batch 300/392 | Loss: nan\n",
      "Epoch: 043/100 | Batch 350/392 | Loss: nan\n",
      "training accuracy: 61.69%\n",
      "valid accuracy: 62.79%\n",
      "Time elapsed: 26.88 min\n",
      "Epoch: 044/100 | Batch 000/392 | Loss: nan\n",
      "Epoch: 044/100 | Batch 050/392 | Loss: nan\n",
      "Epoch: 044/100 | Batch 100/392 | Loss: nan\n",
      "Epoch: 044/100 | Batch 150/392 | Loss: nan\n",
      "Epoch: 044/100 | Batch 200/392 | Loss: nan\n",
      "Epoch: 044/100 | Batch 250/392 | Loss: nan\n",
      "Epoch: 044/100 | Batch 300/392 | Loss: nan\n",
      "Epoch: 044/100 | Batch 350/392 | Loss: nan\n",
      "training accuracy: 61.69%\n",
      "valid accuracy: 62.79%\n",
      "Time elapsed: 27.52 min\n",
      "Epoch: 045/100 | Batch 000/392 | Loss: nan\n",
      "Epoch: 045/100 | Batch 050/392 | Loss: nan\n",
      "Epoch: 045/100 | Batch 100/392 | Loss: nan\n",
      "Epoch: 045/100 | Batch 150/392 | Loss: nan\n",
      "Epoch: 045/100 | Batch 200/392 | Loss: nan\n",
      "Epoch: 045/100 | Batch 250/392 | Loss: nan\n",
      "Epoch: 045/100 | Batch 300/392 | Loss: nan\n",
      "Epoch: 045/100 | Batch 350/392 | Loss: nan\n",
      "training accuracy: 61.69%\n",
      "valid accuracy: 62.79%\n",
      "Time elapsed: 28.12 min\n",
      "Epoch: 046/100 | Batch 000/392 | Loss: nan\n",
      "Epoch: 046/100 | Batch 050/392 | Loss: nan\n",
      "Epoch: 046/100 | Batch 100/392 | Loss: nan\n",
      "Epoch: 046/100 | Batch 150/392 | Loss: nan\n",
      "Epoch: 046/100 | Batch 200/392 | Loss: nan\n",
      "Epoch: 046/100 | Batch 250/392 | Loss: nan\n",
      "Epoch: 046/100 | Batch 300/392 | Loss: nan\n",
      "Epoch: 046/100 | Batch 350/392 | Loss: nan\n",
      "training accuracy: 61.69%\n",
      "valid accuracy: 62.79%\n",
      "Time elapsed: 28.73 min\n",
      "Epoch: 047/100 | Batch 000/392 | Loss: nan\n",
      "Epoch: 047/100 | Batch 050/392 | Loss: nan\n",
      "Epoch: 047/100 | Batch 100/392 | Loss: nan\n",
      "Epoch: 047/100 | Batch 150/392 | Loss: nan\n",
      "Epoch: 047/100 | Batch 200/392 | Loss: nan\n",
      "Epoch: 047/100 | Batch 250/392 | Loss: nan\n",
      "Epoch: 047/100 | Batch 300/392 | Loss: nan\n",
      "Epoch: 047/100 | Batch 350/392 | Loss: nan\n",
      "training accuracy: 61.69%\n",
      "valid accuracy: 62.79%\n",
      "Time elapsed: 29.35 min\n",
      "Epoch: 048/100 | Batch 000/392 | Loss: nan\n",
      "Epoch: 048/100 | Batch 050/392 | Loss: nan\n",
      "Epoch: 048/100 | Batch 100/392 | Loss: nan\n",
      "Epoch: 048/100 | Batch 150/392 | Loss: nan\n",
      "Epoch: 048/100 | Batch 200/392 | Loss: nan\n",
      "Epoch: 048/100 | Batch 250/392 | Loss: nan\n",
      "Epoch: 048/100 | Batch 300/392 | Loss: nan\n",
      "Epoch: 048/100 | Batch 350/392 | Loss: nan\n",
      "training accuracy: 61.69%\n",
      "valid accuracy: 62.79%\n",
      "Time elapsed: 29.95 min\n",
      "Epoch: 049/100 | Batch 000/392 | Loss: nan\n",
      "Epoch: 049/100 | Batch 050/392 | Loss: nan\n",
      "Epoch: 049/100 | Batch 100/392 | Loss: nan\n",
      "Epoch: 049/100 | Batch 150/392 | Loss: nan\n",
      "Epoch: 049/100 | Batch 200/392 | Loss: nan\n",
      "Epoch: 049/100 | Batch 250/392 | Loss: nan\n",
      "Epoch: 049/100 | Batch 300/392 | Loss: nan\n",
      "Epoch: 049/100 | Batch 350/392 | Loss: nan\n",
      "training accuracy: 61.69%\n",
      "valid accuracy: 62.79%\n",
      "Time elapsed: 30.57 min\n",
      "Epoch: 050/100 | Batch 000/392 | Loss: nan\n",
      "Epoch: 050/100 | Batch 050/392 | Loss: nan\n",
      "Epoch: 050/100 | Batch 100/392 | Loss: nan\n",
      "Epoch: 050/100 | Batch 150/392 | Loss: nan\n",
      "Epoch: 050/100 | Batch 200/392 | Loss: nan\n",
      "Epoch: 050/100 | Batch 250/392 | Loss: nan\n",
      "Epoch: 050/100 | Batch 300/392 | Loss: nan\n",
      "Epoch: 050/100 | Batch 350/392 | Loss: nan\n",
      "training accuracy: 61.69%\n",
      "valid accuracy: 62.79%\n",
      "Time elapsed: 31.18 min\n",
      "Epoch: 051/100 | Batch 000/392 | Loss: nan\n",
      "Epoch: 051/100 | Batch 050/392 | Loss: nan\n",
      "Epoch: 051/100 | Batch 100/392 | Loss: nan\n",
      "Epoch: 051/100 | Batch 150/392 | Loss: nan\n",
      "Epoch: 051/100 | Batch 200/392 | Loss: nan\n",
      "Epoch: 051/100 | Batch 250/392 | Loss: nan\n",
      "Epoch: 051/100 | Batch 300/392 | Loss: nan\n",
      "Epoch: 051/100 | Batch 350/392 | Loss: nan\n",
      "training accuracy: 61.69%\n",
      "valid accuracy: 62.79%\n",
      "Time elapsed: 31.79 min\n",
      "Epoch: 052/100 | Batch 000/392 | Loss: nan\n",
      "Epoch: 052/100 | Batch 050/392 | Loss: nan\n",
      "Epoch: 052/100 | Batch 100/392 | Loss: nan\n",
      "Epoch: 052/100 | Batch 150/392 | Loss: nan\n",
      "Epoch: 052/100 | Batch 200/392 | Loss: nan\n",
      "Epoch: 052/100 | Batch 250/392 | Loss: nan\n",
      "Epoch: 052/100 | Batch 300/392 | Loss: nan\n",
      "Epoch: 052/100 | Batch 350/392 | Loss: nan\n",
      "training accuracy: 61.69%\n",
      "valid accuracy: 62.79%\n",
      "Time elapsed: 32.42 min\n",
      "Epoch: 053/100 | Batch 000/392 | Loss: nan\n",
      "Epoch: 053/100 | Batch 050/392 | Loss: nan\n",
      "Epoch: 053/100 | Batch 100/392 | Loss: nan\n",
      "Epoch: 053/100 | Batch 150/392 | Loss: nan\n",
      "Epoch: 053/100 | Batch 200/392 | Loss: nan\n",
      "Epoch: 053/100 | Batch 250/392 | Loss: nan\n",
      "Epoch: 053/100 | Batch 300/392 | Loss: nan\n",
      "Epoch: 053/100 | Batch 350/392 | Loss: nan\n",
      "training accuracy: 61.69%\n",
      "valid accuracy: 62.79%\n",
      "Time elapsed: 33.05 min\n",
      "Epoch: 054/100 | Batch 000/392 | Loss: nan\n",
      "Epoch: 054/100 | Batch 050/392 | Loss: nan\n",
      "Epoch: 054/100 | Batch 100/392 | Loss: nan\n",
      "Epoch: 054/100 | Batch 150/392 | Loss: nan\n",
      "Epoch: 054/100 | Batch 200/392 | Loss: nan\n",
      "Epoch: 054/100 | Batch 250/392 | Loss: nan\n",
      "Epoch: 054/100 | Batch 300/392 | Loss: nan\n",
      "Epoch: 054/100 | Batch 350/392 | Loss: nan\n",
      "training accuracy: 61.69%\n",
      "valid accuracy: 62.79%\n",
      "Time elapsed: 33.68 min\n",
      "Epoch: 055/100 | Batch 000/392 | Loss: nan\n",
      "Epoch: 055/100 | Batch 050/392 | Loss: nan\n",
      "Epoch: 055/100 | Batch 100/392 | Loss: nan\n",
      "Epoch: 055/100 | Batch 150/392 | Loss: nan\n",
      "Epoch: 055/100 | Batch 200/392 | Loss: nan\n",
      "Epoch: 055/100 | Batch 250/392 | Loss: nan\n",
      "Epoch: 055/100 | Batch 300/392 | Loss: nan\n",
      "Epoch: 055/100 | Batch 350/392 | Loss: nan\n",
      "training accuracy: 61.69%\n",
      "valid accuracy: 62.79%\n",
      "Time elapsed: 34.31 min\n",
      "Epoch: 056/100 | Batch 000/392 | Loss: nan\n",
      "Epoch: 056/100 | Batch 050/392 | Loss: nan\n",
      "Epoch: 056/100 | Batch 100/392 | Loss: nan\n",
      "Epoch: 056/100 | Batch 150/392 | Loss: nan\n",
      "Epoch: 056/100 | Batch 200/392 | Loss: nan\n",
      "Epoch: 056/100 | Batch 250/392 | Loss: nan\n",
      "Epoch: 056/100 | Batch 300/392 | Loss: nan\n",
      "Epoch: 056/100 | Batch 350/392 | Loss: nan\n",
      "training accuracy: 61.69%\n",
      "valid accuracy: 62.79%\n",
      "Time elapsed: 34.95 min\n",
      "Epoch: 057/100 | Batch 000/392 | Loss: nan\n",
      "Epoch: 057/100 | Batch 050/392 | Loss: nan\n",
      "Epoch: 057/100 | Batch 100/392 | Loss: nan\n",
      "Epoch: 057/100 | Batch 150/392 | Loss: nan\n",
      "Epoch: 057/100 | Batch 200/392 | Loss: nan\n",
      "Epoch: 057/100 | Batch 250/392 | Loss: nan\n",
      "Epoch: 057/100 | Batch 300/392 | Loss: nan\n",
      "Epoch: 057/100 | Batch 350/392 | Loss: nan\n",
      "training accuracy: 61.69%\n",
      "valid accuracy: 62.79%\n",
      "Time elapsed: 35.57 min\n",
      "Epoch: 058/100 | Batch 000/392 | Loss: nan\n",
      "Epoch: 058/100 | Batch 050/392 | Loss: nan\n",
      "Epoch: 058/100 | Batch 100/392 | Loss: nan\n",
      "Epoch: 058/100 | Batch 150/392 | Loss: nan\n",
      "Epoch: 058/100 | Batch 200/392 | Loss: nan\n",
      "Epoch: 058/100 | Batch 250/392 | Loss: nan\n",
      "Epoch: 058/100 | Batch 300/392 | Loss: nan\n",
      "Epoch: 058/100 | Batch 350/392 | Loss: nan\n",
      "training accuracy: 61.69%\n",
      "valid accuracy: 62.79%\n",
      "Time elapsed: 36.20 min\n",
      "Epoch: 059/100 | Batch 000/392 | Loss: nan\n",
      "Epoch: 059/100 | Batch 050/392 | Loss: nan\n",
      "Epoch: 059/100 | Batch 100/392 | Loss: nan\n",
      "Epoch: 059/100 | Batch 150/392 | Loss: nan\n",
      "Epoch: 059/100 | Batch 200/392 | Loss: nan\n",
      "Epoch: 059/100 | Batch 250/392 | Loss: nan\n",
      "Epoch: 059/100 | Batch 300/392 | Loss: nan\n",
      "Epoch: 059/100 | Batch 350/392 | Loss: nan\n",
      "training accuracy: 61.69%\n",
      "valid accuracy: 62.79%\n",
      "Time elapsed: 36.80 min\n",
      "Epoch: 060/100 | Batch 000/392 | Loss: nan\n",
      "Epoch: 060/100 | Batch 050/392 | Loss: nan\n",
      "Epoch: 060/100 | Batch 100/392 | Loss: nan\n",
      "Epoch: 060/100 | Batch 150/392 | Loss: nan\n",
      "Epoch: 060/100 | Batch 200/392 | Loss: nan\n",
      "Epoch: 060/100 | Batch 250/392 | Loss: nan\n",
      "Epoch: 060/100 | Batch 300/392 | Loss: nan\n",
      "Epoch: 060/100 | Batch 350/392 | Loss: nan\n",
      "training accuracy: 61.69%\n",
      "valid accuracy: 62.79%\n",
      "Time elapsed: 37.39 min\n",
      "Epoch: 061/100 | Batch 000/392 | Loss: nan\n",
      "Epoch: 061/100 | Batch 050/392 | Loss: nan\n",
      "Epoch: 061/100 | Batch 100/392 | Loss: nan\n",
      "Epoch: 061/100 | Batch 150/392 | Loss: nan\n",
      "Epoch: 061/100 | Batch 200/392 | Loss: nan\n",
      "Epoch: 061/100 | Batch 250/392 | Loss: nan\n",
      "Epoch: 061/100 | Batch 300/392 | Loss: nan\n",
      "Epoch: 061/100 | Batch 350/392 | Loss: nan\n",
      "training accuracy: 61.69%\n",
      "valid accuracy: 62.79%\n",
      "Time elapsed: 37.98 min\n",
      "Epoch: 062/100 | Batch 000/392 | Loss: nan\n",
      "Epoch: 062/100 | Batch 050/392 | Loss: nan\n",
      "Epoch: 062/100 | Batch 100/392 | Loss: nan\n",
      "Epoch: 062/100 | Batch 150/392 | Loss: nan\n",
      "Epoch: 062/100 | Batch 200/392 | Loss: nan\n",
      "Epoch: 062/100 | Batch 250/392 | Loss: nan\n",
      "Epoch: 062/100 | Batch 300/392 | Loss: nan\n",
      "Epoch: 062/100 | Batch 350/392 | Loss: nan\n",
      "training accuracy: 61.69%\n",
      "valid accuracy: 62.79%\n",
      "Time elapsed: 38.59 min\n",
      "Epoch: 063/100 | Batch 000/392 | Loss: nan\n",
      "Epoch: 063/100 | Batch 050/392 | Loss: nan\n",
      "Epoch: 063/100 | Batch 100/392 | Loss: nan\n",
      "Epoch: 063/100 | Batch 150/392 | Loss: nan\n",
      "Epoch: 063/100 | Batch 200/392 | Loss: nan\n",
      "Epoch: 063/100 | Batch 250/392 | Loss: nan\n",
      "Epoch: 063/100 | Batch 300/392 | Loss: nan\n",
      "Epoch: 063/100 | Batch 350/392 | Loss: nan\n",
      "training accuracy: 61.69%\n",
      "valid accuracy: 62.79%\n",
      "Time elapsed: 39.21 min\n",
      "Epoch: 064/100 | Batch 000/392 | Loss: nan\n",
      "Epoch: 064/100 | Batch 050/392 | Loss: nan\n",
      "Epoch: 064/100 | Batch 100/392 | Loss: nan\n",
      "Epoch: 064/100 | Batch 150/392 | Loss: nan\n",
      "Epoch: 064/100 | Batch 200/392 | Loss: nan\n",
      "Epoch: 064/100 | Batch 250/392 | Loss: nan\n",
      "Epoch: 064/100 | Batch 300/392 | Loss: nan\n",
      "Epoch: 064/100 | Batch 350/392 | Loss: nan\n",
      "training accuracy: 61.69%\n",
      "valid accuracy: 62.79%\n",
      "Time elapsed: 39.85 min\n",
      "Epoch: 065/100 | Batch 000/392 | Loss: nan\n",
      "Epoch: 065/100 | Batch 050/392 | Loss: nan\n",
      "Epoch: 065/100 | Batch 100/392 | Loss: nan\n",
      "Epoch: 065/100 | Batch 150/392 | Loss: nan\n",
      "Epoch: 065/100 | Batch 200/392 | Loss: nan\n",
      "Epoch: 065/100 | Batch 250/392 | Loss: nan\n",
      "Epoch: 065/100 | Batch 300/392 | Loss: nan\n",
      "Epoch: 065/100 | Batch 350/392 | Loss: nan\n",
      "training accuracy: 61.69%\n",
      "valid accuracy: 62.79%\n",
      "Time elapsed: 40.51 min\n",
      "Epoch: 066/100 | Batch 000/392 | Loss: nan\n",
      "Epoch: 066/100 | Batch 050/392 | Loss: nan\n",
      "Epoch: 066/100 | Batch 100/392 | Loss: nan\n",
      "Epoch: 066/100 | Batch 150/392 | Loss: nan\n",
      "Epoch: 066/100 | Batch 200/392 | Loss: nan\n",
      "Epoch: 066/100 | Batch 250/392 | Loss: nan\n",
      "Epoch: 066/100 | Batch 300/392 | Loss: nan\n",
      "Epoch: 066/100 | Batch 350/392 | Loss: nan\n",
      "training accuracy: 61.69%\n",
      "valid accuracy: 62.79%\n",
      "Time elapsed: 41.17 min\n",
      "Epoch: 067/100 | Batch 000/392 | Loss: nan\n",
      "Epoch: 067/100 | Batch 050/392 | Loss: nan\n",
      "Epoch: 067/100 | Batch 100/392 | Loss: nan\n",
      "Epoch: 067/100 | Batch 150/392 | Loss: nan\n",
      "Epoch: 067/100 | Batch 200/392 | Loss: nan\n",
      "Epoch: 067/100 | Batch 250/392 | Loss: nan\n",
      "Epoch: 067/100 | Batch 300/392 | Loss: nan\n",
      "Epoch: 067/100 | Batch 350/392 | Loss: nan\n",
      "training accuracy: 61.69%\n",
      "valid accuracy: 62.79%\n",
      "Time elapsed: 41.81 min\n",
      "Epoch: 068/100 | Batch 000/392 | Loss: nan\n",
      "Epoch: 068/100 | Batch 050/392 | Loss: nan\n",
      "Epoch: 068/100 | Batch 100/392 | Loss: nan\n",
      "Epoch: 068/100 | Batch 150/392 | Loss: nan\n",
      "Epoch: 068/100 | Batch 200/392 | Loss: nan\n",
      "Epoch: 068/100 | Batch 250/392 | Loss: nan\n",
      "Epoch: 068/100 | Batch 300/392 | Loss: nan\n",
      "Epoch: 068/100 | Batch 350/392 | Loss: nan\n",
      "training accuracy: 61.69%\n",
      "valid accuracy: 62.79%\n",
      "Time elapsed: 42.47 min\n",
      "Epoch: 069/100 | Batch 000/392 | Loss: nan\n",
      "Epoch: 069/100 | Batch 050/392 | Loss: nan\n",
      "Epoch: 069/100 | Batch 100/392 | Loss: nan\n",
      "Epoch: 069/100 | Batch 150/392 | Loss: nan\n",
      "Epoch: 069/100 | Batch 200/392 | Loss: nan\n",
      "Epoch: 069/100 | Batch 250/392 | Loss: nan\n",
      "Epoch: 069/100 | Batch 300/392 | Loss: nan\n",
      "Epoch: 069/100 | Batch 350/392 | Loss: nan\n",
      "training accuracy: 61.69%\n",
      "valid accuracy: 62.79%\n",
      "Time elapsed: 43.12 min\n",
      "Epoch: 070/100 | Batch 000/392 | Loss: nan\n",
      "Epoch: 070/100 | Batch 050/392 | Loss: nan\n",
      "Epoch: 070/100 | Batch 100/392 | Loss: nan\n",
      "Epoch: 070/100 | Batch 150/392 | Loss: nan\n",
      "Epoch: 070/100 | Batch 200/392 | Loss: nan\n",
      "Epoch: 070/100 | Batch 250/392 | Loss: nan\n",
      "Epoch: 070/100 | Batch 300/392 | Loss: nan\n",
      "Epoch: 070/100 | Batch 350/392 | Loss: nan\n",
      "training accuracy: 61.69%\n",
      "valid accuracy: 62.79%\n",
      "Time elapsed: 43.76 min\n",
      "Epoch: 071/100 | Batch 000/392 | Loss: nan\n",
      "Epoch: 071/100 | Batch 050/392 | Loss: nan\n",
      "Epoch: 071/100 | Batch 100/392 | Loss: nan\n",
      "Epoch: 071/100 | Batch 150/392 | Loss: nan\n",
      "Epoch: 071/100 | Batch 200/392 | Loss: nan\n",
      "Epoch: 071/100 | Batch 250/392 | Loss: nan\n",
      "Epoch: 071/100 | Batch 300/392 | Loss: nan\n",
      "Epoch: 071/100 | Batch 350/392 | Loss: nan\n",
      "training accuracy: 61.69%\n",
      "valid accuracy: 62.79%\n",
      "Time elapsed: 44.42 min\n",
      "Epoch: 072/100 | Batch 000/392 | Loss: nan\n",
      "Epoch: 072/100 | Batch 050/392 | Loss: nan\n",
      "Epoch: 072/100 | Batch 100/392 | Loss: nan\n",
      "Epoch: 072/100 | Batch 150/392 | Loss: nan\n",
      "Epoch: 072/100 | Batch 200/392 | Loss: nan\n",
      "Epoch: 072/100 | Batch 250/392 | Loss: nan\n",
      "Epoch: 072/100 | Batch 300/392 | Loss: nan\n",
      "Epoch: 072/100 | Batch 350/392 | Loss: nan\n",
      "training accuracy: 61.69%\n",
      "valid accuracy: 62.79%\n",
      "Time elapsed: 45.07 min\n",
      "Epoch: 073/100 | Batch 000/392 | Loss: nan\n",
      "Epoch: 073/100 | Batch 050/392 | Loss: nan\n",
      "Epoch: 073/100 | Batch 100/392 | Loss: nan\n",
      "Epoch: 073/100 | Batch 150/392 | Loss: nan\n",
      "Epoch: 073/100 | Batch 200/392 | Loss: nan\n",
      "Epoch: 073/100 | Batch 250/392 | Loss: nan\n",
      "Epoch: 073/100 | Batch 300/392 | Loss: nan\n",
      "Epoch: 073/100 | Batch 350/392 | Loss: nan\n",
      "training accuracy: 61.69%\n",
      "valid accuracy: 62.79%\n",
      "Time elapsed: 45.72 min\n",
      "Epoch: 074/100 | Batch 000/392 | Loss: nan\n",
      "Epoch: 074/100 | Batch 050/392 | Loss: nan\n",
      "Epoch: 074/100 | Batch 100/392 | Loss: nan\n",
      "Epoch: 074/100 | Batch 150/392 | Loss: nan\n",
      "Epoch: 074/100 | Batch 200/392 | Loss: nan\n",
      "Epoch: 074/100 | Batch 250/392 | Loss: nan\n",
      "Epoch: 074/100 | Batch 300/392 | Loss: nan\n",
      "Epoch: 074/100 | Batch 350/392 | Loss: nan\n",
      "training accuracy: 61.69%\n",
      "valid accuracy: 62.79%\n",
      "Time elapsed: 46.37 min\n",
      "Epoch: 075/100 | Batch 000/392 | Loss: nan\n",
      "Epoch: 075/100 | Batch 050/392 | Loss: nan\n",
      "Epoch: 075/100 | Batch 100/392 | Loss: nan\n",
      "Epoch: 075/100 | Batch 150/392 | Loss: nan\n",
      "Epoch: 075/100 | Batch 200/392 | Loss: nan\n",
      "Epoch: 075/100 | Batch 250/392 | Loss: nan\n",
      "Epoch: 075/100 | Batch 300/392 | Loss: nan\n",
      "Epoch: 075/100 | Batch 350/392 | Loss: nan\n",
      "training accuracy: 61.69%\n",
      "valid accuracy: 62.79%\n",
      "Time elapsed: 47.02 min\n",
      "Epoch: 076/100 | Batch 000/392 | Loss: nan\n",
      "Epoch: 076/100 | Batch 050/392 | Loss: nan\n",
      "Epoch: 076/100 | Batch 100/392 | Loss: nan\n",
      "Epoch: 076/100 | Batch 150/392 | Loss: nan\n",
      "Epoch: 076/100 | Batch 200/392 | Loss: nan\n",
      "Epoch: 076/100 | Batch 250/392 | Loss: nan\n",
      "Epoch: 076/100 | Batch 300/392 | Loss: nan\n",
      "Epoch: 076/100 | Batch 350/392 | Loss: nan\n",
      "training accuracy: 61.69%\n",
      "valid accuracy: 62.79%\n",
      "Time elapsed: 47.68 min\n",
      "Epoch: 077/100 | Batch 000/392 | Loss: nan\n",
      "Epoch: 077/100 | Batch 050/392 | Loss: nan\n",
      "Epoch: 077/100 | Batch 100/392 | Loss: nan\n",
      "Epoch: 077/100 | Batch 150/392 | Loss: nan\n",
      "Epoch: 077/100 | Batch 200/392 | Loss: nan\n",
      "Epoch: 077/100 | Batch 250/392 | Loss: nan\n",
      "Epoch: 077/100 | Batch 300/392 | Loss: nan\n",
      "Epoch: 077/100 | Batch 350/392 | Loss: nan\n",
      "training accuracy: 61.69%\n",
      "valid accuracy: 62.79%\n",
      "Time elapsed: 48.29 min\n",
      "Epoch: 078/100 | Batch 000/392 | Loss: nan\n",
      "Epoch: 078/100 | Batch 050/392 | Loss: nan\n",
      "Epoch: 078/100 | Batch 100/392 | Loss: nan\n",
      "Epoch: 078/100 | Batch 150/392 | Loss: nan\n",
      "Epoch: 078/100 | Batch 200/392 | Loss: nan\n",
      "Epoch: 078/100 | Batch 250/392 | Loss: nan\n",
      "Epoch: 078/100 | Batch 300/392 | Loss: nan\n",
      "Epoch: 078/100 | Batch 350/392 | Loss: nan\n",
      "training accuracy: 61.69%\n",
      "valid accuracy: 62.79%\n",
      "Time elapsed: 48.89 min\n",
      "Epoch: 079/100 | Batch 000/392 | Loss: nan\n",
      "Epoch: 079/100 | Batch 050/392 | Loss: nan\n",
      "Epoch: 079/100 | Batch 100/392 | Loss: nan\n",
      "Epoch: 079/100 | Batch 150/392 | Loss: nan\n",
      "Epoch: 079/100 | Batch 200/392 | Loss: nan\n",
      "Epoch: 079/100 | Batch 250/392 | Loss: nan\n",
      "Epoch: 079/100 | Batch 300/392 | Loss: nan\n",
      "Epoch: 079/100 | Batch 350/392 | Loss: nan\n",
      "training accuracy: 61.69%\n",
      "valid accuracy: 62.79%\n",
      "Time elapsed: 49.51 min\n",
      "Epoch: 080/100 | Batch 000/392 | Loss: nan\n",
      "Epoch: 080/100 | Batch 050/392 | Loss: nan\n",
      "Epoch: 080/100 | Batch 100/392 | Loss: nan\n",
      "Epoch: 080/100 | Batch 150/392 | Loss: nan\n",
      "Epoch: 080/100 | Batch 200/392 | Loss: nan\n",
      "Epoch: 080/100 | Batch 250/392 | Loss: nan\n",
      "Epoch: 080/100 | Batch 300/392 | Loss: nan\n",
      "Epoch: 080/100 | Batch 350/392 | Loss: nan\n",
      "training accuracy: 61.69%\n",
      "valid accuracy: 62.79%\n",
      "Time elapsed: 50.10 min\n",
      "Epoch: 081/100 | Batch 000/392 | Loss: nan\n",
      "Epoch: 081/100 | Batch 050/392 | Loss: nan\n",
      "Epoch: 081/100 | Batch 100/392 | Loss: nan\n",
      "Epoch: 081/100 | Batch 150/392 | Loss: nan\n",
      "Epoch: 081/100 | Batch 200/392 | Loss: nan\n",
      "Epoch: 081/100 | Batch 250/392 | Loss: nan\n",
      "Epoch: 081/100 | Batch 300/392 | Loss: nan\n",
      "Epoch: 081/100 | Batch 350/392 | Loss: nan\n",
      "training accuracy: 61.69%\n",
      "valid accuracy: 62.79%\n",
      "Time elapsed: 50.74 min\n",
      "Epoch: 082/100 | Batch 000/392 | Loss: nan\n",
      "Epoch: 082/100 | Batch 050/392 | Loss: nan\n",
      "Epoch: 082/100 | Batch 100/392 | Loss: nan\n",
      "Epoch: 082/100 | Batch 150/392 | Loss: nan\n",
      "Epoch: 082/100 | Batch 200/392 | Loss: nan\n",
      "Epoch: 082/100 | Batch 250/392 | Loss: nan\n",
      "Epoch: 082/100 | Batch 300/392 | Loss: nan\n",
      "Epoch: 082/100 | Batch 350/392 | Loss: nan\n",
      "training accuracy: 61.69%\n",
      "valid accuracy: 62.79%\n",
      "Time elapsed: 51.39 min\n",
      "Epoch: 083/100 | Batch 000/392 | Loss: nan\n",
      "Epoch: 083/100 | Batch 050/392 | Loss: nan\n",
      "Epoch: 083/100 | Batch 100/392 | Loss: nan\n",
      "Epoch: 083/100 | Batch 150/392 | Loss: nan\n",
      "Epoch: 083/100 | Batch 200/392 | Loss: nan\n",
      "Epoch: 083/100 | Batch 250/392 | Loss: nan\n",
      "Epoch: 083/100 | Batch 300/392 | Loss: nan\n",
      "Epoch: 083/100 | Batch 350/392 | Loss: nan\n",
      "training accuracy: 61.69%\n",
      "valid accuracy: 62.79%\n",
      "Time elapsed: 52.00 min\n",
      "Epoch: 084/100 | Batch 000/392 | Loss: nan\n",
      "Epoch: 084/100 | Batch 050/392 | Loss: nan\n",
      "Epoch: 084/100 | Batch 100/392 | Loss: nan\n",
      "Epoch: 084/100 | Batch 150/392 | Loss: nan\n",
      "Epoch: 084/100 | Batch 200/392 | Loss: nan\n",
      "Epoch: 084/100 | Batch 250/392 | Loss: nan\n",
      "Epoch: 084/100 | Batch 300/392 | Loss: nan\n",
      "Epoch: 084/100 | Batch 350/392 | Loss: nan\n",
      "training accuracy: 61.69%\n",
      "valid accuracy: 62.79%\n",
      "Time elapsed: 52.62 min\n",
      "Epoch: 085/100 | Batch 000/392 | Loss: nan\n",
      "Epoch: 085/100 | Batch 050/392 | Loss: nan\n",
      "Epoch: 085/100 | Batch 100/392 | Loss: nan\n",
      "Epoch: 085/100 | Batch 150/392 | Loss: nan\n",
      "Epoch: 085/100 | Batch 200/392 | Loss: nan\n",
      "Epoch: 085/100 | Batch 250/392 | Loss: nan\n",
      "Epoch: 085/100 | Batch 300/392 | Loss: nan\n",
      "Epoch: 085/100 | Batch 350/392 | Loss: nan\n",
      "training accuracy: 61.69%\n",
      "valid accuracy: 62.79%\n",
      "Time elapsed: 53.21 min\n",
      "Epoch: 086/100 | Batch 000/392 | Loss: nan\n",
      "Epoch: 086/100 | Batch 050/392 | Loss: nan\n",
      "Epoch: 086/100 | Batch 100/392 | Loss: nan\n",
      "Epoch: 086/100 | Batch 150/392 | Loss: nan\n",
      "Epoch: 086/100 | Batch 200/392 | Loss: nan\n",
      "Epoch: 086/100 | Batch 250/392 | Loss: nan\n",
      "Epoch: 086/100 | Batch 300/392 | Loss: nan\n",
      "Epoch: 086/100 | Batch 350/392 | Loss: nan\n",
      "training accuracy: 61.69%\n",
      "valid accuracy: 62.79%\n",
      "Time elapsed: 53.83 min\n",
      "Epoch: 087/100 | Batch 000/392 | Loss: nan\n",
      "Epoch: 087/100 | Batch 050/392 | Loss: nan\n",
      "Epoch: 087/100 | Batch 100/392 | Loss: nan\n",
      "Epoch: 087/100 | Batch 150/392 | Loss: nan\n",
      "Epoch: 087/100 | Batch 200/392 | Loss: nan\n",
      "Epoch: 087/100 | Batch 250/392 | Loss: nan\n",
      "Epoch: 087/100 | Batch 300/392 | Loss: nan\n",
      "Epoch: 087/100 | Batch 350/392 | Loss: nan\n",
      "training accuracy: 61.69%\n",
      "valid accuracy: 62.79%\n",
      "Time elapsed: 54.46 min\n",
      "Epoch: 088/100 | Batch 000/392 | Loss: nan\n",
      "Epoch: 088/100 | Batch 050/392 | Loss: nan\n",
      "Epoch: 088/100 | Batch 100/392 | Loss: nan\n",
      "Epoch: 088/100 | Batch 150/392 | Loss: nan\n",
      "Epoch: 088/100 | Batch 200/392 | Loss: nan\n",
      "Epoch: 088/100 | Batch 250/392 | Loss: nan\n",
      "Epoch: 088/100 | Batch 300/392 | Loss: nan\n",
      "Epoch: 088/100 | Batch 350/392 | Loss: nan\n",
      "training accuracy: 61.69%\n",
      "valid accuracy: 62.79%\n",
      "Time elapsed: 55.05 min\n",
      "Epoch: 089/100 | Batch 000/392 | Loss: nan\n",
      "Epoch: 089/100 | Batch 050/392 | Loss: nan\n",
      "Epoch: 089/100 | Batch 100/392 | Loss: nan\n",
      "Epoch: 089/100 | Batch 150/392 | Loss: nan\n",
      "Epoch: 089/100 | Batch 200/392 | Loss: nan\n",
      "Epoch: 089/100 | Batch 250/392 | Loss: nan\n",
      "Epoch: 089/100 | Batch 300/392 | Loss: nan\n",
      "Epoch: 089/100 | Batch 350/392 | Loss: nan\n",
      "training accuracy: 61.69%\n",
      "valid accuracy: 62.79%\n",
      "Time elapsed: 55.68 min\n",
      "Epoch: 090/100 | Batch 000/392 | Loss: nan\n",
      "Epoch: 090/100 | Batch 050/392 | Loss: nan\n",
      "Epoch: 090/100 | Batch 100/392 | Loss: nan\n",
      "Epoch: 090/100 | Batch 150/392 | Loss: nan\n",
      "Epoch: 090/100 | Batch 200/392 | Loss: nan\n",
      "Epoch: 090/100 | Batch 250/392 | Loss: nan\n",
      "Epoch: 090/100 | Batch 300/392 | Loss: nan\n",
      "Epoch: 090/100 | Batch 350/392 | Loss: nan\n",
      "training accuracy: 61.69%\n",
      "valid accuracy: 62.79%\n",
      "Time elapsed: 56.26 min\n",
      "Epoch: 091/100 | Batch 000/392 | Loss: nan\n",
      "Epoch: 091/100 | Batch 050/392 | Loss: nan\n",
      "Epoch: 091/100 | Batch 100/392 | Loss: nan\n",
      "Epoch: 091/100 | Batch 150/392 | Loss: nan\n",
      "Epoch: 091/100 | Batch 200/392 | Loss: nan\n",
      "Epoch: 091/100 | Batch 250/392 | Loss: nan\n",
      "Epoch: 091/100 | Batch 300/392 | Loss: nan\n",
      "Epoch: 091/100 | Batch 350/392 | Loss: nan\n",
      "training accuracy: 61.69%\n",
      "valid accuracy: 62.79%\n",
      "Time elapsed: 56.85 min\n",
      "Epoch: 092/100 | Batch 000/392 | Loss: nan\n",
      "Epoch: 092/100 | Batch 050/392 | Loss: nan\n",
      "Epoch: 092/100 | Batch 100/392 | Loss: nan\n",
      "Epoch: 092/100 | Batch 150/392 | Loss: nan\n",
      "Epoch: 092/100 | Batch 200/392 | Loss: nan\n",
      "Epoch: 092/100 | Batch 250/392 | Loss: nan\n",
      "Epoch: 092/100 | Batch 300/392 | Loss: nan\n",
      "Epoch: 092/100 | Batch 350/392 | Loss: nan\n",
      "training accuracy: 61.69%\n",
      "valid accuracy: 62.79%\n",
      "Time elapsed: 57.47 min\n",
      "Epoch: 093/100 | Batch 000/392 | Loss: nan\n",
      "Epoch: 093/100 | Batch 050/392 | Loss: nan\n",
      "Epoch: 093/100 | Batch 100/392 | Loss: nan\n",
      "Epoch: 093/100 | Batch 150/392 | Loss: nan\n",
      "Epoch: 093/100 | Batch 200/392 | Loss: nan\n",
      "Epoch: 093/100 | Batch 250/392 | Loss: nan\n",
      "Epoch: 093/100 | Batch 300/392 | Loss: nan\n",
      "Epoch: 093/100 | Batch 350/392 | Loss: nan\n",
      "training accuracy: 61.69%\n",
      "valid accuracy: 62.79%\n",
      "Time elapsed: 58.07 min\n",
      "Epoch: 094/100 | Batch 000/392 | Loss: nan\n",
      "Epoch: 094/100 | Batch 050/392 | Loss: nan\n",
      "Epoch: 094/100 | Batch 100/392 | Loss: nan\n",
      "Epoch: 094/100 | Batch 150/392 | Loss: nan\n",
      "Epoch: 094/100 | Batch 200/392 | Loss: nan\n",
      "Epoch: 094/100 | Batch 250/392 | Loss: nan\n",
      "Epoch: 094/100 | Batch 300/392 | Loss: nan\n",
      "Epoch: 094/100 | Batch 350/392 | Loss: nan\n",
      "training accuracy: 61.69%\n",
      "valid accuracy: 62.79%\n",
      "Time elapsed: 58.66 min\n",
      "Epoch: 095/100 | Batch 000/392 | Loss: nan\n",
      "Epoch: 095/100 | Batch 050/392 | Loss: nan\n",
      "Epoch: 095/100 | Batch 100/392 | Loss: nan\n",
      "Epoch: 095/100 | Batch 150/392 | Loss: nan\n",
      "Epoch: 095/100 | Batch 200/392 | Loss: nan\n",
      "Epoch: 095/100 | Batch 250/392 | Loss: nan\n",
      "Epoch: 095/100 | Batch 300/392 | Loss: nan\n",
      "Epoch: 095/100 | Batch 350/392 | Loss: nan\n",
      "training accuracy: 61.69%\n",
      "valid accuracy: 62.79%\n",
      "Time elapsed: 59.26 min\n",
      "Epoch: 096/100 | Batch 000/392 | Loss: nan\n",
      "Epoch: 096/100 | Batch 050/392 | Loss: nan\n",
      "Epoch: 096/100 | Batch 100/392 | Loss: nan\n",
      "Epoch: 096/100 | Batch 150/392 | Loss: nan\n",
      "Epoch: 096/100 | Batch 200/392 | Loss: nan\n",
      "Epoch: 096/100 | Batch 250/392 | Loss: nan\n",
      "Epoch: 096/100 | Batch 300/392 | Loss: nan\n",
      "Epoch: 096/100 | Batch 350/392 | Loss: nan\n",
      "training accuracy: 61.69%\n",
      "valid accuracy: 62.79%\n",
      "Time elapsed: 59.86 min\n",
      "Epoch: 097/100 | Batch 000/392 | Loss: nan\n",
      "Epoch: 097/100 | Batch 050/392 | Loss: nan\n",
      "Epoch: 097/100 | Batch 100/392 | Loss: nan\n",
      "Epoch: 097/100 | Batch 150/392 | Loss: nan\n",
      "Epoch: 097/100 | Batch 200/392 | Loss: nan\n",
      "Epoch: 097/100 | Batch 250/392 | Loss: nan\n",
      "Epoch: 097/100 | Batch 300/392 | Loss: nan\n",
      "Epoch: 097/100 | Batch 350/392 | Loss: nan\n",
      "training accuracy: 61.69%\n",
      "valid accuracy: 62.79%\n",
      "Time elapsed: 60.46 min\n",
      "Epoch: 098/100 | Batch 000/392 | Loss: nan\n",
      "Epoch: 098/100 | Batch 050/392 | Loss: nan\n",
      "Epoch: 098/100 | Batch 100/392 | Loss: nan\n",
      "Epoch: 098/100 | Batch 150/392 | Loss: nan\n",
      "Epoch: 098/100 | Batch 200/392 | Loss: nan\n",
      "Epoch: 098/100 | Batch 250/392 | Loss: nan\n",
      "Epoch: 098/100 | Batch 300/392 | Loss: nan\n",
      "Epoch: 098/100 | Batch 350/392 | Loss: nan\n",
      "training accuracy: 61.69%\n",
      "valid accuracy: 62.79%\n",
      "Time elapsed: 61.06 min\n",
      "Epoch: 099/100 | Batch 000/392 | Loss: nan\n",
      "Epoch: 099/100 | Batch 050/392 | Loss: nan\n",
      "Epoch: 099/100 | Batch 100/392 | Loss: nan\n",
      "Epoch: 099/100 | Batch 150/392 | Loss: nan\n",
      "Epoch: 099/100 | Batch 200/392 | Loss: nan\n",
      "Epoch: 099/100 | Batch 250/392 | Loss: nan\n",
      "Epoch: 099/100 | Batch 300/392 | Loss: nan\n",
      "Epoch: 099/100 | Batch 350/392 | Loss: nan\n",
      "training accuracy: 61.69%\n",
      "valid accuracy: 62.79%\n",
      "Time elapsed: 61.65 min\n",
      "Epoch: 100/100 | Batch 000/392 | Loss: nan\n",
      "Epoch: 100/100 | Batch 050/392 | Loss: nan\n",
      "Epoch: 100/100 | Batch 100/392 | Loss: nan\n",
      "Epoch: 100/100 | Batch 150/392 | Loss: nan\n",
      "Epoch: 100/100 | Batch 200/392 | Loss: nan\n",
      "Epoch: 100/100 | Batch 250/392 | Loss: nan\n",
      "Epoch: 100/100 | Batch 300/392 | Loss: nan\n",
      "Epoch: 100/100 | Batch 350/392 | Loss: nan\n",
      "training accuracy: 61.69%\n",
      "valid accuracy: 62.79%\n",
      "Time elapsed: 62.23 min\n",
      "Total Training Time: 62.23 min\n",
      "Test accuracy: 63.09%\n"
     ]
    }
   ],
   "source": [
    "start_time = time.time()\n",
    "\n",
    "train_accuracy = []\n",
    "valid_accuracy = []\n",
    "\n",
    "for epoch in range(NUM_EPOCHS):\n",
    "    model.train()\n",
    "    loss_func = torch.nn.CrossEntropyLoss()\n",
    "    for batch_idx, batch_data in enumerate(train_loader):\n",
    "\n",
    "        text = batch_data.TEXT_COLUMN_NAME.to(DEVICE)\n",
    "        labels = batch_data.LABEL_COLUMN_NAME.to(DEVICE)\n",
    "\n",
    "        ### FORWARD AND BACK PROP\n",
    "        logits = model(text)\n",
    "        loss = loss_func(logits, labels)\n",
    "        optimizer.zero_grad()\n",
    "\n",
    "        loss.backward()\n",
    "\n",
    "        ### UPDATE MODEL PARAMETERS\n",
    "        optimizer.step()\n",
    "\n",
    "        ### LOGGING\n",
    "        if not batch_idx % 50:\n",
    "\n",
    "            print (f'Epoch: {epoch+1:03d}/{NUM_EPOCHS:03d} | '\n",
    "                   f'Batch {batch_idx:03d}/{len(train_loader):03d} | '\n",
    "                   f'Loss: {loss:.4f}')\n",
    "\n",
    "    with torch.set_grad_enabled(False):\n",
    "        train_accuracy.append(float(f'{compute_accuracy(model, train_loader, DEVICE):.2f}'))\n",
    "        valid_accuracy.append(float(f'{compute_accuracy(model, valid_loader, DEVICE):.2f}'))\n",
    "        print(f'training accuracy: '\n",
    "              f'{compute_accuracy(model, train_loader, DEVICE):.2f}%'\n",
    "              f'\\nvalid accuracy: '\n",
    "              f'{compute_accuracy(model, valid_loader, DEVICE):.2f}%')\n",
    "\n",
    "    print(f'Time elapsed: {(time.time() - start_time)/60:.2f} min')\n",
    "\n",
    "print(f'Total Training Time: {(time.time() - start_time)/60:.2f} min')\n",
    "print(f'Test accuracy: {compute_accuracy(model, test_loader, DEVICE):.2f}%')\n"
   ],
   "metadata": {
    "collapsed": false,
    "pycharm": {
     "name": "#%%\n"
    }
   }
  },
  {
   "cell_type": "code",
   "execution_count": 239,
   "outputs": [],
   "source": [
    "\n",
    "\n",
    "nlp = spacy.blank(\"en\")\n",
    "\n",
    "def predict_sentiment(model, sentence):\n",
    "\n",
    "    model.eval()\n",
    "    tokenized = [tok.text for tok in nlp.tokenizer(sentence)]\n",
    "    indexed = [TEXT.vocab.stoi[t] for t in tokenized]\n",
    "    length = [len(indexed)]\n",
    "    tensor = torch.LongTensor(indexed).to(DEVICE)\n",
    "    tensor = tensor.unsqueeze(1)\n",
    "    length_tensor = torch.LongTensor(length)\n",
    "    prediction = torch.nn.functional.softmax(model(tensor), dim=1)\n",
    "    return prediction[0][0].item()"
   ],
   "metadata": {
    "collapsed": false,
    "pycharm": {
     "name": "#%%\n"
    }
   }
  },
  {
   "cell_type": "code",
   "execution_count": 240,
   "outputs": [
    {
     "data": {
      "text/plain": "<Figure size 640x480 with 1 Axes>",
      "image/png": "[encoded data removed]"
     },
     "metadata": {},
     "output_type": "display_data"
    }
   ],
   "source": [
    "plt.plot(train_accuracy, label = 'train')\n",
    "plt.plot(valid_accuracy, label = 'valid')\n",
    "plt.legend()\n",
    "plt.xlabel('Epoch')\n",
    "plt.ylabel('Accuracy')\n",
    "plt.savefig('accuracy.png')"
   ],
   "metadata": {
    "collapsed": false,
    "pycharm": {
     "name": "#%%\n"
    }
   }
  },
  {
   "cell_type": "code",
   "execution_count": 241,
   "outputs": [
    {
     "name": "stdout",
     "output_type": "stream",
     "text": [
      "Probability positive:\n"
     ]
    },
    {
     "data": {
      "text/plain": "nan"
     },
     "execution_count": 241,
     "metadata": {},
     "output_type": "execute_result"
    }
   ],
   "source": [
    "print('Probability positive:')\n",
    "predict_sentiment(model, \"This is such an awesome movie, I really love it!\")\n"
   ],
   "metadata": {
    "collapsed": false,
    "pycharm": {
     "name": "#%%\n"
    }
   }
  },
  {
   "cell_type": "code",
   "execution_count": 242,
   "outputs": [
    {
     "name": "stdout",
     "output_type": "stream",
     "text": [
      "Probability negative:\n"
     ]
    },
    {
     "data": {
      "text/plain": "nan"
     },
     "execution_count": 242,
     "metadata": {},
     "output_type": "execute_result"
    }
   ],
   "source": [
    "print('Probability negative:')\n",
    "1-predict_sentiment(model, \"Whenever I go to a place that doesn’t take Apple Pay (doesn’t happen too often), it’s such a drag. Between ‘contactless Covid’ habits and my getting the Apple Card, I’ve gotten so used to Apple Pay that I get seriously annoyed when a store doesn’t take it. It feels like a shock, it’s crazy how quickly it took over my shopping routine! I’ve officially been brainwashed by Apple because now it feels so inconvenient to even carry a physical card in my pocket\")"
   ],
   "metadata": {
    "collapsed": false,
    "pycharm": {
     "name": "#%%\n"
    }
   }
  },
  {
   "cell_type": "code",
   "execution_count": 243,
   "outputs": [
    {
     "name": "stdout",
     "output_type": "stream",
     "text": [
      "[0 0 0 ... 0 0 0] [1. 0. 1. ... 2. 1. 1.]\n"
     ]
    }
   ],
   "source": [
    "predict_label, real_label= predict_label(model, test_loader, DEVICE)\n",
    "print(predict_label, real_label)"
   ],
   "metadata": {
    "collapsed": false,
    "pycharm": {
     "name": "#%%\n"
    }
   }
  },
  {
   "cell_type": "code",
   "execution_count": 244,
   "outputs": [
    {
     "data": {
      "text/plain": "array([[2323,    0,    0],\n       [ 905,    0,    0],\n       [ 454,    0,    0]], dtype=int64)"
     },
     "execution_count": 244,
     "metadata": {},
     "output_type": "execute_result"
    }
   ],
   "source": [
    "#confuion matrix\n",
    "\n",
    "cf_matrix = confusion_matrix(real_label, predict_label)\n",
    "cf_matrix"
   ],
   "metadata": {
    "collapsed": false,
    "pycharm": {
     "name": "#%%%\n"
    }
   }
  },
  {
   "cell_type": "code",
   "execution_count": 245,
   "outputs": [
    {
     "data": {
      "text/plain": "<Figure size 640x480 with 2 Axes>",
      "image/png": "[encoded data removed]"
     },
     "metadata": {},
     "output_type": "display_data"
    }
   ],
   "source": [
    "ax = sns.heatmap(cf_matrix, annot=True, cmap='Blues', fmt = '.20g')\n",
    "\n",
    "ax.set_title('Seaborn Confusion Matrix with labels\\n\\n');\n",
    "ax.set_xlabel('Predicted Values')\n",
    "ax.set_ylabel('Actual Values ');\n",
    "\n",
    "## Ticket labels - List must be in alphabetical order\n",
    "ax.xaxis.set_ticklabels(['2','1','0'])\n",
    "ax.yaxis.set_ticklabels(['2','1','0'])\n",
    "\n",
    "plt.savefig('confusion_matrix.png')\n",
    "## Display the visualization of the Confusion Matrix.\n",
    "plt.show()"
   ],
   "metadata": {
    "collapsed": false,
    "pycharm": {
     "name": "#%%\n"
    }
   }
  }
 ],
 "metadata": {
  "kernelspec": {
   "display_name": "Python 3",
   "language": "python",
   "name": "python3"
  },
  "language_info": {
   "codemirror_mode": {
    "name": "ipython",
    "version": 2
   },
   "file_extension": ".py",
   "mimetype": "text/x-python",
   "name": "python",
   "nbconvert_exporter": "python",
   "pygments_lexer": "ipython2",
   "version": "2.7.6"
  }
 },
 "nbformat": 4,
 "nbformat_minor": 0
}